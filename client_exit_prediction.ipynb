{
 "cells": [
  {
   "cell_type": "markdown",
   "metadata": {
    "toc": true
   },
   "source": [
    "<h1>Содержание<span class=\"tocSkip\"></span></h1>\n",
    "<div class=\"toc\"><ul class=\"toc-item\"><li><span><a href=\"#Подготовка-данных\" data-toc-modified-id=\"Подготовка-данных-1\"><span class=\"toc-item-num\">1&nbsp;&nbsp;</span>Подготовка данных</a></span><ul class=\"toc-item\"><li><span><a href=\"#Общая-информация\" data-toc-modified-id=\"Общая-информация-1.1\"><span class=\"toc-item-num\">1.1&nbsp;&nbsp;</span>Общая информация</a></span></li><li><span><a href=\"#Прямое-кодирование-признаков\" data-toc-modified-id=\"Прямое-кодирование-признаков-1.2\"><span class=\"toc-item-num\">1.2&nbsp;&nbsp;</span>Прямое кодирование признаков</a></span></li><li><span><a href=\"#Формирование-выборок\" data-toc-modified-id=\"Формирование-выборок-1.3\"><span class=\"toc-item-num\">1.3&nbsp;&nbsp;</span>Формирование выборок</a></span></li><li><span><a href=\"#Стандартизация-данных\" data-toc-modified-id=\"Стандартизация-данных-1.4\"><span class=\"toc-item-num\">1.4&nbsp;&nbsp;</span>Стандартизация данных</a></span></li></ul></li><li><span><a href=\"#Исследование-задачи\" data-toc-modified-id=\"Исследование-задачи-2\"><span class=\"toc-item-num\">2&nbsp;&nbsp;</span>Исследование задачи</a></span><ul class=\"toc-item\"><li><span><a href=\"#Баланс-классов\" data-toc-modified-id=\"Баланс-классов-2.1\"><span class=\"toc-item-num\">2.1&nbsp;&nbsp;</span>Баланс классов</a></span></li><li><span><a href=\"#DecisionTreeClassifier\" data-toc-modified-id=\"DecisionTreeClassifier-2.2\"><span class=\"toc-item-num\">2.2&nbsp;&nbsp;</span>DecisionTreeClassifier</a></span></li><li><span><a href=\"#RandomForestClassifier\" data-toc-modified-id=\"RandomForestClassifier-2.3\"><span class=\"toc-item-num\">2.3&nbsp;&nbsp;</span>RandomForestClassifier</a></span></li><li><span><a href=\"#LogisticRegression\" data-toc-modified-id=\"LogisticRegression-2.4\"><span class=\"toc-item-num\">2.4&nbsp;&nbsp;</span>LogisticRegression</a></span></li></ul></li><li><span><a href=\"#Борьба-с-дисбалансом\" data-toc-modified-id=\"Борьба-с-дисбалансом-3\"><span class=\"toc-item-num\">3&nbsp;&nbsp;</span>Борьба с дисбалансом</a></span><ul class=\"toc-item\"><li><span><a href=\"#Параметр-class_weight-=-'balanced'\" data-toc-modified-id=\"Параметр-class_weight-=-'balanced'-3.1\"><span class=\"toc-item-num\">3.1&nbsp;&nbsp;</span>Параметр class_weight = 'balanced'</a></span></li><li><span><a href=\"#Техника-Upsampling\" data-toc-modified-id=\"Техника-Upsampling-3.2\"><span class=\"toc-item-num\">3.2&nbsp;&nbsp;</span>Техника Upsampling</a></span></li><li><span><a href=\"#Downsampling\" data-toc-modified-id=\"Downsampling-3.3\"><span class=\"toc-item-num\">3.3&nbsp;&nbsp;</span>Downsampling</a></span></li><li><span><a href=\"#Визуализация-AUC-ROC\" data-toc-modified-id=\"Визуализация-AUC-ROC-3.4\"><span class=\"toc-item-num\">3.4&nbsp;&nbsp;</span>Визуализация AUC-ROC</a></span></li></ul></li><li><span><a href=\"#Тестирование-модели\" data-toc-modified-id=\"Тестирование-модели-4\"><span class=\"toc-item-num\">4&nbsp;&nbsp;</span>Тестирование модели</a></span></li><li><span><a href=\"#ВЫВОД\" data-toc-modified-id=\"ВЫВОД-5\"><span class=\"toc-item-num\">5&nbsp;&nbsp;</span>ВЫВОД</a></span></li><li><span><a href=\"#Чек-лист-готовности-проекта\" data-toc-modified-id=\"Чек-лист-готовности-проекта-6\"><span class=\"toc-item-num\">6&nbsp;&nbsp;</span>Чек-лист готовности проекта</a></span></li></ul></div>"
   ]
  },
  {
   "cell_type": "markdown",
   "metadata": {},
   "source": [
    "# Отток клиентов"
   ]
  },
  {
   "cell_type": "markdown",
   "metadata": {},
   "source": [
    "Из «Бета-Банка» стали уходить клиенты. Каждый месяц. Немного, но заметно. Банковские маркетологи посчитали: сохранять текущих клиентов дешевле, чем привлекать новых.\n",
    "\n",
    "Нужно спрогнозировать, уйдёт клиент из банка в ближайшее время или нет. Вам предоставлены исторические данные о поведении клиентов и расторжении договоров с банком. \n",
    "\n",
    "Постройте модель с предельно большим значением *F1*-меры. Чтобы сдать проект успешно, нужно довести метрику до 0.59. Проверьте *F1*-меру на тестовой выборке самостоятельно.\n",
    "\n",
    "Дополнительно измеряйте *AUC-ROC*, сравнивайте её значение с *F1*-мерой.\n",
    "\n",
    "Источник данных: [https://www.kaggle.com/barelydedicated/bank-customer-churn-modeling](https://www.kaggle.com/barelydedicated/bank-customer-churn-modeling)"
   ]
  },
  {
   "cell_type": "markdown",
   "metadata": {},
   "source": [
    "## Подготовка данных"
   ]
  },
  {
   "cell_type": "markdown",
   "metadata": {},
   "source": [
    "### Общая информация"
   ]
  },
  {
   "cell_type": "code",
   "execution_count": 1,
   "metadata": {},
   "outputs": [
    {
     "name": "stdout",
     "output_type": "stream",
     "text": [
      "Requirement already satisfied: scikit-learn==1.1.3 in /opt/conda/lib/python3.9/site-packages (1.1.3)\n",
      "Requirement already satisfied: threadpoolctl>=2.0.0 in /opt/conda/lib/python3.9/site-packages (from scikit-learn==1.1.3) (3.1.0)\n",
      "Requirement already satisfied: numpy>=1.17.3 in /opt/conda/lib/python3.9/site-packages (from scikit-learn==1.1.3) (1.21.1)\n",
      "Requirement already satisfied: scipy>=1.3.2 in /opt/conda/lib/python3.9/site-packages (from scikit-learn==1.1.3) (1.9.1)\n",
      "Requirement already satisfied: joblib>=1.0.0 in /opt/conda/lib/python3.9/site-packages (from scikit-learn==1.1.3) (1.2.0)\n",
      "Requirement already satisfied: fast_ml in /opt/conda/lib/python3.9/site-packages (3.68)\n",
      "Requirement already satisfied: imblearn in /opt/conda/lib/python3.9/site-packages (0.0)\n",
      "Requirement already satisfied: imbalanced-learn in /opt/conda/lib/python3.9/site-packages (from imblearn) (0.10.1)\n",
      "Requirement already satisfied: scipy>=1.3.2 in /opt/conda/lib/python3.9/site-packages (from imbalanced-learn->imblearn) (1.9.1)\n",
      "Requirement already satisfied: numpy>=1.17.3 in /opt/conda/lib/python3.9/site-packages (from imbalanced-learn->imblearn) (1.21.1)\n",
      "Requirement already satisfied: joblib>=1.1.1 in /opt/conda/lib/python3.9/site-packages (from imbalanced-learn->imblearn) (1.2.0)\n",
      "Requirement already satisfied: threadpoolctl>=2.0.0 in /opt/conda/lib/python3.9/site-packages (from imbalanced-learn->imblearn) (3.1.0)\n",
      "Requirement already satisfied: scikit-learn>=1.0.2 in /opt/conda/lib/python3.9/site-packages (from imbalanced-learn->imblearn) (1.1.3)\n"
     ]
    }
   ],
   "source": [
    "import pandas as pd\n",
    "import seaborn as sns\n",
    "import matplotlib.pyplot as plt\n",
    "\n",
    "!pip install scikit-learn==1.1.3\n",
    "from sklearn.preprocessing import OneHotEncoder\n",
    "!pip install fast_ml\n",
    "from fast_ml.model_development import train_valid_test_split\n",
    "from sklearn.preprocessing import StandardScaler\n",
    "!pip install imblearn\n",
    "from imblearn.over_sampling import SMOTE\n",
    "from imblearn.under_sampling import RandomUnderSampler\n",
    "from sklearn.tree import DecisionTreeClassifier\n",
    "from sklearn.ensemble import RandomForestClassifier\n",
    "from sklearn.linear_model import LogisticRegression\n",
    "from sklearn.utils import shuffle\n",
    "from sklearn.metrics import (\n",
    "    accuracy_score,\n",
    "    precision_score,\n",
    "    recall_score,\n",
    "    confusion_matrix, \n",
    "    f1_score,\n",
    "    roc_curve,\n",
    "    mean_squared_error, \n",
    "    roc_auc_score\n",
    ")"
   ]
  },
  {
   "cell_type": "code",
   "execution_count": 2,
   "metadata": {
    "scrolled": true
   },
   "outputs": [
    {
     "data": {
      "text/html": [
       "<div>\n",
       "<style scoped>\n",
       "    .dataframe tbody tr th:only-of-type {\n",
       "        vertical-align: middle;\n",
       "    }\n",
       "\n",
       "    .dataframe tbody tr th {\n",
       "        vertical-align: top;\n",
       "    }\n",
       "\n",
       "    .dataframe thead th {\n",
       "        text-align: right;\n",
       "    }\n",
       "</style>\n",
       "<table border=\"1\" class=\"dataframe\">\n",
       "  <thead>\n",
       "    <tr style=\"text-align: right;\">\n",
       "      <th></th>\n",
       "      <th>RowNumber</th>\n",
       "      <th>CustomerId</th>\n",
       "      <th>Surname</th>\n",
       "      <th>CreditScore</th>\n",
       "      <th>Geography</th>\n",
       "      <th>Gender</th>\n",
       "      <th>Age</th>\n",
       "      <th>Tenure</th>\n",
       "      <th>Balance</th>\n",
       "      <th>NumOfProducts</th>\n",
       "      <th>HasCrCard</th>\n",
       "      <th>IsActiveMember</th>\n",
       "      <th>EstimatedSalary</th>\n",
       "      <th>Exited</th>\n",
       "    </tr>\n",
       "  </thead>\n",
       "  <tbody>\n",
       "    <tr>\n",
       "      <th>0</th>\n",
       "      <td>1</td>\n",
       "      <td>15634602</td>\n",
       "      <td>Hargrave</td>\n",
       "      <td>619</td>\n",
       "      <td>France</td>\n",
       "      <td>Female</td>\n",
       "      <td>42</td>\n",
       "      <td>2.0</td>\n",
       "      <td>0.00</td>\n",
       "      <td>1</td>\n",
       "      <td>1</td>\n",
       "      <td>1</td>\n",
       "      <td>101348.88</td>\n",
       "      <td>1</td>\n",
       "    </tr>\n",
       "    <tr>\n",
       "      <th>1</th>\n",
       "      <td>2</td>\n",
       "      <td>15647311</td>\n",
       "      <td>Hill</td>\n",
       "      <td>608</td>\n",
       "      <td>Spain</td>\n",
       "      <td>Female</td>\n",
       "      <td>41</td>\n",
       "      <td>1.0</td>\n",
       "      <td>83807.86</td>\n",
       "      <td>1</td>\n",
       "      <td>0</td>\n",
       "      <td>1</td>\n",
       "      <td>112542.58</td>\n",
       "      <td>0</td>\n",
       "    </tr>\n",
       "    <tr>\n",
       "      <th>2</th>\n",
       "      <td>3</td>\n",
       "      <td>15619304</td>\n",
       "      <td>Onio</td>\n",
       "      <td>502</td>\n",
       "      <td>France</td>\n",
       "      <td>Female</td>\n",
       "      <td>42</td>\n",
       "      <td>8.0</td>\n",
       "      <td>159660.80</td>\n",
       "      <td>3</td>\n",
       "      <td>1</td>\n",
       "      <td>0</td>\n",
       "      <td>113931.57</td>\n",
       "      <td>1</td>\n",
       "    </tr>\n",
       "    <tr>\n",
       "      <th>3</th>\n",
       "      <td>4</td>\n",
       "      <td>15701354</td>\n",
       "      <td>Boni</td>\n",
       "      <td>699</td>\n",
       "      <td>France</td>\n",
       "      <td>Female</td>\n",
       "      <td>39</td>\n",
       "      <td>1.0</td>\n",
       "      <td>0.00</td>\n",
       "      <td>2</td>\n",
       "      <td>0</td>\n",
       "      <td>0</td>\n",
       "      <td>93826.63</td>\n",
       "      <td>0</td>\n",
       "    </tr>\n",
       "    <tr>\n",
       "      <th>4</th>\n",
       "      <td>5</td>\n",
       "      <td>15737888</td>\n",
       "      <td>Mitchell</td>\n",
       "      <td>850</td>\n",
       "      <td>Spain</td>\n",
       "      <td>Female</td>\n",
       "      <td>43</td>\n",
       "      <td>2.0</td>\n",
       "      <td>125510.82</td>\n",
       "      <td>1</td>\n",
       "      <td>1</td>\n",
       "      <td>1</td>\n",
       "      <td>79084.10</td>\n",
       "      <td>0</td>\n",
       "    </tr>\n",
       "  </tbody>\n",
       "</table>\n",
       "</div>"
      ],
      "text/plain": [
       "   RowNumber  CustomerId   Surname  CreditScore Geography  Gender  Age  \\\n",
       "0          1    15634602  Hargrave          619    France  Female   42   \n",
       "1          2    15647311      Hill          608     Spain  Female   41   \n",
       "2          3    15619304      Onio          502    France  Female   42   \n",
       "3          4    15701354      Boni          699    France  Female   39   \n",
       "4          5    15737888  Mitchell          850     Spain  Female   43   \n",
       "\n",
       "   Tenure    Balance  NumOfProducts  HasCrCard  IsActiveMember  \\\n",
       "0     2.0       0.00              1          1               1   \n",
       "1     1.0   83807.86              1          0               1   \n",
       "2     8.0  159660.80              3          1               0   \n",
       "3     1.0       0.00              2          0               0   \n",
       "4     2.0  125510.82              1          1               1   \n",
       "\n",
       "   EstimatedSalary  Exited  \n",
       "0        101348.88       1  \n",
       "1        112542.58       0  \n",
       "2        113931.57       1  \n",
       "3         93826.63       0  \n",
       "4         79084.10       0  "
      ]
     },
     "execution_count": 2,
     "metadata": {},
     "output_type": "execute_result"
    }
   ],
   "source": [
    "data = pd.read_csv('/datasets/Churn.csv')\n",
    "data.head()"
   ]
  },
  {
   "cell_type": "code",
   "execution_count": 3,
   "metadata": {},
   "outputs": [
    {
     "name": "stdout",
     "output_type": "stream",
     "text": [
      "<class 'pandas.core.frame.DataFrame'>\n",
      "RangeIndex: 10000 entries, 0 to 9999\n",
      "Data columns (total 14 columns):\n",
      " #   Column           Non-Null Count  Dtype  \n",
      "---  ------           --------------  -----  \n",
      " 0   RowNumber        10000 non-null  int64  \n",
      " 1   CustomerId       10000 non-null  int64  \n",
      " 2   Surname          10000 non-null  object \n",
      " 3   CreditScore      10000 non-null  int64  \n",
      " 4   Geography        10000 non-null  object \n",
      " 5   Gender           10000 non-null  object \n",
      " 6   Age              10000 non-null  int64  \n",
      " 7   Tenure           9091 non-null   float64\n",
      " 8   Balance          10000 non-null  float64\n",
      " 9   NumOfProducts    10000 non-null  int64  \n",
      " 10  HasCrCard        10000 non-null  int64  \n",
      " 11  IsActiveMember   10000 non-null  int64  \n",
      " 12  EstimatedSalary  10000 non-null  float64\n",
      " 13  Exited           10000 non-null  int64  \n",
      "dtypes: float64(3), int64(8), object(3)\n",
      "memory usage: 1.1+ MB\n"
     ]
    }
   ],
   "source": [
    "data.info()"
   ]
  },
  {
   "cell_type": "code",
   "execution_count": 4,
   "metadata": {
    "scrolled": true
   },
   "outputs": [
    {
     "data": {
      "image/png": "[encoded data removed]",
      "text/plain": [
       "<Figure size 1080x1440 with 12 Axes>"
      ]
     },
     "metadata": {
      "needs_background": "light"
     },
     "output_type": "display_data"
    }
   ],
   "source": [
    "data.hist(figsize=(15, 20));"
   ]
  },
  {
   "cell_type": "markdown",
   "metadata": {},
   "source": [
    "***Вывод:*** распределения выглядят адекватно, аномалий не обнаружено."
   ]
  },
  {
   "cell_type": "code",
   "execution_count": 5,
   "metadata": {},
   "outputs": [
    {
     "data": {
      "text/plain": [
       "0"
      ]
     },
     "execution_count": 5,
     "metadata": {},
     "output_type": "execute_result"
    }
   ],
   "source": [
    "data.duplicated().sum()"
   ]
  },
  {
   "cell_type": "code",
   "execution_count": 6,
   "metadata": {},
   "outputs": [],
   "source": [
    "data['Tenure'] = data['Tenure'].fillna(data['Tenure'].mean())"
   ]
  },
  {
   "cell_type": "markdown",
   "metadata": {},
   "source": [
    "***Вывод:***  с типами данных все в порядке, пропуски имеются только в столбце \"Tenure\", пропуски заполним медианным значением; явных дубликатов не выялено.\n",
    "\n",
    "Посмотрим коррелицию между фактом ухода клиента (целевой признак) и остальными признаками."
   ]
  },
  {
   "cell_type": "code",
   "execution_count": 7,
   "metadata": {},
   "outputs": [
    {
     "data": {
      "image/png": "[encoded data removed]",
      "text/plain": [
       "<Figure size 720x576 with 2 Axes>"
      ]
     },
     "metadata": {
      "needs_background": "light"
     },
     "output_type": "display_data"
    }
   ],
   "source": [
    "plt.figure(figsize=(10, 8))\n",
    "sns.heatmap(data.corr(), annot=True);"
   ]
  },
  {
   "cell_type": "markdown",
   "metadata": {},
   "source": [
    "***Вывод:*** наблюдается дисбаланс классов по факту ухода клиента из банк, что может помешать моделе правильно определять класс; значимых корреляций мужду целевым признаком и признаками не выявлено."
   ]
  },
  {
   "cell_type": "markdown",
   "metadata": {},
   "source": [
    "Чтобы неперегружать модели при обучении, удалим следующие столбцы из таблицы: 'RowNumber','CustomerId','Surname'. Они не представляют ценности т.к. не могут повлиять на факт ухода клиента из банка."
   ]
  },
  {
   "cell_type": "code",
   "execution_count": 8,
   "metadata": {},
   "outputs": [],
   "source": [
    "data = data.drop(['RowNumber','CustomerId','Surname'], axis=1)"
   ]
  },
  {
   "cell_type": "markdown",
   "metadata": {},
   "source": [
    "### Прямое кодирование признаков"
   ]
  },
  {
   "cell_type": "markdown",
   "metadata": {},
   "source": [
    "Преобразуем категориальные признаки в численные техникой прямого кодирования (One-Hot Encoding)."
   ]
  },
  {
   "cell_type": "markdown",
   "metadata": {},
   "source": [
    "### Формирование выборок"
   ]
  },
  {
   "cell_type": "markdown",
   "metadata": {},
   "source": [
    "Сформируем тренировочную, валидационную и тестовую выбрки."
   ]
  },
  {
   "cell_type": "code",
   "execution_count": 10,
   "metadata": {},
   "outputs": [
    {
     "name": "stdout",
     "output_type": "stream",
     "text": [
      "(7000, 10) (1500, 10) (1500, 10)\n"
     ]
    },
    {
     "data": {
      "text/html": [
       "<div>\n",
       "<style scoped>\n",
       "    .dataframe tbody tr th:only-of-type {\n",
       "        vertical-align: middle;\n",
       "    }\n",
       "\n",
       "    .dataframe tbody tr th {\n",
       "        vertical-align: top;\n",
       "    }\n",
       "\n",
       "    .dataframe thead th {\n",
       "        text-align: right;\n",
       "    }\n",
       "</style>\n",
       "<table border=\"1\" class=\"dataframe\">\n",
       "  <thead>\n",
       "    <tr style=\"text-align: right;\">\n",
       "      <th></th>\n",
       "      <th>CreditScore</th>\n",
       "      <th>Geography</th>\n",
       "      <th>Gender</th>\n",
       "      <th>Age</th>\n",
       "      <th>Tenure</th>\n",
       "      <th>Balance</th>\n",
       "      <th>NumOfProducts</th>\n",
       "      <th>HasCrCard</th>\n",
       "      <th>IsActiveMember</th>\n",
       "      <th>EstimatedSalary</th>\n",
       "    </tr>\n",
       "  </thead>\n",
       "  <tbody>\n",
       "    <tr>\n",
       "      <th>9716</th>\n",
       "      <td>812</td>\n",
       "      <td>Germany</td>\n",
       "      <td>Male</td>\n",
       "      <td>39</td>\n",
       "      <td>5.0</td>\n",
       "      <td>115730.71</td>\n",
       "      <td>3</td>\n",
       "      <td>1</td>\n",
       "      <td>1</td>\n",
       "      <td>185599.34</td>\n",
       "    </tr>\n",
       "    <tr>\n",
       "      <th>224</th>\n",
       "      <td>671</td>\n",
       "      <td>Germany</td>\n",
       "      <td>Male</td>\n",
       "      <td>45</td>\n",
       "      <td>6.0</td>\n",
       "      <td>99564.22</td>\n",
       "      <td>1</td>\n",
       "      <td>1</td>\n",
       "      <td>1</td>\n",
       "      <td>108872.45</td>\n",
       "    </tr>\n",
       "    <tr>\n",
       "      <th>589</th>\n",
       "      <td>519</td>\n",
       "      <td>Spain</td>\n",
       "      <td>Female</td>\n",
       "      <td>47</td>\n",
       "      <td>6.0</td>\n",
       "      <td>157296.02</td>\n",
       "      <td>2</td>\n",
       "      <td>0</td>\n",
       "      <td>0</td>\n",
       "      <td>147278.43</td>\n",
       "    </tr>\n",
       "    <tr>\n",
       "      <th>7507</th>\n",
       "      <td>576</td>\n",
       "      <td>Germany</td>\n",
       "      <td>Male</td>\n",
       "      <td>44</td>\n",
       "      <td>9.0</td>\n",
       "      <td>119530.52</td>\n",
       "      <td>1</td>\n",
       "      <td>1</td>\n",
       "      <td>0</td>\n",
       "      <td>119056.68</td>\n",
       "    </tr>\n",
       "    <tr>\n",
       "      <th>1457</th>\n",
       "      <td>850</td>\n",
       "      <td>France</td>\n",
       "      <td>Male</td>\n",
       "      <td>66</td>\n",
       "      <td>4.0</td>\n",
       "      <td>0.00</td>\n",
       "      <td>2</td>\n",
       "      <td>0</td>\n",
       "      <td>1</td>\n",
       "      <td>64350.80</td>\n",
       "    </tr>\n",
       "  </tbody>\n",
       "</table>\n",
       "</div>"
      ],
      "text/plain": [
       "      CreditScore Geography  Gender  Age  Tenure    Balance  NumOfProducts  \\\n",
       "9716          812   Germany    Male   39     5.0  115730.71              3   \n",
       "224           671   Germany    Male   45     6.0   99564.22              1   \n",
       "589           519     Spain  Female   47     6.0  157296.02              2   \n",
       "7507          576   Germany    Male   44     9.0  119530.52              1   \n",
       "1457          850    France    Male   66     4.0       0.00              2   \n",
       "\n",
       "      HasCrCard  IsActiveMember  EstimatedSalary  \n",
       "9716          1               1        185599.34  \n",
       "224           1               1        108872.45  \n",
       "589           0               0        147278.43  \n",
       "7507          1               0        119056.68  \n",
       "1457          0               1         64350.80  "
      ]
     },
     "execution_count": 10,
     "metadata": {},
     "output_type": "execute_result"
    }
   ],
   "source": [
    "f_train, t_train, f_valid, t_valid, f_test, t_test = train_valid_test_split(data, target='Exited', \n",
    "                                                                            train_size=0.7, valid_size=0.15,\n",
    "                                                                            test_size=0.15, random_state=12345)\n",
    "\n",
    "print(f_train.shape, f_valid.shape, f_test.shape)\n",
    "t_train.shape, t_valid.shape, t_test.shape\n",
    "f_train.head()"
   ]
  },
  {
   "cell_type": "code",
   "execution_count": 11,
   "metadata": {},
   "outputs": [
    {
     "data": {
      "text/html": [
       "<div>\n",
       "<style scoped>\n",
       "    .dataframe tbody tr th:only-of-type {\n",
       "        vertical-align: middle;\n",
       "    }\n",
       "\n",
       "    .dataframe tbody tr th {\n",
       "        vertical-align: top;\n",
       "    }\n",
       "\n",
       "    .dataframe thead th {\n",
       "        text-align: right;\n",
       "    }\n",
       "</style>\n",
       "<table border=\"1\" class=\"dataframe\">\n",
       "  <thead>\n",
       "    <tr style=\"text-align: right;\">\n",
       "      <th></th>\n",
       "      <th>CreditScore</th>\n",
       "      <th>Age</th>\n",
       "      <th>Tenure</th>\n",
       "      <th>Balance</th>\n",
       "      <th>NumOfProducts</th>\n",
       "      <th>HasCrCard</th>\n",
       "      <th>IsActiveMember</th>\n",
       "      <th>EstimatedSalary</th>\n",
       "      <th>Geography_Germany</th>\n",
       "      <th>Geography_Spain</th>\n",
       "      <th>Gender_Male</th>\n",
       "    </tr>\n",
       "  </thead>\n",
       "  <tbody>\n",
       "    <tr>\n",
       "      <th>9716</th>\n",
       "      <td>812</td>\n",
       "      <td>39</td>\n",
       "      <td>5.0</td>\n",
       "      <td>115730.71</td>\n",
       "      <td>3</td>\n",
       "      <td>1</td>\n",
       "      <td>1</td>\n",
       "      <td>185599.34</td>\n",
       "      <td>1.0</td>\n",
       "      <td>0.0</td>\n",
       "      <td>1.0</td>\n",
       "    </tr>\n",
       "    <tr>\n",
       "      <th>224</th>\n",
       "      <td>671</td>\n",
       "      <td>45</td>\n",
       "      <td>6.0</td>\n",
       "      <td>99564.22</td>\n",
       "      <td>1</td>\n",
       "      <td>1</td>\n",
       "      <td>1</td>\n",
       "      <td>108872.45</td>\n",
       "      <td>1.0</td>\n",
       "      <td>0.0</td>\n",
       "      <td>1.0</td>\n",
       "    </tr>\n",
       "    <tr>\n",
       "      <th>589</th>\n",
       "      <td>519</td>\n",
       "      <td>47</td>\n",
       "      <td>6.0</td>\n",
       "      <td>157296.02</td>\n",
       "      <td>2</td>\n",
       "      <td>0</td>\n",
       "      <td>0</td>\n",
       "      <td>147278.43</td>\n",
       "      <td>0.0</td>\n",
       "      <td>1.0</td>\n",
       "      <td>0.0</td>\n",
       "    </tr>\n",
       "    <tr>\n",
       "      <th>7507</th>\n",
       "      <td>576</td>\n",
       "      <td>44</td>\n",
       "      <td>9.0</td>\n",
       "      <td>119530.52</td>\n",
       "      <td>1</td>\n",
       "      <td>1</td>\n",
       "      <td>0</td>\n",
       "      <td>119056.68</td>\n",
       "      <td>1.0</td>\n",
       "      <td>0.0</td>\n",
       "      <td>1.0</td>\n",
       "    </tr>\n",
       "    <tr>\n",
       "      <th>1457</th>\n",
       "      <td>850</td>\n",
       "      <td>66</td>\n",
       "      <td>4.0</td>\n",
       "      <td>0.00</td>\n",
       "      <td>2</td>\n",
       "      <td>0</td>\n",
       "      <td>1</td>\n",
       "      <td>64350.80</td>\n",
       "      <td>0.0</td>\n",
       "      <td>0.0</td>\n",
       "      <td>1.0</td>\n",
       "    </tr>\n",
       "  </tbody>\n",
       "</table>\n",
       "</div>"
      ],
      "text/plain": [
       "      CreditScore  Age  Tenure    Balance  NumOfProducts  HasCrCard  \\\n",
       "9716          812   39     5.0  115730.71              3          1   \n",
       "224           671   45     6.0   99564.22              1          1   \n",
       "589           519   47     6.0  157296.02              2          0   \n",
       "7507          576   44     9.0  119530.52              1          1   \n",
       "1457          850   66     4.0       0.00              2          0   \n",
       "\n",
       "      IsActiveMember  EstimatedSalary  Geography_Germany  Geography_Spain  \\\n",
       "9716               1        185599.34                1.0              0.0   \n",
       "224                1        108872.45                1.0              0.0   \n",
       "589                0        147278.43                0.0              1.0   \n",
       "7507               0        119056.68                1.0              0.0   \n",
       "1457               1         64350.80                0.0              0.0   \n",
       "\n",
       "      Gender_Male  \n",
       "9716          1.0  \n",
       "224           1.0  \n",
       "589           0.0  \n",
       "7507          1.0  \n",
       "1457          1.0  "
      ]
     },
     "execution_count": 11,
     "metadata": {},
     "output_type": "execute_result"
    }
   ],
   "source": [
    "# преобразуем категориальные признаки в численные техникой прямого кодирования\n",
    "encoder = OneHotEncoder(handle_unknown='error', drop='first', sparse=False)\n",
    "\n",
    "ohe_features = ['Geography', 'Gender']\n",
    "\n",
    "encoder.fit(f_train[ohe_features])\n",
    "\n",
    "f_train[\n",
    "    encoder.get_feature_names_out()\n",
    "] = encoder.transform(f_train[ohe_features])\n",
    "\n",
    "# удаляем незакодированные категориальные признаки (изначальные колонки)\n",
    "f_train = f_train.drop(ohe_features, axis=1)\n",
    "f_train.head()"
   ]
  },
  {
   "cell_type": "code",
   "execution_count": 12,
   "metadata": {},
   "outputs": [],
   "source": [
    "# энкодером, который обучен на ТРЕНИРОВОЧНОЙ ВЫБОРКЕ, кодируем валидационнцю и тестовую\n",
    "#валидационная\n",
    "f_valid[\n",
    "    encoder.get_feature_names_out()\n",
    "] = encoder.transform(f_valid[ohe_features])\n",
    "\n",
    "f_valid = f_valid.drop(ohe_features, axis=1)\n",
    "# тестовая\n",
    "f_test[\n",
    "    encoder.get_feature_names_out()\n",
    "] = encoder.transform(f_test[ohe_features])\n",
    "\n",
    "f_test = f_test.drop(ohe_features, axis=1)"
   ]
  },
  {
   "cell_type": "code",
   "execution_count": 13,
   "metadata": {},
   "outputs": [
    {
     "name": "stdout",
     "output_type": "stream",
     "text": [
      "Валидационная выборка:\n"
     ]
    },
    {
     "data": {
      "text/html": [
       "<div>\n",
       "<style scoped>\n",
       "    .dataframe tbody tr th:only-of-type {\n",
       "        vertical-align: middle;\n",
       "    }\n",
       "\n",
       "    .dataframe tbody tr th {\n",
       "        vertical-align: top;\n",
       "    }\n",
       "\n",
       "    .dataframe thead th {\n",
       "        text-align: right;\n",
       "    }\n",
       "</style>\n",
       "<table border=\"1\" class=\"dataframe\">\n",
       "  <thead>\n",
       "    <tr style=\"text-align: right;\">\n",
       "      <th></th>\n",
       "      <th>CreditScore</th>\n",
       "      <th>Age</th>\n",
       "      <th>Tenure</th>\n",
       "      <th>Balance</th>\n",
       "      <th>NumOfProducts</th>\n",
       "      <th>HasCrCard</th>\n",
       "      <th>IsActiveMember</th>\n",
       "      <th>EstimatedSalary</th>\n",
       "      <th>Geography_Germany</th>\n",
       "      <th>Geography_Spain</th>\n",
       "      <th>Gender_Male</th>\n",
       "    </tr>\n",
       "  </thead>\n",
       "  <tbody>\n",
       "    <tr>\n",
       "      <th>9116</th>\n",
       "      <td>562</td>\n",
       "      <td>62</td>\n",
       "      <td>3.00000</td>\n",
       "      <td>0.00</td>\n",
       "      <td>2</td>\n",
       "      <td>1</td>\n",
       "      <td>0</td>\n",
       "      <td>105986.01</td>\n",
       "      <td>0.0</td>\n",
       "      <td>0.0</td>\n",
       "      <td>1.0</td>\n",
       "    </tr>\n",
       "    <tr>\n",
       "      <th>9733</th>\n",
       "      <td>733</td>\n",
       "      <td>64</td>\n",
       "      <td>3.00000</td>\n",
       "      <td>0.00</td>\n",
       "      <td>2</td>\n",
       "      <td>1</td>\n",
       "      <td>1</td>\n",
       "      <td>75272.63</td>\n",
       "      <td>0.0</td>\n",
       "      <td>0.0</td>\n",
       "      <td>1.0</td>\n",
       "    </tr>\n",
       "    <tr>\n",
       "      <th>6662</th>\n",
       "      <td>665</td>\n",
       "      <td>36</td>\n",
       "      <td>1.00000</td>\n",
       "      <td>0.00</td>\n",
       "      <td>2</td>\n",
       "      <td>0</td>\n",
       "      <td>1</td>\n",
       "      <td>121505.61</td>\n",
       "      <td>0.0</td>\n",
       "      <td>0.0</td>\n",
       "      <td>1.0</td>\n",
       "    </tr>\n",
       "    <tr>\n",
       "      <th>7680</th>\n",
       "      <td>808</td>\n",
       "      <td>25</td>\n",
       "      <td>4.99769</td>\n",
       "      <td>0.00</td>\n",
       "      <td>2</td>\n",
       "      <td>0</td>\n",
       "      <td>1</td>\n",
       "      <td>23180.37</td>\n",
       "      <td>0.0</td>\n",
       "      <td>1.0</td>\n",
       "      <td>1.0</td>\n",
       "    </tr>\n",
       "    <tr>\n",
       "      <th>7515</th>\n",
       "      <td>623</td>\n",
       "      <td>35</td>\n",
       "      <td>0.00000</td>\n",
       "      <td>130557.24</td>\n",
       "      <td>1</td>\n",
       "      <td>1</td>\n",
       "      <td>1</td>\n",
       "      <td>47880.71</td>\n",
       "      <td>0.0</td>\n",
       "      <td>0.0</td>\n",
       "      <td>0.0</td>\n",
       "    </tr>\n",
       "  </tbody>\n",
       "</table>\n",
       "</div>"
      ],
      "text/plain": [
       "      CreditScore  Age   Tenure    Balance  NumOfProducts  HasCrCard  \\\n",
       "9116          562   62  3.00000       0.00              2          1   \n",
       "9733          733   64  3.00000       0.00              2          1   \n",
       "6662          665   36  1.00000       0.00              2          0   \n",
       "7680          808   25  4.99769       0.00              2          0   \n",
       "7515          623   35  0.00000  130557.24              1          1   \n",
       "\n",
       "      IsActiveMember  EstimatedSalary  Geography_Germany  Geography_Spain  \\\n",
       "9116               0        105986.01                0.0              0.0   \n",
       "9733               1         75272.63                0.0              0.0   \n",
       "6662               1        121505.61                0.0              0.0   \n",
       "7680               1         23180.37                0.0              1.0   \n",
       "7515               1         47880.71                0.0              0.0   \n",
       "\n",
       "      Gender_Male  \n",
       "9116          1.0  \n",
       "9733          1.0  \n",
       "6662          1.0  \n",
       "7680          1.0  \n",
       "7515          0.0  "
      ]
     },
     "metadata": {},
     "output_type": "display_data"
    },
    {
     "name": "stdout",
     "output_type": "stream",
     "text": [
      "Тестовая выборка:\n"
     ]
    },
    {
     "data": {
      "text/html": [
       "<div>\n",
       "<style scoped>\n",
       "    .dataframe tbody tr th:only-of-type {\n",
       "        vertical-align: middle;\n",
       "    }\n",
       "\n",
       "    .dataframe tbody tr th {\n",
       "        vertical-align: top;\n",
       "    }\n",
       "\n",
       "    .dataframe thead th {\n",
       "        text-align: right;\n",
       "    }\n",
       "</style>\n",
       "<table border=\"1\" class=\"dataframe\">\n",
       "  <thead>\n",
       "    <tr style=\"text-align: right;\">\n",
       "      <th></th>\n",
       "      <th>CreditScore</th>\n",
       "      <th>Age</th>\n",
       "      <th>Tenure</th>\n",
       "      <th>Balance</th>\n",
       "      <th>NumOfProducts</th>\n",
       "      <th>HasCrCard</th>\n",
       "      <th>IsActiveMember</th>\n",
       "      <th>EstimatedSalary</th>\n",
       "      <th>Geography_Germany</th>\n",
       "      <th>Geography_Spain</th>\n",
       "      <th>Gender_Male</th>\n",
       "    </tr>\n",
       "  </thead>\n",
       "  <tbody>\n",
       "    <tr>\n",
       "      <th>8606</th>\n",
       "      <td>807</td>\n",
       "      <td>42</td>\n",
       "      <td>5.0</td>\n",
       "      <td>0.00</td>\n",
       "      <td>2</td>\n",
       "      <td>1</td>\n",
       "      <td>1</td>\n",
       "      <td>74900.90</td>\n",
       "      <td>0.0</td>\n",
       "      <td>1.0</td>\n",
       "      <td>1.0</td>\n",
       "    </tr>\n",
       "    <tr>\n",
       "      <th>8794</th>\n",
       "      <td>706</td>\n",
       "      <td>29</td>\n",
       "      <td>1.0</td>\n",
       "      <td>209490.21</td>\n",
       "      <td>1</td>\n",
       "      <td>1</td>\n",
       "      <td>1</td>\n",
       "      <td>133267.69</td>\n",
       "      <td>0.0</td>\n",
       "      <td>1.0</td>\n",
       "      <td>0.0</td>\n",
       "    </tr>\n",
       "    <tr>\n",
       "      <th>2210</th>\n",
       "      <td>673</td>\n",
       "      <td>34</td>\n",
       "      <td>1.0</td>\n",
       "      <td>127122.79</td>\n",
       "      <td>3</td>\n",
       "      <td>0</td>\n",
       "      <td>1</td>\n",
       "      <td>76703.10</td>\n",
       "      <td>1.0</td>\n",
       "      <td>0.0</td>\n",
       "      <td>0.0</td>\n",
       "    </tr>\n",
       "    <tr>\n",
       "      <th>5237</th>\n",
       "      <td>554</td>\n",
       "      <td>26</td>\n",
       "      <td>8.0</td>\n",
       "      <td>149134.46</td>\n",
       "      <td>1</td>\n",
       "      <td>1</td>\n",
       "      <td>1</td>\n",
       "      <td>177966.24</td>\n",
       "      <td>0.0</td>\n",
       "      <td>1.0</td>\n",
       "      <td>1.0</td>\n",
       "    </tr>\n",
       "    <tr>\n",
       "      <th>5021</th>\n",
       "      <td>638</td>\n",
       "      <td>29</td>\n",
       "      <td>9.0</td>\n",
       "      <td>103417.74</td>\n",
       "      <td>1</td>\n",
       "      <td>1</td>\n",
       "      <td>1</td>\n",
       "      <td>15336.40</td>\n",
       "      <td>0.0</td>\n",
       "      <td>0.0</td>\n",
       "      <td>0.0</td>\n",
       "    </tr>\n",
       "  </tbody>\n",
       "</table>\n",
       "</div>"
      ],
      "text/plain": [
       "      CreditScore  Age  Tenure    Balance  NumOfProducts  HasCrCard  \\\n",
       "8606          807   42     5.0       0.00              2          1   \n",
       "8794          706   29     1.0  209490.21              1          1   \n",
       "2210          673   34     1.0  127122.79              3          0   \n",
       "5237          554   26     8.0  149134.46              1          1   \n",
       "5021          638   29     9.0  103417.74              1          1   \n",
       "\n",
       "      IsActiveMember  EstimatedSalary  Geography_Germany  Geography_Spain  \\\n",
       "8606               1         74900.90                0.0              1.0   \n",
       "8794               1        133267.69                0.0              1.0   \n",
       "2210               1         76703.10                1.0              0.0   \n",
       "5237               1        177966.24                0.0              1.0   \n",
       "5021               1         15336.40                0.0              0.0   \n",
       "\n",
       "      Gender_Male  \n",
       "8606          1.0  \n",
       "8794          0.0  \n",
       "2210          0.0  \n",
       "5237          1.0  \n",
       "5021          0.0  "
      ]
     },
     "execution_count": 13,
     "metadata": {},
     "output_type": "execute_result"
    }
   ],
   "source": [
    "print('Валидационная выборка:')\n",
    "display(f_valid.head())\n",
    "print('Тестовая выборка:')\n",
    "f_test.head()"
   ]
  },
  {
   "cell_type": "markdown",
   "metadata": {},
   "source": [
    "### Стандартизация данных"
   ]
  },
  {
   "cell_type": "markdown",
   "metadata": {},
   "source": [
    "Масштабируем численные признаки."
   ]
  },
  {
   "cell_type": "code",
   "execution_count": 14,
   "metadata": {
    "scrolled": true
   },
   "outputs": [
    {
     "data": {
      "text/html": [
       "<div>\n",
       "<style scoped>\n",
       "    .dataframe tbody tr th:only-of-type {\n",
       "        vertical-align: middle;\n",
       "    }\n",
       "\n",
       "    .dataframe tbody tr th {\n",
       "        vertical-align: top;\n",
       "    }\n",
       "\n",
       "    .dataframe thead th {\n",
       "        text-align: right;\n",
       "    }\n",
       "</style>\n",
       "<table border=\"1\" class=\"dataframe\">\n",
       "  <thead>\n",
       "    <tr style=\"text-align: right;\">\n",
       "      <th></th>\n",
       "      <th>CreditScore</th>\n",
       "      <th>Age</th>\n",
       "      <th>Tenure</th>\n",
       "      <th>Balance</th>\n",
       "      <th>NumOfProducts</th>\n",
       "      <th>HasCrCard</th>\n",
       "      <th>IsActiveMember</th>\n",
       "      <th>EstimatedSalary</th>\n",
       "      <th>Geography_Germany</th>\n",
       "      <th>Geography_Spain</th>\n",
       "      <th>Gender_Male</th>\n",
       "    </tr>\n",
       "  </thead>\n",
       "  <tbody>\n",
       "    <tr>\n",
       "      <th>9716</th>\n",
       "      <td>1.658077</td>\n",
       "      <td>0.012853</td>\n",
       "      <td>-0.011330</td>\n",
       "      <td>0.635477</td>\n",
       "      <td>2.527132</td>\n",
       "      <td>1</td>\n",
       "      <td>1</td>\n",
       "      <td>1.480907</td>\n",
       "      <td>1.0</td>\n",
       "      <td>0.0</td>\n",
       "      <td>1.0</td>\n",
       "    </tr>\n",
       "    <tr>\n",
       "      <th>224</th>\n",
       "      <td>0.198643</td>\n",
       "      <td>0.584111</td>\n",
       "      <td>0.353338</td>\n",
       "      <td>0.375870</td>\n",
       "      <td>-0.895510</td>\n",
       "      <td>1</td>\n",
       "      <td>1</td>\n",
       "      <td>0.153167</td>\n",
       "      <td>1.0</td>\n",
       "      <td>0.0</td>\n",
       "      <td>1.0</td>\n",
       "    </tr>\n",
       "    <tr>\n",
       "      <th>589</th>\n",
       "      <td>-1.374648</td>\n",
       "      <td>0.774530</td>\n",
       "      <td>0.353338</td>\n",
       "      <td>1.302947</td>\n",
       "      <td>0.815811</td>\n",
       "      <td>0</td>\n",
       "      <td>0</td>\n",
       "      <td>0.817773</td>\n",
       "      <td>0.0</td>\n",
       "      <td>1.0</td>\n",
       "      <td>0.0</td>\n",
       "    </tr>\n",
       "    <tr>\n",
       "      <th>7507</th>\n",
       "      <td>-0.784664</td>\n",
       "      <td>0.488901</td>\n",
       "      <td>1.447344</td>\n",
       "      <td>0.696496</td>\n",
       "      <td>-0.895510</td>\n",
       "      <td>1</td>\n",
       "      <td>0</td>\n",
       "      <td>0.329403</td>\n",
       "      <td>1.0</td>\n",
       "      <td>0.0</td>\n",
       "      <td>1.0</td>\n",
       "    </tr>\n",
       "    <tr>\n",
       "      <th>1457</th>\n",
       "      <td>2.051400</td>\n",
       "      <td>2.583513</td>\n",
       "      <td>-0.375999</td>\n",
       "      <td>-1.222967</td>\n",
       "      <td>0.815811</td>\n",
       "      <td>0</td>\n",
       "      <td>1</td>\n",
       "      <td>-0.617269</td>\n",
       "      <td>0.0</td>\n",
       "      <td>0.0</td>\n",
       "      <td>1.0</td>\n",
       "    </tr>\n",
       "  </tbody>\n",
       "</table>\n",
       "</div>"
      ],
      "text/plain": [
       "      CreditScore       Age    Tenure   Balance  NumOfProducts  HasCrCard  \\\n",
       "9716     1.658077  0.012853 -0.011330  0.635477       2.527132          1   \n",
       "224      0.198643  0.584111  0.353338  0.375870      -0.895510          1   \n",
       "589     -1.374648  0.774530  0.353338  1.302947       0.815811          0   \n",
       "7507    -0.784664  0.488901  1.447344  0.696496      -0.895510          1   \n",
       "1457     2.051400  2.583513 -0.375999 -1.222967       0.815811          0   \n",
       "\n",
       "      IsActiveMember  EstimatedSalary  Geography_Germany  Geography_Spain  \\\n",
       "9716               1         1.480907                1.0              0.0   \n",
       "224                1         0.153167                1.0              0.0   \n",
       "589                0         0.817773                0.0              1.0   \n",
       "7507               0         0.329403                1.0              0.0   \n",
       "1457               1        -0.617269                0.0              0.0   \n",
       "\n",
       "      Gender_Male  \n",
       "9716          1.0  \n",
       "224           1.0  \n",
       "589           0.0  \n",
       "7507          1.0  \n",
       "1457          1.0  "
      ]
     },
     "execution_count": 14,
     "metadata": {},
     "output_type": "execute_result"
    }
   ],
   "source": [
    "numeric = ['CreditScore', 'Age', 'Tenure', 'Balance', 'NumOfProducts', 'EstimatedSalary']\n",
    "scaler = StandardScaler()\n",
    "\n",
    "f_train[numeric] = scaler.fit_transform(f_train[numeric])\n",
    "f_valid[numeric] = scaler.fit_transform(f_valid[numeric])\n",
    "f_test[numeric]  = scaler.fit_transform(f_test[numeric])\n",
    "\n",
    "f_train.head()"
   ]
  },
  {
   "cell_type": "markdown",
   "metadata": {},
   "source": [
    "**ВЫВОД**\n",
    "\n",
    "- распределения выглядят адекватно, аномалий не обнаружено\n",
    "- были выялены пропуски в столбце \"Tenure\", пропуски заполнены медианой\n",
    "- явных дубликатов не выялено\n",
    "- наблюдается дисбаланс классов по факту ухода клиента из банка\n",
    "- значимых корреляций мужду целевым признаком и признаками не выявлено\n",
    "- были удалены столбцы: 'RowNumber','CustomerId','Surname'\n",
    "- были сформированы выборки\n",
    "- выполнено преобразование категориальных признаков в численные\n",
    "- выполнена стандартизация данных\n",
    "\n",
    "\n",
    "Данные подготовлены к дальнейшей работе."
   ]
  },
  {
   "cell_type": "markdown",
   "metadata": {},
   "source": [
    "## Исследование задачи"
   ]
  },
  {
   "cell_type": "markdown",
   "metadata": {},
   "source": [
    "В данном разделе исследуем баланс классов и обучим модели ***без учёта дисбаланса***. Для обучения были выбраны следующие модели:\n",
    "- Решающее дерево\n",
    "- Случайный лес\n",
    "- Логистическая регрессия\n",
    "\n",
    "Обучим каждую модель с перебором одного гиперпараметра; найдем гиперпараметр, при котором будет наибольшая f1-метрика.  \n",
    "\n",
    "Далее посмотрим метрики, которые требуются по заданию :  f1-метрика и auc-roc; также посмотрим значения precision, recall и accuracy.  \n",
    "\n",
    "Метрика recall наиболее нам интересна и показательна т.к. для бизнес задачи важно максимально полно детектировать клиентов, которые хотят прекратить обслуживание."
   ]
  },
  {
   "cell_type": "markdown",
   "metadata": {},
   "source": [
    "### Баланс классов"
   ]
  },
  {
   "cell_type": "markdown",
   "metadata": {},
   "source": [
    "Посмотрим еще рас на баланс классов по факту ухода клиента из банка."
   ]
  },
  {
   "cell_type": "code",
   "execution_count": 15,
   "metadata": {},
   "outputs": [
    {
     "data": {
      "image/png": "[encoded data removed]",
      "text/plain": [
       "<Figure size 720x432 with 1 Axes>"
      ]
     },
     "metadata": {
      "needs_background": "light"
     },
     "output_type": "display_data"
    }
   ],
   "source": [
    "(\n",
    "    data['Exited'].value_counts()\n",
    "               .plot(kind='bar', grid=True,figsize=(10,6),\n",
    "                     title='Баланс классов по факту ухода клиента из банка')\n",
    ");"
   ]
  },
  {
   "cell_type": "markdown",
   "metadata": {},
   "source": [
    "***Вывод:*** наблюдается дисбаланс классов в пользу оставшихся клиентов, что может привести к ошибочным прогнозам модели в пользу более весомого класса."
   ]
  },
  {
   "cell_type": "markdown",
   "metadata": {},
   "source": [
    "### DecisionTreeClassifier"
   ]
  },
  {
   "cell_type": "code",
   "execution_count": 16,
   "metadata": {},
   "outputs": [
    {
     "name": "stdout",
     "output_type": "stream",
     "text": [
      "Max depth 7 F1-score 0.5578512396694214\n"
     ]
    }
   ],
   "source": [
    "f1_best = 0\n",
    "depth_best = 0\n",
    "\n",
    "for depth in range(7, 11):\n",
    "    model = DecisionTreeClassifier(random_state=12345, max_depth=depth)\n",
    "    model.fit(f_train, t_train)\n",
    "    prediction = model.predict(f_valid)\n",
    "    f1 = f1_score(t_valid, prediction)\n",
    "    if f1>f1_best:\n",
    "            f1_best=f1\n",
    "            depth_best=depth\n",
    "print('Max depth', depth_best,'F1-score', f1_best)"
   ]
  },
  {
   "cell_type": "code",
   "execution_count": 17,
   "metadata": {},
   "outputs": [
    {
     "name": "stdout",
     "output_type": "stream",
     "text": [
      "\n",
      "Accuracy : 0.8573333333333333\n",
      "Precision : 0.7627118644067796\n",
      "Recall : 0.43973941368078173\n",
      "F1 : 0.5578512396694214\n",
      "AUC-ROC:  0.815121323900822\n"
     ]
    }
   ],
   "source": [
    "model = DecisionTreeClassifier(random_state=12345, max_depth=7)\n",
    "model.fit(f_train, t_train)\n",
    "predictions = model.predict(f_valid)\n",
    "probabilities_valid = model.predict_proba(f_valid)[:, 1]\n",
    "\n",
    "print('')\n",
    "print('Accuracy :', accuracy_score(t_valid, predictions))\n",
    "print('Precision :', precision_score(t_valid, predictions))\n",
    "print('Recall :', recall_score(t_valid, predictions))\n",
    "print('F1 :', f1_score(t_valid, predictions))\n",
    "print(\"AUC-ROC: \", roc_auc_score(t_valid, probabilities_valid))"
   ]
  },
  {
   "cell_type": "markdown",
   "metadata": {},
   "source": [
    "### RandomForestClassifier"
   ]
  },
  {
   "cell_type": "code",
   "execution_count": 18,
   "metadata": {},
   "outputs": [
    {
     "name": "stdout",
     "output_type": "stream",
     "text": [
      "n_estimators = 61 Max depth 10 F1-score 0.5911949685534591\n"
     ]
    }
   ],
   "source": [
    "f1_best = 0\n",
    "estim_best = 0\n",
    "depth_best = 0\n",
    "\n",
    "for estim in range (60, 63):\n",
    "    for depth in range(10, 12):\n",
    "        model = RandomForestClassifier(n_estimators=estim, max_depth=depth, random_state=12345)\n",
    "        model.fit(f_train, t_train)\n",
    "        prediction = model.predict(f_valid)\n",
    "        f1 = f1_score(t_valid, prediction)\n",
    "        if f1 > f1_best:\n",
    "            f1_best = f1\n",
    "            estim_best = estim\n",
    "            depth_best = depth\n",
    "        \n",
    "\n",
    "print('n_estimators =', estim_best, 'Max depth', depth_best, 'F1-score', f1_best)"
   ]
  },
  {
   "cell_type": "code",
   "execution_count": 19,
   "metadata": {},
   "outputs": [
    {
     "name": "stdout",
     "output_type": "stream",
     "text": [
      "\n",
      "Accuracy : 0.87\n",
      "Precision : 0.8294117647058824\n",
      "Recall : 0.4592833876221498\n",
      "F1 : 0.5911949685534591\n",
      "AUC-ROC:  0.856352610641336\n"
     ]
    }
   ],
   "source": [
    "model = RandomForestClassifier(random_state=12345, max_depth=10, n_estimators=61)\n",
    "model.fit(f_train, t_train)\n",
    "predictions = model.predict(f_valid)\n",
    "probabilities_valid = model.predict_proba(f_valid)[:, 1]\n",
    "\n",
    "print('')\n",
    "print('Accuracy :', accuracy_score(t_valid, predictions))\n",
    "print('Precision :', precision_score(t_valid, predictions))\n",
    "print('Recall :', recall_score(t_valid, predictions))\n",
    "print('F1 :', f1_score(t_valid, predictions))\n",
    "print(\"AUC-ROC: \", roc_auc_score(t_valid, probabilities_valid))"
   ]
  },
  {
   "cell_type": "markdown",
   "metadata": {},
   "source": [
    "### LogisticRegression"
   ]
  },
  {
   "cell_type": "code",
   "execution_count": 20,
   "metadata": {},
   "outputs": [
    {
     "name": "stdout",
     "output_type": "stream",
     "text": [
      "\n",
      "Accuracy : 0.808\n",
      "Precision : 0.5855855855855856\n",
      "Recall : 0.21172638436482086\n",
      "F1 : 0.31100478468899523\n",
      "AUC-ROC:  0.7760006116024256\n"
     ]
    }
   ],
   "source": [
    "model = LogisticRegression(random_state=12345) \n",
    "model.fit(f_train, t_train)\n",
    "predictions = model.predict(f_valid)\n",
    "probabilities_valid = model.predict_proba(f_valid)[:, 1]\n",
    "\n",
    "print('')\n",
    "print('Accuracy :', accuracy_score(t_valid, predictions))\n",
    "print('Precision :', precision_score(t_valid, predictions))\n",
    "print('Recall :', recall_score(t_valid, predictions))\n",
    "print('F1 :', f1_score(t_valid, predictions))\n",
    "print(\"AUC-ROC: \", roc_auc_score(t_valid, probabilities_valid))"
   ]
  },
  {
   "cell_type": "markdown",
   "metadata": {},
   "source": [
    "**ВЫВОД:**\n",
    "\n",
    "Для всех моделей наблюдаем, что значение *recall* меньше *precision*; поэтому получаем небольшое значение *f1-меры.*"
   ]
  },
  {
   "cell_type": "markdown",
   "metadata": {},
   "source": [
    "## Борьба с дисбалансом"
   ]
  },
  {
   "cell_type": "markdown",
   "metadata": {},
   "source": [
    "Обучим модели ***с учетом баланса классов*** и посмотрим как изменились метрики. Рассмотрим несколько способов борьбы с дисбалансом:\n",
    "- добавим параметр *class_weight = 'balanced'* в модели\n",
    "- техника *Upsampling*\n",
    "- техника *Downsampling*"
   ]
  },
  {
   "cell_type": "markdown",
   "metadata": {},
   "source": [
    "### Параметр class_weight = 'balanced'"
   ]
  },
  {
   "cell_type": "markdown",
   "metadata": {},
   "source": [
    "*Модель решающего дерева*"
   ]
  },
  {
   "cell_type": "code",
   "execution_count": 21,
   "metadata": {},
   "outputs": [
    {
     "name": "stdout",
     "output_type": "stream",
     "text": [
      "Max depth 8 F1-score 0.5513654096228867\n"
     ]
    }
   ],
   "source": [
    "#поиск гиперпараметров с учетом баланса классов\n",
    "f1_best = 0\n",
    "depth_best = 0\n",
    "\n",
    "for depth in range(7, 11):\n",
    "    model = DecisionTreeClassifier(random_state=12345, max_depth=depth, class_weight='balanced')\n",
    "    model.fit(f_train, t_train)\n",
    "    prediction = model.predict(f_valid)\n",
    "    f1 = f1_score(t_valid, prediction)\n",
    "    if f1>f1_best:\n",
    "            f1_best=f1\n",
    "            depth_best=depth\n",
    "print('Max depth', depth_best,'F1-score', f1_best)"
   ]
  },
  {
   "cell_type": "code",
   "execution_count": 22,
   "metadata": {},
   "outputs": [
    {
     "name": "stdout",
     "output_type": "stream",
     "text": [
      "\n",
      "Accuracy : 0.77\n",
      "Precision : 0.4588744588744589\n",
      "Recall : 0.6905537459283387\n",
      "F1 : 0.5513654096228867\n",
      "AUC-ROC:  0.7803637396211888\n"
     ]
    }
   ],
   "source": [
    "#модель решающего дерева с учетом баласном классов и оптимальной глубиной\n",
    "model = DecisionTreeClassifier(random_state=12345, max_depth=8, class_weight='balanced')\n",
    "model.fit(f_train, t_train)\n",
    "predictions = model.predict(f_valid)\n",
    "probabilities_valid = model.predict_proba(f_valid)[:, 1]\n",
    "\n",
    "print('')\n",
    "print('Accuracy :', accuracy_score(t_valid, predictions))\n",
    "print('Precision :', precision_score(t_valid, predictions))\n",
    "print('Recall :', recall_score(t_valid, predictions))\n",
    "print('F1 :', f1_score(t_valid, predictions))\n",
    "print(\"AUC-ROC: \", roc_auc_score(t_valid, probabilities_valid))\n",
    "fpr_tree, tpr_tree, thresholds = roc_curve(t_valid, probabilities_valid) #заготовка для визуализации roc_curve"
   ]
  },
  {
   "cell_type": "markdown",
   "metadata": {},
   "source": [
    "*Модель случайного леса*"
   ]
  },
  {
   "cell_type": "code",
   "execution_count": 23,
   "metadata": {},
   "outputs": [
    {
     "name": "stdout",
     "output_type": "stream",
     "text": [
      "n_estimators = 61 Max depth 10 F1-score 0.6268174474959614\n"
     ]
    }
   ],
   "source": [
    "f1_best = 0\n",
    "estim_best = 0\n",
    "depth_best = 0\n",
    "\n",
    "for estim in range (60, 63):\n",
    "    for depth in range(10, 12):\n",
    "        model = RandomForestClassifier(n_estimators=estim, max_depth=depth, random_state=12345, class_weight='balanced')\n",
    "        model.fit(f_train, t_train)\n",
    "        prediction = model.predict(f_valid)\n",
    "        f1 = f1_score(t_valid, prediction)\n",
    "        if f1 > f1_best:\n",
    "            f1_best = f1\n",
    "            estim_best = estim\n",
    "            depth_best = depth\n",
    "        \n",
    "\n",
    "print('n_estimators =', estim_best, 'Max depth', depth_best, 'F1-score', f1_best)"
   ]
  },
  {
   "cell_type": "code",
   "execution_count": 24,
   "metadata": {},
   "outputs": [
    {
     "name": "stdout",
     "output_type": "stream",
     "text": [
      "\n",
      "Accuracy : 0.846\n",
      "Precision : 0.6217948717948718\n",
      "Recall : 0.6319218241042345\n",
      "F1 : 0.6268174474959614\n",
      "AUC-ROC:  0.859574444847932\n"
     ]
    }
   ],
   "source": [
    "model = RandomForestClassifier(random_state=12345, max_depth=10, n_estimators=61, class_weight='balanced')\n",
    "model.fit(f_train, t_train)\n",
    "predictions = model.predict(f_valid)\n",
    "probabilities_valid = model.predict_proba(f_valid)[:, 1]\n",
    "\n",
    "print('')\n",
    "print('Accuracy :', accuracy_score(t_valid, predictions))\n",
    "print('Precision :', precision_score(t_valid, predictions))\n",
    "print('Recall :', recall_score(t_valid, predictions))\n",
    "print('F1 :', f1_score(t_valid, predictions))\n",
    "print(\"AUC-ROC: \", roc_auc_score(t_valid, probabilities_valid))\n",
    "fpr_forest, tpr_forest, thresholds = roc_curve(t_valid, probabilities_valid)"
   ]
  },
  {
   "cell_type": "markdown",
   "metadata": {},
   "source": [
    "*Модель логистической регрессии*"
   ]
  },
  {
   "cell_type": "code",
   "execution_count": 25,
   "metadata": {},
   "outputs": [
    {
     "name": "stdout",
     "output_type": "stream",
     "text": [
      "\n",
      "Accuracy : 0.7133333333333334\n",
      "Precision : 0.3915343915343915\n",
      "Recall : 0.7231270358306189\n",
      "F1 : 0.5080091533180777\n",
      "AUC-ROC:  0.7801480405514251\n"
     ]
    }
   ],
   "source": [
    "model = LogisticRegression(random_state=12345, solver='lbfgs', max_iter=100, class_weight='balanced') \n",
    "model.fit(f_train, t_train)\n",
    "predictions = model.predict(f_valid)\n",
    "probabilities_valid = model.predict_proba(f_valid)[:, 1]\n",
    "\n",
    "print('')\n",
    "print('Accuracy :', accuracy_score(t_valid, predictions))\n",
    "print('Precision :', precision_score(t_valid, predictions))\n",
    "print('Recall :', recall_score(t_valid, predictions))\n",
    "print('F1 :', f1_score(t_valid, predictions))\n",
    "print(\"AUC-ROC: \", roc_auc_score(t_valid, probabilities_valid))\n",
    "fpr_log, tpr_log, thresholds = roc_curve(t_valid, probabilities_valid)"
   ]
  },
  {
   "cell_type": "markdown",
   "metadata": {},
   "source": [
    "**ВЫВОД:**  Самая лучшая модель - ***RandomForestClassifier(random_state=12345, max_depth=10, n_estimators=61, class_weight='balanced'), f1 = 0.62, recall = 0.63.***"
   ]
  },
  {
   "cell_type": "markdown",
   "metadata": {},
   "source": [
    "### Техника Upsampling"
   ]
  },
  {
   "cell_type": "markdown",
   "metadata": {},
   "source": [
    "Техника *upsampling* делает объекты редкого класса не такими редкими в данных."
   ]
  },
  {
   "cell_type": "code",
   "execution_count": 27,
   "metadata": {},
   "outputs": [],
   "source": [
    "oversample = SMOTE(random_state=12345)\n",
    "\n",
    "f_train_up, t_train_up = oversample.fit_resample(f_train, t_train)"
   ]
  },
  {
   "cell_type": "markdown",
   "metadata": {},
   "source": [
    "Обучим модели на новых данных и посмотрим как изменяться метрики."
   ]
  },
  {
   "cell_type": "code",
   "execution_count": 28,
   "metadata": {},
   "outputs": [
    {
     "name": "stdout",
     "output_type": "stream",
     "text": [
      "Max depth 7 F1-score 0.5643835616438356\n"
     ]
    }
   ],
   "source": [
    "#поиск гиперпараметров на новых данных\n",
    "f1_best = 0\n",
    "depth_best = 0\n",
    "\n",
    "for depth in range(7, 11):\n",
    "    model = DecisionTreeClassifier(random_state=12345, max_depth=depth)\n",
    "    model.fit(f_train_up, t_train_up)\n",
    "    prediction = model.predict(f_valid)\n",
    "    f1 = f1_score(t_valid, prediction)\n",
    "    if f1>f1_best:\n",
    "            f1_best=f1\n",
    "            depth_best=depth\n",
    "print('Max depth', depth_best,'F1-score', f1_best)"
   ]
  },
  {
   "cell_type": "code",
   "execution_count": 29,
   "metadata": {},
   "outputs": [
    {
     "name": "stdout",
     "output_type": "stream",
     "text": [
      "\n",
      "Accuracy : 0.788\n",
      "Precision : 0.48699763593380613\n",
      "Recall : 0.6710097719869706\n",
      "F1 : 0.5643835616438356\n",
      "AUC-ROC:  0.8002845043426502\n"
     ]
    }
   ],
   "source": [
    "model = DecisionTreeClassifier(random_state=12345, max_depth=7)\n",
    "\n",
    "model.fit(f_train_up, t_train_up)\n",
    "predictions = model.predict(f_valid)\n",
    "probabilities_valid = model.predict_proba(f_valid)[:, 1]\n",
    "\n",
    "print('')\n",
    "print('Accuracy :', accuracy_score(t_valid, predictions))\n",
    "print('Precision :', precision_score(t_valid, predictions))\n",
    "print('Recall :', recall_score(t_valid, predictions))\n",
    "print('F1 :', f1_score(t_valid, predictions))\n",
    "print(\"AUC-ROC: \", roc_auc_score(t_valid, probabilities_valid))"
   ]
  },
  {
   "cell_type": "code",
   "execution_count": 30,
   "metadata": {},
   "outputs": [
    {
     "name": "stdout",
     "output_type": "stream",
     "text": [
      "n_estimators = 62 Max depth 10 F1-score 0.622754491017964\n"
     ]
    }
   ],
   "source": [
    "estim_best = 0\n",
    "depth_best = 0\n",
    "\n",
    "for estim in range (60, 63):\n",
    "    for depth in range(10, 12):\n",
    "        model = RandomForestClassifier(n_estimators=estim, max_depth=depth, random_state=12345)\n",
    "        model.fit(f_train_up, t_train_up)\n",
    "        prediction = model.predict(f_valid)\n",
    "        f1 = f1_score(t_valid, prediction)\n",
    "        if f1 > f1_best:\n",
    "            f1_best = f1\n",
    "            estim_best = estim\n",
    "            depth_best = depth\n",
    "        \n",
    "\n",
    "print('n_estimators =', estim_best, 'Max depth', depth_best, 'F1-score', f1_best)"
   ]
  },
  {
   "cell_type": "code",
   "execution_count": 31,
   "metadata": {},
   "outputs": [
    {
     "name": "stdout",
     "output_type": "stream",
     "text": [
      "\n",
      "Accuracy : 0.832\n",
      "Precision : 0.5761772853185596\n",
      "Recall : 0.6775244299674267\n",
      "F1 : 0.622754491017964\n",
      "AUC-ROC:  0.8496659394786635\n"
     ]
    }
   ],
   "source": [
    "model = RandomForestClassifier(random_state=12345, max_depth=10, n_estimators=62)\n",
    "\n",
    "model.fit(f_train_up, t_train_up)\n",
    "predictions = model.predict(f_valid)\n",
    "probabilities_valid = model.predict_proba(f_valid)[:, 1]\n",
    "\n",
    "print('')\n",
    "print('Accuracy :', accuracy_score(t_valid, predictions))\n",
    "print('Precision :', precision_score(t_valid, predictions))\n",
    "print('Recall :', recall_score(t_valid, predictions))\n",
    "print('F1 :', f1_score(t_valid, predictions))\n",
    "print(\"AUC-ROC: \", roc_auc_score(t_valid, probabilities_valid))"
   ]
  },
  {
   "cell_type": "code",
   "execution_count": 32,
   "metadata": {},
   "outputs": [
    {
     "name": "stdout",
     "output_type": "stream",
     "text": [
      "\n",
      "Accuracy : 0.712\n",
      "Precision : 0.38656987295825773\n",
      "Recall : 0.6938110749185668\n",
      "F1 : 0.4965034965034965\n",
      "AUC-ROC:  0.7722873111609251\n"
     ]
    }
   ],
   "source": [
    "model = LogisticRegression(random_state=12345, solver='lbfgs', max_iter=100)\n",
    "\n",
    "model.fit(f_train_up, t_train_up)\n",
    "predictions = model.predict(f_valid)\n",
    "probabilities_valid = model.predict_proba(f_valid)[:, 1]\n",
    "\n",
    "print('')\n",
    "print('Accuracy :', accuracy_score(t_valid, predictions))\n",
    "print('Precision :', precision_score(t_valid, predictions))\n",
    "print('Recall :', recall_score(t_valid, predictions))\n",
    "print('F1 :', f1_score(t_valid, predictions))\n",
    "print(\"AUC-ROC: \", roc_auc_score(t_valid, probabilities_valid))"
   ]
  },
  {
   "cell_type": "markdown",
   "metadata": {},
   "source": [
    "**ВЫВОД:**  \n",
    "\n",
    "Самая удачная модель - ***RandomForestClassifier(random_state=12345, max_depth=10, n_estimators=62)***, обученная на сбалансированных данных техникой ***upsample; f1-мера = 0.62, recall = 0.67***."
   ]
  },
  {
   "cell_type": "markdown",
   "metadata": {},
   "source": [
    "### Downsampling"
   ]
  },
  {
   "cell_type": "markdown",
   "metadata": {},
   "source": [
    "Техника *downsampling* делает объекты частого класса не такими частыми в данных."
   ]
  },
  {
   "cell_type": "code",
   "execution_count": 33,
   "metadata": {},
   "outputs": [],
   "source": [
    "undersample = RandomUnderSampler(random_state=12345)\n",
    "f_train_down, t_train_down = undersample.fit_resample(f_train, t_train)"
   ]
  },
  {
   "cell_type": "code",
   "execution_count": 34,
   "metadata": {},
   "outputs": [
    {
     "name": "stdout",
     "output_type": "stream",
     "text": [
      "Max depth 7 F1-score 0.5331833520809899\n"
     ]
    }
   ],
   "source": [
    "#поиск гиперпараметров на новых данных\n",
    "f1_best = 0\n",
    "depth_best = 0\n",
    "\n",
    "for depth in range(7, 11):\n",
    "    model = DecisionTreeClassifier(random_state=12345, max_depth=depth)\n",
    "    model.fit(f_train_down, t_train_down)\n",
    "    prediction = model.predict(f_valid)\n",
    "    f1 = f1_score(t_valid, prediction)\n",
    "    if f1>f1_best:\n",
    "            f1_best=f1\n",
    "            depth_best=depth\n",
    "print('Max depth', depth_best,'F1-score', f1_best)"
   ]
  },
  {
   "cell_type": "code",
   "execution_count": 35,
   "metadata": {},
   "outputs": [
    {
     "name": "stdout",
     "output_type": "stream",
     "text": [
      "\n",
      "Accuracy : 0.7233333333333334\n",
      "Precision : 0.4072164948453608\n",
      "Recall : 0.7719869706840391\n",
      "F1 : 0.5331833520809899\n",
      "AUC-ROC:  0.8036592391556611\n"
     ]
    }
   ],
   "source": [
    "model = DecisionTreeClassifier(random_state=12345, max_depth=7)\n",
    "\n",
    "model.fit(f_train_down, t_train_down)\n",
    "predictions = model.predict(f_valid)\n",
    "probabilities_valid = model.predict_proba(f_valid)[:, 1]\n",
    "\n",
    "print('')\n",
    "print('Accuracy :', accuracy_score(t_valid, predictions))\n",
    "print('Precision :', precision_score(t_valid, predictions))\n",
    "print('Recall :', recall_score(t_valid, predictions))\n",
    "print('F1 :', f1_score(t_valid, predictions))\n",
    "print(\"AUC-ROC: \", roc_auc_score(t_valid, probabilities_valid))\n"
   ]
  },
  {
   "cell_type": "code",
   "execution_count": 36,
   "metadata": {},
   "outputs": [
    {
     "name": "stdout",
     "output_type": "stream",
     "text": [
      "n_estimators = 60 Max depth 10 F1-score 0.5956907477820026\n"
     ]
    }
   ],
   "source": [
    "estim_best = 0\n",
    "depth_best = 0\n",
    "\n",
    "for estim in range (60, 63):\n",
    "    for depth in range(10, 12):\n",
    "        model = RandomForestClassifier(n_estimators=estim, max_depth=depth, random_state=12345)\n",
    "        model.fit(f_train_down, t_train_down)\n",
    "        prediction = model.predict(f_valid)\n",
    "        f1 = f1_score(t_valid, prediction)\n",
    "        if f1 > f1_best:\n",
    "            f1_best = f1\n",
    "            estim_best = estim\n",
    "            depth_best = depth\n",
    "        \n",
    "\n",
    "print('n_estimators =', estim_best, 'Max depth', depth_best, 'F1-score', f1_best)"
   ]
  },
  {
   "cell_type": "code",
   "execution_count": 37,
   "metadata": {},
   "outputs": [
    {
     "name": "stdout",
     "output_type": "stream",
     "text": [
      "\n",
      "Accuracy : 0.7873333333333333\n",
      "Precision : 0.487551867219917\n",
      "Recall : 0.7654723127035831\n",
      "F1 : 0.5956907477820026\n",
      "AUC-ROC:  0.8506106467968689\n"
     ]
    }
   ],
   "source": [
    "model = RandomForestClassifier(random_state=12345, max_depth=10, n_estimators=60)\n",
    "\n",
    "model.fit(f_train_down, t_train_down)\n",
    "predictions = model.predict(f_valid)\n",
    "probabilities_valid = model.predict_proba(f_valid)[:, 1]\n",
    "\n",
    "print('')\n",
    "print('Accuracy :', accuracy_score(t_valid, predictions))\n",
    "print('Precision :', precision_score(t_valid, predictions))\n",
    "print('Recall :', recall_score(t_valid, predictions))\n",
    "print('F1 :', f1_score(t_valid, predictions))\n",
    "print(\"AUC-ROC: \", roc_auc_score(t_valid, probabilities_valid))"
   ]
  },
  {
   "cell_type": "code",
   "execution_count": 38,
   "metadata": {
    "scrolled": true
   },
   "outputs": [
    {
     "name": "stdout",
     "output_type": "stream",
     "text": [
      "\n",
      "Accuracy : 0.7126666666666667\n",
      "Precision : 0.39045936395759717\n",
      "Recall : 0.7198697068403909\n",
      "F1 : 0.5063001145475372\n",
      "AUC-ROC:  0.7810927478696306\n"
     ]
    }
   ],
   "source": [
    "model = LogisticRegression(random_state=12345, solver='lbfgs', max_iter=100)\n",
    "\n",
    "model.fit(f_train_down, t_train_down)\n",
    "predictions = model.predict(f_valid)\n",
    "probabilities_valid = model.predict_proba(f_valid)[:, 1]\n",
    "\n",
    "print('')\n",
    "print('Accuracy :', accuracy_score(t_valid, predictions))\n",
    "print('Precision :', precision_score(t_valid, predictions))\n",
    "print('Recall :', recall_score(t_valid, predictions))\n",
    "print('F1 :', f1_score(t_valid, predictions))\n",
    "print(\"AUC-ROC: \", roc_auc_score(t_valid, probabilities_valid))"
   ]
  },
  {
   "cell_type": "markdown",
   "metadata": {},
   "source": [
    "***Вывод:*** метод не подходит, метрики заметно испортились для всех моделей."
   ]
  },
  {
   "cell_type": "markdown",
   "metadata": {},
   "source": [
    "**ВЫВОД:**  \n",
    "    Для дальнейшей работы мы выбираем модель - ***RandomForestClassifier(random_state=12345, max_depth=10, n_estimators=61, class_weight='balanced')***, которая показывает самую лучшие метрику ***f1 = 0.62.***"
   ]
  },
  {
   "cell_type": "markdown",
   "metadata": {},
   "source": [
    "### Визуализация AUC-ROC"
   ]
  },
  {
   "cell_type": "markdown",
   "metadata": {},
   "source": [
    "Построим ROC-кривую для всех моделей, в который мы добавили гиперпараметр class_weight='balanced'."
   ]
  },
  {
   "cell_type": "code",
   "execution_count": 39,
   "metadata": {
    "scrolled": true
   },
   "outputs": [
    {
     "data": {
      "text/plain": [
       "<Figure size 432x288 with 0 Axes>"
      ]
     },
     "metadata": {},
     "output_type": "display_data"
    },
    {
     "data": {
      "image/png": "[encoded data removed]",
      "text/plain": [
       "<Figure size 720x504 with 1 Axes>"
      ]
     },
     "metadata": {
      "needs_background": "light"
     },
     "output_type": "display_data"
    }
   ],
   "source": [
    "plt.figure()\n",
    "\n",
    "plt.figure(figsize=(10,7))\n",
    "plt.plot([0, 1], [0, 1], linestyle='--')\n",
    "plt.xlim([0.0, 1.0])\n",
    "plt.ylim([0.0, 1.0])\n",
    "plt.plot(fpr_forest,tpr_forest)\n",
    "plt.plot(fpr_log,tpr_log)\n",
    "plt.plot(fpr_tree,tpr_tree)\n",
    "\n",
    "plt.xlabel('False Positive Rate')\n",
    "plt.ylabel('True Positive Rate')\n",
    "plt.title('ROC-кривая')\n",
    "plt.legend(('Случайная модель','Случайный лес','Логистическая регрессия','Дерево решения'),\n",
    "           loc= 'upper left')\n",
    "plt.show()"
   ]
  },
  {
   "cell_type": "markdown",
   "metadata": {},
   "source": [
    "***Вывод:*** на графике видно, что модель случайного леса самая удачная т.к. кривая ближе всех к 1."
   ]
  },
  {
   "cell_type": "markdown",
   "metadata": {},
   "source": [
    "## Тестирование модели"
   ]
  },
  {
   "cell_type": "markdown",
   "metadata": {},
   "source": [
    "Обучим нашу самую лучшую модель:"
   ]
  },
  {
   "cell_type": "code",
   "execution_count": 40,
   "metadata": {},
   "outputs": [
    {
     "name": "stdout",
     "output_type": "stream",
     "text": [
      "Accuracy 0.846\n",
      "Precision 0.6217948717948718\n",
      "Recall 0.6319218241042345\n",
      "F1 0.6268174474959614\n",
      "AUC-ROC 0.859574444847932\n"
     ]
    }
   ],
   "source": [
    "best_model = RandomForestClassifier(random_state=12345, max_depth=10, n_estimators=61, class_weight='balanced')\n",
    "\n",
    "best_model.fit(f_train, t_train)\n",
    "prediction = best_model.predict(f_valid)\n",
    "\n",
    "print('Accuracy', accuracy_score(t_valid, prediction))\n",
    "print('Precision', precision_score(t_valid, prediction))\n",
    "print('Recall', recall_score(t_valid, prediction))\n",
    "print('F1', f1_score(t_valid, prediction))\n",
    "probabilities_valid = best_model.predict_proba(f_valid)[:, 1]\n",
    "print(\"AUC-ROC\", roc_auc_score(t_valid, probabilities_valid))"
   ]
  },
  {
   "cell_type": "markdown",
   "metadata": {},
   "source": [
    "Проверим лучшую модель на адекватность, сравнив с константной моделью."
   ]
  },
  {
   "cell_type": "code",
   "execution_count": 41,
   "metadata": {},
   "outputs": [
    {
     "name": "stdout",
     "output_type": "stream",
     "text": [
      "accuracy_score константой модели: 0.7953333333333333\n",
      "accuracy_score лучшей модели: 0.846\n",
      "AUC-ROC константой модели: 0.5\n",
      "AUC-ROC лучшей модели: 0.859574444847932\n"
     ]
    }
   ],
   "source": [
    "#Создаем константную модель\n",
    "target_predict_constant = pd.Series([0]*len(t_valid))\n",
    "\n",
    "#Сравним показатель точности (accuracy_score) константной модели и лучшей модели\n",
    "print('accuracy_score константой модели:', accuracy_score(t_valid, target_predict_constant))\n",
    "print('accuracy_score лучшей модели:', accuracy_score(t_valid, prediction))\n",
    "\n",
    "#Сравним AUC-ROC, остальные метрики не работают на константной модели.\n",
    "print('AUC-ROC константой модели:', roc_auc_score(t_valid, target_predict_constant))\n",
    "print('AUC-ROC лучшей модели:', roc_auc_score(t_valid, probabilities_valid))"
   ]
  },
  {
   "cell_type": "markdown",
   "metadata": {},
   "source": [
    "**Вывод:**  модель прошла проверку на адекватность."
   ]
  },
  {
   "cell_type": "markdown",
   "metadata": {},
   "source": [
    "Протестируем модель:"
   ]
  },
  {
   "cell_type": "code",
   "execution_count": 42,
   "metadata": {},
   "outputs": [
    {
     "name": "stdout",
     "output_type": "stream",
     "text": [
      "Accuracy 0.8286666666666667\n",
      "Precision 0.5945121951219512\n",
      "Recall 0.6112852664576802\n",
      "F1 0.6027820710973724\n",
      "AUC-ROC 0.8559612888498404\n"
     ]
    }
   ],
   "source": [
    "prediction = best_model.predict(f_test)\n",
    "\n",
    "print('Accuracy', accuracy_score(t_test, prediction))\n",
    "print('Precision', precision_score(t_test, prediction))\n",
    "print('Recall', recall_score(t_test, prediction))\n",
    "print('F1', f1_score(t_test, prediction))\n",
    "probabilities_test = best_model.predict_proba(f_test)[:, 1]\n",
    "print(\"AUC-ROC\", roc_auc_score(t_test, probabilities_test))\n",
    "fpr, tpr, thresholds = roc_curve(t_test, probabilities_test)"
   ]
  },
  {
   "cell_type": "markdown",
   "metadata": {},
   "source": [
    "***Вывод:*** выбранная модель показывает приемлемый результат на тестовой выборке: ***f1-мера = 0.6.***"
   ]
  },
  {
   "cell_type": "code",
   "execution_count": 43,
   "metadata": {},
   "outputs": [
    {
     "data": {
      "text/plain": [
       "<Figure size 432x288 with 0 Axes>"
      ]
     },
     "metadata": {},
     "output_type": "display_data"
    },
    {
     "data": {
      "image/png": "[encoded data removed]",
      "text/plain": [
       "<Figure size 720x504 with 1 Axes>"
      ]
     },
     "metadata": {
      "needs_background": "light"
     },
     "output_type": "display_data"
    }
   ],
   "source": [
    "plt.figure()\n",
    "\n",
    "plt.figure(figsize=(10,7))\n",
    "plt.plot([0, 1], [0, 1], linestyle='--')\n",
    "plt.xlim([0.0, 1.0])\n",
    "plt.ylim([0.0, 1.0])\n",
    "plt.plot(fpr,tpr)\n",
    "plt.xlabel('False Positive Rate')\n",
    "plt.ylabel('True Positive Rate')\n",
    "plt.title('ROC-кривая')\n",
    "plt.legend(('Случайная модель','Лучшая модель'),\n",
    "           loc= 'upper left') \n",
    "plt.show()"
   ]
  },
  {
   "cell_type": "markdown",
   "metadata": {},
   "source": [
    "## ВЫВОД"
   ]
  },
  {
   "cell_type": "markdown",
   "metadata": {},
   "source": [
    "В ходе исследования мы получили самую лучшую модель - ***RRandomForestClassifier(random_state=12345, max_depth=10, n_estimators=61, class_weight='balanced')***, с ***f1-мерой = 0.62*** на валидационной выборке.  \n",
    "\n",
    "Модель показывает приемлемый результат на тестовой выборке: ***f1-мера = 0.6***; модель хорошо находит ушедших клиентов на тестовой выборке *(recall = 0.61)*, и сможет весьма хорошо предсказать уход клиента из банка *(precision = 0.59)*.  \n",
    "\n",
    "Модель выдержала проверку на адекватность."
   ]
  },
  {
   "cell_type": "code",
   "execution_count": null,
   "metadata": {},
   "outputs": [],
   "source": []
  }
 ],
 "metadata": {
  "ExecuteTimeLog": [
   {
    "duration": 406,
    "start_time": "2023-01-03T12:54:45.631Z"
   },
   {
    "duration": 183,
    "start_time": "2023-01-03T12:56:26.228Z"
   },
   {
    "duration": 15,
    "start_time": "2023-01-03T13:05:25.851Z"
   },
   {
    "duration": 7,
    "start_time": "2023-01-03T13:06:56.520Z"
   },
   {
    "duration": 18,
    "start_time": "2023-01-03T13:07:06.508Z"
   },
   {
    "duration": 5,
    "start_time": "2023-01-03T13:07:41.491Z"
   },
   {
    "duration": 7,
    "start_time": "2023-01-03T13:07:54.240Z"
   },
   {
    "duration": 5,
    "start_time": "2023-01-03T13:08:35.393Z"
   },
   {
    "duration": 6,
    "start_time": "2023-01-03T13:12:26.218Z"
   },
   {
    "duration": 17,
    "start_time": "2023-01-03T13:20:13.371Z"
   },
   {
    "duration": 71,
    "start_time": "2023-01-03T13:20:39.711Z"
   },
   {
    "duration": 945,
    "start_time": "2023-01-03T13:21:31.071Z"
   },
   {
    "duration": 476,
    "start_time": "2023-01-03T13:21:49.471Z"
   },
   {
    "duration": 367,
    "start_time": "2023-01-03T13:21:55.852Z"
   },
   {
    "duration": 803,
    "start_time": "2023-01-03T13:23:57.188Z"
   },
   {
    "duration": 852,
    "start_time": "2023-01-03T13:24:17.728Z"
   },
   {
    "duration": 43,
    "start_time": "2023-01-03T13:26:18.148Z"
   },
   {
    "duration": 2,
    "start_time": "2023-01-03T13:26:47.699Z"
   },
   {
    "duration": 11,
    "start_time": "2023-01-03T13:26:52.900Z"
   },
   {
    "duration": 3,
    "start_time": "2023-01-03T13:27:03.981Z"
   },
   {
    "duration": 999,
    "start_time": "2023-01-03T13:27:10.829Z"
   },
   {
    "duration": 101,
    "start_time": "2023-01-03T13:28:18.240Z"
   },
   {
    "duration": 102,
    "start_time": "2023-01-03T13:29:07.489Z"
   },
   {
    "duration": 97,
    "start_time": "2023-01-03T13:29:43.403Z"
   },
   {
    "duration": 212,
    "start_time": "2023-01-03T13:30:06.018Z"
   },
   {
    "duration": 100,
    "start_time": "2023-01-03T13:33:06.690Z"
   },
   {
    "duration": 70,
    "start_time": "2023-01-03T13:35:58.571Z"
   },
   {
    "duration": 10,
    "start_time": "2023-01-03T13:42:18.081Z"
   },
   {
    "duration": 13,
    "start_time": "2023-01-03T13:43:00.941Z"
   },
   {
    "duration": 69,
    "start_time": "2023-01-03T13:45:39.961Z"
   },
   {
    "duration": 3,
    "start_time": "2023-01-03T13:50:50.817Z"
   },
   {
    "duration": 4,
    "start_time": "2023-01-03T13:50:52.465Z"
   },
   {
    "duration": 5,
    "start_time": "2023-01-03T13:51:03.027Z"
   },
   {
    "duration": 3,
    "start_time": "2023-01-03T13:51:13.817Z"
   },
   {
    "duration": 1436,
    "start_time": "2023-01-03T13:55:39.666Z"
   },
   {
    "duration": 46,
    "start_time": "2023-01-04T08:36:23.161Z"
   },
   {
    "duration": 1218,
    "start_time": "2023-01-04T08:36:33.386Z"
   },
   {
    "duration": 93,
    "start_time": "2023-01-04T08:36:34.606Z"
   },
   {
    "duration": 12,
    "start_time": "2023-01-04T08:36:34.701Z"
   },
   {
    "duration": 1245,
    "start_time": "2023-01-04T08:36:34.715Z"
   },
   {
    "duration": 11,
    "start_time": "2023-01-04T08:36:35.962Z"
   },
   {
    "duration": 2,
    "start_time": "2023-01-04T08:36:35.975Z"
   },
   {
    "duration": 1958,
    "start_time": "2023-01-04T08:36:44.207Z"
   },
   {
    "duration": 1057,
    "start_time": "2023-01-04T08:37:03.268Z"
   },
   {
    "duration": 123,
    "start_time": "2023-01-04T08:37:14.966Z"
   },
   {
    "duration": 135,
    "start_time": "2023-01-04T08:37:38.496Z"
   },
   {
    "duration": 120,
    "start_time": "2023-01-04T08:37:44.889Z"
   },
   {
    "duration": 44,
    "start_time": "2023-01-04T08:38:05.122Z"
   },
   {
    "duration": 129,
    "start_time": "2023-01-04T08:38:15.107Z"
   },
   {
    "duration": 139,
    "start_time": "2023-01-04T08:38:59.059Z"
   },
   {
    "duration": 137,
    "start_time": "2023-01-04T08:40:45.249Z"
   },
   {
    "duration": 132,
    "start_time": "2023-01-04T08:41:02.188Z"
   },
   {
    "duration": 130,
    "start_time": "2023-01-04T08:41:09.158Z"
   },
   {
    "duration": 143,
    "start_time": "2023-01-04T08:41:19.938Z"
   },
   {
    "duration": 200,
    "start_time": "2023-01-04T08:41:25.857Z"
   },
   {
    "duration": 137,
    "start_time": "2023-01-04T08:41:40.952Z"
   },
   {
    "duration": 147,
    "start_time": "2023-01-04T08:41:46.349Z"
   },
   {
    "duration": 14,
    "start_time": "2023-01-04T08:42:03.946Z"
   },
   {
    "duration": 9,
    "start_time": "2023-01-04T08:42:16.528Z"
   },
   {
    "duration": 6,
    "start_time": "2023-01-04T08:42:34.979Z"
   },
   {
    "duration": 7,
    "start_time": "2023-01-04T08:43:55.496Z"
   },
   {
    "duration": 7,
    "start_time": "2023-01-04T08:44:02.224Z"
   },
   {
    "duration": 16,
    "start_time": "2023-01-04T08:44:45.284Z"
   },
   {
    "duration": 4,
    "start_time": "2023-01-04T08:48:09.583Z"
   },
   {
    "duration": 3,
    "start_time": "2023-01-04T08:48:34.468Z"
   },
   {
    "duration": 990,
    "start_time": "2023-01-04T08:49:07.513Z"
   },
   {
    "duration": 5,
    "start_time": "2023-01-04T08:58:18.981Z"
   },
   {
    "duration": 1461,
    "start_time": "2023-01-04T08:58:26.051Z"
   },
   {
    "duration": 1109,
    "start_time": "2023-01-04T08:59:02.822Z"
   },
   {
    "duration": 53,
    "start_time": "2023-01-04T08:59:03.933Z"
   },
   {
    "duration": 12,
    "start_time": "2023-01-04T08:59:03.988Z"
   },
   {
    "duration": 11,
    "start_time": "2023-01-04T08:59:06.800Z"
   },
   {
    "duration": 7,
    "start_time": "2023-01-04T08:59:10.618Z"
   },
   {
    "duration": 1348,
    "start_time": "2023-01-04T08:59:13.197Z"
   },
   {
    "duration": 100,
    "start_time": "2023-01-04T09:03:01.266Z"
   },
   {
    "duration": 87,
    "start_time": "2023-01-04T09:03:10.694Z"
   },
   {
    "duration": 3,
    "start_time": "2023-01-04T09:12:38.238Z"
   },
   {
    "duration": 22,
    "start_time": "2023-01-04T09:29:15.351Z"
   },
   {
    "duration": 4,
    "start_time": "2023-01-04T09:29:39.234Z"
   },
   {
    "duration": 102,
    "start_time": "2023-01-04T09:29:41.684Z"
   },
   {
    "duration": 11,
    "start_time": "2023-01-04T09:29:48.904Z"
   },
   {
    "duration": 1146,
    "start_time": "2023-01-04T09:30:06.826Z"
   },
   {
    "duration": 58,
    "start_time": "2023-01-04T09:30:07.974Z"
   },
   {
    "duration": 16,
    "start_time": "2023-01-04T09:30:08.034Z"
   },
   {
    "duration": 8,
    "start_time": "2023-01-04T09:30:08.052Z"
   },
   {
    "duration": 1378,
    "start_time": "2023-01-04T09:30:08.063Z"
   },
   {
    "duration": 12,
    "start_time": "2023-01-04T09:30:09.443Z"
   },
   {
    "duration": 1022,
    "start_time": "2023-01-04T09:30:09.457Z"
   },
   {
    "duration": 5,
    "start_time": "2023-01-04T09:30:15.684Z"
   },
   {
    "duration": 122,
    "start_time": "2023-01-04T09:30:22.105Z"
   },
   {
    "duration": 1152,
    "start_time": "2023-01-04T09:30:44.285Z"
   },
   {
    "duration": 53,
    "start_time": "2023-01-04T09:30:45.438Z"
   },
   {
    "duration": 12,
    "start_time": "2023-01-04T09:30:45.492Z"
   },
   {
    "duration": 4,
    "start_time": "2023-01-04T09:30:45.506Z"
   },
   {
    "duration": 1319,
    "start_time": "2023-01-04T09:30:45.511Z"
   },
   {
    "duration": 11,
    "start_time": "2023-01-04T09:30:46.832Z"
   },
   {
    "duration": 939,
    "start_time": "2023-01-04T09:30:46.844Z"
   },
   {
    "duration": 23,
    "start_time": "2023-01-04T09:30:52.144Z"
   },
   {
    "duration": 4,
    "start_time": "2023-01-04T09:31:27.974Z"
   },
   {
    "duration": 101,
    "start_time": "2023-01-04T09:31:31.903Z"
   },
   {
    "duration": 1130,
    "start_time": "2023-01-04T09:31:45.215Z"
   },
   {
    "duration": 54,
    "start_time": "2023-01-04T09:31:46.347Z"
   },
   {
    "duration": 11,
    "start_time": "2023-01-04T09:31:46.403Z"
   },
   {
    "duration": 7,
    "start_time": "2023-01-04T09:31:46.416Z"
   },
   {
    "duration": 1298,
    "start_time": "2023-01-04T09:31:46.425Z"
   },
   {
    "duration": 12,
    "start_time": "2023-01-04T09:31:47.724Z"
   },
   {
    "duration": 970,
    "start_time": "2023-01-04T09:31:47.737Z"
   },
   {
    "duration": 4,
    "start_time": "2023-01-04T09:31:53.462Z"
   },
   {
    "duration": 113,
    "start_time": "2023-01-04T09:32:03.674Z"
   },
   {
    "duration": 13,
    "start_time": "2023-01-04T09:33:00.894Z"
   },
   {
    "duration": 14,
    "start_time": "2023-01-04T09:33:09.408Z"
   },
   {
    "duration": 11,
    "start_time": "2023-01-04T09:34:46.534Z"
   },
   {
    "duration": 1084,
    "start_time": "2023-01-04T11:30:25.065Z"
   },
   {
    "duration": 53,
    "start_time": "2023-01-04T11:30:26.150Z"
   },
   {
    "duration": 12,
    "start_time": "2023-01-04T11:30:26.204Z"
   },
   {
    "duration": 4,
    "start_time": "2023-01-04T11:30:26.217Z"
   },
   {
    "duration": 1312,
    "start_time": "2023-01-04T11:30:26.223Z"
   },
   {
    "duration": 11,
    "start_time": "2023-01-04T11:30:27.536Z"
   },
   {
    "duration": 962,
    "start_time": "2023-01-04T11:30:27.549Z"
   },
   {
    "duration": 19,
    "start_time": "2023-01-04T11:30:28.513Z"
   },
   {
    "duration": 18,
    "start_time": "2023-01-04T11:30:40.939Z"
   },
   {
    "duration": 4,
    "start_time": "2023-01-04T11:31:06.690Z"
   },
   {
    "duration": 17,
    "start_time": "2023-01-04T11:31:10.707Z"
   },
   {
    "duration": 1054,
    "start_time": "2023-01-04T11:33:50.060Z"
   },
   {
    "duration": 51,
    "start_time": "2023-01-04T11:33:51.116Z"
   },
   {
    "duration": 13,
    "start_time": "2023-01-04T11:33:51.168Z"
   },
   {
    "duration": 4,
    "start_time": "2023-01-04T11:33:51.182Z"
   },
   {
    "duration": 1316,
    "start_time": "2023-01-04T11:33:51.188Z"
   },
   {
    "duration": 16,
    "start_time": "2023-01-04T11:33:52.506Z"
   },
   {
    "duration": 996,
    "start_time": "2023-01-04T11:33:52.523Z"
   },
   {
    "duration": 4,
    "start_time": "2023-01-04T11:33:53.521Z"
   },
   {
    "duration": 103,
    "start_time": "2023-01-04T11:34:04.888Z"
   },
   {
    "duration": 12,
    "start_time": "2023-01-04T11:35:32.591Z"
   },
   {
    "duration": 1137,
    "start_time": "2023-01-04T11:35:47.909Z"
   },
   {
    "duration": 57,
    "start_time": "2023-01-04T11:35:49.048Z"
   },
   {
    "duration": 14,
    "start_time": "2023-01-04T11:35:49.109Z"
   },
   {
    "duration": 5,
    "start_time": "2023-01-04T11:35:49.124Z"
   },
   {
    "duration": 1293,
    "start_time": "2023-01-04T11:35:49.131Z"
   },
   {
    "duration": 13,
    "start_time": "2023-01-04T11:35:50.426Z"
   },
   {
    "duration": 996,
    "start_time": "2023-01-04T11:35:50.440Z"
   },
   {
    "duration": 25,
    "start_time": "2023-01-04T11:35:51.438Z"
   },
   {
    "duration": 101,
    "start_time": "2023-01-04T11:36:31.748Z"
   },
   {
    "duration": 1114,
    "start_time": "2023-01-04T11:37:33.820Z"
   },
   {
    "duration": 52,
    "start_time": "2023-01-04T11:37:34.935Z"
   },
   {
    "duration": 12,
    "start_time": "2023-01-04T11:37:34.989Z"
   },
   {
    "duration": 5,
    "start_time": "2023-01-04T11:37:35.002Z"
   },
   {
    "duration": 1383,
    "start_time": "2023-01-04T11:37:35.009Z"
   },
   {
    "duration": 26,
    "start_time": "2023-01-04T11:37:36.393Z"
   },
   {
    "duration": 1067,
    "start_time": "2023-01-04T11:37:36.421Z"
   },
   {
    "duration": 5,
    "start_time": "2023-01-04T11:37:41.259Z"
   },
   {
    "duration": 43,
    "start_time": "2023-01-04T11:39:22.661Z"
   },
   {
    "duration": 792,
    "start_time": "2023-01-04T11:52:06.774Z"
   },
   {
    "duration": 4,
    "start_time": "2023-01-04T11:52:27.631Z"
   },
   {
    "duration": 1090,
    "start_time": "2023-01-04T11:52:38.456Z"
   },
   {
    "duration": 54,
    "start_time": "2023-01-04T11:52:39.548Z"
   },
   {
    "duration": 12,
    "start_time": "2023-01-04T11:52:39.603Z"
   },
   {
    "duration": 4,
    "start_time": "2023-01-04T11:52:39.617Z"
   },
   {
    "duration": 1335,
    "start_time": "2023-01-04T11:52:39.623Z"
   },
   {
    "duration": 12,
    "start_time": "2023-01-04T11:52:40.960Z"
   },
   {
    "duration": 4,
    "start_time": "2023-01-04T11:52:40.974Z"
   },
   {
    "duration": 1024,
    "start_time": "2023-01-04T11:52:40.979Z"
   },
   {
    "duration": 5,
    "start_time": "2023-01-04T11:52:42.005Z"
   },
   {
    "duration": 18,
    "start_time": "2023-01-04T11:54:35.649Z"
   },
   {
    "duration": 6,
    "start_time": "2023-01-04T12:02:09.324Z"
   },
   {
    "duration": 97,
    "start_time": "2023-01-04T12:05:53.896Z"
   },
   {
    "duration": 19,
    "start_time": "2023-01-04T12:06:24.817Z"
   },
   {
    "duration": 3227,
    "start_time": "2023-01-04T12:07:15.181Z"
   },
   {
    "duration": 12,
    "start_time": "2023-01-04T12:07:39.870Z"
   },
   {
    "duration": 9,
    "start_time": "2023-01-04T12:09:15.198Z"
   },
   {
    "duration": 9,
    "start_time": "2023-01-04T12:09:30.102Z"
   },
   {
    "duration": 9,
    "start_time": "2023-01-04T12:10:01.113Z"
   },
   {
    "duration": 5,
    "start_time": "2023-01-04T12:11:47.510Z"
   },
   {
    "duration": 24,
    "start_time": "2023-01-04T12:13:38.227Z"
   },
   {
    "duration": 2043,
    "start_time": "2023-01-04T12:14:34.879Z"
   },
   {
    "duration": 15,
    "start_time": "2023-01-04T12:14:44.672Z"
   },
   {
    "duration": 15,
    "start_time": "2023-01-04T12:15:15.225Z"
   },
   {
    "duration": 3362,
    "start_time": "2023-01-04T12:16:34.137Z"
   },
   {
    "duration": 57,
    "start_time": "2023-01-04T12:16:37.501Z"
   },
   {
    "duration": 13,
    "start_time": "2023-01-04T12:16:37.559Z"
   },
   {
    "duration": 12,
    "start_time": "2023-01-04T12:16:37.574Z"
   },
   {
    "duration": 1408,
    "start_time": "2023-01-04T12:16:37.588Z"
   },
   {
    "duration": 18,
    "start_time": "2023-01-04T12:16:38.998Z"
   },
   {
    "duration": 4,
    "start_time": "2023-01-04T12:16:39.017Z"
   },
   {
    "duration": 1041,
    "start_time": "2023-01-04T12:16:39.023Z"
   },
   {
    "duration": 5,
    "start_time": "2023-01-04T12:16:40.066Z"
   },
   {
    "duration": 29,
    "start_time": "2023-01-04T12:16:40.073Z"
   },
   {
    "duration": 9,
    "start_time": "2023-01-04T12:16:40.103Z"
   },
   {
    "duration": 108,
    "start_time": "2023-01-04T12:16:40.113Z"
   },
   {
    "duration": 62,
    "start_time": "2023-01-04T12:22:06.626Z"
   },
   {
    "duration": 3357,
    "start_time": "2023-01-04T12:26:09.708Z"
   },
   {
    "duration": 59,
    "start_time": "2023-01-04T12:26:13.067Z"
   },
   {
    "duration": 14,
    "start_time": "2023-01-04T12:26:13.128Z"
   },
   {
    "duration": 4,
    "start_time": "2023-01-04T12:26:13.144Z"
   },
   {
    "duration": 1417,
    "start_time": "2023-01-04T12:26:13.150Z"
   },
   {
    "duration": 17,
    "start_time": "2023-01-04T12:26:14.569Z"
   },
   {
    "duration": 4,
    "start_time": "2023-01-04T12:26:14.588Z"
   },
   {
    "duration": 1039,
    "start_time": "2023-01-04T12:26:14.593Z"
   },
   {
    "duration": 5,
    "start_time": "2023-01-04T12:26:15.633Z"
   },
   {
    "duration": 19,
    "start_time": "2023-01-04T12:26:15.640Z"
   },
   {
    "duration": 9,
    "start_time": "2023-01-04T12:26:15.661Z"
   },
   {
    "duration": 116,
    "start_time": "2023-01-04T12:26:15.672Z"
   },
   {
    "duration": 93,
    "start_time": "2023-01-04T12:29:14.581Z"
   },
   {
    "duration": 17,
    "start_time": "2023-01-04T12:29:22.167Z"
   },
   {
    "duration": 3328,
    "start_time": "2023-01-04T12:29:39.684Z"
   },
   {
    "duration": 54,
    "start_time": "2023-01-04T12:29:43.014Z"
   },
   {
    "duration": 13,
    "start_time": "2023-01-04T12:29:43.070Z"
   },
   {
    "duration": 7,
    "start_time": "2023-01-04T12:29:43.085Z"
   },
   {
    "duration": 1363,
    "start_time": "2023-01-04T12:29:43.094Z"
   },
   {
    "duration": 12,
    "start_time": "2023-01-04T12:29:44.458Z"
   },
   {
    "duration": 4,
    "start_time": "2023-01-04T12:29:44.471Z"
   },
   {
    "duration": 1052,
    "start_time": "2023-01-04T12:29:44.476Z"
   },
   {
    "duration": 5,
    "start_time": "2023-01-04T12:30:03.244Z"
   },
   {
    "duration": 19,
    "start_time": "2023-01-04T12:30:10.109Z"
   },
   {
    "duration": 11,
    "start_time": "2023-01-04T12:30:15.613Z"
   },
   {
    "duration": 119,
    "start_time": "2023-01-04T12:30:17.734Z"
   },
   {
    "duration": 4,
    "start_time": "2023-01-04T12:34:14.014Z"
   },
   {
    "duration": 3324,
    "start_time": "2023-01-04T12:34:39.975Z"
   },
   {
    "duration": 63,
    "start_time": "2023-01-04T12:34:43.302Z"
   },
   {
    "duration": 13,
    "start_time": "2023-01-04T12:34:43.367Z"
   },
   {
    "duration": 16,
    "start_time": "2023-01-04T12:34:43.382Z"
   },
   {
    "duration": 1391,
    "start_time": "2023-01-04T12:34:43.400Z"
   },
   {
    "duration": 12,
    "start_time": "2023-01-04T12:34:44.792Z"
   },
   {
    "duration": 11,
    "start_time": "2023-01-04T12:34:44.806Z"
   },
   {
    "duration": 1045,
    "start_time": "2023-01-04T12:34:44.819Z"
   },
   {
    "duration": 5,
    "start_time": "2023-01-04T12:34:45.865Z"
   },
   {
    "duration": 27,
    "start_time": "2023-01-04T12:34:45.871Z"
   },
   {
    "duration": 12,
    "start_time": "2023-01-04T12:34:45.900Z"
   },
   {
    "duration": 128,
    "start_time": "2023-01-04T12:34:45.914Z"
   },
   {
    "duration": 14,
    "start_time": "2023-01-04T12:36:01.014Z"
   },
   {
    "duration": 3280,
    "start_time": "2023-01-04T12:36:42.546Z"
   },
   {
    "duration": 55,
    "start_time": "2023-01-04T12:36:45.829Z"
   },
   {
    "duration": 14,
    "start_time": "2023-01-04T12:36:45.886Z"
   },
   {
    "duration": 4,
    "start_time": "2023-01-04T12:36:45.902Z"
   },
   {
    "duration": 1472,
    "start_time": "2023-01-04T12:36:45.908Z"
   },
   {
    "duration": 12,
    "start_time": "2023-01-04T12:36:47.382Z"
   },
   {
    "duration": 4,
    "start_time": "2023-01-04T12:36:47.395Z"
   },
   {
    "duration": 1071,
    "start_time": "2023-01-04T12:36:47.401Z"
   },
   {
    "duration": 4,
    "start_time": "2023-01-04T12:36:48.473Z"
   },
   {
    "duration": 20,
    "start_time": "2023-01-04T12:36:48.479Z"
   },
   {
    "duration": 8,
    "start_time": "2023-01-04T12:36:48.501Z"
   },
   {
    "duration": 120,
    "start_time": "2023-01-04T12:36:48.511Z"
   },
   {
    "duration": 15,
    "start_time": "2023-01-04T12:37:29.120Z"
   },
   {
    "duration": 3265,
    "start_time": "2023-01-04T12:37:40.834Z"
   },
   {
    "duration": 54,
    "start_time": "2023-01-04T12:37:44.101Z"
   },
   {
    "duration": 12,
    "start_time": "2023-01-04T12:37:44.157Z"
   },
   {
    "duration": 7,
    "start_time": "2023-01-04T12:37:44.172Z"
   },
   {
    "duration": 1357,
    "start_time": "2023-01-04T12:37:44.184Z"
   },
   {
    "duration": 11,
    "start_time": "2023-01-04T12:37:45.542Z"
   },
   {
    "duration": 3,
    "start_time": "2023-01-04T12:37:45.555Z"
   },
   {
    "duration": 1124,
    "start_time": "2023-01-04T12:37:45.559Z"
   },
   {
    "duration": 4,
    "start_time": "2023-01-04T12:37:46.685Z"
   },
   {
    "duration": 19,
    "start_time": "2023-01-04T12:37:46.692Z"
   },
   {
    "duration": 9,
    "start_time": "2023-01-04T12:37:46.712Z"
   },
   {
    "duration": 115,
    "start_time": "2023-01-04T12:37:46.722Z"
   },
   {
    "duration": 13,
    "start_time": "2023-01-04T12:39:18.565Z"
   },
   {
    "duration": 4313,
    "start_time": "2023-01-06T08:10:53.050Z"
   },
   {
    "duration": 178,
    "start_time": "2023-01-06T08:10:57.365Z"
   },
   {
    "duration": 13,
    "start_time": "2023-01-06T08:10:57.544Z"
   },
   {
    "duration": 14,
    "start_time": "2023-01-06T08:10:57.558Z"
   },
   {
    "duration": 1415,
    "start_time": "2023-01-06T08:10:57.574Z"
   },
   {
    "duration": 11,
    "start_time": "2023-01-06T08:10:58.991Z"
   },
   {
    "duration": 4,
    "start_time": "2023-01-06T08:10:59.004Z"
   },
   {
    "duration": 950,
    "start_time": "2023-01-06T08:10:59.010Z"
   },
   {
    "duration": 5,
    "start_time": "2023-01-06T08:10:59.962Z"
   },
   {
    "duration": 19,
    "start_time": "2023-01-06T08:11:19.174Z"
   },
   {
    "duration": 10,
    "start_time": "2023-01-06T08:11:26.571Z"
   },
   {
    "duration": 115,
    "start_time": "2023-01-06T08:11:33.622Z"
   },
   {
    "duration": 17,
    "start_time": "2023-01-06T08:15:40.409Z"
   },
   {
    "duration": 3230,
    "start_time": "2023-01-06T08:15:59.348Z"
   },
   {
    "duration": 55,
    "start_time": "2023-01-06T08:16:02.581Z"
   },
   {
    "duration": 12,
    "start_time": "2023-01-06T08:16:02.638Z"
   },
   {
    "duration": 21,
    "start_time": "2023-01-06T08:16:02.652Z"
   },
   {
    "duration": 1471,
    "start_time": "2023-01-06T08:16:02.675Z"
   },
   {
    "duration": 13,
    "start_time": "2023-01-06T08:16:04.147Z"
   },
   {
    "duration": 4,
    "start_time": "2023-01-06T08:16:04.161Z"
   },
   {
    "duration": 1010,
    "start_time": "2023-01-06T08:16:04.178Z"
   },
   {
    "duration": 4,
    "start_time": "2023-01-06T08:16:05.190Z"
   },
   {
    "duration": 47,
    "start_time": "2023-01-06T08:16:05.195Z"
   },
   {
    "duration": 9,
    "start_time": "2023-01-06T08:16:05.244Z"
   },
   {
    "duration": 112,
    "start_time": "2023-01-06T08:16:05.255Z"
   },
   {
    "duration": 3164,
    "start_time": "2023-01-06T08:29:47.301Z"
   },
   {
    "duration": 54,
    "start_time": "2023-01-06T08:29:50.467Z"
   },
   {
    "duration": 14,
    "start_time": "2023-01-06T08:29:50.523Z"
   },
   {
    "duration": 8,
    "start_time": "2023-01-06T08:29:50.538Z"
   },
   {
    "duration": 1402,
    "start_time": "2023-01-06T08:29:50.548Z"
   },
   {
    "duration": 13,
    "start_time": "2023-01-06T08:29:51.952Z"
   },
   {
    "duration": 13,
    "start_time": "2023-01-06T08:29:51.967Z"
   },
   {
    "duration": 1050,
    "start_time": "2023-01-06T08:29:51.982Z"
   },
   {
    "duration": 4,
    "start_time": "2023-01-06T08:29:53.034Z"
   },
   {
    "duration": 21,
    "start_time": "2023-01-06T08:29:53.039Z"
   },
   {
    "duration": 9,
    "start_time": "2023-01-06T08:29:53.061Z"
   },
   {
    "duration": 121,
    "start_time": "2023-01-06T08:29:58.850Z"
   },
   {
    "duration": 14,
    "start_time": "2023-01-06T08:30:14.751Z"
   },
   {
    "duration": 14,
    "start_time": "2023-01-06T08:30:23.058Z"
   },
   {
    "duration": 20,
    "start_time": "2023-01-06T08:31:01.188Z"
   },
   {
    "duration": 9,
    "start_time": "2023-01-06T08:31:08.161Z"
   },
   {
    "duration": 12,
    "start_time": "2023-01-06T08:31:11.320Z"
   },
   {
    "duration": 12,
    "start_time": "2023-01-06T08:36:24.736Z"
   },
   {
    "duration": 12,
    "start_time": "2023-01-06T08:51:01.431Z"
   },
   {
    "duration": 10,
    "start_time": "2023-01-06T08:53:43.640Z"
   },
   {
    "duration": 17,
    "start_time": "2023-01-06T08:54:18.373Z"
   },
   {
    "duration": 25,
    "start_time": "2023-01-06T08:55:30.569Z"
   },
   {
    "duration": 3135,
    "start_time": "2023-01-06T08:55:56.389Z"
   },
   {
    "duration": 54,
    "start_time": "2023-01-06T08:55:59.526Z"
   },
   {
    "duration": 14,
    "start_time": "2023-01-06T08:55:59.582Z"
   },
   {
    "duration": 6,
    "start_time": "2023-01-06T08:55:59.597Z"
   },
   {
    "duration": 1439,
    "start_time": "2023-01-06T08:55:59.605Z"
   },
   {
    "duration": 14,
    "start_time": "2023-01-06T08:56:01.047Z"
   },
   {
    "duration": 5,
    "start_time": "2023-01-06T08:56:01.078Z"
   },
   {
    "duration": 995,
    "start_time": "2023-01-06T08:56:01.085Z"
   },
   {
    "duration": 5,
    "start_time": "2023-01-06T08:56:02.082Z"
   },
   {
    "duration": 25,
    "start_time": "2023-01-06T08:56:02.088Z"
   },
   {
    "duration": 14,
    "start_time": "2023-01-06T08:56:07.010Z"
   },
   {
    "duration": 11,
    "start_time": "2023-01-06T08:56:21.387Z"
   },
   {
    "duration": 9,
    "start_time": "2023-01-06T08:56:47.741Z"
   },
   {
    "duration": 109,
    "start_time": "2023-01-06T08:59:30.900Z"
   },
   {
    "duration": 3290,
    "start_time": "2023-01-06T09:00:02.494Z"
   },
   {
    "duration": 53,
    "start_time": "2023-01-06T09:00:05.786Z"
   },
   {
    "duration": 12,
    "start_time": "2023-01-06T09:00:05.841Z"
   },
   {
    "duration": 4,
    "start_time": "2023-01-06T09:00:05.856Z"
   },
   {
    "duration": 1404,
    "start_time": "2023-01-06T09:00:05.861Z"
   },
   {
    "duration": 19,
    "start_time": "2023-01-06T09:00:07.267Z"
   },
   {
    "duration": 4,
    "start_time": "2023-01-06T09:00:07.288Z"
   },
   {
    "duration": 971,
    "start_time": "2023-01-06T09:00:07.293Z"
   },
   {
    "duration": 5,
    "start_time": "2023-01-06T09:00:08.266Z"
   },
   {
    "duration": 24,
    "start_time": "2023-01-06T09:00:08.274Z"
   },
   {
    "duration": 10,
    "start_time": "2023-01-06T09:00:08.300Z"
   },
   {
    "duration": 121,
    "start_time": "2023-01-06T09:00:08.311Z"
   },
   {
    "duration": 12,
    "start_time": "2023-01-06T09:00:34.529Z"
   },
   {
    "duration": 49,
    "start_time": "2023-01-06T09:01:20.940Z"
   },
   {
    "duration": 3275,
    "start_time": "2023-01-06T09:02:01.193Z"
   },
   {
    "duration": 54,
    "start_time": "2023-01-06T09:02:04.470Z"
   },
   {
    "duration": 11,
    "start_time": "2023-01-06T09:02:04.526Z"
   },
   {
    "duration": 4,
    "start_time": "2023-01-06T09:02:04.539Z"
   },
   {
    "duration": 1445,
    "start_time": "2023-01-06T09:02:04.545Z"
   },
   {
    "duration": 13,
    "start_time": "2023-01-06T09:02:05.991Z"
   },
   {
    "duration": 4,
    "start_time": "2023-01-06T09:02:06.006Z"
   },
   {
    "duration": 1093,
    "start_time": "2023-01-06T09:02:06.011Z"
   },
   {
    "duration": 4,
    "start_time": "2023-01-06T09:02:07.106Z"
   },
   {
    "duration": 24,
    "start_time": "2023-01-06T09:02:07.112Z"
   },
   {
    "duration": 10,
    "start_time": "2023-01-06T09:02:07.137Z"
   },
   {
    "duration": 121,
    "start_time": "2023-01-06T09:02:07.148Z"
   },
   {
    "duration": 70,
    "start_time": "2023-01-06T09:02:22.321Z"
   },
   {
    "duration": 48,
    "start_time": "2023-01-06T09:02:28.391Z"
   },
   {
    "duration": 3259,
    "start_time": "2023-01-06T09:02:42.497Z"
   },
   {
    "duration": 55,
    "start_time": "2023-01-06T09:02:45.758Z"
   },
   {
    "duration": 13,
    "start_time": "2023-01-06T09:02:45.815Z"
   },
   {
    "duration": 5,
    "start_time": "2023-01-06T09:02:45.830Z"
   },
   {
    "duration": 1407,
    "start_time": "2023-01-06T09:02:45.838Z"
   },
   {
    "duration": 13,
    "start_time": "2023-01-06T09:02:47.247Z"
   },
   {
    "duration": 19,
    "start_time": "2023-01-06T09:02:47.261Z"
   },
   {
    "duration": 974,
    "start_time": "2023-01-06T09:02:47.282Z"
   },
   {
    "duration": 5,
    "start_time": "2023-01-06T09:02:48.257Z"
   },
   {
    "duration": 47,
    "start_time": "2023-01-06T09:02:48.263Z"
   },
   {
    "duration": 47,
    "start_time": "2023-01-06T09:02:48.312Z"
   },
   {
    "duration": 140,
    "start_time": "2023-01-06T09:02:48.361Z"
   },
   {
    "duration": 13,
    "start_time": "2023-01-06T09:04:10.111Z"
   },
   {
    "duration": 17,
    "start_time": "2023-01-06T09:05:41.514Z"
   },
   {
    "duration": 17,
    "start_time": "2023-01-06T09:05:46.860Z"
   },
   {
    "duration": 17,
    "start_time": "2023-01-06T09:10:11.751Z"
   },
   {
    "duration": 20,
    "start_time": "2023-01-06T09:10:18.229Z"
   },
   {
    "duration": 13,
    "start_time": "2023-01-06T09:10:43.958Z"
   },
   {
    "duration": 13,
    "start_time": "2023-01-06T09:11:10.548Z"
   },
   {
    "duration": 12,
    "start_time": "2023-01-06T09:11:34.921Z"
   },
   {
    "duration": 10,
    "start_time": "2023-01-06T09:11:51.259Z"
   },
   {
    "duration": 14,
    "start_time": "2023-01-06T09:12:13.761Z"
   },
   {
    "duration": 11,
    "start_time": "2023-01-06T09:13:01.251Z"
   },
   {
    "duration": 13,
    "start_time": "2023-01-06T09:13:07.161Z"
   },
   {
    "duration": 14,
    "start_time": "2023-01-06T09:19:21.491Z"
   },
   {
    "duration": 16,
    "start_time": "2023-01-06T09:23:22.941Z"
   },
   {
    "duration": 12,
    "start_time": "2023-01-06T09:23:32.571Z"
   },
   {
    "duration": 1835,
    "start_time": "2023-01-06T09:24:27.111Z"
   },
   {
    "duration": 3254,
    "start_time": "2023-01-06T09:24:53.320Z"
   },
   {
    "duration": 55,
    "start_time": "2023-01-06T09:24:56.576Z"
   },
   {
    "duration": 12,
    "start_time": "2023-01-06T09:24:56.632Z"
   },
   {
    "duration": 4,
    "start_time": "2023-01-06T09:24:56.646Z"
   },
   {
    "duration": 1394,
    "start_time": "2023-01-06T09:24:56.652Z"
   },
   {
    "duration": 12,
    "start_time": "2023-01-06T09:24:58.048Z"
   },
   {
    "duration": 18,
    "start_time": "2023-01-06T09:24:58.062Z"
   },
   {
    "duration": 1003,
    "start_time": "2023-01-06T09:24:58.081Z"
   },
   {
    "duration": 4,
    "start_time": "2023-01-06T09:24:59.086Z"
   },
   {
    "duration": 28,
    "start_time": "2023-01-06T09:24:59.091Z"
   },
   {
    "duration": 10,
    "start_time": "2023-01-06T09:24:59.120Z"
   },
   {
    "duration": 109,
    "start_time": "2023-01-06T09:24:59.132Z"
   },
   {
    "duration": 14,
    "start_time": "2023-01-06T09:26:13.479Z"
   },
   {
    "duration": 1875,
    "start_time": "2023-01-06T09:27:56.188Z"
   },
   {
    "duration": 3258,
    "start_time": "2023-01-06T09:28:04.363Z"
   },
   {
    "duration": 53,
    "start_time": "2023-01-06T09:28:07.624Z"
   },
   {
    "duration": 13,
    "start_time": "2023-01-06T09:28:07.678Z"
   },
   {
    "duration": 4,
    "start_time": "2023-01-06T09:28:07.692Z"
   },
   {
    "duration": 1454,
    "start_time": "2023-01-06T09:28:07.698Z"
   },
   {
    "duration": 12,
    "start_time": "2023-01-06T09:28:09.154Z"
   },
   {
    "duration": 13,
    "start_time": "2023-01-06T09:28:09.167Z"
   },
   {
    "duration": 1035,
    "start_time": "2023-01-06T09:28:09.181Z"
   },
   {
    "duration": 4,
    "start_time": "2023-01-06T09:28:10.218Z"
   },
   {
    "duration": 29,
    "start_time": "2023-01-06T09:28:10.224Z"
   },
   {
    "duration": 12,
    "start_time": "2023-01-06T09:28:10.255Z"
   },
   {
    "duration": 133,
    "start_time": "2023-01-06T09:28:10.269Z"
   },
   {
    "duration": 10,
    "start_time": "2023-01-06T09:31:21.232Z"
   },
   {
    "duration": 3350,
    "start_time": "2023-01-06T09:31:37.151Z"
   },
   {
    "duration": 58,
    "start_time": "2023-01-06T09:31:40.504Z"
   },
   {
    "duration": 15,
    "start_time": "2023-01-06T09:31:40.564Z"
   },
   {
    "duration": 10,
    "start_time": "2023-01-06T09:31:40.580Z"
   },
   {
    "duration": 1615,
    "start_time": "2023-01-06T09:31:40.592Z"
   },
   {
    "duration": 14,
    "start_time": "2023-01-06T09:31:42.209Z"
   },
   {
    "duration": 7,
    "start_time": "2023-01-06T09:31:42.225Z"
   },
   {
    "duration": 1107,
    "start_time": "2023-01-06T09:31:42.234Z"
   },
   {
    "duration": 4,
    "start_time": "2023-01-06T09:31:43.343Z"
   },
   {
    "duration": 27,
    "start_time": "2023-01-06T09:31:43.349Z"
   },
   {
    "duration": 108,
    "start_time": "2023-01-06T09:31:43.378Z"
   },
   {
    "duration": 2000,
    "start_time": "2023-01-06T09:32:11.597Z"
   },
   {
    "duration": 12,
    "start_time": "2023-01-06T09:32:30.431Z"
   },
   {
    "duration": 21,
    "start_time": "2023-01-06T09:32:35.259Z"
   },
   {
    "duration": 21,
    "start_time": "2023-01-06T09:33:31.171Z"
   },
   {
    "duration": 3467,
    "start_time": "2023-01-06T09:33:48.911Z"
   },
   {
    "duration": 57,
    "start_time": "2023-01-06T09:33:52.380Z"
   },
   {
    "duration": 13,
    "start_time": "2023-01-06T09:33:52.439Z"
   },
   {
    "duration": 5,
    "start_time": "2023-01-06T09:33:52.454Z"
   },
   {
    "duration": 1418,
    "start_time": "2023-01-06T09:33:52.462Z"
   },
   {
    "duration": 15,
    "start_time": "2023-01-06T09:33:53.882Z"
   },
   {
    "duration": 6,
    "start_time": "2023-01-06T09:33:53.899Z"
   },
   {
    "duration": 1067,
    "start_time": "2023-01-06T09:33:53.909Z"
   },
   {
    "duration": 21,
    "start_time": "2023-01-06T09:33:54.978Z"
   },
   {
    "duration": 215,
    "start_time": "2023-01-06T09:33:55.000Z"
   },
   {
    "duration": 145,
    "start_time": "2023-01-06T09:33:55.217Z"
   },
   {
    "duration": 116,
    "start_time": "2023-01-06T09:33:55.364Z"
   },
   {
    "duration": 3536,
    "start_time": "2023-01-06T09:34:21.222Z"
   },
   {
    "duration": 58,
    "start_time": "2023-01-06T09:34:24.761Z"
   },
   {
    "duration": 13,
    "start_time": "2023-01-06T09:34:24.821Z"
   },
   {
    "duration": 6,
    "start_time": "2023-01-06T09:34:24.835Z"
   },
   {
    "duration": 1575,
    "start_time": "2023-01-06T09:34:24.843Z"
   },
   {
    "duration": 13,
    "start_time": "2023-01-06T09:34:26.420Z"
   },
   {
    "duration": 4,
    "start_time": "2023-01-06T09:34:26.435Z"
   },
   {
    "duration": 1100,
    "start_time": "2023-01-06T09:34:26.440Z"
   },
   {
    "duration": 4,
    "start_time": "2023-01-06T09:34:27.542Z"
   },
   {
    "duration": 24,
    "start_time": "2023-01-06T09:34:27.548Z"
   },
   {
    "duration": 11,
    "start_time": "2023-01-06T09:34:27.574Z"
   },
   {
    "duration": 125,
    "start_time": "2023-01-06T09:34:27.587Z"
   },
   {
    "duration": 16,
    "start_time": "2023-01-06T09:38:35.851Z"
   },
   {
    "duration": 24,
    "start_time": "2023-01-06T09:39:08.371Z"
   },
   {
    "duration": 11,
    "start_time": "2023-01-06T09:39:25.621Z"
   },
   {
    "duration": 17,
    "start_time": "2023-01-06T09:39:38.811Z"
   },
   {
    "duration": 16,
    "start_time": "2023-01-06T09:39:55.040Z"
   },
   {
    "duration": 16,
    "start_time": "2023-01-06T09:40:22.372Z"
   },
   {
    "duration": 9,
    "start_time": "2023-01-06T09:40:46.501Z"
   },
   {
    "duration": 18,
    "start_time": "2023-01-06T09:41:03.731Z"
   },
   {
    "duration": 14,
    "start_time": "2023-01-06T09:47:17.579Z"
   },
   {
    "duration": 13,
    "start_time": "2023-01-06T09:48:46.579Z"
   },
   {
    "duration": 73,
    "start_time": "2023-01-06T09:55:59.701Z"
   },
   {
    "duration": 14,
    "start_time": "2023-01-06T09:56:10.790Z"
   },
   {
    "duration": 14,
    "start_time": "2023-01-06T09:58:30.831Z"
   },
   {
    "duration": 15,
    "start_time": "2023-01-06T09:58:49.589Z"
   },
   {
    "duration": 14,
    "start_time": "2023-01-06T10:00:31.840Z"
   },
   {
    "duration": 14,
    "start_time": "2023-01-06T10:07:38.349Z"
   },
   {
    "duration": 14,
    "start_time": "2023-01-06T10:08:29.218Z"
   },
   {
    "duration": 19,
    "start_time": "2023-01-06T10:10:04.951Z"
   },
   {
    "duration": 14,
    "start_time": "2023-01-06T10:19:17.346Z"
   },
   {
    "duration": 5,
    "start_time": "2023-01-06T10:25:16.091Z"
   },
   {
    "duration": 3379,
    "start_time": "2023-01-06T10:26:39.641Z"
   },
   {
    "duration": 54,
    "start_time": "2023-01-06T10:26:43.022Z"
   },
   {
    "duration": 12,
    "start_time": "2023-01-06T10:26:43.078Z"
   },
   {
    "duration": 7,
    "start_time": "2023-01-06T10:26:43.092Z"
   },
   {
    "duration": 1457,
    "start_time": "2023-01-06T10:26:43.101Z"
   },
   {
    "duration": 20,
    "start_time": "2023-01-06T10:26:44.559Z"
   },
   {
    "duration": 4,
    "start_time": "2023-01-06T10:26:44.580Z"
   },
   {
    "duration": 1062,
    "start_time": "2023-01-06T10:26:44.586Z"
   },
   {
    "duration": 5,
    "start_time": "2023-01-06T10:26:45.650Z"
   },
   {
    "duration": 30,
    "start_time": "2023-01-06T10:26:45.658Z"
   },
   {
    "duration": 10,
    "start_time": "2023-01-06T10:26:45.689Z"
   },
   {
    "duration": 177,
    "start_time": "2023-01-06T10:26:45.701Z"
   },
   {
    "duration": 13,
    "start_time": "2023-01-06T11:02:17.099Z"
   },
   {
    "duration": 4,
    "start_time": "2023-01-06T11:03:30.108Z"
   },
   {
    "duration": 47,
    "start_time": "2023-01-06T11:05:10.951Z"
   },
   {
    "duration": 1335,
    "start_time": "2023-01-06T11:05:19.480Z"
   },
   {
    "duration": 52,
    "start_time": "2023-01-06T11:05:20.817Z"
   },
   {
    "duration": 13,
    "start_time": "2023-01-06T11:05:20.871Z"
   },
   {
    "duration": 6,
    "start_time": "2023-01-06T11:05:20.886Z"
   },
   {
    "duration": 1424,
    "start_time": "2023-01-06T11:05:20.894Z"
   },
   {
    "duration": 13,
    "start_time": "2023-01-06T11:05:22.321Z"
   },
   {
    "duration": 8,
    "start_time": "2023-01-06T11:05:22.336Z"
   },
   {
    "duration": 1035,
    "start_time": "2023-01-06T11:05:22.345Z"
   },
   {
    "duration": 5,
    "start_time": "2023-01-06T11:05:23.382Z"
   },
   {
    "duration": 28,
    "start_time": "2023-01-06T11:05:23.389Z"
   },
   {
    "duration": 11,
    "start_time": "2023-01-06T11:05:23.419Z"
   },
   {
    "duration": 129,
    "start_time": "2023-01-06T11:05:23.432Z"
   },
   {
    "duration": 21,
    "start_time": "2023-01-06T11:06:50.659Z"
   },
   {
    "duration": 9,
    "start_time": "2023-01-06T11:07:15.179Z"
   },
   {
    "duration": 19,
    "start_time": "2023-01-06T11:07:58.100Z"
   },
   {
    "duration": 15,
    "start_time": "2023-01-06T11:08:03.071Z"
   },
   {
    "duration": 14,
    "start_time": "2023-01-06T11:08:12.599Z"
   },
   {
    "duration": 1806,
    "start_time": "2023-01-06T11:10:16.391Z"
   },
   {
    "duration": 14,
    "start_time": "2023-01-06T11:10:27.568Z"
   },
   {
    "duration": 19,
    "start_time": "2023-01-06T11:10:30.471Z"
   },
   {
    "duration": 16,
    "start_time": "2023-01-06T11:10:52.471Z"
   },
   {
    "duration": 13,
    "start_time": "2023-01-06T11:11:22.451Z"
   },
   {
    "duration": 15,
    "start_time": "2023-01-06T11:11:42.148Z"
   },
   {
    "duration": 3,
    "start_time": "2023-01-06T11:18:02.831Z"
   },
   {
    "duration": 1616,
    "start_time": "2023-01-06T11:18:03.519Z"
   },
   {
    "duration": 3436,
    "start_time": "2023-01-06T11:19:43.048Z"
   },
   {
    "duration": 56,
    "start_time": "2023-01-06T11:19:46.487Z"
   },
   {
    "duration": 15,
    "start_time": "2023-01-06T11:19:46.544Z"
   },
   {
    "duration": 3,
    "start_time": "2023-01-06T11:19:46.561Z"
   },
   {
    "duration": 1495,
    "start_time": "2023-01-06T11:19:46.566Z"
   },
   {
    "duration": 20,
    "start_time": "2023-01-06T11:19:48.063Z"
   },
   {
    "duration": 1194,
    "start_time": "2023-01-06T11:19:48.084Z"
   },
   {
    "duration": 0,
    "start_time": "2023-01-06T11:19:49.280Z"
   },
   {
    "duration": 0,
    "start_time": "2023-01-06T11:19:49.281Z"
   },
   {
    "duration": 0,
    "start_time": "2023-01-06T11:19:49.282Z"
   },
   {
    "duration": 0,
    "start_time": "2023-01-06T11:19:49.283Z"
   },
   {
    "duration": 0,
    "start_time": "2023-01-06T11:19:49.284Z"
   },
   {
    "duration": 6,
    "start_time": "2023-01-06T11:20:14.401Z"
   },
   {
    "duration": 1083,
    "start_time": "2023-01-06T11:20:20.457Z"
   },
   {
    "duration": 5,
    "start_time": "2023-01-06T11:20:21.542Z"
   },
   {
    "duration": 44,
    "start_time": "2023-01-06T11:20:21.549Z"
   },
   {
    "duration": 47,
    "start_time": "2023-01-06T11:20:21.595Z"
   },
   {
    "duration": 0,
    "start_time": "2023-01-06T11:20:21.644Z"
   },
   {
    "duration": 15,
    "start_time": "2023-01-06T11:20:37.018Z"
   },
   {
    "duration": 14,
    "start_time": "2023-01-06T11:20:39.169Z"
   },
   {
    "duration": 15,
    "start_time": "2023-01-06T11:20:41.151Z"
   },
   {
    "duration": 51,
    "start_time": "2023-01-06T11:20:42.655Z"
   },
   {
    "duration": 14,
    "start_time": "2023-01-06T11:27:15.171Z"
   },
   {
    "duration": 3454,
    "start_time": "2023-01-06T11:27:20.794Z"
   },
   {
    "duration": 56,
    "start_time": "2023-01-06T11:27:24.250Z"
   },
   {
    "duration": 15,
    "start_time": "2023-01-06T11:27:24.307Z"
   },
   {
    "duration": 1533,
    "start_time": "2023-01-06T11:27:24.324Z"
   },
   {
    "duration": 20,
    "start_time": "2023-01-06T11:27:25.859Z"
   },
   {
    "duration": 23,
    "start_time": "2023-01-06T11:27:25.880Z"
   },
   {
    "duration": 1111,
    "start_time": "2023-01-06T11:27:25.905Z"
   },
   {
    "duration": 4,
    "start_time": "2023-01-06T11:27:27.018Z"
   },
   {
    "duration": 61,
    "start_time": "2023-01-06T11:27:27.025Z"
   },
   {
    "duration": 25,
    "start_time": "2023-01-06T11:27:27.087Z"
   },
   {
    "duration": 63,
    "start_time": "2023-01-06T11:27:27.114Z"
   },
   {
    "duration": 48,
    "start_time": "2023-01-06T11:27:55.717Z"
   },
   {
    "duration": 30,
    "start_time": "2023-01-06T11:28:02.760Z"
   },
   {
    "duration": 48,
    "start_time": "2023-01-06T11:29:18.832Z"
   },
   {
    "duration": 2203,
    "start_time": "2023-01-06T11:42:14.342Z"
   },
   {
    "duration": 112,
    "start_time": "2023-01-06T11:44:02.732Z"
   },
   {
    "duration": 10727,
    "start_time": "2023-01-06T11:44:13.872Z"
   },
   {
    "duration": 75,
    "start_time": "2023-01-06T11:46:27.150Z"
   },
   {
    "duration": 10782,
    "start_time": "2023-01-06T11:47:12.415Z"
   },
   {
    "duration": 28,
    "start_time": "2023-01-06T11:50:31.224Z"
   },
   {
    "duration": 31,
    "start_time": "2023-01-06T11:51:52.976Z"
   },
   {
    "duration": 32,
    "start_time": "2023-01-06T11:52:08.112Z"
   },
   {
    "duration": 49,
    "start_time": "2023-01-06T11:52:14.035Z"
   },
   {
    "duration": 31,
    "start_time": "2023-01-06T11:52:25.842Z"
   },
   {
    "duration": 39,
    "start_time": "2023-01-06T11:52:57.584Z"
   },
   {
    "duration": 99936,
    "start_time": "2023-01-06T11:55:56.384Z"
   },
   {
    "duration": 102,
    "start_time": "2023-01-06T12:34:44.105Z"
   },
   {
    "duration": 214,
    "start_time": "2023-01-06T12:37:30.663Z"
   },
   {
    "duration": 72,
    "start_time": "2023-01-06T12:48:00.323Z"
   },
   {
    "duration": 100269,
    "start_time": "2023-01-06T12:50:37.670Z"
   },
   {
    "duration": 172,
    "start_time": "2023-01-06T12:55:12.684Z"
   },
   {
    "duration": 152,
    "start_time": "2023-01-06T12:58:58.244Z"
   },
   {
    "duration": 97336,
    "start_time": "2023-01-06T12:59:44.302Z"
   },
   {
    "duration": 170,
    "start_time": "2023-01-06T13:01:30.577Z"
   },
   {
    "duration": 11199,
    "start_time": "2023-01-06T13:03:40.117Z"
   },
   {
    "duration": 31,
    "start_time": "2023-01-06T13:05:24.747Z"
   },
   {
    "duration": 29,
    "start_time": "2023-01-06T13:06:05.901Z"
   },
   {
    "duration": 258,
    "start_time": "2023-01-06T13:08:35.520Z"
   },
   {
    "duration": 144,
    "start_time": "2023-01-06T13:09:07.139Z"
   },
   {
    "duration": 33,
    "start_time": "2023-01-06T13:15:37.360Z"
   },
   {
    "duration": 117,
    "start_time": "2023-01-06T13:16:59.921Z"
   },
   {
    "duration": 132,
    "start_time": "2023-01-06T13:17:25.451Z"
   },
   {
    "duration": 69,
    "start_time": "2023-01-07T07:35:43.045Z"
   },
   {
    "duration": 4257,
    "start_time": "2023-01-07T07:35:55.406Z"
   },
   {
    "duration": 94,
    "start_time": "2023-01-07T07:35:59.666Z"
   },
   {
    "duration": 13,
    "start_time": "2023-01-07T07:35:59.761Z"
   },
   {
    "duration": 1444,
    "start_time": "2023-01-07T07:35:59.776Z"
   },
   {
    "duration": 12,
    "start_time": "2023-01-07T07:36:01.222Z"
   },
   {
    "duration": 27,
    "start_time": "2023-01-07T07:36:01.235Z"
   },
   {
    "duration": 1092,
    "start_time": "2023-01-07T07:36:01.264Z"
   },
   {
    "duration": 4,
    "start_time": "2023-01-07T07:36:02.358Z"
   },
   {
    "duration": 30,
    "start_time": "2023-01-07T07:36:02.363Z"
   },
   {
    "duration": 11,
    "start_time": "2023-01-07T07:36:02.395Z"
   },
   {
    "duration": 42,
    "start_time": "2023-01-07T07:36:02.407Z"
   },
   {
    "duration": 10397,
    "start_time": "2023-01-07T07:36:02.451Z"
   },
   {
    "duration": 34,
    "start_time": "2023-01-07T07:36:12.850Z"
   },
   {
    "duration": 96943,
    "start_time": "2023-01-07T07:36:12.885Z"
   },
   {
    "duration": 151,
    "start_time": "2023-01-07T07:37:49.829Z"
   },
   {
    "duration": 444,
    "start_time": "2023-01-07T07:37:49.981Z"
   },
   {
    "duration": 11181,
    "start_time": "2023-01-07T07:37:50.427Z"
   },
   {
    "duration": 32,
    "start_time": "2023-01-07T07:40:12.748Z"
   },
   {
    "duration": 34,
    "start_time": "2023-01-07T07:43:07.150Z"
   },
   {
    "duration": 50,
    "start_time": "2023-01-07T07:44:01.945Z"
   },
   {
    "duration": 119,
    "start_time": "2023-01-07T07:44:06.540Z"
   },
   {
    "duration": 150,
    "start_time": "2023-01-07T07:44:37.379Z"
   },
   {
    "duration": 111,
    "start_time": "2023-01-07T07:49:10.850Z"
   },
   {
    "duration": 14,
    "start_time": "2023-01-07T07:49:56.692Z"
   },
   {
    "duration": 185,
    "start_time": "2023-01-07T07:52:01.045Z"
   },
   {
    "duration": 125,
    "start_time": "2023-01-07T07:52:40.006Z"
   },
   {
    "duration": 191,
    "start_time": "2023-01-07T07:55:48.590Z"
   },
   {
    "duration": 58,
    "start_time": "2023-01-07T07:56:30.815Z"
   },
   {
    "duration": 11,
    "start_time": "2023-01-07T07:58:41.453Z"
   },
   {
    "duration": 36,
    "start_time": "2023-01-07T07:58:42.451Z"
   },
   {
    "duration": 140,
    "start_time": "2023-01-07T07:58:53.138Z"
   },
   {
    "duration": 193,
    "start_time": "2023-01-07T07:58:55.231Z"
   },
   {
    "duration": 233,
    "start_time": "2023-01-07T08:00:47.689Z"
   },
   {
    "duration": 366,
    "start_time": "2023-01-07T08:27:50.663Z"
   },
   {
    "duration": 43,
    "start_time": "2023-01-07T08:29:34.117Z"
   },
   {
    "duration": 37,
    "start_time": "2023-01-07T08:29:39.200Z"
   },
   {
    "duration": 154,
    "start_time": "2023-01-07T08:29:49.730Z"
   },
   {
    "duration": 467,
    "start_time": "2023-01-07T08:29:53.855Z"
   },
   {
    "duration": 11,
    "start_time": "2023-01-07T08:30:03.172Z"
   },
   {
    "duration": 41,
    "start_time": "2023-01-07T08:30:05.419Z"
   },
   {
    "duration": 176,
    "start_time": "2023-01-07T08:30:11.360Z"
   },
   {
    "duration": 389,
    "start_time": "2023-01-07T08:30:17.133Z"
   },
   {
    "duration": 13,
    "start_time": "2023-01-07T08:30:26.704Z"
   },
   {
    "duration": 41,
    "start_time": "2023-01-07T08:30:27.424Z"
   },
   {
    "duration": 173,
    "start_time": "2023-01-07T08:30:30.216Z"
   },
   {
    "duration": 261,
    "start_time": "2023-01-07T08:30:32.579Z"
   },
   {
    "duration": 15,
    "start_time": "2023-01-07T08:30:39.526Z"
   },
   {
    "duration": 38,
    "start_time": "2023-01-07T08:30:40.935Z"
   },
   {
    "duration": 147,
    "start_time": "2023-01-07T08:30:42.164Z"
   },
   {
    "duration": 190,
    "start_time": "2023-01-07T08:30:43.345Z"
   },
   {
    "duration": 11,
    "start_time": "2023-01-07T08:32:20.209Z"
   },
   {
    "duration": 15,
    "start_time": "2023-01-07T08:32:29.717Z"
   },
   {
    "duration": 24,
    "start_time": "2023-01-07T08:34:08.974Z"
   },
   {
    "duration": 57,
    "start_time": "2023-01-07T08:34:38.770Z"
   },
   {
    "duration": 38,
    "start_time": "2023-01-07T08:35:09.699Z"
   },
   {
    "duration": 56,
    "start_time": "2023-01-07T08:35:35.097Z"
   },
   {
    "duration": 9,
    "start_time": "2023-01-07T08:45:40.083Z"
   },
   {
    "duration": 5,
    "start_time": "2023-01-07T08:45:56.238Z"
   },
   {
    "duration": 136,
    "start_time": "2023-01-07T08:46:42.632Z"
   },
   {
    "duration": 36,
    "start_time": "2023-01-07T08:47:46.420Z"
   },
   {
    "duration": 31,
    "start_time": "2023-01-07T08:47:55.990Z"
   },
   {
    "duration": 174,
    "start_time": "2023-01-07T08:48:46.980Z"
   },
   {
    "duration": 153,
    "start_time": "2023-01-07T08:48:55.783Z"
   },
   {
    "duration": 51,
    "start_time": "2023-01-07T08:49:26.235Z"
   },
   {
    "duration": 45,
    "start_time": "2023-01-07T08:49:32.843Z"
   },
   {
    "duration": 513,
    "start_time": "2023-01-07T08:49:53.809Z"
   },
   {
    "duration": 195,
    "start_time": "2023-01-07T08:50:02.996Z"
   },
   {
    "duration": 230,
    "start_time": "2023-01-07T08:50:10.505Z"
   },
   {
    "duration": 315,
    "start_time": "2023-01-07T08:50:21.155Z"
   },
   {
    "duration": 228,
    "start_time": "2023-01-07T08:50:27.610Z"
   },
   {
    "duration": 199,
    "start_time": "2023-01-07T08:50:32.680Z"
   },
   {
    "duration": 221,
    "start_time": "2023-01-07T08:50:48.960Z"
   },
   {
    "duration": 156,
    "start_time": "2023-01-07T09:07:13.092Z"
   },
   {
    "duration": 175,
    "start_time": "2023-01-07T09:07:49.312Z"
   },
   {
    "duration": 181,
    "start_time": "2023-01-07T09:08:11.460Z"
   },
   {
    "duration": 170,
    "start_time": "2023-01-07T09:08:33.277Z"
   },
   {
    "duration": 48,
    "start_time": "2023-01-07T09:09:05.942Z"
   },
   {
    "duration": 3,
    "start_time": "2023-01-07T09:12:11.736Z"
   },
   {
    "duration": 183,
    "start_time": "2023-01-07T09:14:32.963Z"
   },
   {
    "duration": 186,
    "start_time": "2023-01-07T09:15:02.750Z"
   },
   {
    "duration": 321,
    "start_time": "2023-01-07T09:15:41.415Z"
   },
   {
    "duration": 223,
    "start_time": "2023-01-07T09:16:25.248Z"
   },
   {
    "duration": 196,
    "start_time": "2023-01-07T09:16:46.953Z"
   },
   {
    "duration": 206,
    "start_time": "2023-01-07T09:19:21.461Z"
   },
   {
    "duration": 149,
    "start_time": "2023-01-07T09:22:58.383Z"
   },
   {
    "duration": 163,
    "start_time": "2023-01-07T09:23:16.992Z"
   },
   {
    "duration": 116,
    "start_time": "2023-01-07T09:27:57.147Z"
   },
   {
    "duration": 102,
    "start_time": "2023-01-07T09:28:04.439Z"
   },
   {
    "duration": 119,
    "start_time": "2023-01-07T09:28:19.028Z"
   },
   {
    "duration": 7,
    "start_time": "2023-01-07T09:28:35.599Z"
   },
   {
    "duration": 131,
    "start_time": "2023-01-07T12:27:33.196Z"
   },
   {
    "duration": 214,
    "start_time": "2023-01-07T12:27:38.776Z"
   },
   {
    "duration": 133,
    "start_time": "2023-01-07T12:28:24.959Z"
   },
   {
    "duration": 50,
    "start_time": "2023-01-07T12:28:31.436Z"
   },
   {
    "duration": 135,
    "start_time": "2023-01-07T12:57:40.597Z"
   },
   {
    "duration": 49,
    "start_time": "2023-01-07T13:00:16.568Z"
   },
   {
    "duration": 53,
    "start_time": "2023-01-07T13:12:29.208Z"
   },
   {
    "duration": 470,
    "start_time": "2023-01-07T13:16:44.652Z"
   },
   {
    "duration": 219,
    "start_time": "2023-01-07T13:19:34.614Z"
   },
   {
    "duration": 44,
    "start_time": "2023-01-07T13:20:59.423Z"
   },
   {
    "duration": 45,
    "start_time": "2023-01-07T13:23:28.789Z"
   },
   {
    "duration": 71,
    "start_time": "2023-01-07T13:24:56.031Z"
   },
   {
    "duration": 52,
    "start_time": "2023-01-07T13:30:49.471Z"
   },
   {
    "duration": 45,
    "start_time": "2023-01-07T13:41:26.824Z"
   },
   {
    "duration": 9,
    "start_time": "2023-01-07T13:51:23.128Z"
   },
   {
    "duration": 4,
    "start_time": "2023-01-07T13:51:41.615Z"
   },
   {
    "duration": 8,
    "start_time": "2023-01-07T13:53:20.297Z"
   },
   {
    "duration": 3279,
    "start_time": "2023-01-07T13:54:36.917Z"
   },
   {
    "duration": 53,
    "start_time": "2023-01-07T13:54:40.197Z"
   },
   {
    "duration": 12,
    "start_time": "2023-01-07T13:54:40.252Z"
   },
   {
    "duration": 1363,
    "start_time": "2023-01-07T13:54:40.266Z"
   },
   {
    "duration": 11,
    "start_time": "2023-01-07T13:54:41.631Z"
   },
   {
    "duration": 4,
    "start_time": "2023-01-07T13:54:41.643Z"
   },
   {
    "duration": 1018,
    "start_time": "2023-01-07T13:54:41.648Z"
   },
   {
    "duration": 4,
    "start_time": "2023-01-07T13:54:42.668Z"
   },
   {
    "duration": 24,
    "start_time": "2023-01-07T13:54:42.674Z"
   },
   {
    "duration": 9,
    "start_time": "2023-01-07T13:54:42.699Z"
   },
   {
    "duration": 41,
    "start_time": "2023-01-07T13:54:42.710Z"
   },
   {
    "duration": 142,
    "start_time": "2023-01-07T13:54:42.753Z"
   },
   {
    "duration": 9947,
    "start_time": "2023-01-07T13:54:42.896Z"
   },
   {
    "duration": 32,
    "start_time": "2023-01-07T13:54:52.847Z"
   },
   {
    "duration": 95074,
    "start_time": "2023-01-07T13:54:52.880Z"
   },
   {
    "duration": 113,
    "start_time": "2023-01-07T13:56:27.956Z"
   },
   {
    "duration": 253,
    "start_time": "2023-01-07T13:56:28.070Z"
   },
   {
    "duration": 119,
    "start_time": "2023-01-07T13:56:28.324Z"
   },
   {
    "duration": 118,
    "start_time": "2023-01-07T13:56:28.444Z"
   },
   {
    "duration": 266,
    "start_time": "2023-01-07T13:56:28.564Z"
   },
   {
    "duration": 93,
    "start_time": "2023-01-07T13:56:28.832Z"
   },
   {
    "duration": 46,
    "start_time": "2023-01-07T13:56:28.927Z"
   },
   {
    "duration": 169,
    "start_time": "2023-01-07T13:56:28.975Z"
   },
   {
    "duration": 385,
    "start_time": "2023-01-07T13:56:29.146Z"
   },
   {
    "duration": 95,
    "start_time": "2023-01-07T13:56:29.533Z"
   },
   {
    "duration": 26,
    "start_time": "2023-01-07T13:56:29.630Z"
   },
   {
    "duration": 76,
    "start_time": "2023-01-07T13:56:29.658Z"
   },
   {
    "duration": 190,
    "start_time": "2023-01-07T13:56:29.736Z"
   },
   {
    "duration": 253,
    "start_time": "2023-01-07T13:56:29.928Z"
   },
   {
    "duration": 163,
    "start_time": "2023-01-07T13:56:30.183Z"
   },
   {
    "duration": 193,
    "start_time": "2023-01-07T13:56:30.348Z"
   },
   {
    "duration": 3983,
    "start_time": "2023-01-07T14:19:54.884Z"
   },
   {
    "duration": 52,
    "start_time": "2023-01-07T14:19:58.869Z"
   },
   {
    "duration": 13,
    "start_time": "2023-01-07T14:19:58.922Z"
   },
   {
    "duration": 1417,
    "start_time": "2023-01-07T14:19:58.937Z"
   },
   {
    "duration": 10,
    "start_time": "2023-01-07T14:20:00.356Z"
   },
   {
    "duration": 11,
    "start_time": "2023-01-07T14:20:00.368Z"
   },
   {
    "duration": 1056,
    "start_time": "2023-01-07T14:20:00.381Z"
   },
   {
    "duration": 4,
    "start_time": "2023-01-07T14:20:01.439Z"
   },
   {
    "duration": 49,
    "start_time": "2023-01-07T14:20:01.445Z"
   },
   {
    "duration": 17,
    "start_time": "2023-01-07T14:20:01.496Z"
   },
   {
    "duration": 73,
    "start_time": "2023-01-07T14:20:01.515Z"
   },
   {
    "duration": 132,
    "start_time": "2023-01-07T14:20:01.590Z"
   },
   {
    "duration": 10036,
    "start_time": "2023-01-07T14:20:01.724Z"
   },
   {
    "duration": 41,
    "start_time": "2023-01-07T14:20:11.762Z"
   },
   {
    "duration": 93643,
    "start_time": "2023-01-07T14:20:11.804Z"
   },
   {
    "duration": 111,
    "start_time": "2023-01-07T14:21:45.448Z"
   },
   {
    "duration": 244,
    "start_time": "2023-01-07T14:21:45.560Z"
   },
   {
    "duration": 121,
    "start_time": "2023-01-07T14:21:45.805Z"
   },
   {
    "duration": 151,
    "start_time": "2023-01-07T14:21:45.927Z"
   },
   {
    "duration": 224,
    "start_time": "2023-01-07T14:21:46.080Z"
   },
   {
    "duration": 11,
    "start_time": "2023-01-07T14:21:46.397Z"
   },
   {
    "duration": 39,
    "start_time": "2023-01-07T14:21:46.409Z"
   },
   {
    "duration": 168,
    "start_time": "2023-01-07T14:21:46.450Z"
   },
   {
    "duration": 279,
    "start_time": "2023-01-07T14:21:46.620Z"
   },
   {
    "duration": 104,
    "start_time": "2023-01-07T14:21:46.900Z"
   },
   {
    "duration": 21,
    "start_time": "2023-01-07T14:21:47.006Z"
   },
   {
    "duration": 75,
    "start_time": "2023-01-07T14:21:47.029Z"
   },
   {
    "duration": 297,
    "start_time": "2023-01-07T14:21:47.107Z"
   },
   {
    "duration": 268,
    "start_time": "2023-01-07T14:21:47.406Z"
   },
   {
    "duration": 150,
    "start_time": "2023-01-07T14:21:47.676Z"
   },
   {
    "duration": 157,
    "start_time": "2023-01-07T14:21:47.828Z"
   },
   {
    "duration": 4566,
    "start_time": "2023-01-09T11:36:58.247Z"
   },
   {
    "duration": 11567,
    "start_time": "2023-01-09T11:40:36.267Z"
   },
   {
    "duration": 4419,
    "start_time": "2023-01-09T11:41:27.957Z"
   },
   {
    "duration": 4529,
    "start_time": "2023-01-09T11:41:36.880Z"
   },
   {
    "duration": 3,
    "start_time": "2023-01-09T11:43:32.460Z"
   },
   {
    "duration": 2,
    "start_time": "2023-01-09T11:52:20.109Z"
   },
   {
    "duration": 126,
    "start_time": "2023-01-09T11:54:36.182Z"
   },
   {
    "duration": 5665,
    "start_time": "2023-01-09T11:54:48.017Z"
   },
   {
    "duration": 179,
    "start_time": "2023-01-09T11:54:53.685Z"
   },
   {
    "duration": 13,
    "start_time": "2023-01-09T11:54:53.865Z"
   },
   {
    "duration": 1425,
    "start_time": "2023-01-09T11:54:53.880Z"
   },
   {
    "duration": 13,
    "start_time": "2023-01-09T11:54:55.307Z"
   },
   {
    "duration": 6,
    "start_time": "2023-01-09T11:54:55.321Z"
   },
   {
    "duration": 1208,
    "start_time": "2023-01-09T11:54:55.329Z"
   },
   {
    "duration": 4,
    "start_time": "2023-01-09T11:54:56.539Z"
   },
   {
    "duration": 10,
    "start_time": "2023-01-09T11:54:56.545Z"
   },
   {
    "duration": 16,
    "start_time": "2023-01-09T11:54:56.557Z"
   },
   {
    "duration": 116,
    "start_time": "2023-01-09T11:55:14.693Z"
   },
   {
    "duration": 16,
    "start_time": "2023-01-09T11:57:44.589Z"
   },
   {
    "duration": 21,
    "start_time": "2023-01-09T11:57:52.790Z"
   },
   {
    "duration": 12,
    "start_time": "2023-01-09T12:01:28.735Z"
   },
   {
    "duration": 16,
    "start_time": "2023-01-09T12:04:46.446Z"
   },
   {
    "duration": 13,
    "start_time": "2023-01-09T12:06:37.455Z"
   },
   {
    "duration": 4203,
    "start_time": "2023-01-09T12:12:23.730Z"
   },
   {
    "duration": 49,
    "start_time": "2023-01-09T12:12:27.936Z"
   },
   {
    "duration": 15,
    "start_time": "2023-01-09T12:12:27.987Z"
   },
   {
    "duration": 1392,
    "start_time": "2023-01-09T12:12:28.005Z"
   },
   {
    "duration": 16,
    "start_time": "2023-01-09T12:12:29.399Z"
   },
   {
    "duration": 4,
    "start_time": "2023-01-09T12:12:29.417Z"
   },
   {
    "duration": 1024,
    "start_time": "2023-01-09T12:12:29.423Z"
   },
   {
    "duration": 5,
    "start_time": "2023-01-09T12:12:30.449Z"
   },
   {
    "duration": 74,
    "start_time": "2023-01-09T12:12:30.456Z"
   },
   {
    "duration": 34,
    "start_time": "2023-01-09T12:12:30.533Z"
   },
   {
    "duration": 78,
    "start_time": "2023-01-09T12:12:30.569Z"
   },
   {
    "duration": 0,
    "start_time": "2023-01-09T12:12:30.649Z"
   },
   {
    "duration": 37,
    "start_time": "2023-01-09T12:12:59.464Z"
   },
   {
    "duration": 21,
    "start_time": "2023-01-09T12:14:40.890Z"
   },
   {
    "duration": 24,
    "start_time": "2023-01-09T12:17:27.016Z"
   },
   {
    "duration": 13,
    "start_time": "2023-01-09T12:17:38.333Z"
   },
   {
    "duration": 20,
    "start_time": "2023-01-09T12:18:38.764Z"
   },
   {
    "duration": 28,
    "start_time": "2023-01-09T12:19:03.373Z"
   },
   {
    "duration": 2185,
    "start_time": "2023-01-09T12:19:22.342Z"
   },
   {
    "duration": 31,
    "start_time": "2023-01-09T12:19:32.182Z"
   },
   {
    "duration": 27,
    "start_time": "2023-01-09T12:25:39.353Z"
   },
   {
    "duration": 144,
    "start_time": "2023-01-09T12:26:21.281Z"
   },
   {
    "duration": 3881,
    "start_time": "2023-01-09T12:27:47.128Z"
   },
   {
    "duration": 63,
    "start_time": "2023-01-09T12:27:51.012Z"
   },
   {
    "duration": 13,
    "start_time": "2023-01-09T12:27:51.077Z"
   },
   {
    "duration": 1512,
    "start_time": "2023-01-09T12:27:51.093Z"
   },
   {
    "duration": 14,
    "start_time": "2023-01-09T12:27:52.607Z"
   },
   {
    "duration": 5,
    "start_time": "2023-01-09T12:27:52.623Z"
   },
   {
    "duration": 1215,
    "start_time": "2023-01-09T12:27:52.630Z"
   },
   {
    "duration": 4,
    "start_time": "2023-01-09T12:27:53.847Z"
   },
   {
    "duration": 7,
    "start_time": "2023-01-09T12:27:53.853Z"
   },
   {
    "duration": 22,
    "start_time": "2023-01-09T12:27:53.862Z"
   },
   {
    "duration": 149,
    "start_time": "2023-01-09T12:27:53.886Z"
   },
   {
    "duration": 3579,
    "start_time": "2023-01-09T12:28:22.814Z"
   },
   {
    "duration": 58,
    "start_time": "2023-01-09T12:28:26.395Z"
   },
   {
    "duration": 14,
    "start_time": "2023-01-09T12:28:26.455Z"
   },
   {
    "duration": 1484,
    "start_time": "2023-01-09T12:28:26.471Z"
   },
   {
    "duration": 13,
    "start_time": "2023-01-09T12:28:27.958Z"
   },
   {
    "duration": 9,
    "start_time": "2023-01-09T12:28:27.973Z"
   },
   {
    "duration": 1321,
    "start_time": "2023-01-09T12:28:27.984Z"
   },
   {
    "duration": 5,
    "start_time": "2023-01-09T12:28:29.308Z"
   },
   {
    "duration": 7,
    "start_time": "2023-01-09T12:28:29.315Z"
   },
   {
    "duration": 21,
    "start_time": "2023-01-09T12:28:29.325Z"
   },
   {
    "duration": 148,
    "start_time": "2023-01-09T12:28:29.348Z"
   },
   {
    "duration": 23,
    "start_time": "2023-01-09T12:29:30.390Z"
   },
   {
    "duration": 3693,
    "start_time": "2023-01-09T12:29:45.624Z"
   },
   {
    "duration": 57,
    "start_time": "2023-01-09T12:29:49.320Z"
   },
   {
    "duration": 18,
    "start_time": "2023-01-09T12:29:49.379Z"
   },
   {
    "duration": 1488,
    "start_time": "2023-01-09T12:29:49.399Z"
   },
   {
    "duration": 22,
    "start_time": "2023-01-09T12:29:50.890Z"
   },
   {
    "duration": 5,
    "start_time": "2023-01-09T12:29:50.914Z"
   },
   {
    "duration": 1253,
    "start_time": "2023-01-09T12:29:50.921Z"
   },
   {
    "duration": 6,
    "start_time": "2023-01-09T12:29:52.176Z"
   },
   {
    "duration": 24,
    "start_time": "2023-01-09T12:29:52.184Z"
   },
   {
    "duration": 28,
    "start_time": "2023-01-09T12:29:52.211Z"
   },
   {
    "duration": 127,
    "start_time": "2023-01-09T12:30:00.649Z"
   },
   {
    "duration": 25,
    "start_time": "2023-01-09T12:30:11.140Z"
   },
   {
    "duration": 14,
    "start_time": "2023-01-09T12:39:07.165Z"
   },
   {
    "duration": 5027,
    "start_time": "2023-01-09T17:26:38.436Z"
   },
   {
    "duration": 109,
    "start_time": "2023-01-09T17:26:43.465Z"
   },
   {
    "duration": 12,
    "start_time": "2023-01-09T17:26:43.576Z"
   },
   {
    "duration": 1368,
    "start_time": "2023-01-09T17:26:43.589Z"
   },
   {
    "duration": 11,
    "start_time": "2023-01-09T17:26:44.959Z"
   },
   {
    "duration": 4,
    "start_time": "2023-01-09T17:26:44.971Z"
   },
   {
    "duration": 1022,
    "start_time": "2023-01-09T17:26:44.976Z"
   },
   {
    "duration": 4,
    "start_time": "2023-01-09T17:26:45.999Z"
   },
   {
    "duration": 6,
    "start_time": "2023-01-09T17:26:46.004Z"
   },
   {
    "duration": 19,
    "start_time": "2023-01-09T17:26:46.011Z"
   },
   {
    "duration": 109,
    "start_time": "2023-01-09T17:26:59.627Z"
   },
   {
    "duration": 12,
    "start_time": "2023-01-09T17:27:28.953Z"
   },
   {
    "duration": 17,
    "start_time": "2023-01-09T17:27:56.503Z"
   },
   {
    "duration": 13,
    "start_time": "2023-01-09T17:28:20.196Z"
   },
   {
    "duration": 12,
    "start_time": "2023-01-09T17:29:50.762Z"
   },
   {
    "duration": 3242,
    "start_time": "2023-01-09T17:30:31.029Z"
   },
   {
    "duration": 54,
    "start_time": "2023-01-09T17:30:34.273Z"
   },
   {
    "duration": 12,
    "start_time": "2023-01-09T17:30:34.328Z"
   },
   {
    "duration": 1432,
    "start_time": "2023-01-09T17:30:34.342Z"
   },
   {
    "duration": 11,
    "start_time": "2023-01-09T17:30:35.776Z"
   },
   {
    "duration": 22,
    "start_time": "2023-01-09T17:30:35.797Z"
   },
   {
    "duration": 1093,
    "start_time": "2023-01-09T17:30:35.821Z"
   },
   {
    "duration": 4,
    "start_time": "2023-01-09T17:30:36.916Z"
   },
   {
    "duration": 7,
    "start_time": "2023-01-09T17:30:36.922Z"
   },
   {
    "duration": 19,
    "start_time": "2023-01-09T17:30:36.931Z"
   },
   {
    "duration": 109,
    "start_time": "2023-01-09T17:34:13.635Z"
   },
   {
    "duration": 16,
    "start_time": "2023-01-09T17:34:28.356Z"
   },
   {
    "duration": 9349,
    "start_time": "2023-01-09T17:35:27.186Z"
   },
   {
    "duration": 54,
    "start_time": "2023-01-09T17:35:36.537Z"
   },
   {
    "duration": 12,
    "start_time": "2023-01-09T17:35:36.593Z"
   },
   {
    "duration": 1243,
    "start_time": "2023-01-09T17:35:36.606Z"
   },
   {
    "duration": 11,
    "start_time": "2023-01-09T17:35:37.852Z"
   },
   {
    "duration": 9,
    "start_time": "2023-01-09T17:35:37.865Z"
   },
   {
    "duration": 1099,
    "start_time": "2023-01-09T17:35:37.875Z"
   },
   {
    "duration": 5,
    "start_time": "2023-01-09T17:35:38.976Z"
   },
   {
    "duration": 38,
    "start_time": "2023-01-09T17:35:38.982Z"
   },
   {
    "duration": 28,
    "start_time": "2023-01-09T17:35:39.022Z"
   },
   {
    "duration": 15,
    "start_time": "2023-01-09T17:35:49.351Z"
   },
   {
    "duration": 5317,
    "start_time": "2023-01-09T17:40:09.075Z"
   },
   {
    "duration": 54,
    "start_time": "2023-01-09T17:40:14.394Z"
   },
   {
    "duration": 13,
    "start_time": "2023-01-09T17:40:14.449Z"
   },
   {
    "duration": 1415,
    "start_time": "2023-01-09T17:40:14.464Z"
   },
   {
    "duration": 24,
    "start_time": "2023-01-09T17:40:15.880Z"
   },
   {
    "duration": 4,
    "start_time": "2023-01-09T17:40:15.905Z"
   },
   {
    "duration": 1135,
    "start_time": "2023-01-09T17:40:15.911Z"
   },
   {
    "duration": 4,
    "start_time": "2023-01-09T17:40:17.048Z"
   },
   {
    "duration": 13,
    "start_time": "2023-01-09T17:40:17.054Z"
   },
   {
    "duration": 27,
    "start_time": "2023-01-09T17:40:17.071Z"
   },
   {
    "duration": 21,
    "start_time": "2023-01-09T17:40:17.100Z"
   },
   {
    "duration": 120,
    "start_time": "2023-01-09T17:40:17.123Z"
   },
   {
    "duration": 14,
    "start_time": "2023-01-09T17:40:48.038Z"
   },
   {
    "duration": 14,
    "start_time": "2023-01-09T17:41:17.021Z"
   },
   {
    "duration": 5263,
    "start_time": "2023-01-09T17:41:33.718Z"
   },
   {
    "duration": 57,
    "start_time": "2023-01-09T17:41:38.983Z"
   },
   {
    "duration": 15,
    "start_time": "2023-01-09T17:41:39.042Z"
   },
   {
    "duration": 1339,
    "start_time": "2023-01-09T17:41:39.058Z"
   },
   {
    "duration": 11,
    "start_time": "2023-01-09T17:41:40.399Z"
   },
   {
    "duration": 4,
    "start_time": "2023-01-09T17:41:40.412Z"
   },
   {
    "duration": 1149,
    "start_time": "2023-01-09T17:41:40.417Z"
   },
   {
    "duration": 3,
    "start_time": "2023-01-09T17:41:41.568Z"
   },
   {
    "duration": 21,
    "start_time": "2023-01-09T17:41:41.573Z"
   },
   {
    "duration": 28,
    "start_time": "2023-01-09T17:41:41.595Z"
   },
   {
    "duration": 46,
    "start_time": "2023-01-09T17:41:41.625Z"
   },
   {
    "duration": 51,
    "start_time": "2023-01-09T17:53:14.099Z"
   },
   {
    "duration": 12354,
    "start_time": "2023-01-09T17:53:34.823Z"
   },
   {
    "duration": 111,
    "start_time": "2023-01-09T17:53:47.179Z"
   },
   {
    "duration": 14,
    "start_time": "2023-01-09T17:53:47.292Z"
   },
   {
    "duration": 1553,
    "start_time": "2023-01-09T17:53:47.308Z"
   },
   {
    "duration": 23,
    "start_time": "2023-01-09T17:53:48.863Z"
   },
   {
    "duration": 5,
    "start_time": "2023-01-09T17:53:48.888Z"
   },
   {
    "duration": 1274,
    "start_time": "2023-01-09T17:53:48.895Z"
   },
   {
    "duration": 5,
    "start_time": "2023-01-09T17:53:50.171Z"
   },
   {
    "duration": 5,
    "start_time": "2023-01-09T17:53:50.178Z"
   },
   {
    "duration": 21,
    "start_time": "2023-01-09T17:53:50.185Z"
   },
   {
    "duration": 25,
    "start_time": "2023-01-09T17:53:50.208Z"
   },
   {
    "duration": 32,
    "start_time": "2023-01-09T17:53:50.234Z"
   },
   {
    "duration": 122,
    "start_time": "2023-01-09T17:53:59.993Z"
   },
   {
    "duration": 5322,
    "start_time": "2023-01-09T17:54:32.593Z"
   },
   {
    "duration": 56,
    "start_time": "2023-01-09T17:54:37.918Z"
   },
   {
    "duration": 13,
    "start_time": "2023-01-09T17:54:37.976Z"
   },
   {
    "duration": 1476,
    "start_time": "2023-01-09T17:54:37.990Z"
   },
   {
    "duration": 19,
    "start_time": "2023-01-09T17:54:39.468Z"
   },
   {
    "duration": 5,
    "start_time": "2023-01-09T17:54:39.488Z"
   },
   {
    "duration": 1166,
    "start_time": "2023-01-09T17:54:39.494Z"
   },
   {
    "duration": 5,
    "start_time": "2023-01-09T17:54:40.662Z"
   },
   {
    "duration": 6,
    "start_time": "2023-01-09T17:54:40.668Z"
   },
   {
    "duration": 23,
    "start_time": "2023-01-09T17:54:40.676Z"
   },
   {
    "duration": 29,
    "start_time": "2023-01-09T17:54:40.701Z"
   },
   {
    "duration": 14,
    "start_time": "2023-01-09T17:54:40.731Z"
   },
   {
    "duration": 19,
    "start_time": "2023-01-09T17:54:48.460Z"
   },
   {
    "duration": 23,
    "start_time": "2023-01-09T17:55:04.843Z"
   },
   {
    "duration": 37,
    "start_time": "2023-01-09T17:55:32.982Z"
   },
   {
    "duration": 109,
    "start_time": "2023-01-09T18:03:05.340Z"
   },
   {
    "duration": 10858,
    "start_time": "2023-01-10T12:38:17.152Z"
   },
   {
    "duration": 184,
    "start_time": "2023-01-10T12:38:28.012Z"
   },
   {
    "duration": 12,
    "start_time": "2023-01-10T12:38:28.198Z"
   },
   {
    "duration": 1368,
    "start_time": "2023-01-10T12:38:28.211Z"
   },
   {
    "duration": 13,
    "start_time": "2023-01-10T12:38:29.581Z"
   },
   {
    "duration": 6,
    "start_time": "2023-01-10T12:38:29.595Z"
   },
   {
    "duration": 1206,
    "start_time": "2023-01-10T12:38:29.608Z"
   },
   {
    "duration": 5,
    "start_time": "2023-01-10T12:38:30.816Z"
   },
   {
    "duration": 28,
    "start_time": "2023-01-10T12:38:30.823Z"
   },
   {
    "duration": 48,
    "start_time": "2023-01-10T12:38:30.853Z"
   },
   {
    "duration": 27,
    "start_time": "2023-01-10T12:38:30.903Z"
   },
   {
    "duration": 38,
    "start_time": "2023-01-10T12:38:30.932Z"
   },
   {
    "duration": 94,
    "start_time": "2023-01-10T12:38:30.972Z"
   },
   {
    "duration": 110,
    "start_time": "2023-01-10T12:38:31.069Z"
   },
   {
    "duration": 154,
    "start_time": "2023-01-10T12:38:31.181Z"
   },
   {
    "duration": 107,
    "start_time": "2023-01-10T12:38:31.337Z"
   },
   {
    "duration": 137,
    "start_time": "2023-01-10T12:50:00.394Z"
   },
   {
    "duration": 4162,
    "start_time": "2023-01-10T12:50:36.774Z"
   },
   {
    "duration": 49,
    "start_time": "2023-01-10T12:51:00.136Z"
   },
   {
    "duration": 2322,
    "start_time": "2023-01-10T12:52:40.434Z"
   },
   {
    "duration": 420,
    "start_time": "2023-01-10T12:53:16.872Z"
   },
   {
    "duration": 403,
    "start_time": "2023-01-10T12:53:58.276Z"
   },
   {
    "duration": 34,
    "start_time": "2023-01-10T13:03:54.764Z"
   },
   {
    "duration": 126,
    "start_time": "2023-01-10T13:05:42.692Z"
   },
   {
    "duration": 38,
    "start_time": "2023-01-10T13:05:53.831Z"
   },
   {
    "duration": 2346,
    "start_time": "2023-01-10T13:09:07.263Z"
   },
   {
    "duration": 418,
    "start_time": "2023-01-10T13:09:29.714Z"
   },
   {
    "duration": 296,
    "start_time": "2023-01-10T13:10:29.483Z"
   },
   {
    "duration": 7996,
    "start_time": "2023-01-10T13:17:56.633Z"
   },
   {
    "duration": 15,
    "start_time": "2023-01-10T13:19:09.811Z"
   },
   {
    "duration": 12,
    "start_time": "2023-01-10T13:19:12.433Z"
   },
   {
    "duration": 19,
    "start_time": "2023-01-10T13:20:41.332Z"
   },
   {
    "duration": 9,
    "start_time": "2023-01-10T13:20:56.531Z"
   },
   {
    "duration": 37,
    "start_time": "2023-01-10T13:21:39.591Z"
   },
   {
    "duration": 37,
    "start_time": "2023-01-10T13:23:29.221Z"
   },
   {
    "duration": 8288,
    "start_time": "2023-01-10T13:23:40.943Z"
   },
   {
    "duration": 75,
    "start_time": "2023-01-10T13:23:49.234Z"
   },
   {
    "duration": 16,
    "start_time": "2023-01-10T13:23:49.311Z"
   },
   {
    "duration": 1725,
    "start_time": "2023-01-10T13:23:49.329Z"
   },
   {
    "duration": 23,
    "start_time": "2023-01-10T13:23:51.058Z"
   },
   {
    "duration": 11,
    "start_time": "2023-01-10T13:23:51.083Z"
   },
   {
    "duration": 1170,
    "start_time": "2023-01-10T13:23:51.096Z"
   },
   {
    "duration": 5,
    "start_time": "2023-01-10T13:23:52.268Z"
   },
   {
    "duration": 27,
    "start_time": "2023-01-10T13:23:52.275Z"
   },
   {
    "duration": 40,
    "start_time": "2023-01-10T13:23:52.303Z"
   },
   {
    "duration": 26,
    "start_time": "2023-01-10T13:23:52.344Z"
   },
   {
    "duration": 22,
    "start_time": "2023-01-10T13:23:52.371Z"
   },
   {
    "duration": 42,
    "start_time": "2023-01-10T13:23:52.394Z"
   },
   {
    "duration": 65,
    "start_time": "2023-01-10T13:23:52.438Z"
   },
   {
    "duration": 163,
    "start_time": "2023-01-10T13:23:52.505Z"
   },
   {
    "duration": 118,
    "start_time": "2023-01-10T13:23:52.670Z"
   },
   {
    "duration": 38,
    "start_time": "2023-01-10T13:23:52.793Z"
   },
   {
    "duration": 2587,
    "start_time": "2023-01-10T13:23:52.833Z"
   },
   {
    "duration": 448,
    "start_time": "2023-01-10T13:23:55.421Z"
   },
   {
    "duration": 418,
    "start_time": "2023-01-10T13:23:55.870Z"
   },
   {
    "duration": 198,
    "start_time": "2023-01-10T13:23:56.295Z"
   },
   {
    "duration": 41,
    "start_time": "2023-01-10T13:23:56.495Z"
   },
   {
    "duration": 2447,
    "start_time": "2023-01-10T13:23:56.538Z"
   },
   {
    "duration": 477,
    "start_time": "2023-01-10T13:23:58.987Z"
   },
   {
    "duration": 828,
    "start_time": "2023-01-10T13:23:59.466Z"
   },
   {
    "duration": 93,
    "start_time": "2023-01-10T13:24:00.296Z"
   },
   {
    "duration": 50,
    "start_time": "2023-01-10T13:24:00.391Z"
   },
   {
    "duration": 34,
    "start_time": "2023-01-10T13:24:34.743Z"
   },
   {
    "duration": 211,
    "start_time": "2023-01-10T13:25:51.541Z"
   },
   {
    "duration": 58,
    "start_time": "2023-01-10T13:26:55.834Z"
   },
   {
    "duration": 4040,
    "start_time": "2023-01-10T13:28:36.903Z"
   },
   {
    "duration": 711,
    "start_time": "2023-01-10T13:29:15.490Z"
   },
   {
    "duration": 1018,
    "start_time": "2023-01-10T13:29:52.763Z"
   },
   {
    "duration": 6749,
    "start_time": "2023-01-10T13:54:30.423Z"
   },
   {
    "duration": 13,
    "start_time": "2023-01-10T13:57:54.331Z"
   },
   {
    "duration": 60,
    "start_time": "2023-01-10T13:59:00.324Z"
   },
   {
    "duration": 26,
    "start_time": "2023-01-10T13:59:20.719Z"
   },
   {
    "duration": 1494,
    "start_time": "2023-01-10T14:00:26.653Z"
   },
   {
    "duration": 261,
    "start_time": "2023-01-10T14:01:11.403Z"
   },
   {
    "duration": 166,
    "start_time": "2023-01-10T14:01:27.520Z"
   },
   {
    "duration": 50,
    "start_time": "2023-01-10T14:29:58.504Z"
   },
   {
    "duration": 19131,
    "start_time": "2023-01-10T14:30:14.084Z"
   },
   {
    "duration": 117,
    "start_time": "2023-01-10T14:30:33.219Z"
   },
   {
    "duration": 17,
    "start_time": "2023-01-10T14:30:33.338Z"
   },
   {
    "duration": 1807,
    "start_time": "2023-01-10T14:30:33.357Z"
   },
   {
    "duration": 14,
    "start_time": "2023-01-10T14:30:35.167Z"
   },
   {
    "duration": 40,
    "start_time": "2023-01-10T14:30:35.183Z"
   },
   {
    "duration": 1277,
    "start_time": "2023-01-10T14:30:35.225Z"
   },
   {
    "duration": 5,
    "start_time": "2023-01-10T14:30:36.505Z"
   },
   {
    "duration": 19,
    "start_time": "2023-01-10T14:30:36.513Z"
   },
   {
    "duration": 36,
    "start_time": "2023-01-10T14:30:36.534Z"
   },
   {
    "duration": 41,
    "start_time": "2023-01-10T14:30:36.572Z"
   },
   {
    "duration": 43,
    "start_time": "2023-01-10T14:30:36.615Z"
   },
   {
    "duration": 29,
    "start_time": "2023-01-10T14:30:36.660Z"
   },
   {
    "duration": 41,
    "start_time": "2023-01-10T14:30:36.694Z"
   },
   {
    "duration": 155,
    "start_time": "2023-01-10T14:30:36.755Z"
   },
   {
    "duration": 144,
    "start_time": "2023-01-10T14:30:36.913Z"
   },
   {
    "duration": 39,
    "start_time": "2023-01-10T14:30:37.059Z"
   },
   {
    "duration": 2750,
    "start_time": "2023-01-10T14:30:37.100Z"
   },
   {
    "duration": 547,
    "start_time": "2023-01-10T14:30:39.852Z"
   },
   {
    "duration": 160,
    "start_time": "2023-01-10T14:30:40.402Z"
   },
   {
    "duration": 247,
    "start_time": "2023-01-10T14:30:40.565Z"
   },
   {
    "duration": 208,
    "start_time": "2023-01-10T14:30:40.815Z"
   },
   {
    "duration": 0,
    "start_time": "2023-01-10T14:30:41.025Z"
   },
   {
    "duration": 0,
    "start_time": "2023-01-10T14:30:41.027Z"
   },
   {
    "duration": 0,
    "start_time": "2023-01-10T14:30:41.030Z"
   },
   {
    "duration": 0,
    "start_time": "2023-01-10T14:30:41.031Z"
   },
   {
    "duration": 0,
    "start_time": "2023-01-10T14:30:41.033Z"
   },
   {
    "duration": 0,
    "start_time": "2023-01-10T14:30:41.055Z"
   },
   {
    "duration": 0,
    "start_time": "2023-01-10T14:30:41.056Z"
   },
   {
    "duration": 0,
    "start_time": "2023-01-10T14:30:41.058Z"
   },
   {
    "duration": 0,
    "start_time": "2023-01-10T14:30:41.060Z"
   },
   {
    "duration": 0,
    "start_time": "2023-01-10T14:30:41.062Z"
   },
   {
    "duration": 0,
    "start_time": "2023-01-10T14:30:41.064Z"
   },
   {
    "duration": 0,
    "start_time": "2023-01-10T14:30:41.065Z"
   },
   {
    "duration": 0,
    "start_time": "2023-01-10T14:30:41.066Z"
   },
   {
    "duration": 0,
    "start_time": "2023-01-10T14:30:41.066Z"
   },
   {
    "duration": 0,
    "start_time": "2023-01-10T14:30:41.068Z"
   },
   {
    "duration": 0,
    "start_time": "2023-01-10T14:30:41.071Z"
   },
   {
    "duration": 225,
    "start_time": "2023-01-10T14:31:17.535Z"
   },
   {
    "duration": 8546,
    "start_time": "2023-01-10T14:31:35.872Z"
   },
   {
    "duration": 68,
    "start_time": "2023-01-10T14:31:44.422Z"
   },
   {
    "duration": 26,
    "start_time": "2023-01-10T14:31:44.492Z"
   },
   {
    "duration": 1779,
    "start_time": "2023-01-10T14:31:44.522Z"
   },
   {
    "duration": 13,
    "start_time": "2023-01-10T14:31:46.303Z"
   },
   {
    "duration": 4,
    "start_time": "2023-01-10T14:31:46.318Z"
   },
   {
    "duration": 1303,
    "start_time": "2023-01-10T14:31:46.324Z"
   },
   {
    "duration": 5,
    "start_time": "2023-01-10T14:31:47.629Z"
   },
   {
    "duration": 20,
    "start_time": "2023-01-10T14:31:47.637Z"
   },
   {
    "duration": 41,
    "start_time": "2023-01-10T14:31:47.660Z"
   },
   {
    "duration": 45,
    "start_time": "2023-01-10T14:31:47.704Z"
   },
   {
    "duration": 16,
    "start_time": "2023-01-10T14:31:47.751Z"
   },
   {
    "duration": 39,
    "start_time": "2023-01-10T14:31:47.769Z"
   },
   {
    "duration": 90,
    "start_time": "2023-01-10T14:31:47.811Z"
   },
   {
    "duration": 162,
    "start_time": "2023-01-10T14:31:47.904Z"
   },
   {
    "duration": 119,
    "start_time": "2023-01-10T14:31:48.067Z"
   },
   {
    "duration": 48,
    "start_time": "2023-01-10T14:31:48.188Z"
   },
   {
    "duration": 2676,
    "start_time": "2023-01-10T14:31:48.239Z"
   },
   {
    "duration": 494,
    "start_time": "2023-01-10T14:31:50.918Z"
   },
   {
    "duration": 941,
    "start_time": "2023-01-10T14:31:51.414Z"
   },
   {
    "duration": 147,
    "start_time": "2023-01-10T14:31:52.358Z"
   },
   {
    "duration": 224,
    "start_time": "2023-01-10T14:31:52.507Z"
   },
   {
    "duration": 0,
    "start_time": "2023-01-10T14:31:52.732Z"
   },
   {
    "duration": 0,
    "start_time": "2023-01-10T14:31:52.734Z"
   },
   {
    "duration": 0,
    "start_time": "2023-01-10T14:31:52.735Z"
   },
   {
    "duration": 0,
    "start_time": "2023-01-10T14:31:52.737Z"
   },
   {
    "duration": 0,
    "start_time": "2023-01-10T14:31:52.755Z"
   },
   {
    "duration": 0,
    "start_time": "2023-01-10T14:31:52.757Z"
   },
   {
    "duration": 0,
    "start_time": "2023-01-10T14:31:52.758Z"
   },
   {
    "duration": 0,
    "start_time": "2023-01-10T14:31:52.759Z"
   },
   {
    "duration": 0,
    "start_time": "2023-01-10T14:31:52.761Z"
   },
   {
    "duration": 0,
    "start_time": "2023-01-10T14:31:52.762Z"
   },
   {
    "duration": 0,
    "start_time": "2023-01-10T14:31:52.764Z"
   },
   {
    "duration": 0,
    "start_time": "2023-01-10T14:31:52.766Z"
   },
   {
    "duration": 0,
    "start_time": "2023-01-10T14:31:52.767Z"
   },
   {
    "duration": 0,
    "start_time": "2023-01-10T14:31:52.768Z"
   },
   {
    "duration": 0,
    "start_time": "2023-01-10T14:31:52.769Z"
   },
   {
    "duration": 0,
    "start_time": "2023-01-10T14:31:52.770Z"
   },
   {
    "duration": 172,
    "start_time": "2023-01-10T14:32:06.899Z"
   },
   {
    "duration": 8524,
    "start_time": "2023-01-10T14:33:07.371Z"
   },
   {
    "duration": 62,
    "start_time": "2023-01-10T14:33:15.898Z"
   },
   {
    "duration": 16,
    "start_time": "2023-01-10T14:33:15.962Z"
   },
   {
    "duration": 1683,
    "start_time": "2023-01-10T14:33:15.979Z"
   },
   {
    "duration": 13,
    "start_time": "2023-01-10T14:33:17.664Z"
   },
   {
    "duration": 5,
    "start_time": "2023-01-10T14:33:17.678Z"
   },
   {
    "duration": 1239,
    "start_time": "2023-01-10T14:33:17.684Z"
   },
   {
    "duration": 6,
    "start_time": "2023-01-10T14:33:18.925Z"
   },
   {
    "duration": 8,
    "start_time": "2023-01-10T14:33:18.933Z"
   },
   {
    "duration": 27,
    "start_time": "2023-01-10T14:33:18.943Z"
   },
   {
    "duration": 47,
    "start_time": "2023-01-10T14:33:18.972Z"
   },
   {
    "duration": 40,
    "start_time": "2023-01-10T14:33:19.021Z"
   },
   {
    "duration": 28,
    "start_time": "2023-01-10T14:33:19.063Z"
   },
   {
    "duration": 79,
    "start_time": "2023-01-10T14:33:19.096Z"
   },
   {
    "duration": 189,
    "start_time": "2023-01-10T14:33:19.178Z"
   },
   {
    "duration": 136,
    "start_time": "2023-01-10T14:33:19.371Z"
   },
   {
    "duration": 67,
    "start_time": "2023-01-10T14:33:19.510Z"
   },
   {
    "duration": 2691,
    "start_time": "2023-01-10T14:33:19.579Z"
   },
   {
    "duration": 497,
    "start_time": "2023-01-10T14:33:22.272Z"
   },
   {
    "duration": 688,
    "start_time": "2023-01-10T14:33:22.771Z"
   },
   {
    "duration": 139,
    "start_time": "2023-01-10T14:33:23.461Z"
   },
   {
    "duration": 214,
    "start_time": "2023-01-10T14:33:23.602Z"
   },
   {
    "duration": 0,
    "start_time": "2023-01-10T14:33:23.818Z"
   },
   {
    "duration": 0,
    "start_time": "2023-01-10T14:33:23.820Z"
   },
   {
    "duration": 0,
    "start_time": "2023-01-10T14:33:23.821Z"
   },
   {
    "duration": 0,
    "start_time": "2023-01-10T14:33:23.823Z"
   },
   {
    "duration": 0,
    "start_time": "2023-01-10T14:33:23.824Z"
   },
   {
    "duration": 0,
    "start_time": "2023-01-10T14:33:23.826Z"
   },
   {
    "duration": 0,
    "start_time": "2023-01-10T14:33:23.827Z"
   },
   {
    "duration": 0,
    "start_time": "2023-01-10T14:33:23.828Z"
   },
   {
    "duration": 0,
    "start_time": "2023-01-10T14:33:23.830Z"
   },
   {
    "duration": 0,
    "start_time": "2023-01-10T14:33:23.831Z"
   },
   {
    "duration": 0,
    "start_time": "2023-01-10T14:33:23.856Z"
   },
   {
    "duration": 0,
    "start_time": "2023-01-10T14:33:23.857Z"
   },
   {
    "duration": 0,
    "start_time": "2023-01-10T14:33:23.859Z"
   },
   {
    "duration": 0,
    "start_time": "2023-01-10T14:33:23.860Z"
   },
   {
    "duration": 0,
    "start_time": "2023-01-10T14:33:23.863Z"
   },
   {
    "duration": 0,
    "start_time": "2023-01-10T14:33:23.864Z"
   },
   {
    "duration": 94,
    "start_time": "2023-01-10T14:35:30.023Z"
   },
   {
    "duration": 0,
    "start_time": "2023-01-10T14:35:30.120Z"
   },
   {
    "duration": 0,
    "start_time": "2023-01-10T14:35:30.122Z"
   },
   {
    "duration": 0,
    "start_time": "2023-01-10T14:35:30.124Z"
   },
   {
    "duration": 0,
    "start_time": "2023-01-10T14:35:30.125Z"
   },
   {
    "duration": 0,
    "start_time": "2023-01-10T14:35:30.126Z"
   },
   {
    "duration": 0,
    "start_time": "2023-01-10T14:35:30.127Z"
   },
   {
    "duration": 0,
    "start_time": "2023-01-10T14:35:30.128Z"
   },
   {
    "duration": 1,
    "start_time": "2023-01-10T14:35:30.129Z"
   },
   {
    "duration": 0,
    "start_time": "2023-01-10T14:35:30.131Z"
   },
   {
    "duration": 0,
    "start_time": "2023-01-10T14:35:30.132Z"
   },
   {
    "duration": 0,
    "start_time": "2023-01-10T14:35:30.133Z"
   },
   {
    "duration": 0,
    "start_time": "2023-01-10T14:35:30.134Z"
   },
   {
    "duration": 0,
    "start_time": "2023-01-10T14:35:30.136Z"
   },
   {
    "duration": 0,
    "start_time": "2023-01-10T14:35:30.137Z"
   },
   {
    "duration": 0,
    "start_time": "2023-01-10T14:35:30.139Z"
   },
   {
    "duration": 0,
    "start_time": "2023-01-10T14:35:30.139Z"
   },
   {
    "duration": 0,
    "start_time": "2023-01-10T14:35:30.140Z"
   },
   {
    "duration": 0,
    "start_time": "2023-01-10T14:35:30.142Z"
   },
   {
    "duration": 0,
    "start_time": "2023-01-10T14:35:30.143Z"
   },
   {
    "duration": 0,
    "start_time": "2023-01-10T14:35:30.144Z"
   },
   {
    "duration": 0,
    "start_time": "2023-01-10T14:35:30.145Z"
   },
   {
    "duration": 112,
    "start_time": "2023-01-10T14:35:30.147Z"
   },
   {
    "duration": 0,
    "start_time": "2023-01-10T14:35:30.263Z"
   },
   {
    "duration": 0,
    "start_time": "2023-01-10T14:35:30.264Z"
   },
   {
    "duration": 0,
    "start_time": "2023-01-10T14:35:30.266Z"
   },
   {
    "duration": 0,
    "start_time": "2023-01-10T14:35:30.267Z"
   },
   {
    "duration": 0,
    "start_time": "2023-01-10T14:35:30.269Z"
   },
   {
    "duration": 0,
    "start_time": "2023-01-10T14:35:30.270Z"
   },
   {
    "duration": 0,
    "start_time": "2023-01-10T14:35:30.271Z"
   },
   {
    "duration": 0,
    "start_time": "2023-01-10T14:35:30.273Z"
   },
   {
    "duration": 0,
    "start_time": "2023-01-10T14:35:30.275Z"
   },
   {
    "duration": 0,
    "start_time": "2023-01-10T14:35:30.276Z"
   },
   {
    "duration": 0,
    "start_time": "2023-01-10T14:35:30.277Z"
   },
   {
    "duration": 0,
    "start_time": "2023-01-10T14:35:30.278Z"
   },
   {
    "duration": 0,
    "start_time": "2023-01-10T14:35:30.279Z"
   },
   {
    "duration": 0,
    "start_time": "2023-01-10T14:35:30.281Z"
   },
   {
    "duration": 0,
    "start_time": "2023-01-10T14:35:30.282Z"
   },
   {
    "duration": 70,
    "start_time": "2023-01-10T14:36:04.321Z"
   },
   {
    "duration": 0,
    "start_time": "2023-01-10T14:36:04.394Z"
   },
   {
    "duration": 0,
    "start_time": "2023-01-10T14:36:04.396Z"
   },
   {
    "duration": 0,
    "start_time": "2023-01-10T14:36:04.397Z"
   },
   {
    "duration": 0,
    "start_time": "2023-01-10T14:36:04.398Z"
   },
   {
    "duration": 0,
    "start_time": "2023-01-10T14:36:04.400Z"
   },
   {
    "duration": 0,
    "start_time": "2023-01-10T14:36:04.401Z"
   },
   {
    "duration": 0,
    "start_time": "2023-01-10T14:36:04.402Z"
   },
   {
    "duration": 0,
    "start_time": "2023-01-10T14:36:04.404Z"
   },
   {
    "duration": 0,
    "start_time": "2023-01-10T14:36:04.406Z"
   },
   {
    "duration": 0,
    "start_time": "2023-01-10T14:36:04.407Z"
   },
   {
    "duration": 0,
    "start_time": "2023-01-10T14:36:04.408Z"
   },
   {
    "duration": 0,
    "start_time": "2023-01-10T14:36:04.409Z"
   },
   {
    "duration": 0,
    "start_time": "2023-01-10T14:36:04.413Z"
   },
   {
    "duration": 0,
    "start_time": "2023-01-10T14:36:04.414Z"
   },
   {
    "duration": 0,
    "start_time": "2023-01-10T14:36:04.415Z"
   },
   {
    "duration": 0,
    "start_time": "2023-01-10T14:36:04.416Z"
   },
   {
    "duration": 0,
    "start_time": "2023-01-10T14:36:04.417Z"
   },
   {
    "duration": 0,
    "start_time": "2023-01-10T14:36:04.418Z"
   },
   {
    "duration": 0,
    "start_time": "2023-01-10T14:36:04.418Z"
   },
   {
    "duration": 0,
    "start_time": "2023-01-10T14:36:04.419Z"
   },
   {
    "duration": 0,
    "start_time": "2023-01-10T14:36:04.420Z"
   },
   {
    "duration": 115,
    "start_time": "2023-01-10T14:36:04.455Z"
   },
   {
    "duration": 0,
    "start_time": "2023-01-10T14:36:04.574Z"
   },
   {
    "duration": 0,
    "start_time": "2023-01-10T14:36:04.575Z"
   },
   {
    "duration": 0,
    "start_time": "2023-01-10T14:36:04.577Z"
   },
   {
    "duration": 0,
    "start_time": "2023-01-10T14:36:04.579Z"
   },
   {
    "duration": 0,
    "start_time": "2023-01-10T14:36:04.581Z"
   },
   {
    "duration": 0,
    "start_time": "2023-01-10T14:36:04.583Z"
   },
   {
    "duration": 0,
    "start_time": "2023-01-10T14:36:04.584Z"
   },
   {
    "duration": 0,
    "start_time": "2023-01-10T14:36:04.585Z"
   },
   {
    "duration": 0,
    "start_time": "2023-01-10T14:36:04.587Z"
   },
   {
    "duration": 0,
    "start_time": "2023-01-10T14:36:04.589Z"
   },
   {
    "duration": 0,
    "start_time": "2023-01-10T14:36:04.590Z"
   },
   {
    "duration": 0,
    "start_time": "2023-01-10T14:36:04.591Z"
   },
   {
    "duration": 0,
    "start_time": "2023-01-10T14:36:04.593Z"
   },
   {
    "duration": 0,
    "start_time": "2023-01-10T14:36:04.593Z"
   },
   {
    "duration": 0,
    "start_time": "2023-01-10T14:36:04.594Z"
   },
   {
    "duration": 8620,
    "start_time": "2023-01-10T14:36:47.652Z"
   },
   {
    "duration": 61,
    "start_time": "2023-01-10T14:36:56.274Z"
   },
   {
    "duration": 14,
    "start_time": "2023-01-10T14:36:56.337Z"
   },
   {
    "duration": 1645,
    "start_time": "2023-01-10T14:36:56.354Z"
   },
   {
    "duration": 13,
    "start_time": "2023-01-10T14:36:58.002Z"
   },
   {
    "duration": 6,
    "start_time": "2023-01-10T14:36:58.017Z"
   },
   {
    "duration": 1185,
    "start_time": "2023-01-10T14:36:58.025Z"
   },
   {
    "duration": 4,
    "start_time": "2023-01-10T14:36:59.213Z"
   },
   {
    "duration": 6,
    "start_time": "2023-01-10T14:36:59.219Z"
   },
   {
    "duration": 36,
    "start_time": "2023-01-10T14:36:59.227Z"
   },
   {
    "duration": 32,
    "start_time": "2023-01-10T14:36:59.265Z"
   },
   {
    "duration": 15,
    "start_time": "2023-01-10T14:36:59.299Z"
   },
   {
    "duration": 48,
    "start_time": "2023-01-10T14:36:59.316Z"
   },
   {
    "duration": 43,
    "start_time": "2023-01-10T14:36:59.368Z"
   },
   {
    "duration": 163,
    "start_time": "2023-01-10T14:36:59.413Z"
   },
   {
    "duration": 119,
    "start_time": "2023-01-10T14:36:59.578Z"
   },
   {
    "duration": 37,
    "start_time": "2023-01-10T14:36:59.699Z"
   },
   {
    "duration": 2791,
    "start_time": "2023-01-10T14:36:59.738Z"
   },
   {
    "duration": 503,
    "start_time": "2023-01-10T14:37:02.531Z"
   },
   {
    "duration": 1223,
    "start_time": "2023-01-10T14:37:03.037Z"
   },
   {
    "duration": 178,
    "start_time": "2023-01-10T14:37:04.263Z"
   },
   {
    "duration": 72,
    "start_time": "2023-01-10T14:37:04.443Z"
   },
   {
    "duration": 3046,
    "start_time": "2023-01-10T14:37:04.518Z"
   },
   {
    "duration": 546,
    "start_time": "2023-01-10T14:37:07.567Z"
   },
   {
    "duration": 541,
    "start_time": "2023-01-10T14:37:08.115Z"
   },
   {
    "duration": 3,
    "start_time": "2023-01-10T14:37:08.658Z"
   },
   {
    "duration": 49,
    "start_time": "2023-01-10T14:37:08.663Z"
   },
   {
    "duration": 218,
    "start_time": "2023-01-10T14:37:08.714Z"
   },
   {
    "duration": 72,
    "start_time": "2023-01-10T14:37:08.934Z"
   },
   {
    "duration": 4657,
    "start_time": "2023-01-10T14:37:09.009Z"
   },
   {
    "duration": 796,
    "start_time": "2023-01-10T14:37:13.668Z"
   },
   {
    "duration": 491,
    "start_time": "2023-01-10T14:37:14.467Z"
   },
   {
    "duration": 96,
    "start_time": "2023-01-10T14:37:14.960Z"
   },
   {
    "duration": 78,
    "start_time": "2023-01-10T14:37:15.058Z"
   },
   {
    "duration": 37,
    "start_time": "2023-01-10T14:37:15.138Z"
   },
   {
    "duration": 1466,
    "start_time": "2023-01-10T14:37:15.177Z"
   },
   {
    "duration": 272,
    "start_time": "2023-01-10T14:37:16.645Z"
   },
   {
    "duration": 151,
    "start_time": "2023-01-10T14:37:16.919Z"
   },
   {
    "duration": 256,
    "start_time": "2023-01-10T14:37:29.060Z"
   },
   {
    "duration": 14943,
    "start_time": "2023-01-11T11:16:27.168Z"
   },
   {
    "duration": 187,
    "start_time": "2023-01-11T11:16:42.113Z"
   },
   {
    "duration": 14,
    "start_time": "2023-01-11T11:16:42.302Z"
   },
   {
    "duration": 1500,
    "start_time": "2023-01-11T11:16:42.317Z"
   },
   {
    "duration": 20,
    "start_time": "2023-01-11T11:16:43.820Z"
   },
   {
    "duration": 1207,
    "start_time": "2023-01-11T11:16:43.842Z"
   },
   {
    "duration": 1079,
    "start_time": "2023-01-11T11:16:45.051Z"
   },
   {
    "duration": 9,
    "start_time": "2023-01-11T11:16:46.131Z"
   },
   {
    "duration": 22,
    "start_time": "2023-01-11T11:16:46.142Z"
   },
   {
    "duration": 37,
    "start_time": "2023-01-11T11:16:46.166Z"
   },
   {
    "duration": 28,
    "start_time": "2023-01-11T11:16:46.205Z"
   },
   {
    "duration": 16,
    "start_time": "2023-01-11T11:16:46.235Z"
   },
   {
    "duration": 37,
    "start_time": "2023-01-11T11:16:46.252Z"
   },
   {
    "duration": 38,
    "start_time": "2023-01-11T11:16:46.292Z"
   },
   {
    "duration": 149,
    "start_time": "2023-01-11T11:16:46.331Z"
   },
   {
    "duration": 123,
    "start_time": "2023-01-11T11:16:46.482Z"
   },
   {
    "duration": 42,
    "start_time": "2023-01-11T11:16:46.607Z"
   },
   {
    "duration": 2607,
    "start_time": "2023-01-11T11:16:46.651Z"
   },
   {
    "duration": 446,
    "start_time": "2023-01-11T11:16:49.260Z"
   },
   {
    "duration": 530,
    "start_time": "2023-01-11T11:16:49.708Z"
   },
   {
    "duration": 131,
    "start_time": "2023-01-11T11:16:50.241Z"
   },
   {
    "duration": 42,
    "start_time": "2023-01-11T11:16:50.373Z"
   },
   {
    "duration": 2557,
    "start_time": "2023-01-11T11:16:50.417Z"
   },
   {
    "duration": 463,
    "start_time": "2023-01-11T11:16:52.975Z"
   },
   {
    "duration": 401,
    "start_time": "2023-01-11T11:16:53.439Z"
   },
   {
    "duration": 3,
    "start_time": "2023-01-11T11:16:53.842Z"
   },
   {
    "duration": 96,
    "start_time": "2023-01-11T11:16:53.847Z"
   },
   {
    "duration": 205,
    "start_time": "2023-01-11T11:16:53.944Z"
   },
   {
    "duration": 60,
    "start_time": "2023-01-11T11:16:54.151Z"
   },
   {
    "duration": 4286,
    "start_time": "2023-01-11T11:16:54.213Z"
   },
   {
    "duration": 802,
    "start_time": "2023-01-11T11:16:58.501Z"
   },
   {
    "duration": 438,
    "start_time": "2023-01-11T11:16:59.304Z"
   },
   {
    "duration": 101,
    "start_time": "2023-01-11T11:16:59.744Z"
   },
   {
    "duration": 83,
    "start_time": "2023-01-11T11:16:59.847Z"
   },
   {
    "duration": 32,
    "start_time": "2023-01-11T11:16:59.932Z"
   },
   {
    "duration": 1380,
    "start_time": "2023-01-11T11:16:59.966Z"
   },
   {
    "duration": 251,
    "start_time": "2023-01-11T11:17:01.347Z"
   },
   {
    "duration": 241,
    "start_time": "2023-01-11T11:17:01.599Z"
   },
   {
    "duration": 226,
    "start_time": "2023-01-11T11:17:01.842Z"
   },
   {
    "duration": 450,
    "start_time": "2023-01-11T11:17:02.071Z"
   },
   {
    "duration": 435,
    "start_time": "2023-01-11T11:17:26.526Z"
   },
   {
    "duration": 214,
    "start_time": "2023-01-11T11:17:28.874Z"
   },
   {
    "duration": 11,
    "start_time": "2023-01-11T11:24:09.377Z"
   },
   {
    "duration": 461,
    "start_time": "2023-01-11T11:24:43.702Z"
   },
   {
    "duration": 9352,
    "start_time": "2023-01-11T11:29:52.098Z"
   },
   {
    "duration": 60,
    "start_time": "2023-01-11T11:30:01.452Z"
   },
   {
    "duration": 15,
    "start_time": "2023-01-11T11:30:01.514Z"
   },
   {
    "duration": 1573,
    "start_time": "2023-01-11T11:30:01.531Z"
   },
   {
    "duration": 13,
    "start_time": "2023-01-11T11:30:03.106Z"
   },
   {
    "duration": 19,
    "start_time": "2023-01-11T11:30:03.120Z"
   },
   {
    "duration": 1141,
    "start_time": "2023-01-11T11:30:03.141Z"
   },
   {
    "duration": 4,
    "start_time": "2023-01-11T11:30:04.284Z"
   },
   {
    "duration": 5,
    "start_time": "2023-01-11T11:30:04.290Z"
   },
   {
    "duration": 22,
    "start_time": "2023-01-11T11:30:04.297Z"
   },
   {
    "duration": 29,
    "start_time": "2023-01-11T11:30:04.321Z"
   },
   {
    "duration": 18,
    "start_time": "2023-01-11T11:30:04.352Z"
   },
   {
    "duration": 29,
    "start_time": "2023-01-11T11:30:04.372Z"
   },
   {
    "duration": 63,
    "start_time": "2023-01-11T11:30:04.404Z"
   },
   {
    "duration": 144,
    "start_time": "2023-01-11T11:30:04.469Z"
   },
   {
    "duration": 129,
    "start_time": "2023-01-11T11:30:04.615Z"
   },
   {
    "duration": 39,
    "start_time": "2023-01-11T11:30:04.746Z"
   },
   {
    "duration": 2577,
    "start_time": "2023-01-11T11:30:04.786Z"
   },
   {
    "duration": 475,
    "start_time": "2023-01-11T11:30:07.365Z"
   },
   {
    "duration": 303,
    "start_time": "2023-01-11T11:30:07.842Z"
   },
   {
    "duration": 235,
    "start_time": "2023-01-11T11:30:08.147Z"
   },
   {
    "duration": 57,
    "start_time": "2023-01-11T11:30:08.384Z"
   },
   {
    "duration": 2668,
    "start_time": "2023-01-11T11:30:08.444Z"
   },
   {
    "duration": 458,
    "start_time": "2023-01-11T11:30:11.114Z"
   },
   {
    "duration": 272,
    "start_time": "2023-01-11T11:30:11.574Z"
   },
   {
    "duration": 3,
    "start_time": "2023-01-11T11:30:11.938Z"
   },
   {
    "duration": 46,
    "start_time": "2023-01-11T11:30:11.942Z"
   },
   {
    "duration": 214,
    "start_time": "2023-01-11T11:30:11.990Z"
   },
   {
    "duration": 63,
    "start_time": "2023-01-11T11:30:12.206Z"
   },
   {
    "duration": 4305,
    "start_time": "2023-01-11T11:30:12.271Z"
   },
   {
    "duration": 750,
    "start_time": "2023-01-11T11:30:16.578Z"
   },
   {
    "duration": 411,
    "start_time": "2023-01-11T11:30:17.330Z"
   },
   {
    "duration": 10,
    "start_time": "2023-01-11T11:30:17.742Z"
   },
   {
    "duration": 106,
    "start_time": "2023-01-11T11:30:17.754Z"
   },
   {
    "duration": 29,
    "start_time": "2023-01-11T11:30:17.862Z"
   },
   {
    "duration": 1457,
    "start_time": "2023-01-11T11:30:17.894Z"
   },
   {
    "duration": 264,
    "start_time": "2023-01-11T11:30:19.353Z"
   },
   {
    "duration": 230,
    "start_time": "2023-01-11T11:30:19.619Z"
   },
   {
    "duration": 207,
    "start_time": "2023-01-11T11:30:19.938Z"
   },
   {
    "duration": 464,
    "start_time": "2023-01-11T11:30:20.147Z"
   },
   {
    "duration": 11,
    "start_time": "2023-01-11T11:30:46.450Z"
   },
   {
    "duration": 73,
    "start_time": "2023-01-11T11:31:32.864Z"
   },
   {
    "duration": 59,
    "start_time": "2023-01-11T11:36:21.366Z"
   },
   {
    "duration": 254,
    "start_time": "2023-01-11T11:37:22.083Z"
   },
   {
    "duration": 67,
    "start_time": "2023-01-11T11:37:55.404Z"
   },
   {
    "duration": 71,
    "start_time": "2023-01-11T11:38:08.587Z"
   },
   {
    "duration": 128,
    "start_time": "2023-01-11T11:38:12.554Z"
   },
   {
    "duration": 61,
    "start_time": "2023-01-11T11:38:24.812Z"
   },
   {
    "duration": 166,
    "start_time": "2023-01-11T11:38:27.073Z"
   },
   {
    "duration": 71,
    "start_time": "2023-01-11T12:06:36.576Z"
   },
   {
    "duration": 8285,
    "start_time": "2023-01-11T12:13:52.557Z"
   },
   {
    "duration": 63,
    "start_time": "2023-01-11T12:14:00.844Z"
   },
   {
    "duration": 17,
    "start_time": "2023-01-11T12:14:00.909Z"
   },
   {
    "duration": 1601,
    "start_time": "2023-01-11T12:14:00.927Z"
   },
   {
    "duration": 11,
    "start_time": "2023-01-11T12:14:02.539Z"
   },
   {
    "duration": 17,
    "start_time": "2023-01-11T12:14:02.552Z"
   },
   {
    "duration": 1223,
    "start_time": "2023-01-11T12:14:02.571Z"
   },
   {
    "duration": 5,
    "start_time": "2023-01-11T12:14:03.796Z"
   },
   {
    "duration": 15,
    "start_time": "2023-01-11T12:14:03.803Z"
   },
   {
    "duration": 36,
    "start_time": "2023-01-11T12:14:03.820Z"
   },
   {
    "duration": 31,
    "start_time": "2023-01-11T12:14:03.859Z"
   },
   {
    "duration": 16,
    "start_time": "2023-01-11T12:14:03.892Z"
   },
   {
    "duration": 48,
    "start_time": "2023-01-11T12:14:03.910Z"
   },
   {
    "duration": 41,
    "start_time": "2023-01-11T12:14:03.961Z"
   },
   {
    "duration": 180,
    "start_time": "2023-01-11T12:14:04.004Z"
   },
   {
    "duration": 124,
    "start_time": "2023-01-11T12:14:04.186Z"
   },
   {
    "duration": 51,
    "start_time": "2023-01-11T12:14:04.311Z"
   },
   {
    "duration": 2635,
    "start_time": "2023-01-11T12:14:04.363Z"
   },
   {
    "duration": 462,
    "start_time": "2023-01-11T12:14:07.000Z"
   },
   {
    "duration": 282,
    "start_time": "2023-01-11T12:14:07.464Z"
   },
   {
    "duration": 225,
    "start_time": "2023-01-11T12:14:07.748Z"
   },
   {
    "duration": 47,
    "start_time": "2023-01-11T12:14:07.975Z"
   },
   {
    "duration": 2621,
    "start_time": "2023-01-11T12:14:08.024Z"
   },
   {
    "duration": 458,
    "start_time": "2023-01-11T12:14:10.647Z"
   },
   {
    "duration": 338,
    "start_time": "2023-01-11T12:14:11.107Z"
   },
   {
    "duration": 90,
    "start_time": "2023-01-11T12:14:11.448Z"
   },
   {
    "duration": 46,
    "start_time": "2023-01-11T12:14:11.540Z"
   },
   {
    "duration": 198,
    "start_time": "2023-01-11T12:14:11.588Z"
   },
   {
    "duration": 65,
    "start_time": "2023-01-11T12:14:11.787Z"
   },
   {
    "duration": 4375,
    "start_time": "2023-01-11T12:14:11.853Z"
   },
   {
    "duration": 759,
    "start_time": "2023-01-11T12:14:16.238Z"
   },
   {
    "duration": 438,
    "start_time": "2023-01-11T12:14:16.999Z"
   },
   {
    "duration": 10,
    "start_time": "2023-01-11T12:14:17.440Z"
   },
   {
    "duration": 147,
    "start_time": "2023-01-11T12:14:17.453Z"
   },
   {
    "duration": 42,
    "start_time": "2023-01-11T12:14:17.602Z"
   },
   {
    "duration": 1468,
    "start_time": "2023-01-11T12:14:17.646Z"
   },
   {
    "duration": 326,
    "start_time": "2023-01-11T12:14:19.117Z"
   },
   {
    "duration": 201,
    "start_time": "2023-01-11T12:14:19.445Z"
   },
   {
    "duration": 228,
    "start_time": "2023-01-11T12:14:19.738Z"
   },
   {
    "duration": 461,
    "start_time": "2023-01-11T12:14:19.967Z"
   },
   {
    "duration": 10,
    "start_time": "2023-01-11T12:14:20.437Z"
   },
   {
    "duration": 76,
    "start_time": "2023-01-11T12:14:20.448Z"
   },
   {
    "duration": 171,
    "start_time": "2023-01-11T12:14:20.525Z"
   },
   {
    "duration": 8571,
    "start_time": "2023-01-11T12:30:26.044Z"
   },
   {
    "duration": 61,
    "start_time": "2023-01-11T12:30:34.617Z"
   },
   {
    "duration": 14,
    "start_time": "2023-01-11T12:30:34.680Z"
   },
   {
    "duration": 1586,
    "start_time": "2023-01-11T12:30:34.696Z"
   },
   {
    "duration": 16,
    "start_time": "2023-01-11T12:30:36.284Z"
   },
   {
    "duration": 4,
    "start_time": "2023-01-11T12:30:36.302Z"
   },
   {
    "duration": 1178,
    "start_time": "2023-01-11T12:30:36.308Z"
   },
   {
    "duration": 5,
    "start_time": "2023-01-11T12:30:37.488Z"
   },
   {
    "duration": 17,
    "start_time": "2023-01-11T12:30:37.495Z"
   },
   {
    "duration": 26,
    "start_time": "2023-01-11T12:30:37.514Z"
   },
   {
    "duration": 29,
    "start_time": "2023-01-11T12:30:37.542Z"
   },
   {
    "duration": 24,
    "start_time": "2023-01-11T12:30:37.573Z"
   },
   {
    "duration": 43,
    "start_time": "2023-01-11T12:30:37.599Z"
   },
   {
    "duration": 41,
    "start_time": "2023-01-11T12:30:37.645Z"
   },
   {
    "duration": 170,
    "start_time": "2023-01-11T12:30:37.688Z"
   },
   {
    "duration": 129,
    "start_time": "2023-01-11T12:30:37.860Z"
   },
   {
    "duration": 49,
    "start_time": "2023-01-11T12:30:37.991Z"
   },
   {
    "duration": 2603,
    "start_time": "2023-01-11T12:30:38.042Z"
   },
   {
    "duration": 455,
    "start_time": "2023-01-11T12:30:40.647Z"
   },
   {
    "duration": 244,
    "start_time": "2023-01-11T12:30:41.103Z"
   },
   {
    "duration": 223,
    "start_time": "2023-01-11T12:30:41.349Z"
   },
   {
    "duration": 42,
    "start_time": "2023-01-11T12:30:41.574Z"
   },
   {
    "duration": 2598,
    "start_time": "2023-01-11T12:30:41.618Z"
   },
   {
    "duration": 449,
    "start_time": "2023-01-11T12:30:44.218Z"
   },
   {
    "duration": 280,
    "start_time": "2023-01-11T12:30:44.668Z"
   },
   {
    "duration": 3,
    "start_time": "2023-01-11T12:30:45.040Z"
   },
   {
    "duration": 75,
    "start_time": "2023-01-11T12:30:45.045Z"
   },
   {
    "duration": 192,
    "start_time": "2023-01-11T12:30:45.122Z"
   },
   {
    "duration": 63,
    "start_time": "2023-01-11T12:30:45.315Z"
   },
   {
    "duration": 4330,
    "start_time": "2023-01-11T12:30:45.380Z"
   },
   {
    "duration": 751,
    "start_time": "2023-01-11T12:30:49.712Z"
   },
   {
    "duration": 375,
    "start_time": "2023-01-11T12:30:50.465Z"
   },
   {
    "duration": 98,
    "start_time": "2023-01-11T12:30:50.842Z"
   },
   {
    "duration": 74,
    "start_time": "2023-01-11T12:30:50.942Z"
   },
   {
    "duration": 43,
    "start_time": "2023-01-11T12:30:51.018Z"
   },
   {
    "duration": 1423,
    "start_time": "2023-01-11T12:30:51.063Z"
   },
   {
    "duration": 295,
    "start_time": "2023-01-11T12:30:52.488Z"
   },
   {
    "duration": 254,
    "start_time": "2023-01-11T12:30:52.785Z"
   },
   {
    "duration": 291,
    "start_time": "2023-01-11T12:30:53.042Z"
   },
   {
    "duration": 493,
    "start_time": "2023-01-11T12:30:53.335Z"
   },
   {
    "duration": 16,
    "start_time": "2023-01-11T12:30:53.843Z"
   },
   {
    "duration": 86,
    "start_time": "2023-01-11T12:30:53.861Z"
   },
   {
    "duration": 191,
    "start_time": "2023-01-11T12:30:53.949Z"
   }
  ],
  "kernelspec": {
   "display_name": "Python 3 (ipykernel)",
   "language": "python",
   "name": "python3"
  },
  "language_info": {
   "codemirror_mode": {
    "name": "ipython",
    "version": 3
   },
   "file_extension": ".py",
   "mimetype": "text/x-python",
   "name": "python",
   "nbconvert_exporter": "python",
   "pygments_lexer": "ipython3",
   "version": "3.9.5"
  },
  "toc": {
   "base_numbering": 1,
   "nav_menu": {},
   "number_sections": true,
   "sideBar": true,
   "skip_h1_title": true,
   "title_cell": "Содержание",
   "title_sidebar": "Contents",
   "toc_cell": true,
   "toc_position": {
    "height": "calc(100% - 180px)",
    "left": "10px",
    "top": "150px",
    "width": "165px"
   },
   "toc_section_display": true,
   "toc_window_display": false
  }
 },
 "nbformat": 4,
 "nbformat_minor": 2
}
