{
 "cells": [
  {
   "cell_type": "markdown",
   "metadata": {},
   "source": [
    "# Восстановление золота из руды"
   ]
  },
  {
   "cell_type": "markdown",
   "metadata": {},
   "source": [
    "Подготовьте прототип модели машинного обучения для «Цифры». Компания разрабатывает решения для эффективной работы промышленных предприятий.\n",
    "\n",
    "Модель должна предсказать коэффициент восстановления золота из золотосодержащей руды. Используйте данные с параметрами добычи и очистки. \n",
    "\n",
    "Модель поможет оптимизировать производство, чтобы не запускать предприятие с убыточными характеристиками.\n",
    "\n",
    "Вам нужно:\n",
    "\n",
    "1. Подготовить данные;\n",
    "2. Провести исследовательский анализ данных;\n",
    "3. Построить и обучить модель.\n",
    "\n",
    "Чтобы выполнить проект, обращайтесь к библиотекам *pandas*, *matplotlib* и *sklearn.* Вам поможет их документация."
   ]
  },
  {
   "cell_type": "markdown",
   "metadata": {},
   "source": [
    "## Подготовка данных"
   ]
  },
  {
   "cell_type": "markdown",
   "metadata": {},
   "source": [
    "### Откройте файлы и изучите их"
   ]
  },
  {
   "cell_type": "code",
   "execution_count": 1,
   "metadata": {},
   "outputs": [],
   "source": [
    "import numpy as np\n",
    "import pandas as pd\n",
    "\n",
    "from sklearn.metrics import mean_absolute_error\n",
    "from sklearn.ensemble import RandomForestRegressor\n",
    "from sklearn.model_selection import cross_val_score\n",
    "from sklearn.model_selection import GridSearchCV\n",
    "from sklearn.tree import DecisionTreeRegressor\n",
    "import matplotlib.pyplot as plt\n",
    "from sklearn.metrics import make_scorer\n",
    "from sklearn.dummy import DummyRegressor\n",
    "import seaborn as sns\n",
    "from scipy.stats import kstest\n",
    "import warnings\n",
    "warnings.simplefilter(action='ignore', category=FutureWarning)"
   ]
  },
  {
   "cell_type": "code",
   "execution_count": 2,
   "metadata": {},
   "outputs": [],
   "source": [
    "df = pd.read_csv(\"/datasets/gold_recovery_full_new.csv\")\n",
    "df_train = pd.read_csv(\"/datasets/gold_recovery_train_new.csv\")\n",
    "df_test = pd.read_csv(\"/datasets/gold_recovery_test_new.csv\")"
   ]
  },
  {
   "cell_type": "code",
   "execution_count": 3,
   "metadata": {
    "scrolled": true
   },
   "outputs": [
    {
     "name": "stdout",
     "output_type": "stream",
     "text": [
      "Общая информация по исходному датасету:\n",
      "\n",
      "<class 'pandas.core.frame.DataFrame'>\n",
      "RangeIndex: 19439 entries, 0 to 19438\n",
      "Data columns (total 87 columns):\n",
      " #   Column                                              Non-Null Count  Dtype  \n",
      "---  ------                                              --------------  -----  \n",
      " 0   date                                                19439 non-null  object \n",
      " 1   final.output.concentrate_ag                         19438 non-null  float64\n",
      " 2   final.output.concentrate_pb                         19438 non-null  float64\n",
      " 3   final.output.concentrate_sol                        19228 non-null  float64\n",
      " 4   final.output.concentrate_au                         19439 non-null  float64\n",
      " 5   final.output.recovery                               19439 non-null  float64\n",
      " 6   final.output.tail_ag                                19438 non-null  float64\n",
      " 7   final.output.tail_pb                                19338 non-null  float64\n",
      " 8   final.output.tail_sol                               19433 non-null  float64\n",
      " 9   final.output.tail_au                                19439 non-null  float64\n",
      " 10  primary_cleaner.input.sulfate                       19415 non-null  float64\n",
      " 11  primary_cleaner.input.depressant                    19402 non-null  float64\n",
      " 12  primary_cleaner.input.feed_size                     19439 non-null  float64\n",
      " 13  primary_cleaner.input.xanthate                      19335 non-null  float64\n",
      " 14  primary_cleaner.output.concentrate_ag               19439 non-null  float64\n",
      " 15  primary_cleaner.output.concentrate_pb               19323 non-null  float64\n",
      " 16  primary_cleaner.output.concentrate_sol              19069 non-null  float64\n",
      " 17  primary_cleaner.output.concentrate_au               19439 non-null  float64\n",
      " 18  primary_cleaner.output.tail_ag                      19435 non-null  float64\n",
      " 19  primary_cleaner.output.tail_pb                      19418 non-null  float64\n",
      " 20  primary_cleaner.output.tail_sol                     19377 non-null  float64\n",
      " 21  primary_cleaner.output.tail_au                      19439 non-null  float64\n",
      " 22  primary_cleaner.state.floatbank8_a_air              19435 non-null  float64\n",
      " 23  primary_cleaner.state.floatbank8_a_level            19438 non-null  float64\n",
      " 24  primary_cleaner.state.floatbank8_b_air              19435 non-null  float64\n",
      " 25  primary_cleaner.state.floatbank8_b_level            19438 non-null  float64\n",
      " 26  primary_cleaner.state.floatbank8_c_air              19437 non-null  float64\n",
      " 27  primary_cleaner.state.floatbank8_c_level            19438 non-null  float64\n",
      " 28  primary_cleaner.state.floatbank8_d_air              19436 non-null  float64\n",
      " 29  primary_cleaner.state.floatbank8_d_level            19438 non-null  float64\n",
      " 30  rougher.calculation.sulfate_to_au_concentrate       19437 non-null  float64\n",
      " 31  rougher.calculation.floatbank10_sulfate_to_au_feed  19437 non-null  float64\n",
      " 32  rougher.calculation.floatbank11_sulfate_to_au_feed  19437 non-null  float64\n",
      " 33  rougher.calculation.au_pb_ratio                     19439 non-null  float64\n",
      " 34  rougher.input.feed_ag                               19439 non-null  float64\n",
      " 35  rougher.input.feed_pb                               19339 non-null  float64\n",
      " 36  rougher.input.feed_rate                             19428 non-null  float64\n",
      " 37  rougher.input.feed_size                             19294 non-null  float64\n",
      " 38  rougher.input.feed_sol                              19340 non-null  float64\n",
      " 39  rougher.input.feed_au                               19439 non-null  float64\n",
      " 40  rougher.input.floatbank10_sulfate                   19405 non-null  float64\n",
      " 41  rougher.input.floatbank10_xanthate                  19431 non-null  float64\n",
      " 42  rougher.input.floatbank11_sulfate                   19395 non-null  float64\n",
      " 43  rougher.input.floatbank11_xanthate                  18986 non-null  float64\n",
      " 44  rougher.output.concentrate_ag                       19439 non-null  float64\n",
      " 45  rougher.output.concentrate_pb                       19439 non-null  float64\n",
      " 46  rougher.output.concentrate_sol                      19416 non-null  float64\n",
      " 47  rougher.output.concentrate_au                       19439 non-null  float64\n",
      " 48  rougher.output.recovery                             19439 non-null  float64\n",
      " 49  rougher.output.tail_ag                              19438 non-null  float64\n",
      " 50  rougher.output.tail_pb                              19439 non-null  float64\n",
      " 51  rougher.output.tail_sol                             19439 non-null  float64\n",
      " 52  rougher.output.tail_au                              19439 non-null  float64\n",
      " 53  rougher.state.floatbank10_a_air                     19438 non-null  float64\n",
      " 54  rougher.state.floatbank10_a_level                   19438 non-null  float64\n",
      " 55  rougher.state.floatbank10_b_air                     19438 non-null  float64\n",
      " 56  rougher.state.floatbank10_b_level                   19438 non-null  float64\n",
      " 57  rougher.state.floatbank10_c_air                     19438 non-null  float64\n",
      " 58  rougher.state.floatbank10_c_level                   19438 non-null  float64\n",
      " 59  rougher.state.floatbank10_d_air                     19439 non-null  float64\n",
      " 60  rougher.state.floatbank10_d_level                   19439 non-null  float64\n",
      " 61  rougher.state.floatbank10_e_air                     19003 non-null  float64\n",
      " 62  rougher.state.floatbank10_e_level                   19439 non-null  float64\n",
      " 63  rougher.state.floatbank10_f_air                     19439 non-null  float64\n",
      " 64  rougher.state.floatbank10_f_level                   19439 non-null  float64\n",
      " 65  secondary_cleaner.output.tail_ag                    19437 non-null  float64\n",
      " 66  secondary_cleaner.output.tail_pb                    19427 non-null  float64\n",
      " 67  secondary_cleaner.output.tail_sol                   17691 non-null  float64\n",
      " 68  secondary_cleaner.output.tail_au                    19439 non-null  float64\n",
      " 69  secondary_cleaner.state.floatbank2_a_air            19219 non-null  float64\n",
      " 70  secondary_cleaner.state.floatbank2_a_level          19438 non-null  float64\n",
      " 71  secondary_cleaner.state.floatbank2_b_air            19416 non-null  float64\n",
      " 72  secondary_cleaner.state.floatbank2_b_level          19438 non-null  float64\n",
      " 73  secondary_cleaner.state.floatbank3_a_air            19426 non-null  float64\n",
      " 74  secondary_cleaner.state.floatbank3_a_level          19438 non-null  float64\n",
      " 75  secondary_cleaner.state.floatbank3_b_air            19438 non-null  float64\n",
      " 76  secondary_cleaner.state.floatbank3_b_level          19438 non-null  float64\n",
      " 77  secondary_cleaner.state.floatbank4_a_air            19433 non-null  float64\n",
      " 78  secondary_cleaner.state.floatbank4_a_level          19438 non-null  float64\n",
      " 79  secondary_cleaner.state.floatbank4_b_air            19438 non-null  float64\n",
      " 80  secondary_cleaner.state.floatbank4_b_level          19438 non-null  float64\n",
      " 81  secondary_cleaner.state.floatbank5_a_air            19438 non-null  float64\n",
      " 82  secondary_cleaner.state.floatbank5_a_level          19438 non-null  float64\n",
      " 83  secondary_cleaner.state.floatbank5_b_air            19438 non-null  float64\n",
      " 84  secondary_cleaner.state.floatbank5_b_level          19438 non-null  float64\n",
      " 85  secondary_cleaner.state.floatbank6_a_air            19437 non-null  float64\n",
      " 86  secondary_cleaner.state.floatbank6_a_level          19438 non-null  float64\n",
      "dtypes: float64(86), object(1)\n",
      "memory usage: 12.9+ MB\n"
     ]
    }
   ],
   "source": [
    "print('Общая информация по исходному датасету:')\n",
    "print('')\n",
    "df.info()"
   ]
  },
  {
   "cell_type": "code",
   "execution_count": 4,
   "metadata": {
    "scrolled": true
   },
   "outputs": [
    {
     "name": "stdout",
     "output_type": "stream",
     "text": [
      "Общая информация по тренировочному датасету:\n",
      "\n",
      "<class 'pandas.core.frame.DataFrame'>\n",
      "RangeIndex: 14149 entries, 0 to 14148\n",
      "Data columns (total 87 columns):\n",
      " #   Column                                              Non-Null Count  Dtype  \n",
      "---  ------                                              --------------  -----  \n",
      " 0   date                                                14149 non-null  object \n",
      " 1   final.output.concentrate_ag                         14148 non-null  float64\n",
      " 2   final.output.concentrate_pb                         14148 non-null  float64\n",
      " 3   final.output.concentrate_sol                        13938 non-null  float64\n",
      " 4   final.output.concentrate_au                         14149 non-null  float64\n",
      " 5   final.output.recovery                               14149 non-null  float64\n",
      " 6   final.output.tail_ag                                14149 non-null  float64\n",
      " 7   final.output.tail_pb                                14049 non-null  float64\n",
      " 8   final.output.tail_sol                               14144 non-null  float64\n",
      " 9   final.output.tail_au                                14149 non-null  float64\n",
      " 10  primary_cleaner.input.sulfate                       14129 non-null  float64\n",
      " 11  primary_cleaner.input.depressant                    14117 non-null  float64\n",
      " 12  primary_cleaner.input.feed_size                     14149 non-null  float64\n",
      " 13  primary_cleaner.input.xanthate                      14049 non-null  float64\n",
      " 14  primary_cleaner.output.concentrate_ag               14149 non-null  float64\n",
      " 15  primary_cleaner.output.concentrate_pb               14063 non-null  float64\n",
      " 16  primary_cleaner.output.concentrate_sol              13863 non-null  float64\n",
      " 17  primary_cleaner.output.concentrate_au               14149 non-null  float64\n",
      " 18  primary_cleaner.output.tail_ag                      14148 non-null  float64\n",
      " 19  primary_cleaner.output.tail_pb                      14134 non-null  float64\n",
      " 20  primary_cleaner.output.tail_sol                     14103 non-null  float64\n",
      " 21  primary_cleaner.output.tail_au                      14149 non-null  float64\n",
      " 22  primary_cleaner.state.floatbank8_a_air              14145 non-null  float64\n",
      " 23  primary_cleaner.state.floatbank8_a_level            14148 non-null  float64\n",
      " 24  primary_cleaner.state.floatbank8_b_air              14145 non-null  float64\n",
      " 25  primary_cleaner.state.floatbank8_b_level            14148 non-null  float64\n",
      " 26  primary_cleaner.state.floatbank8_c_air              14147 non-null  float64\n",
      " 27  primary_cleaner.state.floatbank8_c_level            14148 non-null  float64\n",
      " 28  primary_cleaner.state.floatbank8_d_air              14146 non-null  float64\n",
      " 29  primary_cleaner.state.floatbank8_d_level            14148 non-null  float64\n",
      " 30  rougher.calculation.sulfate_to_au_concentrate       14148 non-null  float64\n",
      " 31  rougher.calculation.floatbank10_sulfate_to_au_feed  14148 non-null  float64\n",
      " 32  rougher.calculation.floatbank11_sulfate_to_au_feed  14148 non-null  float64\n",
      " 33  rougher.calculation.au_pb_ratio                     14149 non-null  float64\n",
      " 34  rougher.input.feed_ag                               14149 non-null  float64\n",
      " 35  rougher.input.feed_pb                               14049 non-null  float64\n",
      " 36  rougher.input.feed_rate                             14141 non-null  float64\n",
      " 37  rougher.input.feed_size                             14005 non-null  float64\n",
      " 38  rougher.input.feed_sol                              14071 non-null  float64\n",
      " 39  rougher.input.feed_au                               14149 non-null  float64\n",
      " 40  rougher.input.floatbank10_sulfate                   14120 non-null  float64\n",
      " 41  rougher.input.floatbank10_xanthate                  14141 non-null  float64\n",
      " 42  rougher.input.floatbank11_sulfate                   14113 non-null  float64\n",
      " 43  rougher.input.floatbank11_xanthate                  13721 non-null  float64\n",
      " 44  rougher.output.concentrate_ag                       14149 non-null  float64\n",
      " 45  rougher.output.concentrate_pb                       14149 non-null  float64\n",
      " 46  rougher.output.concentrate_sol                      14127 non-null  float64\n",
      " 47  rougher.output.concentrate_au                       14149 non-null  float64\n",
      " 48  rougher.output.recovery                             14149 non-null  float64\n",
      " 49  rougher.output.tail_ag                              14148 non-null  float64\n",
      " 50  rougher.output.tail_pb                              14149 non-null  float64\n",
      " 51  rougher.output.tail_sol                             14149 non-null  float64\n",
      " 52  rougher.output.tail_au                              14149 non-null  float64\n",
      " 53  rougher.state.floatbank10_a_air                     14148 non-null  float64\n",
      " 54  rougher.state.floatbank10_a_level                   14148 non-null  float64\n",
      " 55  rougher.state.floatbank10_b_air                     14148 non-null  float64\n",
      " 56  rougher.state.floatbank10_b_level                   14148 non-null  float64\n",
      " 57  rougher.state.floatbank10_c_air                     14148 non-null  float64\n",
      " 58  rougher.state.floatbank10_c_level                   14148 non-null  float64\n",
      " 59  rougher.state.floatbank10_d_air                     14149 non-null  float64\n",
      " 60  rougher.state.floatbank10_d_level                   14149 non-null  float64\n",
      " 61  rougher.state.floatbank10_e_air                     13713 non-null  float64\n",
      " 62  rougher.state.floatbank10_e_level                   14149 non-null  float64\n",
      " 63  rougher.state.floatbank10_f_air                     14149 non-null  float64\n",
      " 64  rougher.state.floatbank10_f_level                   14149 non-null  float64\n",
      " 65  secondary_cleaner.output.tail_ag                    14147 non-null  float64\n",
      " 66  secondary_cleaner.output.tail_pb                    14139 non-null  float64\n",
      " 67  secondary_cleaner.output.tail_sol                   12544 non-null  float64\n",
      " 68  secondary_cleaner.output.tail_au                    14149 non-null  float64\n",
      " 69  secondary_cleaner.state.floatbank2_a_air            13932 non-null  float64\n",
      " 70  secondary_cleaner.state.floatbank2_a_level          14148 non-null  float64\n",
      " 71  secondary_cleaner.state.floatbank2_b_air            14128 non-null  float64\n",
      " 72  secondary_cleaner.state.floatbank2_b_level          14148 non-null  float64\n",
      " 73  secondary_cleaner.state.floatbank3_a_air            14145 non-null  float64\n",
      " 74  secondary_cleaner.state.floatbank3_a_level          14148 non-null  float64\n",
      " 75  secondary_cleaner.state.floatbank3_b_air            14148 non-null  float64\n",
      " 76  secondary_cleaner.state.floatbank3_b_level          14148 non-null  float64\n",
      " 77  secondary_cleaner.state.floatbank4_a_air            14143 non-null  float64\n",
      " 78  secondary_cleaner.state.floatbank4_a_level          14148 non-null  float64\n",
      " 79  secondary_cleaner.state.floatbank4_b_air            14148 non-null  float64\n",
      " 80  secondary_cleaner.state.floatbank4_b_level          14148 non-null  float64\n",
      " 81  secondary_cleaner.state.floatbank5_a_air            14148 non-null  float64\n",
      " 82  secondary_cleaner.state.floatbank5_a_level          14148 non-null  float64\n",
      " 83  secondary_cleaner.state.floatbank5_b_air            14148 non-null  float64\n",
      " 84  secondary_cleaner.state.floatbank5_b_level          14148 non-null  float64\n",
      " 85  secondary_cleaner.state.floatbank6_a_air            14147 non-null  float64\n",
      " 86  secondary_cleaner.state.floatbank6_a_level          14148 non-null  float64\n",
      "dtypes: float64(86), object(1)\n",
      "memory usage: 9.4+ MB\n"
     ]
    }
   ],
   "source": [
    "print('Общая информация по тренировочному датасету:')\n",
    "print('')\n",
    "df_train.info()"
   ]
  },
  {
   "cell_type": "code",
   "execution_count": 5,
   "metadata": {
    "scrolled": true
   },
   "outputs": [
    {
     "name": "stdout",
     "output_type": "stream",
     "text": [
      "Общая информация по тестовому датасету:\n",
      "\n",
      "<class 'pandas.core.frame.DataFrame'>\n",
      "RangeIndex: 5290 entries, 0 to 5289\n",
      "Data columns (total 53 columns):\n",
      " #   Column                                      Non-Null Count  Dtype  \n",
      "---  ------                                      --------------  -----  \n",
      " 0   date                                        5290 non-null   object \n",
      " 1   primary_cleaner.input.sulfate               5286 non-null   float64\n",
      " 2   primary_cleaner.input.depressant            5285 non-null   float64\n",
      " 3   primary_cleaner.input.feed_size             5290 non-null   float64\n",
      " 4   primary_cleaner.input.xanthate              5286 non-null   float64\n",
      " 5   primary_cleaner.state.floatbank8_a_air      5290 non-null   float64\n",
      " 6   primary_cleaner.state.floatbank8_a_level    5290 non-null   float64\n",
      " 7   primary_cleaner.state.floatbank8_b_air      5290 non-null   float64\n",
      " 8   primary_cleaner.state.floatbank8_b_level    5290 non-null   float64\n",
      " 9   primary_cleaner.state.floatbank8_c_air      5290 non-null   float64\n",
      " 10  primary_cleaner.state.floatbank8_c_level    5290 non-null   float64\n",
      " 11  primary_cleaner.state.floatbank8_d_air      5290 non-null   float64\n",
      " 12  primary_cleaner.state.floatbank8_d_level    5290 non-null   float64\n",
      " 13  rougher.input.feed_ag                       5290 non-null   float64\n",
      " 14  rougher.input.feed_pb                       5290 non-null   float64\n",
      " 15  rougher.input.feed_rate                     5287 non-null   float64\n",
      " 16  rougher.input.feed_size                     5289 non-null   float64\n",
      " 17  rougher.input.feed_sol                      5269 non-null   float64\n",
      " 18  rougher.input.feed_au                       5290 non-null   float64\n",
      " 19  rougher.input.floatbank10_sulfate           5285 non-null   float64\n",
      " 20  rougher.input.floatbank10_xanthate          5290 non-null   float64\n",
      " 21  rougher.input.floatbank11_sulfate           5282 non-null   float64\n",
      " 22  rougher.input.floatbank11_xanthate          5265 non-null   float64\n",
      " 23  rougher.state.floatbank10_a_air             5290 non-null   float64\n",
      " 24  rougher.state.floatbank10_a_level           5290 non-null   float64\n",
      " 25  rougher.state.floatbank10_b_air             5290 non-null   float64\n",
      " 26  rougher.state.floatbank10_b_level           5290 non-null   float64\n",
      " 27  rougher.state.floatbank10_c_air             5290 non-null   float64\n",
      " 28  rougher.state.floatbank10_c_level           5290 non-null   float64\n",
      " 29  rougher.state.floatbank10_d_air             5290 non-null   float64\n",
      " 30  rougher.state.floatbank10_d_level           5290 non-null   float64\n",
      " 31  rougher.state.floatbank10_e_air             5290 non-null   float64\n",
      " 32  rougher.state.floatbank10_e_level           5290 non-null   float64\n",
      " 33  rougher.state.floatbank10_f_air             5290 non-null   float64\n",
      " 34  rougher.state.floatbank10_f_level           5290 non-null   float64\n",
      " 35  secondary_cleaner.state.floatbank2_a_air    5287 non-null   float64\n",
      " 36  secondary_cleaner.state.floatbank2_a_level  5290 non-null   float64\n",
      " 37  secondary_cleaner.state.floatbank2_b_air    5288 non-null   float64\n",
      " 38  secondary_cleaner.state.floatbank2_b_level  5290 non-null   float64\n",
      " 39  secondary_cleaner.state.floatbank3_a_air    5281 non-null   float64\n",
      " 40  secondary_cleaner.state.floatbank3_a_level  5290 non-null   float64\n",
      " 41  secondary_cleaner.state.floatbank3_b_air    5290 non-null   float64\n",
      " 42  secondary_cleaner.state.floatbank3_b_level  5290 non-null   float64\n",
      " 43  secondary_cleaner.state.floatbank4_a_air    5290 non-null   float64\n",
      " 44  secondary_cleaner.state.floatbank4_a_level  5290 non-null   float64\n",
      " 45  secondary_cleaner.state.floatbank4_b_air    5290 non-null   float64\n",
      " 46  secondary_cleaner.state.floatbank4_b_level  5290 non-null   float64\n",
      " 47  secondary_cleaner.state.floatbank5_a_air    5290 non-null   float64\n",
      " 48  secondary_cleaner.state.floatbank5_a_level  5290 non-null   float64\n",
      " 49  secondary_cleaner.state.floatbank5_b_air    5290 non-null   float64\n",
      " 50  secondary_cleaner.state.floatbank5_b_level  5290 non-null   float64\n",
      " 51  secondary_cleaner.state.floatbank6_a_air    5290 non-null   float64\n",
      " 52  secondary_cleaner.state.floatbank6_a_level  5290 non-null   float64\n",
      "dtypes: float64(52), object(1)\n",
      "memory usage: 2.1+ MB\n"
     ]
    }
   ],
   "source": [
    "print('Общая информация по тестовому датасету:')\n",
    "print('')\n",
    "df_test.info() "
   ]
  },
  {
   "cell_type": "code",
   "execution_count": 6,
   "metadata": {},
   "outputs": [
    {
     "name": "stdout",
     "output_type": "stream",
     "text": [
      "Основные характеристики по исходному датасету:\n",
      "\n"
     ]
    },
    {
     "data": {
      "text/html": [
       "<div>\n",
       "<style scoped>\n",
       "    .dataframe tbody tr th:only-of-type {\n",
       "        vertical-align: middle;\n",
       "    }\n",
       "\n",
       "    .dataframe tbody tr th {\n",
       "        vertical-align: top;\n",
       "    }\n",
       "\n",
       "    .dataframe thead th {\n",
       "        text-align: right;\n",
       "    }\n",
       "</style>\n",
       "<table border=\"1\" class=\"dataframe\">\n",
       "  <thead>\n",
       "    <tr style=\"text-align: right;\">\n",
       "      <th></th>\n",
       "      <th>final.output.concentrate_ag</th>\n",
       "      <th>final.output.concentrate_pb</th>\n",
       "      <th>final.output.concentrate_sol</th>\n",
       "      <th>final.output.concentrate_au</th>\n",
       "      <th>final.output.recovery</th>\n",
       "      <th>final.output.tail_ag</th>\n",
       "      <th>final.output.tail_pb</th>\n",
       "      <th>final.output.tail_sol</th>\n",
       "      <th>final.output.tail_au</th>\n",
       "      <th>primary_cleaner.input.sulfate</th>\n",
       "      <th>...</th>\n",
       "      <th>secondary_cleaner.state.floatbank4_a_air</th>\n",
       "      <th>secondary_cleaner.state.floatbank4_a_level</th>\n",
       "      <th>secondary_cleaner.state.floatbank4_b_air</th>\n",
       "      <th>secondary_cleaner.state.floatbank4_b_level</th>\n",
       "      <th>secondary_cleaner.state.floatbank5_a_air</th>\n",
       "      <th>secondary_cleaner.state.floatbank5_a_level</th>\n",
       "      <th>secondary_cleaner.state.floatbank5_b_air</th>\n",
       "      <th>secondary_cleaner.state.floatbank5_b_level</th>\n",
       "      <th>secondary_cleaner.state.floatbank6_a_air</th>\n",
       "      <th>secondary_cleaner.state.floatbank6_a_level</th>\n",
       "    </tr>\n",
       "  </thead>\n",
       "  <tbody>\n",
       "    <tr>\n",
       "      <th>count</th>\n",
       "      <td>19438.000000</td>\n",
       "      <td>19438.000000</td>\n",
       "      <td>19228.000000</td>\n",
       "      <td>19439.000000</td>\n",
       "      <td>19439.000000</td>\n",
       "      <td>19438.000000</td>\n",
       "      <td>19338.000000</td>\n",
       "      <td>19433.000000</td>\n",
       "      <td>19439.000000</td>\n",
       "      <td>19415.000000</td>\n",
       "      <td>...</td>\n",
       "      <td>19433.000000</td>\n",
       "      <td>19438.000000</td>\n",
       "      <td>19438.000000</td>\n",
       "      <td>19438.000000</td>\n",
       "      <td>19438.000000</td>\n",
       "      <td>19438.000000</td>\n",
       "      <td>19438.000000</td>\n",
       "      <td>19438.000000</td>\n",
       "      <td>19437.000000</td>\n",
       "      <td>19438.000000</td>\n",
       "    </tr>\n",
       "    <tr>\n",
       "      <th>mean</th>\n",
       "      <td>5.168470</td>\n",
       "      <td>9.978895</td>\n",
       "      <td>9.501224</td>\n",
       "      <td>44.076513</td>\n",
       "      <td>67.050208</td>\n",
       "      <td>9.688589</td>\n",
       "      <td>2.705795</td>\n",
       "      <td>10.583728</td>\n",
       "      <td>3.042467</td>\n",
       "      <td>144.624774</td>\n",
       "      <td>...</td>\n",
       "      <td>18.987674</td>\n",
       "      <td>-485.894516</td>\n",
       "      <td>15.010366</td>\n",
       "      <td>-461.078636</td>\n",
       "      <td>15.694452</td>\n",
       "      <td>-488.684065</td>\n",
       "      <td>12.198224</td>\n",
       "      <td>-487.149827</td>\n",
       "      <td>18.959024</td>\n",
       "      <td>-505.436305</td>\n",
       "    </tr>\n",
       "    <tr>\n",
       "      <th>std</th>\n",
       "      <td>1.372348</td>\n",
       "      <td>1.669240</td>\n",
       "      <td>2.787537</td>\n",
       "      <td>5.129784</td>\n",
       "      <td>10.125840</td>\n",
       "      <td>2.328642</td>\n",
       "      <td>0.949077</td>\n",
       "      <td>2.868782</td>\n",
       "      <td>0.922808</td>\n",
       "      <td>44.464071</td>\n",
       "      <td>...</td>\n",
       "      <td>5.411058</td>\n",
       "      <td>47.758570</td>\n",
       "      <td>4.890228</td>\n",
       "      <td>67.405524</td>\n",
       "      <td>5.510974</td>\n",
       "      <td>34.533396</td>\n",
       "      <td>5.333024</td>\n",
       "      <td>38.347312</td>\n",
       "      <td>5.550498</td>\n",
       "      <td>37.689057</td>\n",
       "    </tr>\n",
       "    <tr>\n",
       "      <th>min</th>\n",
       "      <td>0.000000</td>\n",
       "      <td>0.000000</td>\n",
       "      <td>0.000000</td>\n",
       "      <td>0.000000</td>\n",
       "      <td>0.000000</td>\n",
       "      <td>0.000000</td>\n",
       "      <td>0.000000</td>\n",
       "      <td>0.000000</td>\n",
       "      <td>0.000000</td>\n",
       "      <td>0.003112</td>\n",
       "      <td>...</td>\n",
       "      <td>0.000000</td>\n",
       "      <td>-799.798523</td>\n",
       "      <td>0.000000</td>\n",
       "      <td>-800.836914</td>\n",
       "      <td>-0.372054</td>\n",
       "      <td>-797.323986</td>\n",
       "      <td>0.528083</td>\n",
       "      <td>-800.220337</td>\n",
       "      <td>-0.079426</td>\n",
       "      <td>-809.741464</td>\n",
       "    </tr>\n",
       "    <tr>\n",
       "      <th>25%</th>\n",
       "      <td>4.251240</td>\n",
       "      <td>9.137262</td>\n",
       "      <td>7.722820</td>\n",
       "      <td>43.402215</td>\n",
       "      <td>63.299712</td>\n",
       "      <td>8.062878</td>\n",
       "      <td>2.040119</td>\n",
       "      <td>8.938947</td>\n",
       "      <td>2.461138</td>\n",
       "      <td>114.107029</td>\n",
       "      <td>...</td>\n",
       "      <td>14.975734</td>\n",
       "      <td>-500.704892</td>\n",
       "      <td>11.940294</td>\n",
       "      <td>-500.187742</td>\n",
       "      <td>10.988606</td>\n",
       "      <td>-500.458467</td>\n",
       "      <td>8.971105</td>\n",
       "      <td>-500.129462</td>\n",
       "      <td>14.983037</td>\n",
       "      <td>-500.728067</td>\n",
       "    </tr>\n",
       "    <tr>\n",
       "      <th>50%</th>\n",
       "      <td>5.066094</td>\n",
       "      <td>10.102433</td>\n",
       "      <td>9.218961</td>\n",
       "      <td>45.011244</td>\n",
       "      <td>68.172738</td>\n",
       "      <td>9.743623</td>\n",
       "      <td>2.748730</td>\n",
       "      <td>10.622456</td>\n",
       "      <td>2.984909</td>\n",
       "      <td>143.232103</td>\n",
       "      <td>...</td>\n",
       "      <td>18.017481</td>\n",
       "      <td>-499.837793</td>\n",
       "      <td>14.971014</td>\n",
       "      <td>-499.459786</td>\n",
       "      <td>15.000036</td>\n",
       "      <td>-499.802605</td>\n",
       "      <td>11.019433</td>\n",
       "      <td>-499.935317</td>\n",
       "      <td>19.960541</td>\n",
       "      <td>-500.048400</td>\n",
       "    </tr>\n",
       "    <tr>\n",
       "      <th>75%</th>\n",
       "      <td>5.895527</td>\n",
       "      <td>11.035769</td>\n",
       "      <td>10.947813</td>\n",
       "      <td>46.275313</td>\n",
       "      <td>72.686642</td>\n",
       "      <td>11.134294</td>\n",
       "      <td>3.333216</td>\n",
       "      <td>12.104271</td>\n",
       "      <td>3.571351</td>\n",
       "      <td>175.075656</td>\n",
       "      <td>...</td>\n",
       "      <td>23.012470</td>\n",
       "      <td>-498.249730</td>\n",
       "      <td>19.034162</td>\n",
       "      <td>-400.118106</td>\n",
       "      <td>18.026190</td>\n",
       "      <td>-498.384187</td>\n",
       "      <td>14.019088</td>\n",
       "      <td>-499.436708</td>\n",
       "      <td>24.003170</td>\n",
       "      <td>-499.495378</td>\n",
       "    </tr>\n",
       "    <tr>\n",
       "      <th>max</th>\n",
       "      <td>16.001945</td>\n",
       "      <td>17.031899</td>\n",
       "      <td>19.615720</td>\n",
       "      <td>52.756638</td>\n",
       "      <td>100.000000</td>\n",
       "      <td>19.552149</td>\n",
       "      <td>5.804178</td>\n",
       "      <td>22.317730</td>\n",
       "      <td>8.245022</td>\n",
       "      <td>265.983123</td>\n",
       "      <td>...</td>\n",
       "      <td>30.115735</td>\n",
       "      <td>-245.239184</td>\n",
       "      <td>31.269706</td>\n",
       "      <td>-6.506986</td>\n",
       "      <td>43.709931</td>\n",
       "      <td>-244.483566</td>\n",
       "      <td>27.926001</td>\n",
       "      <td>-137.740004</td>\n",
       "      <td>32.188906</td>\n",
       "      <td>-104.427459</td>\n",
       "    </tr>\n",
       "  </tbody>\n",
       "</table>\n",
       "<p>8 rows × 86 columns</p>\n",
       "</div>"
      ],
      "text/plain": [
       "       final.output.concentrate_ag  final.output.concentrate_pb  \\\n",
       "count                 19438.000000                 19438.000000   \n",
       "mean                      5.168470                     9.978895   \n",
       "std                       1.372348                     1.669240   \n",
       "min                       0.000000                     0.000000   \n",
       "25%                       4.251240                     9.137262   \n",
       "50%                       5.066094                    10.102433   \n",
       "75%                       5.895527                    11.035769   \n",
       "max                      16.001945                    17.031899   \n",
       "\n",
       "       final.output.concentrate_sol  final.output.concentrate_au  \\\n",
       "count                  19228.000000                 19439.000000   \n",
       "mean                       9.501224                    44.076513   \n",
       "std                        2.787537                     5.129784   \n",
       "min                        0.000000                     0.000000   \n",
       "25%                        7.722820                    43.402215   \n",
       "50%                        9.218961                    45.011244   \n",
       "75%                       10.947813                    46.275313   \n",
       "max                       19.615720                    52.756638   \n",
       "\n",
       "       final.output.recovery  final.output.tail_ag  final.output.tail_pb  \\\n",
       "count           19439.000000          19438.000000          19338.000000   \n",
       "mean               67.050208              9.688589              2.705795   \n",
       "std                10.125840              2.328642              0.949077   \n",
       "min                 0.000000              0.000000              0.000000   \n",
       "25%                63.299712              8.062878              2.040119   \n",
       "50%                68.172738              9.743623              2.748730   \n",
       "75%                72.686642             11.134294              3.333216   \n",
       "max               100.000000             19.552149              5.804178   \n",
       "\n",
       "       final.output.tail_sol  final.output.tail_au  \\\n",
       "count           19433.000000          19439.000000   \n",
       "mean               10.583728              3.042467   \n",
       "std                 2.868782              0.922808   \n",
       "min                 0.000000              0.000000   \n",
       "25%                 8.938947              2.461138   \n",
       "50%                10.622456              2.984909   \n",
       "75%                12.104271              3.571351   \n",
       "max                22.317730              8.245022   \n",
       "\n",
       "       primary_cleaner.input.sulfate  ...  \\\n",
       "count                   19415.000000  ...   \n",
       "mean                      144.624774  ...   \n",
       "std                        44.464071  ...   \n",
       "min                         0.003112  ...   \n",
       "25%                       114.107029  ...   \n",
       "50%                       143.232103  ...   \n",
       "75%                       175.075656  ...   \n",
       "max                       265.983123  ...   \n",
       "\n",
       "       secondary_cleaner.state.floatbank4_a_air  \\\n",
       "count                              19433.000000   \n",
       "mean                                  18.987674   \n",
       "std                                    5.411058   \n",
       "min                                    0.000000   \n",
       "25%                                   14.975734   \n",
       "50%                                   18.017481   \n",
       "75%                                   23.012470   \n",
       "max                                   30.115735   \n",
       "\n",
       "       secondary_cleaner.state.floatbank4_a_level  \\\n",
       "count                                19438.000000   \n",
       "mean                                  -485.894516   \n",
       "std                                     47.758570   \n",
       "min                                   -799.798523   \n",
       "25%                                   -500.704892   \n",
       "50%                                   -499.837793   \n",
       "75%                                   -498.249730   \n",
       "max                                   -245.239184   \n",
       "\n",
       "       secondary_cleaner.state.floatbank4_b_air  \\\n",
       "count                              19438.000000   \n",
       "mean                                  15.010366   \n",
       "std                                    4.890228   \n",
       "min                                    0.000000   \n",
       "25%                                   11.940294   \n",
       "50%                                   14.971014   \n",
       "75%                                   19.034162   \n",
       "max                                   31.269706   \n",
       "\n",
       "       secondary_cleaner.state.floatbank4_b_level  \\\n",
       "count                                19438.000000   \n",
       "mean                                  -461.078636   \n",
       "std                                     67.405524   \n",
       "min                                   -800.836914   \n",
       "25%                                   -500.187742   \n",
       "50%                                   -499.459786   \n",
       "75%                                   -400.118106   \n",
       "max                                     -6.506986   \n",
       "\n",
       "       secondary_cleaner.state.floatbank5_a_air  \\\n",
       "count                              19438.000000   \n",
       "mean                                  15.694452   \n",
       "std                                    5.510974   \n",
       "min                                   -0.372054   \n",
       "25%                                   10.988606   \n",
       "50%                                   15.000036   \n",
       "75%                                   18.026190   \n",
       "max                                   43.709931   \n",
       "\n",
       "       secondary_cleaner.state.floatbank5_a_level  \\\n",
       "count                                19438.000000   \n",
       "mean                                  -488.684065   \n",
       "std                                     34.533396   \n",
       "min                                   -797.323986   \n",
       "25%                                   -500.458467   \n",
       "50%                                   -499.802605   \n",
       "75%                                   -498.384187   \n",
       "max                                   -244.483566   \n",
       "\n",
       "       secondary_cleaner.state.floatbank5_b_air  \\\n",
       "count                              19438.000000   \n",
       "mean                                  12.198224   \n",
       "std                                    5.333024   \n",
       "min                                    0.528083   \n",
       "25%                                    8.971105   \n",
       "50%                                   11.019433   \n",
       "75%                                   14.019088   \n",
       "max                                   27.926001   \n",
       "\n",
       "       secondary_cleaner.state.floatbank5_b_level  \\\n",
       "count                                19438.000000   \n",
       "mean                                  -487.149827   \n",
       "std                                     38.347312   \n",
       "min                                   -800.220337   \n",
       "25%                                   -500.129462   \n",
       "50%                                   -499.935317   \n",
       "75%                                   -499.436708   \n",
       "max                                   -137.740004   \n",
       "\n",
       "       secondary_cleaner.state.floatbank6_a_air  \\\n",
       "count                              19437.000000   \n",
       "mean                                  18.959024   \n",
       "std                                    5.550498   \n",
       "min                                   -0.079426   \n",
       "25%                                   14.983037   \n",
       "50%                                   19.960541   \n",
       "75%                                   24.003170   \n",
       "max                                   32.188906   \n",
       "\n",
       "       secondary_cleaner.state.floatbank6_a_level  \n",
       "count                                19438.000000  \n",
       "mean                                  -505.436305  \n",
       "std                                     37.689057  \n",
       "min                                   -809.741464  \n",
       "25%                                   -500.728067  \n",
       "50%                                   -500.048400  \n",
       "75%                                   -499.495378  \n",
       "max                                   -104.427459  \n",
       "\n",
       "[8 rows x 86 columns]"
      ]
     },
     "execution_count": 6,
     "metadata": {},
     "output_type": "execute_result"
    }
   ],
   "source": [
    "print('Основные характеристики по исходному датасету:')\n",
    "print('')\n",
    "df.describe()"
   ]
  },
  {
   "cell_type": "code",
   "execution_count": 7,
   "metadata": {},
   "outputs": [
    {
     "name": "stdout",
     "output_type": "stream",
     "text": [
      "Основные характеристики по тренировочному датасету:\n",
      "\n"
     ]
    },
    {
     "data": {
      "text/html": [
       "<div>\n",
       "<style scoped>\n",
       "    .dataframe tbody tr th:only-of-type {\n",
       "        vertical-align: middle;\n",
       "    }\n",
       "\n",
       "    .dataframe tbody tr th {\n",
       "        vertical-align: top;\n",
       "    }\n",
       "\n",
       "    .dataframe thead th {\n",
       "        text-align: right;\n",
       "    }\n",
       "</style>\n",
       "<table border=\"1\" class=\"dataframe\">\n",
       "  <thead>\n",
       "    <tr style=\"text-align: right;\">\n",
       "      <th></th>\n",
       "      <th>final.output.concentrate_ag</th>\n",
       "      <th>final.output.concentrate_pb</th>\n",
       "      <th>final.output.concentrate_sol</th>\n",
       "      <th>final.output.concentrate_au</th>\n",
       "      <th>final.output.recovery</th>\n",
       "      <th>final.output.tail_ag</th>\n",
       "      <th>final.output.tail_pb</th>\n",
       "      <th>final.output.tail_sol</th>\n",
       "      <th>final.output.tail_au</th>\n",
       "      <th>primary_cleaner.input.sulfate</th>\n",
       "      <th>...</th>\n",
       "      <th>secondary_cleaner.state.floatbank4_a_air</th>\n",
       "      <th>secondary_cleaner.state.floatbank4_a_level</th>\n",
       "      <th>secondary_cleaner.state.floatbank4_b_air</th>\n",
       "      <th>secondary_cleaner.state.floatbank4_b_level</th>\n",
       "      <th>secondary_cleaner.state.floatbank5_a_air</th>\n",
       "      <th>secondary_cleaner.state.floatbank5_a_level</th>\n",
       "      <th>secondary_cleaner.state.floatbank5_b_air</th>\n",
       "      <th>secondary_cleaner.state.floatbank5_b_level</th>\n",
       "      <th>secondary_cleaner.state.floatbank6_a_air</th>\n",
       "      <th>secondary_cleaner.state.floatbank6_a_level</th>\n",
       "    </tr>\n",
       "  </thead>\n",
       "  <tbody>\n",
       "    <tr>\n",
       "      <th>count</th>\n",
       "      <td>14148.000000</td>\n",
       "      <td>14148.000000</td>\n",
       "      <td>13938.000000</td>\n",
       "      <td>14149.000000</td>\n",
       "      <td>14149.000000</td>\n",
       "      <td>14149.000000</td>\n",
       "      <td>14049.000000</td>\n",
       "      <td>14144.000000</td>\n",
       "      <td>14149.000000</td>\n",
       "      <td>14129.000000</td>\n",
       "      <td>...</td>\n",
       "      <td>14143.000000</td>\n",
       "      <td>14148.000000</td>\n",
       "      <td>14148.000000</td>\n",
       "      <td>14148.000000</td>\n",
       "      <td>14148.000000</td>\n",
       "      <td>14148.000000</td>\n",
       "      <td>14148.000000</td>\n",
       "      <td>14148.000000</td>\n",
       "      <td>14147.000000</td>\n",
       "      <td>14148.000000</td>\n",
       "    </tr>\n",
       "    <tr>\n",
       "      <th>mean</th>\n",
       "      <td>5.142034</td>\n",
       "      <td>10.132960</td>\n",
       "      <td>9.202849</td>\n",
       "      <td>44.003792</td>\n",
       "      <td>66.518832</td>\n",
       "      <td>9.607035</td>\n",
       "      <td>2.597298</td>\n",
       "      <td>10.512122</td>\n",
       "      <td>2.918421</td>\n",
       "      <td>133.320659</td>\n",
       "      <td>...</td>\n",
       "      <td>19.985454</td>\n",
       "      <td>-478.696836</td>\n",
       "      <td>15.487065</td>\n",
       "      <td>-460.229416</td>\n",
       "      <td>16.775136</td>\n",
       "      <td>-483.956022</td>\n",
       "      <td>13.064590</td>\n",
       "      <td>-483.966564</td>\n",
       "      <td>19.577539</td>\n",
       "      <td>-506.798480</td>\n",
       "    </tr>\n",
       "    <tr>\n",
       "      <th>std</th>\n",
       "      <td>1.369586</td>\n",
       "      <td>1.654930</td>\n",
       "      <td>2.790516</td>\n",
       "      <td>4.905261</td>\n",
       "      <td>10.295402</td>\n",
       "      <td>2.319069</td>\n",
       "      <td>0.971843</td>\n",
       "      <td>3.003617</td>\n",
       "      <td>0.903712</td>\n",
       "      <td>39.431659</td>\n",
       "      <td>...</td>\n",
       "      <td>5.657723</td>\n",
       "      <td>50.736021</td>\n",
       "      <td>5.255655</td>\n",
       "      <td>58.843586</td>\n",
       "      <td>5.831906</td>\n",
       "      <td>37.892788</td>\n",
       "      <td>5.765617</td>\n",
       "      <td>39.207913</td>\n",
       "      <td>5.764417</td>\n",
       "      <td>37.079249</td>\n",
       "    </tr>\n",
       "    <tr>\n",
       "      <th>min</th>\n",
       "      <td>0.000000</td>\n",
       "      <td>0.000000</td>\n",
       "      <td>0.000000</td>\n",
       "      <td>0.000000</td>\n",
       "      <td>0.000000</td>\n",
       "      <td>0.000000</td>\n",
       "      <td>0.000000</td>\n",
       "      <td>0.000000</td>\n",
       "      <td>0.000000</td>\n",
       "      <td>0.003112</td>\n",
       "      <td>...</td>\n",
       "      <td>0.000000</td>\n",
       "      <td>-799.709069</td>\n",
       "      <td>0.000000</td>\n",
       "      <td>-799.889113</td>\n",
       "      <td>-0.372054</td>\n",
       "      <td>-797.142475</td>\n",
       "      <td>0.646208</td>\n",
       "      <td>-800.006180</td>\n",
       "      <td>0.195324</td>\n",
       "      <td>-809.398668</td>\n",
       "    </tr>\n",
       "    <tr>\n",
       "      <th>25%</th>\n",
       "      <td>4.211620</td>\n",
       "      <td>9.297355</td>\n",
       "      <td>7.484645</td>\n",
       "      <td>43.276111</td>\n",
       "      <td>62.545817</td>\n",
       "      <td>7.997429</td>\n",
       "      <td>1.905973</td>\n",
       "      <td>8.811324</td>\n",
       "      <td>2.368607</td>\n",
       "      <td>107.006651</td>\n",
       "      <td>...</td>\n",
       "      <td>14.990775</td>\n",
       "      <td>-500.628656</td>\n",
       "      <td>11.894558</td>\n",
       "      <td>-500.149000</td>\n",
       "      <td>11.083980</td>\n",
       "      <td>-500.363177</td>\n",
       "      <td>8.994405</td>\n",
       "      <td>-500.105994</td>\n",
       "      <td>14.989304</td>\n",
       "      <td>-500.745104</td>\n",
       "    </tr>\n",
       "    <tr>\n",
       "      <th>50%</th>\n",
       "      <td>4.994652</td>\n",
       "      <td>10.297144</td>\n",
       "      <td>8.845462</td>\n",
       "      <td>44.872436</td>\n",
       "      <td>67.432775</td>\n",
       "      <td>9.480270</td>\n",
       "      <td>2.592022</td>\n",
       "      <td>10.514621</td>\n",
       "      <td>2.851025</td>\n",
       "      <td>133.018328</td>\n",
       "      <td>...</td>\n",
       "      <td>20.001789</td>\n",
       "      <td>-499.681450</td>\n",
       "      <td>14.975536</td>\n",
       "      <td>-499.388738</td>\n",
       "      <td>17.932223</td>\n",
       "      <td>-499.702452</td>\n",
       "      <td>11.997547</td>\n",
       "      <td>-499.914556</td>\n",
       "      <td>19.984175</td>\n",
       "      <td>-500.061431</td>\n",
       "    </tr>\n",
       "    <tr>\n",
       "      <th>75%</th>\n",
       "      <td>5.859540</td>\n",
       "      <td>11.170603</td>\n",
       "      <td>10.487508</td>\n",
       "      <td>46.166425</td>\n",
       "      <td>72.346428</td>\n",
       "      <td>11.003707</td>\n",
       "      <td>3.241723</td>\n",
       "      <td>11.933009</td>\n",
       "      <td>3.434764</td>\n",
       "      <td>159.825396</td>\n",
       "      <td>...</td>\n",
       "      <td>24.990826</td>\n",
       "      <td>-477.472413</td>\n",
       "      <td>20.059375</td>\n",
       "      <td>-400.039008</td>\n",
       "      <td>21.346550</td>\n",
       "      <td>-487.712108</td>\n",
       "      <td>17.982903</td>\n",
       "      <td>-453.186936</td>\n",
       "      <td>24.991623</td>\n",
       "      <td>-499.536466</td>\n",
       "    </tr>\n",
       "    <tr>\n",
       "      <th>max</th>\n",
       "      <td>16.001945</td>\n",
       "      <td>17.031899</td>\n",
       "      <td>18.124851</td>\n",
       "      <td>52.756638</td>\n",
       "      <td>100.000000</td>\n",
       "      <td>19.552149</td>\n",
       "      <td>5.639565</td>\n",
       "      <td>22.317730</td>\n",
       "      <td>8.197408</td>\n",
       "      <td>250.127834</td>\n",
       "      <td>...</td>\n",
       "      <td>30.115735</td>\n",
       "      <td>-245.239184</td>\n",
       "      <td>24.007913</td>\n",
       "      <td>-145.071088</td>\n",
       "      <td>43.709931</td>\n",
       "      <td>-275.073125</td>\n",
       "      <td>27.926001</td>\n",
       "      <td>-157.396071</td>\n",
       "      <td>32.188906</td>\n",
       "      <td>-104.427459</td>\n",
       "    </tr>\n",
       "  </tbody>\n",
       "</table>\n",
       "<p>8 rows × 86 columns</p>\n",
       "</div>"
      ],
      "text/plain": [
       "       final.output.concentrate_ag  final.output.concentrate_pb  \\\n",
       "count                 14148.000000                 14148.000000   \n",
       "mean                      5.142034                    10.132960   \n",
       "std                       1.369586                     1.654930   \n",
       "min                       0.000000                     0.000000   \n",
       "25%                       4.211620                     9.297355   \n",
       "50%                       4.994652                    10.297144   \n",
       "75%                       5.859540                    11.170603   \n",
       "max                      16.001945                    17.031899   \n",
       "\n",
       "       final.output.concentrate_sol  final.output.concentrate_au  \\\n",
       "count                  13938.000000                 14149.000000   \n",
       "mean                       9.202849                    44.003792   \n",
       "std                        2.790516                     4.905261   \n",
       "min                        0.000000                     0.000000   \n",
       "25%                        7.484645                    43.276111   \n",
       "50%                        8.845462                    44.872436   \n",
       "75%                       10.487508                    46.166425   \n",
       "max                       18.124851                    52.756638   \n",
       "\n",
       "       final.output.recovery  final.output.tail_ag  final.output.tail_pb  \\\n",
       "count           14149.000000          14149.000000          14049.000000   \n",
       "mean               66.518832              9.607035              2.597298   \n",
       "std                10.295402              2.319069              0.971843   \n",
       "min                 0.000000              0.000000              0.000000   \n",
       "25%                62.545817              7.997429              1.905973   \n",
       "50%                67.432775              9.480270              2.592022   \n",
       "75%                72.346428             11.003707              3.241723   \n",
       "max               100.000000             19.552149              5.639565   \n",
       "\n",
       "       final.output.tail_sol  final.output.tail_au  \\\n",
       "count           14144.000000          14149.000000   \n",
       "mean               10.512122              2.918421   \n",
       "std                 3.003617              0.903712   \n",
       "min                 0.000000              0.000000   \n",
       "25%                 8.811324              2.368607   \n",
       "50%                10.514621              2.851025   \n",
       "75%                11.933009              3.434764   \n",
       "max                22.317730              8.197408   \n",
       "\n",
       "       primary_cleaner.input.sulfate  ...  \\\n",
       "count                   14129.000000  ...   \n",
       "mean                      133.320659  ...   \n",
       "std                        39.431659  ...   \n",
       "min                         0.003112  ...   \n",
       "25%                       107.006651  ...   \n",
       "50%                       133.018328  ...   \n",
       "75%                       159.825396  ...   \n",
       "max                       250.127834  ...   \n",
       "\n",
       "       secondary_cleaner.state.floatbank4_a_air  \\\n",
       "count                              14143.000000   \n",
       "mean                                  19.985454   \n",
       "std                                    5.657723   \n",
       "min                                    0.000000   \n",
       "25%                                   14.990775   \n",
       "50%                                   20.001789   \n",
       "75%                                   24.990826   \n",
       "max                                   30.115735   \n",
       "\n",
       "       secondary_cleaner.state.floatbank4_a_level  \\\n",
       "count                                14148.000000   \n",
       "mean                                  -478.696836   \n",
       "std                                     50.736021   \n",
       "min                                   -799.709069   \n",
       "25%                                   -500.628656   \n",
       "50%                                   -499.681450   \n",
       "75%                                   -477.472413   \n",
       "max                                   -245.239184   \n",
       "\n",
       "       secondary_cleaner.state.floatbank4_b_air  \\\n",
       "count                              14148.000000   \n",
       "mean                                  15.487065   \n",
       "std                                    5.255655   \n",
       "min                                    0.000000   \n",
       "25%                                   11.894558   \n",
       "50%                                   14.975536   \n",
       "75%                                   20.059375   \n",
       "max                                   24.007913   \n",
       "\n",
       "       secondary_cleaner.state.floatbank4_b_level  \\\n",
       "count                                14148.000000   \n",
       "mean                                  -460.229416   \n",
       "std                                     58.843586   \n",
       "min                                   -799.889113   \n",
       "25%                                   -500.149000   \n",
       "50%                                   -499.388738   \n",
       "75%                                   -400.039008   \n",
       "max                                   -145.071088   \n",
       "\n",
       "       secondary_cleaner.state.floatbank5_a_air  \\\n",
       "count                              14148.000000   \n",
       "mean                                  16.775136   \n",
       "std                                    5.831906   \n",
       "min                                   -0.372054   \n",
       "25%                                   11.083980   \n",
       "50%                                   17.932223   \n",
       "75%                                   21.346550   \n",
       "max                                   43.709931   \n",
       "\n",
       "       secondary_cleaner.state.floatbank5_a_level  \\\n",
       "count                                14148.000000   \n",
       "mean                                  -483.956022   \n",
       "std                                     37.892788   \n",
       "min                                   -797.142475   \n",
       "25%                                   -500.363177   \n",
       "50%                                   -499.702452   \n",
       "75%                                   -487.712108   \n",
       "max                                   -275.073125   \n",
       "\n",
       "       secondary_cleaner.state.floatbank5_b_air  \\\n",
       "count                              14148.000000   \n",
       "mean                                  13.064590   \n",
       "std                                    5.765617   \n",
       "min                                    0.646208   \n",
       "25%                                    8.994405   \n",
       "50%                                   11.997547   \n",
       "75%                                   17.982903   \n",
       "max                                   27.926001   \n",
       "\n",
       "       secondary_cleaner.state.floatbank5_b_level  \\\n",
       "count                                14148.000000   \n",
       "mean                                  -483.966564   \n",
       "std                                     39.207913   \n",
       "min                                   -800.006180   \n",
       "25%                                   -500.105994   \n",
       "50%                                   -499.914556   \n",
       "75%                                   -453.186936   \n",
       "max                                   -157.396071   \n",
       "\n",
       "       secondary_cleaner.state.floatbank6_a_air  \\\n",
       "count                              14147.000000   \n",
       "mean                                  19.577539   \n",
       "std                                    5.764417   \n",
       "min                                    0.195324   \n",
       "25%                                   14.989304   \n",
       "50%                                   19.984175   \n",
       "75%                                   24.991623   \n",
       "max                                   32.188906   \n",
       "\n",
       "       secondary_cleaner.state.floatbank6_a_level  \n",
       "count                                14148.000000  \n",
       "mean                                  -506.798480  \n",
       "std                                     37.079249  \n",
       "min                                   -809.398668  \n",
       "25%                                   -500.745104  \n",
       "50%                                   -500.061431  \n",
       "75%                                   -499.536466  \n",
       "max                                   -104.427459  \n",
       "\n",
       "[8 rows x 86 columns]"
      ]
     },
     "execution_count": 7,
     "metadata": {},
     "output_type": "execute_result"
    }
   ],
   "source": [
    "print('Основные характеристики по тренировочному датасету:')\n",
    "print('')\n",
    "df_train.describe()"
   ]
  },
  {
   "cell_type": "code",
   "execution_count": 8,
   "metadata": {
    "scrolled": false
   },
   "outputs": [
    {
     "name": "stdout",
     "output_type": "stream",
     "text": [
      "Основные характеристики по тестовому датасету:\n",
      "\n"
     ]
    },
    {
     "data": {
      "text/html": [
       "<div>\n",
       "<style scoped>\n",
       "    .dataframe tbody tr th:only-of-type {\n",
       "        vertical-align: middle;\n",
       "    }\n",
       "\n",
       "    .dataframe tbody tr th {\n",
       "        vertical-align: top;\n",
       "    }\n",
       "\n",
       "    .dataframe thead th {\n",
       "        text-align: right;\n",
       "    }\n",
       "</style>\n",
       "<table border=\"1\" class=\"dataframe\">\n",
       "  <thead>\n",
       "    <tr style=\"text-align: right;\">\n",
       "      <th></th>\n",
       "      <th>primary_cleaner.input.sulfate</th>\n",
       "      <th>primary_cleaner.input.depressant</th>\n",
       "      <th>primary_cleaner.input.feed_size</th>\n",
       "      <th>primary_cleaner.input.xanthate</th>\n",
       "      <th>primary_cleaner.state.floatbank8_a_air</th>\n",
       "      <th>primary_cleaner.state.floatbank8_a_level</th>\n",
       "      <th>primary_cleaner.state.floatbank8_b_air</th>\n",
       "      <th>primary_cleaner.state.floatbank8_b_level</th>\n",
       "      <th>primary_cleaner.state.floatbank8_c_air</th>\n",
       "      <th>primary_cleaner.state.floatbank8_c_level</th>\n",
       "      <th>...</th>\n",
       "      <th>secondary_cleaner.state.floatbank4_a_air</th>\n",
       "      <th>secondary_cleaner.state.floatbank4_a_level</th>\n",
       "      <th>secondary_cleaner.state.floatbank4_b_air</th>\n",
       "      <th>secondary_cleaner.state.floatbank4_b_level</th>\n",
       "      <th>secondary_cleaner.state.floatbank5_a_air</th>\n",
       "      <th>secondary_cleaner.state.floatbank5_a_level</th>\n",
       "      <th>secondary_cleaner.state.floatbank5_b_air</th>\n",
       "      <th>secondary_cleaner.state.floatbank5_b_level</th>\n",
       "      <th>secondary_cleaner.state.floatbank6_a_air</th>\n",
       "      <th>secondary_cleaner.state.floatbank6_a_level</th>\n",
       "    </tr>\n",
       "  </thead>\n",
       "  <tbody>\n",
       "    <tr>\n",
       "      <th>count</th>\n",
       "      <td>5286.000000</td>\n",
       "      <td>5285.000000</td>\n",
       "      <td>5290.000000</td>\n",
       "      <td>5286.000000</td>\n",
       "      <td>5.290000e+03</td>\n",
       "      <td>5290.000000</td>\n",
       "      <td>5.290000e+03</td>\n",
       "      <td>5290.000000</td>\n",
       "      <td>5.290000e+03</td>\n",
       "      <td>5290.000000</td>\n",
       "      <td>...</td>\n",
       "      <td>5.290000e+03</td>\n",
       "      <td>5290.000000</td>\n",
       "      <td>5.290000e+03</td>\n",
       "      <td>5290.000000</td>\n",
       "      <td>5290.000000</td>\n",
       "      <td>5290.000000</td>\n",
       "      <td>5290.000000</td>\n",
       "      <td>5290.000000</td>\n",
       "      <td>5290.000000</td>\n",
       "      <td>5290.000000</td>\n",
       "    </tr>\n",
       "    <tr>\n",
       "      <th>mean</th>\n",
       "      <td>174.839652</td>\n",
       "      <td>8.683596</td>\n",
       "      <td>7.266339</td>\n",
       "      <td>1.383803</td>\n",
       "      <td>1.539494e+03</td>\n",
       "      <td>-497.665883</td>\n",
       "      <td>1.545174e+03</td>\n",
       "      <td>-500.273098</td>\n",
       "      <td>1.527272e+03</td>\n",
       "      <td>-498.330680</td>\n",
       "      <td>...</td>\n",
       "      <td>1.632007e+01</td>\n",
       "      <td>-505.144570</td>\n",
       "      <td>1.373544e+01</td>\n",
       "      <td>-463.349858</td>\n",
       "      <td>12.804186</td>\n",
       "      <td>-501.329122</td>\n",
       "      <td>9.881145</td>\n",
       "      <td>-495.663398</td>\n",
       "      <td>17.304935</td>\n",
       "      <td>-501.793193</td>\n",
       "    </tr>\n",
       "    <tr>\n",
       "      <th>std</th>\n",
       "      <td>43.027080</td>\n",
       "      <td>3.072050</td>\n",
       "      <td>0.610219</td>\n",
       "      <td>0.643474</td>\n",
       "      <td>1.167979e+02</td>\n",
       "      <td>19.952431</td>\n",
       "      <td>1.222246e+02</td>\n",
       "      <td>32.968307</td>\n",
       "      <td>1.225380e+02</td>\n",
       "      <td>21.964876</td>\n",
       "      <td>...</td>\n",
       "      <td>3.493583e+00</td>\n",
       "      <td>31.427337</td>\n",
       "      <td>3.430484e+00</td>\n",
       "      <td>86.189107</td>\n",
       "      <td>3.026591</td>\n",
       "      <td>17.951495</td>\n",
       "      <td>2.868205</td>\n",
       "      <td>34.535007</td>\n",
       "      <td>4.536544</td>\n",
       "      <td>39.044215</td>\n",
       "    </tr>\n",
       "    <tr>\n",
       "      <th>min</th>\n",
       "      <td>2.566156</td>\n",
       "      <td>0.003839</td>\n",
       "      <td>5.650000</td>\n",
       "      <td>0.004984</td>\n",
       "      <td>5.445860e-32</td>\n",
       "      <td>-795.316337</td>\n",
       "      <td>6.647490e-32</td>\n",
       "      <td>-799.997015</td>\n",
       "      <td>4.033736e-32</td>\n",
       "      <td>-799.960571</td>\n",
       "      <td>...</td>\n",
       "      <td>1.079872e-16</td>\n",
       "      <td>-799.798523</td>\n",
       "      <td>2.489718e-17</td>\n",
       "      <td>-800.836914</td>\n",
       "      <td>0.069227</td>\n",
       "      <td>-797.323986</td>\n",
       "      <td>0.528083</td>\n",
       "      <td>-800.220337</td>\n",
       "      <td>-0.079426</td>\n",
       "      <td>-809.741464</td>\n",
       "    </tr>\n",
       "    <tr>\n",
       "      <th>25%</th>\n",
       "      <td>147.121401</td>\n",
       "      <td>6.489555</td>\n",
       "      <td>6.890000</td>\n",
       "      <td>0.907623</td>\n",
       "      <td>1.498936e+03</td>\n",
       "      <td>-500.357298</td>\n",
       "      <td>1.498971e+03</td>\n",
       "      <td>-500.703002</td>\n",
       "      <td>1.473230e+03</td>\n",
       "      <td>-501.018117</td>\n",
       "      <td>...</td>\n",
       "      <td>1.403618e+01</td>\n",
       "      <td>-500.868258</td>\n",
       "      <td>1.202862e+01</td>\n",
       "      <td>-500.323028</td>\n",
       "      <td>10.914838</td>\n",
       "      <td>-500.726841</td>\n",
       "      <td>8.036719</td>\n",
       "      <td>-500.194668</td>\n",
       "      <td>13.997317</td>\n",
       "      <td>-500.690984</td>\n",
       "    </tr>\n",
       "    <tr>\n",
       "      <th>50%</th>\n",
       "      <td>177.828489</td>\n",
       "      <td>8.052207</td>\n",
       "      <td>7.250000</td>\n",
       "      <td>1.197610</td>\n",
       "      <td>1.585129e+03</td>\n",
       "      <td>-499.969164</td>\n",
       "      <td>1.595622e+03</td>\n",
       "      <td>-500.028514</td>\n",
       "      <td>1.549595e+03</td>\n",
       "      <td>-500.017711</td>\n",
       "      <td>...</td>\n",
       "      <td>1.700847e+01</td>\n",
       "      <td>-500.115727</td>\n",
       "      <td>1.496486e+01</td>\n",
       "      <td>-499.576513</td>\n",
       "      <td>12.954182</td>\n",
       "      <td>-499.990332</td>\n",
       "      <td>10.004301</td>\n",
       "      <td>-499.990535</td>\n",
       "      <td>16.014935</td>\n",
       "      <td>-500.007126</td>\n",
       "    </tr>\n",
       "    <tr>\n",
       "      <th>75%</th>\n",
       "      <td>208.125438</td>\n",
       "      <td>10.027764</td>\n",
       "      <td>7.600000</td>\n",
       "      <td>1.797819</td>\n",
       "      <td>1.602077e+03</td>\n",
       "      <td>-499.568951</td>\n",
       "      <td>1.602324e+03</td>\n",
       "      <td>-499.293257</td>\n",
       "      <td>1.601144e+03</td>\n",
       "      <td>-498.994130</td>\n",
       "      <td>...</td>\n",
       "      <td>1.803862e+01</td>\n",
       "      <td>-499.404224</td>\n",
       "      <td>1.596213e+01</td>\n",
       "      <td>-400.933805</td>\n",
       "      <td>15.097528</td>\n",
       "      <td>-499.283191</td>\n",
       "      <td>11.997467</td>\n",
       "      <td>-499.719913</td>\n",
       "      <td>21.020013</td>\n",
       "      <td>-499.373018</td>\n",
       "    </tr>\n",
       "    <tr>\n",
       "      <th>max</th>\n",
       "      <td>265.983123</td>\n",
       "      <td>40.000000</td>\n",
       "      <td>15.500000</td>\n",
       "      <td>4.102454</td>\n",
       "      <td>2.103104e+03</td>\n",
       "      <td>-57.195404</td>\n",
       "      <td>1.813084e+03</td>\n",
       "      <td>-142.527229</td>\n",
       "      <td>1.715054e+03</td>\n",
       "      <td>-150.937035</td>\n",
       "      <td>...</td>\n",
       "      <td>3.005180e+01</td>\n",
       "      <td>-401.565212</td>\n",
       "      <td>3.126971e+01</td>\n",
       "      <td>-6.506986</td>\n",
       "      <td>25.258848</td>\n",
       "      <td>-244.483566</td>\n",
       "      <td>14.086866</td>\n",
       "      <td>-137.740004</td>\n",
       "      <td>26.705889</td>\n",
       "      <td>-123.307487</td>\n",
       "    </tr>\n",
       "  </tbody>\n",
       "</table>\n",
       "<p>8 rows × 52 columns</p>\n",
       "</div>"
      ],
      "text/plain": [
       "       primary_cleaner.input.sulfate  primary_cleaner.input.depressant  \\\n",
       "count                    5286.000000                       5285.000000   \n",
       "mean                      174.839652                          8.683596   \n",
       "std                        43.027080                          3.072050   \n",
       "min                         2.566156                          0.003839   \n",
       "25%                       147.121401                          6.489555   \n",
       "50%                       177.828489                          8.052207   \n",
       "75%                       208.125438                         10.027764   \n",
       "max                       265.983123                         40.000000   \n",
       "\n",
       "       primary_cleaner.input.feed_size  primary_cleaner.input.xanthate  \\\n",
       "count                      5290.000000                     5286.000000   \n",
       "mean                          7.266339                        1.383803   \n",
       "std                           0.610219                        0.643474   \n",
       "min                           5.650000                        0.004984   \n",
       "25%                           6.890000                        0.907623   \n",
       "50%                           7.250000                        1.197610   \n",
       "75%                           7.600000                        1.797819   \n",
       "max                          15.500000                        4.102454   \n",
       "\n",
       "       primary_cleaner.state.floatbank8_a_air  \\\n",
       "count                            5.290000e+03   \n",
       "mean                             1.539494e+03   \n",
       "std                              1.167979e+02   \n",
       "min                              5.445860e-32   \n",
       "25%                              1.498936e+03   \n",
       "50%                              1.585129e+03   \n",
       "75%                              1.602077e+03   \n",
       "max                              2.103104e+03   \n",
       "\n",
       "       primary_cleaner.state.floatbank8_a_level  \\\n",
       "count                               5290.000000   \n",
       "mean                                -497.665883   \n",
       "std                                   19.952431   \n",
       "min                                 -795.316337   \n",
       "25%                                 -500.357298   \n",
       "50%                                 -499.969164   \n",
       "75%                                 -499.568951   \n",
       "max                                  -57.195404   \n",
       "\n",
       "       primary_cleaner.state.floatbank8_b_air  \\\n",
       "count                            5.290000e+03   \n",
       "mean                             1.545174e+03   \n",
       "std                              1.222246e+02   \n",
       "min                              6.647490e-32   \n",
       "25%                              1.498971e+03   \n",
       "50%                              1.595622e+03   \n",
       "75%                              1.602324e+03   \n",
       "max                              1.813084e+03   \n",
       "\n",
       "       primary_cleaner.state.floatbank8_b_level  \\\n",
       "count                               5290.000000   \n",
       "mean                                -500.273098   \n",
       "std                                   32.968307   \n",
       "min                                 -799.997015   \n",
       "25%                                 -500.703002   \n",
       "50%                                 -500.028514   \n",
       "75%                                 -499.293257   \n",
       "max                                 -142.527229   \n",
       "\n",
       "       primary_cleaner.state.floatbank8_c_air  \\\n",
       "count                            5.290000e+03   \n",
       "mean                             1.527272e+03   \n",
       "std                              1.225380e+02   \n",
       "min                              4.033736e-32   \n",
       "25%                              1.473230e+03   \n",
       "50%                              1.549595e+03   \n",
       "75%                              1.601144e+03   \n",
       "max                              1.715054e+03   \n",
       "\n",
       "       primary_cleaner.state.floatbank8_c_level  ...  \\\n",
       "count                               5290.000000  ...   \n",
       "mean                                -498.330680  ...   \n",
       "std                                   21.964876  ...   \n",
       "min                                 -799.960571  ...   \n",
       "25%                                 -501.018117  ...   \n",
       "50%                                 -500.017711  ...   \n",
       "75%                                 -498.994130  ...   \n",
       "max                                 -150.937035  ...   \n",
       "\n",
       "       secondary_cleaner.state.floatbank4_a_air  \\\n",
       "count                              5.290000e+03   \n",
       "mean                               1.632007e+01   \n",
       "std                                3.493583e+00   \n",
       "min                                1.079872e-16   \n",
       "25%                                1.403618e+01   \n",
       "50%                                1.700847e+01   \n",
       "75%                                1.803862e+01   \n",
       "max                                3.005180e+01   \n",
       "\n",
       "       secondary_cleaner.state.floatbank4_a_level  \\\n",
       "count                                 5290.000000   \n",
       "mean                                  -505.144570   \n",
       "std                                     31.427337   \n",
       "min                                   -799.798523   \n",
       "25%                                   -500.868258   \n",
       "50%                                   -500.115727   \n",
       "75%                                   -499.404224   \n",
       "max                                   -401.565212   \n",
       "\n",
       "       secondary_cleaner.state.floatbank4_b_air  \\\n",
       "count                              5.290000e+03   \n",
       "mean                               1.373544e+01   \n",
       "std                                3.430484e+00   \n",
       "min                                2.489718e-17   \n",
       "25%                                1.202862e+01   \n",
       "50%                                1.496486e+01   \n",
       "75%                                1.596213e+01   \n",
       "max                                3.126971e+01   \n",
       "\n",
       "       secondary_cleaner.state.floatbank4_b_level  \\\n",
       "count                                 5290.000000   \n",
       "mean                                  -463.349858   \n",
       "std                                     86.189107   \n",
       "min                                   -800.836914   \n",
       "25%                                   -500.323028   \n",
       "50%                                   -499.576513   \n",
       "75%                                   -400.933805   \n",
       "max                                     -6.506986   \n",
       "\n",
       "       secondary_cleaner.state.floatbank5_a_air  \\\n",
       "count                               5290.000000   \n",
       "mean                                  12.804186   \n",
       "std                                    3.026591   \n",
       "min                                    0.069227   \n",
       "25%                                   10.914838   \n",
       "50%                                   12.954182   \n",
       "75%                                   15.097528   \n",
       "max                                   25.258848   \n",
       "\n",
       "       secondary_cleaner.state.floatbank5_a_level  \\\n",
       "count                                 5290.000000   \n",
       "mean                                  -501.329122   \n",
       "std                                     17.951495   \n",
       "min                                   -797.323986   \n",
       "25%                                   -500.726841   \n",
       "50%                                   -499.990332   \n",
       "75%                                   -499.283191   \n",
       "max                                   -244.483566   \n",
       "\n",
       "       secondary_cleaner.state.floatbank5_b_air  \\\n",
       "count                               5290.000000   \n",
       "mean                                   9.881145   \n",
       "std                                    2.868205   \n",
       "min                                    0.528083   \n",
       "25%                                    8.036719   \n",
       "50%                                   10.004301   \n",
       "75%                                   11.997467   \n",
       "max                                   14.086866   \n",
       "\n",
       "       secondary_cleaner.state.floatbank5_b_level  \\\n",
       "count                                 5290.000000   \n",
       "mean                                  -495.663398   \n",
       "std                                     34.535007   \n",
       "min                                   -800.220337   \n",
       "25%                                   -500.194668   \n",
       "50%                                   -499.990535   \n",
       "75%                                   -499.719913   \n",
       "max                                   -137.740004   \n",
       "\n",
       "       secondary_cleaner.state.floatbank6_a_air  \\\n",
       "count                               5290.000000   \n",
       "mean                                  17.304935   \n",
       "std                                    4.536544   \n",
       "min                                   -0.079426   \n",
       "25%                                   13.997317   \n",
       "50%                                   16.014935   \n",
       "75%                                   21.020013   \n",
       "max                                   26.705889   \n",
       "\n",
       "       secondary_cleaner.state.floatbank6_a_level  \n",
       "count                                 5290.000000  \n",
       "mean                                  -501.793193  \n",
       "std                                     39.044215  \n",
       "min                                   -809.741464  \n",
       "25%                                   -500.690984  \n",
       "50%                                   -500.007126  \n",
       "75%                                   -499.373018  \n",
       "max                                   -123.307487  \n",
       "\n",
       "[8 rows x 52 columns]"
      ]
     },
     "execution_count": 8,
     "metadata": {},
     "output_type": "execute_result"
    }
   ],
   "source": [
    "print('Основные характеристики по тестовому датасету:')\n",
    "print('')\n",
    "df_test.describe()"
   ]
  },
  {
   "cell_type": "code",
   "execution_count": 9,
   "metadata": {},
   "outputs": [
    {
     "name": "stdout",
     "output_type": "stream",
     "text": [
      "(19439, 87) (14149, 87) (5290, 53)\n"
     ]
    }
   ],
   "source": [
    "print(df.shape, df_train.shape, df_test.shape)"
   ]
  },
  {
   "cell_type": "markdown",
   "metadata": {},
   "source": [
    "***ВЫВОД***  \n",
    "\n",
    "Тренировочная и тестовая выборки разбиты 70:30; в тестовой выбоке нет целевых признаков."
   ]
  },
  {
   "cell_type": "markdown",
   "metadata": {},
   "source": [
    "###  Проверка расчета эффективности обогащения"
   ]
  },
  {
   "cell_type": "markdown",
   "metadata": {},
   "source": [
    "- Вычислим эффективность обогащения на обучающей выборке для признака rougher.output.recovery и сравним с уже имеющимся\n",
    "- Найдем MAE между нашими расчётами и значением признака"
   ]
  },
  {
   "cell_type": "code",
   "execution_count": 10,
   "metadata": {},
   "outputs": [
    {
     "name": "stdout",
     "output_type": "stream",
     "text": [
      "Вычисленная эффективность обогащения: 82.70450164550293\n",
      "Реальная эффективность обогащения: 82.70450164550293\n",
      "MAE: 9.73512347450521e-15\n"
     ]
    }
   ],
   "source": [
    "C = df_train['rougher.output.concentrate_au']\n",
    "F = df_train['rougher.input.feed_au']\n",
    "T = df_train['rougher.output.tail_au']\n",
    "\n",
    "df_train['my_recovery'] = ((C*(F-T))/(F*(C-T)))*100\n",
    "print('Вычисленная эффективность обогащения:', df_train['my_recovery'].mean())\n",
    "print('Реальная эффективность обогащения:', df_train['rougher.output.recovery'].mean())\n",
    "print('MAE:',mean_absolute_error(df_train['my_recovery'], df_train['rougher.output.recovery']))"
   ]
  },
  {
   "cell_type": "markdown",
   "metadata": {},
   "source": [
    "***ВЫВОД***  \n",
    "\n",
    "Расчет эффективности был проведен корректно по заданной формуле; средняя абсолютная разница между вычисленными значениями и фактическими незначительная."
   ]
  },
  {
   "cell_type": "code",
   "execution_count": 11,
   "metadata": {},
   "outputs": [],
   "source": [
    "df_train.drop('my_recovery', axis=1, inplace=True)"
   ]
  },
  {
   "cell_type": "markdown",
   "metadata": {},
   "source": [
    "### Анализ отсутствующих признаков в тестовой  выборке"
   ]
  },
  {
   "cell_type": "markdown",
   "metadata": {},
   "source": [
    "Определим какие параметры были пропущены и к какому типу они относятся."
   ]
  },
  {
   "cell_type": "code",
   "execution_count": 12,
   "metadata": {
    "scrolled": true
   },
   "outputs": [
    {
     "name": "stdout",
     "output_type": "stream",
     "text": [
      "Отсутсвующие признаки в тестовой выбоке:\n"
     ]
    },
    {
     "data": {
      "text/plain": [
       "{'final.output.concentrate_ag',\n",
       " 'final.output.concentrate_au',\n",
       " 'final.output.concentrate_pb',\n",
       " 'final.output.concentrate_sol',\n",
       " 'final.output.recovery',\n",
       " 'final.output.tail_ag',\n",
       " 'final.output.tail_au',\n",
       " 'final.output.tail_pb',\n",
       " 'final.output.tail_sol',\n",
       " 'primary_cleaner.output.concentrate_ag',\n",
       " 'primary_cleaner.output.concentrate_au',\n",
       " 'primary_cleaner.output.concentrate_pb',\n",
       " 'primary_cleaner.output.concentrate_sol',\n",
       " 'primary_cleaner.output.tail_ag',\n",
       " 'primary_cleaner.output.tail_au',\n",
       " 'primary_cleaner.output.tail_pb',\n",
       " 'primary_cleaner.output.tail_sol',\n",
       " 'rougher.calculation.au_pb_ratio',\n",
       " 'rougher.calculation.floatbank10_sulfate_to_au_feed',\n",
       " 'rougher.calculation.floatbank11_sulfate_to_au_feed',\n",
       " 'rougher.calculation.sulfate_to_au_concentrate',\n",
       " 'rougher.output.concentrate_ag',\n",
       " 'rougher.output.concentrate_au',\n",
       " 'rougher.output.concentrate_pb',\n",
       " 'rougher.output.concentrate_sol',\n",
       " 'rougher.output.recovery',\n",
       " 'rougher.output.tail_ag',\n",
       " 'rougher.output.tail_au',\n",
       " 'rougher.output.tail_pb',\n",
       " 'rougher.output.tail_sol',\n",
       " 'secondary_cleaner.output.tail_ag',\n",
       " 'secondary_cleaner.output.tail_au',\n",
       " 'secondary_cleaner.output.tail_pb',\n",
       " 'secondary_cleaner.output.tail_sol'}"
      ]
     },
     "execution_count": 12,
     "metadata": {},
     "output_type": "execute_result"
    }
   ],
   "source": [
    "droped_columns = set(df_train.columns) - set(df_test.columns)\n",
    "print('Отсутсвующие признаки в тестовой выбоке:')\n",
    "droped_columns"
   ]
  },
  {
   "cell_type": "markdown",
   "metadata": {},
   "source": [
    "Итак, отсутсвуют следующие признаки:\n",
    "\n",
    "- 4 признака черновой концентрации по продуктам на этапе флотации\n",
    "- 4 признака концентраций по продуктам на этапе первичной очистки\n",
    "- 4 признака концентраций по продуктам на финальном этапе  \n",
    "\n",
    "\n",
    "- 4 признака отвальных хвостов по продуктам на на этапе флотации\n",
    "- 4 признака отвальных хвостов по продуктам после первичной очистки\n",
    "- 4 признака отвальных хвостов по продуктам на на этапе вторичной очистки\n",
    "- 4 признака отвальных хвостов по продуктам на финальном этапе  \n",
    "\n",
    "\n",
    "- 4 признака расчетных характеристик на этапе флотации\n",
    "- 2 целевых признака"
   ]
  },
  {
   "cell_type": "markdown",
   "metadata": {},
   "source": [
    "***ВЫВОД***\n",
    "\n",
    "- 30 из 34 признаков относятся к параметрам продукта\n",
    "- 4 признака относятся к расчетным характеристикам (информация о реагентах на этапе флотации)\n",
    "- на всех этапах отсутствует информация об отвальных хвостах\n",
    "- на всех этапах, кроме вторичной очистки, отсутствует информация о концентраций по продуктам\n",
    "- отсутсвуют целевые признаки (эффективность обогащения на этапе флотации и на финальном этапе)"
   ]
  },
  {
   "cell_type": "markdown",
   "metadata": {},
   "source": [
    "### Проведите предобработку данных."
   ]
  },
  {
   "cell_type": "markdown",
   "metadata": {},
   "source": [
    "- Посчитаем количество пропусков для каждого датасета и обработаем их\n",
    "- Выполним проверку на дубликаты и при необходимости обработаем их"
   ]
  },
  {
   "cell_type": "markdown",
   "metadata": {},
   "source": [
    "#### Обработка пропущенных значений"
   ]
  },
  {
   "cell_type": "markdown",
   "metadata": {},
   "source": [
    "По условию задачи проекта данные индексируются датой и временем получения информации (признак date) и соседние по времени параметры часто похожи.  \n",
    "Заполним пропуски методом ffill, который заполняет NaN-ы данными из предыдущей строки."
   ]
  },
  {
   "cell_type": "code",
   "execution_count": 14,
   "metadata": {},
   "outputs": [
    {
     "name": "stdout",
     "output_type": "stream",
     "text": [
      "Количество пропусков в исходном датасете: 4481\n",
      "Количество пропусков в тренировочном датасете: 4100\n",
      "Количество пропусков в тестовом датасете: 90\n"
     ]
    }
   ],
   "source": [
    "print('Количество пропусков в исходном датасете:', df.isna().sum().sum())\n",
    "print('Количество пропусков в тренировочном датасете:', df_train.isna().sum().sum())\n",
    "print('Количество пропусков в тестовом датасете:', df_test.isna().sum().sum())"
   ]
  },
  {
   "cell_type": "code",
   "execution_count": 15,
   "metadata": {},
   "outputs": [],
   "source": [
    "df = df.ffill(axis=0)\n",
    "df_train = df_train.ffill(axis=0)\n",
    "df_test = df_test.ffill(axis=0)"
   ]
  },
  {
   "cell_type": "code",
   "execution_count": 16,
   "metadata": {},
   "outputs": [
    {
     "name": "stdout",
     "output_type": "stream",
     "text": [
      "Количество пропусков в исходном датасете: 0\n",
      "Количество пропусков в тренировочном датасете: 0\n",
      "Количество пропусков в тестовом датасете: 0\n"
     ]
    }
   ],
   "source": [
    "print('Количество пропусков в исходном датасете:', df.isna().sum().sum())\n",
    "print('Количество пропусков в тренировочном датасете:', df_train.isna().sum().sum())\n",
    "print('Количество пропусков в тестовом датасете:', df_test.isna().sum().sum())"
   ]
  },
  {
   "cell_type": "markdown",
   "metadata": {},
   "source": [
    "#### Проверка на дубликаты"
   ]
  },
  {
   "cell_type": "code",
   "execution_count": 17,
   "metadata": {},
   "outputs": [
    {
     "name": "stdout",
     "output_type": "stream",
     "text": [
      "Количество дубликатов в исходном датасете: 0\n",
      "Количество дубликатов в тренировочном датасете: 0\n",
      "Количество дубликатов в тестовом датасете: 0\n"
     ]
    }
   ],
   "source": [
    "print('Количество дубликатов в исходном датасете:', df.duplicated().sum())\n",
    "print('Количество дубликатов в тренировочном датасете:', df_train.duplicated().sum())\n",
    "print('Количество дубликатов в тестовом датасете:', df_test.duplicated().sum())"
   ]
  },
  {
   "cell_type": "markdown",
   "metadata": {},
   "source": [
    "***ВЫВОД***  \n",
    "\n",
    "Пропуски были успешно заполнены значениями из предыдущих строк; явных дубликатов не обнаружено."
   ]
  },
  {
   "cell_type": "markdown",
   "metadata": {},
   "source": [
    "## Анализ данных"
   ]
  },
  {
   "cell_type": "markdown",
   "metadata": {},
   "source": [
    "### Динамика концентрации металлов (Au, Ag, Pb) на различных этапах очистки"
   ]
  },
  {
   "cell_type": "markdown",
   "metadata": {},
   "source": [
    "Посмотрим, как меняется концентрация металлов (Au, Ag, Pb) на различных этапах очистки."
   ]
  },
  {
   "cell_type": "code",
   "execution_count": 18,
   "metadata": {},
   "outputs": [],
   "source": [
    "df_ag = df[['rougher.input.feed_ag',\n",
    "            'rougher.output.concentrate_ag', \n",
    "              'primary_cleaner.output.concentrate_ag', \n",
    "              'final.output.concentrate_ag']]\n",
    "df_ag = df_ag.rename(columns={'rougher.input.feed_ag':'input',\n",
    "                              'rougher.output.concentrate_ag': 'rougher', \n",
    "                              'primary_cleaner.output.concentrate_ag': 'primary_cleaner', \n",
    "                              'final.output.concentrate_ag': 'final'})\n",
    "\n",
    "df_pb = df[['rougher.input.feed_pb',\n",
    "            'rougher.output.concentrate_pb', \n",
    "              'primary_cleaner.output.concentrate_pb', \n",
    "              'final.output.concentrate_pb']]\n",
    "df_pb = df_pb.rename(columns={'rougher.input.feed_pb':'input',\n",
    "                              'rougher.output.concentrate_pb': 'rougher', \n",
    "                              'primary_cleaner.output.concentrate_pb': 'primary_cleaner', \n",
    "                              'final.output.concentrate_pb': 'final'})\n",
    "\n",
    "df_au = df[['rougher.input.feed_au',\n",
    "            'rougher.output.concentrate_au', \n",
    "              'primary_cleaner.output.concentrate_au', \n",
    "              'final.output.concentrate_au']]\n",
    "df_au = df_au.rename(columns={'rougher.input.feed_au':'input',\n",
    "                              'rougher.output.concentrate_au': 'rougher', \n",
    "                              'primary_cleaner.output.concentrate_au': 'primary_cleaner', \n",
    "                              'final.output.concentrate_au': 'final'})"
   ]
  },
  {
   "cell_type": "code",
   "execution_count": 19,
   "metadata": {},
   "outputs": [
    {
     "name": "stdout",
     "output_type": "stream",
     "text": [
      "Концентрация серебра снизилась на: 56.91 %\n",
      "Концентрация свинца повысилась на: 31.19 %\n",
      "Концентрация золота повысилась на: 122.92 %\n"
     ]
    }
   ],
   "source": [
    "print('Концентрация серебра снизилась на:', (100 - df_ag['final'].sum()/df_ag['rougher'].sum()*100).round(2), '%')\n",
    "print('Концентрация свинца повысилась на:', (df_pb['final'].sum()/df_pb['rougher'].sum()*100 - 100).round(2), '%')\n",
    "print('Концентрация золота повысилась на:', (df_au['final'].sum()/df_au['rougher'].sum()*100 - 100).round(2), '%')"
   ]
  },
  {
   "cell_type": "code",
   "execution_count": 20,
   "metadata": {},
   "outputs": [
    {
     "data": {
      "image/png": "[encoded data removed]",
      "text/plain": [
       "<Figure size 1296x360 with 3 Axes>"
      ]
     },
     "metadata": {
      "needs_background": "light"
     },
     "output_type": "display_data"
    }
   ],
   "source": [
    "fig, axis = plt.subplots(1,3 , figsize=(18,5))\n",
    "\n",
    "fig.suptitle('Динамика концентрации Au, Ag, Pb на различных этапах очистки')\n",
    "\n",
    "sns.barplot(data=df_ag, ax=axis[0]).set(title='Ag')\n",
    "sns.barplot(data=df_pb, ax=axis[1]).set(title='Pb')\n",
    "sns.barplot(data=df_au, ax=axis[2]).set(title='Au');"
   ]
  },
  {
   "cell_type": "markdown",
   "metadata": {},
   "source": [
    "***ВЫВОД***  \n",
    "\n",
    "- концентрация серебра снижается с каждым этапом\n",
    "- концентрация свинца и золота возрастает с каждым этапом\n",
    "- к финальному этапу концентрация серебра снизилась на 56.91%\n",
    "- к финальному этапу концентрация свинца повысилась на 31.19%\n",
    "- к финальному этапу концентрация золота повысилась на 122.92%"
   ]
  },
  {
   "cell_type": "markdown",
   "metadata": {},
   "source": [
    "### Сравните распределения размеров гранул"
   ]
  },
  {
   "cell_type": "markdown",
   "metadata": {},
   "source": [
    "Сравним распределения размеров гранул сырья на обучающей и тестовой выборках."
   ]
  },
  {
   "cell_type": "code",
   "execution_count": 21,
   "metadata": {},
   "outputs": [
    {
     "data": {
      "image/png": "[encoded data removed]",
      "text/plain": [
       "<Figure size 1296x360 with 1 Axes>"
      ]
     },
     "metadata": {
      "needs_background": "light"
     },
     "output_type": "display_data"
    },
    {
     "data": {
      "image/png": "[encoded data removed]",
      "text/plain": [
       "<Figure size 1296x360 with 1 Axes>"
      ]
     },
     "metadata": {
      "needs_background": "light"
     },
     "output_type": "display_data"
    }
   ],
   "source": [
    "plt.figure(figsize=(18,5))\n",
    "plt.subplot(sns.histplot(data=df_train['rougher.input.feed_size'], bins=200, kde=True))\n",
    "plt.subplot(sns.histplot(data=df_test['rougher.input.feed_size'], bins=200, kde=True))\n",
    "plt.xlim(0,125)\n",
    "plt.title(\"Гистограмма распределения размеров гранул сырья на обучающей и тестовой выборках\")\n",
    "plt.xlabel(\"размер частиц, мк\")\n",
    "plt.ylabel(\"количество наблюдений\")\n",
    "\n",
    "plt.figure(figsize=(18,5))\n",
    "plt.subplot(sns.histplot(data=df_train['rougher.input.feed_size'], bins=200, stat='density', common_norm=False, kde=True))\n",
    "plt.subplot(sns.histplot(data=df_test['rougher.input.feed_size'], bins=200, stat='density', common_norm=False, kde=True))\n",
    "plt.xlim(0,125)\n",
    "plt.title(\"Диаграмма плотности распределения размеров гранул сырья на обучающей и тестовой выборках\")\n",
    "plt.xlabel(\"размер частиц, мк\")\n",
    "plt.ylabel(\"плотность\");"
   ]
  },
  {
   "cell_type": "code",
   "execution_count": 22,
   "metadata": {
    "scrolled": true
   },
   "outputs": [
    {
     "data": {
      "image/png": "[encoded data removed]",
      "text/plain": [
       "<Figure size 1296x360 with 2 Axes>"
      ]
     },
     "metadata": {
      "needs_background": "light"
     },
     "output_type": "display_data"
    }
   ],
   "source": [
    "fig, axis = plt.subplots(1,2 , figsize=(18,5))\n",
    "plt.suptitle('Диаграмма размаха распределения размеров гранул сырья на обучающей и тестовой выборках')\n",
    "sns.boxplot(data=df_train['rougher.input.feed_size'], ax=axis[0]).set(title='Тренировочная выборка');\n",
    "sns.boxplot(data=df_test['rougher.input.feed_size'], ax=axis[1]).set(title='Тестовая выборка');"
   ]
  },
  {
   "cell_type": "code",
   "execution_count": 23,
   "metadata": {},
   "outputs": [
    {
     "name": "stdout",
     "output_type": "stream",
     "text": [
      "count    14149.000000\n",
      "mean        60.239856\n",
      "std         23.005310\n",
      "min          9.659576\n",
      "25%         48.966751\n",
      "50%         55.269784\n",
      "75%         66.007526\n",
      "max        484.967466\n",
      "Name: rougher.input.feed_size, dtype: float64\n"
     ]
    },
    {
     "data": {
      "text/plain": [
       "count    5290.000000\n",
       "mean       55.952754\n",
       "std        19.080334\n",
       "min         0.046369\n",
       "25%        43.906504\n",
       "50%        50.846843\n",
       "75%        62.451165\n",
       "max       392.494040\n",
       "Name: rougher.input.feed_size, dtype: float64"
      ]
     },
     "execution_count": 23,
     "metadata": {},
     "output_type": "execute_result"
    }
   ],
   "source": [
    "print(df_train['rougher.input.feed_size'].describe())\n",
    "df_test['rougher.input.feed_size'].describe()"
   ]
  },
  {
   "cell_type": "markdown",
   "metadata": {},
   "source": [
    "***Вывод:*** исходя из гистограмме и диаграмме плотностинельзя доконца быть уверенными, что распределения имеют одну природу; на диагрмме размаха видно, что в обеих выборках присутвует множество выбросов; среднии и медианные значения незначительно отличаются. "
   ]
  },
  {
   "cell_type": "markdown",
   "metadata": {},
   "source": [
    "#### Критерий Колмогорова-Смирнова"
   ]
  },
  {
   "cell_type": "markdown",
   "metadata": {},
   "source": [
    "Проверим гипотезы о равенстве распределений с помощью теста Колмогорова-Смирнова. Идея критерия Колмогорова — Смирнова — сравнить кумулятивные распределения двух групп. В частности, статистика теста Колмогорова — Смирнова представляет собой максимальную абсолютную разницу между двумя кумулятивными распределениями."
   ]
  },
  {
   "cell_type": "markdown",
   "metadata": {},
   "source": [
    "H_0: распределения размеров гранул сырья на обучающей и тестовой выборках равны  \n",
    "H_1: распределения размеров гранул сырья на обучающей и тестовой выборках не равны"
   ]
  },
  {
   "cell_type": "code",
   "execution_count": 24,
   "metadata": {},
   "outputs": [
    {
     "name": "stdout",
     "output_type": "stream",
     "text": [
      "p-значение: 5.1997046130555955e-213\n",
      "Отвергаем нулевую гипотезу\n"
     ]
    }
   ],
   "source": [
    "alpha = 0.05\n",
    "\n",
    "results = kstest(df_train['rougher.input.feed_size'], df_test['rougher.input.feed_size'])\n",
    "print('p-значение:', results.pvalue)\n",
    "\n",
    "if results.pvalue < alpha:\n",
    "    print('Отвергаем нулевую гипотезу')\n",
    "else:\n",
    "    print('Не получилось отвергнуть нулевую гипотезу')"
   ]
  },
  {
   "cell_type": "markdown",
   "metadata": {},
   "source": [
    "***Вывод:*** тест Колмогорова — Смирнова показал, что распределения не равны; однако, надо принять во внимания факт сильной зашумленности выборок."
   ]
  },
  {
   "cell_type": "markdown",
   "metadata": {},
   "source": [
    "### Исследуйте суммарную концентрацию всех веществ на разных стадиях: в сырье, в черновом и финальном концентратах. "
   ]
  },
  {
   "cell_type": "code",
   "execution_count": 25,
   "metadata": {},
   "outputs": [],
   "source": [
    "df_input = df[['rougher.input.feed_ag', \n",
    "                   'rougher.input.feed_pb', \n",
    "                   'rougher.input.feed_sol', \n",
    "                   'rougher.input.feed_au']].sum(axis=1)\n",
    "df_output_rougher = df[['rougher.output.concentrate_pb', \n",
    "                   'rougher.output.concentrate_ag', \n",
    "                   'rougher.output.concentrate_sol', \n",
    "                   'rougher.output.concentrate_au']].sum(axis=1)\n",
    "df_output_final = df[['final.output.concentrate_pb', \n",
    "                   'final.output.concentrate_ag', \n",
    "                   'final.output.concentrate_sol', \n",
    "                   'final.output.concentrate_au']].sum(axis=1)"
   ]
  },
  {
   "cell_type": "code",
   "execution_count": 26,
   "metadata": {},
   "outputs": [
    {
     "data": {
      "image/png": "[encoded data removed]",
      "text/plain": [
       "<Figure size 1296x360 with 1 Axes>"
      ]
     },
     "metadata": {
      "needs_background": "light"
     },
     "output_type": "display_data"
    },
    {
     "data": {
      "image/png": "[encoded data removed]",
      "text/plain": [
       "<Figure size 1296x360 with 1 Axes>"
      ]
     },
     "metadata": {
      "needs_background": "light"
     },
     "output_type": "display_data"
    },
    {
     "data": {
      "image/png": "[encoded data removed]",
      "text/plain": [
       "<Figure size 1296x360 with 1 Axes>"
      ]
     },
     "metadata": {
      "needs_background": "light"
     },
     "output_type": "display_data"
    }
   ],
   "source": [
    "plt.figure(figsize=(18,5))\n",
    "plt.subplot(sns.histplot(data=df_input, bins=200))\n",
    "plt.title(\"Гистограмма cуммарной концентрации металлов в сырье\")\n",
    "\n",
    "plt.figure(figsize=(18,5))\n",
    "plt.subplot(sns.histplot(data=df_output_rougher, bins=200))\n",
    "plt.title(\"Гистограмма cуммарной концентрации металлов в черновом концентрате\")\n",
    "\n",
    "plt.figure(figsize=(18,5))\n",
    "plt.subplot(sns.histplot(data=df_output_final, bins=200))\n",
    "plt.title(\"Гистограмма cуммарной концентрации металлов в финальном концентрате\");"
   ]
  },
  {
   "cell_type": "markdown",
   "metadata": {},
   "source": [
    "Наблюдаем аномальные пики в районе нуля; удалим аномалии т.к. не факт, что остальные признаки верные."
   ]
  },
  {
   "cell_type": "code",
   "execution_count": 27,
   "metadata": {},
   "outputs": [
    {
     "name": "stdout",
     "output_type": "stream",
     "text": [
      "(13542, 87)\n"
     ]
    },
    {
     "data": {
      "text/plain": [
       "(5276, 53)"
      ]
     },
     "execution_count": 27,
     "metadata": {},
     "output_type": "execute_result"
    }
   ],
   "source": [
    "df_train = df_train.loc[(df_train['rougher.input.feed_ag'] > 1)&\n",
    "                          (df_train['rougher.input.feed_pb']> 1)&\n",
    "                          (df_train['rougher.input.feed_sol']> 1)&\n",
    "                          (df_train['rougher.input.feed_au']> 1)&\n",
    "                          (df_train['rougher.output.concentrate_pb']> 1)&\n",
    "                          (df_train['rougher.output.concentrate_ag']> 1)&\n",
    "                          (df_train['rougher.output.concentrate_sol']> 1)&\n",
    "                          (df_train['rougher.output.concentrate_au']> 1)&\n",
    "                          (df_train['final.output.concentrate_pb']> 1)&\n",
    "                          (df_train['final.output.concentrate_ag']> 1)&\n",
    "                          (df_train['final.output.concentrate_sol']> 1)&\n",
    "                          (df_train['final.output.concentrate_au']> 1)]\n",
    "df_test = df_test.loc[(df_test['rougher.input.feed_ag'] > 1)&\n",
    "                          (df_test['rougher.input.feed_pb']> 1)&\n",
    "                          (df_test['rougher.input.feed_sol']> 1)&\n",
    "                          (df_test['rougher.input.feed_au']> 1)]\n",
    "print(df_train.shape)\n",
    "df_test.shape"
   ]
  },
  {
   "cell_type": "markdown",
   "metadata": {},
   "source": [
    "## Модель"
   ]
  },
  {
   "cell_type": "markdown",
   "metadata": {},
   "source": [
    "Прежде чем приступать к обучению моделей, сделаем следующее:  \n",
    "\n",
    "    - удалим столбец \"data\" из обеих выборок\n",
    "    - добавим в тестовую выборку целевые признаки\n",
    "    - удалим из тренировочной выборки те признаки, которых нет в тестовой\n",
    "    - выделим признаки и целевой признак\n",
    "    "
   ]
  },
  {
   "cell_type": "code",
   "execution_count": 28,
   "metadata": {},
   "outputs": [],
   "source": [
    "df_temp = df[['date', 'rougher.output.recovery', 'final.output.recovery']]\n",
    "df_test = df_test.merge(df_temp, how='left', on='date')\n",
    "df_test.drop('date', axis=1, inplace=True)\n",
    "df_train = df_train.drop(set(df_train.columns)-set(df_test.columns), axis=1)"
   ]
  },
  {
   "cell_type": "code",
   "execution_count": 29,
   "metadata": {},
   "outputs": [
    {
     "name": "stdout",
     "output_type": "stream",
     "text": [
      "(13542, 54)\n"
     ]
    },
    {
     "data": {
      "text/plain": [
       "(5276, 54)"
      ]
     },
     "execution_count": 29,
     "metadata": {},
     "output_type": "execute_result"
    }
   ],
   "source": [
    "print(df_train.shape)\n",
    "df_test.shape"
   ]
  },
  {
   "cell_type": "code",
   "execution_count": 30,
   "metadata": {},
   "outputs": [],
   "source": [
    "features_train_rougher = df_train.filter(regex='^rougher',axis=1)\n",
    "features_train_rougher = features_train_rougher.drop(['rougher.output.recovery'], axis=1)\n",
    "target_train_rougher = df_train['rougher.output.recovery']\n",
    "features_test_rougher = df_test.filter(regex='^rougher',axis=1)\n",
    "features_test_rougher = features_test_rougher.drop(['rougher.output.recovery'], axis=1)\n",
    "target_test_rougher = df_test['rougher.output.recovery']\n",
    "\n",
    "features_train_final = df_train.drop(['rougher.output.recovery', 'final.output.recovery'], axis=1)\n",
    "target_train_final = df_train['final.output.recovery']\n",
    "features_test_final = df_test.drop(['rougher.output.recovery', 'final.output.recovery'], axis=1)\n",
    "target_test_final = df_test['final.output.recovery']"
   ]
  },
  {
   "cell_type": "markdown",
   "metadata": {},
   "source": [
    "### Напишите функцию для вычисления итоговой sMAPE."
   ]
  },
  {
   "cell_type": "code",
   "execution_count": 31,
   "metadata": {},
   "outputs": [],
   "source": [
    "def sMAPE(y_true,y_pred):\n",
    "    error = np.mean(abs(y_true - y_pred)/((abs(y_true)+abs(y_pred))/2))*100\n",
    "    return error"
   ]
  },
  {
   "cell_type": "code",
   "execution_count": 32,
   "metadata": {},
   "outputs": [],
   "source": [
    "def final_sMAPE(sMAPE_rougher,sMAPE_final):\n",
    "    return (0.25*sMAPE_rougher + 0.75*sMAPE_final)"
   ]
  },
  {
   "cell_type": "code",
   "execution_count": 33,
   "metadata": {},
   "outputs": [],
   "source": [
    "scorer = make_scorer(sMAPE,greater_is_better=False)"
   ]
  },
  {
   "cell_type": "markdown",
   "metadata": {},
   "source": [
    "### Обучите разные модели и оцените их качество кросс-валидацией. Выберите лучшую модель и проверьте её на тестовой выборке. Опишите выводы."
   ]
  },
  {
   "cell_type": "markdown",
   "metadata": {},
   "source": [
    "Для обучения возьмем регрессионные модели дерева решений и случайного леса. Поберем для них оптимальные параметры."
   ]
  },
  {
   "cell_type": "code",
   "execution_count": 34,
   "metadata": {},
   "outputs": [
    {
     "name": "stdout",
     "output_type": "stream",
     "text": [
      "Лучшая модель для этапа флотации: DecisionTreeRegressor(max_depth=3, random_state=12345)\n",
      "sMAPE: -6.8792164430124725\n",
      "Лучшая модель для финального этапа: DecisionTreeRegressor(max_depth=2, random_state=12345)\n",
      "sMAPE: -9.06431193101207\n"
     ]
    }
   ],
   "source": [
    "#автоматический подбор параметров для DecisionTreeRegressor\n",
    "parameters = {'max_depth' : range(1,10)}\n",
    "\n",
    "model_tree = DecisionTreeRegressor(random_state=12345)\n",
    "\n",
    "grid_rougher_tree = GridSearchCV(model_tree, param_grid = parameters, scoring=scorer, cv=5)\n",
    "grid_rougher_tree.fit(features_train_rougher,target_train_rougher)\n",
    "print('Лучшая модель для этапа флотации:', grid_rougher_tree.best_estimator_)\n",
    "print('sMAPE:', grid_rougher_tree.best_score_)\n",
    "grid_final_tree = GridSearchCV(model_tree, param_grid = parameters, scoring=scorer, cv=5)\n",
    "grid_final_tree.fit(features_train_final,target_train_final)\n",
    "print('Лучшая модель для финального этапа:', grid_final_tree.best_estimator_)\n",
    "print('sMAPE:', grid_final_tree.best_score_)"
   ]
  },
  {
   "cell_type": "code",
   "execution_count": 35,
   "metadata": {},
   "outputs": [
    {
     "name": "stdout",
     "output_type": "stream",
     "text": [
      "Итоговое sMAPE для решающего дерева: -8.51803805901217\n"
     ]
    }
   ],
   "source": [
    "print('Итоговое sMAPE для решающего дерева:',final_sMAPE(grid_rougher_tree.best_score_, grid_final_tree.best_score_).mean())"
   ]
  },
  {
   "cell_type": "code",
   "execution_count": 37,
   "metadata": {},
   "outputs": [
    {
     "name": "stdout",
     "output_type": "stream",
     "text": [
      "Лучшая модель для этапа флотации: RandomForestRegressor(max_depth=5, n_estimators=7, random_state=12345)\n",
      "sMAPE: -6.531822177404663\n",
      "Лучшая модель для финального этапа: RandomForestRegressor(max_depth=3, n_estimators=7, random_state=12345)\n",
      "sMAPE: -8.945130585791894\n"
     ]
    }
   ],
   "source": [
    "#автоматический подбор параметров для RandomForestRegressor\n",
    "parameters = {'max_depth' : range(1,20,2), 'n_estimators' : range(1,20,2)}\n",
    "\n",
    "model_forest = RandomForestRegressor(random_state=12345)\n",
    "\n",
    "grid_rougher_forest = GridSearchCV(model_forest, param_grid = parameters, scoring=scorer, cv=5)\n",
    "grid_rougher_forest.fit(features_train_rougher,target_train_rougher)\n",
    "print('Лучшая модель для этапа флотации:', grid_rougher_forest.best_estimator_)\n",
    "print('sMAPE:', grid_rougher_forest.best_score_)\n",
    "\n",
    "grid_final_forest = GridSearchCV(model_forest, param_grid = parameters,scoring=scorer, cv=5)\n",
    "grid_final_forest.fit(features_train_final,target_train_final)\n",
    "print('Лучшая модель для финального этапа:', grid_final_forest.best_estimator_)\n",
    "print('sMAPE:', grid_final_forest.best_score_) "
   ]
  },
  {
   "cell_type": "code",
   "execution_count": 38,
   "metadata": {},
   "outputs": [
    {
     "name": "stdout",
     "output_type": "stream",
     "text": [
      "Итоговое sMAPE для случайного леса: -8.341803483695086\n"
     ]
    }
   ],
   "source": [
    "print('Итоговое sMAPE для случайного леса:',final_sMAPE(grid_rougher_forest.best_score_, grid_final_forest.best_score_).mean())"
   ]
  },
  {
   "cell_type": "markdown",
   "metadata": {},
   "source": [
    "***Вывод***  \n",
    "Случайный лес работает лучше - метрика sMAPE меньше. Для тестирования выбираем эту модель."
   ]
  },
  {
   "cell_type": "code",
   "execution_count": 39,
   "metadata": {},
   "outputs": [
    {
     "name": "stdout",
     "output_type": "stream",
     "text": [
      "Итоговое sMAPE на тестовой выборке: 9.062606545246549\n"
     ]
    }
   ],
   "source": [
    "rougher_test = grid_rougher_forest.predict(features_test_rougher)\n",
    "final_test = grid_final_forest.predict(features_test_final)\n",
    "print('Итоговое sMAPE на тестовой выборке:',final_sMAPE(sMAPE(target_test_rougher,rougher_test),sMAPE(target_test_final,final_test)))"
   ]
  },
  {
   "cell_type": "markdown",
   "metadata": {},
   "source": [
    "Проверим модель на адекватность."
   ]
  },
  {
   "cell_type": "code",
   "execution_count": 40,
   "metadata": {},
   "outputs": [
    {
     "name": "stdout",
     "output_type": "stream",
     "text": [
      "Итоговое sMAPE для DummyRegressor: 9.62316186609295\n"
     ]
    }
   ],
   "source": [
    "dummy_model_rougher = DummyRegressor(strategy=\"mean\")\n",
    "dummy_model_final = DummyRegressor(strategy=\"mean\")\n",
    "dummy_model_rougher.fit(features_train_rougher,target_train_rougher)\n",
    "dummy_model_final.fit(features_train_final,target_train_final)\n",
    "test_predictions_rougher = dummy_model_rougher.predict(features_test_rougher)\n",
    "test_predictions_final = dummy_model_final.predict(features_test_final)\n",
    "\n",
    "print('Итоговое sMAPE для DummyRegressor:',final_sMAPE(sMAPE(target_test_rougher,test_predictions_rougher),\n",
    "                                                       sMAPE(target_test_final,test_predictions_final)))"
   ]
  },
  {
   "cell_type": "markdown",
   "metadata": {},
   "source": [
    "***ВЫВОД***  \n",
    "Наша модель адекватна, работает лучше, чем dummy регрессор."
   ]
  },
  {
   "cell_type": "code",
   "execution_count": null,
   "metadata": {},
   "outputs": [],
   "source": []
  }
 ],
 "metadata": {
  "ExecuteTimeLog": [
   {
    "duration": 1610,
    "start_time": "2023-02-01T11:06:23.655Z"
   },
   {
    "duration": 106,
    "start_time": "2023-02-01T11:09:03.479Z"
   },
   {
    "duration": 45,
    "start_time": "2023-02-01T11:09:07.953Z"
   },
   {
    "duration": 36,
    "start_time": "2023-02-01T11:09:41.049Z"
   },
   {
    "duration": 32,
    "start_time": "2023-02-01T11:10:16.211Z"
   },
   {
    "duration": 35,
    "start_time": "2023-02-01T11:10:53.651Z"
   },
   {
    "duration": 35,
    "start_time": "2023-02-01T11:10:59.490Z"
   },
   {
    "duration": 66,
    "start_time": "2023-02-01T11:11:09.790Z"
   },
   {
    "duration": 42,
    "start_time": "2023-02-01T11:11:55.447Z"
   },
   {
    "duration": 36,
    "start_time": "2023-02-01T11:12:05.854Z"
   },
   {
    "duration": 43,
    "start_time": "2023-02-01T11:12:23.640Z"
   },
   {
    "duration": 49,
    "start_time": "2023-02-01T11:12:28.783Z"
   },
   {
    "duration": 1905,
    "start_time": "2023-02-01T11:14:11.930Z"
   },
   {
    "duration": 20,
    "start_time": "2023-02-01T11:14:15.112Z"
   },
   {
    "duration": 679,
    "start_time": "2023-02-01T11:17:01.187Z"
   },
   {
    "duration": 18,
    "start_time": "2023-02-01T11:17:06.788Z"
   },
   {
    "duration": 18,
    "start_time": "2023-02-01T11:17:32.852Z"
   },
   {
    "duration": 13,
    "start_time": "2023-02-01T11:18:07.837Z"
   },
   {
    "duration": 8,
    "start_time": "2023-02-01T14:17:42.710Z"
   },
   {
    "duration": 2,
    "start_time": "2023-02-01T14:19:40.816Z"
   },
   {
    "duration": 59,
    "start_time": "2023-02-01T14:33:15.043Z"
   },
   {
    "duration": 16393,
    "start_time": "2023-02-01T14:33:22.489Z"
   },
   {
    "duration": 107,
    "start_time": "2023-02-01T14:34:09.430Z"
   },
   {
    "duration": 1853,
    "start_time": "2023-02-01T14:34:16.779Z"
   },
   {
    "duration": 12,
    "start_time": "2023-02-01T14:34:19.501Z"
   },
   {
    "duration": 10,
    "start_time": "2023-02-01T14:34:54.989Z"
   },
   {
    "duration": 5,
    "start_time": "2023-02-01T14:36:00.132Z"
   },
   {
    "duration": 690,
    "start_time": "2023-02-01T14:36:02.979Z"
   },
   {
    "duration": 19,
    "start_time": "2023-02-01T14:36:10.751Z"
   },
   {
    "duration": 17,
    "start_time": "2023-02-01T14:38:44.418Z"
   },
   {
    "duration": 15,
    "start_time": "2023-02-01T14:38:57.395Z"
   },
   {
    "duration": 15,
    "start_time": "2023-02-01T14:39:06.606Z"
   },
   {
    "duration": 15,
    "start_time": "2023-02-01T14:39:23.670Z"
   },
   {
    "duration": 30,
    "start_time": "2023-02-01T14:39:46.997Z"
   },
   {
    "duration": 14,
    "start_time": "2023-02-01T14:40:06.964Z"
   },
   {
    "duration": 25,
    "start_time": "2023-02-01T14:40:16.899Z"
   },
   {
    "duration": 11,
    "start_time": "2023-02-01T14:40:24.312Z"
   },
   {
    "duration": 14,
    "start_time": "2023-02-01T14:40:31.790Z"
   },
   {
    "duration": 17,
    "start_time": "2023-02-01T14:40:43.609Z"
   },
   {
    "duration": 14,
    "start_time": "2023-02-01T14:41:08.572Z"
   },
   {
    "duration": 11,
    "start_time": "2023-02-01T14:41:21.806Z"
   },
   {
    "duration": 9,
    "start_time": "2023-02-01T14:41:58.949Z"
   },
   {
    "duration": 260,
    "start_time": "2023-02-01T14:42:03.409Z"
   },
   {
    "duration": 240,
    "start_time": "2023-02-01T14:42:58.810Z"
   },
   {
    "duration": 134,
    "start_time": "2023-02-01T14:43:35.179Z"
   },
   {
    "duration": 264,
    "start_time": "2023-02-01T14:43:37.689Z"
   },
   {
    "duration": 1349,
    "start_time": "2023-02-01T15:37:56.113Z"
   },
   {
    "duration": 662,
    "start_time": "2023-02-01T15:37:57.464Z"
   },
   {
    "duration": 18,
    "start_time": "2023-02-01T15:37:58.127Z"
   },
   {
    "duration": 15,
    "start_time": "2023-02-01T15:37:58.147Z"
   },
   {
    "duration": 11,
    "start_time": "2023-02-01T15:37:58.164Z"
   },
   {
    "duration": 257,
    "start_time": "2023-02-01T15:37:58.193Z"
   },
   {
    "duration": 245,
    "start_time": "2023-02-01T15:37:58.452Z"
   },
   {
    "duration": 119,
    "start_time": "2023-02-01T15:37:58.698Z"
   },
   {
    "duration": 106011,
    "start_time": "2023-02-01T15:37:58.818Z"
   },
   {
    "duration": 9,
    "start_time": "2023-02-01T15:46:33.543Z"
   },
   {
    "duration": 105,
    "start_time": "2023-02-01T15:46:37.154Z"
   },
   {
    "duration": 5,
    "start_time": "2023-02-01T15:46:42.214Z"
   },
   {
    "duration": 9,
    "start_time": "2023-02-01T15:46:47.592Z"
   },
   {
    "duration": 5,
    "start_time": "2023-02-01T15:47:15.816Z"
   },
   {
    "duration": 9,
    "start_time": "2023-02-01T15:47:23.612Z"
   },
   {
    "duration": 706,
    "start_time": "2023-02-01T15:47:33.713Z"
   },
   {
    "duration": 4,
    "start_time": "2023-02-01T15:47:46.996Z"
   },
   {
    "duration": 38,
    "start_time": "2023-02-01T15:48:31.330Z"
   },
   {
    "duration": 7,
    "start_time": "2023-02-01T15:52:17.113Z"
   },
   {
    "duration": 4,
    "start_time": "2023-02-01T15:52:22.018Z"
   },
   {
    "duration": 10,
    "start_time": "2023-02-01T15:58:35.848Z"
   },
   {
    "duration": 31,
    "start_time": "2023-02-01T15:58:43.702Z"
   },
   {
    "duration": 18,
    "start_time": "2023-02-01T15:58:55.006Z"
   },
   {
    "duration": 2,
    "start_time": "2023-02-01T16:05:41.724Z"
   },
   {
    "duration": 5,
    "start_time": "2023-02-01T16:05:50.058Z"
   },
   {
    "duration": 22,
    "start_time": "2023-02-01T16:06:32.613Z"
   },
   {
    "duration": 4,
    "start_time": "2023-02-01T16:07:14.408Z"
   },
   {
    "duration": 10,
    "start_time": "2023-02-01T16:09:00.807Z"
   },
   {
    "duration": 3,
    "start_time": "2023-02-01T16:12:56.922Z"
   },
   {
    "duration": 68,
    "start_time": "2023-02-01T18:35:06.215Z"
   },
   {
    "duration": 1718,
    "start_time": "2023-02-01T18:35:11.976Z"
   },
   {
    "duration": 2288,
    "start_time": "2023-02-01T18:35:13.697Z"
   },
   {
    "duration": 21,
    "start_time": "2023-02-01T18:35:15.987Z"
   },
   {
    "duration": 16,
    "start_time": "2023-02-01T18:35:16.009Z"
   },
   {
    "duration": 36,
    "start_time": "2023-02-01T18:35:16.027Z"
   },
   {
    "duration": 278,
    "start_time": "2023-02-01T18:35:16.065Z"
   },
   {
    "duration": 271,
    "start_time": "2023-02-01T18:35:16.344Z"
   },
   {
    "duration": 152,
    "start_time": "2023-02-01T18:35:16.617Z"
   },
   {
    "duration": 4,
    "start_time": "2023-02-01T18:35:16.771Z"
   },
   {
    "duration": 3,
    "start_time": "2023-02-01T18:36:28.602Z"
   },
   {
    "duration": 12,
    "start_time": "2023-02-01T18:52:42.041Z"
   },
   {
    "duration": 8,
    "start_time": "2023-02-01T18:53:24.893Z"
   },
   {
    "duration": 9,
    "start_time": "2023-02-01T18:53:47.693Z"
   },
   {
    "duration": 7,
    "start_time": "2023-02-01T18:57:51.154Z"
   },
   {
    "duration": 1427,
    "start_time": "2023-02-01T19:19:46.396Z"
   },
   {
    "duration": 783,
    "start_time": "2023-02-01T19:19:47.826Z"
   },
   {
    "duration": 36,
    "start_time": "2023-02-01T19:19:48.611Z"
   },
   {
    "duration": 18,
    "start_time": "2023-02-01T19:19:48.654Z"
   },
   {
    "duration": 13,
    "start_time": "2023-02-01T19:19:48.674Z"
   },
   {
    "duration": 276,
    "start_time": "2023-02-01T19:19:48.688Z"
   },
   {
    "duration": 241,
    "start_time": "2023-02-01T19:19:48.966Z"
   },
   {
    "duration": 177,
    "start_time": "2023-02-01T19:19:49.209Z"
   },
   {
    "duration": 4,
    "start_time": "2023-02-01T19:19:49.388Z"
   },
   {
    "duration": 20,
    "start_time": "2023-02-01T19:19:49.394Z"
   },
   {
    "duration": 41,
    "start_time": "2023-02-01T19:19:49.416Z"
   },
   {
    "duration": 10,
    "start_time": "2023-02-01T19:19:49.460Z"
   },
   {
    "duration": 23,
    "start_time": "2023-02-01T19:19:49.472Z"
   },
   {
    "duration": 11,
    "start_time": "2023-02-01T19:40:05.090Z"
   },
   {
    "duration": 12,
    "start_time": "2023-02-01T19:40:14.797Z"
   },
   {
    "duration": 9,
    "start_time": "2023-02-01T19:40:22.368Z"
   },
   {
    "duration": 12,
    "start_time": "2023-02-01T19:40:33.003Z"
   },
   {
    "duration": 10,
    "start_time": "2023-02-01T19:40:47.972Z"
   },
   {
    "duration": 9,
    "start_time": "2023-02-01T19:41:04.573Z"
   },
   {
    "duration": 15,
    "start_time": "2023-02-01T19:45:14.775Z"
   },
   {
    "duration": 5109,
    "start_time": "2023-02-01T19:46:34.566Z"
   },
   {
    "duration": 5172,
    "start_time": "2023-02-01T19:47:14.702Z"
   },
   {
    "duration": 1587,
    "start_time": "2023-02-01T20:07:08.974Z"
   },
   {
    "duration": 823,
    "start_time": "2023-02-01T20:07:10.563Z"
   },
   {
    "duration": 21,
    "start_time": "2023-02-01T20:07:11.387Z"
   },
   {
    "duration": 46,
    "start_time": "2023-02-01T20:07:11.410Z"
   },
   {
    "duration": 20,
    "start_time": "2023-02-01T20:07:11.460Z"
   },
   {
    "duration": 290,
    "start_time": "2023-02-01T20:07:11.482Z"
   },
   {
    "duration": 283,
    "start_time": "2023-02-01T20:07:11.774Z"
   },
   {
    "duration": 136,
    "start_time": "2023-02-01T20:07:12.065Z"
   },
   {
    "duration": 4,
    "start_time": "2023-02-01T20:07:12.203Z"
   },
   {
    "duration": 15,
    "start_time": "2023-02-01T20:07:12.209Z"
   },
   {
    "duration": 41,
    "start_time": "2023-02-01T20:07:12.225Z"
   },
   {
    "duration": 17,
    "start_time": "2023-02-01T20:07:12.267Z"
   },
   {
    "duration": 6,
    "start_time": "2023-02-01T20:07:12.285Z"
   },
   {
    "duration": 17,
    "start_time": "2023-02-01T20:07:12.293Z"
   },
   {
    "duration": 5146,
    "start_time": "2023-02-01T20:07:12.312Z"
   },
   {
    "duration": 118,
    "start_time": "2023-02-01T20:07:38.713Z"
   },
   {
    "duration": 998,
    "start_time": "2023-02-01T20:09:01.922Z"
   },
   {
    "duration": 40,
    "start_time": "2023-02-01T20:09:15.664Z"
   },
   {
    "duration": 925,
    "start_time": "2023-02-01T20:09:34.668Z"
   },
   {
    "duration": 1496,
    "start_time": "2023-02-01T20:10:50.333Z"
   },
   {
    "duration": 797,
    "start_time": "2023-02-01T20:10:51.832Z"
   },
   {
    "duration": 28,
    "start_time": "2023-02-01T20:10:52.630Z"
   },
   {
    "duration": 17,
    "start_time": "2023-02-01T20:10:52.661Z"
   },
   {
    "duration": 21,
    "start_time": "2023-02-01T20:10:52.680Z"
   },
   {
    "duration": 294,
    "start_time": "2023-02-01T20:10:52.703Z"
   },
   {
    "duration": 256,
    "start_time": "2023-02-01T20:10:52.999Z"
   },
   {
    "duration": 130,
    "start_time": "2023-02-01T20:10:53.257Z"
   },
   {
    "duration": 4,
    "start_time": "2023-02-01T20:10:53.388Z"
   },
   {
    "duration": 33,
    "start_time": "2023-02-01T20:10:53.393Z"
   },
   {
    "duration": 28,
    "start_time": "2023-02-01T20:10:53.427Z"
   },
   {
    "duration": 7,
    "start_time": "2023-02-01T20:10:53.460Z"
   },
   {
    "duration": 12,
    "start_time": "2023-02-01T20:10:53.469Z"
   },
   {
    "duration": 24,
    "start_time": "2023-02-01T20:10:53.484Z"
   },
   {
    "duration": 39,
    "start_time": "2023-02-01T20:10:53.510Z"
   },
   {
    "duration": 17,
    "start_time": "2023-02-01T20:10:53.554Z"
   },
   {
    "duration": 264,
    "start_time": "2023-02-01T20:10:53.573Z"
   },
   {
    "duration": 1613,
    "start_time": "2023-02-02T09:17:56.703Z"
   },
   {
    "duration": 2971,
    "start_time": "2023-02-02T09:17:58.318Z"
   },
   {
    "duration": 20,
    "start_time": "2023-02-02T09:18:01.291Z"
   },
   {
    "duration": 30,
    "start_time": "2023-02-02T09:18:01.312Z"
   },
   {
    "duration": 56,
    "start_time": "2023-02-02T09:18:01.345Z"
   },
   {
    "duration": 303,
    "start_time": "2023-02-02T09:18:01.402Z"
   },
   {
    "duration": 233,
    "start_time": "2023-02-02T09:18:01.707Z"
   },
   {
    "duration": 133,
    "start_time": "2023-02-02T09:18:01.942Z"
   },
   {
    "duration": 4,
    "start_time": "2023-02-02T09:18:02.077Z"
   },
   {
    "duration": 32,
    "start_time": "2023-02-02T09:18:02.082Z"
   },
   {
    "duration": 67,
    "start_time": "2023-02-02T09:18:02.115Z"
   },
   {
    "duration": 13,
    "start_time": "2023-02-02T09:18:02.184Z"
   },
   {
    "duration": 5,
    "start_time": "2023-02-02T09:18:02.199Z"
   },
   {
    "duration": 30,
    "start_time": "2023-02-02T09:18:02.207Z"
   },
   {
    "duration": 35,
    "start_time": "2023-02-02T09:18:02.239Z"
   },
   {
    "duration": 16,
    "start_time": "2023-02-02T09:18:02.276Z"
   },
   {
    "duration": 224,
    "start_time": "2023-02-02T09:18:02.294Z"
   },
   {
    "duration": 293,
    "start_time": "2023-02-02T09:26:49.537Z"
   },
   {
    "duration": 1408,
    "start_time": "2023-02-02T09:26:56.073Z"
   },
   {
    "duration": 201,
    "start_time": "2023-02-02T09:28:22.150Z"
   },
   {
    "duration": 5,
    "start_time": "2023-02-02T09:53:13.690Z"
   },
   {
    "duration": 16,
    "start_time": "2023-02-02T09:53:25.724Z"
   },
   {
    "duration": 17,
    "start_time": "2023-02-02T09:53:44.121Z"
   },
   {
    "duration": 6,
    "start_time": "2023-02-02T09:55:10.614Z"
   },
   {
    "duration": 82,
    "start_time": "2023-02-02T09:56:14.923Z"
   },
   {
    "duration": 7,
    "start_time": "2023-02-02T09:56:48.454Z"
   },
   {
    "duration": 6,
    "start_time": "2023-02-02T09:57:11.615Z"
   },
   {
    "duration": 6,
    "start_time": "2023-02-02T09:57:19.775Z"
   },
   {
    "duration": 6,
    "start_time": "2023-02-02T09:57:23.695Z"
   },
   {
    "duration": 8,
    "start_time": "2023-02-02T10:04:20.044Z"
   },
   {
    "duration": 1192,
    "start_time": "2023-02-02T10:07:07.446Z"
   },
   {
    "duration": 1277,
    "start_time": "2023-02-02T10:07:26.846Z"
   },
   {
    "duration": 543,
    "start_time": "2023-02-02T10:08:20.633Z"
   },
   {
    "duration": 1220,
    "start_time": "2023-02-02T10:10:03.390Z"
   },
   {
    "duration": 1185,
    "start_time": "2023-02-02T10:10:32.174Z"
   },
   {
    "duration": 251,
    "start_time": "2023-02-02T10:10:50.801Z"
   },
   {
    "duration": 1241,
    "start_time": "2023-02-02T10:10:56.206Z"
   },
   {
    "duration": 235,
    "start_time": "2023-02-02T10:11:08.924Z"
   },
   {
    "duration": 4,
    "start_time": "2023-02-02T10:11:20.769Z"
   },
   {
    "duration": 1204,
    "start_time": "2023-02-02T10:11:23.860Z"
   },
   {
    "duration": 5,
    "start_time": "2023-02-02T10:18:15.243Z"
   },
   {
    "duration": 4,
    "start_time": "2023-02-02T10:18:55.878Z"
   },
   {
    "duration": 5,
    "start_time": "2023-02-02T10:19:04.918Z"
   },
   {
    "duration": 5,
    "start_time": "2023-02-02T10:22:52.193Z"
   },
   {
    "duration": 6,
    "start_time": "2023-02-02T10:23:45.718Z"
   },
   {
    "duration": 7,
    "start_time": "2023-02-02T10:24:10.159Z"
   },
   {
    "duration": 7,
    "start_time": "2023-02-02T10:24:32.571Z"
   },
   {
    "duration": 1228,
    "start_time": "2023-02-02T10:24:32.710Z"
   },
   {
    "duration": 7,
    "start_time": "2023-02-02T10:25:57.074Z"
   },
   {
    "duration": 7,
    "start_time": "2023-02-02T10:26:13.879Z"
   },
   {
    "duration": 7,
    "start_time": "2023-02-02T10:26:39.009Z"
   },
   {
    "duration": 8,
    "start_time": "2023-02-02T10:27:08.604Z"
   },
   {
    "duration": 8,
    "start_time": "2023-02-02T10:27:16.138Z"
   },
   {
    "duration": 1577,
    "start_time": "2023-02-03T08:30:22.262Z"
   },
   {
    "duration": 3396,
    "start_time": "2023-02-03T08:30:23.841Z"
   },
   {
    "duration": 20,
    "start_time": "2023-02-03T08:30:27.239Z"
   },
   {
    "duration": 25,
    "start_time": "2023-02-03T08:30:27.261Z"
   },
   {
    "duration": 14,
    "start_time": "2023-02-03T08:30:27.289Z"
   },
   {
    "duration": 310,
    "start_time": "2023-02-03T08:30:27.305Z"
   },
   {
    "duration": 236,
    "start_time": "2023-02-03T08:30:27.617Z"
   },
   {
    "duration": 138,
    "start_time": "2023-02-03T08:30:27.854Z"
   },
   {
    "duration": 4,
    "start_time": "2023-02-03T08:30:27.993Z"
   },
   {
    "duration": 11,
    "start_time": "2023-02-03T08:30:27.999Z"
   },
   {
    "duration": 38,
    "start_time": "2023-02-03T08:30:28.012Z"
   },
   {
    "duration": 5,
    "start_time": "2023-02-03T08:30:28.052Z"
   },
   {
    "duration": 6,
    "start_time": "2023-02-03T08:30:28.058Z"
   },
   {
    "duration": 17,
    "start_time": "2023-02-03T08:30:28.066Z"
   },
   {
    "duration": 21,
    "start_time": "2023-02-03T08:30:28.085Z"
   },
   {
    "duration": 45,
    "start_time": "2023-02-03T08:30:28.107Z"
   },
   {
    "duration": 277,
    "start_time": "2023-02-03T08:30:28.153Z"
   },
   {
    "duration": 8,
    "start_time": "2023-02-03T08:30:28.432Z"
   },
   {
    "duration": 15,
    "start_time": "2023-02-03T08:30:28.441Z"
   },
   {
    "duration": 1290,
    "start_time": "2023-02-03T08:30:28.458Z"
   },
   {
    "duration": 6,
    "start_time": "2023-02-03T08:34:00.343Z"
   },
   {
    "duration": 7,
    "start_time": "2023-02-03T08:36:47.471Z"
   },
   {
    "duration": 1387,
    "start_time": "2023-02-03T08:36:50.479Z"
   },
   {
    "duration": 352,
    "start_time": "2023-02-03T08:38:05.279Z"
   },
   {
    "duration": 273,
    "start_time": "2023-02-03T08:38:12.047Z"
   },
   {
    "duration": 254,
    "start_time": "2023-02-03T08:38:15.833Z"
   },
   {
    "duration": 249,
    "start_time": "2023-02-03T08:38:34.102Z"
   },
   {
    "duration": 1419,
    "start_time": "2023-02-03T08:39:36.959Z"
   },
   {
    "duration": 781,
    "start_time": "2023-02-03T08:47:45.597Z"
   },
   {
    "duration": 692,
    "start_time": "2023-02-03T08:50:28.430Z"
   },
   {
    "duration": 780,
    "start_time": "2023-02-03T08:50:38.039Z"
   },
   {
    "duration": 856,
    "start_time": "2023-02-03T08:51:42.376Z"
   },
   {
    "duration": 728,
    "start_time": "2023-02-03T08:52:03.655Z"
   },
   {
    "duration": 944,
    "start_time": "2023-02-03T08:52:33.335Z"
   },
   {
    "duration": 764,
    "start_time": "2023-02-03T08:52:46.504Z"
   },
   {
    "duration": 924,
    "start_time": "2023-02-03T08:53:01.576Z"
   },
   {
    "duration": 769,
    "start_time": "2023-02-03T08:53:14.448Z"
   },
   {
    "duration": 941,
    "start_time": "2023-02-03T08:55:03.663Z"
   },
   {
    "duration": 829,
    "start_time": "2023-02-03T08:55:16.104Z"
   },
   {
    "duration": 1063,
    "start_time": "2023-02-03T08:56:44.810Z"
   },
   {
    "duration": 6,
    "start_time": "2023-02-03T08:57:46.450Z"
   },
   {
    "duration": 1157,
    "start_time": "2023-02-03T08:57:53.620Z"
   },
   {
    "duration": 826,
    "start_time": "2023-02-03T08:58:43.858Z"
   },
   {
    "duration": 1084,
    "start_time": "2023-02-03T08:59:00.491Z"
   },
   {
    "duration": 1800,
    "start_time": "2023-02-03T08:59:53.432Z"
   },
   {
    "duration": 1665,
    "start_time": "2023-02-03T09:02:02.953Z"
   },
   {
    "duration": 1556,
    "start_time": "2023-02-03T09:02:36.991Z"
   },
   {
    "duration": 748,
    "start_time": "2023-02-03T09:03:07.920Z"
   },
   {
    "duration": 1557,
    "start_time": "2023-02-03T09:03:18.841Z"
   },
   {
    "duration": 1555,
    "start_time": "2023-02-03T09:03:56.936Z"
   },
   {
    "duration": 1852,
    "start_time": "2023-02-03T09:09:30.426Z"
   },
   {
    "duration": 1748,
    "start_time": "2023-02-03T09:09:40.907Z"
   },
   {
    "duration": 944,
    "start_time": "2023-02-03T09:10:54.986Z"
   },
   {
    "duration": 741,
    "start_time": "2023-02-03T09:11:04.435Z"
   },
   {
    "duration": 1004,
    "start_time": "2023-02-03T09:11:22.395Z"
   },
   {
    "duration": 762,
    "start_time": "2023-02-03T09:11:38.874Z"
   },
   {
    "duration": 949,
    "start_time": "2023-02-03T09:13:28.114Z"
   },
   {
    "duration": 807,
    "start_time": "2023-02-03T09:13:35.633Z"
   },
   {
    "duration": 946,
    "start_time": "2023-02-03T09:13:46.754Z"
   },
   {
    "duration": 1501,
    "start_time": "2023-02-03T09:13:54.226Z"
   },
   {
    "duration": 1655,
    "start_time": "2023-02-03T09:14:23.914Z"
   },
   {
    "duration": 1248,
    "start_time": "2023-02-03T09:15:40.640Z"
   },
   {
    "duration": 1391,
    "start_time": "2023-02-03T09:15:49.680Z"
   },
   {
    "duration": 1385,
    "start_time": "2023-02-03T09:16:09.504Z"
   },
   {
    "duration": 120,
    "start_time": "2023-02-03T09:56:41.134Z"
   },
   {
    "duration": 10,
    "start_time": "2023-02-03T09:57:46.341Z"
   },
   {
    "duration": 10,
    "start_time": "2023-02-03T09:59:23.187Z"
   },
   {
    "duration": 10,
    "start_time": "2023-02-03T09:59:28.247Z"
   },
   {
    "duration": 9,
    "start_time": "2023-02-03T10:07:09.615Z"
   },
   {
    "duration": 10,
    "start_time": "2023-02-03T10:09:29.755Z"
   },
   {
    "duration": 6,
    "start_time": "2023-02-03T10:09:41.956Z"
   },
   {
    "duration": 8,
    "start_time": "2023-02-03T10:09:48.236Z"
   },
   {
    "duration": 6,
    "start_time": "2023-02-03T10:11:53.828Z"
   },
   {
    "duration": 10,
    "start_time": "2023-02-03T10:12:09.443Z"
   },
   {
    "duration": 9,
    "start_time": "2023-02-03T10:17:27.615Z"
   },
   {
    "duration": 116,
    "start_time": "2023-02-03T10:19:18.258Z"
   },
   {
    "duration": 13,
    "start_time": "2023-02-03T10:20:39.339Z"
   },
   {
    "duration": 97,
    "start_time": "2023-02-03T10:21:20.268Z"
   },
   {
    "duration": 121,
    "start_time": "2023-02-03T10:21:32.223Z"
   },
   {
    "duration": 266,
    "start_time": "2023-02-03T10:22:10.035Z"
   },
   {
    "duration": 190,
    "start_time": "2023-02-03T10:24:22.290Z"
   },
   {
    "duration": 207,
    "start_time": "2023-02-03T10:24:59.668Z"
   },
   {
    "duration": 226,
    "start_time": "2023-02-03T10:25:39.098Z"
   },
   {
    "duration": 1397,
    "start_time": "2023-02-03T10:50:17.129Z"
   },
   {
    "duration": 1201,
    "start_time": "2023-02-03T10:50:29.000Z"
   },
   {
    "duration": 1248,
    "start_time": "2023-02-03T10:52:43.201Z"
   },
   {
    "duration": 482,
    "start_time": "2023-02-03T10:52:58.281Z"
   },
   {
    "duration": 1731,
    "start_time": "2023-02-03T10:54:27.002Z"
   },
   {
    "duration": 1471,
    "start_time": "2023-02-03T10:54:39.529Z"
   },
   {
    "duration": 1457,
    "start_time": "2023-02-03T10:55:01.561Z"
   },
   {
    "duration": 225,
    "start_time": "2023-02-03T10:55:03.021Z"
   },
   {
    "duration": 1483,
    "start_time": "2023-02-03T10:55:59.845Z"
   },
   {
    "duration": 1024,
    "start_time": "2023-02-03T10:59:51.187Z"
   },
   {
    "duration": 893,
    "start_time": "2023-02-03T11:00:47.053Z"
   },
   {
    "duration": 1090,
    "start_time": "2023-02-03T11:01:03.472Z"
   },
   {
    "duration": 766,
    "start_time": "2023-02-03T11:01:30.344Z"
   },
   {
    "duration": 1073,
    "start_time": "2023-02-03T11:01:36.632Z"
   },
   {
    "duration": 803,
    "start_time": "2023-02-03T11:01:48.584Z"
   },
   {
    "duration": 919,
    "start_time": "2023-02-03T11:02:04.837Z"
   },
   {
    "duration": 736,
    "start_time": "2023-02-03T11:02:14.162Z"
   },
   {
    "duration": 1117,
    "start_time": "2023-02-03T11:02:50.635Z"
   },
   {
    "duration": 811,
    "start_time": "2023-02-03T11:03:00.577Z"
   },
   {
    "duration": 1028,
    "start_time": "2023-02-03T11:03:10.381Z"
   },
   {
    "duration": 388,
    "start_time": "2023-02-03T11:03:14.741Z"
   },
   {
    "duration": 1111,
    "start_time": "2023-02-03T11:03:24.871Z"
   },
   {
    "duration": 867,
    "start_time": "2023-02-03T11:03:31.258Z"
   },
   {
    "duration": 1088,
    "start_time": "2023-02-03T11:03:43.909Z"
   },
   {
    "duration": 860,
    "start_time": "2023-02-03T11:03:59.493Z"
   },
   {
    "duration": 323,
    "start_time": "2023-02-03T11:04:28.604Z"
   },
   {
    "duration": 904,
    "start_time": "2023-02-03T11:04:34.586Z"
   },
   {
    "duration": 781,
    "start_time": "2023-02-03T11:04:52.598Z"
   },
   {
    "duration": 631,
    "start_time": "2023-02-03T11:05:20.657Z"
   },
   {
    "duration": 751,
    "start_time": "2023-02-03T11:05:32.167Z"
   },
   {
    "duration": 1062,
    "start_time": "2023-02-03T11:05:54.084Z"
   },
   {
    "duration": 1017,
    "start_time": "2023-02-03T11:07:22.007Z"
   },
   {
    "duration": 1264,
    "start_time": "2023-02-03T11:07:42.614Z"
   },
   {
    "duration": 1510,
    "start_time": "2023-02-03T11:08:28.502Z"
   },
   {
    "duration": 1558,
    "start_time": "2023-02-03T11:08:47.453Z"
   },
   {
    "duration": 1546,
    "start_time": "2023-02-03T11:09:22.934Z"
   },
   {
    "duration": 76,
    "start_time": "2023-02-03T11:09:50.317Z"
   },
   {
    "duration": 71,
    "start_time": "2023-02-03T11:09:57.467Z"
   },
   {
    "duration": 1278,
    "start_time": "2023-02-03T11:10:15.101Z"
   },
   {
    "duration": 1613,
    "start_time": "2023-02-03T11:10:23.661Z"
   },
   {
    "duration": 2062,
    "start_time": "2023-02-03T11:13:05.499Z"
   },
   {
    "duration": 1756,
    "start_time": "2023-02-03T11:13:16.054Z"
   },
   {
    "duration": 94,
    "start_time": "2023-02-03T11:23:26.238Z"
   },
   {
    "duration": 485,
    "start_time": "2023-02-03T11:23:42.240Z"
   },
   {
    "duration": 767,
    "start_time": "2023-02-03T11:23:56.208Z"
   },
   {
    "duration": 1132,
    "start_time": "2023-02-03T11:24:24.631Z"
   },
   {
    "duration": 1094,
    "start_time": "2023-02-03T11:24:36.058Z"
   },
   {
    "duration": 75,
    "start_time": "2023-02-03T11:25:57.159Z"
   },
   {
    "duration": 1469,
    "start_time": "2023-02-03T11:26:09.358Z"
   },
   {
    "duration": 2157,
    "start_time": "2023-02-03T11:26:28.989Z"
   },
   {
    "duration": 1591,
    "start_time": "2023-02-03T11:27:32.235Z"
   },
   {
    "duration": 1620,
    "start_time": "2023-02-03T11:29:19.199Z"
   },
   {
    "duration": 2265,
    "start_time": "2023-02-03T11:30:55.492Z"
   },
   {
    "duration": 1767,
    "start_time": "2023-02-03T11:32:02.475Z"
   },
   {
    "duration": 1658,
    "start_time": "2023-02-03T11:32:11.388Z"
   },
   {
    "duration": 2375,
    "start_time": "2023-02-03T11:32:38.174Z"
   },
   {
    "duration": 1869,
    "start_time": "2023-02-03T11:32:59.534Z"
   },
   {
    "duration": 1870,
    "start_time": "2023-02-03T11:33:18.222Z"
   },
   {
    "duration": 2608,
    "start_time": "2023-02-03T11:33:29.701Z"
   },
   {
    "duration": 2030,
    "start_time": "2023-02-03T11:33:43.266Z"
   },
   {
    "duration": 1917,
    "start_time": "2023-02-03T11:33:52.953Z"
   },
   {
    "duration": 639,
    "start_time": "2023-02-03T11:34:01.281Z"
   },
   {
    "duration": 653,
    "start_time": "2023-02-03T11:35:36.745Z"
   },
   {
    "duration": 2725,
    "start_time": "2023-02-03T11:35:48.973Z"
   },
   {
    "duration": 1905,
    "start_time": "2023-02-03T11:36:23.246Z"
   },
   {
    "duration": 1906,
    "start_time": "2023-02-03T11:36:37.466Z"
   },
   {
    "duration": 1934,
    "start_time": "2023-02-03T11:37:01.649Z"
   },
   {
    "duration": 3071,
    "start_time": "2023-02-03T11:39:23.893Z"
   },
   {
    "duration": 208,
    "start_time": "2023-02-03T11:43:04.691Z"
   },
   {
    "duration": 214,
    "start_time": "2023-02-03T11:43:17.751Z"
   },
   {
    "duration": 195,
    "start_time": "2023-02-03T11:43:26.359Z"
   },
   {
    "duration": 2270,
    "start_time": "2023-02-03T11:44:19.673Z"
   },
   {
    "duration": 2050,
    "start_time": "2023-02-03T11:44:53.484Z"
   },
   {
    "duration": 200,
    "start_time": "2023-02-03T11:45:20.343Z"
   },
   {
    "duration": 2133,
    "start_time": "2023-02-03T11:46:02.824Z"
   },
   {
    "duration": 3130,
    "start_time": "2023-02-03T11:46:26.904Z"
   },
   {
    "duration": 2551,
    "start_time": "2023-02-03T11:47:23.571Z"
   },
   {
    "duration": 98,
    "start_time": "2023-02-03T11:51:15.040Z"
   },
   {
    "duration": 1973,
    "start_time": "2023-02-03T11:51:20.902Z"
   },
   {
    "duration": 2097,
    "start_time": "2023-02-03T11:51:43.102Z"
   },
   {
    "duration": 3040,
    "start_time": "2023-02-03T11:52:00.650Z"
   },
   {
    "duration": 1879,
    "start_time": "2023-02-03T11:52:09.102Z"
   },
   {
    "duration": 76,
    "start_time": "2023-02-03T11:52:56.301Z"
   },
   {
    "duration": 202,
    "start_time": "2023-02-03T11:53:00.266Z"
   },
   {
    "duration": 186,
    "start_time": "2023-02-03T11:53:07.160Z"
   },
   {
    "duration": 187,
    "start_time": "2023-02-03T11:53:35.130Z"
   },
   {
    "duration": 236,
    "start_time": "2023-02-03T11:53:43.561Z"
   },
   {
    "duration": 4,
    "start_time": "2023-02-03T11:54:37.790Z"
   },
   {
    "duration": 6,
    "start_time": "2023-02-03T11:54:59.686Z"
   },
   {
    "duration": 14,
    "start_time": "2023-02-03T11:55:16.478Z"
   },
   {
    "duration": 9,
    "start_time": "2023-02-03T11:55:23.040Z"
   },
   {
    "duration": 28,
    "start_time": "2023-02-03T11:58:54.817Z"
   },
   {
    "duration": 26,
    "start_time": "2023-02-03T12:05:52.403Z"
   },
   {
    "duration": 1888,
    "start_time": "2023-02-03T12:08:54.732Z"
   },
   {
    "duration": 1917,
    "start_time": "2023-02-03T12:09:14.551Z"
   },
   {
    "duration": 18,
    "start_time": "2023-02-03T12:19:42.448Z"
   },
   {
    "duration": 16,
    "start_time": "2023-02-03T12:19:48.729Z"
   },
   {
    "duration": 18,
    "start_time": "2023-02-03T12:22:48.444Z"
   },
   {
    "duration": 17,
    "start_time": "2023-02-03T12:22:52.975Z"
   },
   {
    "duration": 19,
    "start_time": "2023-02-03T12:22:55.964Z"
   },
   {
    "duration": 20,
    "start_time": "2023-02-03T12:22:59.375Z"
   },
   {
    "duration": 26,
    "start_time": "2023-02-03T12:23:07.345Z"
   },
   {
    "duration": 12,
    "start_time": "2023-02-03T12:24:11.724Z"
   },
   {
    "duration": 5,
    "start_time": "2023-02-03T12:27:35.230Z"
   },
   {
    "duration": 9,
    "start_time": "2023-02-03T12:27:50.869Z"
   },
   {
    "duration": 10,
    "start_time": "2023-02-03T12:29:40.088Z"
   },
   {
    "duration": 9,
    "start_time": "2023-02-03T12:31:17.600Z"
   },
   {
    "duration": 6,
    "start_time": "2023-02-03T12:33:56.797Z"
   },
   {
    "duration": 9,
    "start_time": "2023-02-03T12:34:23.076Z"
   },
   {
    "duration": 67,
    "start_time": "2023-02-04T19:47:20.561Z"
   },
   {
    "duration": 1727,
    "start_time": "2023-02-04T19:47:33.635Z"
   },
   {
    "duration": 2265,
    "start_time": "2023-02-04T19:47:35.365Z"
   },
   {
    "duration": 27,
    "start_time": "2023-02-04T19:47:37.632Z"
   },
   {
    "duration": 24,
    "start_time": "2023-02-04T19:47:37.661Z"
   },
   {
    "duration": 28,
    "start_time": "2023-02-04T19:47:37.691Z"
   },
   {
    "duration": 315,
    "start_time": "2023-02-04T19:47:37.722Z"
   },
   {
    "duration": 285,
    "start_time": "2023-02-04T19:47:38.039Z"
   },
   {
    "duration": 161,
    "start_time": "2023-02-04T19:47:38.326Z"
   },
   {
    "duration": 6,
    "start_time": "2023-02-04T19:47:38.492Z"
   },
   {
    "duration": 19,
    "start_time": "2023-02-04T19:47:38.500Z"
   },
   {
    "duration": 15,
    "start_time": "2023-02-04T19:47:38.522Z"
   },
   {
    "duration": 6,
    "start_time": "2023-02-04T19:47:38.539Z"
   },
   {
    "duration": 5,
    "start_time": "2023-02-04T19:47:38.547Z"
   },
   {
    "duration": 47,
    "start_time": "2023-02-04T19:47:38.555Z"
   },
   {
    "duration": 24,
    "start_time": "2023-02-04T19:47:38.604Z"
   },
   {
    "duration": 15,
    "start_time": "2023-02-04T19:47:38.630Z"
   },
   {
    "duration": 296,
    "start_time": "2023-02-04T19:47:38.647Z"
   },
   {
    "duration": 12,
    "start_time": "2023-02-04T19:47:38.945Z"
   },
   {
    "duration": 37,
    "start_time": "2023-02-04T19:47:38.959Z"
   },
   {
    "duration": 1724,
    "start_time": "2023-02-04T19:47:39.003Z"
   },
   {
    "duration": 2198,
    "start_time": "2023-02-04T19:47:40.730Z"
   },
   {
    "duration": 276,
    "start_time": "2023-02-04T19:47:42.930Z"
   },
   {
    "duration": 9,
    "start_time": "2023-02-04T19:47:43.208Z"
   },
   {
    "duration": 10,
    "start_time": "2023-02-04T19:48:13.193Z"
   },
   {
    "duration": 8,
    "start_time": "2023-02-04T19:48:28.369Z"
   },
   {
    "duration": 5,
    "start_time": "2023-02-04T19:48:34.676Z"
   },
   {
    "duration": 14,
    "start_time": "2023-02-04T19:49:41.985Z"
   },
   {
    "duration": 152,
    "start_time": "2023-02-04T19:50:12.906Z"
   },
   {
    "duration": 10,
    "start_time": "2023-02-04T19:50:18.329Z"
   },
   {
    "duration": 20,
    "start_time": "2023-02-04T19:50:51.272Z"
   },
   {
    "duration": 21,
    "start_time": "2023-02-04T19:50:59.081Z"
   },
   {
    "duration": 52,
    "start_time": "2023-02-04T19:51:15.205Z"
   },
   {
    "duration": 17,
    "start_time": "2023-02-04T19:51:20.763Z"
   },
   {
    "duration": 10,
    "start_time": "2023-02-04T19:52:01.448Z"
   },
   {
    "duration": 11,
    "start_time": "2023-02-04T19:52:19.041Z"
   },
   {
    "duration": 12,
    "start_time": "2023-02-04T19:52:37.832Z"
   },
   {
    "duration": 11,
    "start_time": "2023-02-04T19:52:39.041Z"
   },
   {
    "duration": 21,
    "start_time": "2023-02-04T20:04:17.489Z"
   },
   {
    "duration": 16,
    "start_time": "2023-02-04T20:04:30.665Z"
   },
   {
    "duration": 13,
    "start_time": "2023-02-04T20:04:50.047Z"
   },
   {
    "duration": 12,
    "start_time": "2023-02-04T20:05:07.172Z"
   },
   {
    "duration": 51,
    "start_time": "2023-02-04T20:05:27.348Z"
   },
   {
    "duration": 45,
    "start_time": "2023-02-04T20:05:43.841Z"
   },
   {
    "duration": 40,
    "start_time": "2023-02-04T20:05:48.730Z"
   },
   {
    "duration": 202,
    "start_time": "2023-02-04T20:05:55.841Z"
   },
   {
    "duration": 13,
    "start_time": "2023-02-04T20:06:18.139Z"
   },
   {
    "duration": 4,
    "start_time": "2023-02-04T20:06:50.441Z"
   },
   {
    "duration": 6,
    "start_time": "2023-02-04T20:07:04.926Z"
   },
   {
    "duration": 4,
    "start_time": "2023-02-04T20:07:08.904Z"
   },
   {
    "duration": 67,
    "start_time": "2023-02-04T20:07:31.780Z"
   },
   {
    "duration": 47,
    "start_time": "2023-02-04T20:07:34.527Z"
   },
   {
    "duration": 1611,
    "start_time": "2023-02-04T20:08:09.338Z"
   },
   {
    "duration": 804,
    "start_time": "2023-02-04T20:08:10.952Z"
   },
   {
    "duration": 27,
    "start_time": "2023-02-04T20:08:11.758Z"
   },
   {
    "duration": 26,
    "start_time": "2023-02-04T20:08:11.790Z"
   },
   {
    "duration": 16,
    "start_time": "2023-02-04T20:08:11.818Z"
   },
   {
    "duration": 334,
    "start_time": "2023-02-04T20:08:11.835Z"
   },
   {
    "duration": 262,
    "start_time": "2023-02-04T20:08:12.170Z"
   },
   {
    "duration": 142,
    "start_time": "2023-02-04T20:08:12.435Z"
   },
   {
    "duration": 17,
    "start_time": "2023-02-04T20:08:12.579Z"
   },
   {
    "duration": 29,
    "start_time": "2023-02-04T20:08:12.599Z"
   },
   {
    "duration": 15,
    "start_time": "2023-02-04T20:08:12.630Z"
   },
   {
    "duration": 6,
    "start_time": "2023-02-04T20:08:12.647Z"
   },
   {
    "duration": 20,
    "start_time": "2023-02-04T20:08:12.655Z"
   },
   {
    "duration": 23,
    "start_time": "2023-02-04T20:08:12.679Z"
   },
   {
    "duration": 32,
    "start_time": "2023-02-04T20:08:12.703Z"
   },
   {
    "duration": 15,
    "start_time": "2023-02-04T20:08:12.737Z"
   },
   {
    "duration": 277,
    "start_time": "2023-02-04T20:08:12.754Z"
   },
   {
    "duration": 9,
    "start_time": "2023-02-04T20:08:13.033Z"
   },
   {
    "duration": 20,
    "start_time": "2023-02-04T20:08:13.045Z"
   },
   {
    "duration": 1583,
    "start_time": "2023-02-04T20:08:13.067Z"
   },
   {
    "duration": 2226,
    "start_time": "2023-02-04T20:08:14.652Z"
   },
   {
    "duration": 260,
    "start_time": "2023-02-04T20:08:16.885Z"
   },
   {
    "duration": 14,
    "start_time": "2023-02-04T20:08:17.146Z"
   },
   {
    "duration": 28,
    "start_time": "2023-02-04T20:08:17.162Z"
   },
   {
    "duration": 10,
    "start_time": "2023-02-04T20:08:23.442Z"
   },
   {
    "duration": 255,
    "start_time": "2023-02-04T20:08:25.355Z"
   },
   {
    "duration": 12,
    "start_time": "2023-02-04T20:09:49.999Z"
   },
   {
    "duration": 18,
    "start_time": "2023-02-04T20:10:11.742Z"
   },
   {
    "duration": 7,
    "start_time": "2023-02-04T20:10:18.652Z"
   },
   {
    "duration": 46,
    "start_time": "2023-02-04T20:11:03.577Z"
   },
   {
    "duration": 4,
    "start_time": "2023-02-04T20:11:13.829Z"
   },
   {
    "duration": 4,
    "start_time": "2023-02-04T20:11:24.718Z"
   },
   {
    "duration": 154,
    "start_time": "2023-02-04T20:13:25.091Z"
   },
   {
    "duration": 10,
    "start_time": "2023-02-04T20:15:11.872Z"
   },
   {
    "duration": 9,
    "start_time": "2023-02-04T20:15:22.542Z"
   },
   {
    "duration": 18,
    "start_time": "2023-02-04T20:15:48.617Z"
   },
   {
    "duration": 23,
    "start_time": "2023-02-04T20:16:19.962Z"
   },
   {
    "duration": 17,
    "start_time": "2023-02-04T20:16:34.401Z"
   },
   {
    "duration": 2228,
    "start_time": "2023-02-04T20:17:00.871Z"
   },
   {
    "duration": 74,
    "start_time": "2023-02-04T20:22:18.766Z"
   },
   {
    "duration": 13,
    "start_time": "2023-02-04T20:26:05.483Z"
   },
   {
    "duration": 1611,
    "start_time": "2023-02-04T20:31:57.802Z"
   },
   {
    "duration": 1687,
    "start_time": "2023-02-04T20:32:08.755Z"
   },
   {
    "duration": 47,
    "start_time": "2023-02-04T20:37:36.515Z"
   },
   {
    "duration": 46,
    "start_time": "2023-02-04T20:37:50.135Z"
   },
   {
    "duration": 61,
    "start_time": "2023-02-04T20:37:58.943Z"
   },
   {
    "duration": 14,
    "start_time": "2023-02-04T20:39:34.906Z"
   },
   {
    "duration": 14,
    "start_time": "2023-02-04T20:40:21.112Z"
   },
   {
    "duration": 4,
    "start_time": "2023-02-04T20:41:17.050Z"
   },
   {
    "duration": 240,
    "start_time": "2023-02-04T20:41:24.325Z"
   },
   {
    "duration": 18,
    "start_time": "2023-02-04T20:44:07.012Z"
   },
   {
    "duration": 23,
    "start_time": "2023-02-04T20:44:19.646Z"
   },
   {
    "duration": 15,
    "start_time": "2023-02-04T20:44:48.951Z"
   },
   {
    "duration": 14,
    "start_time": "2023-02-04T20:45:07.540Z"
   },
   {
    "duration": 37,
    "start_time": "2023-02-04T20:46:21.145Z"
   },
   {
    "duration": 1691,
    "start_time": "2023-02-04T20:46:45.172Z"
   },
   {
    "duration": 876,
    "start_time": "2023-02-04T20:46:46.866Z"
   },
   {
    "duration": 23,
    "start_time": "2023-02-04T20:46:47.744Z"
   },
   {
    "duration": 37,
    "start_time": "2023-02-04T20:46:47.769Z"
   },
   {
    "duration": 23,
    "start_time": "2023-02-04T20:46:47.810Z"
   },
   {
    "duration": 335,
    "start_time": "2023-02-04T20:46:47.835Z"
   },
   {
    "duration": 282,
    "start_time": "2023-02-04T20:46:48.172Z"
   },
   {
    "duration": 165,
    "start_time": "2023-02-04T20:46:48.456Z"
   },
   {
    "duration": 5,
    "start_time": "2023-02-04T20:46:48.624Z"
   },
   {
    "duration": 18,
    "start_time": "2023-02-04T20:46:48.631Z"
   },
   {
    "duration": 56,
    "start_time": "2023-02-04T20:46:48.651Z"
   },
   {
    "duration": 7,
    "start_time": "2023-02-04T20:46:48.709Z"
   },
   {
    "duration": 5,
    "start_time": "2023-02-04T20:46:48.717Z"
   },
   {
    "duration": 23,
    "start_time": "2023-02-04T20:46:48.726Z"
   },
   {
    "duration": 59,
    "start_time": "2023-02-04T20:46:48.751Z"
   },
   {
    "duration": 22,
    "start_time": "2023-02-04T20:46:48.813Z"
   },
   {
    "duration": 328,
    "start_time": "2023-02-04T20:46:48.837Z"
   },
   {
    "duration": 28,
    "start_time": "2023-02-04T20:46:49.167Z"
   },
   {
    "duration": 13,
    "start_time": "2023-02-04T20:46:49.197Z"
   },
   {
    "duration": 1852,
    "start_time": "2023-02-04T20:46:49.213Z"
   },
   {
    "duration": 2555,
    "start_time": "2023-02-04T20:46:51.068Z"
   },
   {
    "duration": 339,
    "start_time": "2023-02-04T20:46:53.626Z"
   },
   {
    "duration": 42,
    "start_time": "2023-02-04T20:46:53.967Z"
   },
   {
    "duration": 35,
    "start_time": "2023-02-04T20:46:54.014Z"
   },
   {
    "duration": 33,
    "start_time": "2023-02-04T20:46:54.051Z"
   },
   {
    "duration": 1670,
    "start_time": "2023-02-04T20:46:54.086Z"
   },
   {
    "duration": 219,
    "start_time": "2023-02-04T20:46:55.759Z"
   },
   {
    "duration": 19,
    "start_time": "2023-02-04T20:47:14.104Z"
   },
   {
    "duration": 5,
    "start_time": "2023-02-04T20:57:56.851Z"
   },
   {
    "duration": 39,
    "start_time": "2023-02-04T21:00:03.278Z"
   },
   {
    "duration": 1711,
    "start_time": "2023-02-04T21:00:27.358Z"
   },
   {
    "duration": 988,
    "start_time": "2023-02-04T21:00:29.072Z"
   },
   {
    "duration": 49,
    "start_time": "2023-02-04T21:00:30.063Z"
   },
   {
    "duration": 25,
    "start_time": "2023-02-04T21:00:30.126Z"
   },
   {
    "duration": 70,
    "start_time": "2023-02-04T21:00:30.154Z"
   },
   {
    "duration": 424,
    "start_time": "2023-02-04T21:00:30.226Z"
   },
   {
    "duration": 298,
    "start_time": "2023-02-04T21:00:30.653Z"
   },
   {
    "duration": 187,
    "start_time": "2023-02-04T21:00:30.953Z"
   },
   {
    "duration": 5,
    "start_time": "2023-02-04T21:00:31.142Z"
   },
   {
    "duration": 26,
    "start_time": "2023-02-04T21:00:31.150Z"
   },
   {
    "duration": 91,
    "start_time": "2023-02-04T21:00:31.178Z"
   },
   {
    "duration": 63,
    "start_time": "2023-02-04T21:00:31.271Z"
   },
   {
    "duration": 23,
    "start_time": "2023-02-04T21:00:31.336Z"
   },
   {
    "duration": 74,
    "start_time": "2023-02-04T21:00:31.363Z"
   },
   {
    "duration": 57,
    "start_time": "2023-02-04T21:00:31.439Z"
   },
   {
    "duration": 182,
    "start_time": "2023-02-04T21:00:31.498Z"
   },
   {
    "duration": 413,
    "start_time": "2023-02-04T21:00:31.682Z"
   },
   {
    "duration": 18,
    "start_time": "2023-02-04T21:00:32.097Z"
   },
   {
    "duration": 39,
    "start_time": "2023-02-04T21:00:32.124Z"
   },
   {
    "duration": 1887,
    "start_time": "2023-02-04T21:00:32.165Z"
   },
   {
    "duration": 2656,
    "start_time": "2023-02-04T21:00:34.054Z"
   },
   {
    "duration": 297,
    "start_time": "2023-02-04T21:00:36.712Z"
   },
   {
    "duration": 20,
    "start_time": "2023-02-04T21:00:37.011Z"
   },
   {
    "duration": 17,
    "start_time": "2023-02-04T21:00:37.033Z"
   },
   {
    "duration": 10,
    "start_time": "2023-02-04T21:00:37.053Z"
   },
   {
    "duration": 1756,
    "start_time": "2023-02-04T21:00:37.066Z"
   },
   {
    "duration": 23,
    "start_time": "2023-02-04T21:00:38.824Z"
   },
   {
    "duration": 191,
    "start_time": "2023-02-04T21:00:38.849Z"
   },
   {
    "duration": 20,
    "start_time": "2023-02-04T21:00:45.257Z"
   },
   {
    "duration": 1621,
    "start_time": "2023-02-04T21:02:20.453Z"
   },
   {
    "duration": 870,
    "start_time": "2023-02-04T21:02:22.076Z"
   },
   {
    "duration": 23,
    "start_time": "2023-02-04T21:02:22.948Z"
   },
   {
    "duration": 25,
    "start_time": "2023-02-04T21:02:22.984Z"
   },
   {
    "duration": 27,
    "start_time": "2023-02-04T21:02:23.011Z"
   },
   {
    "duration": 326,
    "start_time": "2023-02-04T21:02:23.040Z"
   },
   {
    "duration": 360,
    "start_time": "2023-02-04T21:02:23.368Z"
   },
   {
    "duration": 169,
    "start_time": "2023-02-04T21:02:23.730Z"
   },
   {
    "duration": 12,
    "start_time": "2023-02-04T21:02:23.903Z"
   },
   {
    "duration": 27,
    "start_time": "2023-02-04T21:02:23.918Z"
   },
   {
    "duration": 18,
    "start_time": "2023-02-04T21:02:23.948Z"
   },
   {
    "duration": 6,
    "start_time": "2023-02-04T21:02:23.969Z"
   },
   {
    "duration": 18,
    "start_time": "2023-02-04T21:02:23.978Z"
   },
   {
    "duration": 44,
    "start_time": "2023-02-04T21:02:23.998Z"
   },
   {
    "duration": 33,
    "start_time": "2023-02-04T21:02:24.044Z"
   },
   {
    "duration": 30,
    "start_time": "2023-02-04T21:02:24.080Z"
   },
   {
    "duration": 289,
    "start_time": "2023-02-04T21:02:24.112Z"
   },
   {
    "duration": 8,
    "start_time": "2023-02-04T21:02:24.410Z"
   },
   {
    "duration": 205,
    "start_time": "2023-02-04T21:02:24.420Z"
   },
   {
    "duration": 2180,
    "start_time": "2023-02-04T21:02:24.627Z"
   },
   {
    "duration": 2771,
    "start_time": "2023-02-04T21:02:26.813Z"
   },
   {
    "duration": 339,
    "start_time": "2023-02-04T21:02:29.588Z"
   },
   {
    "duration": 17,
    "start_time": "2023-02-04T21:02:29.929Z"
   },
   {
    "duration": 26,
    "start_time": "2023-02-04T21:02:29.948Z"
   },
   {
    "duration": 60,
    "start_time": "2023-02-04T21:02:29.976Z"
   },
   {
    "duration": 2189,
    "start_time": "2023-02-04T21:02:30.038Z"
   },
   {
    "duration": 27,
    "start_time": "2023-02-04T21:02:32.230Z"
   },
   {
    "duration": 51,
    "start_time": "2023-02-04T21:02:32.268Z"
   },
   {
    "duration": 189,
    "start_time": "2023-02-04T21:02:40.455Z"
   },
   {
    "duration": 1795,
    "start_time": "2023-02-04T21:02:57.056Z"
   },
   {
    "duration": 965,
    "start_time": "2023-02-04T21:02:58.853Z"
   },
   {
    "duration": 31,
    "start_time": "2023-02-04T21:02:59.825Z"
   },
   {
    "duration": 45,
    "start_time": "2023-02-04T21:02:59.859Z"
   },
   {
    "duration": 45,
    "start_time": "2023-02-04T21:02:59.914Z"
   },
   {
    "duration": 429,
    "start_time": "2023-02-04T21:02:59.963Z"
   },
   {
    "duration": 417,
    "start_time": "2023-02-04T21:03:00.394Z"
   },
   {
    "duration": 198,
    "start_time": "2023-02-04T21:03:00.814Z"
   },
   {
    "duration": 6,
    "start_time": "2023-02-04T21:03:01.014Z"
   },
   {
    "duration": 64,
    "start_time": "2023-02-04T21:03:01.024Z"
   },
   {
    "duration": 77,
    "start_time": "2023-02-04T21:03:01.092Z"
   },
   {
    "duration": 53,
    "start_time": "2023-02-04T21:03:01.172Z"
   },
   {
    "duration": 33,
    "start_time": "2023-02-04T21:03:01.227Z"
   },
   {
    "duration": 76,
    "start_time": "2023-02-04T21:03:01.262Z"
   },
   {
    "duration": 117,
    "start_time": "2023-02-04T21:03:01.340Z"
   },
   {
    "duration": 48,
    "start_time": "2023-02-04T21:03:01.459Z"
   },
   {
    "duration": 448,
    "start_time": "2023-02-04T21:03:01.515Z"
   },
   {
    "duration": 12,
    "start_time": "2023-02-04T21:03:01.965Z"
   },
   {
    "duration": 58,
    "start_time": "2023-02-04T21:03:01.990Z"
   },
   {
    "duration": 2186,
    "start_time": "2023-02-04T21:03:02.052Z"
   },
   {
    "duration": 2970,
    "start_time": "2023-02-04T21:03:04.244Z"
   },
   {
    "duration": 308,
    "start_time": "2023-02-04T21:03:07.220Z"
   },
   {
    "duration": 18,
    "start_time": "2023-02-04T21:03:07.532Z"
   },
   {
    "duration": 22,
    "start_time": "2023-02-04T21:03:07.552Z"
   },
   {
    "duration": 70,
    "start_time": "2023-02-04T21:03:07.577Z"
   },
   {
    "duration": 2172,
    "start_time": "2023-02-04T21:03:07.651Z"
   },
   {
    "duration": 32,
    "start_time": "2023-02-04T21:03:09.826Z"
   },
   {
    "duration": 104,
    "start_time": "2023-02-04T21:03:09.868Z"
   },
   {
    "duration": 6,
    "start_time": "2023-02-04T21:03:25.836Z"
   },
   {
    "duration": 33,
    "start_time": "2023-02-04T21:03:54.446Z"
   },
   {
    "duration": 39,
    "start_time": "2023-02-04T21:04:01.044Z"
   },
   {
    "duration": 6,
    "start_time": "2023-02-04T21:04:06.933Z"
   },
   {
    "duration": 4,
    "start_time": "2023-02-04T21:05:17.613Z"
   },
   {
    "duration": 3,
    "start_time": "2023-02-04T21:05:18.270Z"
   },
   {
    "duration": 3,
    "start_time": "2023-02-04T21:05:18.829Z"
   },
   {
    "duration": 16,
    "start_time": "2023-02-04T21:21:18.267Z"
   },
   {
    "duration": 9,
    "start_time": "2023-02-04T21:21:21.603Z"
   },
   {
    "duration": 6,
    "start_time": "2023-02-04T21:21:22.256Z"
   },
   {
    "duration": 4,
    "start_time": "2023-02-04T21:21:22.810Z"
   },
   {
    "duration": 206,
    "start_time": "2023-02-04T21:22:55.926Z"
   },
   {
    "duration": 4,
    "start_time": "2023-02-04T21:23:05.771Z"
   },
   {
    "duration": 22631,
    "start_time": "2023-02-04T21:23:16.323Z"
   },
   {
    "duration": 23970,
    "start_time": "2023-02-04T21:24:14.914Z"
   },
   {
    "duration": 14,
    "start_time": "2023-02-04T21:26:06.259Z"
   },
   {
    "duration": 1457,
    "start_time": "2023-02-04T21:27:01.222Z"
   },
   {
    "duration": 1624,
    "start_time": "2023-02-04T21:28:06.318Z"
   },
   {
    "duration": 1505,
    "start_time": "2023-02-04T21:28:30.360Z"
   },
   {
    "duration": 1902,
    "start_time": "2023-02-04T21:39:47.189Z"
   },
   {
    "duration": 1079,
    "start_time": "2023-02-04T21:39:49.098Z"
   },
   {
    "duration": 40,
    "start_time": "2023-02-04T21:39:50.180Z"
   },
   {
    "duration": 39,
    "start_time": "2023-02-04T21:39:50.229Z"
   },
   {
    "duration": 18,
    "start_time": "2023-02-04T21:39:50.271Z"
   },
   {
    "duration": 389,
    "start_time": "2023-02-04T21:39:50.291Z"
   },
   {
    "duration": 348,
    "start_time": "2023-02-04T21:39:50.684Z"
   },
   {
    "duration": 195,
    "start_time": "2023-02-04T21:39:51.035Z"
   },
   {
    "duration": 5,
    "start_time": "2023-02-04T21:39:51.233Z"
   },
   {
    "duration": 19,
    "start_time": "2023-02-04T21:39:51.240Z"
   },
   {
    "duration": 31,
    "start_time": "2023-02-04T21:39:51.263Z"
   },
   {
    "duration": 10,
    "start_time": "2023-02-04T21:39:51.296Z"
   },
   {
    "duration": 16,
    "start_time": "2023-02-04T21:39:51.308Z"
   },
   {
    "duration": 27,
    "start_time": "2023-02-04T21:39:51.327Z"
   },
   {
    "duration": 43,
    "start_time": "2023-02-04T21:39:51.357Z"
   },
   {
    "duration": 22,
    "start_time": "2023-02-04T21:39:51.402Z"
   },
   {
    "duration": 365,
    "start_time": "2023-02-04T21:39:51.426Z"
   },
   {
    "duration": 12,
    "start_time": "2023-02-04T21:39:51.802Z"
   },
   {
    "duration": 28,
    "start_time": "2023-02-04T21:39:51.818Z"
   },
   {
    "duration": 2420,
    "start_time": "2023-02-04T21:39:51.851Z"
   },
   {
    "duration": 2403,
    "start_time": "2023-02-04T21:39:54.273Z"
   },
   {
    "duration": 351,
    "start_time": "2023-02-04T21:39:56.681Z"
   },
   {
    "duration": 15,
    "start_time": "2023-02-04T21:39:57.034Z"
   },
   {
    "duration": 38,
    "start_time": "2023-02-04T21:39:57.052Z"
   },
   {
    "duration": 36,
    "start_time": "2023-02-04T21:39:57.094Z"
   },
   {
    "duration": 2232,
    "start_time": "2023-02-04T21:39:57.132Z"
   },
   {
    "duration": 41,
    "start_time": "2023-02-04T21:39:59.366Z"
   },
   {
    "duration": 38,
    "start_time": "2023-02-04T21:39:59.409Z"
   },
   {
    "duration": 7,
    "start_time": "2023-02-04T21:39:59.450Z"
   },
   {
    "duration": 33,
    "start_time": "2023-02-04T21:39:59.459Z"
   },
   {
    "duration": 32,
    "start_time": "2023-02-04T21:39:59.496Z"
   },
   {
    "duration": 7,
    "start_time": "2023-02-04T21:39:59.530Z"
   },
   {
    "duration": 10,
    "start_time": "2023-02-04T21:39:59.540Z"
   },
   {
    "duration": 23289,
    "start_time": "2023-02-04T21:39:59.552Z"
   },
   {
    "duration": 1454,
    "start_time": "2023-02-04T21:40:22.843Z"
   },
   {
    "duration": 442813,
    "start_time": "2023-02-04T21:40:24.299Z"
   },
   {
    "duration": 0,
    "start_time": "2023-02-04T21:47:47.115Z"
   },
   {
    "duration": 1854,
    "start_time": "2023-02-04T21:48:41.694Z"
   },
   {
    "duration": 1090,
    "start_time": "2023-02-04T21:48:43.552Z"
   },
   {
    "duration": 28,
    "start_time": "2023-02-04T21:48:44.645Z"
   },
   {
    "duration": 27,
    "start_time": "2023-02-04T21:48:44.685Z"
   },
   {
    "duration": 18,
    "start_time": "2023-02-04T21:48:44.716Z"
   },
   {
    "duration": 416,
    "start_time": "2023-02-04T21:48:44.736Z"
   },
   {
    "duration": 356,
    "start_time": "2023-02-04T21:48:45.154Z"
   },
   {
    "duration": 202,
    "start_time": "2023-02-04T21:48:45.512Z"
   },
   {
    "duration": 5,
    "start_time": "2023-02-04T21:48:45.716Z"
   },
   {
    "duration": 17,
    "start_time": "2023-02-04T21:48:45.723Z"
   },
   {
    "duration": 45,
    "start_time": "2023-02-04T21:48:45.742Z"
   },
   {
    "duration": 7,
    "start_time": "2023-02-04T21:48:45.790Z"
   },
   {
    "duration": 5,
    "start_time": "2023-02-04T21:48:45.799Z"
   },
   {
    "duration": 25,
    "start_time": "2023-02-04T21:48:45.808Z"
   },
   {
    "duration": 70,
    "start_time": "2023-02-04T21:48:45.836Z"
   },
   {
    "duration": 22,
    "start_time": "2023-02-04T21:48:45.909Z"
   },
   {
    "duration": 391,
    "start_time": "2023-02-04T21:48:45.934Z"
   },
   {
    "duration": 11,
    "start_time": "2023-02-04T21:48:46.328Z"
   },
   {
    "duration": 18,
    "start_time": "2023-02-04T21:48:46.341Z"
   },
   {
    "duration": 2418,
    "start_time": "2023-02-04T21:48:46.385Z"
   },
   {
    "duration": 3008,
    "start_time": "2023-02-04T21:48:48.806Z"
   },
   {
    "duration": 345,
    "start_time": "2023-02-04T21:48:51.816Z"
   },
   {
    "duration": 33,
    "start_time": "2023-02-04T21:48:52.163Z"
   },
   {
    "duration": 13,
    "start_time": "2023-02-04T21:48:52.198Z"
   },
   {
    "duration": 12,
    "start_time": "2023-02-04T21:48:52.213Z"
   },
   {
    "duration": 2216,
    "start_time": "2023-02-04T21:48:52.227Z"
   },
   {
    "duration": 42,
    "start_time": "2023-02-04T21:48:54.445Z"
   },
   {
    "duration": 27,
    "start_time": "2023-02-04T21:48:54.490Z"
   },
   {
    "duration": 6,
    "start_time": "2023-02-04T21:48:54.520Z"
   },
   {
    "duration": 35,
    "start_time": "2023-02-04T21:48:54.529Z"
   },
   {
    "duration": 7,
    "start_time": "2023-02-04T21:48:54.584Z"
   },
   {
    "duration": 7,
    "start_time": "2023-02-04T21:48:54.593Z"
   },
   {
    "duration": 14,
    "start_time": "2023-02-04T21:48:54.602Z"
   },
   {
    "duration": 25050,
    "start_time": "2023-02-04T21:48:54.618Z"
   },
   {
    "duration": 1414,
    "start_time": "2023-02-04T21:49:19.670Z"
   },
   {
    "duration": 434911,
    "start_time": "2023-02-04T21:49:21.086Z"
   },
   {
    "duration": 1422,
    "start_time": "2023-02-04T21:56:36.000Z"
   },
   {
    "duration": 183,
    "start_time": "2023-02-04T21:56:47.728Z"
   },
   {
    "duration": 18143,
    "start_time": "2023-02-04T21:57:10.918Z"
   },
   {
    "duration": 92809,
    "start_time": "2023-02-04T21:57:48.849Z"
   },
   {
    "duration": 54,
    "start_time": "2023-02-04T22:02:46.702Z"
   },
   {
    "duration": 18,
    "start_time": "2023-02-04T22:08:12.942Z"
   },
   {
    "duration": 280,
    "start_time": "2023-02-04T22:12:27.494Z"
   },
   {
    "duration": 317,
    "start_time": "2023-02-04T22:12:45.055Z"
   },
   {
    "duration": 318,
    "start_time": "2023-02-04T22:12:53.695Z"
   },
   {
    "duration": 12,
    "start_time": "2023-02-04T22:16:12.464Z"
   },
   {
    "duration": 5,
    "start_time": "2023-02-04T22:17:47.095Z"
   },
   {
    "duration": 17,
    "start_time": "2023-02-04T22:17:59.838Z"
   },
   {
    "duration": 10,
    "start_time": "2023-02-04T22:18:06.216Z"
   },
   {
    "duration": 41,
    "start_time": "2023-02-04T22:20:26.639Z"
   },
   {
    "duration": 1598,
    "start_time": "2023-02-04T22:21:29.383Z"
   },
   {
    "duration": 763,
    "start_time": "2023-02-04T22:21:30.983Z"
   },
   {
    "duration": 24,
    "start_time": "2023-02-04T22:21:31.747Z"
   },
   {
    "duration": 17,
    "start_time": "2023-02-04T22:21:31.783Z"
   },
   {
    "duration": 24,
    "start_time": "2023-02-04T22:21:31.802Z"
   },
   {
    "duration": 333,
    "start_time": "2023-02-04T22:21:31.828Z"
   },
   {
    "duration": 339,
    "start_time": "2023-02-04T22:21:32.163Z"
   },
   {
    "duration": 0,
    "start_time": "2023-02-04T22:21:32.505Z"
   },
   {
    "duration": 0,
    "start_time": "2023-02-04T22:21:32.506Z"
   },
   {
    "duration": 0,
    "start_time": "2023-02-04T22:21:32.507Z"
   },
   {
    "duration": 0,
    "start_time": "2023-02-04T22:21:32.509Z"
   },
   {
    "duration": 0,
    "start_time": "2023-02-04T22:21:32.510Z"
   },
   {
    "duration": 0,
    "start_time": "2023-02-04T22:21:32.511Z"
   },
   {
    "duration": 0,
    "start_time": "2023-02-04T22:21:32.513Z"
   },
   {
    "duration": 0,
    "start_time": "2023-02-04T22:21:32.514Z"
   },
   {
    "duration": 0,
    "start_time": "2023-02-04T22:21:32.515Z"
   },
   {
    "duration": 0,
    "start_time": "2023-02-04T22:21:32.516Z"
   },
   {
    "duration": 0,
    "start_time": "2023-02-04T22:21:32.517Z"
   },
   {
    "duration": 0,
    "start_time": "2023-02-04T22:21:32.519Z"
   },
   {
    "duration": 0,
    "start_time": "2023-02-04T22:21:32.521Z"
   },
   {
    "duration": 0,
    "start_time": "2023-02-04T22:21:32.523Z"
   },
   {
    "duration": 0,
    "start_time": "2023-02-04T22:21:32.525Z"
   },
   {
    "duration": 0,
    "start_time": "2023-02-04T22:21:32.527Z"
   },
   {
    "duration": 0,
    "start_time": "2023-02-04T22:21:32.528Z"
   },
   {
    "duration": 0,
    "start_time": "2023-02-04T22:21:32.530Z"
   },
   {
    "duration": 0,
    "start_time": "2023-02-04T22:21:32.531Z"
   },
   {
    "duration": 0,
    "start_time": "2023-02-04T22:21:32.532Z"
   },
   {
    "duration": 0,
    "start_time": "2023-02-04T22:21:32.585Z"
   },
   {
    "duration": 0,
    "start_time": "2023-02-04T22:21:32.587Z"
   },
   {
    "duration": 0,
    "start_time": "2023-02-04T22:21:32.588Z"
   },
   {
    "duration": 0,
    "start_time": "2023-02-04T22:21:32.590Z"
   },
   {
    "duration": 0,
    "start_time": "2023-02-04T22:21:32.591Z"
   },
   {
    "duration": 1,
    "start_time": "2023-02-04T22:21:32.592Z"
   },
   {
    "duration": 0,
    "start_time": "2023-02-04T22:21:32.594Z"
   },
   {
    "duration": 0,
    "start_time": "2023-02-04T22:21:32.595Z"
   },
   {
    "duration": 0,
    "start_time": "2023-02-04T22:21:32.597Z"
   },
   {
    "duration": 0,
    "start_time": "2023-02-04T22:21:32.598Z"
   },
   {
    "duration": 0,
    "start_time": "2023-02-04T22:21:32.599Z"
   },
   {
    "duration": 0,
    "start_time": "2023-02-04T22:21:32.601Z"
   },
   {
    "duration": 1440,
    "start_time": "2023-02-04T22:22:15.705Z"
   },
   {
    "duration": 737,
    "start_time": "2023-02-04T22:22:17.147Z"
   },
   {
    "duration": 21,
    "start_time": "2023-02-04T22:22:17.886Z"
   },
   {
    "duration": 24,
    "start_time": "2023-02-04T22:22:17.909Z"
   },
   {
    "duration": 48,
    "start_time": "2023-02-04T22:22:17.936Z"
   },
   {
    "duration": 280,
    "start_time": "2023-02-04T22:22:17.986Z"
   },
   {
    "duration": 253,
    "start_time": "2023-02-04T22:22:18.268Z"
   },
   {
    "duration": 140,
    "start_time": "2023-02-04T22:22:18.523Z"
   },
   {
    "duration": 4,
    "start_time": "2023-02-04T22:22:18.665Z"
   },
   {
    "duration": 11,
    "start_time": "2023-02-04T22:22:18.683Z"
   },
   {
    "duration": 14,
    "start_time": "2023-02-04T22:22:18.696Z"
   },
   {
    "duration": 6,
    "start_time": "2023-02-04T22:22:18.712Z"
   },
   {
    "duration": 9,
    "start_time": "2023-02-04T22:22:18.719Z"
   },
   {
    "duration": 62,
    "start_time": "2023-02-04T22:22:18.731Z"
   },
   {
    "duration": 23,
    "start_time": "2023-02-04T22:22:18.795Z"
   },
   {
    "duration": 16,
    "start_time": "2023-02-04T22:22:18.820Z"
   },
   {
    "duration": 287,
    "start_time": "2023-02-04T22:22:18.838Z"
   },
   {
    "duration": 9,
    "start_time": "2023-02-04T22:22:19.127Z"
   },
   {
    "duration": 10,
    "start_time": "2023-02-04T22:22:19.138Z"
   },
   {
    "duration": 1564,
    "start_time": "2023-02-04T22:22:19.150Z"
   },
   {
    "duration": 1998,
    "start_time": "2023-02-04T22:22:20.715Z"
   },
   {
    "duration": 252,
    "start_time": "2023-02-04T22:22:22.714Z"
   },
   {
    "duration": 23,
    "start_time": "2023-02-04T22:22:22.968Z"
   },
   {
    "duration": 13,
    "start_time": "2023-02-04T22:22:22.993Z"
   },
   {
    "duration": 13,
    "start_time": "2023-02-04T22:22:23.008Z"
   },
   {
    "duration": 1528,
    "start_time": "2023-02-04T22:22:23.023Z"
   },
   {
    "duration": 34,
    "start_time": "2023-02-04T22:22:24.553Z"
   },
   {
    "duration": 25,
    "start_time": "2023-02-04T22:22:24.590Z"
   },
   {
    "duration": 14,
    "start_time": "2023-02-04T22:22:24.618Z"
   },
   {
    "duration": 29,
    "start_time": "2023-02-04T22:22:24.634Z"
   },
   {
    "duration": 19,
    "start_time": "2023-02-04T22:22:24.665Z"
   },
   {
    "duration": 12,
    "start_time": "2023-02-04T22:22:24.686Z"
   },
   {
    "duration": 26,
    "start_time": "2023-02-04T22:22:24.701Z"
   },
   {
    "duration": 18681,
    "start_time": "2023-02-04T22:22:24.729Z"
   },
   {
    "duration": 1073,
    "start_time": "2023-02-04T22:22:43.412Z"
   },
   {
    "duration": 393947,
    "start_time": "2023-02-04T22:22:44.487Z"
   },
   {
    "duration": 26,
    "start_time": "2023-02-05T06:53:51.675Z"
   },
   {
    "duration": 27,
    "start_time": "2023-02-05T06:53:58.554Z"
   },
   {
    "duration": 61482,
    "start_time": "2023-02-05T06:59:15.534Z"
   },
   {
    "duration": 257,
    "start_time": "2023-02-05T07:00:17.018Z"
   },
   {
    "duration": 12,
    "start_time": "2023-02-05T07:00:17.277Z"
   },
   {
    "duration": 1653,
    "start_time": "2023-02-05T16:24:42.197Z"
   },
   {
    "duration": 3182,
    "start_time": "2023-02-05T16:24:43.852Z"
   },
   {
    "duration": 24,
    "start_time": "2023-02-05T16:24:47.036Z"
   },
   {
    "duration": 17,
    "start_time": "2023-02-05T16:24:47.062Z"
   },
   {
    "duration": 13,
    "start_time": "2023-02-05T16:24:47.082Z"
   },
   {
    "duration": 291,
    "start_time": "2023-02-05T16:24:47.097Z"
   },
   {
    "duration": 250,
    "start_time": "2023-02-05T16:24:47.390Z"
   },
   {
    "duration": 137,
    "start_time": "2023-02-05T16:24:47.643Z"
   },
   {
    "duration": 3,
    "start_time": "2023-02-05T16:24:47.783Z"
   },
   {
    "duration": 25,
    "start_time": "2023-02-05T16:24:47.788Z"
   },
   {
    "duration": 21,
    "start_time": "2023-02-05T16:24:47.814Z"
   },
   {
    "duration": 11,
    "start_time": "2023-02-05T16:24:47.837Z"
   },
   {
    "duration": 7,
    "start_time": "2023-02-05T16:24:47.850Z"
   },
   {
    "duration": 21,
    "start_time": "2023-02-05T16:24:47.860Z"
   },
   {
    "duration": 22,
    "start_time": "2023-02-05T16:24:47.882Z"
   },
   {
    "duration": 32,
    "start_time": "2023-02-05T16:24:47.906Z"
   },
   {
    "duration": 281,
    "start_time": "2023-02-05T16:24:47.940Z"
   },
   {
    "duration": 15,
    "start_time": "2023-02-05T16:24:48.223Z"
   },
   {
    "duration": 12,
    "start_time": "2023-02-05T16:24:48.240Z"
   },
   {
    "duration": 1364,
    "start_time": "2023-02-05T16:24:48.254Z"
   },
   {
    "duration": 2031,
    "start_time": "2023-02-05T16:24:49.620Z"
   },
   {
    "duration": 225,
    "start_time": "2023-02-05T16:24:51.653Z"
   },
   {
    "duration": 12,
    "start_time": "2023-02-05T16:24:51.880Z"
   },
   {
    "duration": 24,
    "start_time": "2023-02-05T16:24:51.893Z"
   },
   {
    "duration": 24,
    "start_time": "2023-02-05T16:24:51.919Z"
   },
   {
    "duration": 1623,
    "start_time": "2023-02-05T16:24:51.945Z"
   },
   {
    "duration": 22,
    "start_time": "2023-02-05T16:24:53.570Z"
   },
   {
    "duration": 26,
    "start_time": "2023-02-05T16:24:53.594Z"
   },
   {
    "duration": 16,
    "start_time": "2023-02-05T16:24:53.622Z"
   },
   {
    "duration": 13,
    "start_time": "2023-02-05T16:24:53.640Z"
   },
   {
    "duration": 23,
    "start_time": "2023-02-05T16:24:53.655Z"
   },
   {
    "duration": 17,
    "start_time": "2023-02-05T16:24:53.681Z"
   },
   {
    "duration": 12,
    "start_time": "2023-02-05T16:24:53.700Z"
   },
   {
    "duration": 73,
    "start_time": "2023-02-05T16:25:14.232Z"
   },
   {
    "duration": 78,
    "start_time": "2023-02-05T16:25:44.172Z"
   },
   {
    "duration": 80,
    "start_time": "2023-02-05T16:25:50.980Z"
   },
   {
    "duration": 82,
    "start_time": "2023-02-05T16:26:21.466Z"
   },
   {
    "duration": 71,
    "start_time": "2023-02-05T16:26:28.558Z"
   },
   {
    "duration": 201217,
    "start_time": "2023-02-05T16:26:55.278Z"
   },
   {
    "duration": 1573,
    "start_time": "2023-02-05T16:31:00.428Z"
   },
   {
    "duration": 787,
    "start_time": "2023-02-05T16:31:02.003Z"
   },
   {
    "duration": 18,
    "start_time": "2023-02-05T16:31:02.792Z"
   },
   {
    "duration": 33,
    "start_time": "2023-02-05T16:31:02.812Z"
   },
   {
    "duration": 16,
    "start_time": "2023-02-05T16:31:02.848Z"
   },
   {
    "duration": 287,
    "start_time": "2023-02-05T16:31:02.866Z"
   },
   {
    "duration": 250,
    "start_time": "2023-02-05T16:31:03.155Z"
   },
   {
    "duration": 141,
    "start_time": "2023-02-05T16:31:03.407Z"
   },
   {
    "duration": 4,
    "start_time": "2023-02-05T16:31:03.549Z"
   },
   {
    "duration": 13,
    "start_time": "2023-02-05T16:31:03.555Z"
   },
   {
    "duration": 18,
    "start_time": "2023-02-05T16:31:03.569Z"
   },
   {
    "duration": 8,
    "start_time": "2023-02-05T16:31:03.589Z"
   },
   {
    "duration": 21,
    "start_time": "2023-02-05T16:31:03.599Z"
   },
   {
    "duration": 32,
    "start_time": "2023-02-05T16:31:03.623Z"
   },
   {
    "duration": 30,
    "start_time": "2023-02-05T16:31:03.657Z"
   },
   {
    "duration": 15,
    "start_time": "2023-02-05T16:31:03.689Z"
   },
   {
    "duration": 262,
    "start_time": "2023-02-05T16:31:03.706Z"
   },
   {
    "duration": 8,
    "start_time": "2023-02-05T16:31:03.970Z"
   },
   {
    "duration": 19,
    "start_time": "2023-02-05T16:31:03.979Z"
   },
   {
    "duration": 1410,
    "start_time": "2023-02-05T16:31:04.000Z"
   },
   {
    "duration": 2004,
    "start_time": "2023-02-05T16:31:05.412Z"
   },
   {
    "duration": 227,
    "start_time": "2023-02-05T16:31:07.422Z"
   },
   {
    "duration": 12,
    "start_time": "2023-02-05T16:31:07.651Z"
   },
   {
    "duration": 10,
    "start_time": "2023-02-05T16:31:07.665Z"
   },
   {
    "duration": 17,
    "start_time": "2023-02-05T16:31:07.676Z"
   },
   {
    "duration": 1478,
    "start_time": "2023-02-05T16:31:07.695Z"
   },
   {
    "duration": 20,
    "start_time": "2023-02-05T16:31:09.175Z"
   },
   {
    "duration": 18,
    "start_time": "2023-02-05T16:31:09.197Z"
   },
   {
    "duration": 5,
    "start_time": "2023-02-05T16:31:09.238Z"
   },
   {
    "duration": 18,
    "start_time": "2023-02-05T16:31:09.245Z"
   },
   {
    "duration": 24,
    "start_time": "2023-02-05T16:31:09.265Z"
   },
   {
    "duration": 8,
    "start_time": "2023-02-05T16:31:09.291Z"
   },
   {
    "duration": 7,
    "start_time": "2023-02-05T16:31:09.301Z"
   },
   {
    "duration": 282683,
    "start_time": "2023-02-05T16:31:09.310Z"
   },
   {
    "duration": 1536,
    "start_time": "2023-02-05T16:44:27.506Z"
   },
   {
    "duration": 763,
    "start_time": "2023-02-05T16:44:29.044Z"
   },
   {
    "duration": 20,
    "start_time": "2023-02-05T16:44:29.809Z"
   },
   {
    "duration": 18,
    "start_time": "2023-02-05T16:44:29.838Z"
   },
   {
    "duration": 13,
    "start_time": "2023-02-05T16:44:29.858Z"
   },
   {
    "duration": 290,
    "start_time": "2023-02-05T16:44:29.873Z"
   },
   {
    "duration": 242,
    "start_time": "2023-02-05T16:44:30.165Z"
   },
   {
    "duration": 145,
    "start_time": "2023-02-05T16:44:30.409Z"
   },
   {
    "duration": 4,
    "start_time": "2023-02-05T16:44:30.555Z"
   },
   {
    "duration": 71,
    "start_time": "2023-02-05T16:44:30.561Z"
   },
   {
    "duration": 39,
    "start_time": "2023-02-05T16:44:30.633Z"
   },
   {
    "duration": 76,
    "start_time": "2023-02-05T16:44:30.673Z"
   },
   {
    "duration": 62,
    "start_time": "2023-02-05T16:44:30.751Z"
   },
   {
    "duration": 64,
    "start_time": "2023-02-05T16:44:30.817Z"
   },
   {
    "duration": 43,
    "start_time": "2023-02-05T16:44:30.883Z"
   },
   {
    "duration": 34,
    "start_time": "2023-02-05T16:44:30.928Z"
   },
   {
    "duration": 286,
    "start_time": "2023-02-05T16:44:30.964Z"
   },
   {
    "duration": 8,
    "start_time": "2023-02-05T16:44:31.252Z"
   },
   {
    "duration": 26,
    "start_time": "2023-02-05T16:44:31.261Z"
   },
   {
    "duration": 1484,
    "start_time": "2023-02-05T16:44:31.288Z"
   },
   {
    "duration": 2369,
    "start_time": "2023-02-05T16:44:32.774Z"
   },
   {
    "duration": 241,
    "start_time": "2023-02-05T16:44:35.144Z"
   },
   {
    "duration": 13,
    "start_time": "2023-02-05T16:44:35.387Z"
   },
   {
    "duration": 13,
    "start_time": "2023-02-05T16:44:35.402Z"
   },
   {
    "duration": 28,
    "start_time": "2023-02-05T16:44:35.417Z"
   },
   {
    "duration": 1436,
    "start_time": "2023-02-05T16:44:35.446Z"
   },
   {
    "duration": 21,
    "start_time": "2023-02-05T16:44:36.884Z"
   },
   {
    "duration": 36,
    "start_time": "2023-02-05T16:44:36.907Z"
   },
   {
    "duration": 5,
    "start_time": "2023-02-05T16:44:36.945Z"
   },
   {
    "duration": 22,
    "start_time": "2023-02-05T16:44:36.951Z"
   },
   {
    "duration": 15,
    "start_time": "2023-02-05T16:44:36.975Z"
   },
   {
    "duration": 11,
    "start_time": "2023-02-05T16:44:36.991Z"
   },
   {
    "duration": 20,
    "start_time": "2023-02-05T16:44:37.004Z"
   },
   {
    "duration": 289830,
    "start_time": "2023-02-05T16:44:37.026Z"
   },
   {
    "duration": 1048,
    "start_time": "2023-02-05T16:49:35.807Z"
   },
   {
    "duration": 18976,
    "start_time": "2023-02-05T16:52:26.116Z"
   },
   {
    "duration": 1547,
    "start_time": "2023-02-05T16:58:01.482Z"
   },
   {
    "duration": 773,
    "start_time": "2023-02-05T16:58:03.031Z"
   },
   {
    "duration": 19,
    "start_time": "2023-02-05T16:58:03.806Z"
   },
   {
    "duration": 30,
    "start_time": "2023-02-05T16:58:03.827Z"
   },
   {
    "duration": 13,
    "start_time": "2023-02-05T16:58:03.860Z"
   },
   {
    "duration": 303,
    "start_time": "2023-02-05T16:58:03.875Z"
   },
   {
    "duration": 282,
    "start_time": "2023-02-05T16:58:04.179Z"
   },
   {
    "duration": 133,
    "start_time": "2023-02-05T16:58:04.463Z"
   },
   {
    "duration": 4,
    "start_time": "2023-02-05T16:58:04.598Z"
   },
   {
    "duration": 13,
    "start_time": "2023-02-05T16:58:04.604Z"
   },
   {
    "duration": 29,
    "start_time": "2023-02-05T16:58:04.618Z"
   },
   {
    "duration": 9,
    "start_time": "2023-02-05T16:58:04.650Z"
   },
   {
    "duration": 6,
    "start_time": "2023-02-05T16:58:04.661Z"
   },
   {
    "duration": 19,
    "start_time": "2023-02-05T16:58:04.670Z"
   },
   {
    "duration": 60,
    "start_time": "2023-02-05T16:58:04.691Z"
   },
   {
    "duration": 16,
    "start_time": "2023-02-05T16:58:04.754Z"
   },
   {
    "duration": 255,
    "start_time": "2023-02-05T16:58:04.772Z"
   },
   {
    "duration": 22,
    "start_time": "2023-02-05T16:58:05.029Z"
   },
   {
    "duration": 40,
    "start_time": "2023-02-05T16:58:05.054Z"
   },
   {
    "duration": 1508,
    "start_time": "2023-02-05T16:58:05.097Z"
   },
   {
    "duration": 2106,
    "start_time": "2023-02-05T16:58:06.607Z"
   },
   {
    "duration": 240,
    "start_time": "2023-02-05T16:58:08.715Z"
   },
   {
    "duration": 13,
    "start_time": "2023-02-05T16:58:08.957Z"
   },
   {
    "duration": 12,
    "start_time": "2023-02-05T16:58:08.972Z"
   },
   {
    "duration": 8,
    "start_time": "2023-02-05T16:58:08.986Z"
   },
   {
    "duration": 1472,
    "start_time": "2023-02-05T16:58:08.995Z"
   },
   {
    "duration": 19,
    "start_time": "2023-02-05T16:58:10.469Z"
   },
   {
    "duration": 20,
    "start_time": "2023-02-05T16:58:10.489Z"
   },
   {
    "duration": 4,
    "start_time": "2023-02-05T16:58:10.511Z"
   },
   {
    "duration": 35,
    "start_time": "2023-02-05T16:58:10.517Z"
   },
   {
    "duration": 18,
    "start_time": "2023-02-05T16:58:10.554Z"
   },
   {
    "duration": 11,
    "start_time": "2023-02-05T16:58:10.574Z"
   },
   {
    "duration": 13,
    "start_time": "2023-02-05T16:58:10.587Z"
   },
   {
    "duration": 290227,
    "start_time": "2023-02-05T16:58:10.601Z"
   },
   {
    "duration": 1012,
    "start_time": "2023-02-05T17:03:00.830Z"
   },
   {
    "duration": 1439,
    "start_time": "2023-02-05T17:37:39.980Z"
   },
   {
    "duration": 733,
    "start_time": "2023-02-05T17:37:41.421Z"
   },
   {
    "duration": 20,
    "start_time": "2023-02-05T17:37:42.155Z"
   },
   {
    "duration": 16,
    "start_time": "2023-02-05T17:37:42.177Z"
   },
   {
    "duration": 13,
    "start_time": "2023-02-05T17:37:42.195Z"
   },
   {
    "duration": 338,
    "start_time": "2023-02-05T17:37:42.210Z"
   },
   {
    "duration": 263,
    "start_time": "2023-02-05T17:37:42.550Z"
   },
   {
    "duration": 150,
    "start_time": "2023-02-05T17:37:42.815Z"
   },
   {
    "duration": 3,
    "start_time": "2023-02-05T17:37:42.967Z"
   },
   {
    "duration": 33,
    "start_time": "2023-02-05T17:37:42.973Z"
   },
   {
    "duration": 23,
    "start_time": "2023-02-05T17:37:43.008Z"
   },
   {
    "duration": 6,
    "start_time": "2023-02-05T17:37:43.033Z"
   },
   {
    "duration": 11,
    "start_time": "2023-02-05T17:37:43.047Z"
   },
   {
    "duration": 27,
    "start_time": "2023-02-05T17:37:43.060Z"
   },
   {
    "duration": 30,
    "start_time": "2023-02-05T17:37:43.089Z"
   },
   {
    "duration": 15,
    "start_time": "2023-02-05T17:37:43.120Z"
   },
   {
    "duration": 263,
    "start_time": "2023-02-05T17:37:43.137Z"
   },
   {
    "duration": 9,
    "start_time": "2023-02-05T17:37:43.402Z"
   },
   {
    "duration": 18,
    "start_time": "2023-02-05T17:37:43.413Z"
   },
   {
    "duration": 1432,
    "start_time": "2023-02-05T17:37:43.442Z"
   },
   {
    "duration": 2132,
    "start_time": "2023-02-05T17:37:44.876Z"
   },
   {
    "duration": 237,
    "start_time": "2023-02-05T17:37:47.010Z"
   },
   {
    "duration": 13,
    "start_time": "2023-02-05T17:37:47.249Z"
   },
   {
    "duration": 11,
    "start_time": "2023-02-05T17:37:47.265Z"
   },
   {
    "duration": 21,
    "start_time": "2023-02-05T17:37:47.278Z"
   },
   {
    "duration": 1563,
    "start_time": "2023-02-05T17:37:47.301Z"
   },
   {
    "duration": 20,
    "start_time": "2023-02-05T17:37:48.866Z"
   },
   {
    "duration": 65,
    "start_time": "2023-02-05T17:37:48.890Z"
   },
   {
    "duration": 25,
    "start_time": "2023-02-05T17:37:48.957Z"
   },
   {
    "duration": 30,
    "start_time": "2023-02-05T17:37:48.984Z"
   },
   {
    "duration": 46,
    "start_time": "2023-02-05T17:37:49.016Z"
   },
   {
    "duration": 15,
    "start_time": "2023-02-05T17:37:49.063Z"
   },
   {
    "duration": 21,
    "start_time": "2023-02-05T17:37:49.080Z"
   },
   {
    "duration": 294262,
    "start_time": "2023-02-05T17:37:49.103Z"
   },
   {
    "duration": 215,
    "start_time": "2023-02-05T17:53:41.661Z"
   },
   {
    "duration": 18885,
    "start_time": "2023-02-05T17:56:20.506Z"
   },
   {
    "duration": 114,
    "start_time": "2023-02-05T17:56:48.566Z"
   },
   {
    "duration": 276,
    "start_time": "2023-02-05T17:57:10.468Z"
   },
   {
    "duration": 18120,
    "start_time": "2023-02-05T18:03:04.990Z"
   },
   {
    "duration": 4,
    "start_time": "2023-02-05T18:04:58.303Z"
   },
   {
    "duration": 1542,
    "start_time": "2023-02-05T18:10:18.724Z"
   },
   {
    "duration": 764,
    "start_time": "2023-02-05T18:10:20.269Z"
   },
   {
    "duration": 25,
    "start_time": "2023-02-05T18:10:21.035Z"
   },
   {
    "duration": 32,
    "start_time": "2023-02-05T18:10:21.062Z"
   },
   {
    "duration": 13,
    "start_time": "2023-02-05T18:10:21.097Z"
   },
   {
    "duration": 292,
    "start_time": "2023-02-05T18:10:21.112Z"
   },
   {
    "duration": 258,
    "start_time": "2023-02-05T18:10:21.406Z"
   },
   {
    "duration": 133,
    "start_time": "2023-02-05T18:10:21.666Z"
   },
   {
    "duration": 4,
    "start_time": "2023-02-05T18:10:21.800Z"
   },
   {
    "duration": 19,
    "start_time": "2023-02-05T18:10:21.805Z"
   },
   {
    "duration": 25,
    "start_time": "2023-02-05T18:10:21.825Z"
   },
   {
    "duration": 17,
    "start_time": "2023-02-05T18:10:21.851Z"
   },
   {
    "duration": 4,
    "start_time": "2023-02-05T18:10:21.870Z"
   },
   {
    "duration": 17,
    "start_time": "2023-02-05T18:10:21.877Z"
   },
   {
    "duration": 22,
    "start_time": "2023-02-05T18:10:21.896Z"
   },
   {
    "duration": 38,
    "start_time": "2023-02-05T18:10:21.919Z"
   },
   {
    "duration": 272,
    "start_time": "2023-02-05T18:10:21.959Z"
   },
   {
    "duration": 17,
    "start_time": "2023-02-05T18:10:22.237Z"
   },
   {
    "duration": 9,
    "start_time": "2023-02-05T18:10:22.256Z"
   },
   {
    "duration": 1553,
    "start_time": "2023-02-05T18:10:22.267Z"
   },
   {
    "duration": 2124,
    "start_time": "2023-02-05T18:10:23.822Z"
   },
   {
    "duration": 238,
    "start_time": "2023-02-05T18:10:25.951Z"
   },
   {
    "duration": 13,
    "start_time": "2023-02-05T18:10:26.191Z"
   },
   {
    "duration": 23,
    "start_time": "2023-02-05T18:10:26.206Z"
   },
   {
    "duration": 34,
    "start_time": "2023-02-05T18:10:26.231Z"
   },
   {
    "duration": 1542,
    "start_time": "2023-02-05T18:10:26.267Z"
   },
   {
    "duration": 30,
    "start_time": "2023-02-05T18:10:27.811Z"
   },
   {
    "duration": 21,
    "start_time": "2023-02-05T18:10:27.846Z"
   },
   {
    "duration": 4,
    "start_time": "2023-02-05T18:10:27.869Z"
   },
   {
    "duration": 14,
    "start_time": "2023-02-05T18:10:27.875Z"
   },
   {
    "duration": 9,
    "start_time": "2023-02-05T18:10:27.890Z"
   },
   {
    "duration": 5,
    "start_time": "2023-02-05T18:10:27.901Z"
   },
   {
    "duration": 7,
    "start_time": "2023-02-05T18:10:27.908Z"
   },
   {
    "duration": 18621,
    "start_time": "2023-02-05T18:10:27.916Z"
   },
   {
    "duration": 11,
    "start_time": "2023-02-05T18:10:46.547Z"
   },
   {
    "duration": 1634,
    "start_time": "2023-02-05T18:44:02.128Z"
   },
   {
    "duration": 815,
    "start_time": "2023-02-05T18:44:03.764Z"
   },
   {
    "duration": 21,
    "start_time": "2023-02-05T18:44:04.581Z"
   },
   {
    "duration": 44,
    "start_time": "2023-02-05T18:44:04.604Z"
   },
   {
    "duration": 16,
    "start_time": "2023-02-05T18:44:04.655Z"
   },
   {
    "duration": 307,
    "start_time": "2023-02-05T18:44:04.673Z"
   },
   {
    "duration": 273,
    "start_time": "2023-02-05T18:44:04.982Z"
   },
   {
    "duration": 143,
    "start_time": "2023-02-05T18:44:05.259Z"
   },
   {
    "duration": 4,
    "start_time": "2023-02-05T18:44:05.404Z"
   },
   {
    "duration": 37,
    "start_time": "2023-02-05T18:44:05.413Z"
   },
   {
    "duration": 20,
    "start_time": "2023-02-05T18:44:05.454Z"
   },
   {
    "duration": 7,
    "start_time": "2023-02-05T18:44:05.475Z"
   },
   {
    "duration": 23,
    "start_time": "2023-02-05T18:44:05.484Z"
   },
   {
    "duration": 24,
    "start_time": "2023-02-05T18:44:05.509Z"
   },
   {
    "duration": 32,
    "start_time": "2023-02-05T18:44:05.535Z"
   },
   {
    "duration": 19,
    "start_time": "2023-02-05T18:44:05.569Z"
   },
   {
    "duration": 268,
    "start_time": "2023-02-05T18:44:05.591Z"
   },
   {
    "duration": 12,
    "start_time": "2023-02-05T18:44:05.861Z"
   },
   {
    "duration": 21,
    "start_time": "2023-02-05T18:44:05.876Z"
   },
   {
    "duration": 1676,
    "start_time": "2023-02-05T18:44:05.900Z"
   },
   {
    "duration": 2246,
    "start_time": "2023-02-05T18:44:07.579Z"
   },
   {
    "duration": 254,
    "start_time": "2023-02-05T18:44:09.827Z"
   },
   {
    "duration": 13,
    "start_time": "2023-02-05T18:44:10.083Z"
   },
   {
    "duration": 17,
    "start_time": "2023-02-05T18:44:10.098Z"
   },
   {
    "duration": 24,
    "start_time": "2023-02-05T18:44:10.117Z"
   },
   {
    "duration": 1538,
    "start_time": "2023-02-05T18:44:10.143Z"
   },
   {
    "duration": 20,
    "start_time": "2023-02-05T18:44:11.683Z"
   },
   {
    "duration": 48,
    "start_time": "2023-02-05T18:44:11.706Z"
   },
   {
    "duration": 6,
    "start_time": "2023-02-05T18:44:11.756Z"
   },
   {
    "duration": 24,
    "start_time": "2023-02-05T18:44:11.763Z"
   },
   {
    "duration": 20,
    "start_time": "2023-02-05T18:44:11.789Z"
   },
   {
    "duration": 30,
    "start_time": "2023-02-05T18:44:11.811Z"
   },
   {
    "duration": 54,
    "start_time": "2023-02-05T18:44:11.843Z"
   },
   {
    "duration": 19537,
    "start_time": "2023-02-05T18:44:11.899Z"
   },
   {
    "duration": 12,
    "start_time": "2023-02-05T18:44:31.438Z"
   },
   {
    "duration": 1761222,
    "start_time": "2023-02-05T18:44:31.454Z"
   },
   {
    "duration": 0,
    "start_time": "2023-02-05T19:13:52.678Z"
   },
   {
    "duration": 1378,
    "start_time": "2023-02-05T19:20:40.262Z"
   },
   {
    "duration": 713,
    "start_time": "2023-02-05T19:20:41.642Z"
   },
   {
    "duration": 18,
    "start_time": "2023-02-05T19:20:42.357Z"
   },
   {
    "duration": 32,
    "start_time": "2023-02-05T19:20:42.377Z"
   },
   {
    "duration": 30,
    "start_time": "2023-02-05T19:20:42.412Z"
   },
   {
    "duration": 316,
    "start_time": "2023-02-05T19:20:42.444Z"
   },
   {
    "duration": 233,
    "start_time": "2023-02-05T19:20:42.762Z"
   },
   {
    "duration": 136,
    "start_time": "2023-02-05T19:20:42.996Z"
   },
   {
    "duration": 7,
    "start_time": "2023-02-05T19:20:43.133Z"
   },
   {
    "duration": 19,
    "start_time": "2023-02-05T19:20:43.141Z"
   },
   {
    "duration": 17,
    "start_time": "2023-02-05T19:20:43.162Z"
   },
   {
    "duration": 5,
    "start_time": "2023-02-05T19:20:43.181Z"
   },
   {
    "duration": 21,
    "start_time": "2023-02-05T19:20:43.188Z"
   },
   {
    "duration": 29,
    "start_time": "2023-02-05T19:20:43.212Z"
   },
   {
    "duration": 36,
    "start_time": "2023-02-05T19:20:43.243Z"
   },
   {
    "duration": 15,
    "start_time": "2023-02-05T19:20:43.280Z"
   },
   {
    "duration": 295,
    "start_time": "2023-02-05T19:20:43.296Z"
   },
   {
    "duration": 7,
    "start_time": "2023-02-05T19:20:43.593Z"
   },
   {
    "duration": 17,
    "start_time": "2023-02-05T19:20:43.602Z"
   },
   {
    "duration": 1743,
    "start_time": "2023-02-05T19:20:43.621Z"
   },
   {
    "duration": 180,
    "start_time": "2023-02-05T19:22:22.310Z"
   },
   {
    "duration": 1467,
    "start_time": "2023-02-05T19:26:39.603Z"
   },
   {
    "duration": 738,
    "start_time": "2023-02-05T19:26:41.072Z"
   },
   {
    "duration": 20,
    "start_time": "2023-02-05T19:26:41.812Z"
   },
   {
    "duration": 29,
    "start_time": "2023-02-05T19:26:41.834Z"
   },
   {
    "duration": 12,
    "start_time": "2023-02-05T19:26:41.865Z"
   },
   {
    "duration": 293,
    "start_time": "2023-02-05T19:26:41.879Z"
   },
   {
    "duration": 259,
    "start_time": "2023-02-05T19:26:42.174Z"
   },
   {
    "duration": 172,
    "start_time": "2023-02-05T19:26:42.439Z"
   },
   {
    "duration": 4,
    "start_time": "2023-02-05T19:26:42.613Z"
   },
   {
    "duration": 52,
    "start_time": "2023-02-05T19:26:42.619Z"
   },
   {
    "duration": 18,
    "start_time": "2023-02-05T19:26:42.673Z"
   },
   {
    "duration": 10,
    "start_time": "2023-02-05T19:26:42.693Z"
   },
   {
    "duration": 7,
    "start_time": "2023-02-05T19:26:42.704Z"
   },
   {
    "duration": 16,
    "start_time": "2023-02-05T19:26:42.713Z"
   },
   {
    "duration": 23,
    "start_time": "2023-02-05T19:26:42.731Z"
   },
   {
    "duration": 15,
    "start_time": "2023-02-05T19:26:42.757Z"
   },
   {
    "duration": 250,
    "start_time": "2023-02-05T19:26:42.773Z"
   },
   {
    "duration": 15,
    "start_time": "2023-02-05T19:26:43.024Z"
   },
   {
    "duration": 17,
    "start_time": "2023-02-05T19:26:43.041Z"
   },
   {
    "duration": 1781,
    "start_time": "2023-02-05T19:26:43.060Z"
   },
   {
    "duration": 2538,
    "start_time": "2023-02-05T19:26:44.843Z"
   },
   {
    "duration": 277,
    "start_time": "2023-02-05T19:26:47.383Z"
   },
   {
    "duration": 13,
    "start_time": "2023-02-05T19:26:47.663Z"
   },
   {
    "duration": 17,
    "start_time": "2023-02-05T19:26:47.678Z"
   },
   {
    "duration": 12,
    "start_time": "2023-02-05T19:26:47.697Z"
   },
   {
    "duration": 1682,
    "start_time": "2023-02-05T19:26:47.711Z"
   },
   {
    "duration": 19,
    "start_time": "2023-02-05T19:26:49.396Z"
   },
   {
    "duration": 33,
    "start_time": "2023-02-05T19:26:49.417Z"
   },
   {
    "duration": 20,
    "start_time": "2023-02-05T19:26:49.452Z"
   },
   {
    "duration": 17,
    "start_time": "2023-02-05T19:26:49.474Z"
   },
   {
    "duration": 17,
    "start_time": "2023-02-05T19:26:49.493Z"
   },
   {
    "duration": 9,
    "start_time": "2023-02-05T19:26:49.512Z"
   },
   {
    "duration": 14,
    "start_time": "2023-02-05T19:26:49.524Z"
   },
   {
    "duration": 19469,
    "start_time": "2023-02-05T19:26:49.541Z"
   },
   {
    "duration": 3,
    "start_time": "2023-02-05T19:27:09.012Z"
   },
   {
    "duration": 73,
    "start_time": "2023-02-05T19:27:09.016Z"
   },
   {
    "duration": 0,
    "start_time": "2023-02-05T19:27:09.090Z"
   },
   {
    "duration": 0,
    "start_time": "2023-02-05T19:27:09.092Z"
   },
   {
    "duration": 0,
    "start_time": "2023-02-05T19:27:09.093Z"
   },
   {
    "duration": 2081980,
    "start_time": "2023-02-05T19:27:54.188Z"
   },
   {
    "duration": 3,
    "start_time": "2023-02-05T20:03:30.514Z"
   },
   {
    "duration": 13,
    "start_time": "2023-02-05T20:05:46.694Z"
   },
   {
    "duration": 9,
    "start_time": "2023-02-05T20:06:04.992Z"
   }
  ],
  "kernelspec": {
   "display_name": "Python 3 (ipykernel)",
   "language": "python",
   "name": "python3"
  },
  "language_info": {
   "codemirror_mode": {
    "name": "ipython",
    "version": 3
   },
   "file_extension": ".py",
   "mimetype": "text/x-python",
   "name": "python",
   "nbconvert_exporter": "python",
   "pygments_lexer": "ipython3",
   "version": "3.9.5"
  },
  "toc": {
   "base_numbering": 1,
   "nav_menu": {},
   "number_sections": true,
   "sideBar": true,
   "skip_h1_title": true,
   "title_cell": "Содержание",
   "title_sidebar": "Contents",
   "toc_cell": true,
   "toc_position": {
    "height": "calc(100% - 180px)",
    "left": "10px",
    "top": "150px",
    "width": "165px"
   },
   "toc_section_display": true,
   "toc_window_display": true
  }
 },
 "nbformat": 4,
 "nbformat_minor": 2
}
