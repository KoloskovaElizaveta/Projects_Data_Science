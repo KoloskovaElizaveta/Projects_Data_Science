{
 "cells": [
  {
   "cell_type": "markdown",
   "metadata": {},
   "source": [
    "# Рекомендация тарифов"
   ]
  },
  {
   "cell_type": "markdown",
   "metadata": {},
   "source": [
    "**Описание проекта**\n",
    "\n",
    "Оператор мобильной связи «Мегалайн» выяснил: многие клиенты пользуются архивными тарифами. Они хотят построить систему, способную проанализировать поведение клиентов и предложить пользователям новый тариф: «Смарт» или «Ультра».\n",
    "\n",
    "В нашем распоряжении данные о поведении клиентов, которые уже перешли на эти тарифы.\n",
    "\n",
    "**Цель исследования**\n",
    "\n",
    "Нужно построить модель для задачи классификации с максимально большим значением *accuracy*, которая выберет подходящий тариф.  Доля правильных ответов должна быть не менее 0.75.\n",
    "\n",
    "**Ход исследования**\n",
    "\n",
    "- Исследовательский анализ\n",
    "- Формирование выборок\n",
    "- Исследование моделей:\n",
    "    - DecisionTree\n",
    "    - RandomForest\n",
    "    - LogisticRegression\n",
    "- Проверка лучшей модели на тестовой выборке\n",
    "- Проверка лучшей модели на адекватность"
   ]
  },
  {
   "cell_type": "markdown",
   "metadata": {},
   "source": [
    "## Исследовательский анализ"
   ]
  },
  {
   "cell_type": "code",
   "execution_count": 1,
   "metadata": {},
   "outputs": [],
   "source": [
    "import pandas as pd\n",
    "import numpy as np\n",
    "import matplotlib\n",
    "import matplotlib.pyplot as plt\n",
    "import seaborn as sns\n",
    "\n",
    "from sklearn.model_selection import train_test_split\n",
    "from sklearn.metrics import accuracy_score\n",
    "\n",
    "from sklearn.tree import DecisionTreeClassifier\n",
    "from sklearn.ensemble import RandomForestClassifier\n",
    "from sklearn.linear_model import LogisticRegression\n",
    "from sklearn.dummy import DummyClassifier\n",
    "\n",
    "from sklearn.model_selection import GridSearchCV"
   ]
  },
  {
   "cell_type": "markdown",
   "metadata": {},
   "source": [
    "Импортируем данные в переменную \"data\" и посмотрим общий вид таблицы. "
   ]
  },
  {
   "cell_type": "code",
   "execution_count": 2,
   "metadata": {},
   "outputs": [
    {
     "data": {
      "text/html": [
       "<div>\n",
       "<style scoped>\n",
       "    .dataframe tbody tr th:only-of-type {\n",
       "        vertical-align: middle;\n",
       "    }\n",
       "\n",
       "    .dataframe tbody tr th {\n",
       "        vertical-align: top;\n",
       "    }\n",
       "\n",
       "    .dataframe thead th {\n",
       "        text-align: right;\n",
       "    }\n",
       "</style>\n",
       "<table border=\"1\" class=\"dataframe\">\n",
       "  <thead>\n",
       "    <tr style=\"text-align: right;\">\n",
       "      <th></th>\n",
       "      <th>calls</th>\n",
       "      <th>minutes</th>\n",
       "      <th>messages</th>\n",
       "      <th>mb_used</th>\n",
       "      <th>is_ultra</th>\n",
       "    </tr>\n",
       "  </thead>\n",
       "  <tbody>\n",
       "    <tr>\n",
       "      <th>0</th>\n",
       "      <td>40.0</td>\n",
       "      <td>311.90</td>\n",
       "      <td>83.0</td>\n",
       "      <td>19915.42</td>\n",
       "      <td>0</td>\n",
       "    </tr>\n",
       "    <tr>\n",
       "      <th>1</th>\n",
       "      <td>85.0</td>\n",
       "      <td>516.75</td>\n",
       "      <td>56.0</td>\n",
       "      <td>22696.96</td>\n",
       "      <td>0</td>\n",
       "    </tr>\n",
       "    <tr>\n",
       "      <th>2</th>\n",
       "      <td>77.0</td>\n",
       "      <td>467.66</td>\n",
       "      <td>86.0</td>\n",
       "      <td>21060.45</td>\n",
       "      <td>0</td>\n",
       "    </tr>\n",
       "    <tr>\n",
       "      <th>3</th>\n",
       "      <td>106.0</td>\n",
       "      <td>745.53</td>\n",
       "      <td>81.0</td>\n",
       "      <td>8437.39</td>\n",
       "      <td>1</td>\n",
       "    </tr>\n",
       "    <tr>\n",
       "      <th>4</th>\n",
       "      <td>66.0</td>\n",
       "      <td>418.74</td>\n",
       "      <td>1.0</td>\n",
       "      <td>14502.75</td>\n",
       "      <td>0</td>\n",
       "    </tr>\n",
       "  </tbody>\n",
       "</table>\n",
       "</div>"
      ],
      "text/plain": [
       "   calls  minutes  messages   mb_used  is_ultra\n",
       "0   40.0   311.90      83.0  19915.42         0\n",
       "1   85.0   516.75      56.0  22696.96         0\n",
       "2   77.0   467.66      86.0  21060.45         0\n",
       "3  106.0   745.53      81.0   8437.39         1\n",
       "4   66.0   418.74       1.0  14502.75         0"
      ]
     },
     "execution_count": 2,
     "metadata": {},
     "output_type": "execute_result"
    }
   ],
   "source": [
    "data = pd.read_csv('/datasets/users_behavior.csv')\n",
    "data.head()"
   ]
  },
  {
   "cell_type": "markdown",
   "metadata": {},
   "source": [
    "Сравним показатели для пользователей тарифов \"Смарт\" и \"Ультра\"."
   ]
  },
  {
   "cell_type": "code",
   "execution_count": 3,
   "metadata": {},
   "outputs": [
    {
     "data": {
      "image/png": "[encoded data removed]",
      "text/plain": [
       "<Figure size 432x288 with 1 Axes>"
      ]
     },
     "metadata": {
      "needs_background": "light"
     },
     "output_type": "display_data"
    }
   ],
   "source": [
    "data['is_ultra'].value_counts().plot(kind='bar', x='is_ultra', color=['green', 'red']);"
   ]
  },
  {
   "cell_type": "code",
   "execution_count": 4,
   "metadata": {
    "scrolled": true
   },
   "outputs": [
    {
     "data": {
      "image/png": "[encoded data removed]",
      "text/plain": [
       "<Figure size 1296x360 with 2 Axes>"
      ]
     },
     "metadata": {
      "needs_background": "light"
     },
     "output_type": "display_data"
    },
    {
     "data": {
      "image/png": "[encoded data removed]",
      "text/plain": [
       "<Figure size 1296x360 with 2 Axes>"
      ]
     },
     "metadata": {
      "needs_background": "light"
     },
     "output_type": "display_data"
    }
   ],
   "source": [
    "christmas = {\"g\",\"r\"} #палитра цветов\n",
    "\n",
    "fig, axis = plt.subplots(1,2 , figsize=(18,5))                                      \n",
    "          \n",
    "sns.boxplot(x='is_ultra', y='calls',   data=data, ax=axis[0], palette = christmas, medianprops={\"color\": \"gold\"});\n",
    "sns.boxplot(x='is_ultra', y='minutes', data=data, ax=axis[1], palette = christmas, medianprops={\"color\": \"gold\"});\n",
    "\n",
    "fig, axis = plt.subplots(1,2 , figsize=(18,5))\n",
    "\n",
    "sns.boxplot(x='is_ultra', y='messages', data=data, ax=axis[0], palette = christmas, medianprops={\"color\": \"gold\"});\n",
    "sns.boxplot(x='is_ultra', y='mb_used', data=data, ax=axis[1], palette = christmas, medianprops={\"color\": \"gold\"});"
   ]
  },
  {
   "cell_type": "markdown",
   "metadata": {},
   "source": [
    "*ВЫВОД: данные представлены пользователями тарифов \"Смарт\" - 70%, \"Ультра\" - 30%. Пользователи тарифа \"Ультра\" имеют бОльший диапозон по всем показателям, а также медианное значение т.е. используют больше звонков, минут, сообщений и интернета.*"
   ]
  },
  {
   "cell_type": "markdown",
   "metadata": {},
   "source": [
    "Посмотрим корреляцию между опциями тарифа (признаками) и тарифом (целевой признак)."
   ]
  },
  {
   "cell_type": "code",
   "execution_count": 5,
   "metadata": {},
   "outputs": [
    {
     "data": {
      "image/png": "[encoded data removed]",
      "text/plain": [
       "<Figure size 720x576 with 2 Axes>"
      ]
     },
     "metadata": {
      "needs_background": "light"
     },
     "output_type": "display_data"
    }
   ],
   "source": [
    "plt.figure(figsize=(10, 8))\n",
    "sns.heatmap(data.corr(), annot=True);"
   ]
  },
  {
   "cell_type": "markdown",
   "metadata": {},
   "source": [
    "*ВЫВОД: никаких выраженных взаимосвязей не обнаружено*"
   ]
  },
  {
   "cell_type": "markdown",
   "metadata": {},
   "source": [
    "## Формирование выборок"
   ]
  },
  {
   "cell_type": "markdown",
   "metadata": {},
   "source": [
    "Выделим признаки и целевой признак. Разобъем данные на обучающую - 60%, валидационную - 20% и тестовую - 20% - выборки.\n",
    "\n",
    "Разбиение производиться в два этапа:\n",
    "\n",
    "- первый раз данные разбиваем на обучающую выборку - 70% и валидационную + тестовую - 30%\n",
    "- далее разбиваем валидационную + тестовую на валидационную - 15% и тестовую - 15% выборки."
   ]
  },
  {
   "cell_type": "code",
   "execution_count": 6,
   "metadata": {},
   "outputs": [],
   "source": [
    "features = data.drop('is_ultra', axis=1) #признаки\n",
    "target = data['is_ultra'] # целевой признак"
   ]
  },
  {
   "cell_type": "code",
   "execution_count": 7,
   "metadata": {},
   "outputs": [],
   "source": [
    "features_train, features_test_val, target_train, target_test_val = train_test_split(\n",
    "    features, target, train_size=0.7, random_state=12345)\n",
    "\n",
    "\n",
    "features_test, features_valid, target_test, target_valid = train_test_split(\n",
    "    features_test_val,target_test_val,train_size=0.5,random_state=12345)\n"
   ]
  },
  {
   "cell_type": "markdown",
   "metadata": {},
   "source": [
    "## Исследование моделей"
   ]
  },
  {
   "cell_type": "markdown",
   "metadata": {},
   "source": [
    "Исследуем следующие модели:\n",
    "\n",
    "- DecisionTree\n",
    "- RandomForest\n",
    "- LogisticRegression\n",
    "\n",
    "Для каждой модели выявим оптимальные параметры."
   ]
  },
  {
   "cell_type": "markdown",
   "metadata": {},
   "source": [
    "### DecisionTree"
   ]
  },
  {
   "cell_type": "markdown",
   "metadata": {},
   "source": [
    "Для данной модели подберем 3 параметра:\n",
    "\n",
    "- max_depth\n",
    "- min_samples_split\n",
    "- min_samples_leaf"
   ]
  },
  {
   "cell_type": "code",
   "execution_count": null,
   "metadata": {},
   "outputs": [],
   "source": [
    "for depth in range(1,6):\n",
    "    \n",
    "    model_dtc = DecisionTreeClassifier(random_state=12345, max_depth=depth)\n",
    "    model_dtc.fit(features_train, target_train)\n",
    "    \n",
    "    predictions_valid = model_dtc.predict(features_valid)\n",
    "    accuracy_valid = accuracy_score(target_valid, predictions_valid).round(2)\n",
    "    \n",
    "    print(\"max_depth =\", depth, \": \", end='')\n",
    "    print(accuracy_valid)  "
   ]
  },
  {
   "cell_type": "code",
   "execution_count": null,
   "metadata": {},
   "outputs": [],
   "source": [
    "for samples_split in range(2,20):\n",
    "    \n",
    "    model_s = DecisionTreeClassifier(random_state=12345, min_samples_split=samples_split)\n",
    "    model_s.fit(features_train, target_train)\n",
    "    \n",
    "    predictions_valid = model_s.predict(features_valid)\n",
    "    accuracy_valid = accuracy_score(target_valid, predictions_valid).round(2)\n",
    "    \n",
    "    print(\"min_samples_split =\", samples_split, \": \", end='')\n",
    "    print(accuracy_valid)"
   ]
  },
  {
   "cell_type": "code",
   "execution_count": null,
   "metadata": {},
   "outputs": [],
   "source": [
    "best_model = None\n",
    "best_result = 0\n",
    "\n",
    "for samples_leaf in range(1,15):\n",
    "    \n",
    "    model_l = DecisionTreeClassifier(random_state=12345, min_samples_leaf=samples_leaf)\n",
    "    model_l.fit(features_train, target_train)\n",
    "    \n",
    "    predictions_valid = model_l.predict(features_valid)\n",
    "    accuracy_valid = accuracy_score(target_valid, predictions_valid).round(2)\n",
    "\n",
    "    print(\" min_samples_leaf =\", samples_leaf, \": \", end='')\n",
    "    print(accuracy_valid)"
   ]
  },
  {
   "cell_type": "markdown",
   "metadata": {},
   "source": [
    "*ВЫВОД: лучшая модель decision tree имеет параметр max_depth = 3, accuracy = 0.79 на валидационной выбоке*\n",
    "\n"
   ]
  },
  {
   "cell_type": "markdown",
   "metadata": {},
   "source": [
    "### RandomForest"
   ]
  },
  {
   "cell_type": "code",
   "execution_count": null,
   "metadata": {},
   "outputs": [],
   "source": [
    "for est in range(1, 11):\n",
    "    \n",
    "    model_rfc = RandomForestClassifier(random_state=12345, n_estimators=est)\n",
    "    model_rfc.fit(features_train, target_train)\n",
    "    \n",
    "    predictions_valid = model_rfc.predict(features_valid)\n",
    "    accuracy_valid = accuracy_score(target_valid, predictions_valid).round(3)\n",
    "    \n",
    "    print(\"n_estimators =\", est, \": \", end='')\n",
    "    print(accuracy_valid) "
   ]
  },
  {
   "cell_type": "markdown",
   "metadata": {},
   "source": [
    "*ВЫВОД: лучшая модель random forest имеет параметр n_estimators = 10, accuracy = 0.77 на валидационной выбоке*\n",
    "\n"
   ]
  },
  {
   "cell_type": "markdown",
   "metadata": {},
   "source": [
    "### LogisticRegression"
   ]
  },
  {
   "cell_type": "code",
   "execution_count": null,
   "metadata": {},
   "outputs": [],
   "source": [
    "model_lr = LogisticRegression(random_state=12345, solver='lbfgs', max_iter=100) \n",
    "\n",
    "model_lr.fit(features_train, target_train)\n",
    "predictions = model_lr.predict(features_valid)\n",
    "\n",
    "accuracy_valid = accuracy_score(target_valid, predictions).round(3)\n",
    "accuracy_valid"
   ]
  },
  {
   "cell_type": "markdown",
   "metadata": {},
   "source": [
    "*ВЫВОД: модель logistic regression имеет accuracy = 0.70 на валидационной выбоке*\n",
    "\n"
   ]
  },
  {
   "cell_type": "markdown",
   "metadata": {},
   "source": [
    "**ВЫВОД**\n",
    "\n",
    "Лучшая из трех моделей - ***decision tree с параметром max_depth = 3***, которая имеет наибольшую ***accuracy = 0.79***. Ее и будем проверять на тестовой выборке."
   ]
  },
  {
   "cell_type": "markdown",
   "metadata": {},
   "source": [
    "## Проверка лучшей модели на тестовой выборке"
   ]
  },
  {
   "cell_type": "code",
   "execution_count": null,
   "metadata": {},
   "outputs": [],
   "source": [
    "model = DecisionTreeClassifier(random_state=12345, max_depth=3)\n",
    "\n",
    "model.fit(features_train, target_train)\n",
    "predictions_test = model.predict(features_test)\n",
    "\n",
    "accuracy_test = accuracy_score(target_test, predictions_test).round(2)\n",
    "accuracy_test"
   ]
  },
  {
   "cell_type": "markdown",
   "metadata": {},
   "source": [
    "*ВЫВОД: модель справилась на тестовом множестве с accuracy = 0.79*"
   ]
  },
  {
   "cell_type": "markdown",
   "metadata": {},
   "source": [
    "## Проверка модели на адекватность"
   ]
  },
  {
   "cell_type": "markdown",
   "metadata": {},
   "source": [
    "Проверим насколько лучше работает наша модель по сравнению с *DummyClassifier - классификатор, который делает прогнозы,используя простые правила.*"
   ]
  },
  {
   "cell_type": "code",
   "execution_count": null,
   "metadata": {},
   "outputs": [],
   "source": [
    "dummy = DummyClassifier(strategy=\"most_frequent\")\n",
    "\n",
    "dummy.fit(features_train, target_train)\n",
    "predictions_dummy = dummy.predict(features_test)\n",
    "\n",
    "accuracy_dummy = accuracy_score(target_test, predictions_dummy).round(3)\n",
    "accuracy_dummy"
   ]
  },
  {
   "cell_type": "markdown",
   "metadata": {},
   "source": [
    "*ВЫВОД: наша модель адекватна, работает лучше DummyClassifier.*"
   ]
  },
  {
   "cell_type": "markdown",
   "metadata": {},
   "source": [
    "## ВЫВОД"
   ]
  },
  {
   "cell_type": "markdown",
   "metadata": {},
   "source": [
    "- Исследовательский анализ показал, что данные представлены пользователями тарифов \"Смарт\" - 70%, \"Ультра\" - 30%. Пользователи тарифа \"Ультра\" используют больше звонков, минут, сообщений и интернета. Также никаких выраженных взаимосвязей между тарифами и опциями не было обнаружено.\n",
    "- Исследование моделей показало, что ***лучшая модель - decision tree с параметром max_depth = 3 с accuracy = 0.79 на валидационной выборке.***\n",
    "- Лучшая модель успешно прошла ***проверку на тестовом множестве с accuracy = 0.79.***\n",
    "- Лучшая модель выдержала проверку на адекватность"
   ]
  },
  {
   "cell_type": "markdown",
   "metadata": {},
   "source": [
    "## Автоматический подбор параметров "
   ]
  },
  {
   "cell_type": "markdown",
   "metadata": {},
   "source": [
    "Ради интереса выполним подборку гиперпараметров моделей с помощью модуля GridSearchCV и сравним с уже имеющимися результатами."
   ]
  },
  {
   "cell_type": "code",
   "execution_count": null,
   "metadata": {},
   "outputs": [],
   "source": [
    "f_train, f_test, t_train, t_test = train_test_split(features, target, test_size=0.25, random_state = 0, stratify=target)"
   ]
  },
  {
   "cell_type": "code",
   "execution_count": null,
   "metadata": {},
   "outputs": [],
   "source": [
    "#автоматический подбор параметров для DecisionTreeClassifier\n",
    "\n",
    "parameters = {'max_depth' : range(1,10), 'min_samples_leaf' : range(1,20,5), 'min_samples_split' : range(2,20,5)}\n",
    "\n",
    "model_1 = DecisionTreeClassifier(random_state=12345)\n",
    "grid_1 = GridSearchCV(model_1, parameters, cv=5, verbose=1)\n",
    "grid_1.fit(f_train, t_train)\n",
    "best_model_1 = grid_1.best_params_\n",
    "best_model_1"
   ]
  },
  {
   "cell_type": "code",
   "execution_count": null,
   "metadata": {},
   "outputs": [],
   "source": [
    "model_1_1 = DecisionTreeClassifier(random_state=12345, max_depth=3, min_samples_leaf=1, min_samples_split=2)\n",
    "model_1_1.fit(features_train, target_train)\n",
    "predictions_1_1 = model_1_1.predict(features_test)\n",
    "\n",
    "accuracy_1_1 = accuracy_score(target_test, predictions_test)\n",
    "accuracy_1_1"
   ]
  },
  {
   "cell_type": "code",
   "execution_count": null,
   "metadata": {},
   "outputs": [],
   "source": [
    "#автоматический подбор параметров для RandomForestClassifier\n",
    "\n",
    "parameters = {'max_depth' : range(1,20,2), 'min_samples_leaf' : range(1,20,5), 'n_estimators' : range(1,20,2)}\n",
    "\n",
    "model_2 = RandomForestClassifier(random_state=12345)\n",
    "grid_2 = GridSearchCV(model_2, parameters, cv=5, verbose=1)\n",
    "grid_2.fit(f_train, t_train)\n",
    "best_model_2 = grid_2.best_params_\n",
    "best_model_2"
   ]
  },
  {
   "cell_type": "code",
   "execution_count": null,
   "metadata": {},
   "outputs": [],
   "source": [
    "model_2_1 = RandomForestClassifier(random_state=12345, max_depth=13, min_samples_leaf=11, n_estimators=19)\n",
    "model_2_1.fit(f_train, t_train)\n",
    "predictions = model_2_1.predict(f_test)\n",
    "\n",
    "accuracy_2_1 = accuracy_score(t_test, predictions)\n",
    "accuracy_2_1"
   ]
  },
  {
   "cell_type": "code",
   "execution_count": null,
   "metadata": {},
   "outputs": [],
   "source": [
    "# модель LogisticRegression на стратифицированных выборках\n",
    "\n",
    "model_3 = LogisticRegression(random_state=12345, solver='lbfgs', max_iter=100) \n",
    "\n",
    "model_3.fit(f_train, t_train)\n",
    "predictions = model_3.predict(f_test)\n",
    "\n",
    "accuracy_3 = accuracy_score(t_test, predictions)\n",
    "accuracy_3"
   ]
  },
  {
   "cell_type": "markdown",
   "metadata": {},
   "source": [
    "**ВЫВОД:**  \n",
    "При автоматическом подборе параметром с помощью модуля GridSearchCV получаем другой результат.  \n",
    "***Лучшая модель - RandomForestClassifier; accuracy на тестовой выборке - 0.8.***   \n",
    "Также при разбивке необходимо стратифицировать данные т.к. мы выяснили, что количество пользователей тарифов распределено неравномерно."
   ]
  }
 ],
 "metadata": {
  "ExecuteTimeLog": [
   {
    "duration": 412,
    "start_time": "2022-12-10T12:34:59.694Z"
   },
   {
    "duration": 3,
    "start_time": "2022-12-10T12:35:02.744Z"
   },
   {
    "duration": 122,
    "start_time": "2022-12-10T12:35:34.524Z"
   },
   {
    "duration": 42,
    "start_time": "2022-12-10T12:35:47.489Z"
   },
   {
    "duration": 35,
    "start_time": "2022-12-10T12:37:29.038Z"
   },
   {
    "duration": 34,
    "start_time": "2022-12-10T12:37:38.149Z"
   },
   {
    "duration": 35,
    "start_time": "2022-12-10T12:37:41.991Z"
   },
   {
    "duration": 36,
    "start_time": "2022-12-10T12:41:52.754Z"
   },
   {
    "duration": 86,
    "start_time": "2022-12-10T12:42:23.694Z"
   },
   {
    "duration": 36,
    "start_time": "2022-12-10T12:42:30.493Z"
   },
   {
    "duration": 34,
    "start_time": "2022-12-10T12:42:39.492Z"
   },
   {
    "duration": 5,
    "start_time": "2022-12-10T12:44:31.833Z"
   },
   {
    "duration": 647,
    "start_time": "2022-12-10T12:46:15.103Z"
   },
   {
    "duration": 5,
    "start_time": "2022-12-10T12:47:29.413Z"
   },
   {
    "duration": 456,
    "start_time": "2022-12-10T13:05:58.182Z"
   },
   {
    "duration": 238,
    "start_time": "2022-12-10T13:20:35.397Z"
   },
   {
    "duration": 6756,
    "start_time": "2022-12-10T13:20:55.440Z"
   },
   {
    "duration": 224,
    "start_time": "2022-12-10T13:21:30.185Z"
   },
   {
    "duration": 6536,
    "start_time": "2022-12-10T13:21:40.963Z"
   },
   {
    "duration": 3090,
    "start_time": "2022-12-10T13:24:45.062Z"
   },
   {
    "duration": 3197,
    "start_time": "2022-12-10T13:25:00.882Z"
   },
   {
    "duration": 196,
    "start_time": "2022-12-10T13:25:19.093Z"
   },
   {
    "duration": 153,
    "start_time": "2022-12-10T13:25:49.534Z"
   },
   {
    "duration": 10,
    "start_time": "2022-12-10T13:27:29.464Z"
   },
   {
    "duration": 10,
    "start_time": "2022-12-10T13:27:43.274Z"
   },
   {
    "duration": 9,
    "start_time": "2022-12-10T13:27:49.565Z"
   },
   {
    "duration": 317,
    "start_time": "2022-12-10T13:41:11.030Z"
   },
   {
    "duration": 528,
    "start_time": "2022-12-10T13:41:31.142Z"
   },
   {
    "duration": 190,
    "start_time": "2022-12-10T13:42:26.899Z"
   },
   {
    "duration": 395,
    "start_time": "2022-12-10T13:42:58.310Z"
   },
   {
    "duration": 252,
    "start_time": "2022-12-10T13:47:59.044Z"
   },
   {
    "duration": 118,
    "start_time": "2022-12-10T13:48:49.005Z"
   },
   {
    "duration": 690,
    "start_time": "2022-12-10T13:52:43.312Z"
   },
   {
    "duration": 1355,
    "start_time": "2022-12-10T13:53:45.470Z"
   },
   {
    "duration": 38,
    "start_time": "2022-12-10T13:53:46.828Z"
   },
   {
    "duration": 35,
    "start_time": "2022-12-10T13:53:51.363Z"
   },
   {
    "duration": 962,
    "start_time": "2022-12-10T13:53:51.964Z"
   },
   {
    "duration": 872,
    "start_time": "2022-12-10T13:54:32.723Z"
   },
   {
    "duration": 961,
    "start_time": "2022-12-10T13:56:03.916Z"
   },
   {
    "duration": 671,
    "start_time": "2022-12-10T13:56:28.189Z"
   },
   {
    "duration": 780,
    "start_time": "2022-12-10T13:57:14.365Z"
   },
   {
    "duration": 745,
    "start_time": "2022-12-10T13:57:39.911Z"
   },
   {
    "duration": 796,
    "start_time": "2022-12-10T13:59:53.835Z"
   },
   {
    "duration": 158,
    "start_time": "2022-12-10T14:02:26.704Z"
   },
   {
    "duration": 156,
    "start_time": "2022-12-10T14:02:36.457Z"
   },
   {
    "duration": 191,
    "start_time": "2022-12-10T14:02:55.979Z"
   },
   {
    "duration": 57536,
    "start_time": "2022-12-10T14:04:04.194Z"
   },
   {
    "duration": 1330,
    "start_time": "2022-12-10T14:06:21.820Z"
   },
   {
    "duration": 42,
    "start_time": "2022-12-10T14:06:23.152Z"
   },
   {
    "duration": 144,
    "start_time": "2022-12-10T14:06:23.195Z"
   },
   {
    "duration": 93,
    "start_time": "2022-12-10T14:06:37.175Z"
   },
   {
    "duration": 89,
    "start_time": "2022-12-10T14:11:46.760Z"
   },
   {
    "duration": 294,
    "start_time": "2022-12-10T14:12:18.605Z"
   },
   {
    "duration": 473,
    "start_time": "2022-12-10T14:21:20.064Z"
   },
   {
    "duration": 397,
    "start_time": "2022-12-10T14:21:29.294Z"
   },
   {
    "duration": 185,
    "start_time": "2022-12-10T14:21:41.249Z"
   },
   {
    "duration": 200,
    "start_time": "2022-12-10T14:22:00.947Z"
   },
   {
    "duration": 182,
    "start_time": "2022-12-10T14:22:04.714Z"
   },
   {
    "duration": 50,
    "start_time": "2022-12-10T14:22:16.020Z"
   },
   {
    "duration": 42,
    "start_time": "2022-12-10T14:22:27.164Z"
   },
   {
    "duration": 51,
    "start_time": "2022-12-10T14:22:31.451Z"
   },
   {
    "duration": 140,
    "start_time": "2022-12-10T14:22:42.065Z"
   },
   {
    "duration": 189,
    "start_time": "2022-12-10T14:22:57.994Z"
   },
   {
    "duration": 209,
    "start_time": "2022-12-10T14:23:20.085Z"
   },
   {
    "duration": 50,
    "start_time": "2022-12-10T14:23:30.855Z"
   },
   {
    "duration": 430,
    "start_time": "2022-12-10T14:23:42.111Z"
   },
   {
    "duration": 44,
    "start_time": "2022-12-10T14:28:41.205Z"
   },
   {
    "duration": 1285,
    "start_time": "2022-12-10T14:28:53.083Z"
   },
   {
    "duration": 39,
    "start_time": "2022-12-10T14:28:54.370Z"
   },
   {
    "duration": 101,
    "start_time": "2022-12-10T14:28:54.420Z"
   },
   {
    "duration": 286,
    "start_time": "2022-12-10T14:28:54.523Z"
   },
   {
    "duration": 393,
    "start_time": "2022-12-10T14:29:34.153Z"
   },
   {
    "duration": 439,
    "start_time": "2022-12-10T14:30:42.865Z"
   },
   {
    "duration": 540,
    "start_time": "2022-12-10T14:30:52.611Z"
   },
   {
    "duration": 422,
    "start_time": "2022-12-10T14:34:07.461Z"
   },
   {
    "duration": 442,
    "start_time": "2022-12-10T14:34:18.123Z"
   },
   {
    "duration": 431,
    "start_time": "2022-12-10T14:34:35.257Z"
   },
   {
    "duration": 1330,
    "start_time": "2022-12-10T14:34:51.397Z"
   },
   {
    "duration": 47,
    "start_time": "2022-12-10T14:34:52.729Z"
   },
   {
    "duration": 94,
    "start_time": "2022-12-10T14:34:52.778Z"
   },
   {
    "duration": 420,
    "start_time": "2022-12-10T14:34:52.874Z"
   },
   {
    "duration": 405,
    "start_time": "2022-12-10T14:35:14.303Z"
   },
   {
    "duration": 574,
    "start_time": "2022-12-10T14:35:32.075Z"
   },
   {
    "duration": 434,
    "start_time": "2022-12-10T14:35:38.612Z"
   },
   {
    "duration": 438,
    "start_time": "2022-12-10T14:35:47.393Z"
   },
   {
    "duration": 54,
    "start_time": "2022-12-10T14:36:05.285Z"
   },
   {
    "duration": 400,
    "start_time": "2022-12-10T14:36:12.265Z"
   },
   {
    "duration": 399,
    "start_time": "2022-12-10T14:36:23.482Z"
   },
   {
    "duration": 499,
    "start_time": "2022-12-10T14:36:28.915Z"
   },
   {
    "duration": 461,
    "start_time": "2022-12-10T14:36:51.874Z"
   },
   {
    "duration": 442,
    "start_time": "2022-12-10T14:37:04.905Z"
   },
   {
    "duration": 433,
    "start_time": "2022-12-10T14:37:27.195Z"
   },
   {
    "duration": 391,
    "start_time": "2022-12-10T14:37:33.411Z"
   },
   {
    "duration": 397,
    "start_time": "2022-12-10T14:37:45.214Z"
   },
   {
    "duration": 207,
    "start_time": "2022-12-10T14:38:36.966Z"
   },
   {
    "duration": 86,
    "start_time": "2022-12-10T14:38:48.303Z"
   },
   {
    "duration": 414,
    "start_time": "2022-12-10T14:45:14.768Z"
   },
   {
    "duration": 1486,
    "start_time": "2022-12-11T09:41:02.620Z"
   },
   {
    "duration": 81,
    "start_time": "2022-12-11T09:41:04.108Z"
   },
   {
    "duration": 99,
    "start_time": "2022-12-11T09:41:04.191Z"
   },
   {
    "duration": 0,
    "start_time": "2022-12-11T09:41:04.292Z"
   },
   {
    "duration": 4,
    "start_time": "2022-12-11T09:42:28.520Z"
   },
   {
    "duration": 55,
    "start_time": "2022-12-11T09:42:28.526Z"
   },
   {
    "duration": 109,
    "start_time": "2022-12-11T09:42:28.583Z"
   },
   {
    "duration": 459,
    "start_time": "2022-12-11T09:42:28.694Z"
   },
   {
    "duration": 4,
    "start_time": "2022-12-11T09:42:29.155Z"
   },
   {
    "duration": 11,
    "start_time": "2022-12-11T09:42:29.160Z"
   },
   {
    "duration": 6,
    "start_time": "2022-12-11T09:44:51.864Z"
   },
   {
    "duration": 5,
    "start_time": "2022-12-11T09:50:07.288Z"
   },
   {
    "duration": 35,
    "start_time": "2022-12-11T10:12:03.322Z"
   },
   {
    "duration": 21,
    "start_time": "2022-12-11T10:13:36.028Z"
   },
   {
    "duration": 10,
    "start_time": "2022-12-11T10:14:03.716Z"
   },
   {
    "duration": 1327,
    "start_time": "2022-12-11T10:14:20.136Z"
   },
   {
    "duration": 37,
    "start_time": "2022-12-11T10:14:21.466Z"
   },
   {
    "duration": 115,
    "start_time": "2022-12-11T10:14:21.505Z"
   },
   {
    "duration": 412,
    "start_time": "2022-12-11T10:14:21.622Z"
   },
   {
    "duration": 3,
    "start_time": "2022-12-11T10:14:22.036Z"
   },
   {
    "duration": 10,
    "start_time": "2022-12-11T10:14:22.041Z"
   },
   {
    "duration": 111,
    "start_time": "2022-12-11T10:14:22.053Z"
   },
   {
    "duration": 17,
    "start_time": "2022-12-11T10:17:19.031Z"
   },
   {
    "duration": 1390,
    "start_time": "2022-12-11T12:47:33.920Z"
   },
   {
    "duration": 46,
    "start_time": "2022-12-11T12:47:35.311Z"
   },
   {
    "duration": 124,
    "start_time": "2022-12-11T12:47:35.367Z"
   },
   {
    "duration": 503,
    "start_time": "2022-12-11T12:47:35.493Z"
   },
   {
    "duration": 4,
    "start_time": "2022-12-11T12:47:35.998Z"
   },
   {
    "duration": 135,
    "start_time": "2022-12-11T12:47:36.004Z"
   },
   {
    "duration": 0,
    "start_time": "2022-12-11T12:47:36.142Z"
   },
   {
    "duration": 14,
    "start_time": "2022-12-11T12:48:35.860Z"
   },
   {
    "duration": 19,
    "start_time": "2022-12-11T12:52:49.920Z"
   },
   {
    "duration": 12,
    "start_time": "2022-12-11T13:00:17.118Z"
   },
   {
    "duration": 3,
    "start_time": "2022-12-11T13:32:09.308Z"
   },
   {
    "duration": 20,
    "start_time": "2022-12-11T13:33:47.368Z"
   },
   {
    "duration": 1292,
    "start_time": "2022-12-11T13:33:59.068Z"
   },
   {
    "duration": 39,
    "start_time": "2022-12-11T13:34:00.362Z"
   },
   {
    "duration": 112,
    "start_time": "2022-12-11T13:34:00.403Z"
   },
   {
    "duration": 450,
    "start_time": "2022-12-11T13:34:00.517Z"
   },
   {
    "duration": 4,
    "start_time": "2022-12-11T13:34:00.970Z"
   },
   {
    "duration": 37,
    "start_time": "2022-12-11T13:34:00.976Z"
   },
   {
    "duration": 134,
    "start_time": "2022-12-11T13:34:01.015Z"
   },
   {
    "duration": 3,
    "start_time": "2022-12-11T13:43:52.809Z"
   },
   {
    "duration": 9,
    "start_time": "2022-12-11T13:45:59.479Z"
   },
   {
    "duration": 1137,
    "start_time": "2022-12-11T13:46:08.120Z"
   },
   {
    "duration": 1174,
    "start_time": "2022-12-11T13:47:11.769Z"
   },
   {
    "duration": 1164,
    "start_time": "2022-12-11T13:47:17.839Z"
   },
   {
    "duration": 1108,
    "start_time": "2022-12-11T13:47:25.643Z"
   },
   {
    "duration": 1132,
    "start_time": "2022-12-11T13:48:51.554Z"
   },
   {
    "duration": 1073,
    "start_time": "2022-12-11T13:48:59.081Z"
   },
   {
    "duration": 9,
    "start_time": "2022-12-11T13:49:20.239Z"
   },
   {
    "duration": 6,
    "start_time": "2022-12-11T13:49:36.314Z"
   },
   {
    "duration": 9,
    "start_time": "2022-12-11T13:50:03.380Z"
   },
   {
    "duration": 1062,
    "start_time": "2022-12-11T13:50:07.290Z"
   },
   {
    "duration": 6,
    "start_time": "2022-12-11T13:50:09.138Z"
   },
   {
    "duration": 1080,
    "start_time": "2022-12-11T13:50:28.219Z"
   },
   {
    "duration": 5,
    "start_time": "2022-12-11T13:50:29.301Z"
   },
   {
    "duration": 72,
    "start_time": "2022-12-11T13:53:42.541Z"
   },
   {
    "duration": 15,
    "start_time": "2022-12-11T13:57:07.599Z"
   },
   {
    "duration": 10,
    "start_time": "2022-12-11T13:57:39.736Z"
   },
   {
    "duration": 10,
    "start_time": "2022-12-11T13:59:24.989Z"
   },
   {
    "duration": 1373,
    "start_time": "2022-12-11T13:59:39.587Z"
   },
   {
    "duration": 40,
    "start_time": "2022-12-11T13:59:40.962Z"
   },
   {
    "duration": 102,
    "start_time": "2022-12-11T13:59:41.003Z"
   },
   {
    "duration": 410,
    "start_time": "2022-12-11T13:59:41.106Z"
   },
   {
    "duration": 8,
    "start_time": "2022-12-11T13:59:41.518Z"
   },
   {
    "duration": 9,
    "start_time": "2022-12-11T13:59:41.529Z"
   },
   {
    "duration": 5,
    "start_time": "2022-12-11T13:59:41.539Z"
   },
   {
    "duration": 1285,
    "start_time": "2022-12-11T13:59:41.546Z"
   },
   {
    "duration": 105,
    "start_time": "2022-12-11T13:59:42.833Z"
   },
   {
    "duration": 8,
    "start_time": "2022-12-11T14:02:28.852Z"
   },
   {
    "duration": 12,
    "start_time": "2022-12-11T14:04:28.570Z"
   },
   {
    "duration": 9,
    "start_time": "2022-12-11T14:04:35.253Z"
   },
   {
    "duration": 25,
    "start_time": "2022-12-11T14:05:19.482Z"
   },
   {
    "duration": 16,
    "start_time": "2022-12-11T14:05:30.261Z"
   },
   {
    "duration": 24,
    "start_time": "2022-12-11T14:05:56.030Z"
   },
   {
    "duration": 16,
    "start_time": "2022-12-11T14:06:07.623Z"
   },
   {
    "duration": 22,
    "start_time": "2022-12-11T14:06:26.980Z"
   },
   {
    "duration": 19,
    "start_time": "2022-12-11T14:06:50.661Z"
   },
   {
    "duration": 29,
    "start_time": "2022-12-11T14:07:24.344Z"
   },
   {
    "duration": 15,
    "start_time": "2022-12-11T14:08:27.369Z"
   },
   {
    "duration": 20,
    "start_time": "2022-12-11T14:08:35.085Z"
   },
   {
    "duration": 1517,
    "start_time": "2022-12-11T14:09:04.340Z"
   },
   {
    "duration": 40,
    "start_time": "2022-12-11T14:09:05.859Z"
   },
   {
    "duration": 116,
    "start_time": "2022-12-11T14:09:05.901Z"
   },
   {
    "duration": 471,
    "start_time": "2022-12-11T14:09:06.019Z"
   },
   {
    "duration": 4,
    "start_time": "2022-12-11T14:09:06.493Z"
   },
   {
    "duration": 14,
    "start_time": "2022-12-11T14:09:06.499Z"
   },
   {
    "duration": 13,
    "start_time": "2022-12-11T14:09:06.515Z"
   },
   {
    "duration": 1345,
    "start_time": "2022-12-11T14:09:06.530Z"
   },
   {
    "duration": 120,
    "start_time": "2022-12-11T14:09:07.877Z"
   },
   {
    "duration": 12,
    "start_time": "2022-12-11T14:10:23.913Z"
   },
   {
    "duration": 24,
    "start_time": "2022-12-11T14:10:56.200Z"
   },
   {
    "duration": 1105,
    "start_time": "2022-12-11T14:13:56.286Z"
   },
   {
    "duration": 1413,
    "start_time": "2022-12-11T14:14:13.021Z"
   },
   {
    "duration": 38,
    "start_time": "2022-12-11T14:14:14.436Z"
   },
   {
    "duration": 101,
    "start_time": "2022-12-11T14:14:14.476Z"
   },
   {
    "duration": 437,
    "start_time": "2022-12-11T14:14:14.579Z"
   },
   {
    "duration": 11,
    "start_time": "2022-12-11T14:14:15.018Z"
   },
   {
    "duration": 14,
    "start_time": "2022-12-11T14:14:15.030Z"
   },
   {
    "duration": 3,
    "start_time": "2022-12-11T14:14:15.045Z"
   },
   {
    "duration": 1325,
    "start_time": "2022-12-11T14:14:15.049Z"
   },
   {
    "duration": 1113,
    "start_time": "2022-12-11T14:14:26.089Z"
   },
   {
    "duration": 112,
    "start_time": "2022-12-11T14:15:03.210Z"
   },
   {
    "duration": 27,
    "start_time": "2022-12-11T14:19:05.775Z"
   },
   {
    "duration": 24,
    "start_time": "2022-12-11T14:19:26.570Z"
   },
   {
    "duration": 29,
    "start_time": "2022-12-11T14:20:21.549Z"
   },
   {
    "duration": 22,
    "start_time": "2022-12-11T14:21:21.705Z"
   },
   {
    "duration": 28,
    "start_time": "2022-12-11T14:22:45.524Z"
   },
   {
    "duration": 31,
    "start_time": "2022-12-11T14:23:12.344Z"
   },
   {
    "duration": 25,
    "start_time": "2022-12-11T14:23:51.842Z"
   },
   {
    "duration": 24,
    "start_time": "2022-12-11T14:24:08.357Z"
   },
   {
    "duration": 1164,
    "start_time": "2022-12-11T14:26:38.469Z"
   },
   {
    "duration": 23,
    "start_time": "2022-12-11T14:26:57.488Z"
   },
   {
    "duration": 4,
    "start_time": "2022-12-11T14:31:25.327Z"
   },
   {
    "duration": 34,
    "start_time": "2022-12-11T14:31:31.147Z"
   },
   {
    "duration": 25,
    "start_time": "2022-12-11T14:31:49.226Z"
   },
   {
    "duration": 34,
    "start_time": "2022-12-11T14:32:02.027Z"
   },
   {
    "duration": 34,
    "start_time": "2022-12-11T14:32:31.147Z"
   },
   {
    "duration": 30,
    "start_time": "2022-12-11T14:32:52.016Z"
   },
   {
    "duration": 32,
    "start_time": "2022-12-11T14:33:22.858Z"
   },
   {
    "duration": 13,
    "start_time": "2022-12-11T14:33:51.276Z"
   },
   {
    "duration": 6,
    "start_time": "2022-12-11T14:34:22.069Z"
   },
   {
    "duration": 13,
    "start_time": "2022-12-11T14:34:42.414Z"
   },
   {
    "duration": 24,
    "start_time": "2022-12-11T14:34:49.564Z"
   },
   {
    "duration": 22,
    "start_time": "2022-12-11T14:35:12.086Z"
   },
   {
    "duration": 24,
    "start_time": "2022-12-11T14:36:03.385Z"
   },
   {
    "duration": 23,
    "start_time": "2022-12-11T14:36:08.535Z"
   },
   {
    "duration": 17,
    "start_time": "2022-12-11T14:36:26.927Z"
   },
   {
    "duration": 26,
    "start_time": "2022-12-11T14:36:32.559Z"
   },
   {
    "duration": 16,
    "start_time": "2022-12-11T14:36:44.216Z"
   },
   {
    "duration": 22,
    "start_time": "2022-12-11T14:36:57.697Z"
   },
   {
    "duration": 22,
    "start_time": "2022-12-11T14:37:11.367Z"
   },
   {
    "duration": 27,
    "start_time": "2022-12-11T14:38:12.226Z"
   },
   {
    "duration": 1147,
    "start_time": "2022-12-11T14:38:32.368Z"
   },
   {
    "duration": 14,
    "start_time": "2022-12-11T14:38:55.806Z"
   },
   {
    "duration": 14,
    "start_time": "2022-12-11T14:39:04.840Z"
   },
   {
    "duration": 13,
    "start_time": "2022-12-11T14:39:14.938Z"
   },
   {
    "duration": 13,
    "start_time": "2022-12-11T14:39:28.158Z"
   },
   {
    "duration": 15,
    "start_time": "2022-12-11T14:42:07.809Z"
   },
   {
    "duration": 1597,
    "start_time": "2022-12-11T15:59:37.944Z"
   },
   {
    "duration": 152,
    "start_time": "2022-12-11T15:59:39.543Z"
   },
   {
    "duration": 127,
    "start_time": "2022-12-11T15:59:39.697Z"
   },
   {
    "duration": 454,
    "start_time": "2022-12-11T15:59:39.825Z"
   },
   {
    "duration": 4,
    "start_time": "2022-12-11T15:59:40.280Z"
   },
   {
    "duration": 10,
    "start_time": "2022-12-11T15:59:40.285Z"
   },
   {
    "duration": 3,
    "start_time": "2022-12-11T15:59:40.296Z"
   },
   {
    "duration": 1307,
    "start_time": "2022-12-11T15:59:40.317Z"
   },
   {
    "duration": 20,
    "start_time": "2022-12-11T15:59:41.626Z"
   },
   {
    "duration": 14,
    "start_time": "2022-12-11T16:16:47.441Z"
   },
   {
    "duration": 55,
    "start_time": "2022-12-11T16:20:29.771Z"
   },
   {
    "duration": 1527,
    "start_time": "2022-12-11T16:20:34.341Z"
   },
   {
    "duration": 40,
    "start_time": "2022-12-11T16:20:35.870Z"
   },
   {
    "duration": 128,
    "start_time": "2022-12-11T16:20:35.912Z"
   },
   {
    "duration": 573,
    "start_time": "2022-12-11T16:20:36.042Z"
   },
   {
    "duration": 6,
    "start_time": "2022-12-11T16:20:36.617Z"
   },
   {
    "duration": 52,
    "start_time": "2022-12-11T16:20:36.625Z"
   },
   {
    "duration": 12,
    "start_time": "2022-12-11T16:20:36.679Z"
   },
   {
    "duration": 5,
    "start_time": "2022-12-11T16:20:36.693Z"
   },
   {
    "duration": 6,
    "start_time": "2022-12-11T16:20:36.700Z"
   },
   {
    "duration": 88,
    "start_time": "2022-12-11T16:20:39.841Z"
   },
   {
    "duration": 12,
    "start_time": "2022-12-11T16:21:02.739Z"
   },
   {
    "duration": 1583,
    "start_time": "2022-12-11T16:21:10.784Z"
   },
   {
    "duration": 57,
    "start_time": "2022-12-11T16:21:12.370Z"
   },
   {
    "duration": 152,
    "start_time": "2022-12-11T16:21:12.434Z"
   },
   {
    "duration": 572,
    "start_time": "2022-12-11T16:21:12.588Z"
   },
   {
    "duration": 4,
    "start_time": "2022-12-11T16:21:13.163Z"
   },
   {
    "duration": 137,
    "start_time": "2022-12-11T16:21:13.169Z"
   },
   {
    "duration": 0,
    "start_time": "2022-12-11T16:21:13.308Z"
   },
   {
    "duration": 0,
    "start_time": "2022-12-11T16:21:13.309Z"
   },
   {
    "duration": 0,
    "start_time": "2022-12-11T16:21:13.310Z"
   },
   {
    "duration": 0,
    "start_time": "2022-12-11T16:21:13.311Z"
   },
   {
    "duration": 18,
    "start_time": "2022-12-11T16:21:35.648Z"
   },
   {
    "duration": 13,
    "start_time": "2022-12-11T16:22:33.294Z"
   },
   {
    "duration": 11,
    "start_time": "2022-12-11T16:22:42.894Z"
   },
   {
    "duration": 48,
    "start_time": "2022-12-11T16:22:47.043Z"
   },
   {
    "duration": 40,
    "start_time": "2022-12-11T16:23:02.567Z"
   },
   {
    "duration": 106,
    "start_time": "2022-12-11T16:29:33.852Z"
   },
   {
    "duration": 331,
    "start_time": "2022-12-11T16:30:46.886Z"
   },
   {
    "duration": 334,
    "start_time": "2022-12-11T16:31:03.251Z"
   },
   {
    "duration": 35,
    "start_time": "2022-12-11T16:32:05.750Z"
   },
   {
    "duration": 334,
    "start_time": "2022-12-11T16:35:20.843Z"
   },
   {
    "duration": 404,
    "start_time": "2022-12-11T16:35:54.098Z"
   },
   {
    "duration": 345,
    "start_time": "2022-12-11T16:36:23.557Z"
   },
   {
    "duration": 46,
    "start_time": "2022-12-11T16:37:40.928Z"
   },
   {
    "duration": 310,
    "start_time": "2022-12-11T16:48:52.497Z"
   },
   {
    "duration": 379,
    "start_time": "2022-12-11T16:49:22.386Z"
   },
   {
    "duration": 308,
    "start_time": "2022-12-11T16:50:10.856Z"
   },
   {
    "duration": 345,
    "start_time": "2022-12-11T16:50:32.117Z"
   },
   {
    "duration": 5,
    "start_time": "2022-12-11T16:54:39.094Z"
   },
   {
    "duration": 21,
    "start_time": "2022-12-11T16:59:24.548Z"
   },
   {
    "duration": 26,
    "start_time": "2022-12-11T17:00:21.855Z"
   },
   {
    "duration": 23,
    "start_time": "2022-12-11T17:00:31.976Z"
   },
   {
    "duration": 18,
    "start_time": "2022-12-11T17:02:43.566Z"
   },
   {
    "duration": 74,
    "start_time": "2022-12-11T17:05:20.643Z"
   },
   {
    "duration": 208,
    "start_time": "2022-12-11T17:05:31.076Z"
   },
   {
    "duration": 45,
    "start_time": "2022-12-11T17:05:50.842Z"
   },
   {
    "duration": 50,
    "start_time": "2022-12-11T17:08:17.500Z"
   },
   {
    "duration": 43,
    "start_time": "2022-12-11T17:09:51.935Z"
   },
   {
    "duration": 290,
    "start_time": "2022-12-11T17:10:16.832Z"
   },
   {
    "duration": 20,
    "start_time": "2022-12-11T17:10:45.148Z"
   },
   {
    "duration": 40,
    "start_time": "2022-12-11T17:11:40.305Z"
   },
   {
    "duration": 318,
    "start_time": "2022-12-11T17:11:50.215Z"
   },
   {
    "duration": 20,
    "start_time": "2022-12-11T17:12:13.053Z"
   },
   {
    "duration": 1488,
    "start_time": "2022-12-11T17:14:50.681Z"
   },
   {
    "duration": 47,
    "start_time": "2022-12-11T17:14:52.172Z"
   },
   {
    "duration": 114,
    "start_time": "2022-12-11T17:14:52.222Z"
   },
   {
    "duration": 494,
    "start_time": "2022-12-11T17:14:52.338Z"
   },
   {
    "duration": 5,
    "start_time": "2022-12-11T17:14:52.835Z"
   },
   {
    "duration": 18,
    "start_time": "2022-12-11T17:14:52.842Z"
   },
   {
    "duration": 16,
    "start_time": "2022-12-11T17:14:52.862Z"
   },
   {
    "duration": 6,
    "start_time": "2022-12-11T17:14:52.880Z"
   },
   {
    "duration": 12,
    "start_time": "2022-12-11T17:14:52.887Z"
   },
   {
    "duration": 43,
    "start_time": "2022-12-11T17:14:52.901Z"
   },
   {
    "duration": 317,
    "start_time": "2022-12-11T17:14:52.945Z"
   },
   {
    "duration": 30,
    "start_time": "2022-12-11T17:14:53.264Z"
   },
   {
    "duration": 23,
    "start_time": "2022-12-11T17:15:02.890Z"
   },
   {
    "duration": 12,
    "start_time": "2022-12-11T17:20:16.087Z"
   },
   {
    "duration": 17,
    "start_time": "2022-12-11T17:20:36.252Z"
   },
   {
    "duration": 3,
    "start_time": "2022-12-11T17:30:39.299Z"
   },
   {
    "duration": 5,
    "start_time": "2022-12-11T17:33:38.990Z"
   },
   {
    "duration": 9,
    "start_time": "2022-12-11T17:33:49.645Z"
   },
   {
    "duration": 8,
    "start_time": "2022-12-11T17:33:56.602Z"
   },
   {
    "duration": 6,
    "start_time": "2022-12-11T17:34:01.380Z"
   },
   {
    "duration": 43,
    "start_time": "2022-12-11T17:39:08.975Z"
   },
   {
    "duration": 137,
    "start_time": "2022-12-11T17:44:33.116Z"
   },
   {
    "duration": 15,
    "start_time": "2022-12-11T18:01:30.036Z"
   },
   {
    "duration": 1771,
    "start_time": "2022-12-11T18:01:58.564Z"
   },
   {
    "duration": 43,
    "start_time": "2022-12-11T18:02:00.344Z"
   },
   {
    "duration": 123,
    "start_time": "2022-12-11T18:02:00.389Z"
   },
   {
    "duration": 563,
    "start_time": "2022-12-11T18:02:00.514Z"
   },
   {
    "duration": 3,
    "start_time": "2022-12-11T18:02:01.079Z"
   },
   {
    "duration": 21,
    "start_time": "2022-12-11T18:02:01.084Z"
   },
   {
    "duration": 54,
    "start_time": "2022-12-11T18:02:01.107Z"
   },
   {
    "duration": 19,
    "start_time": "2022-12-11T18:02:01.164Z"
   },
   {
    "duration": 14,
    "start_time": "2022-12-11T18:02:01.186Z"
   },
   {
    "duration": 56,
    "start_time": "2022-12-11T18:02:01.202Z"
   },
   {
    "duration": 39,
    "start_time": "2022-12-11T18:02:03.044Z"
   },
   {
    "duration": 143,
    "start_time": "2022-12-11T18:02:03.843Z"
   },
   {
    "duration": 112,
    "start_time": "2022-12-11T18:02:29.944Z"
   },
   {
    "duration": 52,
    "start_time": "2022-12-11T18:14:49.578Z"
   },
   {
    "duration": 82,
    "start_time": "2022-12-11T18:15:19.716Z"
   },
   {
    "duration": 97,
    "start_time": "2022-12-11T18:16:35.396Z"
   },
   {
    "duration": 183,
    "start_time": "2022-12-11T18:16:42.787Z"
   },
   {
    "duration": 278,
    "start_time": "2022-12-11T18:16:53.577Z"
   },
   {
    "duration": 407,
    "start_time": "2022-12-11T18:17:03.755Z"
   },
   {
    "duration": 212,
    "start_time": "2022-12-11T18:17:26.716Z"
   },
   {
    "duration": 86,
    "start_time": "2022-12-11T18:18:08.845Z"
   },
   {
    "duration": 123,
    "start_time": "2022-12-11T18:18:15.345Z"
   },
   {
    "duration": 144,
    "start_time": "2022-12-11T18:18:32.177Z"
   },
   {
    "duration": 180,
    "start_time": "2022-12-11T18:18:42.106Z"
   },
   {
    "duration": 192,
    "start_time": "2022-12-11T18:19:12.793Z"
   },
   {
    "duration": 1440,
    "start_time": "2022-12-11T18:21:06.214Z"
   },
   {
    "duration": 42,
    "start_time": "2022-12-11T18:21:07.656Z"
   },
   {
    "duration": 101,
    "start_time": "2022-12-11T18:21:07.699Z"
   },
   {
    "duration": 456,
    "start_time": "2022-12-11T18:21:07.802Z"
   },
   {
    "duration": 4,
    "start_time": "2022-12-11T18:21:08.261Z"
   },
   {
    "duration": 10,
    "start_time": "2022-12-11T18:21:08.268Z"
   },
   {
    "duration": 3,
    "start_time": "2022-12-11T18:21:08.280Z"
   },
   {
    "duration": 7,
    "start_time": "2022-12-11T18:21:08.285Z"
   },
   {
    "duration": 6,
    "start_time": "2022-12-11T18:21:08.315Z"
   },
   {
    "duration": 112,
    "start_time": "2022-12-11T18:21:08.322Z"
   },
   {
    "duration": 235,
    "start_time": "2022-12-11T18:21:08.436Z"
   },
   {
    "duration": 167,
    "start_time": "2022-12-11T18:21:08.673Z"
   },
   {
    "duration": 323,
    "start_time": "2022-12-11T18:21:08.842Z"
   },
   {
    "duration": 21,
    "start_time": "2022-12-11T18:21:09.167Z"
   },
   {
    "duration": 27,
    "start_time": "2022-12-11T18:21:09.190Z"
   },
   {
    "duration": 8,
    "start_time": "2022-12-11T18:21:09.219Z"
   },
   {
    "duration": 98363,
    "start_time": "2022-12-11T18:24:41.601Z"
   },
   {
    "duration": 12,
    "start_time": "2022-12-11T18:26:34.272Z"
   },
   {
    "duration": 1780,
    "start_time": "2022-12-11T18:30:03.828Z"
   },
   {
    "duration": 40,
    "start_time": "2022-12-11T18:30:05.610Z"
   },
   {
    "duration": 97,
    "start_time": "2022-12-11T18:30:05.652Z"
   },
   {
    "duration": 466,
    "start_time": "2022-12-11T18:30:05.751Z"
   },
   {
    "duration": 4,
    "start_time": "2022-12-11T18:30:06.218Z"
   },
   {
    "duration": 24,
    "start_time": "2022-12-11T18:30:06.223Z"
   },
   {
    "duration": 57,
    "start_time": "2022-12-11T18:30:06.250Z"
   },
   {
    "duration": 47,
    "start_time": "2022-12-11T18:30:06.309Z"
   },
   {
    "duration": 46,
    "start_time": "2022-12-11T18:30:06.359Z"
   },
   {
    "duration": 49,
    "start_time": "2022-12-11T18:30:06.410Z"
   },
   {
    "duration": 228,
    "start_time": "2022-12-11T18:30:06.461Z"
   },
   {
    "duration": 168,
    "start_time": "2022-12-11T18:30:06.691Z"
   },
   {
    "duration": 454,
    "start_time": "2022-12-11T18:30:06.861Z"
   },
   {
    "duration": 22,
    "start_time": "2022-12-11T18:30:07.317Z"
   },
   {
    "duration": 13,
    "start_time": "2022-12-11T18:30:07.341Z"
   },
   {
    "duration": 19,
    "start_time": "2022-12-11T18:30:07.356Z"
   },
   {
    "duration": 109604,
    "start_time": "2022-12-11T18:30:07.377Z"
   },
   {
    "duration": 69,
    "start_time": "2022-12-11T18:53:01.929Z"
   },
   {
    "duration": 6,
    "start_time": "2022-12-11T18:53:10.833Z"
   },
   {
    "duration": 1492,
    "start_time": "2022-12-11T18:53:17.834Z"
   },
   {
    "duration": 43,
    "start_time": "2022-12-11T18:53:19.334Z"
   },
   {
    "duration": 144,
    "start_time": "2022-12-11T18:53:19.379Z"
   },
   {
    "duration": 448,
    "start_time": "2022-12-11T18:53:19.525Z"
   },
   {
    "duration": 4,
    "start_time": "2022-12-11T18:53:19.976Z"
   },
   {
    "duration": 10,
    "start_time": "2022-12-11T18:53:19.981Z"
   },
   {
    "duration": 6,
    "start_time": "2022-12-11T18:53:19.993Z"
   },
   {
    "duration": 24,
    "start_time": "2022-12-11T18:53:20.000Z"
   },
   {
    "duration": 19,
    "start_time": "2022-12-11T18:53:20.025Z"
   },
   {
    "duration": 116,
    "start_time": "2022-12-11T18:53:20.046Z"
   },
   {
    "duration": 235,
    "start_time": "2022-12-11T18:53:20.164Z"
   },
   {
    "duration": 186,
    "start_time": "2022-12-11T18:53:20.401Z"
   },
   {
    "duration": 352,
    "start_time": "2022-12-11T18:53:20.589Z"
   },
   {
    "duration": 21,
    "start_time": "2022-12-11T18:53:20.945Z"
   },
   {
    "duration": 12,
    "start_time": "2022-12-11T18:53:20.968Z"
   },
   {
    "duration": 7,
    "start_time": "2022-12-11T18:53:20.981Z"
   },
   {
    "duration": 106371,
    "start_time": "2022-12-11T18:53:20.990Z"
   },
   {
    "duration": 14,
    "start_time": "2022-12-11T18:55:07.363Z"
   },
   {
    "duration": 108702,
    "start_time": "2022-12-11T18:59:14.909Z"
   },
   {
    "duration": 104771,
    "start_time": "2022-12-11T19:04:00.277Z"
   },
   {
    "duration": 39748,
    "start_time": "2022-12-11T19:07:49.703Z"
   },
   {
    "duration": 707,
    "start_time": "2022-12-11T19:10:48.761Z"
   },
   {
    "duration": 1608,
    "start_time": "2022-12-11T19:11:03.944Z"
   },
   {
    "duration": 2059,
    "start_time": "2022-12-11T19:11:16.492Z"
   },
   {
    "duration": 2022,
    "start_time": "2022-12-11T19:11:24.408Z"
   },
   {
    "duration": 1811,
    "start_time": "2022-12-11T19:12:13.839Z"
   },
   {
    "duration": 51,
    "start_time": "2022-12-11T19:12:48.032Z"
   },
   {
    "duration": 51,
    "start_time": "2022-12-11T19:13:21.540Z"
   },
   {
    "duration": 45,
    "start_time": "2022-12-11T19:13:30.262Z"
   },
   {
    "duration": 48,
    "start_time": "2022-12-11T19:13:38.453Z"
   },
   {
    "duration": 45,
    "start_time": "2022-12-11T19:17:00.334Z"
   },
   {
    "duration": 1392,
    "start_time": "2022-12-11T19:17:09.994Z"
   },
   {
    "duration": 50,
    "start_time": "2022-12-11T19:17:11.388Z"
   },
   {
    "duration": 105,
    "start_time": "2022-12-11T19:17:11.440Z"
   },
   {
    "duration": 433,
    "start_time": "2022-12-11T19:17:11.547Z"
   },
   {
    "duration": 4,
    "start_time": "2022-12-11T19:17:11.983Z"
   },
   {
    "duration": 15,
    "start_time": "2022-12-11T19:17:11.989Z"
   },
   {
    "duration": 24,
    "start_time": "2022-12-11T19:17:12.006Z"
   },
   {
    "duration": 5,
    "start_time": "2022-12-11T19:17:12.031Z"
   },
   {
    "duration": 8,
    "start_time": "2022-12-11T19:17:12.037Z"
   },
   {
    "duration": 121,
    "start_time": "2022-12-11T19:17:12.047Z"
   },
   {
    "duration": 223,
    "start_time": "2022-12-11T19:17:12.170Z"
   },
   {
    "duration": 192,
    "start_time": "2022-12-11T19:17:12.394Z"
   },
   {
    "duration": 308,
    "start_time": "2022-12-11T19:17:12.588Z"
   },
   {
    "duration": 31,
    "start_time": "2022-12-11T19:17:12.898Z"
   },
   {
    "duration": 11,
    "start_time": "2022-12-11T19:17:12.931Z"
   },
   {
    "duration": 5,
    "start_time": "2022-12-11T19:17:12.944Z"
   },
   {
    "duration": 5197,
    "start_time": "2022-12-11T19:17:12.950Z"
   },
   {
    "duration": 155,
    "start_time": "2022-12-11T19:17:18.149Z"
   },
   {
    "duration": 9,
    "start_time": "2022-12-11T19:21:43.369Z"
   },
   {
    "duration": 20,
    "start_time": "2022-12-11T19:22:39.708Z"
   },
   {
    "duration": 12,
    "start_time": "2022-12-11T19:26:37.501Z"
   },
   {
    "duration": 33,
    "start_time": "2022-12-11T19:29:08.763Z"
   },
   {
    "duration": 69255,
    "start_time": "2022-12-11T19:29:43.407Z"
   },
   {
    "duration": 86,
    "start_time": "2022-12-11T19:31:52.535Z"
   },
   {
    "duration": 82,
    "start_time": "2022-12-11T19:32:00.066Z"
   },
   {
    "duration": 10,
    "start_time": "2022-12-11T19:32:07.446Z"
   },
   {
    "duration": 65486,
    "start_time": "2022-12-11T19:37:49.278Z"
   },
   {
    "duration": 83,
    "start_time": "2022-12-11T19:39:13.314Z"
   },
   {
    "duration": 597,
    "start_time": "2022-12-11T19:40:11.832Z"
   },
   {
    "duration": 439,
    "start_time": "2022-12-11T19:40:27.986Z"
   },
   {
    "duration": 44,
    "start_time": "2022-12-11T19:47:09.835Z"
   },
   {
    "duration": 1450,
    "start_time": "2022-12-11T19:49:45.039Z"
   },
   {
    "duration": 54,
    "start_time": "2022-12-11T19:49:46.493Z"
   },
   {
    "duration": 148,
    "start_time": "2022-12-11T19:49:46.549Z"
   },
   {
    "duration": 478,
    "start_time": "2022-12-11T19:49:46.699Z"
   },
   {
    "duration": 4,
    "start_time": "2022-12-11T19:49:47.180Z"
   },
   {
    "duration": 205,
    "start_time": "2022-12-11T19:49:47.186Z"
   },
   {
    "duration": 0,
    "start_time": "2022-12-11T19:49:47.394Z"
   },
   {
    "duration": 0,
    "start_time": "2022-12-11T19:49:47.395Z"
   },
   {
    "duration": 0,
    "start_time": "2022-12-11T19:49:47.397Z"
   },
   {
    "duration": 0,
    "start_time": "2022-12-11T19:49:47.398Z"
   },
   {
    "duration": 0,
    "start_time": "2022-12-11T19:49:47.399Z"
   },
   {
    "duration": 0,
    "start_time": "2022-12-11T19:49:47.401Z"
   },
   {
    "duration": 0,
    "start_time": "2022-12-11T19:49:47.401Z"
   },
   {
    "duration": 0,
    "start_time": "2022-12-11T19:49:47.519Z"
   },
   {
    "duration": 0,
    "start_time": "2022-12-11T19:49:47.521Z"
   },
   {
    "duration": 0,
    "start_time": "2022-12-11T19:49:47.522Z"
   },
   {
    "duration": 0,
    "start_time": "2022-12-11T19:49:47.522Z"
   },
   {
    "duration": 0,
    "start_time": "2022-12-11T19:49:47.524Z"
   },
   {
    "duration": 0,
    "start_time": "2022-12-11T19:49:47.525Z"
   },
   {
    "duration": 0,
    "start_time": "2022-12-11T19:49:47.527Z"
   },
   {
    "duration": 0,
    "start_time": "2022-12-11T19:49:47.529Z"
   },
   {
    "duration": 63,
    "start_time": "2022-12-11T19:51:31.737Z"
   },
   {
    "duration": 59,
    "start_time": "2022-12-11T19:51:38.407Z"
   },
   {
    "duration": 17,
    "start_time": "2022-12-11T19:51:45.988Z"
   },
   {
    "duration": 51,
    "start_time": "2022-12-11T19:51:58.367Z"
   },
   {
    "duration": 55,
    "start_time": "2022-12-11T19:52:09.778Z"
   },
   {
    "duration": 18,
    "start_time": "2022-12-11T19:52:14.249Z"
   },
   {
    "duration": 71,
    "start_time": "2022-12-11T19:53:48.123Z"
   },
   {
    "duration": 59,
    "start_time": "2022-12-11T19:54:01.423Z"
   },
   {
    "duration": 84,
    "start_time": "2022-12-11T19:54:06.389Z"
   },
   {
    "duration": 46,
    "start_time": "2022-12-11T19:54:23.467Z"
   },
   {
    "duration": 60,
    "start_time": "2022-12-11T19:55:16.088Z"
   },
   {
    "duration": 22,
    "start_time": "2022-12-11T19:56:07.338Z"
   },
   {
    "duration": 19,
    "start_time": "2022-12-11T19:56:17.798Z"
   },
   {
    "duration": 17,
    "start_time": "2022-12-11T19:56:45.678Z"
   },
   {
    "duration": 22,
    "start_time": "2022-12-11T19:57:22.984Z"
   },
   {
    "duration": 6,
    "start_time": "2022-12-11T19:57:51.658Z"
   },
   {
    "duration": 73,
    "start_time": "2022-12-11T20:07:48.239Z"
   },
   {
    "duration": 10,
    "start_time": "2022-12-11T20:12:24.579Z"
   },
   {
    "duration": 1514,
    "start_time": "2022-12-11T20:12:33.857Z"
   },
   {
    "duration": 49,
    "start_time": "2022-12-11T20:12:35.373Z"
   },
   {
    "duration": 133,
    "start_time": "2022-12-11T20:12:35.424Z"
   },
   {
    "duration": 531,
    "start_time": "2022-12-11T20:12:35.558Z"
   },
   {
    "duration": 4,
    "start_time": "2022-12-11T20:12:36.092Z"
   },
   {
    "duration": 10,
    "start_time": "2022-12-11T20:12:36.098Z"
   },
   {
    "duration": 6,
    "start_time": "2022-12-11T20:12:36.110Z"
   },
   {
    "duration": 32,
    "start_time": "2022-12-11T20:12:36.121Z"
   },
   {
    "duration": 6,
    "start_time": "2022-12-11T20:12:36.155Z"
   },
   {
    "duration": 123,
    "start_time": "2022-12-11T20:12:36.162Z"
   },
   {
    "duration": 314,
    "start_time": "2022-12-11T20:12:36.288Z"
   },
   {
    "duration": 223,
    "start_time": "2022-12-11T20:12:36.605Z"
   },
   {
    "duration": 347,
    "start_time": "2022-12-11T20:12:36.831Z"
   },
   {
    "duration": 21,
    "start_time": "2022-12-11T20:12:37.180Z"
   },
   {
    "duration": 17,
    "start_time": "2022-12-11T20:12:37.203Z"
   },
   {
    "duration": 9,
    "start_time": "2022-12-11T20:12:37.222Z"
   },
   {
    "duration": 26,
    "start_time": "2022-12-11T20:12:37.233Z"
   },
   {
    "duration": 5911,
    "start_time": "2022-12-11T20:12:37.261Z"
   },
   {
    "duration": 13,
    "start_time": "2022-12-11T20:12:43.174Z"
   },
   {
    "duration": 72964,
    "start_time": "2022-12-11T20:12:43.189Z"
   },
   {
    "duration": 117,
    "start_time": "2022-12-11T20:13:56.155Z"
   },
   {
    "duration": 1159,
    "start_time": "2022-12-11T20:13:56.276Z"
   },
   {
    "duration": 1471,
    "start_time": "2022-12-11T20:31:46.884Z"
   },
   {
    "duration": 39,
    "start_time": "2022-12-11T20:31:48.358Z"
   },
   {
    "duration": 108,
    "start_time": "2022-12-11T20:31:48.399Z"
   },
   {
    "duration": 447,
    "start_time": "2022-12-11T20:31:48.510Z"
   },
   {
    "duration": 4,
    "start_time": "2022-12-11T20:31:48.959Z"
   },
   {
    "duration": 16,
    "start_time": "2022-12-11T20:31:48.965Z"
   },
   {
    "duration": 53,
    "start_time": "2022-12-11T20:31:48.983Z"
   },
   {
    "duration": 252,
    "start_time": "2022-12-11T20:31:49.041Z"
   },
   {
    "duration": 227,
    "start_time": "2022-12-11T20:31:49.296Z"
   },
   {
    "duration": 377,
    "start_time": "2022-12-11T20:31:49.527Z"
   },
   {
    "duration": 39,
    "start_time": "2022-12-11T20:31:49.905Z"
   },
   {
    "duration": 11,
    "start_time": "2022-12-11T20:31:49.945Z"
   },
   {
    "duration": 6,
    "start_time": "2022-12-11T20:31:49.958Z"
   },
   {
    "duration": 9,
    "start_time": "2022-12-11T20:31:49.966Z"
   },
   {
    "duration": 5092,
    "start_time": "2022-12-11T20:31:49.977Z"
   },
   {
    "duration": 14,
    "start_time": "2022-12-11T20:31:55.071Z"
   },
   {
    "duration": 74804,
    "start_time": "2022-12-11T20:31:55.087Z"
   },
   {
    "duration": 117,
    "start_time": "2022-12-11T20:33:09.892Z"
   },
   {
    "duration": 405,
    "start_time": "2022-12-11T20:33:10.011Z"
   },
   {
    "duration": 392,
    "start_time": "2022-12-11T20:35:04.182Z"
   },
   {
    "duration": 371,
    "start_time": "2022-12-11T20:35:08.625Z"
   },
   {
    "duration": 56,
    "start_time": "2022-12-11T20:38:17.849Z"
   },
   {
    "duration": 324,
    "start_time": "2022-12-11T20:45:48.647Z"
   },
   {
    "duration": 169,
    "start_time": "2022-12-11T20:46:00.707Z"
   },
   {
    "duration": 179,
    "start_time": "2022-12-11T20:46:18.057Z"
   },
   {
    "duration": 180,
    "start_time": "2022-12-11T20:46:42.906Z"
   },
   {
    "duration": 232,
    "start_time": "2022-12-11T20:46:53.968Z"
   },
   {
    "duration": 30,
    "start_time": "2022-12-11T20:47:04.088Z"
   },
   {
    "duration": 37,
    "start_time": "2022-12-11T20:47:17.416Z"
   },
   {
    "duration": 251,
    "start_time": "2022-12-11T20:47:31.607Z"
   },
   {
    "duration": 166,
    "start_time": "2022-12-11T20:47:42.139Z"
   },
   {
    "duration": 43,
    "start_time": "2022-12-11T20:50:22.509Z"
   },
   {
    "duration": 36,
    "start_time": "2022-12-11T20:50:59.547Z"
   },
   {
    "duration": 221,
    "start_time": "2022-12-11T20:52:38.337Z"
   },
   {
    "duration": 229,
    "start_time": "2022-12-11T20:53:09.236Z"
   },
   {
    "duration": 168,
    "start_time": "2022-12-11T20:54:18.465Z"
   },
   {
    "duration": 165,
    "start_time": "2022-12-11T20:54:56.271Z"
   },
   {
    "duration": 99,
    "start_time": "2022-12-11T20:55:22.576Z"
   },
   {
    "duration": 46,
    "start_time": "2022-12-11T20:56:24.945Z"
   },
   {
    "duration": 37,
    "start_time": "2022-12-11T20:56:31.266Z"
   },
   {
    "duration": 35,
    "start_time": "2022-12-11T20:56:41.284Z"
   },
   {
    "duration": 35,
    "start_time": "2022-12-11T20:57:34.168Z"
   },
   {
    "duration": 37,
    "start_time": "2022-12-11T20:59:28.897Z"
   },
   {
    "duration": 175,
    "start_time": "2022-12-11T21:01:52.460Z"
   },
   {
    "duration": 224,
    "start_time": "2022-12-11T21:02:07.847Z"
   },
   {
    "duration": 169,
    "start_time": "2022-12-11T21:02:21.469Z"
   },
   {
    "duration": 39,
    "start_time": "2022-12-11T21:02:55.036Z"
   },
   {
    "duration": 47,
    "start_time": "2022-12-11T21:03:08.069Z"
   },
   {
    "duration": 225,
    "start_time": "2022-12-11T21:03:39.741Z"
   },
   {
    "duration": 182,
    "start_time": "2022-12-11T21:04:09.055Z"
   },
   {
    "duration": 291,
    "start_time": "2022-12-11T21:05:01.712Z"
   },
   {
    "duration": 44,
    "start_time": "2022-12-11T21:06:53.237Z"
   },
   {
    "duration": 12,
    "start_time": "2022-12-11T21:16:41.068Z"
   },
   {
    "duration": 44,
    "start_time": "2022-12-11T21:17:33.359Z"
   },
   {
    "duration": 52,
    "start_time": "2022-12-11T21:25:11.266Z"
   },
   {
    "duration": 1437,
    "start_time": "2022-12-11T21:34:35.067Z"
   },
   {
    "duration": 59,
    "start_time": "2022-12-11T21:34:36.507Z"
   },
   {
    "duration": 106,
    "start_time": "2022-12-11T21:34:36.568Z"
   },
   {
    "duration": 484,
    "start_time": "2022-12-11T21:34:36.676Z"
   },
   {
    "duration": 456,
    "start_time": "2022-12-11T21:34:37.162Z"
   },
   {
    "duration": 7,
    "start_time": "2022-12-11T21:34:37.621Z"
   },
   {
    "duration": 16,
    "start_time": "2022-12-11T21:34:37.633Z"
   },
   {
    "duration": 52,
    "start_time": "2022-12-11T21:34:37.650Z"
   },
   {
    "duration": 235,
    "start_time": "2022-12-11T21:34:37.703Z"
   },
   {
    "duration": 183,
    "start_time": "2022-12-11T21:34:37.941Z"
   },
   {
    "duration": 382,
    "start_time": "2022-12-11T21:34:38.127Z"
   },
   {
    "duration": 31,
    "start_time": "2022-12-11T21:34:38.517Z"
   },
   {
    "duration": 14,
    "start_time": "2022-12-11T21:34:38.550Z"
   },
   {
    "duration": 8,
    "start_time": "2022-12-11T21:34:38.567Z"
   },
   {
    "duration": 8,
    "start_time": "2022-12-11T21:34:38.577Z"
   },
   {
    "duration": 4993,
    "start_time": "2022-12-11T21:34:38.587Z"
   },
   {
    "duration": 11,
    "start_time": "2022-12-11T21:34:43.582Z"
   },
   {
    "duration": 67646,
    "start_time": "2022-12-11T21:34:43.595Z"
   },
   {
    "duration": 105,
    "start_time": "2022-12-11T21:35:51.243Z"
   },
   {
    "duration": 487,
    "start_time": "2022-12-11T21:35:51.350Z"
   },
   {
    "duration": 55,
    "start_time": "2022-12-16T13:05:28.814Z"
   },
   {
    "duration": 1570,
    "start_time": "2022-12-16T13:05:46.789Z"
   },
   {
    "duration": 139,
    "start_time": "2022-12-16T13:05:48.361Z"
   },
   {
    "duration": 102,
    "start_time": "2022-12-16T13:05:48.502Z"
   },
   {
    "duration": 432,
    "start_time": "2022-12-16T13:05:48.606Z"
   },
   {
    "duration": 436,
    "start_time": "2022-12-16T13:05:49.040Z"
   },
   {
    "duration": 3,
    "start_time": "2022-12-16T13:05:49.478Z"
   },
   {
    "duration": 58,
    "start_time": "2022-12-16T13:05:49.483Z"
   },
   {
    "duration": 0,
    "start_time": "2022-12-16T13:05:49.543Z"
   },
   {
    "duration": 0,
    "start_time": "2022-12-16T13:05:49.544Z"
   },
   {
    "duration": 0,
    "start_time": "2022-12-16T13:05:49.546Z"
   },
   {
    "duration": 0,
    "start_time": "2022-12-16T13:05:49.547Z"
   },
   {
    "duration": 0,
    "start_time": "2022-12-16T13:05:49.548Z"
   },
   {
    "duration": 0,
    "start_time": "2022-12-16T13:05:49.549Z"
   },
   {
    "duration": 0,
    "start_time": "2022-12-16T13:05:49.550Z"
   },
   {
    "duration": 0,
    "start_time": "2022-12-16T13:05:49.551Z"
   },
   {
    "duration": 0,
    "start_time": "2022-12-16T13:05:49.552Z"
   },
   {
    "duration": 0,
    "start_time": "2022-12-16T13:05:49.553Z"
   },
   {
    "duration": 1,
    "start_time": "2022-12-16T13:05:49.554Z"
   },
   {
    "duration": 0,
    "start_time": "2022-12-16T13:05:49.556Z"
   },
   {
    "duration": 0,
    "start_time": "2022-12-16T13:05:49.557Z"
   },
   {
    "duration": 0,
    "start_time": "2022-12-16T13:05:49.558Z"
   },
   {
    "duration": 49,
    "start_time": "2022-12-16T13:07:33.926Z"
   },
   {
    "duration": 1416,
    "start_time": "2022-12-16T13:08:00.372Z"
   },
   {
    "duration": 44,
    "start_time": "2022-12-16T13:08:01.790Z"
   },
   {
    "duration": 102,
    "start_time": "2022-12-16T13:08:01.835Z"
   },
   {
    "duration": 447,
    "start_time": "2022-12-16T13:08:01.939Z"
   },
   {
    "duration": 478,
    "start_time": "2022-12-16T13:08:02.388Z"
   },
   {
    "duration": 3,
    "start_time": "2022-12-16T13:08:02.868Z"
   },
   {
    "duration": 52,
    "start_time": "2022-12-16T13:08:02.873Z"
   },
   {
    "duration": 0,
    "start_time": "2022-12-16T13:08:02.927Z"
   },
   {
    "duration": 0,
    "start_time": "2022-12-16T13:08:02.928Z"
   },
   {
    "duration": 0,
    "start_time": "2022-12-16T13:08:02.930Z"
   },
   {
    "duration": 0,
    "start_time": "2022-12-16T13:08:02.931Z"
   },
   {
    "duration": 0,
    "start_time": "2022-12-16T13:08:02.932Z"
   },
   {
    "duration": 1,
    "start_time": "2022-12-16T13:08:02.933Z"
   },
   {
    "duration": 0,
    "start_time": "2022-12-16T13:08:02.935Z"
   },
   {
    "duration": 0,
    "start_time": "2022-12-16T13:08:02.936Z"
   },
   {
    "duration": 0,
    "start_time": "2022-12-16T13:08:02.937Z"
   },
   {
    "duration": 0,
    "start_time": "2022-12-16T13:08:02.938Z"
   },
   {
    "duration": 0,
    "start_time": "2022-12-16T13:08:02.939Z"
   },
   {
    "duration": 0,
    "start_time": "2022-12-16T13:08:02.941Z"
   },
   {
    "duration": 0,
    "start_time": "2022-12-16T13:08:02.942Z"
   },
   {
    "duration": 0,
    "start_time": "2022-12-16T13:08:02.943Z"
   },
   {
    "duration": 45,
    "start_time": "2022-12-16T13:09:29.541Z"
   },
   {
    "duration": 53,
    "start_time": "2022-12-16T13:09:37.049Z"
   },
   {
    "duration": 1436,
    "start_time": "2022-12-16T13:10:25.991Z"
   },
   {
    "duration": 40,
    "start_time": "2022-12-16T13:10:27.429Z"
   },
   {
    "duration": 97,
    "start_time": "2022-12-16T13:10:27.470Z"
   },
   {
    "duration": 424,
    "start_time": "2022-12-16T13:10:27.568Z"
   },
   {
    "duration": 437,
    "start_time": "2022-12-16T13:10:27.995Z"
   },
   {
    "duration": 4,
    "start_time": "2022-12-16T13:10:28.434Z"
   },
   {
    "duration": 3,
    "start_time": "2022-12-16T13:10:30.783Z"
   },
   {
    "duration": 43,
    "start_time": "2022-12-16T13:10:31.470Z"
   },
   {
    "duration": 53,
    "start_time": "2022-12-16T13:10:47.792Z"
   },
   {
    "duration": 52,
    "start_time": "2022-12-16T13:11:40.173Z"
   },
   {
    "duration": 1325,
    "start_time": "2022-12-16T13:11:52.543Z"
   },
   {
    "duration": 41,
    "start_time": "2022-12-16T13:11:53.870Z"
   },
   {
    "duration": 110,
    "start_time": "2022-12-16T13:11:53.912Z"
   },
   {
    "duration": 462,
    "start_time": "2022-12-16T13:11:54.024Z"
   },
   {
    "duration": 443,
    "start_time": "2022-12-16T13:11:54.489Z"
   },
   {
    "duration": 3,
    "start_time": "2022-12-16T13:11:54.934Z"
   },
   {
    "duration": 51,
    "start_time": "2022-12-16T13:11:54.940Z"
   },
   {
    "duration": 0,
    "start_time": "2022-12-16T13:11:54.992Z"
   },
   {
    "duration": 0,
    "start_time": "2022-12-16T13:11:54.994Z"
   },
   {
    "duration": 0,
    "start_time": "2022-12-16T13:11:54.995Z"
   },
   {
    "duration": 0,
    "start_time": "2022-12-16T13:11:54.996Z"
   },
   {
    "duration": 0,
    "start_time": "2022-12-16T13:11:54.997Z"
   },
   {
    "duration": 0,
    "start_time": "2022-12-16T13:11:54.998Z"
   },
   {
    "duration": 0,
    "start_time": "2022-12-16T13:11:54.999Z"
   },
   {
    "duration": 0,
    "start_time": "2022-12-16T13:11:55.000Z"
   },
   {
    "duration": 0,
    "start_time": "2022-12-16T13:11:55.001Z"
   },
   {
    "duration": 0,
    "start_time": "2022-12-16T13:11:55.002Z"
   },
   {
    "duration": 0,
    "start_time": "2022-12-16T13:11:55.006Z"
   },
   {
    "duration": 0,
    "start_time": "2022-12-16T13:11:55.007Z"
   },
   {
    "duration": 0,
    "start_time": "2022-12-16T13:11:55.008Z"
   },
   {
    "duration": 0,
    "start_time": "2022-12-16T13:11:55.009Z"
   },
   {
    "duration": 42,
    "start_time": "2022-12-16T13:13:12.906Z"
   },
   {
    "duration": 52,
    "start_time": "2022-12-16T13:13:27.935Z"
   },
   {
    "duration": 64,
    "start_time": "2022-12-16T13:14:05.055Z"
   },
   {
    "duration": 6,
    "start_time": "2022-12-16T13:14:31.544Z"
   },
   {
    "duration": 6,
    "start_time": "2022-12-16T13:15:19.382Z"
   },
   {
    "duration": 46,
    "start_time": "2022-12-16T13:16:50.742Z"
   },
   {
    "duration": 1307,
    "start_time": "2022-12-16T13:21:38.746Z"
   },
   {
    "duration": 40,
    "start_time": "2022-12-16T13:21:40.055Z"
   },
   {
    "duration": 95,
    "start_time": "2022-12-16T13:21:40.097Z"
   },
   {
    "duration": 423,
    "start_time": "2022-12-16T13:21:40.194Z"
   },
   {
    "duration": 442,
    "start_time": "2022-12-16T13:21:40.619Z"
   },
   {
    "duration": 4,
    "start_time": "2022-12-16T13:21:41.063Z"
   },
   {
    "duration": 9,
    "start_time": "2022-12-16T13:21:41.068Z"
   },
   {
    "duration": 46,
    "start_time": "2022-12-16T13:21:41.079Z"
   },
   {
    "duration": 0,
    "start_time": "2022-12-16T13:21:41.127Z"
   },
   {
    "duration": 0,
    "start_time": "2022-12-16T13:21:41.128Z"
   },
   {
    "duration": 0,
    "start_time": "2022-12-16T13:21:41.129Z"
   },
   {
    "duration": 0,
    "start_time": "2022-12-16T13:21:41.130Z"
   },
   {
    "duration": 0,
    "start_time": "2022-12-16T13:21:41.131Z"
   },
   {
    "duration": 0,
    "start_time": "2022-12-16T13:21:41.132Z"
   },
   {
    "duration": 0,
    "start_time": "2022-12-16T13:21:41.133Z"
   },
   {
    "duration": 0,
    "start_time": "2022-12-16T13:21:41.134Z"
   },
   {
    "duration": 0,
    "start_time": "2022-12-16T13:21:41.135Z"
   },
   {
    "duration": 0,
    "start_time": "2022-12-16T13:21:41.136Z"
   },
   {
    "duration": 0,
    "start_time": "2022-12-16T13:21:41.137Z"
   },
   {
    "duration": 0,
    "start_time": "2022-12-16T13:21:41.137Z"
   },
   {
    "duration": 0,
    "start_time": "2022-12-16T13:21:41.139Z"
   }
  ],
  "kernelspec": {
   "display_name": "Python 3 (ipykernel)",
   "language": "python",
   "name": "python3"
  },
  "language_info": {
   "codemirror_mode": {
    "name": "ipython",
    "version": 3
   },
   "file_extension": ".py",
   "mimetype": "text/x-python",
   "name": "python",
   "nbconvert_exporter": "python",
   "pygments_lexer": "ipython3",
   "version": "3.9.5"
  },
  "toc": {
   "base_numbering": 1,
   "nav_menu": {},
   "number_sections": true,
   "sideBar": true,
   "skip_h1_title": true,
   "title_cell": "Table of Contents",
   "title_sidebar": "Contents",
   "toc_cell": false,
   "toc_position": {},
   "toc_section_display": true,
   "toc_window_display": false
  }
 },
 "nbformat": 4,
 "nbformat_minor": 2
}
