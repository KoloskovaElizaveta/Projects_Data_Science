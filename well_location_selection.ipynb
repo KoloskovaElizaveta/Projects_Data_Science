{
 "cells": [
  {
   "cell_type": "markdown",
   "metadata": {},
   "source": [
    "# Выбор локации для скважины"
   ]
  },
  {
   "cell_type": "markdown",
   "metadata": {},
   "source": [
    "Допустим, вы работаете в добывающей компании «ГлавРосГосНефть». Нужно решить, где бурить новую скважину.\n",
    "\n",
    "Вам предоставлены пробы нефти в трёх регионах: в каждом 10 000 месторождений, где измерили качество нефти и объём её запасов. Постройте модель машинного обучения, которая поможет определить регион, где добыча принесёт наибольшую прибыль. Проанализируйте возможную прибыль и риски техникой *Bootstrap.*\n",
    "\n",
    "Шаги для выбора локации:\n",
    "\n",
    "- В избранном регионе ищут месторождения, для каждого определяют значения признаков;\n",
    "- Строят модель и оценивают объём запасов;\n",
    "- Выбирают месторождения с самым высокими оценками значений. Количество месторождений зависит от бюджета компании и стоимости разработки одной скважины;\n",
    "- Прибыль равна суммарной прибыли отобранных месторождений."
   ]
  },
  {
   "cell_type": "markdown",
   "metadata": {},
   "source": [
    "## Загрузка и подготовка данных"
   ]
  },
  {
   "cell_type": "code",
   "execution_count": 1,
   "metadata": {},
   "outputs": [
    {
     "name": "stdout",
     "output_type": "stream",
     "text": [
      "Collecting scikit-learn==1.1.3\n",
      "  Downloading scikit_learn-1.1.3-cp39-cp39-manylinux_2_17_x86_64.manylinux2014_x86_64.whl (30.8 MB)\n",
      "\u001b[K     |████████████████████████████████| 30.8 MB 46 kB/s  eta 0:00:01\n",
      "\u001b[?25hRequirement already satisfied: threadpoolctl>=2.0.0 in /opt/conda/lib/python3.9/site-packages (from scikit-learn==1.1.3) (3.1.0)\n",
      "Requirement already satisfied: joblib>=1.0.0 in /opt/conda/lib/python3.9/site-packages (from scikit-learn==1.1.3) (1.1.0)\n",
      "Requirement already satisfied: scipy>=1.3.2 in /opt/conda/lib/python3.9/site-packages (from scikit-learn==1.1.3) (1.9.1)\n",
      "Requirement already satisfied: numpy>=1.17.3 in /opt/conda/lib/python3.9/site-packages (from scikit-learn==1.1.3) (1.21.1)\n",
      "Installing collected packages: scikit-learn\n",
      "  Attempting uninstall: scikit-learn\n",
      "    Found existing installation: scikit-learn 0.24.1\n",
      "    Uninstalling scikit-learn-0.24.1:\n",
      "      Successfully uninstalled scikit-learn-0.24.1\n",
      "Successfully installed scikit-learn-1.1.3\n"
     ]
    }
   ],
   "source": [
    "import pandas as pd\n",
    "import numpy as np\n",
    "from scipy import stats as st\n",
    "import matplotlib\n",
    "import matplotlib.pyplot as plt\n",
    "import seaborn as sns\n",
    "!pip install scikit-learn==1.1.3\n",
    "from sklearn.model_selection import train_test_split\n",
    "from sklearn.preprocessing import StandardScaler\n",
    "from sklearn.linear_model import LinearRegression\n",
    "from sklearn.metrics import (\n",
    "    mean_squared_error,\n",
    "    r2_score\n",
    ")\n",
    "from IPython.display import display\n",
    "import warnings\n",
    "from scipy import stats"
   ]
  },
  {
   "cell_type": "markdown",
   "metadata": {},
   "source": [
    "### Загрузка и базовая проверка данных"
   ]
  },
  {
   "cell_type": "code",
   "execution_count": 2,
   "metadata": {},
   "outputs": [
    {
     "data": {
      "text/html": [
       "<div>\n",
       "<style scoped>\n",
       "    .dataframe tbody tr th:only-of-type {\n",
       "        vertical-align: middle;\n",
       "    }\n",
       "\n",
       "    .dataframe tbody tr th {\n",
       "        vertical-align: top;\n",
       "    }\n",
       "\n",
       "    .dataframe thead th {\n",
       "        text-align: right;\n",
       "    }\n",
       "</style>\n",
       "<table border=\"1\" class=\"dataframe\">\n",
       "  <thead>\n",
       "    <tr style=\"text-align: right;\">\n",
       "      <th></th>\n",
       "      <th>id</th>\n",
       "      <th>f0</th>\n",
       "      <th>f1</th>\n",
       "      <th>f2</th>\n",
       "      <th>product</th>\n",
       "    </tr>\n",
       "  </thead>\n",
       "  <tbody>\n",
       "    <tr>\n",
       "      <th>0</th>\n",
       "      <td>txEyH</td>\n",
       "      <td>0.705745</td>\n",
       "      <td>-0.497823</td>\n",
       "      <td>1.221170</td>\n",
       "      <td>105.280062</td>\n",
       "    </tr>\n",
       "    <tr>\n",
       "      <th>1</th>\n",
       "      <td>2acmU</td>\n",
       "      <td>1.334711</td>\n",
       "      <td>-0.340164</td>\n",
       "      <td>4.365080</td>\n",
       "      <td>73.037750</td>\n",
       "    </tr>\n",
       "    <tr>\n",
       "      <th>2</th>\n",
       "      <td>409Wp</td>\n",
       "      <td>1.022732</td>\n",
       "      <td>0.151990</td>\n",
       "      <td>1.419926</td>\n",
       "      <td>85.265647</td>\n",
       "    </tr>\n",
       "    <tr>\n",
       "      <th>3</th>\n",
       "      <td>iJLyR</td>\n",
       "      <td>-0.032172</td>\n",
       "      <td>0.139033</td>\n",
       "      <td>2.978566</td>\n",
       "      <td>168.620776</td>\n",
       "    </tr>\n",
       "    <tr>\n",
       "      <th>4</th>\n",
       "      <td>Xdl7t</td>\n",
       "      <td>1.988431</td>\n",
       "      <td>0.155413</td>\n",
       "      <td>4.751769</td>\n",
       "      <td>154.036647</td>\n",
       "    </tr>\n",
       "  </tbody>\n",
       "</table>\n",
       "</div>"
      ],
      "text/plain": [
       "      id        f0        f1        f2     product\n",
       "0  txEyH  0.705745 -0.497823  1.221170  105.280062\n",
       "1  2acmU  1.334711 -0.340164  4.365080   73.037750\n",
       "2  409Wp  1.022732  0.151990  1.419926   85.265647\n",
       "3  iJLyR -0.032172  0.139033  2.978566  168.620776\n",
       "4  Xdl7t  1.988431  0.155413  4.751769  154.036647"
      ]
     },
     "execution_count": 2,
     "metadata": {},
     "output_type": "execute_result"
    }
   ],
   "source": [
    "data_1 = pd.read_csv('/datasets/geo_data_0.csv') # данные по первому региону\n",
    "data_1.head()"
   ]
  },
  {
   "cell_type": "code",
   "execution_count": 3,
   "metadata": {},
   "outputs": [
    {
     "name": "stdout",
     "output_type": "stream",
     "text": [
      "<class 'pandas.core.frame.DataFrame'>\n",
      "RangeIndex: 100000 entries, 0 to 99999\n",
      "Data columns (total 5 columns):\n",
      " #   Column   Non-Null Count   Dtype  \n",
      "---  ------   --------------   -----  \n",
      " 0   id       100000 non-null  object \n",
      " 1   f0       100000 non-null  float64\n",
      " 2   f1       100000 non-null  float64\n",
      " 3   f2       100000 non-null  float64\n",
      " 4   product  100000 non-null  float64\n",
      "dtypes: float64(4), object(1)\n",
      "memory usage: 3.8+ MB\n"
     ]
    }
   ],
   "source": [
    "data_1.info()"
   ]
  },
  {
   "cell_type": "code",
   "execution_count": 4,
   "metadata": {},
   "outputs": [
    {
     "data": {
      "text/html": [
       "<div>\n",
       "<style scoped>\n",
       "    .dataframe tbody tr th:only-of-type {\n",
       "        vertical-align: middle;\n",
       "    }\n",
       "\n",
       "    .dataframe tbody tr th {\n",
       "        vertical-align: top;\n",
       "    }\n",
       "\n",
       "    .dataframe thead th {\n",
       "        text-align: right;\n",
       "    }\n",
       "</style>\n",
       "<table border=\"1\" class=\"dataframe\">\n",
       "  <thead>\n",
       "    <tr style=\"text-align: right;\">\n",
       "      <th></th>\n",
       "      <th>id</th>\n",
       "      <th>f0</th>\n",
       "      <th>f1</th>\n",
       "      <th>f2</th>\n",
       "      <th>product</th>\n",
       "    </tr>\n",
       "  </thead>\n",
       "  <tbody>\n",
       "    <tr>\n",
       "      <th>0</th>\n",
       "      <td>kBEdx</td>\n",
       "      <td>-15.001348</td>\n",
       "      <td>-8.276000</td>\n",
       "      <td>-0.005876</td>\n",
       "      <td>3.179103</td>\n",
       "    </tr>\n",
       "    <tr>\n",
       "      <th>1</th>\n",
       "      <td>62mP7</td>\n",
       "      <td>14.272088</td>\n",
       "      <td>-3.475083</td>\n",
       "      <td>0.999183</td>\n",
       "      <td>26.953261</td>\n",
       "    </tr>\n",
       "    <tr>\n",
       "      <th>2</th>\n",
       "      <td>vyE1P</td>\n",
       "      <td>6.263187</td>\n",
       "      <td>-5.948386</td>\n",
       "      <td>5.001160</td>\n",
       "      <td>134.766305</td>\n",
       "    </tr>\n",
       "    <tr>\n",
       "      <th>3</th>\n",
       "      <td>KcrkZ</td>\n",
       "      <td>-13.081196</td>\n",
       "      <td>-11.506057</td>\n",
       "      <td>4.999415</td>\n",
       "      <td>137.945408</td>\n",
       "    </tr>\n",
       "    <tr>\n",
       "      <th>4</th>\n",
       "      <td>AHL4O</td>\n",
       "      <td>12.702195</td>\n",
       "      <td>-8.147433</td>\n",
       "      <td>5.004363</td>\n",
       "      <td>134.766305</td>\n",
       "    </tr>\n",
       "  </tbody>\n",
       "</table>\n",
       "</div>"
      ],
      "text/plain": [
       "      id         f0         f1        f2     product\n",
       "0  kBEdx -15.001348  -8.276000 -0.005876    3.179103\n",
       "1  62mP7  14.272088  -3.475083  0.999183   26.953261\n",
       "2  vyE1P   6.263187  -5.948386  5.001160  134.766305\n",
       "3  KcrkZ -13.081196 -11.506057  4.999415  137.945408\n",
       "4  AHL4O  12.702195  -8.147433  5.004363  134.766305"
      ]
     },
     "execution_count": 4,
     "metadata": {},
     "output_type": "execute_result"
    }
   ],
   "source": [
    "data_2 = pd.read_csv('/datasets/geo_data_1.csv') # данные по второму региону\n",
    "data_2.head()"
   ]
  },
  {
   "cell_type": "code",
   "execution_count": 5,
   "metadata": {},
   "outputs": [
    {
     "name": "stdout",
     "output_type": "stream",
     "text": [
      "<class 'pandas.core.frame.DataFrame'>\n",
      "RangeIndex: 100000 entries, 0 to 99999\n",
      "Data columns (total 5 columns):\n",
      " #   Column   Non-Null Count   Dtype  \n",
      "---  ------   --------------   -----  \n",
      " 0   id       100000 non-null  object \n",
      " 1   f0       100000 non-null  float64\n",
      " 2   f1       100000 non-null  float64\n",
      " 3   f2       100000 non-null  float64\n",
      " 4   product  100000 non-null  float64\n",
      "dtypes: float64(4), object(1)\n",
      "memory usage: 3.8+ MB\n"
     ]
    }
   ],
   "source": [
    "data_2.info()"
   ]
  },
  {
   "cell_type": "code",
   "execution_count": 6,
   "metadata": {
    "scrolled": true
   },
   "outputs": [
    {
     "data": {
      "text/html": [
       "<div>\n",
       "<style scoped>\n",
       "    .dataframe tbody tr th:only-of-type {\n",
       "        vertical-align: middle;\n",
       "    }\n",
       "\n",
       "    .dataframe tbody tr th {\n",
       "        vertical-align: top;\n",
       "    }\n",
       "\n",
       "    .dataframe thead th {\n",
       "        text-align: right;\n",
       "    }\n",
       "</style>\n",
       "<table border=\"1\" class=\"dataframe\">\n",
       "  <thead>\n",
       "    <tr style=\"text-align: right;\">\n",
       "      <th></th>\n",
       "      <th>id</th>\n",
       "      <th>f0</th>\n",
       "      <th>f1</th>\n",
       "      <th>f2</th>\n",
       "      <th>product</th>\n",
       "    </tr>\n",
       "  </thead>\n",
       "  <tbody>\n",
       "    <tr>\n",
       "      <th>0</th>\n",
       "      <td>fwXo0</td>\n",
       "      <td>-1.146987</td>\n",
       "      <td>0.963328</td>\n",
       "      <td>-0.828965</td>\n",
       "      <td>27.758673</td>\n",
       "    </tr>\n",
       "    <tr>\n",
       "      <th>1</th>\n",
       "      <td>WJtFt</td>\n",
       "      <td>0.262778</td>\n",
       "      <td>0.269839</td>\n",
       "      <td>-2.530187</td>\n",
       "      <td>56.069697</td>\n",
       "    </tr>\n",
       "    <tr>\n",
       "      <th>2</th>\n",
       "      <td>ovLUW</td>\n",
       "      <td>0.194587</td>\n",
       "      <td>0.289035</td>\n",
       "      <td>-5.586433</td>\n",
       "      <td>62.871910</td>\n",
       "    </tr>\n",
       "    <tr>\n",
       "      <th>3</th>\n",
       "      <td>q6cA6</td>\n",
       "      <td>2.236060</td>\n",
       "      <td>-0.553760</td>\n",
       "      <td>0.930038</td>\n",
       "      <td>114.572842</td>\n",
       "    </tr>\n",
       "    <tr>\n",
       "      <th>4</th>\n",
       "      <td>WPMUX</td>\n",
       "      <td>-0.515993</td>\n",
       "      <td>1.716266</td>\n",
       "      <td>5.899011</td>\n",
       "      <td>149.600746</td>\n",
       "    </tr>\n",
       "  </tbody>\n",
       "</table>\n",
       "</div>"
      ],
      "text/plain": [
       "      id        f0        f1        f2     product\n",
       "0  fwXo0 -1.146987  0.963328 -0.828965   27.758673\n",
       "1  WJtFt  0.262778  0.269839 -2.530187   56.069697\n",
       "2  ovLUW  0.194587  0.289035 -5.586433   62.871910\n",
       "3  q6cA6  2.236060 -0.553760  0.930038  114.572842\n",
       "4  WPMUX -0.515993  1.716266  5.899011  149.600746"
      ]
     },
     "execution_count": 6,
     "metadata": {},
     "output_type": "execute_result"
    }
   ],
   "source": [
    "data_3 = pd.read_csv('/datasets/geo_data_2.csv') # данные по третьему региону\n",
    "data_3.head()"
   ]
  },
  {
   "cell_type": "code",
   "execution_count": 7,
   "metadata": {},
   "outputs": [
    {
     "name": "stdout",
     "output_type": "stream",
     "text": [
      "<class 'pandas.core.frame.DataFrame'>\n",
      "RangeIndex: 100000 entries, 0 to 99999\n",
      "Data columns (total 5 columns):\n",
      " #   Column   Non-Null Count   Dtype  \n",
      "---  ------   --------------   -----  \n",
      " 0   id       100000 non-null  object \n",
      " 1   f0       100000 non-null  float64\n",
      " 2   f1       100000 non-null  float64\n",
      " 3   f2       100000 non-null  float64\n",
      " 4   product  100000 non-null  float64\n",
      "dtypes: float64(4), object(1)\n",
      "memory usage: 3.8+ MB\n"
     ]
    }
   ],
   "source": [
    "data_3.info()"
   ]
  },
  {
   "cell_type": "markdown",
   "metadata": {},
   "source": [
    "**ВЫВОД** \n",
    "\n",
    "Все три датасета одинакового размера; пропусков и аномалий не обнаружено; типы данных в норме."
   ]
  },
  {
   "cell_type": "markdown",
   "metadata": {},
   "source": [
    "### Анализ целевого признака"
   ]
  },
  {
   "cell_type": "markdown",
   "metadata": {},
   "source": [
    "Проанализируем наш целнвой признак *- объем запаса нефти -* для каждого региона."
   ]
  },
  {
   "cell_type": "code",
   "execution_count": 8,
   "metadata": {},
   "outputs": [
    {
     "data": {
      "text/html": [
       "<div>\n",
       "<style scoped>\n",
       "    .dataframe tbody tr th:only-of-type {\n",
       "        vertical-align: middle;\n",
       "    }\n",
       "\n",
       "    .dataframe tbody tr th {\n",
       "        vertical-align: top;\n",
       "    }\n",
       "\n",
       "    .dataframe thead th {\n",
       "        text-align: right;\n",
       "    }\n",
       "</style>\n",
       "<table border=\"1\" class=\"dataframe\">\n",
       "  <thead>\n",
       "    <tr style=\"text-align: right;\">\n",
       "      <th></th>\n",
       "      <th>region_1</th>\n",
       "      <th>region_2</th>\n",
       "      <th>region_3</th>\n",
       "    </tr>\n",
       "  </thead>\n",
       "  <tbody>\n",
       "    <tr>\n",
       "      <th>0</th>\n",
       "      <td>105.280062</td>\n",
       "      <td>3.179103</td>\n",
       "      <td>27.758673</td>\n",
       "    </tr>\n",
       "    <tr>\n",
       "      <th>1</th>\n",
       "      <td>73.037750</td>\n",
       "      <td>26.953261</td>\n",
       "      <td>56.069697</td>\n",
       "    </tr>\n",
       "    <tr>\n",
       "      <th>2</th>\n",
       "      <td>85.265647</td>\n",
       "      <td>134.766305</td>\n",
       "      <td>62.871910</td>\n",
       "    </tr>\n",
       "    <tr>\n",
       "      <th>3</th>\n",
       "      <td>168.620776</td>\n",
       "      <td>137.945408</td>\n",
       "      <td>114.572842</td>\n",
       "    </tr>\n",
       "    <tr>\n",
       "      <th>4</th>\n",
       "      <td>154.036647</td>\n",
       "      <td>134.766305</td>\n",
       "      <td>149.600746</td>\n",
       "    </tr>\n",
       "  </tbody>\n",
       "</table>\n",
       "</div>"
      ],
      "text/plain": [
       "     region_1    region_2    region_3\n",
       "0  105.280062    3.179103   27.758673\n",
       "1   73.037750   26.953261   56.069697\n",
       "2   85.265647  134.766305   62.871910\n",
       "3  168.620776  137.945408  114.572842\n",
       "4  154.036647  134.766305  149.600746"
      ]
     },
     "execution_count": 8,
     "metadata": {},
     "output_type": "execute_result"
    }
   ],
   "source": [
    "#новая таюлица: значения целевого признака по регионам\n",
    "product = pd.concat([data_1['product'], data_2['product'], data_3['product']], axis= 1)\n",
    "product.columns = ['region_1', 'region_2', 'region_3']\n",
    "product.head()"
   ]
  },
  {
   "cell_type": "code",
   "execution_count": 9,
   "metadata": {
    "scrolled": true
   },
   "outputs": [
    {
     "data": {
      "image/png": "[encoded data removed]",
      "text/plain": [
       "<Figure size 1296x360 with 3 Axes>"
      ]
     },
     "metadata": {
      "needs_background": "light"
     },
     "output_type": "display_data"
    }
   ],
   "source": [
    "fig, axis = plt.subplots(1,3 , figsize=(18,5))\n",
    "\n",
    "sns.barplot(data=product, ax=axis[0]);\n",
    "sns.boxplot(data=product, ax=axis[1])\n",
    "\n",
    "plt.hist(product['region_1'], alpha = 0.8, label='region_1')\n",
    "plt.hist(product['region_2'], alpha = 0.5, label='region_2')\n",
    "plt.hist(product['region_3'], alpha = 0.5, label='region_3')\n",
    "plt.legend(loc='upper right')\n",
    "plt.show()"
   ]
  },
  {
   "cell_type": "markdown",
   "metadata": {},
   "source": [
    "***Вывод:*** первый и третий регионы имеют схожую картину по общему запасу сырья, медианному значению и распределению. Для второго региона имеем сниженные показатели и странное распределение."
   ]
  },
  {
   "cell_type": "markdown",
   "metadata": {},
   "source": [
    "Рассмотрим второй регион более подробно."
   ]
  },
  {
   "cell_type": "code",
   "execution_count": 10,
   "metadata": {},
   "outputs": [
    {
     "data": {
      "text/plain": [
       "count    100000.000000\n",
       "mean         68.825000\n",
       "std          45.944423\n",
       "min           0.000000\n",
       "25%          26.953261\n",
       "50%          57.085625\n",
       "75%         107.813044\n",
       "max         137.945408\n",
       "Name: product, dtype: float64"
      ]
     },
     "execution_count": 10,
     "metadata": {},
     "output_type": "execute_result"
    }
   ],
   "source": [
    "data_2['product'].describe()"
   ]
  },
  {
   "cell_type": "code",
   "execution_count": 11,
   "metadata": {},
   "outputs": [
    {
     "data": {
      "text/plain": [
       "8235"
      ]
     },
     "execution_count": 11,
     "metadata": {},
     "output_type": "execute_result"
    }
   ],
   "source": [
    "len(data_2.query('product == 0'))"
   ]
  },
  {
   "cell_type": "code",
   "execution_count": 12,
   "metadata": {},
   "outputs": [
    {
     "data": {
      "text/plain": [
       "50387"
      ]
     },
     "execution_count": 12,
     "metadata": {},
     "output_type": "execute_result"
    }
   ],
   "source": [
    "len(data_2.query('26.95 < product < 107.81'))"
   ]
  },
  {
   "cell_type": "markdown",
   "metadata": {},
   "source": [
    "***Вывод:*** половина скважин второго региона имеет либо очень маленький, либо очень большой запас сырья; вторая половина скважин имеет примерно один уровень запас сырья."
   ]
  },
  {
   "cell_type": "markdown",
   "metadata": {},
   "source": [
    "Проверим данные на корреляцию признаков и целевого признака."
   ]
  },
  {
   "cell_type": "code",
   "execution_count": 13,
   "metadata": {},
   "outputs": [
    {
     "data": {
      "image/png": "[encoded data removed]",
      "text/plain": [
       "<Figure size 1296x360 with 6 Axes>"
      ]
     },
     "metadata": {
      "needs_background": "light"
     },
     "output_type": "display_data"
    }
   ],
   "source": [
    "fig, axis = plt.subplots(1,3 , figsize=(18,5))\n",
    "\n",
    "sns.heatmap(data_1.corr(), annot=True, ax=axis[0]).set_title(\"регион 1\")\n",
    "sns.heatmap(data_2.corr(), annot=True, ax=axis[1]).set_title(\"регион 2\")\n",
    "sns.heatmap(data_3.corr(), annot=True, ax=axis[2]).set_title(\"регион 3\");"
   ]
  },
  {
   "cell_type": "markdown",
   "metadata": {},
   "source": [
    "***Вывод:*** для второго региона иммет абсолютную корреляцию между целевым признаком - product -  и признаком - f2; для других регионов значимых корреляций не выявлено."
   ]
  },
  {
   "cell_type": "markdown",
   "metadata": {},
   "source": [
    "### Формирование выборок"
   ]
  },
  {
   "cell_type": "markdown",
   "metadata": {},
   "source": [
    "Удалим столбец \"id\" из всех датасетов чтобы не перегружать модель.\n",
    "Сформируем тренировочную и валидационную выборки для каждого набора данных в соотношении 75:25."
   ]
  },
  {
   "cell_type": "code",
   "execution_count": 14,
   "metadata": {},
   "outputs": [],
   "source": [
    "data_1 = data_1.drop('id', axis=1)\n",
    "data_2 = data_2.drop('id', axis=1)\n",
    "data_3 = data_3.drop('id', axis=1)"
   ]
  },
  {
   "cell_type": "code",
   "execution_count": 16,
   "metadata": {},
   "outputs": [],
   "source": [
    "#фцнкция для формирование выборок\n",
    "def get_train_valid(data):\n",
    "    data_train, data_valid = train_test_split(data, test_size=0.25, random_state=12345)  \n",
    "    return data_train, data_valid\n",
    "\n",
    "#функции для формирования признаков и целевого признака\n",
    "def get_features(data, column_name):\n",
    "    return data.drop([column_name], axis = 1)\n",
    "def get_target(data, column_name):\n",
    "    return data[column_name]\n",
    "\n",
    "def get_features_target(data, column_name):\n",
    "    features = get_features(data, column_name)\n",
    "    target = get_target(data, column_name)\n",
    "    return features, target"
   ]
  },
  {
   "cell_type": "code",
   "execution_count": 17,
   "metadata": {},
   "outputs": [
    {
     "name": "stdout",
     "output_type": "stream",
     "text": [
      "Размер выборок для первого региона:\n",
      "(75000, 3) (75000,) (25000, 3) (25000,)\n",
      "\n",
      "Размер выборок для первого региона:\n",
      "(75000, 3) (75000,) (25000, 3) (25000,)\n",
      "\n",
      "Размер выборок для первого региона:\n",
      "(75000, 3) (75000,) (25000, 3) (25000,)\n",
      "\n"
     ]
    }
   ],
   "source": [
    "#выборки для первого региона\n",
    "data_1_train, data_1_valid = get_train_valid(data_1)\n",
    "features_1_train, target_1_train = get_features_target(data_1_train, 'product')\n",
    "features_1_valid, target_1_valid = get_features_target(data_1_valid, 'product')\n",
    "print('Размер выборок для первого региона:')\n",
    "print(features_1_train.shape, target_1_train.shape, features_1_valid.shape, target_1_valid.shape)\n",
    "print('')\n",
    "#выборки для второго региона\n",
    "data_2_train, data_2_valid = get_train_valid(data_2)\n",
    "features_2_train, target_2_train = get_features_target(data_2_train, 'product')\n",
    "features_2_valid, target_2_valid = get_features_target(data_2_valid, 'product')\n",
    "print('Размер выборок для первого региона:')\n",
    "print(features_2_train.shape, target_2_train.shape, features_2_valid.shape, target_2_valid.shape)\n",
    "print('')\n",
    "#выборки для третьего региона\n",
    "data_3_train, data_3_valid = get_train_valid(data_3)\n",
    "features_3_train, target_3_train = get_features_target(data_3_train, 'product')\n",
    "features_3_valid, target_3_valid = get_features_target(data_3_valid, 'product')\n",
    "print('Размер выборок для первого региона:')\n",
    "print(features_3_train.shape, target_3_train.shape, features_3_valid.shape, target_3_valid.shape)\n",
    "print('')"
   ]
  },
  {
   "cell_type": "markdown",
   "metadata": {},
   "source": [
    "### Стандартизация данных"
   ]
  },
  {
   "cell_type": "markdown",
   "metadata": {},
   "source": [
    "Приведем все численные признаки к одному масштабу."
   ]
  },
  {
   "cell_type": "code",
   "execution_count": 18,
   "metadata": {},
   "outputs": [],
   "source": [
    "def scaler(train_set, valid_set):\n",
    "    numeric = train_set.columns\n",
    "    scaler = StandardScaler()\n",
    "    scaler.fit(train_set[numeric])\n",
    "    train_set[numeric] = scaler.transform(train_set[numeric])\n",
    "    valid_set[numeric] = scaler.transform(valid_set[numeric])\n",
    "    return train_set, valid_set"
   ]
  },
  {
   "cell_type": "code",
   "execution_count": 19,
   "metadata": {},
   "outputs": [
    {
     "name": "stdout",
     "output_type": "stream",
     "text": [
      "Масштабированные признаки для первого региона\n",
      "             f0        f1        f2\n",
      "27212 -0.544828  1.390264 -0.094959\n",
      "7866   1.455912 -0.480422  1.209567\n",
      "62041  0.260460  0.825069 -0.204865\n",
      "70185 -1.837105  0.010321 -0.147634\n",
      "82230 -1.299243  0.987558  1.273181\n",
      "Масштабированные признаки для второго региона\n",
      "             f0        f1        f2\n",
      "27212 -0.850855  0.624428  0.296943\n",
      "7866   1.971935  1.832275  0.294333\n",
      "62041  1.079305  0.170127 -0.296418\n",
      "70185 -1.512028 -0.887837 -0.880471\n",
      "82230 -1.804775 -0.718311 -0.293255\n",
      "Масштабированные признаки для третьего региона\n",
      "             f0        f1        f2\n",
      "27212 -0.526160  0.776329 -0.400793\n",
      "7866  -0.889625 -0.404070 -1.222936\n",
      "62041 -1.133984  0.208576  0.296765\n",
      "70185  1.227045  1.570166 -0.764556\n",
      "82230 -0.194289  0.878312  0.840821\n"
     ]
    }
   ],
   "source": [
    "features_1_train, features_1_valid = scaler(features_1_train, features_1_valid)\n",
    "features_2_train, features_2_valid = scaler(features_2_train, features_2_valid)\n",
    "features_3_train, features_3_valid = scaler(features_3_train, features_3_valid)\n",
    "\n",
    "print('Масштабированные признаки для первого региона')\n",
    "print(features_1_train.head())\n",
    "print('Масштабированные признаки для второго региона')\n",
    "print(features_2_train.head())\n",
    "print('Масштабированные признаки для третьего региона')\n",
    "print(features_3_train.head())"
   ]
  },
  {
   "cell_type": "markdown",
   "metadata": {},
   "source": [
    "**ВЫВОД**\n",
    "- данные были успешно загружены\n",
    "- все три датасета одинакого размера\n",
    "- пропусков и аномалий не обнаружено\n",
    "- типы данных в норме\n",
    "- первый и третий регионы имеют схожую картину по общему запасу сырья, медианному значению и распределению\n",
    "- для второго региона имеем сниженные показатели и ненормальое распределение\n",
    "- для второго региона иммем абсолютную корреляцию между целевым признаком и признаком - f2\n",
    "- для других регионов значимых корреляций не выявлено\n",
    "- для всех датасетов удалили столбец 'id' чтобы не перегружать модель\n",
    "- сформировали тренировочную и валидационную выборки для каждого набора данных в соотношении 75:25\n",
    "- промасштабировали признаки для каждого набора данных"
   ]
  },
  {
   "cell_type": "markdown",
   "metadata": {},
   "source": [
    "## Обучение и проверка модели"
   ]
  },
  {
   "cell_type": "markdown",
   "metadata": {},
   "source": [
    "Обучим модель линейной регрессии и сделаем предсказания на валидационной выборке."
   ]
  },
  {
   "cell_type": "code",
   "execution_count": 22,
   "metadata": {},
   "outputs": [],
   "source": [
    "def fit_model(features, target):\n",
    "    model = LinearRegression()\n",
    "    model.fit(features, target)\n",
    "    return model\n",
    "\n",
    "# def predict_model(model, features_valid, index_values):\n",
    "#     predictions = model.predict(features_valid)\n",
    "#     np_array = np.array(predictions)\n",
    "#     predictions = pd.Series(np_array, index = index_values)\n",
    "#     return predictions\n",
    "\n",
    "def predict_model(model, features_valid):\n",
    "    predictions = model.predict(features_valid)\n",
    "    return predictions\n",
    "\n",
    "def get_metrics(target, predicted):\n",
    "    print(\"MSE =\", mean_squared_error(target, predicted))\n",
    "    print(\"RMSE =\", mean_squared_error(target, predicted) ** 0.5)\n",
    "    print(\"R2 =\", r2_score(target, predicted))\n",
    "\n",
    "def get_mean(title, value):\n",
    "    print(title, value.mean())"
   ]
  },
  {
   "cell_type": "code",
   "execution_count": 23,
   "metadata": {},
   "outputs": [
    {
     "name": "stdout",
     "output_type": "stream",
     "text": [
      "MSE = 1412.2129364399243\n",
      "RMSE = 37.5794217150813\n",
      "R2 = 0.27994321524487786\n",
      "Средний реальный запас сырья 92.07859674082927\n",
      "Средний предсказанный запас сырья 92.59256778438035\n"
     ]
    }
   ],
   "source": [
    "model_1 = fit_model(features_1_train, target_1_train)\n",
    "predictions_1 = predict_model(model_1, features_1_valid)\n",
    "get_metrics(target_1_valid, predictions_1)\n",
    "get_mean('Средний реальный запас сырья', target_1_valid)\n",
    "get_mean('Средний предсказанный запас сырья', predictions_1)"
   ]
  },
  {
   "cell_type": "code",
   "execution_count": 24,
   "metadata": {},
   "outputs": [
    {
     "name": "stdout",
     "output_type": "stream",
     "text": [
      "MSE = 0.7976263360391157\n",
      "RMSE = 0.893099286775617\n",
      "R2 = 0.9996233978805127\n",
      "Средний реальный запас сырья 68.72313602435997\n",
      "Средний предсказанный запас сырья 68.728546895446\n"
     ]
    }
   ],
   "source": [
    "model_2 = fit_model(features_2_train, target_2_train)\n",
    "predictions_2 = predict_model(model_2, features_2_valid)\n",
    "get_metrics(target_2_valid, predictions_2)\n",
    "get_mean('Средний реальный запас сырья', target_2_valid)\n",
    "get_mean('Средний предсказанный запас сырья', predictions_2)"
   ]
  },
  {
   "cell_type": "code",
   "execution_count": 25,
   "metadata": {},
   "outputs": [
    {
     "name": "stdout",
     "output_type": "stream",
     "text": [
      "MSE = 1602.3775813236196\n",
      "RMSE = 40.02970873393434\n",
      "R2 = 0.20524758386040443\n",
      "Средний реальный запас сырья 94.88423280885438\n",
      "Средний предсказанный запас сырья 94.96504596800489\n"
     ]
    }
   ],
   "source": [
    "model_3 = fit_model(features_3_train, target_3_train)\n",
    "predictions_3 = predict_model(model_3, features_3_valid)\n",
    "get_metrics(target_3_valid, predictions_3)\n",
    "get_mean('Средний реальный запас сырья', target_3_valid)\n",
    "get_mean('Средний предсказанный запас сырья', predictions_3)"
   ]
  },
  {
   "cell_type": "markdown",
   "metadata": {},
   "source": [
    "**ВЫВОД**  \n",
    "\n",
    "Самый высокий коэффициент детерминации у второго региона (а значит и модель самая качественная), второе место занимает модель первого  региона, третье - третьего региона."
   ]
  },
  {
   "cell_type": "markdown",
   "metadata": {},
   "source": [
    "## Подготовка к расчёту прибыли"
   ]
  },
  {
   "cell_type": "markdown",
   "metadata": {},
   "source": [
    "Вычислим необходимый объём сырья для безубыточной разработки новой скважины на основе следующих данных:"
   ]
  },
  {
   "cell_type": "code",
   "execution_count": 29,
   "metadata": {},
   "outputs": [],
   "source": [
    "budget = 10000000000 #бюджет на разработку скважин в регионе\n",
    "price = 450000 #доход с каждой единицы продукта\n",
    "points_per_budget = 200 #количество лучших точек для разработки"
   ]
  },
  {
   "cell_type": "code",
   "execution_count": 30,
   "metadata": {},
   "outputs": [],
   "source": [
    "volume = budget / price / points_per_budget #объём сырья для безубыточной разработки новой скважины"
   ]
  },
  {
   "cell_type": "code",
   "execution_count": 31,
   "metadata": {},
   "outputs": [],
   "source": [
    "mean_volume_1 = data_1['product'].mean() #cредний объем запасов скважины в 1 регионе\n",
    "mean_volume_2 = data_2['product'].mean() #cредний объем запасов скважины в 2 регионе\n",
    "mean_volume_3 = data_3['product'].mean() #cредний объем запасов скважины в 3 регионе"
   ]
  },
  {
   "cell_type": "code",
   "execution_count": 32,
   "metadata": {
    "scrolled": false
   },
   "outputs": [
    {
     "name": "stdout",
     "output_type": "stream",
     "text": [
      "Объем сырья для новой разработки скважины: 111.11\n",
      "Cредний объем запасов скважины в 1 регионе: 92.5\n",
      "Cредний объем запасов скважины в 2 регионе: 68.83\n",
      "Cредний объем запасов скважины в 3 регионе: 95.0\n"
     ]
    }
   ],
   "source": [
    "print('Объем сырья для новой разработки скважины:', round(volume,2))\n",
    "print('Cредний объем запасов скважины в 1 регионе:', mean_volume_1.round(2))\n",
    "print('Cредний объем запасов скважины в 2 регионе:', mean_volume_2.round(2))\n",
    "print('Cредний объем запасов скважины в 3 регионе:', mean_volume_3.round(2))"
   ]
  },
  {
   "cell_type": "markdown",
   "metadata": {},
   "source": [
    "**ВЫВОД**  \n",
    "\n",
    "Средний объем запасов скважины во всех регионах ниже необходимого для безубыточной разработки новой скважины; средний объем во втором регионе ниже, чем в первом и третьем."
   ]
  },
  {
   "cell_type": "markdown",
   "metadata": {},
   "source": [
    "## Расчёт прибыли и рисков "
   ]
  },
  {
   "cell_type": "markdown",
   "metadata": {},
   "source": [
    "Посчитаем риски и прибыль для каждого региона:\n",
    "- примените технику Bootstrap с 1000 выборок, чтобы найти распределение прибыли\n",
    "- найдите среднюю прибыль, 95%-й доверительный интервал и риск убытков"
   ]
  },
  {
   "cell_type": "code",
   "execution_count": 33,
   "metadata": {},
   "outputs": [],
   "source": [
    "def profit(target, predictions):\n",
    "    preds_sorted = pd.Series(predictions).sort_values(ascending=False)[:points_per_budget]\n",
    "    selected = target.reset_index(drop = True)[preds_sorted.index]\n",
    "\n",
    "    # КОД РЕВЬЮЕРА, debug\n",
    "    if sorted(preds_sorted[:points_per_budget].index) != sorted(selected.index):\n",
    "        print(\"index error!\")\n",
    "    if target.reset_index(drop = True)[preds_sorted.index].shape[0] > preds_sorted.shape[0]:\n",
    "        print(\"shape mismatch! actual targets shape:\", target[preds_sorted.index].shape[0])\n",
    "\n",
    "    return price * selected.sum() - budget"
   ]
  },
  {
   "cell_type": "code",
   "execution_count": 34,
   "metadata": {},
   "outputs": [
    {
     "data": {
      "text/plain": [
       "0    1\n",
       "1    2\n",
       "1    2\n",
       "3    5\n",
       "3    5\n",
       "dtype: int64"
      ]
     },
     "execution_count": 34,
     "metadata": {},
     "output_type": "execute_result"
    }
   ],
   "source": [
    "# КОД РЕВЬЮЕРА\n",
    "_preds = pd.Series([1, 2, 2, 5, 5], index=[0, 1, 1, 3, 3])\n",
    "_target = pd.Series([1, 2, 2, 5, 5], index=[0, 1, 1, 3, 3]).reset_index(drop=True)\n",
    "\n",
    "_target.loc[_preds.index]"
   ]
  },
  {
   "cell_type": "markdown",
   "metadata": {},
   "source": [
    "Вычислим прибыль по топ-200 предсказаниям для каждого региона."
   ]
  },
  {
   "cell_type": "code",
   "execution_count": 35,
   "metadata": {},
   "outputs": [
    {
     "name": "stdout",
     "output_type": "stream",
     "text": [
      "3320826043.14\n",
      "2415086696.68\n",
      "2710349963.6\n"
     ]
    }
   ],
   "source": [
    "profit_1 = profit(target_1_valid, predictions_1).round(2)\n",
    "profit_2 = profit(target_2_valid, predictions_2).round(2)\n",
    "profit_3 = profit(target_3_valid, predictions_3).round(2)\n",
    "print(profit_1)\n",
    "print(profit_2)\n",
    "print(profit_3)"
   ]
  },
  {
   "cell_type": "markdown",
   "metadata": {},
   "source": [
    "***Вывод:*** второй регион имеет минимальное значение прибыли; на втором месте третий регион, на первом первый регион."
   ]
  },
  {
   "cell_type": "code",
   "execution_count": 36,
   "metadata": {},
   "outputs": [],
   "source": [
    "state = np.random.RandomState(12345)\n",
    "def bootstrap(target, predictions):\n",
    "    \n",
    "    values = []\n",
    "    for i in range(1000):\n",
    "        value = pd.Series(predictions).sample(n=500, replace=True, random_state=state)\n",
    "        values.append(profit(target,value))\n",
    "        \n",
    "    return pd.Series(values)"
   ]
  },
  {
   "cell_type": "code",
   "execution_count": 37,
   "metadata": {
    "scrolled": false
   },
   "outputs": [],
   "source": [
    "bootstrap_1 = bootstrap(target_1_valid, predictions_1)\n",
    "bootstrap_2 = bootstrap(target_2_valid, predictions_2)\n",
    "bootstrap_3 = bootstrap(target_3_valid, predictions_3)"
   ]
  },
  {
   "cell_type": "code",
   "execution_count": 38,
   "metadata": {},
   "outputs": [],
   "source": [
    "def metrics(bootstrap):\n",
    "    print(\"Средняя выручка:\", bootstrap.mean().round(1))\n",
    "    print(\"95%-й доверительный интервал: (\", bootstrap.quantile(0.025).round(2), ',', bootstrap.quantile(0.975).round(2), ')')\n",
    "    print(\"Риск:\", st.percentileofscore(bootstrap, 0).round(2), '%')"
   ]
  },
  {
   "cell_type": "code",
   "execution_count": 39,
   "metadata": {},
   "outputs": [
    {
     "name": "stdout",
     "output_type": "stream",
     "text": [
      "Средняя выручка: 396164984.8\n",
      "95%-й доверительный интервал: ( -111215545.89 , 909766941.55 )\n",
      "Риск: 6.9 %\n"
     ]
    }
   ],
   "source": [
    "metrics(bootstrap_1)"
   ]
  },
  {
   "cell_type": "code",
   "execution_count": 40,
   "metadata": {},
   "outputs": [
    {
     "name": "stdout",
     "output_type": "stream",
     "text": [
      "Средняя выручка: 461155817.3\n",
      "95%-й доверительный интервал: ( 78050810.75 , 862952060.26 )\n",
      "Риск: 0.7 %\n"
     ]
    }
   ],
   "source": [
    "metrics(bootstrap_2)"
   ]
  },
  {
   "cell_type": "code",
   "execution_count": 41,
   "metadata": {
    "scrolled": false
   },
   "outputs": [
    {
     "name": "stdout",
     "output_type": "stream",
     "text": [
      "Средняя выручка: 392950475.2\n",
      "95%-й доверительный интервал: ( -112227625.38 , 934562914.55 )\n",
      "Риск: 6.5 %\n"
     ]
    }
   ],
   "source": [
    "metrics(bootstrap_3)"
   ]
  },
  {
   "cell_type": "code",
   "execution_count": 42,
   "metadata": {
    "scrolled": false
   },
   "outputs": [
    {
     "data": {
      "image/png": "[encoded data removed]",
      "text/plain": [
       "<Figure size 1296x360 with 2 Axes>"
      ]
     },
     "metadata": {
      "needs_background": "light"
     },
     "output_type": "display_data"
    }
   ],
   "source": [
    "bootstrap = pd.concat([bootstrap_1, bootstrap_2, bootstrap_3], axis= 1)\n",
    "bootstrap.columns = ['bootstrap_1', 'bootstrap_2', 'bootstrap_3']\n",
    "\n",
    "fig, axis = plt.subplots(1,2 , figsize=(18,5))\n",
    "\n",
    "sns.boxplot(data=product, ax=axis[0])\n",
    "plt.hist(bootstrap_1, alpha = 0.7, label='bootstrap_1')\n",
    "plt.hist(bootstrap_2, alpha = 0.5, label='bootstrap_2')\n",
    "plt.hist(bootstrap_3, alpha = 0.5, label='bootstrap_3')\n",
    "plt.legend(loc='upper right')\n",
    "plt.show()"
   ]
  },
  {
   "cell_type": "code",
   "execution_count": 48,
   "metadata": {},
   "outputs": [
    {
     "data": {
      "image/png": "[encoded data removed]",
      "text/plain": [
       "<Figure size 432x288 with 1 Axes>"
      ]
     },
     "metadata": {
      "needs_background": "light"
     },
     "output_type": "display_data"
    }
   ],
   "source": [
    "# КОД РЕВЬЮЕРА\n",
    "sns.boxplot(data=bootstrap)\n",
    "plt.title(\"Выборочные прибыли\")\n",
    "plt.show()"
   ]
  },
  {
   "cell_type": "markdown",
   "metadata": {},
   "source": [
    "**ВЫВОД** \n",
    "\n",
    "***Cамый перспективный регион для новых разработок - второй т.к. имеет минимальный риск убытков в 0.7%, что удовлетворяет условию задания.***."
   ]
  },
  {
   "cell_type": "code",
   "execution_count": null,
   "metadata": {},
   "outputs": [],
   "source": []
  }
 ],
 "metadata": {
  "ExecuteTimeLog": [
   {
    "duration": 394,
    "start_time": "2023-01-16T11:52:04.727Z"
   },
   {
    "duration": 399,
    "start_time": "2023-01-16T11:53:17.275Z"
   },
   {
    "duration": 154,
    "start_time": "2023-01-16T11:53:23.000Z"
   },
   {
    "duration": 426,
    "start_time": "2023-01-16T11:54:01.864Z"
   },
   {
    "duration": 197,
    "start_time": "2023-01-16T11:54:02.291Z"
   },
   {
    "duration": 797,
    "start_time": "2023-01-16T11:54:56.351Z"
   },
   {
    "duration": 643,
    "start_time": "2023-01-16T11:55:22.524Z"
   },
   {
    "duration": 3,
    "start_time": "2023-01-16T11:57:16.035Z"
   },
   {
    "duration": 147,
    "start_time": "2023-01-16T11:57:16.040Z"
   },
   {
    "duration": 158,
    "start_time": "2023-01-16T11:57:16.188Z"
   },
   {
    "duration": 183,
    "start_time": "2023-01-16T11:57:16.348Z"
   },
   {
    "duration": 26,
    "start_time": "2023-01-16T11:57:35.514Z"
   },
   {
    "duration": 13,
    "start_time": "2023-01-16T11:58:00.306Z"
   },
   {
    "duration": 16,
    "start_time": "2023-01-16T11:58:13.766Z"
   },
   {
    "duration": 590,
    "start_time": "2023-01-16T12:02:47.594Z"
   },
   {
    "duration": 121,
    "start_time": "2023-01-16T12:03:06.617Z"
   },
   {
    "duration": 7,
    "start_time": "2023-01-16T12:03:12.997Z"
   },
   {
    "duration": 144,
    "start_time": "2023-01-16T12:09:47.132Z"
   },
   {
    "duration": 138,
    "start_time": "2023-01-16T12:09:59.000Z"
   },
   {
    "duration": 134,
    "start_time": "2023-01-16T12:10:40.790Z"
   },
   {
    "duration": 141,
    "start_time": "2023-01-16T12:10:47.100Z"
   },
   {
    "duration": 155,
    "start_time": "2023-01-16T12:10:52.572Z"
   },
   {
    "duration": 21,
    "start_time": "2023-01-16T12:11:39.942Z"
   },
   {
    "duration": 67,
    "start_time": "2023-01-16T12:12:17.066Z"
   },
   {
    "duration": 56,
    "start_time": "2023-01-16T12:12:23.598Z"
   },
   {
    "duration": 52,
    "start_time": "2023-01-16T12:12:34.510Z"
   },
   {
    "duration": 40,
    "start_time": "2023-01-16T12:12:49.971Z"
   },
   {
    "duration": 14,
    "start_time": "2023-01-16T12:13:20.735Z"
   },
   {
    "duration": 27,
    "start_time": "2023-01-16T12:14:05.725Z"
   },
   {
    "duration": 141,
    "start_time": "2023-01-16T12:15:56.080Z"
   },
   {
    "duration": 353,
    "start_time": "2023-01-17T13:27:01.861Z"
   },
   {
    "duration": 518,
    "start_time": "2023-01-17T13:27:02.216Z"
   },
   {
    "duration": 13,
    "start_time": "2023-01-17T13:27:02.736Z"
   },
   {
    "duration": 199,
    "start_time": "2023-01-17T13:27:02.750Z"
   },
   {
    "duration": 12,
    "start_time": "2023-01-17T13:27:02.951Z"
   },
   {
    "duration": 199,
    "start_time": "2023-01-17T13:27:02.964Z"
   },
   {
    "duration": 12,
    "start_time": "2023-01-17T13:27:03.165Z"
   },
   {
    "duration": 28,
    "start_time": "2023-01-17T13:27:03.178Z"
   },
   {
    "duration": 66,
    "start_time": "2023-01-17T13:27:11.350Z"
   },
   {
    "duration": 10,
    "start_time": "2023-01-17T13:27:53.280Z"
   },
   {
    "duration": 10,
    "start_time": "2023-01-17T13:28:29.227Z"
   },
   {
    "duration": 10,
    "start_time": "2023-01-17T13:28:40.181Z"
   },
   {
    "duration": 10,
    "start_time": "2023-01-17T13:28:57.832Z"
   },
   {
    "duration": 410,
    "start_time": "2023-01-17T13:29:15.340Z"
   },
   {
    "duration": 144,
    "start_time": "2023-01-17T13:29:15.753Z"
   },
   {
    "duration": 13,
    "start_time": "2023-01-17T13:29:15.898Z"
   },
   {
    "duration": 147,
    "start_time": "2023-01-17T13:29:15.912Z"
   },
   {
    "duration": 12,
    "start_time": "2023-01-17T13:29:16.061Z"
   },
   {
    "duration": 159,
    "start_time": "2023-01-17T13:29:16.074Z"
   },
   {
    "duration": 14,
    "start_time": "2023-01-17T13:29:16.235Z"
   },
   {
    "duration": 8,
    "start_time": "2023-01-17T13:29:20.282Z"
   },
   {
    "duration": 10,
    "start_time": "2023-01-17T13:29:41.278Z"
   },
   {
    "duration": 377,
    "start_time": "2023-01-17T13:30:17.541Z"
   },
   {
    "duration": 138,
    "start_time": "2023-01-17T13:30:17.920Z"
   },
   {
    "duration": 13,
    "start_time": "2023-01-17T13:30:18.060Z"
   },
   {
    "duration": 138,
    "start_time": "2023-01-17T13:30:18.075Z"
   },
   {
    "duration": 16,
    "start_time": "2023-01-17T13:30:18.215Z"
   },
   {
    "duration": 139,
    "start_time": "2023-01-17T13:30:18.233Z"
   },
   {
    "duration": 12,
    "start_time": "2023-01-17T13:30:18.374Z"
   },
   {
    "duration": 30,
    "start_time": "2023-01-17T13:30:18.387Z"
   },
   {
    "duration": 61,
    "start_time": "2023-01-17T13:31:50.953Z"
   },
   {
    "duration": 668,
    "start_time": "2023-01-17T13:32:38.591Z"
   },
   {
    "duration": 41,
    "start_time": "2023-01-17T13:32:48.404Z"
   },
   {
    "duration": 24,
    "start_time": "2023-01-17T13:42:24.885Z"
   },
   {
    "duration": 58,
    "start_time": "2023-01-17T13:43:09.889Z"
   },
   {
    "duration": 31,
    "start_time": "2023-01-17T13:43:44.448Z"
   },
   {
    "duration": 47,
    "start_time": "2023-01-20T13:14:26.110Z"
   },
   {
    "duration": 1117,
    "start_time": "2023-01-20T13:14:36.929Z"
   },
   {
    "duration": 512,
    "start_time": "2023-01-20T13:14:38.048Z"
   },
   {
    "duration": 13,
    "start_time": "2023-01-20T13:14:38.562Z"
   },
   {
    "duration": 259,
    "start_time": "2023-01-20T13:14:38.577Z"
   },
   {
    "duration": 13,
    "start_time": "2023-01-20T13:14:38.838Z"
   },
   {
    "duration": 221,
    "start_time": "2023-01-20T13:14:38.853Z"
   },
   {
    "duration": 13,
    "start_time": "2023-01-20T13:14:39.076Z"
   },
   {
    "duration": 39,
    "start_time": "2023-01-20T13:14:39.091Z"
   },
   {
    "duration": 163,
    "start_time": "2023-01-20T13:14:39.132Z"
   },
   {
    "duration": 39,
    "start_time": "2023-01-20T13:14:53.525Z"
   },
   {
    "duration": 36,
    "start_time": "2023-01-20T13:15:11.164Z"
   },
   {
    "duration": 37,
    "start_time": "2023-01-20T13:15:29.892Z"
   },
   {
    "duration": 17,
    "start_time": "2023-01-20T13:17:59.902Z"
   },
   {
    "duration": 1096,
    "start_time": "2023-01-20T13:18:13.608Z"
   },
   {
    "duration": 144,
    "start_time": "2023-01-20T13:18:14.706Z"
   },
   {
    "duration": 15,
    "start_time": "2023-01-20T13:18:14.852Z"
   },
   {
    "duration": 128,
    "start_time": "2023-01-20T13:18:14.868Z"
   },
   {
    "duration": 13,
    "start_time": "2023-01-20T13:18:14.998Z"
   },
   {
    "duration": 120,
    "start_time": "2023-01-20T13:18:15.027Z"
   },
   {
    "duration": 14,
    "start_time": "2023-01-20T13:18:15.148Z"
   },
   {
    "duration": 11,
    "start_time": "2023-01-20T13:18:15.163Z"
   },
   {
    "duration": 62,
    "start_time": "2023-01-20T13:18:15.176Z"
   },
   {
    "duration": 110,
    "start_time": "2023-01-20T13:27:39.998Z"
   },
   {
    "duration": 565,
    "start_time": "2023-01-20T13:28:09.662Z"
   },
   {
    "duration": 316,
    "start_time": "2023-01-20T13:28:17.550Z"
   },
   {
    "duration": 350,
    "start_time": "2023-01-20T13:28:30.711Z"
   },
   {
    "duration": 351,
    "start_time": "2023-01-20T13:28:47.578Z"
   },
   {
    "duration": 269,
    "start_time": "2023-01-20T13:28:54.779Z"
   },
   {
    "duration": 289,
    "start_time": "2023-01-20T13:29:04.811Z"
   },
   {
    "duration": 45,
    "start_time": "2023-01-22T14:31:17.784Z"
   },
   {
    "duration": 1542,
    "start_time": "2023-01-22T14:31:27.711Z"
   },
   {
    "duration": 378,
    "start_time": "2023-01-22T14:31:29.255Z"
   },
   {
    "duration": 15,
    "start_time": "2023-01-22T14:31:29.635Z"
   },
   {
    "duration": 585,
    "start_time": "2023-01-22T14:31:29.652Z"
   },
   {
    "duration": 13,
    "start_time": "2023-01-22T14:31:30.239Z"
   },
   {
    "duration": 557,
    "start_time": "2023-01-22T14:31:30.254Z"
   },
   {
    "duration": 13,
    "start_time": "2023-01-22T14:31:30.812Z"
   },
   {
    "duration": 302,
    "start_time": "2023-01-22T14:31:30.827Z"
   },
   {
    "duration": 1007,
    "start_time": "2023-01-22T14:31:31.131Z"
   },
   {
    "duration": 468,
    "start_time": "2023-01-22T14:35:31.483Z"
   },
   {
    "duration": 244,
    "start_time": "2023-01-22T14:35:39.791Z"
   },
   {
    "duration": 256,
    "start_time": "2023-01-22T14:35:52.491Z"
   },
   {
    "duration": 276,
    "start_time": "2023-01-22T14:36:03.612Z"
   },
   {
    "duration": 255,
    "start_time": "2023-01-22T14:36:08.180Z"
   },
   {
    "duration": 87,
    "start_time": "2023-01-22T14:36:17.910Z"
   },
   {
    "duration": 73,
    "start_time": "2023-01-22T14:36:23.111Z"
   },
   {
    "duration": 999,
    "start_time": "2023-01-22T14:36:24.390Z"
   },
   {
    "duration": 93,
    "start_time": "2023-01-22T14:36:35.082Z"
   },
   {
    "duration": 80,
    "start_time": "2023-01-22T14:36:47.542Z"
   },
   {
    "duration": 271,
    "start_time": "2023-01-22T14:36:54.065Z"
   },
   {
    "duration": 287,
    "start_time": "2023-01-22T14:37:02.074Z"
   },
   {
    "duration": 73,
    "start_time": "2023-01-22T15:12:21.143Z"
   },
   {
    "duration": 1740,
    "start_time": "2023-01-22T15:12:26.344Z"
   },
   {
    "duration": 468,
    "start_time": "2023-01-22T15:12:28.086Z"
   },
   {
    "duration": 25,
    "start_time": "2023-01-22T15:12:28.556Z"
   },
   {
    "duration": 729,
    "start_time": "2023-01-22T15:12:28.584Z"
   },
   {
    "duration": 17,
    "start_time": "2023-01-22T15:12:29.315Z"
   },
   {
    "duration": 661,
    "start_time": "2023-01-22T15:12:29.334Z"
   },
   {
    "duration": 22,
    "start_time": "2023-01-22T15:12:29.997Z"
   },
   {
    "duration": 349,
    "start_time": "2023-01-22T15:12:30.021Z"
   },
   {
    "duration": 270,
    "start_time": "2023-01-22T15:12:41.874Z"
   },
   {
    "duration": 413,
    "start_time": "2023-01-22T15:13:04.844Z"
   },
   {
    "duration": 353,
    "start_time": "2023-01-22T15:13:10.383Z"
   },
   {
    "duration": 299,
    "start_time": "2023-01-22T15:13:16.523Z"
   },
   {
    "duration": 306,
    "start_time": "2023-01-22T15:14:53.024Z"
   },
   {
    "duration": 321,
    "start_time": "2023-01-22T15:18:24.367Z"
   },
   {
    "duration": 300,
    "start_time": "2023-01-22T15:18:29.204Z"
   },
   {
    "duration": 366,
    "start_time": "2023-01-22T15:18:43.565Z"
   },
   {
    "duration": 409,
    "start_time": "2023-01-22T15:18:48.417Z"
   },
   {
    "duration": 295,
    "start_time": "2023-01-22T15:18:58.992Z"
   },
   {
    "duration": 295,
    "start_time": "2023-01-22T15:19:02.647Z"
   },
   {
    "duration": 297,
    "start_time": "2023-01-22T15:22:55.376Z"
   },
   {
    "duration": 297,
    "start_time": "2023-01-22T15:23:05.665Z"
   },
   {
    "duration": 270,
    "start_time": "2023-01-22T15:23:10.274Z"
   },
   {
    "duration": 414,
    "start_time": "2023-01-22T15:23:15.704Z"
   },
   {
    "duration": 293,
    "start_time": "2023-01-22T15:23:20.975Z"
   },
   {
    "duration": 280,
    "start_time": "2023-01-22T15:23:24.167Z"
   },
   {
    "duration": 290,
    "start_time": "2023-01-22T15:23:27.166Z"
   },
   {
    "duration": 322,
    "start_time": "2023-01-22T15:23:35.614Z"
   },
   {
    "duration": 309,
    "start_time": "2023-01-22T15:23:38.395Z"
   },
   {
    "duration": 339,
    "start_time": "2023-01-22T15:23:40.725Z"
   },
   {
    "duration": 296,
    "start_time": "2023-01-22T15:23:44.134Z"
   },
   {
    "duration": 477,
    "start_time": "2023-01-22T15:23:47.735Z"
   },
   {
    "duration": 324,
    "start_time": "2023-01-22T15:23:50.745Z"
   },
   {
    "duration": 301,
    "start_time": "2023-01-22T15:23:54.566Z"
   },
   {
    "duration": 287,
    "start_time": "2023-01-22T15:23:58.130Z"
   },
   {
    "duration": 316,
    "start_time": "2023-01-22T15:24:01.525Z"
   },
   {
    "duration": 330,
    "start_time": "2023-01-22T15:24:04.004Z"
   },
   {
    "duration": 324,
    "start_time": "2023-01-22T15:24:08.765Z"
   },
   {
    "duration": 315,
    "start_time": "2023-01-22T15:24:12.974Z"
   },
   {
    "duration": 316,
    "start_time": "2023-01-22T15:24:15.336Z"
   },
   {
    "duration": 465,
    "start_time": "2023-01-22T15:24:19.774Z"
   },
   {
    "duration": 282,
    "start_time": "2023-01-22T15:24:26.957Z"
   },
   {
    "duration": 318,
    "start_time": "2023-01-22T15:24:35.004Z"
   },
   {
    "duration": 312,
    "start_time": "2023-01-22T15:24:39.874Z"
   },
   {
    "duration": 300,
    "start_time": "2023-01-22T15:24:46.695Z"
   },
   {
    "duration": 331,
    "start_time": "2023-01-22T15:24:50.856Z"
   },
   {
    "duration": 303,
    "start_time": "2023-01-22T15:24:55.285Z"
   },
   {
    "duration": 299,
    "start_time": "2023-01-22T15:24:59.961Z"
   },
   {
    "duration": 290,
    "start_time": "2023-01-22T15:25:02.745Z"
   },
   {
    "duration": 318,
    "start_time": "2023-01-22T15:25:23.301Z"
   },
   {
    "duration": 470,
    "start_time": "2023-01-22T15:25:28.563Z"
   },
   {
    "duration": 300,
    "start_time": "2023-01-22T15:28:45.516Z"
   },
   {
    "duration": 299,
    "start_time": "2023-01-22T15:29:15.565Z"
   },
   {
    "duration": 335,
    "start_time": "2023-01-22T15:29:20.282Z"
   },
   {
    "duration": 307,
    "start_time": "2023-01-22T15:29:49.435Z"
   },
   {
    "duration": 289,
    "start_time": "2023-01-22T15:30:06.966Z"
   },
   {
    "duration": 296,
    "start_time": "2023-01-22T15:30:14.704Z"
   },
   {
    "duration": 306,
    "start_time": "2023-01-22T15:30:39.561Z"
   },
   {
    "duration": 301,
    "start_time": "2023-01-22T15:30:59.436Z"
   },
   {
    "duration": 290,
    "start_time": "2023-01-22T15:32:10.284Z"
   },
   {
    "duration": 482,
    "start_time": "2023-01-22T15:32:18.914Z"
   },
   {
    "duration": 299,
    "start_time": "2023-01-22T15:32:42.597Z"
   },
   {
    "duration": 297,
    "start_time": "2023-01-22T15:32:47.523Z"
   },
   {
    "duration": 312,
    "start_time": "2023-01-22T15:32:59.394Z"
   },
   {
    "duration": 299,
    "start_time": "2023-01-22T15:33:14.542Z"
   },
   {
    "duration": 292,
    "start_time": "2023-01-22T15:33:21.523Z"
   },
   {
    "duration": 309,
    "start_time": "2023-01-22T15:33:33.742Z"
   },
   {
    "duration": 324,
    "start_time": "2023-01-22T15:33:46.323Z"
   },
   {
    "duration": 1093,
    "start_time": "2023-01-22T15:34:40.193Z"
   },
   {
    "duration": 88,
    "start_time": "2023-01-22T15:34:54.083Z"
   },
   {
    "duration": 1309,
    "start_time": "2023-01-22T15:35:01.970Z"
   },
   {
    "duration": 356,
    "start_time": "2023-01-22T15:36:20.081Z"
   },
   {
    "duration": 290,
    "start_time": "2023-01-22T15:36:49.032Z"
   },
   {
    "duration": 280,
    "start_time": "2023-01-22T15:37:06.491Z"
   },
   {
    "duration": 375,
    "start_time": "2023-01-22T15:37:14.410Z"
   },
   {
    "duration": 9,
    "start_time": "2023-01-22T15:54:52.577Z"
   },
   {
    "duration": 11,
    "start_time": "2023-01-22T15:55:02.639Z"
   },
   {
    "duration": 5,
    "start_time": "2023-01-22T15:55:07.324Z"
   },
   {
    "duration": 16,
    "start_time": "2023-01-22T15:56:29.112Z"
   },
   {
    "duration": 738,
    "start_time": "2023-01-22T15:56:44.226Z"
   },
   {
    "duration": 716,
    "start_time": "2023-01-22T15:57:35.268Z"
   },
   {
    "duration": 11,
    "start_time": "2023-01-22T16:01:04.356Z"
   },
   {
    "duration": 13,
    "start_time": "2023-01-22T16:02:31.576Z"
   },
   {
    "duration": 11,
    "start_time": "2023-01-22T16:03:22.212Z"
   },
   {
    "duration": 15,
    "start_time": "2023-01-22T16:03:38.903Z"
   },
   {
    "duration": 85,
    "start_time": "2023-01-22T16:04:42.805Z"
   },
   {
    "duration": 1935,
    "start_time": "2023-01-22T16:04:47.830Z"
   },
   {
    "duration": 1906,
    "start_time": "2023-01-22T16:04:56.536Z"
   },
   {
    "duration": 2083,
    "start_time": "2023-01-22T16:06:13.036Z"
   },
   {
    "duration": 259,
    "start_time": "2023-01-22T16:06:43.286Z"
   },
   {
    "duration": 2213,
    "start_time": "2023-01-22T16:07:18.036Z"
   },
   {
    "duration": 251,
    "start_time": "2023-01-22T16:07:44.847Z"
   },
   {
    "duration": 2210,
    "start_time": "2023-01-22T16:07:58.216Z"
   },
   {
    "duration": 2764,
    "start_time": "2023-01-22T16:10:54.308Z"
   },
   {
    "duration": 2165,
    "start_time": "2023-01-22T16:13:26.508Z"
   },
   {
    "duration": 2233,
    "start_time": "2023-01-22T16:14:44.249Z"
   },
   {
    "duration": 2201,
    "start_time": "2023-01-22T16:15:07.339Z"
   },
   {
    "duration": 2290,
    "start_time": "2023-01-22T16:15:52.270Z"
   },
   {
    "duration": 2270,
    "start_time": "2023-01-22T16:16:10.178Z"
   },
   {
    "duration": 2289,
    "start_time": "2023-01-22T16:16:43.006Z"
   },
   {
    "duration": 2141,
    "start_time": "2023-01-22T16:18:50.290Z"
   },
   {
    "duration": 2179,
    "start_time": "2023-01-22T16:19:08.708Z"
   },
   {
    "duration": 2472,
    "start_time": "2023-01-22T16:19:57.610Z"
   },
   {
    "duration": 2201,
    "start_time": "2023-01-22T16:20:09.609Z"
   },
   {
    "duration": 14,
    "start_time": "2023-01-22T16:21:32.798Z"
   },
   {
    "duration": 11,
    "start_time": "2023-01-22T16:21:48.076Z"
   },
   {
    "duration": 2208,
    "start_time": "2023-01-22T16:24:07.569Z"
   },
   {
    "duration": 2199,
    "start_time": "2023-01-22T16:24:16.769Z"
   },
   {
    "duration": 1008,
    "start_time": "2023-01-22T16:25:04.348Z"
   },
   {
    "duration": 97,
    "start_time": "2023-01-22T16:26:40.376Z"
   },
   {
    "duration": 11,
    "start_time": "2023-01-22T16:29:00.648Z"
   },
   {
    "duration": 44,
    "start_time": "2023-01-22T16:29:10.902Z"
   },
   {
    "duration": 16,
    "start_time": "2023-01-22T16:30:00.798Z"
   },
   {
    "duration": 1413,
    "start_time": "2023-01-22T16:30:21.120Z"
   },
   {
    "duration": 151,
    "start_time": "2023-01-22T16:30:22.535Z"
   },
   {
    "duration": 15,
    "start_time": "2023-01-22T16:30:22.688Z"
   },
   {
    "duration": 139,
    "start_time": "2023-01-22T16:30:22.705Z"
   },
   {
    "duration": 14,
    "start_time": "2023-01-22T16:30:22.846Z"
   },
   {
    "duration": 136,
    "start_time": "2023-01-22T16:30:22.861Z"
   },
   {
    "duration": 13,
    "start_time": "2023-01-22T16:30:22.998Z"
   },
   {
    "duration": 9,
    "start_time": "2023-01-22T16:30:23.012Z"
   },
   {
    "duration": 2239,
    "start_time": "2023-01-22T16:30:23.023Z"
   },
   {
    "duration": 997,
    "start_time": "2023-01-22T16:30:25.264Z"
   },
   {
    "duration": 14,
    "start_time": "2023-01-22T16:30:26.264Z"
   },
   {
    "duration": 65,
    "start_time": "2023-01-22T16:30:26.280Z"
   },
   {
    "duration": 35,
    "start_time": "2023-01-22T16:30:39.709Z"
   },
   {
    "duration": 145,
    "start_time": "2023-01-22T16:40:32.819Z"
   },
   {
    "duration": 4,
    "start_time": "2023-01-22T16:41:08.249Z"
   },
   {
    "duration": 52,
    "start_time": "2023-01-22T16:41:13.206Z"
   },
   {
    "duration": 45,
    "start_time": "2023-01-22T16:41:58.940Z"
   },
   {
    "duration": 1327,
    "start_time": "2023-01-22T16:43:32.718Z"
   },
   {
    "duration": 0,
    "start_time": "2023-01-22T16:43:34.047Z"
   },
   {
    "duration": 0,
    "start_time": "2023-01-22T16:43:34.048Z"
   },
   {
    "duration": 0,
    "start_time": "2023-01-22T16:43:34.050Z"
   },
   {
    "duration": 0,
    "start_time": "2023-01-22T16:43:34.051Z"
   },
   {
    "duration": 0,
    "start_time": "2023-01-22T16:43:34.052Z"
   },
   {
    "duration": 0,
    "start_time": "2023-01-22T16:43:34.053Z"
   },
   {
    "duration": 0,
    "start_time": "2023-01-22T16:43:34.054Z"
   },
   {
    "duration": 0,
    "start_time": "2023-01-22T16:43:34.055Z"
   },
   {
    "duration": 0,
    "start_time": "2023-01-22T16:43:34.056Z"
   },
   {
    "duration": 0,
    "start_time": "2023-01-22T16:43:34.057Z"
   },
   {
    "duration": 0,
    "start_time": "2023-01-22T16:43:34.059Z"
   },
   {
    "duration": 16,
    "start_time": "2023-01-22T16:43:51.659Z"
   },
   {
    "duration": 0,
    "start_time": "2023-01-22T16:43:51.677Z"
   },
   {
    "duration": 0,
    "start_time": "2023-01-22T16:43:51.678Z"
   },
   {
    "duration": 0,
    "start_time": "2023-01-22T16:43:51.680Z"
   },
   {
    "duration": 0,
    "start_time": "2023-01-22T16:43:51.681Z"
   },
   {
    "duration": 0,
    "start_time": "2023-01-22T16:43:51.683Z"
   },
   {
    "duration": 0,
    "start_time": "2023-01-22T16:43:51.685Z"
   },
   {
    "duration": 0,
    "start_time": "2023-01-22T16:43:51.686Z"
   },
   {
    "duration": 0,
    "start_time": "2023-01-22T16:43:51.688Z"
   },
   {
    "duration": 0,
    "start_time": "2023-01-22T16:43:51.689Z"
   },
   {
    "duration": 0,
    "start_time": "2023-01-22T16:43:51.691Z"
   },
   {
    "duration": 0,
    "start_time": "2023-01-22T16:43:51.693Z"
   },
   {
    "duration": 1328,
    "start_time": "2023-01-22T16:44:03.069Z"
   },
   {
    "duration": 0,
    "start_time": "2023-01-22T16:44:04.399Z"
   },
   {
    "duration": 0,
    "start_time": "2023-01-22T16:44:04.400Z"
   },
   {
    "duration": 0,
    "start_time": "2023-01-22T16:44:04.401Z"
   },
   {
    "duration": 0,
    "start_time": "2023-01-22T16:44:04.402Z"
   },
   {
    "duration": 0,
    "start_time": "2023-01-22T16:44:04.403Z"
   },
   {
    "duration": 0,
    "start_time": "2023-01-22T16:44:04.404Z"
   },
   {
    "duration": 0,
    "start_time": "2023-01-22T16:44:04.405Z"
   },
   {
    "duration": 0,
    "start_time": "2023-01-22T16:44:04.406Z"
   },
   {
    "duration": 0,
    "start_time": "2023-01-22T16:44:04.407Z"
   },
   {
    "duration": 0,
    "start_time": "2023-01-22T16:44:04.408Z"
   },
   {
    "duration": 0,
    "start_time": "2023-01-22T16:44:04.409Z"
   },
   {
    "duration": 18,
    "start_time": "2023-01-22T16:44:38.168Z"
   },
   {
    "duration": 1189,
    "start_time": "2023-01-22T16:44:59.480Z"
   },
   {
    "duration": 5189,
    "start_time": "2023-01-22T16:46:39.503Z"
   },
   {
    "duration": 15,
    "start_time": "2023-01-22T16:47:23.002Z"
   },
   {
    "duration": 1277,
    "start_time": "2023-01-22T16:48:01.288Z"
   },
   {
    "duration": 148,
    "start_time": "2023-01-22T16:48:02.567Z"
   },
   {
    "duration": 15,
    "start_time": "2023-01-22T16:48:02.717Z"
   },
   {
    "duration": 128,
    "start_time": "2023-01-22T16:48:02.734Z"
   },
   {
    "duration": 14,
    "start_time": "2023-01-22T16:48:02.865Z"
   },
   {
    "duration": 137,
    "start_time": "2023-01-22T16:48:02.881Z"
   },
   {
    "duration": 14,
    "start_time": "2023-01-22T16:48:03.020Z"
   },
   {
    "duration": 11,
    "start_time": "2023-01-22T16:48:03.048Z"
   },
   {
    "duration": 2550,
    "start_time": "2023-01-22T16:48:03.061Z"
   },
   {
    "duration": 1142,
    "start_time": "2023-01-22T16:48:05.613Z"
   },
   {
    "duration": 13,
    "start_time": "2023-01-22T16:48:06.757Z"
   },
   {
    "duration": 76,
    "start_time": "2023-01-22T16:48:06.773Z"
   },
   {
    "duration": 183,
    "start_time": "2023-01-22T16:48:06.851Z"
   },
   {
    "duration": 2226,
    "start_time": "2023-01-22T16:52:11.802Z"
   },
   {
    "duration": 3427,
    "start_time": "2023-01-22T16:52:37.839Z"
   },
   {
    "duration": 153,
    "start_time": "2023-01-22T16:52:41.269Z"
   },
   {
    "duration": 17,
    "start_time": "2023-01-22T16:52:41.424Z"
   },
   {
    "duration": 148,
    "start_time": "2023-01-22T16:52:41.449Z"
   },
   {
    "duration": 15,
    "start_time": "2023-01-22T16:52:41.600Z"
   },
   {
    "duration": 146,
    "start_time": "2023-01-22T16:52:41.617Z"
   },
   {
    "duration": 15,
    "start_time": "2023-01-22T16:52:41.765Z"
   },
   {
    "duration": 13,
    "start_time": "2023-01-22T16:52:41.782Z"
   },
   {
    "duration": 2538,
    "start_time": "2023-01-22T16:52:41.797Z"
   },
   {
    "duration": 952,
    "start_time": "2023-01-22T16:52:44.337Z"
   },
   {
    "duration": 11,
    "start_time": "2023-01-22T16:52:45.291Z"
   },
   {
    "duration": 76,
    "start_time": "2023-01-22T16:52:45.305Z"
   },
   {
    "duration": 165,
    "start_time": "2023-01-22T16:53:03.753Z"
   },
   {
    "duration": 11,
    "start_time": "2023-01-22T16:55:52.737Z"
   },
   {
    "duration": 5,
    "start_time": "2023-01-22T16:56:34.087Z"
   },
   {
    "duration": 36,
    "start_time": "2023-01-22T16:57:05.673Z"
   },
   {
    "duration": 16,
    "start_time": "2023-01-22T16:57:53.279Z"
   },
   {
    "duration": 6,
    "start_time": "2023-01-22T16:58:01.561Z"
   },
   {
    "duration": 6,
    "start_time": "2023-01-22T16:58:31.585Z"
   },
   {
    "duration": 5,
    "start_time": "2023-01-22T16:58:38.057Z"
   },
   {
    "duration": 38,
    "start_time": "2023-01-22T17:03:46.837Z"
   },
   {
    "duration": 9,
    "start_time": "2023-01-22T17:04:32.158Z"
   },
   {
    "duration": 5,
    "start_time": "2023-01-22T17:04:38.867Z"
   },
   {
    "duration": 41,
    "start_time": "2023-01-22T17:07:09.667Z"
   },
   {
    "duration": 39,
    "start_time": "2023-01-22T17:07:26.581Z"
   },
   {
    "duration": 38,
    "start_time": "2023-01-22T17:07:45.847Z"
   },
   {
    "duration": 8,
    "start_time": "2023-01-22T17:07:53.930Z"
   },
   {
    "duration": 24,
    "start_time": "2023-01-22T17:07:56.609Z"
   },
   {
    "duration": 27,
    "start_time": "2023-01-22T17:11:30.277Z"
   },
   {
    "duration": 18,
    "start_time": "2023-01-22T17:12:51.050Z"
   },
   {
    "duration": 22,
    "start_time": "2023-01-22T17:13:17.976Z"
   },
   {
    "duration": 19,
    "start_time": "2023-01-22T17:13:28.809Z"
   },
   {
    "duration": 24,
    "start_time": "2023-01-22T17:13:36.300Z"
   },
   {
    "duration": 26,
    "start_time": "2023-01-22T17:14:03.020Z"
   },
   {
    "duration": 98,
    "start_time": "2023-01-22T17:17:36.989Z"
   },
   {
    "duration": 9127,
    "start_time": "2023-01-23T13:17:57.935Z"
   },
   {
    "duration": 123,
    "start_time": "2023-01-23T13:19:56.354Z"
   },
   {
    "duration": 21,
    "start_time": "2023-01-23T13:20:00.128Z"
   },
   {
    "duration": 4,
    "start_time": "2023-01-23T13:22:09.858Z"
   },
   {
    "duration": 12,
    "start_time": "2023-01-23T13:22:11.163Z"
   },
   {
    "duration": 3540,
    "start_time": "2023-01-23T13:22:22.775Z"
   },
   {
    "duration": 443,
    "start_time": "2023-01-23T13:22:26.317Z"
   },
   {
    "duration": 15,
    "start_time": "2023-01-23T13:22:26.762Z"
   },
   {
    "duration": 626,
    "start_time": "2023-01-23T13:22:26.778Z"
   },
   {
    "duration": 15,
    "start_time": "2023-01-23T13:22:27.407Z"
   },
   {
    "duration": 598,
    "start_time": "2023-01-23T13:22:27.424Z"
   },
   {
    "duration": 24,
    "start_time": "2023-01-23T13:22:28.024Z"
   },
   {
    "duration": 21,
    "start_time": "2023-01-23T13:22:28.050Z"
   },
   {
    "duration": 2651,
    "start_time": "2023-01-23T13:22:28.073Z"
   },
   {
    "duration": 1115,
    "start_time": "2023-01-23T13:22:30.727Z"
   },
   {
    "duration": 14,
    "start_time": "2023-01-23T13:22:31.844Z"
   },
   {
    "duration": 100,
    "start_time": "2023-01-23T13:22:31.860Z"
   },
   {
    "duration": 4,
    "start_time": "2023-01-23T13:22:31.962Z"
   },
   {
    "duration": 43,
    "start_time": "2023-01-23T13:22:31.969Z"
   },
   {
    "duration": 41,
    "start_time": "2023-01-23T13:22:32.014Z"
   },
   {
    "duration": 50,
    "start_time": "2023-01-23T13:22:32.057Z"
   },
   {
    "duration": 13,
    "start_time": "2023-01-23T13:22:32.109Z"
   },
   {
    "duration": 219,
    "start_time": "2023-01-23T13:22:32.124Z"
   },
   {
    "duration": 53,
    "start_time": "2023-01-23T13:23:01.996Z"
   },
   {
    "duration": 92,
    "start_time": "2023-01-23T13:23:11.754Z"
   },
   {
    "duration": 11596,
    "start_time": "2023-01-23T14:58:25.597Z"
   },
   {
    "duration": 518,
    "start_time": "2023-01-23T14:58:37.195Z"
   },
   {
    "duration": 15,
    "start_time": "2023-01-23T14:58:37.715Z"
   },
   {
    "duration": 744,
    "start_time": "2023-01-23T14:58:37.733Z"
   },
   {
    "duration": 22,
    "start_time": "2023-01-23T14:58:38.480Z"
   },
   {
    "duration": 674,
    "start_time": "2023-01-23T14:58:38.504Z"
   },
   {
    "duration": 15,
    "start_time": "2023-01-23T14:58:39.180Z"
   },
   {
    "duration": 11,
    "start_time": "2023-01-23T14:58:39.197Z"
   },
   {
    "duration": 2681,
    "start_time": "2023-01-23T14:58:39.209Z"
   },
   {
    "duration": 1139,
    "start_time": "2023-01-23T14:58:41.893Z"
   },
   {
    "duration": 25,
    "start_time": "2023-01-23T14:58:43.034Z"
   },
   {
    "duration": 96,
    "start_time": "2023-01-23T14:58:43.062Z"
   },
   {
    "duration": 16,
    "start_time": "2023-01-23T14:58:43.161Z"
   },
   {
    "duration": 66,
    "start_time": "2023-01-23T14:58:43.179Z"
   },
   {
    "duration": 59,
    "start_time": "2023-01-23T14:58:43.247Z"
   },
   {
    "duration": 25,
    "start_time": "2023-01-23T14:58:43.309Z"
   },
   {
    "duration": 44,
    "start_time": "2023-01-23T14:58:43.346Z"
   },
   {
    "duration": 254,
    "start_time": "2023-01-23T14:58:43.392Z"
   },
   {
    "duration": 129,
    "start_time": "2023-01-23T14:58:43.650Z"
   },
   {
    "duration": 175,
    "start_time": "2023-01-23T14:58:43.781Z"
   },
   {
    "duration": 3,
    "start_time": "2023-01-23T15:00:05.769Z"
   },
   {
    "duration": 3,
    "start_time": "2023-01-23T15:00:34.500Z"
   },
   {
    "duration": 21,
    "start_time": "2023-01-23T15:01:27.257Z"
   },
   {
    "duration": 17,
    "start_time": "2023-01-23T15:03:05.306Z"
   },
   {
    "duration": 2,
    "start_time": "2023-01-23T15:04:40.887Z"
   },
   {
    "duration": 95,
    "start_time": "2023-01-23T15:07:06.898Z"
   },
   {
    "duration": 3,
    "start_time": "2023-01-23T15:10:06.985Z"
   },
   {
    "duration": 4,
    "start_time": "2023-01-23T15:12:05.166Z"
   },
   {
    "duration": 7,
    "start_time": "2023-01-23T15:19:50.781Z"
   },
   {
    "duration": 5,
    "start_time": "2023-01-23T15:22:07.863Z"
   },
   {
    "duration": 110,
    "start_time": "2023-01-23T15:25:09.680Z"
   },
   {
    "duration": 140,
    "start_time": "2023-01-23T15:26:21.112Z"
   },
   {
    "duration": 6,
    "start_time": "2023-01-23T15:26:40.200Z"
   },
   {
    "duration": 3,
    "start_time": "2023-01-23T15:50:53.603Z"
   },
   {
    "duration": 5,
    "start_time": "2023-01-23T16:00:53.465Z"
   },
   {
    "duration": 7632,
    "start_time": "2023-01-23T16:17:08.853Z"
   },
   {
    "duration": 877,
    "start_time": "2023-01-23T16:17:16.488Z"
   },
   {
    "duration": 16,
    "start_time": "2023-01-23T16:17:17.367Z"
   },
   {
    "duration": 205,
    "start_time": "2023-01-23T16:17:17.385Z"
   },
   {
    "duration": 14,
    "start_time": "2023-01-23T16:17:17.592Z"
   },
   {
    "duration": 233,
    "start_time": "2023-01-23T16:17:17.608Z"
   },
   {
    "duration": 15,
    "start_time": "2023-01-23T16:17:17.843Z"
   },
   {
    "duration": 11,
    "start_time": "2023-01-23T16:17:17.860Z"
   },
   {
    "duration": 2375,
    "start_time": "2023-01-23T16:17:17.873Z"
   },
   {
    "duration": 1001,
    "start_time": "2023-01-23T16:17:20.250Z"
   },
   {
    "duration": 10,
    "start_time": "2023-01-23T16:17:21.252Z"
   },
   {
    "duration": 58,
    "start_time": "2023-01-23T16:17:21.263Z"
   },
   {
    "duration": 2,
    "start_time": "2023-01-23T16:17:21.323Z"
   },
   {
    "duration": 38,
    "start_time": "2023-01-23T16:17:21.326Z"
   },
   {
    "duration": 22,
    "start_time": "2023-01-23T16:17:21.365Z"
   },
   {
    "duration": 27,
    "start_time": "2023-01-23T16:17:21.389Z"
   },
   {
    "duration": 3,
    "start_time": "2023-01-23T16:17:21.418Z"
   },
   {
    "duration": 180,
    "start_time": "2023-01-23T16:17:21.422Z"
   },
   {
    "duration": 24,
    "start_time": "2023-01-23T16:17:21.604Z"
   },
   {
    "duration": 116,
    "start_time": "2023-01-23T16:17:21.700Z"
   },
   {
    "duration": 3,
    "start_time": "2023-01-23T16:17:21.817Z"
   },
   {
    "duration": 100,
    "start_time": "2023-01-23T16:17:21.900Z"
   },
   {
    "duration": 27,
    "start_time": "2023-01-23T16:17:22.001Z"
   },
   {
    "duration": 14,
    "start_time": "2023-01-23T16:17:22.030Z"
   },
   {
    "duration": 8,
    "start_time": "2023-01-23T16:17:22.046Z"
   },
   {
    "duration": 10,
    "start_time": "2023-01-23T16:17:22.056Z"
   },
   {
    "duration": 3706,
    "start_time": "2023-01-23T16:24:13.214Z"
   },
   {
    "duration": 577,
    "start_time": "2023-01-23T16:24:16.924Z"
   },
   {
    "duration": 17,
    "start_time": "2023-01-23T16:24:17.503Z"
   },
   {
    "duration": 203,
    "start_time": "2023-01-23T16:24:17.523Z"
   },
   {
    "duration": 16,
    "start_time": "2023-01-23T16:24:17.728Z"
   },
   {
    "duration": 225,
    "start_time": "2023-01-23T16:24:17.746Z"
   },
   {
    "duration": 15,
    "start_time": "2023-01-23T16:24:17.974Z"
   },
   {
    "duration": 12,
    "start_time": "2023-01-23T16:24:17.991Z"
   },
   {
    "duration": 2565,
    "start_time": "2023-01-23T16:24:18.005Z"
   },
   {
    "duration": 1013,
    "start_time": "2023-01-23T16:24:20.574Z"
   },
   {
    "duration": 13,
    "start_time": "2023-01-23T16:24:21.589Z"
   },
   {
    "duration": 71,
    "start_time": "2023-01-23T16:24:21.604Z"
   },
   {
    "duration": 2,
    "start_time": "2023-01-23T16:24:21.677Z"
   },
   {
    "duration": 29,
    "start_time": "2023-01-23T16:24:21.681Z"
   },
   {
    "duration": 18,
    "start_time": "2023-01-23T16:24:21.712Z"
   },
   {
    "duration": 21,
    "start_time": "2023-01-23T16:24:21.732Z"
   },
   {
    "duration": 12,
    "start_time": "2023-01-23T16:24:21.755Z"
   },
   {
    "duration": 136,
    "start_time": "2023-01-23T16:24:21.769Z"
   },
   {
    "duration": 112,
    "start_time": "2023-01-23T16:24:21.907Z"
   },
   {
    "duration": 184,
    "start_time": "2023-01-23T16:24:22.021Z"
   },
   {
    "duration": 8,
    "start_time": "2023-01-23T16:24:22.206Z"
   },
   {
    "duration": 85,
    "start_time": "2023-01-23T16:24:22.215Z"
   },
   {
    "duration": 10,
    "start_time": "2023-01-23T16:24:22.302Z"
   },
   {
    "duration": 87,
    "start_time": "2023-01-23T16:24:22.314Z"
   },
   {
    "duration": 9,
    "start_time": "2023-01-23T16:24:22.403Z"
   },
   {
    "duration": 8,
    "start_time": "2023-01-23T16:24:22.413Z"
   },
   {
    "duration": 3864,
    "start_time": "2023-01-23T16:29:13.977Z"
   },
   {
    "duration": 559,
    "start_time": "2023-01-23T16:29:17.844Z"
   },
   {
    "duration": 26,
    "start_time": "2023-01-23T16:29:18.410Z"
   },
   {
    "duration": 210,
    "start_time": "2023-01-23T16:29:18.438Z"
   },
   {
    "duration": 15,
    "start_time": "2023-01-23T16:29:18.650Z"
   },
   {
    "duration": 209,
    "start_time": "2023-01-23T16:29:18.667Z"
   },
   {
    "duration": 18,
    "start_time": "2023-01-23T16:29:18.878Z"
   },
   {
    "duration": 12,
    "start_time": "2023-01-23T16:29:18.897Z"
   },
   {
    "duration": 2520,
    "start_time": "2023-01-23T16:29:18.911Z"
   },
   {
    "duration": 1002,
    "start_time": "2023-01-23T16:29:21.433Z"
   },
   {
    "duration": 10,
    "start_time": "2023-01-23T16:29:22.437Z"
   },
   {
    "duration": 60,
    "start_time": "2023-01-23T16:29:22.449Z"
   },
   {
    "duration": 4,
    "start_time": "2023-01-23T16:29:22.510Z"
   },
   {
    "duration": 31,
    "start_time": "2023-01-23T16:29:22.517Z"
   },
   {
    "duration": 20,
    "start_time": "2023-01-23T16:29:22.549Z"
   },
   {
    "duration": 46,
    "start_time": "2023-01-23T16:29:22.570Z"
   },
   {
    "duration": 3,
    "start_time": "2023-01-23T16:29:22.617Z"
   },
   {
    "duration": 183,
    "start_time": "2023-01-23T16:29:22.622Z"
   },
   {
    "duration": 97,
    "start_time": "2023-01-23T16:29:22.806Z"
   },
   {
    "duration": 112,
    "start_time": "2023-01-23T16:29:22.905Z"
   },
   {
    "duration": 77,
    "start_time": "2023-01-23T16:29:23.022Z"
   },
   {
    "duration": 298,
    "start_time": "2023-01-23T16:29:23.101Z"
   },
   {
    "duration": 9,
    "start_time": "2023-01-23T16:29:23.401Z"
   },
   {
    "duration": 13,
    "start_time": "2023-01-23T16:29:23.411Z"
   },
   {
    "duration": 8,
    "start_time": "2023-01-23T16:29:23.426Z"
   },
   {
    "duration": 11,
    "start_time": "2023-01-23T16:29:23.435Z"
   },
   {
    "duration": 3435,
    "start_time": "2023-01-23T17:20:22.200Z"
   },
   {
    "duration": 507,
    "start_time": "2023-01-23T17:20:25.638Z"
   },
   {
    "duration": 14,
    "start_time": "2023-01-23T17:20:26.147Z"
   },
   {
    "duration": 182,
    "start_time": "2023-01-23T17:20:26.163Z"
   },
   {
    "duration": 16,
    "start_time": "2023-01-23T17:20:26.347Z"
   },
   {
    "duration": 199,
    "start_time": "2023-01-23T17:20:26.365Z"
   },
   {
    "duration": 13,
    "start_time": "2023-01-23T17:20:26.566Z"
   },
   {
    "duration": 23,
    "start_time": "2023-01-23T17:20:26.581Z"
   },
   {
    "duration": 2246,
    "start_time": "2023-01-23T17:20:26.606Z"
   },
   {
    "duration": 954,
    "start_time": "2023-01-23T17:20:28.854Z"
   },
   {
    "duration": 11,
    "start_time": "2023-01-23T17:20:29.810Z"
   },
   {
    "duration": 48,
    "start_time": "2023-01-23T17:20:29.823Z"
   },
   {
    "duration": 2,
    "start_time": "2023-01-23T17:20:29.873Z"
   },
   {
    "duration": 27,
    "start_time": "2023-01-23T17:20:29.898Z"
   },
   {
    "duration": 20,
    "start_time": "2023-01-23T17:20:29.927Z"
   },
   {
    "duration": 56,
    "start_time": "2023-01-23T17:20:29.949Z"
   },
   {
    "duration": 4,
    "start_time": "2023-01-23T17:20:30.006Z"
   },
   {
    "duration": 190,
    "start_time": "2023-01-23T17:20:30.012Z"
   },
   {
    "duration": 115,
    "start_time": "2023-01-23T17:20:30.203Z"
   },
   {
    "duration": 122,
    "start_time": "2023-01-23T17:20:30.404Z"
   },
   {
    "duration": 172,
    "start_time": "2023-01-23T17:20:30.528Z"
   },
   {
    "duration": 32,
    "start_time": "2023-01-23T17:20:30.702Z"
   },
   {
    "duration": 23,
    "start_time": "2023-01-23T17:20:30.736Z"
   },
   {
    "duration": 42,
    "start_time": "2023-01-23T17:20:30.761Z"
   },
   {
    "duration": 29,
    "start_time": "2023-01-23T17:20:30.805Z"
   },
   {
    "duration": 24,
    "start_time": "2023-01-23T17:20:30.835Z"
   },
   {
    "duration": 3522,
    "start_time": "2023-01-23T17:24:24.664Z"
   },
   {
    "duration": 559,
    "start_time": "2023-01-23T17:24:28.189Z"
   },
   {
    "duration": 17,
    "start_time": "2023-01-23T17:24:28.750Z"
   },
   {
    "duration": 210,
    "start_time": "2023-01-23T17:24:28.769Z"
   },
   {
    "duration": 16,
    "start_time": "2023-01-23T17:24:28.981Z"
   },
   {
    "duration": 211,
    "start_time": "2023-01-23T17:24:28.999Z"
   },
   {
    "duration": 15,
    "start_time": "2023-01-23T17:24:29.212Z"
   },
   {
    "duration": 10,
    "start_time": "2023-01-23T17:24:29.228Z"
   },
   {
    "duration": 2216,
    "start_time": "2023-01-23T17:24:29.240Z"
   },
   {
    "duration": 1103,
    "start_time": "2023-01-23T17:24:31.458Z"
   },
   {
    "duration": 10,
    "start_time": "2023-01-23T17:24:32.563Z"
   },
   {
    "duration": 59,
    "start_time": "2023-01-23T17:24:32.575Z"
   },
   {
    "duration": 3,
    "start_time": "2023-01-23T17:24:32.635Z"
   },
   {
    "duration": 25,
    "start_time": "2023-01-23T17:24:32.642Z"
   },
   {
    "duration": 40,
    "start_time": "2023-01-23T17:24:32.669Z"
   },
   {
    "duration": 22,
    "start_time": "2023-01-23T17:24:32.710Z"
   },
   {
    "duration": 3,
    "start_time": "2023-01-23T17:24:32.734Z"
   },
   {
    "duration": 160,
    "start_time": "2023-01-23T17:24:32.739Z"
   },
   {
    "duration": 199,
    "start_time": "2023-01-23T17:24:32.901Z"
   },
   {
    "duration": 111,
    "start_time": "2023-01-23T17:24:33.102Z"
   },
   {
    "duration": 85,
    "start_time": "2023-01-23T17:24:33.215Z"
   },
   {
    "duration": 104,
    "start_time": "2023-01-23T17:24:33.302Z"
   },
   {
    "duration": 7,
    "start_time": "2023-01-23T17:24:33.408Z"
   },
   {
    "duration": 9,
    "start_time": "2023-01-23T17:24:33.417Z"
   },
   {
    "duration": 5,
    "start_time": "2023-01-23T17:24:33.428Z"
   },
   {
    "duration": 9,
    "start_time": "2023-01-23T17:24:33.434Z"
   },
   {
    "duration": 3492,
    "start_time": "2023-01-23T17:24:55.764Z"
   },
   {
    "duration": 562,
    "start_time": "2023-01-23T17:24:59.259Z"
   },
   {
    "duration": 16,
    "start_time": "2023-01-23T17:24:59.823Z"
   },
   {
    "duration": 198,
    "start_time": "2023-01-23T17:24:59.840Z"
   },
   {
    "duration": 18,
    "start_time": "2023-01-23T17:25:00.040Z"
   },
   {
    "duration": 214,
    "start_time": "2023-01-23T17:25:00.060Z"
   },
   {
    "duration": 14,
    "start_time": "2023-01-23T17:25:00.276Z"
   },
   {
    "duration": 19,
    "start_time": "2023-01-23T17:25:00.292Z"
   },
   {
    "duration": 2210,
    "start_time": "2023-01-23T17:25:00.313Z"
   },
   {
    "duration": 997,
    "start_time": "2023-01-23T17:25:02.524Z"
   },
   {
    "duration": 10,
    "start_time": "2023-01-23T17:25:03.522Z"
   },
   {
    "duration": 68,
    "start_time": "2023-01-23T17:25:03.533Z"
   },
   {
    "duration": 2,
    "start_time": "2023-01-23T17:25:03.603Z"
   },
   {
    "duration": 34,
    "start_time": "2023-01-23T17:25:03.608Z"
   },
   {
    "duration": 38,
    "start_time": "2023-01-23T17:25:03.643Z"
   },
   {
    "duration": 35,
    "start_time": "2023-01-23T17:25:03.682Z"
   },
   {
    "duration": 25,
    "start_time": "2023-01-23T17:25:03.719Z"
   },
   {
    "duration": 160,
    "start_time": "2023-01-23T17:25:03.745Z"
   },
   {
    "duration": 207,
    "start_time": "2023-01-23T17:25:03.908Z"
   },
   {
    "duration": 281,
    "start_time": "2023-01-23T17:25:04.117Z"
   },
   {
    "duration": 16,
    "start_time": "2023-01-23T17:25:04.401Z"
   },
   {
    "duration": 52,
    "start_time": "2023-01-23T17:25:04.419Z"
   },
   {
    "duration": 21,
    "start_time": "2023-01-23T17:25:04.500Z"
   },
   {
    "duration": 60,
    "start_time": "2023-01-23T17:25:04.523Z"
   },
   {
    "duration": 50,
    "start_time": "2023-01-23T17:25:04.584Z"
   },
   {
    "duration": 40,
    "start_time": "2023-01-23T17:25:04.636Z"
   },
   {
    "duration": 3,
    "start_time": "2023-01-23T17:25:55.481Z"
   },
   {
    "duration": 5,
    "start_time": "2023-01-23T17:25:57.825Z"
   },
   {
    "duration": 5,
    "start_time": "2023-01-23T17:27:34.003Z"
   },
   {
    "duration": 717,
    "start_time": "2023-01-23T17:27:34.824Z"
   },
   {
    "duration": 3553,
    "start_time": "2023-01-23T17:27:54.790Z"
   },
   {
    "duration": 536,
    "start_time": "2023-01-23T17:27:58.345Z"
   },
   {
    "duration": 17,
    "start_time": "2023-01-23T17:27:58.882Z"
   },
   {
    "duration": 199,
    "start_time": "2023-01-23T17:27:58.901Z"
   },
   {
    "duration": 14,
    "start_time": "2023-01-23T17:27:59.103Z"
   },
   {
    "duration": 188,
    "start_time": "2023-01-23T17:27:59.119Z"
   },
   {
    "duration": 14,
    "start_time": "2023-01-23T17:27:59.308Z"
   },
   {
    "duration": 14,
    "start_time": "2023-01-23T17:27:59.324Z"
   },
   {
    "duration": 2266,
    "start_time": "2023-01-23T17:27:59.340Z"
   },
   {
    "duration": 969,
    "start_time": "2023-01-23T17:28:01.609Z"
   },
   {
    "duration": 19,
    "start_time": "2023-01-23T17:28:02.580Z"
   },
   {
    "duration": 68,
    "start_time": "2023-01-23T17:28:02.602Z"
   },
   {
    "duration": 11,
    "start_time": "2023-01-23T17:28:02.672Z"
   },
   {
    "duration": 34,
    "start_time": "2023-01-23T17:28:02.687Z"
   },
   {
    "duration": 20,
    "start_time": "2023-01-23T17:28:02.723Z"
   },
   {
    "duration": 24,
    "start_time": "2023-01-23T17:28:02.745Z"
   },
   {
    "duration": 28,
    "start_time": "2023-01-23T17:28:02.772Z"
   },
   {
    "duration": 199,
    "start_time": "2023-01-23T17:28:02.801Z"
   },
   {
    "duration": 98,
    "start_time": "2023-01-23T17:28:03.002Z"
   },
   {
    "duration": 121,
    "start_time": "2023-01-23T17:28:03.102Z"
   },
   {
    "duration": 86,
    "start_time": "2023-01-23T17:28:03.225Z"
   },
   {
    "duration": 87,
    "start_time": "2023-01-23T17:28:03.313Z"
   },
   {
    "duration": 12,
    "start_time": "2023-01-23T17:28:03.402Z"
   },
   {
    "duration": 37,
    "start_time": "2023-01-23T17:28:03.416Z"
   },
   {
    "duration": 13,
    "start_time": "2023-01-23T17:28:03.455Z"
   },
   {
    "duration": 28,
    "start_time": "2023-01-23T17:28:03.469Z"
   },
   {
    "duration": 9,
    "start_time": "2023-01-23T17:28:41.171Z"
   },
   {
    "duration": 3582,
    "start_time": "2023-01-23T17:28:50.743Z"
   },
   {
    "duration": 523,
    "start_time": "2023-01-23T17:28:54.327Z"
   },
   {
    "duration": 17,
    "start_time": "2023-01-23T17:28:54.852Z"
   },
   {
    "duration": 183,
    "start_time": "2023-01-23T17:28:54.871Z"
   },
   {
    "duration": 14,
    "start_time": "2023-01-23T17:28:55.056Z"
   },
   {
    "duration": 198,
    "start_time": "2023-01-23T17:28:55.072Z"
   },
   {
    "duration": 14,
    "start_time": "2023-01-23T17:28:55.271Z"
   },
   {
    "duration": 17,
    "start_time": "2023-01-23T17:28:55.286Z"
   },
   {
    "duration": 2316,
    "start_time": "2023-01-23T17:28:55.305Z"
   },
   {
    "duration": 978,
    "start_time": "2023-01-23T17:28:57.623Z"
   },
   {
    "duration": 10,
    "start_time": "2023-01-23T17:28:58.602Z"
   },
   {
    "duration": 42,
    "start_time": "2023-01-23T17:28:58.614Z"
   },
   {
    "duration": 3,
    "start_time": "2023-01-23T17:28:58.657Z"
   },
   {
    "duration": 53,
    "start_time": "2023-01-23T17:28:58.663Z"
   },
   {
    "duration": 18,
    "start_time": "2023-01-23T17:28:58.718Z"
   },
   {
    "duration": 20,
    "start_time": "2023-01-23T17:28:58.737Z"
   },
   {
    "duration": 41,
    "start_time": "2023-01-23T17:28:58.758Z"
   },
   {
    "duration": 204,
    "start_time": "2023-01-23T17:28:58.801Z"
   },
   {
    "duration": 197,
    "start_time": "2023-01-23T17:28:59.007Z"
   },
   {
    "duration": 113,
    "start_time": "2023-01-23T17:28:59.206Z"
   },
   {
    "duration": 3,
    "start_time": "2023-01-23T17:28:59.321Z"
   },
   {
    "duration": 106,
    "start_time": "2023-01-23T17:28:59.400Z"
   },
   {
    "duration": 12,
    "start_time": "2023-01-23T17:28:59.508Z"
   },
   {
    "duration": 8,
    "start_time": "2023-01-23T17:28:59.522Z"
   },
   {
    "duration": 9,
    "start_time": "2023-01-23T17:28:59.532Z"
   },
   {
    "duration": 5,
    "start_time": "2023-01-23T17:28:59.543Z"
   },
   {
    "duration": 118,
    "start_time": "2023-01-23T17:34:00.071Z"
   },
   {
    "duration": 3054,
    "start_time": "2023-01-23T17:34:24.929Z"
   },
   {
    "duration": 145,
    "start_time": "2023-01-23T17:34:27.986Z"
   },
   {
    "duration": 19,
    "start_time": "2023-01-23T17:34:28.132Z"
   },
   {
    "duration": 123,
    "start_time": "2023-01-23T17:34:28.153Z"
   },
   {
    "duration": 26,
    "start_time": "2023-01-23T17:34:28.278Z"
   },
   {
    "duration": 128,
    "start_time": "2023-01-23T17:34:28.305Z"
   },
   {
    "duration": 13,
    "start_time": "2023-01-23T17:34:28.435Z"
   },
   {
    "duration": 11,
    "start_time": "2023-01-23T17:34:28.450Z"
   },
   {
    "duration": 2151,
    "start_time": "2023-01-23T17:34:28.463Z"
   },
   {
    "duration": 975,
    "start_time": "2023-01-23T17:34:30.616Z"
   },
   {
    "duration": 10,
    "start_time": "2023-01-23T17:34:31.599Z"
   },
   {
    "duration": 68,
    "start_time": "2023-01-23T17:34:31.610Z"
   },
   {
    "duration": 3,
    "start_time": "2023-01-23T17:34:31.680Z"
   },
   {
    "duration": 43,
    "start_time": "2023-01-23T17:34:31.686Z"
   },
   {
    "duration": 17,
    "start_time": "2023-01-23T17:34:31.730Z"
   },
   {
    "duration": 29,
    "start_time": "2023-01-23T17:34:31.749Z"
   },
   {
    "duration": 12,
    "start_time": "2023-01-23T17:34:31.779Z"
   },
   {
    "duration": 116,
    "start_time": "2023-01-23T17:34:31.793Z"
   },
   {
    "duration": 189,
    "start_time": "2023-01-23T17:34:31.911Z"
   },
   {
    "duration": 123,
    "start_time": "2023-01-23T17:34:32.102Z"
   },
   {
    "duration": 180,
    "start_time": "2023-01-23T17:34:32.226Z"
   },
   {
    "duration": 6,
    "start_time": "2023-01-23T17:34:32.408Z"
   },
   {
    "duration": 9,
    "start_time": "2023-01-23T17:34:32.415Z"
   },
   {
    "duration": 6,
    "start_time": "2023-01-23T17:34:32.426Z"
   },
   {
    "duration": 9,
    "start_time": "2023-01-23T17:34:32.434Z"
   },
   {
    "duration": 14,
    "start_time": "2023-01-23T17:34:32.444Z"
   },
   {
    "duration": 4,
    "start_time": "2023-01-23T17:34:44.759Z"
   },
   {
    "duration": 107,
    "start_time": "2023-01-23T17:34:45.932Z"
   },
   {
    "duration": 2974,
    "start_time": "2023-01-23T18:02:11.254Z"
   },
   {
    "duration": 133,
    "start_time": "2023-01-23T18:02:14.230Z"
   },
   {
    "duration": 30,
    "start_time": "2023-01-23T18:02:14.364Z"
   },
   {
    "duration": 113,
    "start_time": "2023-01-23T18:02:14.396Z"
   },
   {
    "duration": 15,
    "start_time": "2023-01-23T18:02:14.511Z"
   },
   {
    "duration": 125,
    "start_time": "2023-01-23T18:02:14.527Z"
   },
   {
    "duration": 14,
    "start_time": "2023-01-23T18:02:14.653Z"
   },
   {
    "duration": 39,
    "start_time": "2023-01-23T18:02:14.668Z"
   },
   {
    "duration": 2230,
    "start_time": "2023-01-23T18:02:14.709Z"
   },
   {
    "duration": 1025,
    "start_time": "2023-01-23T18:02:16.941Z"
   },
   {
    "duration": 11,
    "start_time": "2023-01-23T18:02:17.968Z"
   },
   {
    "duration": 57,
    "start_time": "2023-01-23T18:02:17.981Z"
   },
   {
    "duration": 3,
    "start_time": "2023-01-23T18:02:18.039Z"
   },
   {
    "duration": 29,
    "start_time": "2023-01-23T18:02:18.045Z"
   },
   {
    "duration": 37,
    "start_time": "2023-01-23T18:02:18.076Z"
   },
   {
    "duration": 21,
    "start_time": "2023-01-23T18:02:18.115Z"
   },
   {
    "duration": 2,
    "start_time": "2023-01-23T18:02:18.138Z"
   },
   {
    "duration": 162,
    "start_time": "2023-01-23T18:02:18.142Z"
   },
   {
    "duration": 193,
    "start_time": "2023-01-23T18:02:18.305Z"
   },
   {
    "duration": 118,
    "start_time": "2023-01-23T18:02:18.501Z"
   },
   {
    "duration": 78,
    "start_time": "2023-01-23T18:02:18.621Z"
   },
   {
    "duration": 8,
    "start_time": "2023-01-23T18:02:18.701Z"
   },
   {
    "duration": 93,
    "start_time": "2023-01-23T18:02:18.712Z"
   },
   {
    "duration": 10,
    "start_time": "2023-01-23T18:02:18.807Z"
   },
   {
    "duration": 5,
    "start_time": "2023-01-23T18:02:18.819Z"
   },
   {
    "duration": 25,
    "start_time": "2023-01-23T18:02:18.826Z"
   },
   {
    "duration": 130,
    "start_time": "2023-01-23T18:02:18.853Z"
   },
   {
    "duration": 3,
    "start_time": "2023-01-23T18:10:58.531Z"
   },
   {
    "duration": 3067,
    "start_time": "2023-01-23T18:11:09.434Z"
   },
   {
    "duration": 136,
    "start_time": "2023-01-23T18:11:12.503Z"
   },
   {
    "duration": 13,
    "start_time": "2023-01-23T18:11:12.641Z"
   },
   {
    "duration": 143,
    "start_time": "2023-01-23T18:11:12.656Z"
   },
   {
    "duration": 12,
    "start_time": "2023-01-23T18:11:12.801Z"
   },
   {
    "duration": 124,
    "start_time": "2023-01-23T18:11:12.815Z"
   },
   {
    "duration": 12,
    "start_time": "2023-01-23T18:11:12.941Z"
   },
   {
    "duration": 21,
    "start_time": "2023-01-23T18:11:12.955Z"
   },
   {
    "duration": 2251,
    "start_time": "2023-01-23T18:11:12.977Z"
   },
   {
    "duration": 966,
    "start_time": "2023-01-23T18:11:15.229Z"
   },
   {
    "duration": 10,
    "start_time": "2023-01-23T18:11:16.199Z"
   },
   {
    "duration": 67,
    "start_time": "2023-01-23T18:11:16.211Z"
   },
   {
    "duration": 3,
    "start_time": "2023-01-23T18:11:16.279Z"
   },
   {
    "duration": 40,
    "start_time": "2023-01-23T18:11:16.284Z"
   },
   {
    "duration": 27,
    "start_time": "2023-01-23T18:11:16.326Z"
   },
   {
    "duration": 33,
    "start_time": "2023-01-23T18:11:16.356Z"
   },
   {
    "duration": 22,
    "start_time": "2023-01-23T18:11:16.394Z"
   },
   {
    "duration": 200,
    "start_time": "2023-01-23T18:11:16.418Z"
   },
   {
    "duration": 27,
    "start_time": "2023-01-23T18:11:16.699Z"
   },
   {
    "duration": 277,
    "start_time": "2023-01-23T18:11:16.728Z"
   },
   {
    "duration": 3,
    "start_time": "2023-01-23T18:11:17.008Z"
   },
   {
    "duration": 16,
    "start_time": "2023-01-23T18:11:17.099Z"
   },
   {
    "duration": 15,
    "start_time": "2023-01-23T18:11:17.117Z"
   },
   {
    "duration": 36,
    "start_time": "2023-01-23T18:11:17.134Z"
   },
   {
    "duration": 16,
    "start_time": "2023-01-23T18:11:17.172Z"
   },
   {
    "duration": 16,
    "start_time": "2023-01-23T18:11:17.191Z"
   },
   {
    "duration": 4,
    "start_time": "2023-01-23T18:13:06.489Z"
   },
   {
    "duration": 119,
    "start_time": "2023-01-23T18:13:08.873Z"
   },
   {
    "duration": 16,
    "start_time": "2023-01-23T18:13:34.761Z"
   },
   {
    "duration": 3,
    "start_time": "2023-01-23T18:15:17.982Z"
   },
   {
    "duration": 4,
    "start_time": "2023-01-23T18:15:20.681Z"
   },
   {
    "duration": 17,
    "start_time": "2023-01-23T18:15:21.172Z"
   },
   {
    "duration": 4,
    "start_time": "2023-01-23T18:35:42.653Z"
   },
   {
    "duration": 23,
    "start_time": "2023-01-23T18:35:42.659Z"
   },
   {
    "duration": 73,
    "start_time": "2023-01-23T18:43:15.929Z"
   },
   {
    "duration": 30,
    "start_time": "2023-01-23T18:45:54.682Z"
   },
   {
    "duration": 27,
    "start_time": "2023-01-23T18:45:58.713Z"
   },
   {
    "duration": 1376,
    "start_time": "2023-01-23T18:46:07.639Z"
   },
   {
    "duration": 28,
    "start_time": "2023-01-23T18:56:39.262Z"
   },
   {
    "duration": 27,
    "start_time": "2023-01-23T18:56:49.232Z"
   },
   {
    "duration": 3193,
    "start_time": "2023-01-23T18:57:42.654Z"
   },
   {
    "duration": 135,
    "start_time": "2023-01-23T18:57:45.849Z"
   },
   {
    "duration": 21,
    "start_time": "2023-01-23T18:57:45.985Z"
   },
   {
    "duration": 121,
    "start_time": "2023-01-23T18:57:46.008Z"
   },
   {
    "duration": 14,
    "start_time": "2023-01-23T18:57:46.131Z"
   },
   {
    "duration": 130,
    "start_time": "2023-01-23T18:57:46.147Z"
   },
   {
    "duration": 33,
    "start_time": "2023-01-23T18:57:46.280Z"
   },
   {
    "duration": 11,
    "start_time": "2023-01-23T18:57:46.315Z"
   },
   {
    "duration": 2285,
    "start_time": "2023-01-23T18:57:46.328Z"
   },
   {
    "duration": 1049,
    "start_time": "2023-01-23T18:57:48.616Z"
   },
   {
    "duration": 11,
    "start_time": "2023-01-23T18:57:49.667Z"
   },
   {
    "duration": 56,
    "start_time": "2023-01-23T18:57:49.680Z"
   },
   {
    "duration": 4,
    "start_time": "2023-01-23T18:57:49.738Z"
   },
   {
    "duration": 28,
    "start_time": "2023-01-23T18:57:49.744Z"
   },
   {
    "duration": 26,
    "start_time": "2023-01-23T18:57:49.798Z"
   },
   {
    "duration": 21,
    "start_time": "2023-01-23T18:57:49.826Z"
   },
   {
    "duration": 3,
    "start_time": "2023-01-23T18:57:49.849Z"
   },
   {
    "duration": 64,
    "start_time": "2023-01-23T18:57:49.853Z"
   },
   {
    "duration": 201,
    "start_time": "2023-01-23T18:57:50.000Z"
   },
   {
    "duration": 24,
    "start_time": "2023-01-23T18:58:00.727Z"
   },
   {
    "duration": 28,
    "start_time": "2023-01-23T18:58:08.713Z"
   },
   {
    "duration": 32,
    "start_time": "2023-01-23T18:58:24.876Z"
   },
   {
    "duration": 4,
    "start_time": "2023-01-23T18:58:45.671Z"
   },
   {
    "duration": 3,
    "start_time": "2023-01-23T18:58:46.094Z"
   },
   {
    "duration": 5,
    "start_time": "2023-01-23T18:58:46.565Z"
   },
   {
    "duration": 6,
    "start_time": "2023-01-23T18:58:47.164Z"
   },
   {
    "duration": 4,
    "start_time": "2023-01-23T18:58:50.601Z"
   },
   {
    "duration": 4,
    "start_time": "2023-01-23T18:58:51.231Z"
   },
   {
    "duration": 1285,
    "start_time": "2023-01-23T18:58:52.275Z"
   },
   {
    "duration": 3795,
    "start_time": "2023-01-23T18:59:19.717Z"
   },
   {
    "duration": 3,
    "start_time": "2023-01-23T19:02:38.255Z"
   },
   {
    "duration": 3,
    "start_time": "2023-01-23T19:04:10.312Z"
   },
   {
    "duration": 109,
    "start_time": "2023-01-23T19:04:46.610Z"
   },
   {
    "duration": 1865,
    "start_time": "2023-01-23T19:05:29.482Z"
   },
   {
    "duration": 9,
    "start_time": "2023-01-23T19:05:36.318Z"
   },
   {
    "duration": 4,
    "start_time": "2023-01-23T19:06:22.299Z"
   },
   {
    "duration": 7,
    "start_time": "2023-01-23T19:06:23.870Z"
   },
   {
    "duration": 7,
    "start_time": "2023-01-23T19:07:21.030Z"
   },
   {
    "duration": 7,
    "start_time": "2023-01-23T19:07:25.253Z"
   },
   {
    "duration": 5,
    "start_time": "2023-01-23T19:07:54.071Z"
   },
   {
    "duration": 6,
    "start_time": "2023-01-23T19:07:55.567Z"
   },
   {
    "duration": 7,
    "start_time": "2023-01-23T19:07:56.998Z"
   },
   {
    "duration": 6,
    "start_time": "2023-01-23T19:07:57.670Z"
   },
   {
    "duration": 4,
    "start_time": "2023-01-23T19:08:30.992Z"
   },
   {
    "duration": 7,
    "start_time": "2023-01-23T19:08:32.310Z"
   },
   {
    "duration": 3,
    "start_time": "2023-01-23T19:08:40.931Z"
   },
   {
    "duration": 6,
    "start_time": "2023-01-23T19:08:41.783Z"
   },
   {
    "duration": 7,
    "start_time": "2023-01-23T19:08:42.545Z"
   },
   {
    "duration": 7,
    "start_time": "2023-01-23T19:08:44.318Z"
   },
   {
    "duration": 3,
    "start_time": "2023-01-23T19:09:01.181Z"
   },
   {
    "duration": 7,
    "start_time": "2023-01-23T19:09:02.090Z"
   },
   {
    "duration": 7,
    "start_time": "2023-01-23T19:09:03.373Z"
   },
   {
    "duration": 7,
    "start_time": "2023-01-23T19:09:04.420Z"
   },
   {
    "duration": 7853,
    "start_time": "2023-01-24T10:15:40.209Z"
   },
   {
    "duration": 405,
    "start_time": "2023-01-24T10:15:48.064Z"
   },
   {
    "duration": 15,
    "start_time": "2023-01-24T10:15:48.471Z"
   },
   {
    "duration": 579,
    "start_time": "2023-01-24T10:15:48.487Z"
   },
   {
    "duration": 13,
    "start_time": "2023-01-24T10:15:49.068Z"
   },
   {
    "duration": 578,
    "start_time": "2023-01-24T10:15:49.082Z"
   },
   {
    "duration": 12,
    "start_time": "2023-01-24T10:15:49.662Z"
   },
   {
    "duration": 8,
    "start_time": "2023-01-24T10:15:49.676Z"
   },
   {
    "duration": 2143,
    "start_time": "2023-01-24T10:15:49.685Z"
   },
   {
    "duration": 141,
    "start_time": "2023-01-24T10:16:42.589Z"
   },
   {
    "duration": 720,
    "start_time": "2023-01-24T10:17:49.031Z"
   },
   {
    "duration": 99,
    "start_time": "2023-01-24T10:18:03.168Z"
   },
   {
    "duration": 16,
    "start_time": "2023-01-24T10:19:10.201Z"
   },
   {
    "duration": 20,
    "start_time": "2023-01-24T10:19:19.432Z"
   },
   {
    "duration": 10,
    "start_time": "2023-01-24T10:19:29.784Z"
   },
   {
    "duration": 8,
    "start_time": "2023-01-24T10:20:02.432Z"
   },
   {
    "duration": 8,
    "start_time": "2023-01-24T10:20:46.422Z"
   },
   {
    "duration": 8,
    "start_time": "2023-01-24T10:21:14.848Z"
   },
   {
    "duration": 8,
    "start_time": "2023-01-24T10:21:46.114Z"
   },
   {
    "duration": 10,
    "start_time": "2023-01-24T10:22:44.774Z"
   },
   {
    "duration": 3,
    "start_time": "2023-01-24T10:23:05.305Z"
   },
   {
    "duration": 35,
    "start_time": "2023-01-24T10:23:50.994Z"
   },
   {
    "duration": 11,
    "start_time": "2023-01-24T10:24:00.815Z"
   },
   {
    "duration": 11,
    "start_time": "2023-01-24T10:24:35.595Z"
   },
   {
    "duration": 9,
    "start_time": "2023-01-24T10:25:13.426Z"
   },
   {
    "duration": 314,
    "start_time": "2023-01-24T10:26:51.948Z"
   },
   {
    "duration": 1339,
    "start_time": "2023-01-24T10:29:37.421Z"
   },
   {
    "duration": 1267,
    "start_time": "2023-01-24T10:30:44.022Z"
   },
   {
    "duration": 17,
    "start_time": "2023-01-24T10:31:09.555Z"
   },
   {
    "duration": 10,
    "start_time": "2023-01-24T10:32:04.035Z"
   },
   {
    "duration": 7,
    "start_time": "2023-01-24T10:32:17.936Z"
   },
   {
    "duration": 7,
    "start_time": "2023-01-24T10:32:26.186Z"
   },
   {
    "duration": 7,
    "start_time": "2023-01-24T10:32:29.674Z"
   },
   {
    "duration": 10,
    "start_time": "2023-01-24T10:32:48.956Z"
   },
   {
    "duration": 11,
    "start_time": "2023-01-24T10:33:10.985Z"
   },
   {
    "duration": 7,
    "start_time": "2023-01-24T10:33:34.536Z"
   },
   {
    "duration": 12,
    "start_time": "2023-01-24T10:45:50.899Z"
   },
   {
    "duration": 8,
    "start_time": "2023-01-24T10:45:53.118Z"
   },
   {
    "duration": 10,
    "start_time": "2023-01-24T10:47:46.590Z"
   },
   {
    "duration": 70,
    "start_time": "2023-01-24T10:50:52.211Z"
   },
   {
    "duration": 1021,
    "start_time": "2023-01-24T10:51:00.080Z"
   },
   {
    "duration": 12,
    "start_time": "2023-01-24T10:57:34.072Z"
   },
   {
    "duration": 3305,
    "start_time": "2023-01-24T10:57:42.821Z"
   },
   {
    "duration": 138,
    "start_time": "2023-01-24T10:57:46.128Z"
   },
   {
    "duration": 15,
    "start_time": "2023-01-24T10:57:46.268Z"
   },
   {
    "duration": 118,
    "start_time": "2023-01-24T10:57:46.285Z"
   },
   {
    "duration": 13,
    "start_time": "2023-01-24T10:57:46.405Z"
   },
   {
    "duration": 115,
    "start_time": "2023-01-24T10:57:46.420Z"
   },
   {
    "duration": 16,
    "start_time": "2023-01-24T10:57:46.537Z"
   },
   {
    "duration": 9,
    "start_time": "2023-01-24T10:57:46.555Z"
   },
   {
    "duration": 2180,
    "start_time": "2023-01-24T10:57:46.565Z"
   },
   {
    "duration": 11,
    "start_time": "2023-01-24T10:57:48.748Z"
   },
   {
    "duration": 11,
    "start_time": "2023-01-24T10:57:48.761Z"
   },
   {
    "duration": 22,
    "start_time": "2023-01-24T10:57:48.773Z"
   },
   {
    "duration": 908,
    "start_time": "2023-01-24T10:57:48.796Z"
   },
   {
    "duration": 11,
    "start_time": "2023-01-24T10:57:49.707Z"
   },
   {
    "duration": 128,
    "start_time": "2023-01-24T10:57:49.720Z"
   },
   {
    "duration": 19,
    "start_time": "2023-01-24T10:57:49.850Z"
   },
   {
    "duration": 30,
    "start_time": "2023-01-24T10:57:49.870Z"
   },
   {
    "duration": 19,
    "start_time": "2023-01-24T10:57:49.902Z"
   },
   {
    "duration": 29,
    "start_time": "2023-01-24T10:57:49.924Z"
   },
   {
    "duration": 4,
    "start_time": "2023-01-24T10:57:49.954Z"
   },
   {
    "duration": 87,
    "start_time": "2023-01-24T10:57:49.959Z"
   },
   {
    "duration": 199,
    "start_time": "2023-01-24T10:57:50.048Z"
   },
   {
    "duration": 196,
    "start_time": "2023-01-24T10:57:50.249Z"
   },
   {
    "duration": 108,
    "start_time": "2023-01-24T10:57:50.448Z"
   },
   {
    "duration": 30,
    "start_time": "2023-01-24T10:57:50.558Z"
   },
   {
    "duration": 17,
    "start_time": "2023-01-24T10:57:50.589Z"
   },
   {
    "duration": 16,
    "start_time": "2023-01-24T10:57:50.608Z"
   },
   {
    "duration": 15,
    "start_time": "2023-01-24T10:57:50.627Z"
   },
   {
    "duration": 17,
    "start_time": "2023-01-24T10:57:50.644Z"
   },
   {
    "duration": 3592,
    "start_time": "2023-01-24T10:57:50.663Z"
   },
   {
    "duration": 4,
    "start_time": "2023-01-24T10:57:54.256Z"
   },
   {
    "duration": 8,
    "start_time": "2023-01-24T10:57:54.261Z"
   },
   {
    "duration": 10,
    "start_time": "2023-01-24T10:57:54.271Z"
   },
   {
    "duration": 7,
    "start_time": "2023-01-24T10:57:54.282Z"
   },
   {
    "duration": 95,
    "start_time": "2023-01-24T10:57:54.290Z"
   },
   {
    "duration": 3,
    "start_time": "2023-01-24T11:01:31.952Z"
   },
   {
    "duration": 22,
    "start_time": "2023-01-24T11:01:34.452Z"
   },
   {
    "duration": 20,
    "start_time": "2023-01-24T11:01:38.784Z"
   },
   {
    "duration": 19,
    "start_time": "2023-01-24T11:01:46.694Z"
   },
   {
    "duration": 3,
    "start_time": "2023-01-24T11:39:32.966Z"
   },
   {
    "duration": 25,
    "start_time": "2023-01-24T11:40:29.376Z"
   },
   {
    "duration": 26,
    "start_time": "2023-01-24T11:40:35.668Z"
   },
   {
    "duration": 3416,
    "start_time": "2023-01-24T11:40:56.258Z"
   },
   {
    "duration": 153,
    "start_time": "2023-01-24T11:40:59.676Z"
   },
   {
    "duration": 30,
    "start_time": "2023-01-24T11:40:59.831Z"
   },
   {
    "duration": 126,
    "start_time": "2023-01-24T11:40:59.862Z"
   },
   {
    "duration": 12,
    "start_time": "2023-01-24T11:40:59.990Z"
   },
   {
    "duration": 137,
    "start_time": "2023-01-24T11:41:00.003Z"
   },
   {
    "duration": 22,
    "start_time": "2023-01-24T11:41:00.142Z"
   },
   {
    "duration": 31,
    "start_time": "2023-01-24T11:41:00.166Z"
   },
   {
    "duration": 2360,
    "start_time": "2023-01-24T11:41:00.199Z"
   },
   {
    "duration": 11,
    "start_time": "2023-01-24T11:41:02.561Z"
   },
   {
    "duration": 22,
    "start_time": "2023-01-24T11:41:02.573Z"
   },
   {
    "duration": 21,
    "start_time": "2023-01-24T11:41:02.596Z"
   },
   {
    "duration": 957,
    "start_time": "2023-01-24T11:41:02.618Z"
   },
   {
    "duration": 11,
    "start_time": "2023-01-24T11:41:03.578Z"
   },
   {
    "duration": 53,
    "start_time": "2023-01-24T11:41:03.591Z"
   },
   {
    "duration": 4,
    "start_time": "2023-01-24T11:41:03.646Z"
   },
   {
    "duration": 35,
    "start_time": "2023-01-24T11:41:03.652Z"
   },
   {
    "duration": 16,
    "start_time": "2023-01-24T11:41:03.688Z"
   },
   {
    "duration": 20,
    "start_time": "2023-01-24T11:41:03.706Z"
   },
   {
    "duration": 2,
    "start_time": "2023-01-24T11:41:03.727Z"
   },
   {
    "duration": 203,
    "start_time": "2023-01-24T11:41:03.743Z"
   },
   {
    "duration": 196,
    "start_time": "2023-01-24T11:41:03.950Z"
   },
   {
    "duration": 191,
    "start_time": "2023-01-24T11:41:04.154Z"
   },
   {
    "duration": 3435,
    "start_time": "2023-01-24T11:43:50.788Z"
   },
   {
    "duration": 147,
    "start_time": "2023-01-24T11:43:54.225Z"
   },
   {
    "duration": 14,
    "start_time": "2023-01-24T11:43:54.374Z"
   },
   {
    "duration": 125,
    "start_time": "2023-01-24T11:43:54.390Z"
   },
   {
    "duration": 13,
    "start_time": "2023-01-24T11:43:54.517Z"
   },
   {
    "duration": 139,
    "start_time": "2023-01-24T11:43:54.544Z"
   },
   {
    "duration": 21,
    "start_time": "2023-01-24T11:43:54.685Z"
   },
   {
    "duration": 14,
    "start_time": "2023-01-24T11:43:54.708Z"
   },
   {
    "duration": 2168,
    "start_time": "2023-01-24T11:43:54.724Z"
   },
   {
    "duration": 11,
    "start_time": "2023-01-24T11:43:56.894Z"
   },
   {
    "duration": 8,
    "start_time": "2023-01-24T11:43:56.907Z"
   },
   {
    "duration": 30,
    "start_time": "2023-01-24T11:43:56.917Z"
   },
   {
    "duration": 990,
    "start_time": "2023-01-24T11:43:56.949Z"
   },
   {
    "duration": 10,
    "start_time": "2023-01-24T11:43:57.941Z"
   },
   {
    "duration": 66,
    "start_time": "2023-01-24T11:43:57.953Z"
   },
   {
    "duration": 4,
    "start_time": "2023-01-24T11:43:58.021Z"
   },
   {
    "duration": 32,
    "start_time": "2023-01-24T11:43:58.026Z"
   },
   {
    "duration": 21,
    "start_time": "2023-01-24T11:43:58.062Z"
   },
   {
    "duration": 19,
    "start_time": "2023-01-24T11:43:58.085Z"
   },
   {
    "duration": 27,
    "start_time": "2023-01-24T11:43:58.106Z"
   },
   {
    "duration": 216,
    "start_time": "2023-01-24T11:43:58.135Z"
   },
   {
    "duration": 195,
    "start_time": "2023-01-24T11:43:58.353Z"
   },
   {
    "duration": 29,
    "start_time": "2023-01-24T11:44:47.123Z"
   },
   {
    "duration": 3370,
    "start_time": "2023-01-24T11:45:39.846Z"
   },
   {
    "duration": 148,
    "start_time": "2023-01-24T11:45:43.218Z"
   },
   {
    "duration": 14,
    "start_time": "2023-01-24T11:45:43.368Z"
   },
   {
    "duration": 127,
    "start_time": "2023-01-24T11:45:43.384Z"
   },
   {
    "duration": 15,
    "start_time": "2023-01-24T11:45:43.514Z"
   },
   {
    "duration": 142,
    "start_time": "2023-01-24T11:45:43.531Z"
   },
   {
    "duration": 13,
    "start_time": "2023-01-24T11:45:43.675Z"
   },
   {
    "duration": 10,
    "start_time": "2023-01-24T11:45:43.689Z"
   },
   {
    "duration": 2388,
    "start_time": "2023-01-24T11:45:43.700Z"
   },
   {
    "duration": 12,
    "start_time": "2023-01-24T11:45:46.090Z"
   },
   {
    "duration": 50,
    "start_time": "2023-01-24T11:45:46.104Z"
   },
   {
    "duration": 40,
    "start_time": "2023-01-24T11:45:46.156Z"
   },
   {
    "duration": 942,
    "start_time": "2023-01-24T11:45:46.198Z"
   },
   {
    "duration": 11,
    "start_time": "2023-01-24T11:45:47.143Z"
   },
   {
    "duration": 60,
    "start_time": "2023-01-24T11:45:47.155Z"
   },
   {
    "duration": 3,
    "start_time": "2023-01-24T11:45:47.217Z"
   },
   {
    "duration": 43,
    "start_time": "2023-01-24T11:45:47.222Z"
   },
   {
    "duration": 23,
    "start_time": "2023-01-24T11:45:47.266Z"
   },
   {
    "duration": 19,
    "start_time": "2023-01-24T11:45:47.291Z"
   },
   {
    "duration": 3,
    "start_time": "2023-01-24T11:45:47.312Z"
   },
   {
    "duration": 228,
    "start_time": "2023-01-24T11:45:47.317Z"
   },
   {
    "duration": 195,
    "start_time": "2023-01-24T11:45:47.549Z"
   },
   {
    "duration": 115,
    "start_time": "2023-01-24T11:45:47.747Z"
   },
   {
    "duration": 81,
    "start_time": "2023-01-24T11:45:47.865Z"
   },
   {
    "duration": 97,
    "start_time": "2023-01-24T11:45:47.948Z"
   },
   {
    "duration": 11,
    "start_time": "2023-01-24T11:45:48.047Z"
   },
   {
    "duration": 5,
    "start_time": "2023-01-24T11:45:48.059Z"
   },
   {
    "duration": 6,
    "start_time": "2023-01-24T11:45:48.065Z"
   },
   {
    "duration": 7,
    "start_time": "2023-01-24T11:45:48.072Z"
   },
   {
    "duration": 3819,
    "start_time": "2023-01-24T11:45:48.081Z"
   },
   {
    "duration": 4,
    "start_time": "2023-01-24T11:45:51.901Z"
   },
   {
    "duration": 42,
    "start_time": "2023-01-24T11:45:51.906Z"
   },
   {
    "duration": 11,
    "start_time": "2023-01-24T11:45:51.950Z"
   },
   {
    "duration": 32,
    "start_time": "2023-01-24T11:45:51.962Z"
   },
   {
    "duration": 164,
    "start_time": "2023-01-24T11:45:51.996Z"
   },
   {
    "duration": 3345,
    "start_time": "2023-01-24T11:50:16.037Z"
   },
   {
    "duration": 155,
    "start_time": "2023-01-24T11:50:19.385Z"
   },
   {
    "duration": 14,
    "start_time": "2023-01-24T11:50:19.544Z"
   },
   {
    "duration": 136,
    "start_time": "2023-01-24T11:50:19.560Z"
   },
   {
    "duration": 15,
    "start_time": "2023-01-24T11:50:19.698Z"
   },
   {
    "duration": 131,
    "start_time": "2023-01-24T11:50:19.714Z"
   },
   {
    "duration": 14,
    "start_time": "2023-01-24T11:50:19.847Z"
   },
   {
    "duration": 10,
    "start_time": "2023-01-24T11:50:19.863Z"
   },
   {
    "duration": 2529,
    "start_time": "2023-01-24T11:50:19.874Z"
   },
   {
    "duration": 12,
    "start_time": "2023-01-24T11:50:22.406Z"
   },
   {
    "duration": 28,
    "start_time": "2023-01-24T11:50:22.420Z"
   },
   {
    "duration": 11,
    "start_time": "2023-01-24T11:50:22.450Z"
   },
   {
    "duration": 1109,
    "start_time": "2023-01-24T11:50:22.463Z"
   },
   {
    "duration": 14,
    "start_time": "2023-01-24T11:50:23.575Z"
   },
   {
    "duration": 61,
    "start_time": "2023-01-24T11:50:23.591Z"
   },
   {
    "duration": 3,
    "start_time": "2023-01-24T11:50:23.654Z"
   },
   {
    "duration": 34,
    "start_time": "2023-01-24T11:50:23.658Z"
   },
   {
    "duration": 126,
    "start_time": "2023-01-24T11:50:23.694Z"
   },
   {
    "duration": 0,
    "start_time": "2023-01-24T11:50:23.822Z"
   },
   {
    "duration": 0,
    "start_time": "2023-01-24T11:50:23.823Z"
   },
   {
    "duration": 0,
    "start_time": "2023-01-24T11:50:23.824Z"
   },
   {
    "duration": 0,
    "start_time": "2023-01-24T11:50:23.826Z"
   },
   {
    "duration": 0,
    "start_time": "2023-01-24T11:50:23.827Z"
   },
   {
    "duration": 0,
    "start_time": "2023-01-24T11:50:23.844Z"
   },
   {
    "duration": 0,
    "start_time": "2023-01-24T11:50:23.845Z"
   },
   {
    "duration": 0,
    "start_time": "2023-01-24T11:50:23.847Z"
   },
   {
    "duration": 0,
    "start_time": "2023-01-24T11:50:23.848Z"
   },
   {
    "duration": 0,
    "start_time": "2023-01-24T11:50:23.850Z"
   },
   {
    "duration": 0,
    "start_time": "2023-01-24T11:50:23.852Z"
   },
   {
    "duration": 0,
    "start_time": "2023-01-24T11:50:23.854Z"
   },
   {
    "duration": 0,
    "start_time": "2023-01-24T11:50:23.856Z"
   },
   {
    "duration": 0,
    "start_time": "2023-01-24T11:50:23.858Z"
   },
   {
    "duration": 0,
    "start_time": "2023-01-24T11:50:23.859Z"
   },
   {
    "duration": 0,
    "start_time": "2023-01-24T11:50:23.861Z"
   },
   {
    "duration": 0,
    "start_time": "2023-01-24T11:50:23.862Z"
   },
   {
    "duration": 3305,
    "start_time": "2023-01-24T11:51:45.366Z"
   },
   {
    "duration": 152,
    "start_time": "2023-01-24T11:51:48.674Z"
   },
   {
    "duration": 13,
    "start_time": "2023-01-24T11:51:48.828Z"
   },
   {
    "duration": 135,
    "start_time": "2023-01-24T11:51:48.858Z"
   },
   {
    "duration": 13,
    "start_time": "2023-01-24T11:51:48.995Z"
   },
   {
    "duration": 147,
    "start_time": "2023-01-24T11:51:49.010Z"
   },
   {
    "duration": 12,
    "start_time": "2023-01-24T11:51:49.159Z"
   },
   {
    "duration": 8,
    "start_time": "2023-01-24T11:51:49.173Z"
   },
   {
    "duration": 2276,
    "start_time": "2023-01-24T11:51:49.183Z"
   },
   {
    "duration": 12,
    "start_time": "2023-01-24T11:51:51.461Z"
   },
   {
    "duration": 26,
    "start_time": "2023-01-24T11:51:51.475Z"
   },
   {
    "duration": 10,
    "start_time": "2023-01-24T11:51:51.503Z"
   },
   {
    "duration": 1037,
    "start_time": "2023-01-24T11:51:51.514Z"
   },
   {
    "duration": 11,
    "start_time": "2023-01-24T11:51:52.558Z"
   },
   {
    "duration": 46,
    "start_time": "2023-01-24T11:51:52.570Z"
   },
   {
    "duration": 2,
    "start_time": "2023-01-24T11:51:52.618Z"
   },
   {
    "duration": 34,
    "start_time": "2023-01-24T11:51:52.621Z"
   },
   {
    "duration": 27,
    "start_time": "2023-01-24T11:51:52.658Z"
   },
   {
    "duration": 48,
    "start_time": "2023-01-24T11:51:52.687Z"
   },
   {
    "duration": 33,
    "start_time": "2023-01-24T11:51:52.736Z"
   },
   {
    "duration": 183,
    "start_time": "2023-01-24T11:51:52.771Z"
   },
   {
    "duration": 188,
    "start_time": "2023-01-24T11:51:52.962Z"
   },
   {
    "duration": 114,
    "start_time": "2023-01-24T11:51:53.152Z"
   },
   {
    "duration": 6,
    "start_time": "2023-01-24T11:51:53.353Z"
   },
   {
    "duration": 95,
    "start_time": "2023-01-24T11:51:53.368Z"
   },
   {
    "duration": 7,
    "start_time": "2023-01-24T11:51:53.465Z"
   },
   {
    "duration": 14,
    "start_time": "2023-01-24T11:51:53.473Z"
   },
   {
    "duration": 6,
    "start_time": "2023-01-24T11:51:53.489Z"
   },
   {
    "duration": 11,
    "start_time": "2023-01-24T11:51:53.497Z"
   },
   {
    "duration": 3784,
    "start_time": "2023-01-24T11:51:53.509Z"
   },
   {
    "duration": 3,
    "start_time": "2023-01-24T11:51:57.295Z"
   },
   {
    "duration": 10,
    "start_time": "2023-01-24T11:51:57.300Z"
   },
   {
    "duration": 7,
    "start_time": "2023-01-24T11:51:57.312Z"
   },
   {
    "duration": 38,
    "start_time": "2023-01-24T11:51:57.320Z"
   },
   {
    "duration": 73,
    "start_time": "2023-01-24T11:51:57.359Z"
   },
   {
    "duration": 27,
    "start_time": "2023-01-24T11:54:03.370Z"
   },
   {
    "duration": 3334,
    "start_time": "2023-01-24T11:54:36.740Z"
   },
   {
    "duration": 151,
    "start_time": "2023-01-24T11:54:40.077Z"
   },
   {
    "duration": 33,
    "start_time": "2023-01-24T11:54:40.230Z"
   },
   {
    "duration": 126,
    "start_time": "2023-01-24T11:54:40.265Z"
   },
   {
    "duration": 13,
    "start_time": "2023-01-24T11:54:40.393Z"
   },
   {
    "duration": 150,
    "start_time": "2023-01-24T11:54:40.407Z"
   },
   {
    "duration": 14,
    "start_time": "2023-01-24T11:54:40.559Z"
   },
   {
    "duration": 10,
    "start_time": "2023-01-24T11:54:40.575Z"
   },
   {
    "duration": 2274,
    "start_time": "2023-01-24T11:54:40.586Z"
   },
   {
    "duration": 13,
    "start_time": "2023-01-24T11:54:42.862Z"
   },
   {
    "duration": 15,
    "start_time": "2023-01-24T11:54:42.876Z"
   },
   {
    "duration": 9,
    "start_time": "2023-01-24T11:54:42.893Z"
   },
   {
    "duration": 972,
    "start_time": "2023-01-24T11:54:42.904Z"
   },
   {
    "duration": 12,
    "start_time": "2023-01-24T11:54:43.879Z"
   },
   {
    "duration": 64,
    "start_time": "2023-01-24T11:54:43.892Z"
   },
   {
    "duration": 2,
    "start_time": "2023-01-24T11:54:43.958Z"
   },
   {
    "duration": 31,
    "start_time": "2023-01-24T11:54:43.962Z"
   },
   {
    "duration": 20,
    "start_time": "2023-01-24T11:54:43.995Z"
   },
   {
    "duration": 41,
    "start_time": "2023-01-24T11:54:44.017Z"
   },
   {
    "duration": 11,
    "start_time": "2023-01-24T11:54:44.060Z"
   },
   {
    "duration": 194,
    "start_time": "2023-01-24T11:54:44.073Z"
   },
   {
    "duration": 189,
    "start_time": "2023-01-24T11:54:44.269Z"
   },
   {
    "duration": 179,
    "start_time": "2023-01-24T11:54:44.464Z"
   },
   {
    "duration": 5,
    "start_time": "2023-01-24T11:54:44.645Z"
   },
   {
    "duration": 113,
    "start_time": "2023-01-24T11:54:44.654Z"
   },
   {
    "duration": 18,
    "start_time": "2023-01-24T11:54:44.769Z"
   },
   {
    "duration": 11,
    "start_time": "2023-01-24T11:54:44.789Z"
   },
   {
    "duration": 10,
    "start_time": "2023-01-24T11:54:44.802Z"
   },
   {
    "duration": 58,
    "start_time": "2023-01-24T11:54:44.815Z"
   },
   {
    "duration": 4098,
    "start_time": "2023-01-24T11:54:44.875Z"
   },
   {
    "duration": 3,
    "start_time": "2023-01-24T11:54:48.975Z"
   },
   {
    "duration": 112,
    "start_time": "2023-01-24T11:54:48.980Z"
   },
   {
    "duration": 17,
    "start_time": "2023-01-24T11:54:49.094Z"
   },
   {
    "duration": 9,
    "start_time": "2023-01-24T11:54:49.113Z"
   },
   {
    "duration": 84,
    "start_time": "2023-01-24T11:54:49.123Z"
   },
   {
    "duration": 108,
    "start_time": "2023-01-24T12:01:09.082Z"
   },
   {
    "duration": 3316,
    "start_time": "2023-01-24T12:01:26.035Z"
   },
   {
    "duration": 146,
    "start_time": "2023-01-24T12:01:29.353Z"
   },
   {
    "duration": 15,
    "start_time": "2023-01-24T12:01:29.500Z"
   },
   {
    "duration": 131,
    "start_time": "2023-01-24T12:01:29.516Z"
   },
   {
    "duration": 13,
    "start_time": "2023-01-24T12:01:29.649Z"
   },
   {
    "duration": 126,
    "start_time": "2023-01-24T12:01:29.663Z"
   },
   {
    "duration": 12,
    "start_time": "2023-01-24T12:01:29.791Z"
   },
   {
    "duration": 9,
    "start_time": "2023-01-24T12:01:29.805Z"
   },
   {
    "duration": 2430,
    "start_time": "2023-01-24T12:01:29.816Z"
   },
   {
    "duration": 13,
    "start_time": "2023-01-24T12:01:32.248Z"
   },
   {
    "duration": 14,
    "start_time": "2023-01-24T12:01:32.262Z"
   },
   {
    "duration": 15,
    "start_time": "2023-01-24T12:01:32.277Z"
   },
   {
    "duration": 931,
    "start_time": "2023-01-24T12:01:32.293Z"
   },
   {
    "duration": 16,
    "start_time": "2023-01-24T12:01:33.228Z"
   },
   {
    "duration": 46,
    "start_time": "2023-01-24T12:01:33.245Z"
   },
   {
    "duration": 3,
    "start_time": "2023-01-24T12:01:33.293Z"
   },
   {
    "duration": 24,
    "start_time": "2023-01-24T12:01:33.298Z"
   },
   {
    "duration": 33,
    "start_time": "2023-01-24T12:01:33.324Z"
   },
   {
    "duration": 17,
    "start_time": "2023-01-24T12:01:33.358Z"
   },
   {
    "duration": 3,
    "start_time": "2023-01-24T12:01:33.376Z"
   },
   {
    "duration": 71,
    "start_time": "2023-01-24T12:01:33.380Z"
   },
   {
    "duration": 107,
    "start_time": "2023-01-24T12:01:33.548Z"
   },
   {
    "duration": 206,
    "start_time": "2023-01-24T12:01:33.657Z"
   },
   {
    "duration": 22,
    "start_time": "2023-01-24T12:01:33.945Z"
   },
   {
    "duration": 9,
    "start_time": "2023-01-24T12:01:34.045Z"
   },
   {
    "duration": 12,
    "start_time": "2023-01-24T12:01:34.056Z"
   },
   {
    "duration": 15,
    "start_time": "2023-01-24T12:01:34.070Z"
   },
   {
    "duration": 8,
    "start_time": "2023-01-24T12:01:34.087Z"
   },
   {
    "duration": 8,
    "start_time": "2023-01-24T12:01:34.096Z"
   },
   {
    "duration": 4018,
    "start_time": "2023-01-24T12:01:34.105Z"
   },
   {
    "duration": 3,
    "start_time": "2023-01-24T12:01:38.125Z"
   },
   {
    "duration": 19,
    "start_time": "2023-01-24T12:01:38.129Z"
   },
   {
    "duration": 9,
    "start_time": "2023-01-24T12:01:38.150Z"
   },
   {
    "duration": 8,
    "start_time": "2023-01-24T12:01:38.160Z"
   },
   {
    "duration": 71,
    "start_time": "2023-01-24T12:08:31.357Z"
   },
   {
    "duration": 4,
    "start_time": "2023-01-24T12:11:13.371Z"
   },
   {
    "duration": 4,
    "start_time": "2023-01-24T12:11:23.798Z"
   },
   {
    "duration": 5,
    "start_time": "2023-01-24T12:11:29.576Z"
   },
   {
    "duration": 4,
    "start_time": "2023-01-24T12:11:43.757Z"
   },
   {
    "duration": 5,
    "start_time": "2023-01-24T12:12:01.562Z"
   },
   {
    "duration": 4,
    "start_time": "2023-01-24T12:13:14.962Z"
   },
   {
    "duration": 4,
    "start_time": "2023-01-24T12:13:30.242Z"
   },
   {
    "duration": 7,
    "start_time": "2023-01-24T12:13:32.466Z"
   },
   {
    "duration": 6,
    "start_time": "2023-01-24T12:13:34.314Z"
   },
   {
    "duration": 5,
    "start_time": "2023-01-24T12:13:36.265Z"
   },
   {
    "duration": 3217,
    "start_time": "2023-01-24T12:30:05.558Z"
   },
   {
    "duration": 147,
    "start_time": "2023-01-24T12:30:08.777Z"
   },
   {
    "duration": 23,
    "start_time": "2023-01-24T12:30:08.926Z"
   },
   {
    "duration": 120,
    "start_time": "2023-01-24T12:30:08.951Z"
   },
   {
    "duration": 14,
    "start_time": "2023-01-24T12:30:09.073Z"
   },
   {
    "duration": 125,
    "start_time": "2023-01-24T12:30:09.088Z"
   },
   {
    "duration": 12,
    "start_time": "2023-01-24T12:30:09.214Z"
   },
   {
    "duration": 22,
    "start_time": "2023-01-24T12:30:09.227Z"
   },
   {
    "duration": 2078,
    "start_time": "2023-01-24T12:30:09.250Z"
   },
   {
    "duration": 18,
    "start_time": "2023-01-24T12:30:11.329Z"
   },
   {
    "duration": 7,
    "start_time": "2023-01-24T12:30:11.349Z"
   },
   {
    "duration": 25,
    "start_time": "2023-01-24T12:30:11.358Z"
   },
   {
    "duration": 930,
    "start_time": "2023-01-24T12:30:11.384Z"
   },
   {
    "duration": 10,
    "start_time": "2023-01-24T12:30:12.316Z"
   },
   {
    "duration": 44,
    "start_time": "2023-01-24T12:30:12.327Z"
   },
   {
    "duration": 2,
    "start_time": "2023-01-24T12:30:12.373Z"
   },
   {
    "duration": 31,
    "start_time": "2023-01-24T12:30:12.377Z"
   },
   {
    "duration": 19,
    "start_time": "2023-01-24T12:30:12.410Z"
   },
   {
    "duration": 21,
    "start_time": "2023-01-24T12:30:12.443Z"
   },
   {
    "duration": 3,
    "start_time": "2023-01-24T12:30:12.465Z"
   },
   {
    "duration": 179,
    "start_time": "2023-01-24T12:30:12.470Z"
   },
   {
    "duration": 109,
    "start_time": "2023-01-24T12:30:12.652Z"
   },
   {
    "duration": 198,
    "start_time": "2023-01-24T12:30:12.764Z"
   },
   {
    "duration": 81,
    "start_time": "2023-01-24T12:30:12.964Z"
   },
   {
    "duration": 103,
    "start_time": "2023-01-24T12:30:13.047Z"
   },
   {
    "duration": 7,
    "start_time": "2023-01-24T12:30:13.151Z"
   },
   {
    "duration": 6,
    "start_time": "2023-01-24T12:30:13.159Z"
   },
   {
    "duration": 6,
    "start_time": "2023-01-24T12:30:13.167Z"
   },
   {
    "duration": 6,
    "start_time": "2023-01-24T12:30:13.174Z"
   },
   {
    "duration": 3801,
    "start_time": "2023-01-24T12:30:13.182Z"
   },
   {
    "duration": 3,
    "start_time": "2023-01-24T12:30:16.985Z"
   },
   {
    "duration": 19,
    "start_time": "2023-01-24T12:30:16.990Z"
   },
   {
    "duration": 9,
    "start_time": "2023-01-24T12:30:17.011Z"
   },
   {
    "duration": 7,
    "start_time": "2023-01-24T12:30:17.021Z"
   },
   {
    "duration": 3247,
    "start_time": "2023-01-24T12:35:52.478Z"
   },
   {
    "duration": 140,
    "start_time": "2023-01-24T12:35:55.727Z"
   },
   {
    "duration": 13,
    "start_time": "2023-01-24T12:35:55.868Z"
   },
   {
    "duration": 122,
    "start_time": "2023-01-24T12:35:55.882Z"
   },
   {
    "duration": 12,
    "start_time": "2023-01-24T12:35:56.006Z"
   },
   {
    "duration": 133,
    "start_time": "2023-01-24T12:35:56.020Z"
   },
   {
    "duration": 13,
    "start_time": "2023-01-24T12:35:56.155Z"
   },
   {
    "duration": 26,
    "start_time": "2023-01-24T12:35:56.171Z"
   },
   {
    "duration": 2263,
    "start_time": "2023-01-24T12:35:56.198Z"
   },
   {
    "duration": 11,
    "start_time": "2023-01-24T12:35:58.462Z"
   },
   {
    "duration": 8,
    "start_time": "2023-01-24T12:35:58.475Z"
   },
   {
    "duration": 9,
    "start_time": "2023-01-24T12:35:58.484Z"
   },
   {
    "duration": 973,
    "start_time": "2023-01-24T12:35:58.494Z"
   },
   {
    "duration": 10,
    "start_time": "2023-01-24T12:35:59.470Z"
   },
   {
    "duration": 49,
    "start_time": "2023-01-24T12:35:59.482Z"
   },
   {
    "duration": 12,
    "start_time": "2023-01-24T12:35:59.532Z"
   },
   {
    "duration": 27,
    "start_time": "2023-01-24T12:35:59.546Z"
   },
   {
    "duration": 17,
    "start_time": "2023-01-24T12:35:59.575Z"
   },
   {
    "duration": 24,
    "start_time": "2023-01-24T12:35:59.593Z"
   },
   {
    "duration": 3,
    "start_time": "2023-01-24T12:35:59.619Z"
   },
   {
    "duration": 221,
    "start_time": "2023-01-24T12:35:59.624Z"
   },
   {
    "duration": 98,
    "start_time": "2023-01-24T12:35:59.847Z"
   },
   {
    "duration": 201,
    "start_time": "2023-01-24T12:35:59.947Z"
   },
   {
    "duration": 95,
    "start_time": "2023-01-24T12:36:00.150Z"
   },
   {
    "duration": 31,
    "start_time": "2023-01-24T12:36:00.247Z"
   },
   {
    "duration": 23,
    "start_time": "2023-01-24T12:36:00.279Z"
   },
   {
    "duration": 12,
    "start_time": "2023-01-24T12:36:00.303Z"
   },
   {
    "duration": 27,
    "start_time": "2023-01-24T12:36:00.316Z"
   },
   {
    "duration": 44,
    "start_time": "2023-01-24T12:36:00.344Z"
   },
   {
    "duration": 3962,
    "start_time": "2023-01-24T12:36:00.390Z"
   },
   {
    "duration": 3,
    "start_time": "2023-01-24T12:36:04.354Z"
   },
   {
    "duration": 10,
    "start_time": "2023-01-24T12:36:04.359Z"
   },
   {
    "duration": 7,
    "start_time": "2023-01-24T12:36:04.371Z"
   },
   {
    "duration": 30,
    "start_time": "2023-01-24T12:36:04.380Z"
   },
   {
    "duration": 7990,
    "start_time": "2023-01-25T11:41:58.538Z"
   },
   {
    "duration": 404,
    "start_time": "2023-01-25T11:42:06.530Z"
   },
   {
    "duration": 15,
    "start_time": "2023-01-25T11:42:06.936Z"
   },
   {
    "duration": 557,
    "start_time": "2023-01-25T11:42:06.952Z"
   },
   {
    "duration": 13,
    "start_time": "2023-01-25T11:42:07.512Z"
   },
   {
    "duration": 514,
    "start_time": "2023-01-25T11:42:07.527Z"
   },
   {
    "duration": 13,
    "start_time": "2023-01-25T11:42:08.042Z"
   },
   {
    "duration": 14,
    "start_time": "2023-01-25T11:42:08.057Z"
   },
   {
    "duration": 2245,
    "start_time": "2023-01-25T11:42:08.073Z"
   },
   {
    "duration": 13,
    "start_time": "2023-01-25T11:42:10.320Z"
   },
   {
    "duration": 20,
    "start_time": "2023-01-25T11:42:10.334Z"
   },
   {
    "duration": 10,
    "start_time": "2023-01-25T11:42:10.355Z"
   },
   {
    "duration": 962,
    "start_time": "2023-01-25T11:42:10.366Z"
   },
   {
    "duration": 17,
    "start_time": "2023-01-25T11:42:11.331Z"
   },
   {
    "duration": 41,
    "start_time": "2023-01-25T11:42:11.349Z"
   },
   {
    "duration": 2,
    "start_time": "2023-01-25T11:42:11.392Z"
   },
   {
    "duration": 23,
    "start_time": "2023-01-25T11:42:11.396Z"
   },
   {
    "duration": 39,
    "start_time": "2023-01-25T11:42:11.420Z"
   },
   {
    "duration": 19,
    "start_time": "2023-01-25T11:42:11.460Z"
   },
   {
    "duration": 3,
    "start_time": "2023-01-25T11:42:11.481Z"
   },
   {
    "duration": 70,
    "start_time": "2023-01-25T11:42:11.485Z"
   },
   {
    "duration": 193,
    "start_time": "2023-01-25T11:42:11.557Z"
   },
   {
    "duration": 117,
    "start_time": "2023-01-25T11:42:11.752Z"
   },
   {
    "duration": 79,
    "start_time": "2023-01-25T11:42:11.872Z"
   },
   {
    "duration": 102,
    "start_time": "2023-01-25T11:42:11.953Z"
   },
   {
    "duration": 10,
    "start_time": "2023-01-25T11:42:12.057Z"
   },
   {
    "duration": 5,
    "start_time": "2023-01-25T11:42:12.068Z"
   },
   {
    "duration": 5,
    "start_time": "2023-01-25T11:42:12.075Z"
   },
   {
    "duration": 10,
    "start_time": "2023-01-25T11:42:12.081Z"
   },
   {
    "duration": 9771,
    "start_time": "2023-01-25T11:42:12.093Z"
   },
   {
    "duration": 3,
    "start_time": "2023-01-25T11:42:21.866Z"
   },
   {
    "duration": 24,
    "start_time": "2023-01-25T11:42:21.871Z"
   },
   {
    "duration": 25,
    "start_time": "2023-01-25T11:42:21.897Z"
   },
   {
    "duration": 14,
    "start_time": "2023-01-25T11:42:21.924Z"
   },
   {
    "duration": 6,
    "start_time": "2023-01-25T11:49:53.483Z"
   },
   {
    "duration": 5,
    "start_time": "2023-01-25T11:50:10.758Z"
   },
   {
    "duration": 6,
    "start_time": "2023-01-25T11:50:17.858Z"
   },
   {
    "duration": 5,
    "start_time": "2023-01-25T11:51:39.626Z"
   },
   {
    "duration": 6,
    "start_time": "2023-01-25T11:51:44.118Z"
   },
   {
    "duration": 5,
    "start_time": "2023-01-25T11:52:21.675Z"
   },
   {
    "duration": 13778,
    "start_time": "2023-01-26T08:58:06.851Z"
   },
   {
    "duration": 414,
    "start_time": "2023-01-26T08:58:20.632Z"
   },
   {
    "duration": 17,
    "start_time": "2023-01-26T08:58:21.049Z"
   },
   {
    "duration": 608,
    "start_time": "2023-01-26T08:58:21.068Z"
   },
   {
    "duration": 15,
    "start_time": "2023-01-26T08:58:21.679Z"
   },
   {
    "duration": 581,
    "start_time": "2023-01-26T08:58:21.696Z"
   },
   {
    "duration": 15,
    "start_time": "2023-01-26T08:58:22.279Z"
   },
   {
    "duration": 65,
    "start_time": "2023-01-26T08:58:22.295Z"
   },
   {
    "duration": 2505,
    "start_time": "2023-01-26T08:58:22.361Z"
   },
   {
    "duration": 15,
    "start_time": "2023-01-26T08:58:24.868Z"
   },
   {
    "duration": 30,
    "start_time": "2023-01-26T08:58:24.884Z"
   },
   {
    "duration": 28,
    "start_time": "2023-01-26T08:58:24.916Z"
   },
   {
    "duration": 1133,
    "start_time": "2023-01-26T08:58:24.946Z"
   },
   {
    "duration": 12,
    "start_time": "2023-01-26T08:58:26.082Z"
   },
   {
    "duration": 55,
    "start_time": "2023-01-26T08:58:26.096Z"
   },
   {
    "duration": 161,
    "start_time": "2023-01-26T08:58:26.153Z"
   },
   {
    "duration": 21,
    "start_time": "2023-01-26T08:58:51.233Z"
   },
   {
    "duration": 28,
    "start_time": "2023-01-26T08:59:00.590Z"
   },
   {
    "duration": 35,
    "start_time": "2023-01-26T08:59:18.305Z"
   },
   {
    "duration": 25,
    "start_time": "2023-01-26T08:59:40.052Z"
   },
   {
    "duration": 5,
    "start_time": "2023-01-26T09:00:11.919Z"
   },
   {
    "duration": 43,
    "start_time": "2023-01-26T09:01:32.040Z"
   },
   {
    "duration": 53,
    "start_time": "2023-01-26T09:02:31.208Z"
   },
   {
    "duration": 4,
    "start_time": "2023-01-26T09:04:14.239Z"
   },
   {
    "duration": 26,
    "start_time": "2023-01-26T09:04:14.827Z"
   },
   {
    "duration": 28,
    "start_time": "2023-01-26T09:04:31.479Z"
   },
   {
    "duration": 22,
    "start_time": "2023-01-26T09:04:44.519Z"
   },
   {
    "duration": 6,
    "start_time": "2023-01-26T09:06:06.661Z"
   },
   {
    "duration": 207,
    "start_time": "2023-01-26T09:06:07.188Z"
   },
   {
    "duration": 107,
    "start_time": "2023-01-26T09:06:56.983Z"
   },
   {
    "duration": 53,
    "start_time": "2023-01-26T09:07:36.444Z"
   },
   {
    "duration": 99,
    "start_time": "2023-01-26T09:07:41.189Z"
   },
   {
    "duration": 3668,
    "start_time": "2023-01-26T09:09:58.868Z"
   },
   {
    "duration": 152,
    "start_time": "2023-01-26T09:10:02.538Z"
   },
   {
    "duration": 20,
    "start_time": "2023-01-26T09:10:02.692Z"
   },
   {
    "duration": 141,
    "start_time": "2023-01-26T09:10:02.714Z"
   },
   {
    "duration": 13,
    "start_time": "2023-01-26T09:10:02.857Z"
   },
   {
    "duration": 136,
    "start_time": "2023-01-26T09:10:02.885Z"
   },
   {
    "duration": 13,
    "start_time": "2023-01-26T09:10:03.023Z"
   },
   {
    "duration": 20,
    "start_time": "2023-01-26T09:10:03.037Z"
   },
   {
    "duration": 2454,
    "start_time": "2023-01-26T09:10:03.060Z"
   },
   {
    "duration": 12,
    "start_time": "2023-01-26T09:10:05.515Z"
   },
   {
    "duration": 28,
    "start_time": "2023-01-26T09:10:05.529Z"
   },
   {
    "duration": 41,
    "start_time": "2023-01-26T09:10:05.558Z"
   },
   {
    "duration": 1255,
    "start_time": "2023-01-26T09:10:05.602Z"
   },
   {
    "duration": 12,
    "start_time": "2023-01-26T09:10:06.862Z"
   },
   {
    "duration": 30,
    "start_time": "2023-01-26T09:10:06.881Z"
   },
   {
    "duration": 15,
    "start_time": "2023-01-26T09:10:06.913Z"
   },
   {
    "duration": 44,
    "start_time": "2023-01-26T09:10:06.930Z"
   },
   {
    "duration": 3,
    "start_time": "2023-01-26T09:10:06.976Z"
   },
   {
    "duration": 42,
    "start_time": "2023-01-26T09:10:06.981Z"
   },
   {
    "duration": 21,
    "start_time": "2023-01-26T09:10:07.025Z"
   },
   {
    "duration": 35,
    "start_time": "2023-01-26T09:10:07.048Z"
   },
   {
    "duration": 5,
    "start_time": "2023-01-26T09:10:07.085Z"
   },
   {
    "duration": 100,
    "start_time": "2023-01-26T09:10:07.100Z"
   },
   {
    "duration": 205,
    "start_time": "2023-01-26T09:10:07.202Z"
   },
   {
    "duration": 172,
    "start_time": "2023-01-26T09:10:07.409Z"
   },
   {
    "duration": 106,
    "start_time": "2023-01-26T09:10:07.583Z"
   },
   {
    "duration": 20,
    "start_time": "2023-01-26T09:10:07.691Z"
   },
   {
    "duration": 8,
    "start_time": "2023-01-26T09:10:07.713Z"
   },
   {
    "duration": 7,
    "start_time": "2023-01-26T09:10:07.723Z"
   },
   {
    "duration": 8,
    "start_time": "2023-01-26T09:10:07.732Z"
   },
   {
    "duration": 14,
    "start_time": "2023-01-26T09:10:07.742Z"
   },
   {
    "duration": 118,
    "start_time": "2023-01-26T09:10:07.758Z"
   },
   {
    "duration": 0,
    "start_time": "2023-01-26T09:10:07.878Z"
   },
   {
    "duration": 0,
    "start_time": "2023-01-26T09:10:07.881Z"
   },
   {
    "duration": 0,
    "start_time": "2023-01-26T09:10:07.881Z"
   },
   {
    "duration": 0,
    "start_time": "2023-01-26T09:10:07.882Z"
   },
   {
    "duration": 12026,
    "start_time": "2023-01-26T09:11:14.800Z"
   },
   {
    "duration": 4,
    "start_time": "2023-01-26T09:12:12.350Z"
   },
   {
    "duration": 7,
    "start_time": "2023-01-26T09:12:15.463Z"
   },
   {
    "duration": 9,
    "start_time": "2023-01-26T09:12:16.627Z"
   },
   {
    "duration": 8,
    "start_time": "2023-01-26T09:12:19.302Z"
   },
   {
    "duration": 10,
    "start_time": "2023-01-26T11:02:22.157Z"
   },
   {
    "duration": 8717,
    "start_time": "2023-01-26T11:02:45.758Z"
   },
   {
    "duration": 544,
    "start_time": "2023-01-26T11:02:54.477Z"
   },
   {
    "duration": 18,
    "start_time": "2023-01-26T11:02:55.023Z"
   },
   {
    "duration": 223,
    "start_time": "2023-01-26T11:02:55.043Z"
   },
   {
    "duration": 15,
    "start_time": "2023-01-26T11:02:55.269Z"
   },
   {
    "duration": 229,
    "start_time": "2023-01-26T11:02:55.286Z"
   },
   {
    "duration": 16,
    "start_time": "2023-01-26T11:02:55.516Z"
   },
   {
    "duration": 13,
    "start_time": "2023-01-26T11:02:55.534Z"
   },
   {
    "duration": 2417,
    "start_time": "2023-01-26T11:02:55.549Z"
   },
   {
    "duration": 13,
    "start_time": "2023-01-26T11:02:57.968Z"
   },
   {
    "duration": 18,
    "start_time": "2023-01-26T11:02:57.983Z"
   },
   {
    "duration": 30,
    "start_time": "2023-01-26T11:02:58.003Z"
   },
   {
    "duration": 1159,
    "start_time": "2023-01-26T11:02:58.035Z"
   },
   {
    "duration": 14,
    "start_time": "2023-01-26T11:02:59.197Z"
   },
   {
    "duration": 15,
    "start_time": "2023-01-26T11:02:59.213Z"
   },
   {
    "duration": 15,
    "start_time": "2023-01-26T11:02:59.230Z"
   },
   {
    "duration": 56,
    "start_time": "2023-01-26T11:02:59.247Z"
   },
   {
    "duration": 3,
    "start_time": "2023-01-26T11:02:59.304Z"
   },
   {
    "duration": 42,
    "start_time": "2023-01-26T11:02:59.309Z"
   },
   {
    "duration": 20,
    "start_time": "2023-01-26T11:02:59.353Z"
   },
   {
    "duration": 21,
    "start_time": "2023-01-26T11:02:59.375Z"
   },
   {
    "duration": 11,
    "start_time": "2023-01-26T11:02:59.398Z"
   },
   {
    "duration": 231,
    "start_time": "2023-01-26T11:02:59.410Z"
   },
   {
    "duration": 202,
    "start_time": "2023-01-26T11:02:59.643Z"
   },
   {
    "duration": 118,
    "start_time": "2023-01-26T11:02:59.846Z"
   },
   {
    "duration": 77,
    "start_time": "2023-01-26T11:02:59.966Z"
   },
   {
    "duration": 126,
    "start_time": "2023-01-26T11:03:00.045Z"
   },
   {
    "duration": 44,
    "start_time": "2023-01-26T11:03:00.172Z"
   },
   {
    "duration": 10,
    "start_time": "2023-01-26T11:03:00.218Z"
   },
   {
    "duration": 3609,
    "start_time": "2023-01-26T11:04:06.007Z"
   },
   {
    "duration": 154,
    "start_time": "2023-01-26T11:04:09.619Z"
   },
   {
    "duration": 16,
    "start_time": "2023-01-26T11:04:09.775Z"
   },
   {
    "duration": 144,
    "start_time": "2023-01-26T11:04:09.793Z"
   },
   {
    "duration": 15,
    "start_time": "2023-01-26T11:04:09.939Z"
   },
   {
    "duration": 141,
    "start_time": "2023-01-26T11:04:09.955Z"
   },
   {
    "duration": 15,
    "start_time": "2023-01-26T11:04:10.098Z"
   },
   {
    "duration": 28,
    "start_time": "2023-01-26T11:04:10.115Z"
   },
   {
    "duration": 2457,
    "start_time": "2023-01-26T11:04:10.145Z"
   },
   {
    "duration": 13,
    "start_time": "2023-01-26T11:04:12.604Z"
   },
   {
    "duration": 28,
    "start_time": "2023-01-26T11:04:12.619Z"
   },
   {
    "duration": 23,
    "start_time": "2023-01-26T11:04:12.648Z"
   },
   {
    "duration": 1061,
    "start_time": "2023-01-26T11:04:12.673Z"
   },
   {
    "duration": 12,
    "start_time": "2023-01-26T11:04:13.741Z"
   },
   {
    "duration": 19,
    "start_time": "2023-01-26T11:04:13.755Z"
   },
   {
    "duration": 9,
    "start_time": "2023-01-26T11:04:13.776Z"
   },
   {
    "duration": 60,
    "start_time": "2023-01-26T11:04:13.787Z"
   },
   {
    "duration": 3,
    "start_time": "2023-01-26T11:04:13.849Z"
   },
   {
    "duration": 35,
    "start_time": "2023-01-26T11:04:13.853Z"
   },
   {
    "duration": 27,
    "start_time": "2023-01-26T11:04:13.890Z"
   },
   {
    "duration": 45,
    "start_time": "2023-01-26T11:04:13.919Z"
   },
   {
    "duration": 27,
    "start_time": "2023-01-26T11:04:21.645Z"
   },
   {
    "duration": 3,
    "start_time": "2023-01-26T11:04:24.277Z"
   },
   {
    "duration": 117,
    "start_time": "2023-01-26T11:08:44.497Z"
   },
   {
    "duration": 4,
    "start_time": "2023-01-26T11:08:51.685Z"
   },
   {
    "duration": 15,
    "start_time": "2023-01-26T11:08:52.689Z"
   },
   {
    "duration": 3607,
    "start_time": "2023-01-26T11:13:09.500Z"
   },
   {
    "duration": 162,
    "start_time": "2023-01-26T11:13:13.110Z"
   },
   {
    "duration": 15,
    "start_time": "2023-01-26T11:13:13.274Z"
   },
   {
    "duration": 143,
    "start_time": "2023-01-26T11:13:13.291Z"
   },
   {
    "duration": 15,
    "start_time": "2023-01-26T11:13:13.439Z"
   },
   {
    "duration": 155,
    "start_time": "2023-01-26T11:13:13.456Z"
   },
   {
    "duration": 26,
    "start_time": "2023-01-26T11:13:13.613Z"
   },
   {
    "duration": 13,
    "start_time": "2023-01-26T11:13:13.642Z"
   },
   {
    "duration": 2634,
    "start_time": "2023-01-26T11:13:13.657Z"
   },
   {
    "duration": 13,
    "start_time": "2023-01-26T11:13:16.293Z"
   },
   {
    "duration": 27,
    "start_time": "2023-01-26T11:13:16.307Z"
   },
   {
    "duration": 14,
    "start_time": "2023-01-26T11:13:16.336Z"
   },
   {
    "duration": 1088,
    "start_time": "2023-01-26T11:13:16.352Z"
   },
   {
    "duration": 14,
    "start_time": "2023-01-26T11:13:17.447Z"
   },
   {
    "duration": 28,
    "start_time": "2023-01-26T11:13:17.463Z"
   },
   {
    "duration": 27,
    "start_time": "2023-01-26T11:13:17.493Z"
   },
   {
    "duration": 73,
    "start_time": "2023-01-26T11:13:17.522Z"
   },
   {
    "duration": 5,
    "start_time": "2023-01-26T11:13:17.597Z"
   },
   {
    "duration": 66,
    "start_time": "2023-01-26T11:13:17.604Z"
   },
   {
    "duration": 44,
    "start_time": "2023-01-26T11:14:30.398Z"
   },
   {
    "duration": 42,
    "start_time": "2023-01-26T11:14:46.168Z"
   },
   {
    "duration": 2,
    "start_time": "2023-01-26T11:14:52.015Z"
   },
   {
    "duration": 3,
    "start_time": "2023-01-26T11:14:52.679Z"
   },
   {
    "duration": 3,
    "start_time": "2023-01-26T11:16:06.052Z"
   },
   {
    "duration": 5,
    "start_time": "2023-01-26T11:20:56.257Z"
   },
   {
    "duration": 6,
    "start_time": "2023-01-26T11:21:50.417Z"
   },
   {
    "duration": 3,
    "start_time": "2023-01-26T11:22:12.476Z"
   },
   {
    "duration": 3,
    "start_time": "2023-01-26T11:22:13.329Z"
   },
   {
    "duration": 3,
    "start_time": "2023-01-26T11:22:14.457Z"
   },
   {
    "duration": 28,
    "start_time": "2023-01-26T11:24:10.309Z"
   },
   {
    "duration": 24,
    "start_time": "2023-01-26T11:25:10.808Z"
   },
   {
    "duration": 3561,
    "start_time": "2023-01-26T11:26:39.589Z"
   },
   {
    "duration": 159,
    "start_time": "2023-01-26T11:26:43.153Z"
   },
   {
    "duration": 26,
    "start_time": "2023-01-26T11:26:43.314Z"
   },
   {
    "duration": 142,
    "start_time": "2023-01-26T11:26:43.342Z"
   },
   {
    "duration": 22,
    "start_time": "2023-01-26T11:26:43.488Z"
   },
   {
    "duration": 167,
    "start_time": "2023-01-26T11:26:43.513Z"
   },
   {
    "duration": 17,
    "start_time": "2023-01-26T11:26:43.682Z"
   },
   {
    "duration": 20,
    "start_time": "2023-01-26T11:26:43.701Z"
   },
   {
    "duration": 2559,
    "start_time": "2023-01-26T11:26:43.723Z"
   },
   {
    "duration": 16,
    "start_time": "2023-01-26T11:26:46.285Z"
   },
   {
    "duration": 9,
    "start_time": "2023-01-26T11:26:46.303Z"
   },
   {
    "duration": 32,
    "start_time": "2023-01-26T11:26:46.314Z"
   },
   {
    "duration": 1102,
    "start_time": "2023-01-26T11:26:46.348Z"
   },
   {
    "duration": 13,
    "start_time": "2023-01-26T11:26:47.452Z"
   },
   {
    "duration": 7,
    "start_time": "2023-01-26T11:26:47.467Z"
   },
   {
    "duration": 11,
    "start_time": "2023-01-26T11:26:47.476Z"
   },
   {
    "duration": 67,
    "start_time": "2023-01-26T11:26:47.489Z"
   },
   {
    "duration": 4,
    "start_time": "2023-01-26T11:26:47.558Z"
   },
   {
    "duration": 50,
    "start_time": "2023-01-26T11:26:47.564Z"
   },
   {
    "duration": 3,
    "start_time": "2023-01-26T11:26:47.616Z"
   },
   {
    "duration": 3,
    "start_time": "2023-01-26T11:26:47.640Z"
   },
   {
    "duration": 47,
    "start_time": "2023-01-26T11:26:47.645Z"
   },
   {
    "duration": 0,
    "start_time": "2023-01-26T11:26:47.694Z"
   },
   {
    "duration": 5,
    "start_time": "2023-01-26T11:26:55.819Z"
   },
   {
    "duration": 25,
    "start_time": "2023-01-26T11:27:05.992Z"
   },
   {
    "duration": 20,
    "start_time": "2023-01-26T11:27:51.410Z"
   },
   {
    "duration": 23,
    "start_time": "2023-01-26T11:29:04.792Z"
   },
   {
    "duration": 70,
    "start_time": "2023-01-26T11:31:14.971Z"
   },
   {
    "duration": 58,
    "start_time": "2023-01-26T11:32:59.383Z"
   },
   {
    "duration": 30,
    "start_time": "2023-01-26T11:33:02.812Z"
   },
   {
    "duration": 3,
    "start_time": "2023-01-26T11:33:29.323Z"
   },
   {
    "duration": 2,
    "start_time": "2023-01-26T11:33:29.717Z"
   },
   {
    "duration": 3,
    "start_time": "2023-01-26T11:33:30.111Z"
   },
   {
    "duration": 2,
    "start_time": "2023-01-26T11:33:32.512Z"
   },
   {
    "duration": 3,
    "start_time": "2023-01-26T11:33:34.702Z"
   },
   {
    "duration": 5,
    "start_time": "2023-01-26T11:33:35.252Z"
   },
   {
    "duration": 5,
    "start_time": "2023-01-26T11:33:35.892Z"
   },
   {
    "duration": 4,
    "start_time": "2023-01-26T11:33:52.114Z"
   },
   {
    "duration": 4,
    "start_time": "2023-01-26T11:34:08.264Z"
   },
   {
    "duration": 10823,
    "start_time": "2023-01-26T11:34:15.523Z"
   },
   {
    "duration": 10690,
    "start_time": "2023-01-26T11:34:29.079Z"
   },
   {
    "duration": 3587,
    "start_time": "2023-01-26T11:35:13.710Z"
   },
   {
    "duration": 157,
    "start_time": "2023-01-26T11:35:17.299Z"
   },
   {
    "duration": 16,
    "start_time": "2023-01-26T11:35:17.458Z"
   },
   {
    "duration": 144,
    "start_time": "2023-01-26T11:35:17.477Z"
   },
   {
    "duration": 22,
    "start_time": "2023-01-26T11:35:17.623Z"
   },
   {
    "duration": 135,
    "start_time": "2023-01-26T11:35:17.647Z"
   },
   {
    "duration": 17,
    "start_time": "2023-01-26T11:35:17.784Z"
   },
   {
    "duration": 12,
    "start_time": "2023-01-26T11:35:17.804Z"
   },
   {
    "duration": 2559,
    "start_time": "2023-01-26T11:35:17.818Z"
   },
   {
    "duration": 13,
    "start_time": "2023-01-26T11:35:20.380Z"
   },
   {
    "duration": 29,
    "start_time": "2023-01-26T11:35:20.395Z"
   },
   {
    "duration": 33,
    "start_time": "2023-01-26T11:35:20.426Z"
   },
   {
    "duration": 1237,
    "start_time": "2023-01-26T11:35:20.461Z"
   },
   {
    "duration": 13,
    "start_time": "2023-01-26T11:35:21.700Z"
   },
   {
    "duration": 13,
    "start_time": "2023-01-26T11:35:21.715Z"
   },
   {
    "duration": 12,
    "start_time": "2023-01-26T11:35:21.730Z"
   },
   {
    "duration": 50,
    "start_time": "2023-01-26T11:35:21.744Z"
   },
   {
    "duration": 4,
    "start_time": "2023-01-26T11:35:21.796Z"
   },
   {
    "duration": 70,
    "start_time": "2023-01-26T11:35:21.802Z"
   },
   {
    "duration": 2,
    "start_time": "2023-01-26T11:35:21.874Z"
   },
   {
    "duration": 18,
    "start_time": "2023-01-26T11:35:21.878Z"
   },
   {
    "duration": 6,
    "start_time": "2023-01-26T11:35:21.898Z"
   },
   {
    "duration": 139,
    "start_time": "2023-01-26T11:35:21.905Z"
   },
   {
    "duration": 195,
    "start_time": "2023-01-26T11:35:22.046Z"
   },
   {
    "duration": 197,
    "start_time": "2023-01-26T11:35:22.243Z"
   },
   {
    "duration": 4,
    "start_time": "2023-01-26T11:35:22.443Z"
   },
   {
    "duration": 96,
    "start_time": "2023-01-26T11:35:22.449Z"
   },
   {
    "duration": 6,
    "start_time": "2023-01-26T11:35:22.549Z"
   },
   {
    "duration": 7,
    "start_time": "2023-01-26T11:35:22.557Z"
   },
   {
    "duration": 6,
    "start_time": "2023-01-26T11:35:22.566Z"
   },
   {
    "duration": 9,
    "start_time": "2023-01-26T11:35:22.574Z"
   },
   {
    "duration": 22,
    "start_time": "2023-01-26T11:35:22.585Z"
   },
   {
    "duration": 9,
    "start_time": "2023-01-26T11:35:22.609Z"
   },
   {
    "duration": 10,
    "start_time": "2023-01-26T11:35:22.620Z"
   },
   {
    "duration": 11377,
    "start_time": "2023-01-26T11:35:22.632Z"
   },
   {
    "duration": 5,
    "start_time": "2023-01-26T11:39:18.049Z"
   },
   {
    "duration": 4,
    "start_time": "2023-01-26T11:39:25.749Z"
   },
   {
    "duration": 10862,
    "start_time": "2023-01-26T11:39:31.263Z"
   },
   {
    "duration": 4,
    "start_time": "2023-01-26T11:39:55.322Z"
   },
   {
    "duration": 7,
    "start_time": "2023-01-26T11:39:57.688Z"
   },
   {
    "duration": 6,
    "start_time": "2023-01-26T11:39:59.821Z"
   },
   {
    "duration": 6,
    "start_time": "2023-01-26T11:40:00.621Z"
   },
   {
    "duration": 447,
    "start_time": "2023-01-26T11:43:00.249Z"
   },
   {
    "duration": 294,
    "start_time": "2023-01-26T11:43:18.010Z"
   },
   {
    "duration": 196,
    "start_time": "2023-01-26T11:43:37.597Z"
   },
   {
    "duration": 178,
    "start_time": "2023-01-26T11:43:47.940Z"
   },
   {
    "duration": 196,
    "start_time": "2023-01-26T11:44:02.169Z"
   },
   {
    "duration": 233,
    "start_time": "2023-01-26T11:44:08.956Z"
   },
   {
    "duration": 191,
    "start_time": "2023-01-26T11:44:15.180Z"
   },
   {
    "duration": 285,
    "start_time": "2023-01-26T11:45:02.720Z"
   },
   {
    "duration": 273,
    "start_time": "2023-01-26T11:45:22.580Z"
   },
   {
    "duration": 257,
    "start_time": "2023-01-26T11:45:32.570Z"
   },
   {
    "duration": 408,
    "start_time": "2023-01-26T11:45:49.101Z"
   },
   {
    "duration": 263,
    "start_time": "2023-01-26T11:46:04.449Z"
   },
   {
    "duration": 270,
    "start_time": "2023-01-26T11:46:29.309Z"
   },
   {
    "duration": 21,
    "start_time": "2023-01-26T11:46:40.917Z"
   },
   {
    "duration": 273,
    "start_time": "2023-01-26T11:46:56.301Z"
   },
   {
    "duration": 199,
    "start_time": "2023-01-26T11:46:59.982Z"
   },
   {
    "duration": 280,
    "start_time": "2023-01-26T11:47:08.060Z"
   },
   {
    "duration": 373,
    "start_time": "2023-01-26T11:47:36.700Z"
   },
   {
    "duration": 263,
    "start_time": "2023-01-26T11:47:51.561Z"
   },
   {
    "duration": 330,
    "start_time": "2023-01-26T11:48:17.598Z"
   },
   {
    "duration": 324,
    "start_time": "2023-01-26T11:48:36.800Z"
   },
   {
    "duration": 353,
    "start_time": "2023-01-26T11:48:56.941Z"
   },
   {
    "duration": 345,
    "start_time": "2023-01-26T11:49:24.556Z"
   },
   {
    "duration": 452,
    "start_time": "2023-01-26T11:49:40.066Z"
   },
   {
    "duration": 362,
    "start_time": "2023-01-26T11:49:46.998Z"
   },
   {
    "duration": 387,
    "start_time": "2023-01-26T11:50:06.406Z"
   },
   {
    "duration": 352,
    "start_time": "2023-01-26T11:50:52.997Z"
   },
   {
    "duration": 311,
    "start_time": "2023-01-26T11:54:38.221Z"
   },
   {
    "duration": 442,
    "start_time": "2023-01-26T11:54:52.357Z"
   },
   {
    "duration": 330,
    "start_time": "2023-01-26T11:55:07.244Z"
   },
   {
    "duration": 327,
    "start_time": "2023-01-26T11:55:46.557Z"
   },
   {
    "duration": 312,
    "start_time": "2023-01-26T11:55:55.045Z"
   },
   {
    "duration": 4,
    "start_time": "2023-01-26T12:01:46.706Z"
   },
   {
    "duration": 4,
    "start_time": "2023-01-26T12:03:30.849Z"
   },
   {
    "duration": 4,
    "start_time": "2023-01-26T12:03:34.369Z"
   },
   {
    "duration": 11167,
    "start_time": "2023-01-26T12:03:36.081Z"
   },
   {
    "duration": 13297,
    "start_time": "2023-01-27T12:06:59.597Z"
   },
   {
    "duration": 515,
    "start_time": "2023-01-27T12:07:12.896Z"
   },
   {
    "duration": 15,
    "start_time": "2023-01-27T12:07:13.412Z"
   },
   {
    "duration": 1094,
    "start_time": "2023-01-27T12:07:13.428Z"
   },
   {
    "duration": 12,
    "start_time": "2023-01-27T12:07:14.524Z"
   },
   {
    "duration": 645,
    "start_time": "2023-01-27T12:07:14.538Z"
   },
   {
    "duration": 23,
    "start_time": "2023-01-27T12:07:15.186Z"
   },
   {
    "duration": 54,
    "start_time": "2023-01-27T12:07:15.211Z"
   },
   {
    "duration": 2634,
    "start_time": "2023-01-27T12:07:15.267Z"
   },
   {
    "duration": 12,
    "start_time": "2023-01-27T12:07:17.903Z"
   },
   {
    "duration": 9,
    "start_time": "2023-01-27T12:07:17.916Z"
   },
   {
    "duration": 12,
    "start_time": "2023-01-27T12:07:17.926Z"
   },
   {
    "duration": 983,
    "start_time": "2023-01-27T12:07:17.968Z"
   },
   {
    "duration": 25,
    "start_time": "2023-01-27T12:07:18.955Z"
   },
   {
    "duration": 36,
    "start_time": "2023-01-27T12:07:18.986Z"
   },
   {
    "duration": 9,
    "start_time": "2023-01-27T12:07:19.024Z"
   },
   {
    "duration": 59,
    "start_time": "2023-01-27T12:07:19.035Z"
   },
   {
    "duration": 4,
    "start_time": "2023-01-27T12:07:19.099Z"
   },
   {
    "duration": 45,
    "start_time": "2023-01-27T12:07:19.105Z"
   },
   {
    "duration": 2,
    "start_time": "2023-01-27T12:07:19.152Z"
   },
   {
    "duration": 27,
    "start_time": "2023-01-27T12:07:19.156Z"
   },
   {
    "duration": 22,
    "start_time": "2023-01-27T12:07:19.184Z"
   },
   {
    "duration": 69,
    "start_time": "2023-01-27T12:07:19.208Z"
   },
   {
    "duration": 101,
    "start_time": "2023-01-27T12:07:19.306Z"
   },
   {
    "duration": 154,
    "start_time": "2023-01-27T12:07:19.470Z"
   },
   {
    "duration": 45,
    "start_time": "2023-01-27T12:07:19.627Z"
   },
   {
    "duration": 117,
    "start_time": "2023-01-27T12:07:19.682Z"
   },
   {
    "duration": 7,
    "start_time": "2023-01-27T12:07:19.801Z"
   },
   {
    "duration": 16,
    "start_time": "2023-01-27T12:07:19.810Z"
   },
   {
    "duration": 10,
    "start_time": "2023-01-27T12:07:19.828Z"
   },
   {
    "duration": 8,
    "start_time": "2023-01-27T12:07:19.840Z"
   },
   {
    "duration": 9,
    "start_time": "2023-01-27T12:07:19.849Z"
   },
   {
    "duration": 5,
    "start_time": "2023-01-27T12:07:19.859Z"
   },
   {
    "duration": 5,
    "start_time": "2023-01-27T12:07:26.745Z"
   },
   {
    "duration": 14,
    "start_time": "2023-01-27T12:07:31.465Z"
   },
   {
    "duration": 130,
    "start_time": "2023-01-27T12:07:34.616Z"
   },
   {
    "duration": 4,
    "start_time": "2023-01-27T12:09:21.411Z"
   },
   {
    "duration": 11412,
    "start_time": "2023-01-27T12:09:22.694Z"
   },
   {
    "duration": 10864,
    "start_time": "2023-01-27T12:27:18.452Z"
   },
   {
    "duration": 564,
    "start_time": "2023-01-27T12:27:29.319Z"
   },
   {
    "duration": 24,
    "start_time": "2023-01-27T12:27:29.884Z"
   },
   {
    "duration": 806,
    "start_time": "2023-01-27T12:27:29.911Z"
   },
   {
    "duration": 19,
    "start_time": "2023-01-27T12:27:30.719Z"
   },
   {
    "duration": 797,
    "start_time": "2023-01-27T12:27:30.740Z"
   },
   {
    "duration": 20,
    "start_time": "2023-01-27T12:27:31.539Z"
   },
   {
    "duration": 16,
    "start_time": "2023-01-27T12:27:31.561Z"
   },
   {
    "duration": 2736,
    "start_time": "2023-01-27T12:27:31.580Z"
   },
   {
    "duration": 14,
    "start_time": "2023-01-27T12:27:34.319Z"
   },
   {
    "duration": 15,
    "start_time": "2023-01-27T12:27:34.335Z"
   },
   {
    "duration": 57,
    "start_time": "2023-01-27T12:27:34.351Z"
   },
   {
    "duration": 1248,
    "start_time": "2023-01-27T12:27:34.411Z"
   },
   {
    "duration": 25,
    "start_time": "2023-01-27T12:27:35.661Z"
   },
   {
    "duration": 34,
    "start_time": "2023-01-27T12:27:35.693Z"
   },
   {
    "duration": 10,
    "start_time": "2023-01-27T12:27:35.729Z"
   },
   {
    "duration": 70,
    "start_time": "2023-01-27T12:27:35.740Z"
   },
   {
    "duration": 5,
    "start_time": "2023-01-27T12:27:35.816Z"
   },
   {
    "duration": 62,
    "start_time": "2023-01-27T12:27:35.823Z"
   },
   {
    "duration": 8,
    "start_time": "2023-01-27T12:27:35.888Z"
   },
   {
    "duration": 32,
    "start_time": "2023-01-27T12:27:35.898Z"
   },
   {
    "duration": 10,
    "start_time": "2023-01-27T12:27:35.933Z"
   },
   {
    "duration": 251,
    "start_time": "2023-01-27T12:27:35.945Z"
   },
   {
    "duration": 119,
    "start_time": "2023-01-27T12:27:36.202Z"
   },
   {
    "duration": 148,
    "start_time": "2023-01-27T12:27:36.383Z"
   },
   {
    "duration": 3,
    "start_time": "2023-01-27T12:27:36.533Z"
   },
   {
    "duration": 184,
    "start_time": "2023-01-27T12:27:36.537Z"
   },
   {
    "duration": 9,
    "start_time": "2023-01-27T12:27:36.725Z"
   },
   {
    "duration": 9,
    "start_time": "2023-01-27T12:27:36.736Z"
   },
   {
    "duration": 64,
    "start_time": "2023-01-27T12:27:36.747Z"
   },
   {
    "duration": 19,
    "start_time": "2023-01-27T12:27:36.813Z"
   },
   {
    "duration": 12,
    "start_time": "2023-01-27T12:27:36.834Z"
   },
   {
    "duration": 8,
    "start_time": "2023-01-27T12:27:36.848Z"
   },
   {
    "duration": 43,
    "start_time": "2023-01-27T12:27:36.858Z"
   },
   {
    "duration": 11134,
    "start_time": "2023-01-27T12:27:36.902Z"
   },
   {
    "duration": 10900,
    "start_time": "2023-01-27T12:29:06.710Z"
   },
   {
    "duration": 5,
    "start_time": "2023-01-27T12:29:25.097Z"
   },
   {
    "duration": 5467,
    "start_time": "2023-01-27T12:29:27.645Z"
   },
   {
    "duration": 4,
    "start_time": "2023-01-27T12:29:37.605Z"
   },
   {
    "duration": 16,
    "start_time": "2023-01-27T12:29:38.684Z"
   },
   {
    "duration": 6,
    "start_time": "2023-01-27T12:29:41.605Z"
   },
   {
    "duration": 6,
    "start_time": "2023-01-27T12:29:43.006Z"
   },
   {
    "duration": 360,
    "start_time": "2023-01-27T12:29:47.646Z"
   },
   {
    "duration": 9827,
    "start_time": "2023-01-28T11:39:17.581Z"
   },
   {
    "duration": 505,
    "start_time": "2023-01-28T11:39:27.410Z"
   },
   {
    "duration": 15,
    "start_time": "2023-01-28T11:39:27.917Z"
   },
   {
    "duration": 217,
    "start_time": "2023-01-28T11:39:27.934Z"
   },
   {
    "duration": 17,
    "start_time": "2023-01-28T11:39:28.154Z"
   },
   {
    "duration": 233,
    "start_time": "2023-01-28T11:39:28.173Z"
   },
   {
    "duration": 14,
    "start_time": "2023-01-28T11:39:28.408Z"
   },
   {
    "duration": 19,
    "start_time": "2023-01-28T11:39:28.424Z"
   },
   {
    "duration": 2460,
    "start_time": "2023-01-28T11:39:28.444Z"
   },
   {
    "duration": 11,
    "start_time": "2023-01-28T11:39:30.906Z"
   },
   {
    "duration": 23,
    "start_time": "2023-01-28T11:39:30.918Z"
   },
   {
    "duration": 14,
    "start_time": "2023-01-28T11:39:30.942Z"
   },
   {
    "duration": 1086,
    "start_time": "2023-01-28T11:39:30.957Z"
   },
   {
    "duration": 11,
    "start_time": "2023-01-28T11:39:32.046Z"
   },
   {
    "duration": 46,
    "start_time": "2023-01-28T11:39:32.059Z"
   },
   {
    "duration": 47,
    "start_time": "2023-01-28T11:39:32.107Z"
   },
   {
    "duration": 64,
    "start_time": "2023-01-28T11:39:32.156Z"
   },
   {
    "duration": 4,
    "start_time": "2023-01-28T11:39:32.222Z"
   },
   {
    "duration": 71,
    "start_time": "2023-01-28T11:39:32.228Z"
   },
   {
    "duration": 2,
    "start_time": "2023-01-28T11:39:32.301Z"
   },
   {
    "duration": 8,
    "start_time": "2023-01-28T11:39:32.305Z"
   },
   {
    "duration": 7,
    "start_time": "2023-01-28T11:39:32.315Z"
   },
   {
    "duration": 37,
    "start_time": "2023-01-28T11:39:32.323Z"
   },
   {
    "duration": 209,
    "start_time": "2023-01-28T11:39:32.444Z"
   },
   {
    "duration": 189,
    "start_time": "2023-01-28T11:39:32.655Z"
   },
   {
    "duration": 4,
    "start_time": "2023-01-28T11:39:32.846Z"
   },
   {
    "duration": 88,
    "start_time": "2023-01-28T11:39:32.853Z"
   },
   {
    "duration": 9,
    "start_time": "2023-01-28T11:39:32.943Z"
   },
   {
    "duration": 5,
    "start_time": "2023-01-28T11:39:32.954Z"
   },
   {
    "duration": 5,
    "start_time": "2023-01-28T11:39:32.960Z"
   },
   {
    "duration": 9,
    "start_time": "2023-01-28T11:39:32.967Z"
   },
   {
    "duration": 123,
    "start_time": "2023-01-28T11:39:32.978Z"
   },
   {
    "duration": 11,
    "start_time": "2023-01-28T11:40:47.630Z"
   },
   {
    "duration": 8,
    "start_time": "2023-01-28T11:41:01.477Z"
   },
   {
    "duration": 9,
    "start_time": "2023-01-28T11:41:44.014Z"
   },
   {
    "duration": 9,
    "start_time": "2023-01-28T11:41:47.682Z"
   },
   {
    "duration": 9,
    "start_time": "2023-01-28T11:41:59.696Z"
   },
   {
    "duration": 10,
    "start_time": "2023-01-28T11:42:02.261Z"
   },
   {
    "duration": 3,
    "start_time": "2023-01-28T11:42:23.687Z"
   },
   {
    "duration": 11,
    "start_time": "2023-01-28T11:42:46.291Z"
   },
   {
    "duration": 10,
    "start_time": "2023-01-28T11:42:52.991Z"
   },
   {
    "duration": 6,
    "start_time": "2023-01-28T11:44:17.733Z"
   },
   {
    "duration": 3516,
    "start_time": "2023-01-28T11:46:25.585Z"
   },
   {
    "duration": 160,
    "start_time": "2023-01-28T11:46:29.104Z"
   },
   {
    "duration": 16,
    "start_time": "2023-01-28T11:46:29.266Z"
   },
   {
    "duration": 143,
    "start_time": "2023-01-28T11:46:29.284Z"
   },
   {
    "duration": 19,
    "start_time": "2023-01-28T11:46:29.430Z"
   },
   {
    "duration": 141,
    "start_time": "2023-01-28T11:46:29.451Z"
   },
   {
    "duration": 15,
    "start_time": "2023-01-28T11:46:29.594Z"
   },
   {
    "duration": 30,
    "start_time": "2023-01-28T11:46:29.610Z"
   },
   {
    "duration": 2369,
    "start_time": "2023-01-28T11:46:29.642Z"
   },
   {
    "duration": 13,
    "start_time": "2023-01-28T11:46:32.013Z"
   },
   {
    "duration": 10,
    "start_time": "2023-01-28T11:46:32.041Z"
   },
   {
    "duration": 20,
    "start_time": "2023-01-28T11:46:32.053Z"
   },
   {
    "duration": 1021,
    "start_time": "2023-01-28T11:46:32.075Z"
   },
   {
    "duration": 13,
    "start_time": "2023-01-28T11:46:33.100Z"
   },
   {
    "duration": 12,
    "start_time": "2023-01-28T11:46:33.115Z"
   },
   {
    "duration": 11,
    "start_time": "2023-01-28T11:46:33.129Z"
   },
   {
    "duration": 50,
    "start_time": "2023-01-28T11:46:33.142Z"
   },
   {
    "duration": 3,
    "start_time": "2023-01-28T11:46:33.194Z"
   },
   {
    "duration": 74,
    "start_time": "2023-01-28T11:46:33.199Z"
   },
   {
    "duration": 2,
    "start_time": "2023-01-28T11:46:33.275Z"
   },
   {
    "duration": 9,
    "start_time": "2023-01-28T11:46:33.279Z"
   },
   {
    "duration": 7,
    "start_time": "2023-01-28T11:46:33.290Z"
   },
   {
    "duration": 143,
    "start_time": "2023-01-28T11:46:33.299Z"
   },
   {
    "duration": 199,
    "start_time": "2023-01-28T11:46:33.444Z"
   },
   {
    "duration": 124,
    "start_time": "2023-01-28T11:46:33.645Z"
   },
   {
    "duration": 93,
    "start_time": "2023-01-28T11:46:33.850Z"
   },
   {
    "duration": 6,
    "start_time": "2023-01-28T11:46:33.945Z"
   },
   {
    "duration": 8,
    "start_time": "2023-01-28T11:46:33.953Z"
   },
   {
    "duration": 6,
    "start_time": "2023-01-28T11:46:33.963Z"
   },
   {
    "duration": 9,
    "start_time": "2023-01-28T11:46:33.971Z"
   },
   {
    "duration": 11,
    "start_time": "2023-01-28T11:46:33.982Z"
   },
   {
    "duration": 7,
    "start_time": "2023-01-28T11:46:33.995Z"
   },
   {
    "duration": 4,
    "start_time": "2023-01-28T11:46:34.003Z"
   },
   {
    "duration": 10,
    "start_time": "2023-01-28T11:46:34.009Z"
   },
   {
    "duration": 4,
    "start_time": "2023-01-28T11:46:42.339Z"
   },
   {
    "duration": 4,
    "start_time": "2023-01-28T11:47:48.788Z"
   },
   {
    "duration": 11,
    "start_time": "2023-01-28T11:50:48.138Z"
   },
   {
    "duration": 11,
    "start_time": "2023-01-28T11:51:00.354Z"
   },
   {
    "duration": 12,
    "start_time": "2023-01-28T11:51:19.753Z"
   },
   {
    "duration": 11,
    "start_time": "2023-01-28T11:51:24.397Z"
   },
   {
    "duration": 23,
    "start_time": "2023-01-28T11:53:55.041Z"
   },
   {
    "duration": 22,
    "start_time": "2023-01-28T11:54:13.470Z"
   },
   {
    "duration": 22,
    "start_time": "2023-01-28T11:54:24.674Z"
   },
   {
    "duration": 3415,
    "start_time": "2023-01-28T11:54:52.097Z"
   },
   {
    "duration": 155,
    "start_time": "2023-01-28T11:54:55.515Z"
   },
   {
    "duration": 16,
    "start_time": "2023-01-28T11:54:55.671Z"
   },
   {
    "duration": 144,
    "start_time": "2023-01-28T11:54:55.688Z"
   },
   {
    "duration": 18,
    "start_time": "2023-01-28T11:54:55.835Z"
   },
   {
    "duration": 137,
    "start_time": "2023-01-28T11:54:55.855Z"
   },
   {
    "duration": 14,
    "start_time": "2023-01-28T11:54:55.994Z"
   },
   {
    "duration": 10,
    "start_time": "2023-01-28T11:54:56.009Z"
   },
   {
    "duration": 2559,
    "start_time": "2023-01-28T11:54:56.020Z"
   },
   {
    "duration": 13,
    "start_time": "2023-01-28T11:54:58.581Z"
   },
   {
    "duration": 10,
    "start_time": "2023-01-28T11:54:58.596Z"
   },
   {
    "duration": 38,
    "start_time": "2023-01-28T11:54:58.609Z"
   },
   {
    "duration": 1181,
    "start_time": "2023-01-28T11:54:58.649Z"
   },
   {
    "duration": 12,
    "start_time": "2023-01-28T11:54:59.842Z"
   },
   {
    "duration": 8,
    "start_time": "2023-01-28T11:54:59.857Z"
   },
   {
    "duration": 6,
    "start_time": "2023-01-28T11:54:59.868Z"
   },
   {
    "duration": 65,
    "start_time": "2023-01-28T11:54:59.876Z"
   },
   {
    "duration": 4,
    "start_time": "2023-01-28T11:54:59.943Z"
   },
   {
    "duration": 48,
    "start_time": "2023-01-28T11:54:59.948Z"
   },
   {
    "duration": 2,
    "start_time": "2023-01-28T11:54:59.998Z"
   },
   {
    "duration": 19,
    "start_time": "2023-01-28T11:55:00.002Z"
   },
   {
    "duration": 23,
    "start_time": "2023-01-28T11:55:00.023Z"
   },
   {
    "duration": 200,
    "start_time": "2023-01-28T11:55:00.047Z"
   },
   {
    "duration": 109,
    "start_time": "2023-01-28T11:55:00.249Z"
   },
   {
    "duration": 118,
    "start_time": "2023-01-28T11:55:00.444Z"
   },
   {
    "duration": 200,
    "start_time": "2023-01-28T11:55:00.566Z"
   },
   {
    "duration": 68,
    "start_time": "2023-01-28T11:55:00.768Z"
   },
   {
    "duration": 49,
    "start_time": "2023-01-28T11:55:00.838Z"
   },
   {
    "duration": 36,
    "start_time": "2023-01-28T11:55:00.889Z"
   },
   {
    "duration": 20,
    "start_time": "2023-01-28T11:55:00.927Z"
   },
   {
    "duration": 19,
    "start_time": "2023-01-28T11:55:00.949Z"
   },
   {
    "duration": 56,
    "start_time": "2023-01-28T11:55:00.969Z"
   },
   {
    "duration": 34,
    "start_time": "2023-01-28T11:55:01.026Z"
   },
   {
    "duration": 45,
    "start_time": "2023-01-28T11:55:01.062Z"
   },
   {
    "duration": 57,
    "start_time": "2023-01-28T11:55:01.109Z"
   },
   {
    "duration": 5422,
    "start_time": "2023-01-28T11:55:01.168Z"
   },
   {
    "duration": 4,
    "start_time": "2023-01-28T11:55:06.592Z"
   },
   {
    "duration": 13,
    "start_time": "2023-01-28T11:55:06.598Z"
   },
   {
    "duration": 9,
    "start_time": "2023-01-28T11:55:06.613Z"
   },
   {
    "duration": 7,
    "start_time": "2023-01-28T11:55:06.640Z"
   },
   {
    "duration": 358,
    "start_time": "2023-01-28T11:55:06.650Z"
   },
   {
    "duration": 41,
    "start_time": "2023-01-28T11:58:59.136Z"
   },
   {
    "duration": 4,
    "start_time": "2023-01-28T11:59:40.465Z"
   },
   {
    "duration": 25,
    "start_time": "2023-01-28T12:01:54.431Z"
   },
   {
    "duration": 4,
    "start_time": "2023-01-28T12:05:16.246Z"
   },
   {
    "duration": 3460,
    "start_time": "2023-01-28T12:06:33.439Z"
   },
   {
    "duration": 158,
    "start_time": "2023-01-28T12:06:36.902Z"
   },
   {
    "duration": 14,
    "start_time": "2023-01-28T12:06:37.062Z"
   },
   {
    "duration": 140,
    "start_time": "2023-01-28T12:06:37.078Z"
   },
   {
    "duration": 22,
    "start_time": "2023-01-28T12:06:37.220Z"
   },
   {
    "duration": 130,
    "start_time": "2023-01-28T12:06:37.243Z"
   },
   {
    "duration": 14,
    "start_time": "2023-01-28T12:06:37.374Z"
   },
   {
    "duration": 10,
    "start_time": "2023-01-28T12:06:37.390Z"
   },
   {
    "duration": 2593,
    "start_time": "2023-01-28T12:06:37.401Z"
   },
   {
    "duration": 13,
    "start_time": "2023-01-28T12:06:39.995Z"
   },
   {
    "duration": 13,
    "start_time": "2023-01-28T12:06:40.009Z"
   },
   {
    "duration": 26,
    "start_time": "2023-01-28T12:06:40.023Z"
   },
   {
    "duration": 1053,
    "start_time": "2023-01-28T12:06:40.051Z"
   },
   {
    "duration": 12,
    "start_time": "2023-01-28T12:06:41.107Z"
   },
   {
    "duration": 7,
    "start_time": "2023-01-28T12:06:41.121Z"
   },
   {
    "duration": 5,
    "start_time": "2023-01-28T12:06:41.139Z"
   },
   {
    "duration": 47,
    "start_time": "2023-01-28T12:06:41.146Z"
   },
   {
    "duration": 4,
    "start_time": "2023-01-28T12:06:41.195Z"
   },
   {
    "duration": 68,
    "start_time": "2023-01-28T12:06:41.201Z"
   },
   {
    "duration": 3,
    "start_time": "2023-01-28T12:06:41.271Z"
   },
   {
    "duration": 40,
    "start_time": "2023-01-28T12:06:41.276Z"
   },
   {
    "duration": 22,
    "start_time": "2023-01-28T12:06:41.318Z"
   },
   {
    "duration": 201,
    "start_time": "2023-01-28T12:06:41.341Z"
   },
   {
    "duration": 194,
    "start_time": "2023-01-28T12:06:41.545Z"
   },
   {
    "duration": 123,
    "start_time": "2023-01-28T12:06:41.744Z"
   },
   {
    "duration": 3,
    "start_time": "2023-01-28T12:06:41.942Z"
   },
   {
    "duration": 7,
    "start_time": "2023-01-28T12:06:42.039Z"
   },
   {
    "duration": 10,
    "start_time": "2023-01-28T12:06:42.048Z"
   },
   {
    "duration": 5,
    "start_time": "2023-01-28T12:06:42.060Z"
   },
   {
    "duration": 8,
    "start_time": "2023-01-28T12:06:42.067Z"
   },
   {
    "duration": 21,
    "start_time": "2023-01-28T12:06:42.076Z"
   },
   {
    "duration": 13,
    "start_time": "2023-01-28T12:06:42.099Z"
   },
   {
    "duration": 6,
    "start_time": "2023-01-28T12:06:42.113Z"
   },
   {
    "duration": 31,
    "start_time": "2023-01-28T12:06:42.120Z"
   },
   {
    "duration": 4,
    "start_time": "2023-01-28T12:06:42.153Z"
   },
   {
    "duration": 5337,
    "start_time": "2023-01-28T12:06:42.158Z"
   },
   {
    "duration": 4,
    "start_time": "2023-01-28T12:06:47.498Z"
   },
   {
    "duration": 33,
    "start_time": "2023-01-28T12:06:47.504Z"
   },
   {
    "duration": 47,
    "start_time": "2023-01-28T12:06:47.539Z"
   },
   {
    "duration": 41,
    "start_time": "2023-01-28T12:06:47.587Z"
   },
   {
    "duration": 354,
    "start_time": "2023-01-28T12:06:47.632Z"
   },
   {
    "duration": 52,
    "start_time": "2023-01-29T08:30:20.491Z"
   },
   {
    "duration": 9155,
    "start_time": "2023-01-29T08:30:24.715Z"
   },
   {
    "duration": 163,
    "start_time": "2023-01-29T08:30:33.872Z"
   },
   {
    "duration": 1313,
    "start_time": "2023-01-29T08:30:34.038Z"
   },
   {
    "duration": 599,
    "start_time": "2023-01-29T08:30:35.354Z"
   },
   {
    "duration": 17,
    "start_time": "2023-01-29T08:30:35.956Z"
   },
   {
    "duration": 143,
    "start_time": "2023-01-29T08:30:35.975Z"
   },
   {
    "duration": 26,
    "start_time": "2023-01-29T08:30:36.120Z"
   },
   {
    "duration": 12,
    "start_time": "2023-01-29T08:30:36.147Z"
   },
   {
    "duration": 2556,
    "start_time": "2023-01-29T08:30:36.160Z"
   },
   {
    "duration": 21,
    "start_time": "2023-01-29T08:30:38.720Z"
   },
   {
    "duration": 11,
    "start_time": "2023-01-29T08:30:38.743Z"
   },
   {
    "duration": 13,
    "start_time": "2023-01-29T08:30:38.756Z"
   },
   {
    "duration": 1084,
    "start_time": "2023-01-29T08:30:38.771Z"
   },
   {
    "duration": 11,
    "start_time": "2023-01-29T08:30:39.856Z"
   },
   {
    "duration": 26,
    "start_time": "2023-01-29T08:30:39.869Z"
   },
   {
    "duration": 7,
    "start_time": "2023-01-29T08:30:39.896Z"
   },
   {
    "duration": 49,
    "start_time": "2023-01-29T08:30:39.904Z"
   },
   {
    "duration": 4,
    "start_time": "2023-01-29T08:30:39.955Z"
   },
   {
    "duration": 47,
    "start_time": "2023-01-29T08:30:39.961Z"
   },
   {
    "duration": 3,
    "start_time": "2023-01-29T08:30:40.010Z"
   },
   {
    "duration": 13,
    "start_time": "2023-01-29T08:30:40.015Z"
   },
   {
    "duration": 5,
    "start_time": "2023-01-29T08:30:40.040Z"
   },
   {
    "duration": 206,
    "start_time": "2023-01-29T08:30:40.047Z"
   },
   {
    "duration": 200,
    "start_time": "2023-01-29T08:30:40.255Z"
   },
   {
    "duration": 201,
    "start_time": "2023-01-29T08:30:40.457Z"
   },
   {
    "duration": 81,
    "start_time": "2023-01-29T08:30:40.661Z"
   },
   {
    "duration": 96,
    "start_time": "2023-01-29T08:30:40.745Z"
   },
   {
    "duration": 68,
    "start_time": "2023-01-29T08:30:40.845Z"
   },
   {
    "duration": 6,
    "start_time": "2023-01-29T08:30:40.915Z"
   },
   {
    "duration": 20,
    "start_time": "2023-01-29T08:30:40.923Z"
   },
   {
    "duration": 15,
    "start_time": "2023-01-29T08:30:40.945Z"
   },
   {
    "duration": 11,
    "start_time": "2023-01-29T08:30:40.962Z"
   },
   {
    "duration": 8,
    "start_time": "2023-01-29T08:30:40.974Z"
   },
   {
    "duration": 9,
    "start_time": "2023-01-29T08:30:40.983Z"
   },
   {
    "duration": 26,
    "start_time": "2023-01-29T08:30:40.994Z"
   },
   {
    "duration": 4,
    "start_time": "2023-01-29T08:30:41.022Z"
   },
   {
    "duration": 5739,
    "start_time": "2023-01-29T08:30:41.028Z"
   },
   {
    "duration": 3,
    "start_time": "2023-01-29T08:30:46.769Z"
   },
   {
    "duration": 21,
    "start_time": "2023-01-29T08:30:46.773Z"
   },
   {
    "duration": 14,
    "start_time": "2023-01-29T08:30:46.795Z"
   },
   {
    "duration": 14,
    "start_time": "2023-01-29T08:30:46.811Z"
   },
   {
    "duration": 368,
    "start_time": "2023-01-29T08:30:46.827Z"
   },
   {
    "duration": 9839,
    "start_time": "2023-01-29T11:41:17.827Z"
   },
   {
    "duration": 799,
    "start_time": "2023-01-29T11:41:27.668Z"
   },
   {
    "duration": 14,
    "start_time": "2023-01-29T11:41:28.469Z"
   },
   {
    "duration": 195,
    "start_time": "2023-01-29T11:41:28.485Z"
   },
   {
    "duration": 15,
    "start_time": "2023-01-29T11:41:28.683Z"
   },
   {
    "duration": 249,
    "start_time": "2023-01-29T11:41:28.700Z"
   },
   {
    "duration": 13,
    "start_time": "2023-01-29T11:41:28.951Z"
   },
   {
    "duration": 9,
    "start_time": "2023-01-29T11:41:28.965Z"
   },
   {
    "duration": 2147,
    "start_time": "2023-01-29T11:41:28.975Z"
   },
   {
    "duration": 11,
    "start_time": "2023-01-29T11:41:31.125Z"
   },
   {
    "duration": 36,
    "start_time": "2023-01-29T11:41:31.138Z"
   },
   {
    "duration": 38,
    "start_time": "2023-01-29T11:41:31.176Z"
   },
   {
    "duration": 970,
    "start_time": "2023-01-29T11:41:31.216Z"
   },
   {
    "duration": 10,
    "start_time": "2023-01-29T11:41:32.188Z"
   },
   {
    "duration": 9,
    "start_time": "2023-01-29T11:41:32.199Z"
   },
   {
    "duration": 8,
    "start_time": "2023-01-29T11:41:32.210Z"
   },
   {
    "duration": 53,
    "start_time": "2023-01-29T11:41:32.220Z"
   },
   {
    "duration": 3,
    "start_time": "2023-01-29T11:41:32.275Z"
   },
   {
    "duration": 42,
    "start_time": "2023-01-29T11:41:32.279Z"
   },
   {
    "duration": 3,
    "start_time": "2023-01-29T11:41:32.322Z"
   },
   {
    "duration": 7,
    "start_time": "2023-01-29T11:41:32.326Z"
   },
   {
    "duration": 4,
    "start_time": "2023-01-29T11:41:32.334Z"
   },
   {
    "duration": 175,
    "start_time": "2023-01-29T11:41:32.340Z"
   },
   {
    "duration": 197,
    "start_time": "2023-01-29T11:41:32.517Z"
   },
   {
    "duration": 110,
    "start_time": "2023-01-29T11:41:32.717Z"
   },
   {
    "duration": 9,
    "start_time": "2023-01-29T11:41:32.828Z"
   },
   {
    "duration": 8,
    "start_time": "2023-01-29T11:41:32.911Z"
   },
   {
    "duration": 88,
    "start_time": "2023-01-29T11:41:32.925Z"
   },
   {
    "duration": 12,
    "start_time": "2023-01-29T11:41:33.015Z"
   },
   {
    "duration": 26,
    "start_time": "2023-01-29T11:41:33.029Z"
   },
   {
    "duration": 26,
    "start_time": "2023-01-29T11:41:33.057Z"
   },
   {
    "duration": 30,
    "start_time": "2023-01-29T11:41:33.085Z"
   },
   {
    "duration": 7,
    "start_time": "2023-01-29T11:41:33.117Z"
   },
   {
    "duration": 15,
    "start_time": "2023-01-29T11:41:33.126Z"
   },
   {
    "duration": 32,
    "start_time": "2023-01-29T11:41:33.143Z"
   },
   {
    "duration": 4,
    "start_time": "2023-01-29T11:41:33.177Z"
   },
   {
    "duration": 149,
    "start_time": "2023-01-29T11:41:33.182Z"
   },
   {
    "duration": 5,
    "start_time": "2023-01-29T11:41:53.672Z"
   },
   {
    "duration": 7710,
    "start_time": "2023-01-29T11:41:54.899Z"
   },
   {
    "duration": 5,
    "start_time": "2023-01-29T11:48:23.871Z"
   },
   {
    "duration": 4,
    "start_time": "2023-01-29T11:49:51.269Z"
   },
   {
    "duration": 9588,
    "start_time": "2023-01-29T11:49:55.037Z"
   },
   {
    "duration": 3204,
    "start_time": "2023-01-29T13:14:32.787Z"
   },
   {
    "duration": 142,
    "start_time": "2023-01-29T13:14:35.994Z"
   },
   {
    "duration": 16,
    "start_time": "2023-01-29T13:14:36.138Z"
   },
   {
    "duration": 132,
    "start_time": "2023-01-29T13:14:36.156Z"
   },
   {
    "duration": 21,
    "start_time": "2023-01-29T13:14:36.290Z"
   },
   {
    "duration": 117,
    "start_time": "2023-01-29T13:14:36.313Z"
   },
   {
    "duration": 15,
    "start_time": "2023-01-29T13:14:36.432Z"
   },
   {
    "duration": 11,
    "start_time": "2023-01-29T13:14:36.448Z"
   },
   {
    "duration": 2222,
    "start_time": "2023-01-29T13:14:36.460Z"
   },
   {
    "duration": 13,
    "start_time": "2023-01-29T13:14:38.683Z"
   },
   {
    "duration": 20,
    "start_time": "2023-01-29T13:14:38.697Z"
   },
   {
    "duration": 9,
    "start_time": "2023-01-29T13:14:38.718Z"
   },
   {
    "duration": 941,
    "start_time": "2023-01-29T13:14:38.729Z"
   },
   {
    "duration": 10,
    "start_time": "2023-01-29T13:14:39.673Z"
   },
   {
    "duration": 33,
    "start_time": "2023-01-29T13:14:39.685Z"
   },
   {
    "duration": 48,
    "start_time": "2023-01-29T13:14:39.719Z"
   },
   {
    "duration": 81,
    "start_time": "2023-01-29T13:14:39.769Z"
   },
   {
    "duration": 3,
    "start_time": "2023-01-29T13:14:39.852Z"
   },
   {
    "duration": 80,
    "start_time": "2023-01-29T13:14:39.857Z"
   },
   {
    "duration": 9,
    "start_time": "2023-01-29T13:14:39.938Z"
   },
   {
    "duration": 21,
    "start_time": "2023-01-29T13:14:39.949Z"
   },
   {
    "duration": 28,
    "start_time": "2023-01-29T13:14:39.972Z"
   },
   {
    "duration": 208,
    "start_time": "2023-01-29T13:14:40.001Z"
   },
   {
    "duration": 107,
    "start_time": "2023-01-29T13:14:40.211Z"
   },
   {
    "duration": 197,
    "start_time": "2023-01-29T13:14:40.320Z"
   },
   {
    "duration": 2,
    "start_time": "2023-01-29T13:14:40.519Z"
   },
   {
    "duration": 111,
    "start_time": "2023-01-29T13:14:40.615Z"
   },
   {
    "duration": 27,
    "start_time": "2023-01-29T13:14:40.728Z"
   },
   {
    "duration": 54,
    "start_time": "2023-01-29T13:14:40.756Z"
   },
   {
    "duration": 24,
    "start_time": "2023-01-29T13:14:40.811Z"
   },
   {
    "duration": 34,
    "start_time": "2023-01-29T13:14:40.837Z"
   },
   {
    "duration": 19,
    "start_time": "2023-01-29T13:14:40.873Z"
   },
   {
    "duration": 27,
    "start_time": "2023-01-29T13:14:40.894Z"
   },
   {
    "duration": 39,
    "start_time": "2023-01-29T13:14:40.922Z"
   },
   {
    "duration": 135,
    "start_time": "2023-01-29T13:14:40.963Z"
   },
   {
    "duration": 0,
    "start_time": "2023-01-29T13:14:41.100Z"
   },
   {
    "duration": 3240,
    "start_time": "2023-01-29T13:16:00.543Z"
   },
   {
    "duration": 141,
    "start_time": "2023-01-29T13:16:03.785Z"
   },
   {
    "duration": 14,
    "start_time": "2023-01-29T13:16:03.927Z"
   },
   {
    "duration": 121,
    "start_time": "2023-01-29T13:16:03.942Z"
   },
   {
    "duration": 13,
    "start_time": "2023-01-29T13:16:04.066Z"
   },
   {
    "duration": 126,
    "start_time": "2023-01-29T13:16:04.080Z"
   },
   {
    "duration": 13,
    "start_time": "2023-01-29T13:16:04.209Z"
   },
   {
    "duration": 9,
    "start_time": "2023-01-29T13:16:04.224Z"
   },
   {
    "duration": 2113,
    "start_time": "2023-01-29T13:16:04.234Z"
   },
   {
    "duration": 13,
    "start_time": "2023-01-29T13:16:06.349Z"
   },
   {
    "duration": 9,
    "start_time": "2023-01-29T13:16:06.363Z"
   },
   {
    "duration": 8,
    "start_time": "2023-01-29T13:16:06.374Z"
   },
   {
    "duration": 945,
    "start_time": "2023-01-29T13:16:06.409Z"
   },
   {
    "duration": 10,
    "start_time": "2023-01-29T13:16:07.357Z"
   },
   {
    "duration": 33,
    "start_time": "2023-01-29T13:16:07.369Z"
   },
   {
    "duration": 49,
    "start_time": "2023-01-29T13:16:07.403Z"
   },
   {
    "duration": 68,
    "start_time": "2023-01-29T13:16:07.453Z"
   },
   {
    "duration": 9,
    "start_time": "2023-01-29T13:16:07.522Z"
   },
   {
    "duration": 76,
    "start_time": "2023-01-29T13:16:07.534Z"
   },
   {
    "duration": 4,
    "start_time": "2023-01-29T13:16:07.612Z"
   },
   {
    "duration": 28,
    "start_time": "2023-01-29T13:16:07.617Z"
   },
   {
    "duration": 18,
    "start_time": "2023-01-29T13:16:07.646Z"
   },
   {
    "duration": 45,
    "start_time": "2023-01-29T13:16:07.666Z"
   },
   {
    "duration": 241,
    "start_time": "2023-01-29T13:16:07.713Z"
   },
   {
    "duration": 138,
    "start_time": "2023-01-29T13:16:08.009Z"
   },
   {
    "duration": 63,
    "start_time": "2023-01-29T13:16:08.149Z"
   },
   {
    "duration": 126,
    "start_time": "2023-01-29T13:16:08.213Z"
   },
   {
    "duration": 43,
    "start_time": "2023-01-29T13:16:08.341Z"
   },
   {
    "duration": 27,
    "start_time": "2023-01-29T13:16:08.385Z"
   },
   {
    "duration": 33,
    "start_time": "2023-01-29T13:16:08.414Z"
   },
   {
    "duration": 28,
    "start_time": "2023-01-29T13:16:08.449Z"
   },
   {
    "duration": 35,
    "start_time": "2023-01-29T13:16:08.479Z"
   },
   {
    "duration": 34,
    "start_time": "2023-01-29T13:16:08.516Z"
   },
   {
    "duration": 5,
    "start_time": "2023-01-29T13:19:02.860Z"
   },
   {
    "duration": 4,
    "start_time": "2023-01-29T13:19:14.056Z"
   },
   {
    "duration": 135,
    "start_time": "2023-01-29T13:19:17.264Z"
   },
   {
    "duration": 13,
    "start_time": "2023-01-29T14:25:42.899Z"
   },
   {
    "duration": 11,
    "start_time": "2023-01-29T14:26:16.994Z"
   },
   {
    "duration": 10,
    "start_time": "2023-01-29T14:32:33.251Z"
   },
   {
    "duration": 7,
    "start_time": "2023-01-29T14:32:57.627Z"
   },
   {
    "duration": 16,
    "start_time": "2023-01-29T14:33:11.429Z"
   },
   {
    "duration": 7,
    "start_time": "2023-01-29T14:33:31.371Z"
   },
   {
    "duration": 4,
    "start_time": "2023-01-29T14:34:00.733Z"
   },
   {
    "duration": 3317,
    "start_time": "2023-01-29T14:34:23.751Z"
   },
   {
    "duration": 145,
    "start_time": "2023-01-29T14:34:27.070Z"
   },
   {
    "duration": 16,
    "start_time": "2023-01-29T14:34:27.217Z"
   },
   {
    "duration": 130,
    "start_time": "2023-01-29T14:34:27.234Z"
   },
   {
    "duration": 12,
    "start_time": "2023-01-29T14:34:27.366Z"
   },
   {
    "duration": 125,
    "start_time": "2023-01-29T14:34:27.380Z"
   },
   {
    "duration": 13,
    "start_time": "2023-01-29T14:34:27.510Z"
   },
   {
    "duration": 9,
    "start_time": "2023-01-29T14:34:27.525Z"
   },
   {
    "duration": 2087,
    "start_time": "2023-01-29T14:34:27.536Z"
   },
   {
    "duration": 10,
    "start_time": "2023-01-29T14:34:29.625Z"
   },
   {
    "duration": 7,
    "start_time": "2023-01-29T14:34:29.637Z"
   },
   {
    "duration": 9,
    "start_time": "2023-01-29T14:34:29.645Z"
   },
   {
    "duration": 918,
    "start_time": "2023-01-29T14:34:29.656Z"
   },
   {
    "duration": 11,
    "start_time": "2023-01-29T14:34:30.577Z"
   },
   {
    "duration": 36,
    "start_time": "2023-01-29T14:34:30.590Z"
   },
   {
    "duration": 36,
    "start_time": "2023-01-29T14:34:30.628Z"
   },
   {
    "duration": 55,
    "start_time": "2023-01-29T14:34:30.666Z"
   },
   {
    "duration": 3,
    "start_time": "2023-01-29T14:34:30.723Z"
   },
   {
    "duration": 48,
    "start_time": "2023-01-29T14:34:30.727Z"
   },
   {
    "duration": 3,
    "start_time": "2023-01-29T14:34:30.776Z"
   },
   {
    "duration": 6,
    "start_time": "2023-01-29T14:34:30.780Z"
   },
   {
    "duration": 24,
    "start_time": "2023-01-29T14:34:30.787Z"
   },
   {
    "duration": 107,
    "start_time": "2023-01-29T14:34:30.813Z"
   },
   {
    "duration": 191,
    "start_time": "2023-01-29T14:34:30.922Z"
   },
   {
    "duration": 113,
    "start_time": "2023-01-29T14:34:31.118Z"
   },
   {
    "duration": 79,
    "start_time": "2023-01-29T14:34:31.235Z"
   },
   {
    "duration": 103,
    "start_time": "2023-01-29T14:34:31.316Z"
   },
   {
    "duration": 7,
    "start_time": "2023-01-29T14:34:31.421Z"
   },
   {
    "duration": 5,
    "start_time": "2023-01-29T14:34:31.430Z"
   },
   {
    "duration": 7,
    "start_time": "2023-01-29T14:34:31.436Z"
   },
   {
    "duration": 6,
    "start_time": "2023-01-29T14:34:31.444Z"
   },
   {
    "duration": 7,
    "start_time": "2023-01-29T14:34:31.452Z"
   },
   {
    "duration": 5,
    "start_time": "2023-01-29T14:34:31.460Z"
   },
   {
    "duration": 8,
    "start_time": "2023-01-29T14:34:31.466Z"
   },
   {
    "duration": 35,
    "start_time": "2023-01-29T14:34:31.475Z"
   },
   {
    "duration": 4,
    "start_time": "2023-01-29T14:34:31.512Z"
   },
   {
    "duration": 6578,
    "start_time": "2023-01-29T14:34:35.906Z"
   },
   {
    "duration": 6,
    "start_time": "2023-01-29T14:36:08.863Z"
   },
   {
    "duration": 8,
    "start_time": "2023-01-29T14:36:12.476Z"
   },
   {
    "duration": 30,
    "start_time": "2023-01-29T14:36:17.157Z"
   },
   {
    "duration": 4,
    "start_time": "2023-01-29T14:36:27.130Z"
   },
   {
    "duration": 9554,
    "start_time": "2023-01-29T14:36:28.981Z"
   },
   {
    "duration": 4,
    "start_time": "2023-01-29T14:41:27.346Z"
   },
   {
    "duration": 22,
    "start_time": "2023-01-29T14:41:33.336Z"
   },
   {
    "duration": 6,
    "start_time": "2023-01-29T14:42:06.146Z"
   },
   {
    "duration": 22,
    "start_time": "2023-01-29T14:42:09.589Z"
   },
   {
    "duration": 4,
    "start_time": "2023-01-29T14:45:14.776Z"
   },
   {
    "duration": 7,
    "start_time": "2023-01-29T14:45:21.389Z"
   },
   {
    "duration": 22,
    "start_time": "2023-01-29T14:45:26.736Z"
   },
   {
    "duration": 4,
    "start_time": "2023-01-29T14:46:54.846Z"
   },
   {
    "duration": 27,
    "start_time": "2023-01-29T14:47:07.444Z"
   },
   {
    "duration": 4,
    "start_time": "2023-01-29T14:47:11.255Z"
   },
   {
    "duration": 21,
    "start_time": "2023-01-29T14:47:19.606Z"
   },
   {
    "duration": 4,
    "start_time": "2023-01-29T14:48:58.136Z"
   },
   {
    "duration": 23,
    "start_time": "2023-01-29T14:49:04.356Z"
   },
   {
    "duration": 6,
    "start_time": "2023-01-29T14:59:21.296Z"
   },
   {
    "duration": 4,
    "start_time": "2023-01-29T15:00:09.057Z"
   },
   {
    "duration": 3222,
    "start_time": "2023-01-29T15:00:20.301Z"
   },
   {
    "duration": 140,
    "start_time": "2023-01-29T15:00:23.525Z"
   },
   {
    "duration": 14,
    "start_time": "2023-01-29T15:00:23.666Z"
   },
   {
    "duration": 129,
    "start_time": "2023-01-29T15:00:23.682Z"
   },
   {
    "duration": 15,
    "start_time": "2023-01-29T15:00:23.814Z"
   },
   {
    "duration": 128,
    "start_time": "2023-01-29T15:00:23.830Z"
   },
   {
    "duration": 13,
    "start_time": "2023-01-29T15:00:23.960Z"
   },
   {
    "duration": 9,
    "start_time": "2023-01-29T15:00:23.974Z"
   },
   {
    "duration": 2229,
    "start_time": "2023-01-29T15:00:23.984Z"
   },
   {
    "duration": 12,
    "start_time": "2023-01-29T15:00:26.214Z"
   },
   {
    "duration": 8,
    "start_time": "2023-01-29T15:00:26.228Z"
   },
   {
    "duration": 9,
    "start_time": "2023-01-29T15:00:26.237Z"
   },
   {
    "duration": 956,
    "start_time": "2023-01-29T15:00:26.248Z"
   },
   {
    "duration": 10,
    "start_time": "2023-01-29T15:00:27.207Z"
   },
   {
    "duration": 6,
    "start_time": "2023-01-29T15:00:27.219Z"
   },
   {
    "duration": 6,
    "start_time": "2023-01-29T15:00:27.226Z"
   },
   {
    "duration": 39,
    "start_time": "2023-01-29T15:00:27.234Z"
   },
   {
    "duration": 4,
    "start_time": "2023-01-29T15:00:27.275Z"
   },
   {
    "duration": 57,
    "start_time": "2023-01-29T15:00:27.281Z"
   },
   {
    "duration": 3,
    "start_time": "2023-01-29T15:00:27.339Z"
   },
   {
    "duration": 5,
    "start_time": "2023-01-29T15:00:27.343Z"
   },
   {
    "duration": 5,
    "start_time": "2023-01-29T15:00:27.349Z"
   },
   {
    "duration": 328,
    "start_time": "2023-01-29T15:00:27.356Z"
   },
   {
    "duration": 0,
    "start_time": "2023-01-29T15:00:27.685Z"
   },
   {
    "duration": 0,
    "start_time": "2023-01-29T15:00:27.686Z"
   },
   {
    "duration": 0,
    "start_time": "2023-01-29T15:00:27.688Z"
   },
   {
    "duration": 0,
    "start_time": "2023-01-29T15:00:27.689Z"
   },
   {
    "duration": 0,
    "start_time": "2023-01-29T15:00:27.690Z"
   },
   {
    "duration": 0,
    "start_time": "2023-01-29T15:00:27.691Z"
   },
   {
    "duration": 0,
    "start_time": "2023-01-29T15:00:27.692Z"
   },
   {
    "duration": 0,
    "start_time": "2023-01-29T15:00:27.693Z"
   },
   {
    "duration": 0,
    "start_time": "2023-01-29T15:00:27.695Z"
   },
   {
    "duration": 0,
    "start_time": "2023-01-29T15:00:27.710Z"
   },
   {
    "duration": 0,
    "start_time": "2023-01-29T15:00:27.711Z"
   },
   {
    "duration": 29,
    "start_time": "2023-01-29T15:00:46.028Z"
   },
   {
    "duration": 26,
    "start_time": "2023-01-29T15:00:52.536Z"
   },
   {
    "duration": 25,
    "start_time": "2023-01-29T15:01:02.155Z"
   },
   {
    "duration": 3,
    "start_time": "2023-01-29T15:01:11.171Z"
   },
   {
    "duration": 7,
    "start_time": "2023-01-29T15:01:11.176Z"
   },
   {
    "duration": 7,
    "start_time": "2023-01-29T15:01:11.185Z"
   },
   {
    "duration": 6,
    "start_time": "2023-01-29T15:01:11.194Z"
   },
   {
    "duration": 5,
    "start_time": "2023-01-29T15:01:11.202Z"
   },
   {
    "duration": 7,
    "start_time": "2023-01-29T15:01:11.208Z"
   },
   {
    "duration": 5,
    "start_time": "2023-01-29T15:01:11.217Z"
   },
   {
    "duration": 4,
    "start_time": "2023-01-29T15:01:11.224Z"
   },
   {
    "duration": 10,
    "start_time": "2023-01-29T15:01:11.229Z"
   },
   {
    "duration": 34,
    "start_time": "2023-01-29T15:01:11.241Z"
   },
   {
    "duration": 0,
    "start_time": "2023-01-29T15:01:11.277Z"
   },
   {
    "duration": 0,
    "start_time": "2023-01-29T15:01:11.280Z"
   },
   {
    "duration": 0,
    "start_time": "2023-01-29T15:01:11.310Z"
   },
   {
    "duration": 0,
    "start_time": "2023-01-29T15:01:11.312Z"
   },
   {
    "duration": 0,
    "start_time": "2023-01-29T15:01:11.313Z"
   },
   {
    "duration": 0,
    "start_time": "2023-01-29T15:01:11.314Z"
   },
   {
    "duration": 0,
    "start_time": "2023-01-29T15:01:11.315Z"
   },
   {
    "duration": 11329,
    "start_time": "2023-01-29T19:01:02.726Z"
   },
   {
    "duration": 809,
    "start_time": "2023-01-29T19:01:14.058Z"
   },
   {
    "duration": 18,
    "start_time": "2023-01-29T19:01:14.869Z"
   },
   {
    "duration": 219,
    "start_time": "2023-01-29T19:01:14.889Z"
   },
   {
    "duration": 15,
    "start_time": "2023-01-29T19:01:15.110Z"
   },
   {
    "duration": 255,
    "start_time": "2023-01-29T19:01:15.127Z"
   },
   {
    "duration": 15,
    "start_time": "2023-01-29T19:01:15.384Z"
   },
   {
    "duration": 11,
    "start_time": "2023-01-29T19:01:15.402Z"
   },
   {
    "duration": 2522,
    "start_time": "2023-01-29T19:01:15.416Z"
   },
   {
    "duration": 13,
    "start_time": "2023-01-29T19:01:17.943Z"
   },
   {
    "duration": 30,
    "start_time": "2023-01-29T19:01:17.958Z"
   },
   {
    "duration": 14,
    "start_time": "2023-01-29T19:01:17.990Z"
   },
   {
    "duration": 1087,
    "start_time": "2023-01-29T19:01:18.007Z"
   },
   {
    "duration": 12,
    "start_time": "2023-01-29T19:01:19.096Z"
   },
   {
    "duration": 6,
    "start_time": "2023-01-29T19:01:19.109Z"
   },
   {
    "duration": 10,
    "start_time": "2023-01-29T19:01:19.117Z"
   },
   {
    "duration": 63,
    "start_time": "2023-01-29T19:01:19.128Z"
   },
   {
    "duration": 4,
    "start_time": "2023-01-29T19:01:19.193Z"
   },
   {
    "duration": 47,
    "start_time": "2023-01-29T19:01:19.198Z"
   },
   {
    "duration": 3,
    "start_time": "2023-01-29T19:01:19.247Z"
   },
   {
    "duration": 33,
    "start_time": "2023-01-29T19:01:19.251Z"
   },
   {
    "duration": 6,
    "start_time": "2023-01-29T19:01:19.286Z"
   },
   {
    "duration": 190,
    "start_time": "2023-01-29T19:01:19.294Z"
   },
   {
    "duration": 121,
    "start_time": "2023-01-29T19:01:19.487Z"
   },
   {
    "duration": 199,
    "start_time": "2023-01-29T19:01:19.686Z"
   },
   {
    "duration": 3,
    "start_time": "2023-01-29T19:01:19.887Z"
   },
   {
    "duration": 14,
    "start_time": "2023-01-29T19:01:19.893Z"
   },
   {
    "duration": 21,
    "start_time": "2023-01-29T19:01:19.912Z"
   },
   {
    "duration": 10,
    "start_time": "2023-01-29T19:01:19.935Z"
   },
   {
    "duration": 16,
    "start_time": "2023-01-29T19:01:19.948Z"
   },
   {
    "duration": 15,
    "start_time": "2023-01-29T19:01:19.967Z"
   },
   {
    "duration": 35,
    "start_time": "2023-01-29T19:01:19.985Z"
   },
   {
    "duration": 11,
    "start_time": "2023-01-29T19:01:20.022Z"
   },
   {
    "duration": 12,
    "start_time": "2023-01-29T19:01:20.035Z"
   },
   {
    "duration": 156,
    "start_time": "2023-01-29T19:01:20.050Z"
   },
   {
    "duration": 4075,
    "start_time": "2023-01-29T19:03:17.807Z"
   },
   {
    "duration": 199,
    "start_time": "2023-01-29T19:03:21.886Z"
   },
   {
    "duration": 22,
    "start_time": "2023-01-29T19:03:22.089Z"
   },
   {
    "duration": 167,
    "start_time": "2023-01-29T19:03:22.113Z"
   },
   {
    "duration": 23,
    "start_time": "2023-01-29T19:03:22.284Z"
   },
   {
    "duration": 191,
    "start_time": "2023-01-29T19:03:22.310Z"
   },
   {
    "duration": 25,
    "start_time": "2023-01-29T19:03:22.503Z"
   },
   {
    "duration": 17,
    "start_time": "2023-01-29T19:03:22.530Z"
   },
   {
    "duration": 2952,
    "start_time": "2023-01-29T19:03:22.549Z"
   },
   {
    "duration": 18,
    "start_time": "2023-01-29T19:03:25.503Z"
   },
   {
    "duration": 12,
    "start_time": "2023-01-29T19:03:25.523Z"
   },
   {
    "duration": 12,
    "start_time": "2023-01-29T19:03:25.538Z"
   },
   {
    "duration": 1140,
    "start_time": "2023-01-29T19:03:25.589Z"
   },
   {
    "duration": 16,
    "start_time": "2023-01-29T19:03:26.734Z"
   },
   {
    "duration": 11,
    "start_time": "2023-01-29T19:03:26.752Z"
   },
   {
    "duration": 21,
    "start_time": "2023-01-29T19:03:26.765Z"
   },
   {
    "duration": 69,
    "start_time": "2023-01-29T19:03:26.789Z"
   },
   {
    "duration": 4,
    "start_time": "2023-01-29T19:03:26.860Z"
   },
   {
    "duration": 75,
    "start_time": "2023-01-29T19:03:26.865Z"
   },
   {
    "duration": 2,
    "start_time": "2023-01-29T19:03:26.942Z"
   },
   {
    "duration": 6,
    "start_time": "2023-01-29T19:03:26.946Z"
   },
   {
    "duration": 5,
    "start_time": "2023-01-29T19:03:26.954Z"
   },
   {
    "duration": 232,
    "start_time": "2023-01-29T19:03:26.961Z"
   },
   {
    "duration": 190,
    "start_time": "2023-01-29T19:03:27.195Z"
   },
   {
    "duration": 117,
    "start_time": "2023-01-29T19:03:27.388Z"
   },
   {
    "duration": 77,
    "start_time": "2023-01-29T19:03:27.508Z"
   },
   {
    "duration": 103,
    "start_time": "2023-01-29T19:03:27.587Z"
   },
   {
    "duration": 8,
    "start_time": "2023-01-29T19:03:27.692Z"
   },
   {
    "duration": 8,
    "start_time": "2023-01-29T19:03:27.703Z"
   },
   {
    "duration": 6,
    "start_time": "2023-01-29T19:03:27.714Z"
   },
   {
    "duration": 14,
    "start_time": "2023-01-29T19:03:27.723Z"
   },
   {
    "duration": 16,
    "start_time": "2023-01-29T19:03:27.739Z"
   },
   {
    "duration": 6,
    "start_time": "2023-01-29T19:03:27.758Z"
   },
   {
    "duration": 6,
    "start_time": "2023-01-29T19:03:52.441Z"
   },
   {
    "duration": 8,
    "start_time": "2023-01-29T19:03:59.006Z"
   },
   {
    "duration": 140,
    "start_time": "2023-01-29T19:04:02.235Z"
   },
   {
    "duration": 5,
    "start_time": "2023-01-29T19:10:14.281Z"
   },
   {
    "duration": 26,
    "start_time": "2023-01-29T19:10:19.453Z"
   },
   {
    "duration": 7,
    "start_time": "2023-01-29T19:11:42.956Z"
   },
   {
    "duration": 18,
    "start_time": "2023-01-29T19:11:47.635Z"
   },
   {
    "duration": 6,
    "start_time": "2023-01-29T19:12:07.385Z"
   },
   {
    "duration": 23,
    "start_time": "2023-01-29T19:12:11.566Z"
   },
   {
    "duration": 4054,
    "start_time": "2023-01-29T19:22:21.903Z"
   },
   {
    "duration": 172,
    "start_time": "2023-01-29T19:22:25.960Z"
   },
   {
    "duration": 19,
    "start_time": "2023-01-29T19:22:26.134Z"
   },
   {
    "duration": 167,
    "start_time": "2023-01-29T19:22:26.155Z"
   },
   {
    "duration": 17,
    "start_time": "2023-01-29T19:22:26.324Z"
   },
   {
    "duration": 157,
    "start_time": "2023-01-29T19:22:26.343Z"
   },
   {
    "duration": 17,
    "start_time": "2023-01-29T19:22:26.502Z"
   },
   {
    "duration": 12,
    "start_time": "2023-01-29T19:22:26.521Z"
   },
   {
    "duration": 2734,
    "start_time": "2023-01-29T19:22:26.536Z"
   },
   {
    "duration": 24,
    "start_time": "2023-01-29T19:22:29.273Z"
   },
   {
    "duration": 42,
    "start_time": "2023-01-29T19:22:29.299Z"
   },
   {
    "duration": 35,
    "start_time": "2023-01-29T19:22:29.343Z"
   },
   {
    "duration": 1392,
    "start_time": "2023-01-29T19:22:29.381Z"
   },
   {
    "duration": 15,
    "start_time": "2023-01-29T19:22:30.777Z"
   },
   {
    "duration": 61,
    "start_time": "2023-01-29T19:22:30.793Z"
   },
   {
    "duration": 40,
    "start_time": "2023-01-29T19:22:30.856Z"
   },
   {
    "duration": 74,
    "start_time": "2023-01-29T19:22:30.899Z"
   },
   {
    "duration": 3,
    "start_time": "2023-01-29T19:22:30.975Z"
   },
   {
    "duration": 94,
    "start_time": "2023-01-29T19:22:30.980Z"
   },
   {
    "duration": 33,
    "start_time": "2023-01-29T19:22:31.075Z"
   },
   {
    "duration": 37,
    "start_time": "2023-01-29T19:22:31.110Z"
   },
   {
    "duration": 34,
    "start_time": "2023-01-29T19:22:31.148Z"
   },
   {
    "duration": 200,
    "start_time": "2023-01-29T19:22:31.184Z"
   },
   {
    "duration": 198,
    "start_time": "2023-01-29T19:22:31.386Z"
   },
   {
    "duration": 119,
    "start_time": "2023-01-29T19:22:31.587Z"
   },
   {
    "duration": 79,
    "start_time": "2023-01-29T19:22:31.708Z"
   },
   {
    "duration": 128,
    "start_time": "2023-01-29T19:22:31.794Z"
   },
   {
    "duration": 44,
    "start_time": "2023-01-29T19:22:31.923Z"
   },
   {
    "duration": 23,
    "start_time": "2023-01-29T19:22:31.968Z"
   },
   {
    "duration": 27,
    "start_time": "2023-01-29T19:22:31.993Z"
   },
   {
    "duration": 46,
    "start_time": "2023-01-29T19:22:32.022Z"
   },
   {
    "duration": 59,
    "start_time": "2023-01-29T19:22:32.070Z"
   },
   {
    "duration": 30,
    "start_time": "2023-01-29T19:22:32.131Z"
   },
   {
    "duration": 52,
    "start_time": "2023-01-29T19:22:32.163Z"
   },
   {
    "duration": 40,
    "start_time": "2023-01-29T19:22:32.218Z"
   },
   {
    "duration": 7,
    "start_time": "2023-01-29T19:22:32.261Z"
   },
   {
    "duration": 4781,
    "start_time": "2023-01-29T19:22:32.270Z"
   },
   {
    "duration": 4723,
    "start_time": "2023-01-29T19:22:41.489Z"
   },
   {
    "duration": 4,
    "start_time": "2023-01-29T19:22:50.751Z"
   },
   {
    "duration": 8,
    "start_time": "2023-01-29T19:22:52.928Z"
   },
   {
    "duration": 9,
    "start_time": "2023-01-29T19:22:53.999Z"
   },
   {
    "duration": 7,
    "start_time": "2023-01-29T19:22:54.747Z"
   },
   {
    "duration": 377,
    "start_time": "2023-01-29T19:26:37.382Z"
   },
   {
    "duration": 6,
    "start_time": "2023-01-29T20:11:47.164Z"
   },
   {
    "duration": 125,
    "start_time": "2023-01-29T20:11:50.372Z"
   },
   {
    "duration": 5,
    "start_time": "2023-01-29T20:12:33.159Z"
   },
   {
    "duration": 4811,
    "start_time": "2023-01-29T20:12:36.030Z"
   },
   {
    "duration": 4,
    "start_time": "2023-01-29T20:12:46.381Z"
   },
   {
    "duration": 9,
    "start_time": "2023-01-29T20:12:46.925Z"
   },
   {
    "duration": 8,
    "start_time": "2023-01-29T20:12:48.440Z"
   },
   {
    "duration": 7,
    "start_time": "2023-01-29T20:12:49.223Z"
   },
   {
    "duration": 3699,
    "start_time": "2023-01-29T20:13:01.505Z"
   },
   {
    "duration": 169,
    "start_time": "2023-01-29T20:13:05.207Z"
   },
   {
    "duration": 21,
    "start_time": "2023-01-29T20:13:05.378Z"
   },
   {
    "duration": 142,
    "start_time": "2023-01-29T20:13:05.401Z"
   },
   {
    "duration": 19,
    "start_time": "2023-01-29T20:13:05.545Z"
   },
   {
    "duration": 161,
    "start_time": "2023-01-29T20:13:05.566Z"
   },
   {
    "duration": 16,
    "start_time": "2023-01-29T20:13:05.728Z"
   },
   {
    "duration": 15,
    "start_time": "2023-01-29T20:13:05.747Z"
   },
   {
    "duration": 2504,
    "start_time": "2023-01-29T20:13:05.784Z"
   },
   {
    "duration": 14,
    "start_time": "2023-01-29T20:13:08.291Z"
   },
   {
    "duration": 10,
    "start_time": "2023-01-29T20:13:08.307Z"
   },
   {
    "duration": 11,
    "start_time": "2023-01-29T20:13:08.319Z"
   },
   {
    "duration": 1185,
    "start_time": "2023-01-29T20:13:08.332Z"
   },
   {
    "duration": 17,
    "start_time": "2023-01-29T20:13:09.520Z"
   },
   {
    "duration": 9,
    "start_time": "2023-01-29T20:13:09.539Z"
   },
   {
    "duration": 8,
    "start_time": "2023-01-29T20:13:09.550Z"
   },
   {
    "duration": 87,
    "start_time": "2023-01-29T20:13:09.560Z"
   },
   {
    "duration": 4,
    "start_time": "2023-01-29T20:13:09.651Z"
   },
   {
    "duration": 106,
    "start_time": "2023-01-29T20:13:09.658Z"
   },
   {
    "duration": 3,
    "start_time": "2023-01-29T20:13:09.768Z"
   },
   {
    "duration": 15,
    "start_time": "2023-01-29T20:13:09.773Z"
   },
   {
    "duration": 14,
    "start_time": "2023-01-29T20:13:09.791Z"
   },
   {
    "duration": 190,
    "start_time": "2023-01-29T20:13:09.807Z"
   },
   {
    "duration": 195,
    "start_time": "2023-01-29T20:13:10.001Z"
   },
   {
    "duration": 198,
    "start_time": "2023-01-29T20:13:10.198Z"
   },
   {
    "duration": 84,
    "start_time": "2023-01-29T20:13:10.400Z"
   },
   {
    "duration": 4,
    "start_time": "2023-01-29T20:13:10.486Z"
   },
   {
    "duration": 7,
    "start_time": "2023-01-29T20:13:10.495Z"
   },
   {
    "duration": 6,
    "start_time": "2023-01-29T20:13:10.505Z"
   },
   {
    "duration": 6,
    "start_time": "2023-01-29T20:13:10.513Z"
   },
   {
    "duration": 67,
    "start_time": "2023-01-29T20:13:10.521Z"
   },
   {
    "duration": 21,
    "start_time": "2023-01-29T20:13:10.591Z"
   },
   {
    "duration": 9,
    "start_time": "2023-01-29T20:13:10.614Z"
   },
   {
    "duration": 16,
    "start_time": "2023-01-29T20:13:10.625Z"
   },
   {
    "duration": 28,
    "start_time": "2023-01-29T20:13:10.643Z"
   },
   {
    "duration": 13,
    "start_time": "2023-01-29T20:13:10.673Z"
   },
   {
    "duration": 4640,
    "start_time": "2023-01-29T20:13:10.688Z"
   },
   {
    "duration": 4,
    "start_time": "2023-01-29T20:13:15.330Z"
   },
   {
    "duration": 16,
    "start_time": "2023-01-29T20:13:15.336Z"
   },
   {
    "duration": 7,
    "start_time": "2023-01-29T20:13:15.354Z"
   },
   {
    "duration": 9,
    "start_time": "2023-01-29T20:13:15.385Z"
   },
   {
    "duration": 515,
    "start_time": "2023-01-29T20:13:15.396Z"
   },
   {
    "duration": 3538,
    "start_time": "2023-01-29T20:18:01.612Z"
   },
   {
    "duration": 161,
    "start_time": "2023-01-29T20:18:05.153Z"
   },
   {
    "duration": 17,
    "start_time": "2023-01-29T20:18:05.316Z"
   },
   {
    "duration": 138,
    "start_time": "2023-01-29T20:18:05.335Z"
   },
   {
    "duration": 17,
    "start_time": "2023-01-29T20:18:05.476Z"
   },
   {
    "duration": 135,
    "start_time": "2023-01-29T20:18:05.495Z"
   },
   {
    "duration": 15,
    "start_time": "2023-01-29T20:18:05.632Z"
   },
   {
    "duration": 11,
    "start_time": "2023-01-29T20:18:05.649Z"
   },
   {
    "duration": 2440,
    "start_time": "2023-01-29T20:18:05.662Z"
   },
   {
    "duration": 12,
    "start_time": "2023-01-29T20:18:08.104Z"
   },
   {
    "duration": 9,
    "start_time": "2023-01-29T20:18:08.117Z"
   },
   {
    "duration": 22,
    "start_time": "2023-01-29T20:18:08.127Z"
   },
   {
    "duration": 1000,
    "start_time": "2023-01-29T20:18:08.151Z"
   },
   {
    "duration": 13,
    "start_time": "2023-01-29T20:18:09.156Z"
   },
   {
    "duration": 15,
    "start_time": "2023-01-29T20:18:09.171Z"
   },
   {
    "duration": 12,
    "start_time": "2023-01-29T20:18:09.187Z"
   },
   {
    "duration": 49,
    "start_time": "2023-01-29T20:18:09.201Z"
   },
   {
    "duration": 4,
    "start_time": "2023-01-29T20:18:09.251Z"
   },
   {
    "duration": 63,
    "start_time": "2023-01-29T20:18:09.256Z"
   },
   {
    "duration": 3,
    "start_time": "2023-01-29T20:18:09.321Z"
   },
   {
    "duration": 6,
    "start_time": "2023-01-29T20:18:09.325Z"
   },
   {
    "duration": 6,
    "start_time": "2023-01-29T20:18:09.333Z"
   },
   {
    "duration": 51,
    "start_time": "2023-01-29T20:18:09.341Z"
   },
   {
    "duration": 297,
    "start_time": "2023-01-29T20:18:09.394Z"
   },
   {
    "duration": 190,
    "start_time": "2023-01-29T20:18:09.693Z"
   },
   {
    "duration": 7,
    "start_time": "2023-01-29T20:18:09.886Z"
   },
   {
    "duration": 11,
    "start_time": "2023-01-29T20:18:09.985Z"
   },
   {
    "duration": 25,
    "start_time": "2023-01-29T20:18:09.998Z"
   },
   {
    "duration": 20,
    "start_time": "2023-01-29T20:18:10.025Z"
   },
   {
    "duration": 10,
    "start_time": "2023-01-29T20:18:10.047Z"
   },
   {
    "duration": 12,
    "start_time": "2023-01-29T20:18:10.059Z"
   },
   {
    "duration": 11,
    "start_time": "2023-01-29T20:18:10.073Z"
   },
   {
    "duration": 8,
    "start_time": "2023-01-29T20:18:10.086Z"
   },
   {
    "duration": 11,
    "start_time": "2023-01-29T20:18:10.096Z"
   },
   {
    "duration": 20,
    "start_time": "2023-01-29T20:18:10.109Z"
   },
   {
    "duration": 5,
    "start_time": "2023-01-29T20:18:10.131Z"
   },
   {
    "duration": 4450,
    "start_time": "2023-01-29T20:18:10.137Z"
   },
   {
    "duration": 3,
    "start_time": "2023-01-29T20:18:14.589Z"
   },
   {
    "duration": 12,
    "start_time": "2023-01-29T20:18:14.594Z"
   },
   {
    "duration": 8,
    "start_time": "2023-01-29T20:18:14.608Z"
   },
   {
    "duration": 7,
    "start_time": "2023-01-29T20:18:14.619Z"
   },
   {
    "duration": 362,
    "start_time": "2023-01-29T20:18:14.628Z"
   },
   {
    "duration": 8060,
    "start_time": "2023-01-30T13:56:19.892Z"
   },
   {
    "duration": 160,
    "start_time": "2023-01-30T13:56:27.954Z"
   },
   {
    "duration": 23,
    "start_time": "2023-01-30T13:56:28.116Z"
   },
   {
    "duration": 137,
    "start_time": "2023-01-30T13:56:28.141Z"
   },
   {
    "duration": 18,
    "start_time": "2023-01-30T13:56:28.280Z"
   },
   {
    "duration": 184,
    "start_time": "2023-01-30T13:56:28.301Z"
   },
   {
    "duration": 19,
    "start_time": "2023-01-30T13:56:28.488Z"
   },
   {
    "duration": 29,
    "start_time": "2023-01-30T13:56:28.509Z"
   },
   {
    "duration": 2332,
    "start_time": "2023-01-30T13:56:28.541Z"
   },
   {
    "duration": 13,
    "start_time": "2023-01-30T13:56:30.875Z"
   },
   {
    "duration": 18,
    "start_time": "2023-01-30T13:56:30.890Z"
   },
   {
    "duration": 26,
    "start_time": "2023-01-30T13:56:30.910Z"
   },
   {
    "duration": 1068,
    "start_time": "2023-01-30T13:56:30.938Z"
   },
   {
    "duration": 13,
    "start_time": "2023-01-30T13:56:32.009Z"
   },
   {
    "duration": 13,
    "start_time": "2023-01-30T13:56:32.024Z"
   },
   {
    "duration": 18,
    "start_time": "2023-01-30T13:56:32.038Z"
   },
   {
    "duration": 47,
    "start_time": "2023-01-30T13:56:32.057Z"
   },
   {
    "duration": 3,
    "start_time": "2023-01-30T13:56:32.107Z"
   },
   {
    "duration": 53,
    "start_time": "2023-01-30T13:56:32.112Z"
   },
   {
    "duration": 2,
    "start_time": "2023-01-30T13:56:32.167Z"
   },
   {
    "duration": 6,
    "start_time": "2023-01-30T13:56:32.171Z"
   },
   {
    "duration": 6,
    "start_time": "2023-01-30T13:56:32.179Z"
   },
   {
    "duration": 154,
    "start_time": "2023-01-30T13:56:32.186Z"
   },
   {
    "duration": 196,
    "start_time": "2023-01-30T13:56:32.342Z"
   },
   {
    "duration": 197,
    "start_time": "2023-01-30T13:56:32.540Z"
   },
   {
    "duration": 3,
    "start_time": "2023-01-30T13:56:32.740Z"
   },
   {
    "duration": 111,
    "start_time": "2023-01-30T13:56:32.746Z"
   },
   {
    "duration": 40,
    "start_time": "2023-01-30T13:56:32.859Z"
   },
   {
    "duration": 31,
    "start_time": "2023-01-30T13:56:32.901Z"
   },
   {
    "duration": 17,
    "start_time": "2023-01-30T13:56:32.934Z"
   },
   {
    "duration": 20,
    "start_time": "2023-01-30T13:56:32.953Z"
   },
   {
    "duration": 27,
    "start_time": "2023-01-30T13:56:32.975Z"
   },
   {
    "duration": 25,
    "start_time": "2023-01-30T13:56:33.004Z"
   },
   {
    "duration": 11,
    "start_time": "2023-01-30T13:56:33.030Z"
   },
   {
    "duration": 22,
    "start_time": "2023-01-30T13:56:33.043Z"
   },
   {
    "duration": 4,
    "start_time": "2023-01-30T13:56:33.067Z"
   },
   {
    "duration": 4338,
    "start_time": "2023-01-30T13:56:33.073Z"
   },
   {
    "duration": 3,
    "start_time": "2023-01-30T13:56:37.413Z"
   },
   {
    "duration": 11,
    "start_time": "2023-01-30T13:56:37.418Z"
   },
   {
    "duration": 6,
    "start_time": "2023-01-30T13:56:37.437Z"
   },
   {
    "duration": 21,
    "start_time": "2023-01-30T13:56:37.446Z"
   },
   {
    "duration": 338,
    "start_time": "2023-01-30T13:56:37.468Z"
   },
   {
    "duration": 5,
    "start_time": "2023-01-30T13:57:51.874Z"
   },
   {
    "duration": 7,
    "start_time": "2023-01-30T14:05:59.377Z"
   },
   {
    "duration": 131,
    "start_time": "2023-01-30T14:06:56.072Z"
   },
   {
    "duration": 140,
    "start_time": "2023-01-30T14:07:06.432Z"
   },
   {
    "duration": 295,
    "start_time": "2023-01-30T14:08:55.862Z"
   },
   {
    "duration": 161,
    "start_time": "2023-01-30T14:09:26.171Z"
   }
  ],
  "kernelspec": {
   "display_name": "Python 3 (ipykernel)",
   "language": "python",
   "name": "python3"
  },
  "language_info": {
   "codemirror_mode": {
    "name": "ipython",
    "version": 3
   },
   "file_extension": ".py",
   "mimetype": "text/x-python",
   "name": "python",
   "nbconvert_exporter": "python",
   "pygments_lexer": "ipython3",
   "version": "3.9.5"
  },
  "toc": {
   "base_numbering": 1,
   "nav_menu": {},
   "number_sections": true,
   "sideBar": true,
   "skip_h1_title": true,
   "title_cell": "Table of Contents",
   "title_sidebar": "Contents",
   "toc_cell": false,
   "toc_position": {},
   "toc_section_display": true,
   "toc_window_display": false
  }
 },
 "nbformat": 4,
 "nbformat_minor": 2
}
