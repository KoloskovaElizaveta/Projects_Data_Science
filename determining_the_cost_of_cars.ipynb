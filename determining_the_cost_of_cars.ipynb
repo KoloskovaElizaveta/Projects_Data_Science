{
 "cells": [
  {
   "cell_type": "markdown",
   "metadata": {
    "id": "nB6FeSp7Dpb_"
   },
   "source": [
    "# Определение стоимости автомобилей"
   ]
  },
  {
   "cell_type": "markdown",
   "metadata": {
    "id": "Wltgim6TDpb_"
   },
   "source": [
    "Сервис по продаже автомобилей с пробегом «Не бит, не крашен» разрабатывает приложение для привлечения новых клиентов. В нём можно быстро узнать рыночную стоимость своего автомобиля. В вашем распоряжении исторические данные: технические характеристики, комплектации и цены автомобилей. Вам нужно построить модель для определения стоимости. \n",
    "\n",
    "Заказчику важны:\n",
    "\n",
    "- качество предсказания;\n",
    "- скорость предсказания;\n",
    "- время обучения."
   ]
  },
  {
   "cell_type": "markdown",
   "metadata": {
    "id": "5WXQUMUqDpcA"
   },
   "source": [
    "## Подготовка данных"
   ]
  },
  {
   "cell_type": "code",
   "execution_count": 1,
   "metadata": {
    "colab": {
     "base_uri": "https://localhost:8080/"
    },
    "id": "q9tW_6XPDpcA",
    "outputId": "4a96f14c-fc6d-4a40-8799-4f37748bbda2"
   },
   "outputs": [
    {
     "name": "stdout",
     "output_type": "stream",
     "text": [
      "Looking in indexes: https://pypi.org/simple, https://us-python.pkg.dev/colab-wheels/public/simple/\n",
      "Requirement already satisfied: scikit-learn==1.1.3 in /usr/local/lib/python3.9/dist-packages (1.1.3)\n",
      "Requirement already satisfied: joblib>=1.0.0 in /usr/local/lib/python3.9/dist-packages (from scikit-learn==1.1.3) (1.1.1)\n",
      "Requirement already satisfied: threadpoolctl>=2.0.0 in /usr/local/lib/python3.9/dist-packages (from scikit-learn==1.1.3) (3.1.0)\n",
      "Requirement already satisfied: numpy>=1.17.3 in /usr/local/lib/python3.9/dist-packages (from scikit-learn==1.1.3) (1.22.4)\n",
      "Requirement already satisfied: scipy>=1.3.2 in /usr/local/lib/python3.9/dist-packages (from scikit-learn==1.1.3) (1.10.1)\n"
     ]
    }
   ],
   "source": [
    "# помним про PEP-8\n",
    "# импорты из стандартной библиотеки\n",
    "import warnings\n",
    "\n",
    "# импорты сторонних библиотек\n",
    "import numpy as np\n",
    "import pandas as pd\n",
    "import matplotlib.pyplot as plt\n",
    "import seaborn as sns\n",
    "import time\n",
    "\n",
    "# импорты модулей текущего проекта\n",
    "# длина строки до 78 символов\n",
    "!pip install scikit-learn==1.1.3\n",
    "from sklearn.compose import make_column_transformer\n",
    "from sklearn.ensemble import RandomForestRegressor\n",
    "from sklearn.linear_model import Ridge\n",
    "from lightgbm import LGBMRegressor\n",
    "from sklearn.metrics import mean_squared_error\n",
    "from sklearn.model_selection import (\n",
    "    GridSearchCV, \n",
    "    RandomizedSearchCV,\n",
    "    train_test_split,\n",
    "    cross_val_score\n",
    ")\n",
    "\n",
    "from sklearn.pipeline import make_pipeline\n",
    "from sklearn.preprocessing import (\n",
    "    OneHotEncoder,\n",
    "    OrdinalEncoder,\n",
    "    StandardScaler\n",
    ")\n",
    "\n",
    "# настройки\n",
    "warnings.filterwarnings(\"ignore\")\n",
    "\n",
    "# константы заглавными буквами\n",
    "RANDOM_STATE = 42"
   ]
  },
  {
   "cell_type": "markdown",
   "metadata": {
    "id": "rC0wYJWUDpcC"
   },
   "source": [
    "### Загрузка данных и общая информация"
   ]
  },
  {
   "cell_type": "code",
   "execution_count": 2,
   "metadata": {
    "colab": {
     "base_uri": "https://localhost:8080/",
     "height": 443
    },
    "id": "-Vahb6VZDpcC",
    "outputId": "fb5e91f0-38ff-4097-95d7-07a665db513d",
    "scrolled": true
   },
   "outputs": [
    {
     "data": {
      "text/html": [
       "\n",
       "  <div id=\"df-34aa8e02-6fc1-4a37-a18b-31b1df3e039d\">\n",
       "    <div class=\"colab-df-container\">\n",
       "      <div>\n",
       "<style scoped>\n",
       "    .dataframe tbody tr th:only-of-type {\n",
       "        vertical-align: middle;\n",
       "    }\n",
       "\n",
       "    .dataframe tbody tr th {\n",
       "        vertical-align: top;\n",
       "    }\n",
       "\n",
       "    .dataframe thead th {\n",
       "        text-align: right;\n",
       "    }\n",
       "</style>\n",
       "<table border=\"1\" class=\"dataframe\">\n",
       "  <thead>\n",
       "    <tr style=\"text-align: right;\">\n",
       "      <th></th>\n",
       "      <th>DateCrawled</th>\n",
       "      <th>Price</th>\n",
       "      <th>VehicleType</th>\n",
       "      <th>RegistrationYear</th>\n",
       "      <th>Gearbox</th>\n",
       "      <th>Power</th>\n",
       "      <th>Model</th>\n",
       "      <th>Kilometer</th>\n",
       "      <th>RegistrationMonth</th>\n",
       "      <th>FuelType</th>\n",
       "      <th>Brand</th>\n",
       "      <th>Repaired</th>\n",
       "      <th>DateCreated</th>\n",
       "      <th>NumberOfPictures</th>\n",
       "      <th>PostalCode</th>\n",
       "      <th>LastSeen</th>\n",
       "    </tr>\n",
       "  </thead>\n",
       "  <tbody>\n",
       "    <tr>\n",
       "      <th>0</th>\n",
       "      <td>2016-03-24 11:52:17</td>\n",
       "      <td>480</td>\n",
       "      <td>NaN</td>\n",
       "      <td>1993</td>\n",
       "      <td>manual</td>\n",
       "      <td>0</td>\n",
       "      <td>golf</td>\n",
       "      <td>150000</td>\n",
       "      <td>0</td>\n",
       "      <td>petrol</td>\n",
       "      <td>volkswagen</td>\n",
       "      <td>NaN</td>\n",
       "      <td>2016-03-24 00:00:00</td>\n",
       "      <td>0</td>\n",
       "      <td>70435</td>\n",
       "      <td>2016-04-07 03:16:57</td>\n",
       "    </tr>\n",
       "    <tr>\n",
       "      <th>1</th>\n",
       "      <td>2016-03-24 10:58:45</td>\n",
       "      <td>18300</td>\n",
       "      <td>coupe</td>\n",
       "      <td>2011</td>\n",
       "      <td>manual</td>\n",
       "      <td>190</td>\n",
       "      <td>NaN</td>\n",
       "      <td>125000</td>\n",
       "      <td>5</td>\n",
       "      <td>gasoline</td>\n",
       "      <td>audi</td>\n",
       "      <td>yes</td>\n",
       "      <td>2016-03-24 00:00:00</td>\n",
       "      <td>0</td>\n",
       "      <td>66954</td>\n",
       "      <td>2016-04-07 01:46:50</td>\n",
       "    </tr>\n",
       "    <tr>\n",
       "      <th>2</th>\n",
       "      <td>2016-03-14 12:52:21</td>\n",
       "      <td>9800</td>\n",
       "      <td>suv</td>\n",
       "      <td>2004</td>\n",
       "      <td>auto</td>\n",
       "      <td>163</td>\n",
       "      <td>grand</td>\n",
       "      <td>125000</td>\n",
       "      <td>8</td>\n",
       "      <td>gasoline</td>\n",
       "      <td>jeep</td>\n",
       "      <td>NaN</td>\n",
       "      <td>2016-03-14 00:00:00</td>\n",
       "      <td>0</td>\n",
       "      <td>90480</td>\n",
       "      <td>2016-04-05 12:47:46</td>\n",
       "    </tr>\n",
       "    <tr>\n",
       "      <th>3</th>\n",
       "      <td>2016-03-17 16:54:04</td>\n",
       "      <td>1500</td>\n",
       "      <td>small</td>\n",
       "      <td>2001</td>\n",
       "      <td>manual</td>\n",
       "      <td>75</td>\n",
       "      <td>golf</td>\n",
       "      <td>150000</td>\n",
       "      <td>6</td>\n",
       "      <td>petrol</td>\n",
       "      <td>volkswagen</td>\n",
       "      <td>no</td>\n",
       "      <td>2016-03-17 00:00:00</td>\n",
       "      <td>0</td>\n",
       "      <td>91074</td>\n",
       "      <td>2016-03-17 17:40:17</td>\n",
       "    </tr>\n",
       "    <tr>\n",
       "      <th>4</th>\n",
       "      <td>2016-03-31 17:25:20</td>\n",
       "      <td>3600</td>\n",
       "      <td>small</td>\n",
       "      <td>2008</td>\n",
       "      <td>manual</td>\n",
       "      <td>69</td>\n",
       "      <td>fabia</td>\n",
       "      <td>90000</td>\n",
       "      <td>7</td>\n",
       "      <td>gasoline</td>\n",
       "      <td>skoda</td>\n",
       "      <td>no</td>\n",
       "      <td>2016-03-31 00:00:00</td>\n",
       "      <td>0</td>\n",
       "      <td>60437</td>\n",
       "      <td>2016-04-06 10:17:21</td>\n",
       "    </tr>\n",
       "  </tbody>\n",
       "</table>\n",
       "</div>\n",
       "      <button class=\"colab-df-convert\" onclick=\"convertToInteractive('df-34aa8e02-6fc1-4a37-a18b-31b1df3e039d')\"\n",
       "              title=\"Convert this dataframe to an interactive table.\"\n",
       "              style=\"display:none;\">\n",
       "        \n",
       "  <svg xmlns=\"http://www.w3.org/2000/svg\" height=\"24px\"viewBox=\"0 0 24 24\"\n",
       "       width=\"24px\">\n",
       "    <path d=\"M0 0h24v24H0V0z\" fill=\"none\"/>\n",
       "    <path d=\"M18.56 5.44l.94 2.06.94-2.06 2.06-.94-2.06-.94-.94-2.06-.94 2.06-2.06.94zm-11 1L8.5 8.5l.94-2.06 2.06-.94-2.06-.94L8.5 2.5l-.94 2.06-2.06.94zm10 10l.94 2.06.94-2.06 2.06-.94-2.06-.94-.94-2.06-.94 2.06-2.06.94z\"/><path d=\"M17.41 7.96l-1.37-1.37c-.4-.4-.92-.59-1.43-.59-.52 0-1.04.2-1.43.59L10.3 9.45l-7.72 7.72c-.78.78-.78 2.05 0 2.83L4 21.41c.39.39.9.59 1.41.59.51 0 1.02-.2 1.41-.59l7.78-7.78 2.81-2.81c.8-.78.8-2.07 0-2.86zM5.41 20L4 18.59l7.72-7.72 1.47 1.35L5.41 20z\"/>\n",
       "  </svg>\n",
       "      </button>\n",
       "      \n",
       "  <style>\n",
       "    .colab-df-container {\n",
       "      display:flex;\n",
       "      flex-wrap:wrap;\n",
       "      gap: 12px;\n",
       "    }\n",
       "\n",
       "    .colab-df-convert {\n",
       "      background-color: #E8F0FE;\n",
       "      border: none;\n",
       "      border-radius: 50%;\n",
       "      cursor: pointer;\n",
       "      display: none;\n",
       "      fill: #1967D2;\n",
       "      height: 32px;\n",
       "      padding: 0 0 0 0;\n",
       "      width: 32px;\n",
       "    }\n",
       "\n",
       "    .colab-df-convert:hover {\n",
       "      background-color: #E2EBFA;\n",
       "      box-shadow: 0px 1px 2px rgba(60, 64, 67, 0.3), 0px 1px 3px 1px rgba(60, 64, 67, 0.15);\n",
       "      fill: #174EA6;\n",
       "    }\n",
       "\n",
       "    [theme=dark] .colab-df-convert {\n",
       "      background-color: #3B4455;\n",
       "      fill: #D2E3FC;\n",
       "    }\n",
       "\n",
       "    [theme=dark] .colab-df-convert:hover {\n",
       "      background-color: #434B5C;\n",
       "      box-shadow: 0px 1px 3px 1px rgba(0, 0, 0, 0.15);\n",
       "      filter: drop-shadow(0px 1px 2px rgba(0, 0, 0, 0.3));\n",
       "      fill: #FFFFFF;\n",
       "    }\n",
       "  </style>\n",
       "\n",
       "      <script>\n",
       "        const buttonEl =\n",
       "          document.querySelector('#df-34aa8e02-6fc1-4a37-a18b-31b1df3e039d button.colab-df-convert');\n",
       "        buttonEl.style.display =\n",
       "          google.colab.kernel.accessAllowed ? 'block' : 'none';\n",
       "\n",
       "        async function convertToInteractive(key) {\n",
       "          const element = document.querySelector('#df-34aa8e02-6fc1-4a37-a18b-31b1df3e039d');\n",
       "          const dataTable =\n",
       "            await google.colab.kernel.invokeFunction('convertToInteractive',\n",
       "                                                     [key], {});\n",
       "          if (!dataTable) return;\n",
       "\n",
       "          const docLinkHtml = 'Like what you see? Visit the ' +\n",
       "            '<a target=\"_blank\" href=https://colab.research.google.com/notebooks/data_table.ipynb>data table notebook</a>'\n",
       "            + ' to learn more about interactive tables.';\n",
       "          element.innerHTML = '';\n",
       "          dataTable['output_type'] = 'display_data';\n",
       "          await google.colab.output.renderOutput(dataTable, element);\n",
       "          const docLink = document.createElement('div');\n",
       "          docLink.innerHTML = docLinkHtml;\n",
       "          element.appendChild(docLink);\n",
       "        }\n",
       "      </script>\n",
       "    </div>\n",
       "  </div>\n",
       "  "
      ],
      "text/plain": [
       "           DateCrawled  Price VehicleType  RegistrationYear Gearbox  Power  \\\n",
       "0  2016-03-24 11:52:17    480         NaN              1993  manual      0   \n",
       "1  2016-03-24 10:58:45  18300       coupe              2011  manual    190   \n",
       "2  2016-03-14 12:52:21   9800         suv              2004    auto    163   \n",
       "3  2016-03-17 16:54:04   1500       small              2001  manual     75   \n",
       "4  2016-03-31 17:25:20   3600       small              2008  manual     69   \n",
       "\n",
       "   Model  Kilometer  RegistrationMonth  FuelType       Brand Repaired  \\\n",
       "0   golf     150000                  0    petrol  volkswagen      NaN   \n",
       "1    NaN     125000                  5  gasoline        audi      yes   \n",
       "2  grand     125000                  8  gasoline        jeep      NaN   \n",
       "3   golf     150000                  6    petrol  volkswagen       no   \n",
       "4  fabia      90000                  7  gasoline       skoda       no   \n",
       "\n",
       "           DateCreated  NumberOfPictures  PostalCode             LastSeen  \n",
       "0  2016-03-24 00:00:00                 0       70435  2016-04-07 03:16:57  \n",
       "1  2016-03-24 00:00:00                 0       66954  2016-04-07 01:46:50  \n",
       "2  2016-03-14 00:00:00                 0       90480  2016-04-05 12:47:46  \n",
       "3  2016-03-17 00:00:00                 0       91074  2016-03-17 17:40:17  \n",
       "4  2016-03-31 00:00:00                 0       60437  2016-04-06 10:17:21  "
      ]
     },
     "execution_count": 2,
     "metadata": {},
     "output_type": "execute_result"
    }
   ],
   "source": [
    "data = pd.read_csv('/content/autos (1).csv')\n",
    "data.head()"
   ]
  },
  {
   "cell_type": "code",
   "execution_count": 3,
   "metadata": {
    "colab": {
     "base_uri": "https://localhost:8080/"
    },
    "id": "aI8HVbDnDpcD",
    "outputId": "505f7535-d545-444b-dfe3-774841ecd1f9"
   },
   "outputs": [
    {
     "name": "stdout",
     "output_type": "stream",
     "text": [
      "<class 'pandas.core.frame.DataFrame'>\n",
      "RangeIndex: 354369 entries, 0 to 354368\n",
      "Data columns (total 16 columns):\n",
      " #   Column             Non-Null Count   Dtype \n",
      "---  ------             --------------   ----- \n",
      " 0   DateCrawled        354369 non-null  object\n",
      " 1   Price              354369 non-null  int64 \n",
      " 2   VehicleType        316879 non-null  object\n",
      " 3   RegistrationYear   354369 non-null  int64 \n",
      " 4   Gearbox            334536 non-null  object\n",
      " 5   Power              354369 non-null  int64 \n",
      " 6   Model              334664 non-null  object\n",
      " 7   Kilometer          354369 non-null  int64 \n",
      " 8   RegistrationMonth  354369 non-null  int64 \n",
      " 9   FuelType           321474 non-null  object\n",
      " 10  Brand              354369 non-null  object\n",
      " 11  Repaired           283215 non-null  object\n",
      " 12  DateCreated        354369 non-null  object\n",
      " 13  NumberOfPictures   354369 non-null  int64 \n",
      " 14  PostalCode         354369 non-null  int64 \n",
      " 15  LastSeen           354369 non-null  object\n",
      "dtypes: int64(7), object(9)\n",
      "memory usage: 43.3+ MB\n"
     ]
    }
   ],
   "source": [
    "data.info()"
   ]
  },
  {
   "cell_type": "code",
   "execution_count": 4,
   "metadata": {
    "colab": {
     "base_uri": "https://localhost:8080/"
    },
    "id": "bUmoO2dWDpcD",
    "outputId": "338382df-29d9-4dd6-9303-d34439a0b938"
   },
   "outputs": [
    {
     "data": {
      "text/plain": [
       "Index(['datecrawled', 'price', 'vehicle_type', 'registration_year', 'gearbox',\n",
       "       'power', 'model', 'kilometer', 'registration_month', 'fuel_type',\n",
       "       'brand', 'repaired', 'datecreated', 'number_of_pictures', 'postalcode',\n",
       "       'lastseen'],\n",
       "      dtype='object')"
      ]
     },
     "execution_count": 4,
     "metadata": {},
     "output_type": "execute_result"
    }
   ],
   "source": [
    "data.columns = data.columns.str.lower()\n",
    "data.rename(columns = {'vehicletype':'vehicle_type', 'registrationyear': 'registration_year',\n",
    "                     'registrationmonth':'registration_month', 'fueltype':'fuel_type',\n",
    "                     'numberofpictures':'number_of_pictures'}, inplace = True)\n",
    "data.columns"
   ]
  },
  {
   "cell_type": "markdown",
   "metadata": {
    "id": "zd11E4dXDpcE"
   },
   "source": [
    "Удалим неинформативные колонки из датасета. Данные о самом объявления и количесвто фотографий вряд ли могут повлиять на ценообразование."
   ]
  },
  {
   "cell_type": "markdown",
   "metadata": {
    "id": "FCBPqPnfDpcE"
   },
   "source": [
    "### Обработка пропущенных значений"
   ]
  },
  {
   "cell_type": "code",
   "execution_count": 6,
   "metadata": {
    "colab": {
     "base_uri": "https://localhost:8080/"
    },
    "id": "iGBUGdjODpcE",
    "outputId": "4770ca27-703b-42f9-904a-1380abf01da0"
   },
   "outputs": [
    {
     "data": {
      "text/plain": [
       "datecrawled               0\n",
       "price                     0\n",
       "vehicle_type          37490\n",
       "registration_year         0\n",
       "gearbox               19833\n",
       "power                     0\n",
       "model                 19705\n",
       "kilometer                 0\n",
       "registration_month        0\n",
       "fuel_type             32895\n",
       "brand                     0\n",
       "repaired              71154\n",
       "datecreated               0\n",
       "number_of_pictures        0\n",
       "postalcode                0\n",
       "lastseen                  0\n",
       "dtype: int64"
      ]
     },
     "execution_count": 6,
     "metadata": {},
     "output_type": "execute_result"
    }
   ],
   "source": [
    "data.isna().sum()"
   ]
  },
  {
   "cell_type": "markdown",
   "metadata": {
    "id": "4_7hDdhSDpcF"
   },
   "source": [
    "Произведем замену пропущенных значений на \"заглушку\" - ***unknown*** т.к. причина пропусков неявная и есть риск испортить данные."
   ]
  },
  {
   "cell_type": "code",
   "execution_count": 7,
   "metadata": {
    "id": "095S0NIaDpcF"
   },
   "outputs": [],
   "source": [
    "data[['vehicle_type', 'gearbox', 'model', 'fuel_type', 'repaired']] = \\\n",
    "data[['vehicle_type', 'gearbox', 'model', 'fuel_type', 'repaired']].fillna('unknown')"
   ]
  },
  {
   "cell_type": "markdown",
   "metadata": {
    "id": "zvL-fHQsDpcF"
   },
   "source": [
    "### Проверка на дубликаты"
   ]
  },
  {
   "cell_type": "code",
   "execution_count": 8,
   "metadata": {
    "colab": {
     "base_uri": "https://localhost:8080/"
    },
    "id": "OcSaDkc3DpcF",
    "outputId": "55e14d38-1a88-4a19-f9b2-aea8c4fb0114"
   },
   "outputs": [
    {
     "data": {
      "text/plain": [
       "4"
      ]
     },
     "execution_count": 8,
     "metadata": {},
     "output_type": "execute_result"
    }
   ],
   "source": [
    "data.duplicated().sum()"
   ]
  },
  {
   "cell_type": "code",
   "execution_count": 9,
   "metadata": {
    "colab": {
     "base_uri": "https://localhost:8080/"
    },
    "id": "SiGBuCacDpcG",
    "outputId": "b3dd42cd-ea8c-4a80-884e-8c441393bc4e"
   },
   "outputs": [
    {
     "data": {
      "text/plain": [
       "(354365, 16)"
      ]
     },
     "execution_count": 9,
     "metadata": {},
     "output_type": "execute_result"
    }
   ],
   "source": [
    "data = data.drop_duplicates()\n",
    "data.shape"
   ]
  },
  {
   "cell_type": "code",
   "execution_count": 10,
   "metadata": {
    "colab": {
     "base_uri": "https://localhost:8080/"
    },
    "id": "fAxwl-7vDpcG",
    "outputId": "6dc98a70-cf33-4546-e4a7-9281d82fd3a9"
   },
   "outputs": [
    {
     "data": {
      "text/plain": [
       "array(['unknown', 'coupe', 'suv', 'small', 'sedan', 'convertible', 'bus',\n",
       "       'wagon', 'other'], dtype=object)"
      ]
     },
     "execution_count": 10,
     "metadata": {},
     "output_type": "execute_result"
    }
   ],
   "source": [
    "data['vehicle_type'].unique()"
   ]
  },
  {
   "cell_type": "code",
   "execution_count": 11,
   "metadata": {
    "colab": {
     "base_uri": "https://localhost:8080/"
    },
    "id": "T4TwlZLPDpcG",
    "outputId": "6788d719-fc86-423e-f602-33aa94f0724c"
   },
   "outputs": [
    {
     "data": {
      "text/plain": [
       "array(['golf', 'unknown', 'grand', 'fabia', '3er', '2_reihe', 'other',\n",
       "       'c_max', '3_reihe', 'passat', 'navara', 'ka', 'polo', 'twingo',\n",
       "       'a_klasse', 'scirocco', '5er', 'meriva', 'arosa', 'c4', 'civic',\n",
       "       'transporter', 'punto', 'e_klasse', 'clio', 'kadett', 'kangoo',\n",
       "       'corsa', 'one', 'fortwo', '1er', 'b_klasse', 'signum', 'astra',\n",
       "       'a8', 'jetta', 'fiesta', 'c_klasse', 'micra', 'vito', 'sprinter',\n",
       "       '156', 'escort', 'forester', 'xc_reihe', 'scenic', 'a4', 'a1',\n",
       "       'insignia', 'combo', 'focus', 'tt', 'a6', 'jazz', 'omega', 'slk',\n",
       "       '7er', '80', '147', '100', 'z_reihe', 'sportage', 'sorento', 'v40',\n",
       "       'ibiza', 'mustang', 'eos', 'touran', 'getz', 'a3', 'almera',\n",
       "       'megane', 'lupo', 'r19', 'zafira', 'caddy', 'mondeo', 'cordoba',\n",
       "       'colt', 'impreza', 'vectra', 'berlingo', 'tiguan', 'i_reihe',\n",
       "       'espace', 'sharan', '6_reihe', 'panda', 'up', 'seicento', 'ceed',\n",
       "       '5_reihe', 'yeti', 'octavia', 'mii', 'rx_reihe', '6er', 'modus',\n",
       "       'fox', 'matiz', 'beetle', 'c1', 'rio', 'touareg', 'logan',\n",
       "       'spider', 'cuore', 's_max', 'a2', 'galaxy', 'c3', 'viano',\n",
       "       's_klasse', '1_reihe', 'avensis', 'roomster', 'sl', 'kaefer',\n",
       "       'santa', 'cooper', 'leon', '4_reihe', 'a5', '500', 'laguna',\n",
       "       'ptcruiser', 'clk', 'primera', 'x_reihe', 'exeo', '159', 'transit',\n",
       "       'juke', 'qashqai', 'carisma', 'accord', 'corolla', 'lanos',\n",
       "       'phaeton', 'verso', 'swift', 'rav', 'picanto', 'boxster', 'kalos',\n",
       "       'superb', 'stilo', 'alhambra', 'mx_reihe', 'roadster', 'ypsilon',\n",
       "       'cayenne', 'galant', 'justy', '90', 'sirion', 'crossfire', 'agila',\n",
       "       'duster', 'cr_reihe', 'v50', 'c_reihe', 'v_klasse', 'm_klasse',\n",
       "       'yaris', 'c5', 'aygo', 'cc', 'carnival', 'fusion', '911', 'bora',\n",
       "       'forfour', 'm_reihe', 'cl', 'tigra', '300c', 'spark', 'v70',\n",
       "       'kuga', 'x_type', 'ducato', 's_type', 'x_trail', 'toledo', 'altea',\n",
       "       'voyager', 'calibra', 'bravo', 'antara', 'tucson', 'citigo',\n",
       "       'jimny', 'wrangler', 'lybra', 'q7', 'lancer', 'captiva', 'c2',\n",
       "       'discovery', 'freelander', 'sandero', 'note', '900', 'cherokee',\n",
       "       'clubman', 'samara', 'defender', '601', 'cx_reihe', 'legacy',\n",
       "       'pajero', 'auris', 'niva', 's60', 'nubira', 'vivaro', 'g_klasse',\n",
       "       'lodgy', '850', 'range_rover', 'q3', 'serie_2', 'glk', 'charade',\n",
       "       'croma', 'outlander', 'doblo', 'musa', 'move', '9000', 'v60',\n",
       "       '145', 'aveo', '200', 'b_max', 'range_rover_sport', 'terios',\n",
       "       'rangerover', 'q5', 'range_rover_evoque', 'materia', 'delta', 'gl',\n",
       "       'kalina', 'amarok', 'elefantino', 'i3', 'kappa', 'serie_3',\n",
       "       'serie_1'], dtype=object)"
      ]
     },
     "execution_count": 11,
     "metadata": {},
     "output_type": "execute_result"
    }
   ],
   "source": [
    "data['model'].unique()"
   ]
  },
  {
   "cell_type": "code",
   "execution_count": 12,
   "metadata": {
    "colab": {
     "base_uri": "https://localhost:8080/"
    },
    "id": "NRu_Wq-LDpcH",
    "outputId": "1dbf7ad9-f3e6-4f41-a93e-aaecfc29eab0"
   },
   "outputs": [
    {
     "data": {
      "text/plain": [
       "array(['manual', 'auto', 'unknown'], dtype=object)"
      ]
     },
     "execution_count": 12,
     "metadata": {},
     "output_type": "execute_result"
    }
   ],
   "source": [
    "data['gearbox'].unique()"
   ]
  },
  {
   "cell_type": "code",
   "execution_count": 13,
   "metadata": {
    "colab": {
     "base_uri": "https://localhost:8080/"
    },
    "id": "---lyjsyDpcH",
    "outputId": "27ba965e-05f7-4c97-b16c-03e13b43c0e1"
   },
   "outputs": [
    {
     "data": {
      "text/plain": [
       "array(['petrol', 'gasoline', 'unknown', 'lpg', 'other', 'hybrid', 'cng',\n",
       "       'electric'], dtype=object)"
      ]
     },
     "execution_count": 13,
     "metadata": {},
     "output_type": "execute_result"
    }
   ],
   "source": [
    "data['fuel_type'].unique()"
   ]
  },
  {
   "cell_type": "code",
   "execution_count": 14,
   "metadata": {
    "colab": {
     "base_uri": "https://localhost:8080/"
    },
    "id": "eN8tZQ0FDpcH",
    "outputId": "1b4c153f-86c2-469e-81d9-a528ad8c15c8"
   },
   "outputs": [
    {
     "data": {
      "text/plain": [
       "array(['volkswagen', 'audi', 'jeep', 'skoda', 'bmw', 'peugeot', 'ford',\n",
       "       'mazda', 'nissan', 'renault', 'mercedes_benz', 'opel', 'seat',\n",
       "       'citroen', 'honda', 'fiat', 'mini', 'smart', 'hyundai',\n",
       "       'sonstige_autos', 'alfa_romeo', 'subaru', 'volvo', 'mitsubishi',\n",
       "       'kia', 'suzuki', 'lancia', 'toyota', 'chevrolet', 'dacia',\n",
       "       'daihatsu', 'trabant', 'saab', 'chrysler', 'jaguar', 'daewoo',\n",
       "       'porsche', 'rover', 'land_rover', 'lada'], dtype=object)"
      ]
     },
     "execution_count": 14,
     "metadata": {},
     "output_type": "execute_result"
    }
   ],
   "source": [
    "data['brand'].unique()"
   ]
  },
  {
   "cell_type": "markdown",
   "metadata": {
    "id": "ojrLe5DCDpcH"
   },
   "source": [
    "### Обработка выбросов и аномальных значений"
   ]
  },
  {
   "cell_type": "markdown",
   "metadata": {
    "id": "7EIijMKnDpcI"
   },
   "source": [
    "Пройдемся по всем колличественным признакам и избаимся от аномальных значений и выбросов, если потребуется."
   ]
  },
  {
   "cell_type": "code",
   "execution_count": 15,
   "metadata": {
    "colab": {
     "base_uri": "https://localhost:8080/"
    },
    "id": "iYXfZWkHDpcI",
    "outputId": "47e33294-530e-4045-986b-da0ffbbbc3b8"
   },
   "outputs": [
    {
     "data": {
      "text/plain": [
       "array([1993, 2011, 2004, 2001, 2008, 1995, 1980, 2014, 1998, 2005, 1910,\n",
       "       2016, 2007, 2009, 2002, 2018, 1997, 1990, 2017, 1981, 2003, 1994,\n",
       "       1991, 1984, 2006, 1999, 2012, 2010, 2000, 1992, 2013, 1996, 1985,\n",
       "       1989, 2015, 1982, 1976, 1983, 1973, 1111, 1969, 1971, 1987, 1986,\n",
       "       1988, 1970, 1965, 1945, 1925, 1974, 1979, 1955, 1978, 1972, 1968,\n",
       "       1977, 1961, 1960, 1966, 1975, 1963, 1964, 5000, 1954, 1958, 1967,\n",
       "       1959, 9999, 1956, 3200, 1000, 1941, 8888, 1500, 2200, 4100, 1962,\n",
       "       1929, 1957, 1940, 3000, 2066, 1949, 2019, 1937, 1951, 1800, 1953,\n",
       "       1234, 8000, 5300, 9000, 2900, 6000, 5900, 5911, 1933, 1400, 1950,\n",
       "       4000, 1948, 1952, 1200, 8500, 1932, 1255, 3700, 3800, 4800, 1942,\n",
       "       7000, 1935, 1936, 6500, 1923, 2290, 2500, 1930, 1001, 9450, 1944,\n",
       "       1943, 1934, 1938, 1688, 2800, 1253, 1928, 1919, 5555, 5600, 1600,\n",
       "       2222, 1039, 9996, 1300, 8455, 1931, 1915, 4500, 1920, 1602, 7800,\n",
       "       9229, 1947, 1927, 7100, 8200, 1946, 7500, 3500])"
      ]
     },
     "execution_count": 15,
     "metadata": {},
     "output_type": "execute_result"
    }
   ],
   "source": [
    "data['registration_year'].unique()"
   ]
  },
  {
   "cell_type": "code",
   "execution_count": 16,
   "metadata": {
    "colab": {
     "base_uri": "https://localhost:8080/"
    },
    "id": "JdZcyy7gDpcI",
    "outputId": "88f09f7d-58ad-4f4e-f6b2-9f494a83f5ca"
   },
   "outputs": [
    {
     "data": {
      "text/plain": [
       "count    354365.000000\n",
       "mean       2004.234481\n",
       "std          90.228466\n",
       "min        1000.000000\n",
       "25%        1999.000000\n",
       "50%        2003.000000\n",
       "75%        2008.000000\n",
       "max        9999.000000\n",
       "Name: registration_year, dtype: float64"
      ]
     },
     "execution_count": 16,
     "metadata": {},
     "output_type": "execute_result"
    }
   ],
   "source": [
    "data['registration_year'].describe()"
   ]
  },
  {
   "cell_type": "code",
   "execution_count": 17,
   "metadata": {
    "colab": {
     "base_uri": "https://localhost:8080/",
     "height": 270
    },
    "id": "PikDa-ETDpcI",
    "outputId": "53c90594-32e7-46f9-9388-52bf71bd0601"
   },
   "outputs": [
    {
     "data": {
      "image/png": "[encoded data removed]",
      "text/plain": [
       "<Figure size 1296x288 with 2 Axes>"
      ]
     },
     "metadata": {
      "needs_background": "light"
     },
     "output_type": "display_data"
    }
   ],
   "source": [
    "fig, axis = plt.subplots(1,2 , figsize=(18,4))\n",
    "sns.boxplot(y='registration_year', data=data, ax=axis[0]).set(title='Год регистрации');\n",
    "sns.boxplot(y='registration_year', data=data, ax=axis[1]).set(title='Год регистрации');\n",
    "plt.ylim([1980,2030]);"
   ]
  },
  {
   "cell_type": "markdown",
   "metadata": {
    "id": "2658Cq6uDpcJ"
   },
   "source": [
    "Избавимся от аномалий и опрделим актуальный перод выпуска автомобилей: *с 1990 по 2023 г.г.*"
   ]
  },
  {
   "cell_type": "code",
   "execution_count": 18,
   "metadata": {
    "colab": {
     "base_uri": "https://localhost:8080/"
    },
    "id": "XbidVfO4DpcJ",
    "outputId": "6e681da6-fe22-4c48-bb5d-5150af344f79"
   },
   "outputs": [
    {
     "data": {
      "text/plain": [
       "(341785, 16)"
      ]
     },
     "execution_count": 18,
     "metadata": {},
     "output_type": "execute_result"
    }
   ],
   "source": [
    "data = data.query('1990 < registration_year < 2023')\n",
    "data.shape"
   ]
  },
  {
   "cell_type": "code",
   "execution_count": 19,
   "metadata": {
    "colab": {
     "base_uri": "https://localhost:8080/"
    },
    "id": "mp3VAbkgDpcJ",
    "outputId": "acec0e89-a916-4315-91bd-a1b48ebb4c64",
    "scrolled": true
   },
   "outputs": [
    {
     "data": {
      "text/plain": [
       "329497    2016-03-05 14:06:22\n",
       "220583    2016-03-05 14:06:23\n",
       "324763    2016-03-05 14:06:24\n",
       "176823    2016-03-05 14:06:24\n",
       "99885     2016-03-05 14:06:24\n",
       "                 ...         \n",
       "304465    2016-04-07 14:36:46\n",
       "53739     2016-04-07 14:36:54\n",
       "301030    2016-04-07 14:36:55\n",
       "339649    2016-04-07 14:36:56\n",
       "90713     2016-04-07 14:36:58\n",
       "Name: datecrawled, Length: 341785, dtype: object"
      ]
     },
     "execution_count": 19,
     "metadata": {},
     "output_type": "execute_result"
    }
   ],
   "source": [
    "data['datecrawled'].sort_values()"
   ]
  },
  {
   "cell_type": "markdown",
   "metadata": {
    "id": "qyfb797kDpcK"
   },
   "source": [
    "***Вывод:*** имеем данные скаченных анкет за 2016 год, поэтому верхнюю границу года регистрации имеет смысл сдвинуть на этот же год."
   ]
  },
  {
   "cell_type": "code",
   "execution_count": 20,
   "metadata": {
    "colab": {
     "base_uri": "https://localhost:8080/"
    },
    "id": "LckgrajsDpcK",
    "outputId": "5a06d02b-64f5-4c2b-9a62-7ef79fe1bce9"
   },
   "outputs": [
    {
     "data": {
      "text/plain": [
       "(317761, 16)"
      ]
     },
     "execution_count": 20,
     "metadata": {},
     "output_type": "execute_result"
    }
   ],
   "source": [
    "data = data.query('1990 < registration_year < 2016')\n",
    "data.shape"
   ]
  },
  {
   "cell_type": "markdown",
   "metadata": {
    "id": "CgiBgjUkDpcK"
   },
   "source": [
    "Проверим остальные количественные характеристики."
   ]
  },
  {
   "cell_type": "code",
   "execution_count": 21,
   "metadata": {
    "colab": {
     "base_uri": "https://localhost:8080/",
     "height": 485
    },
    "id": "m8BSaG0vDpcK",
    "outputId": "9f5da238-073e-49e4-8f6f-69e772f3abab"
   },
   "outputs": [
    {
     "data": {
      "image/png": "[encoded data removed]",
      "text/plain": [
       "<Figure size 1296x576 with 4 Axes>"
      ]
     },
     "metadata": {
      "needs_background": "light"
     },
     "output_type": "display_data"
    }
   ],
   "source": [
    "fig, axis = plt.subplots(2,2 , figsize=(18,8))\n",
    "\n",
    "sns.boxplot(y='price', data=data, ax=axis[0,0]).set(title='Цена');\n",
    "sns.boxplot(y='power', data=data, ax=axis[0,1]).set(title='Мощность');\n",
    "sns.boxplot(y='kilometer', data=data, ax=axis[1,0]).set(title='Пробег');\n",
    "sns.boxplot(y='registration_month', data=data, ax=axis[1,1]).set(title='Месяц регистрации');"
   ]
  },
  {
   "cell_type": "code",
   "execution_count": 22,
   "metadata": {
    "colab": {
     "base_uri": "https://localhost:8080/"
    },
    "id": "1k8Hss9ADpcK",
    "outputId": "ba0b7205-edd3-4444-afa6-006bd3191109"
   },
   "outputs": [
    {
     "data": {
      "text/plain": [
       "count    317761.000000\n",
       "mean       4554.165530\n",
       "std        4560.664679\n",
       "min           0.000000\n",
       "25%        1150.000000\n",
       "50%        2890.000000\n",
       "75%        6550.000000\n",
       "max       20000.000000\n",
       "Name: price, dtype: float64"
      ]
     },
     "execution_count": 22,
     "metadata": {},
     "output_type": "execute_result"
    }
   ],
   "source": [
    "data['price'].describe()"
   ]
  },
  {
   "cell_type": "code",
   "execution_count": 23,
   "metadata": {
    "colab": {
     "base_uri": "https://localhost:8080/"
    },
    "id": "EiqUq9VHDpcL",
    "outputId": "40968896-d92b-49ba-d8c0-13dd2cef826a"
   },
   "outputs": [
    {
     "data": {
      "text/plain": [
       "array([    0,   190,   163,    75,    69,   102,   109,   125,   101,\n",
       "         105,   140,   115,   131,   136,   160,   231,    50,   193,\n",
       "          99,    60,   113,   218,   122,   129,   306,    95,    61,\n",
       "         177,   170,   143,   286,   232,   150,   156,    80,    82,\n",
       "          90,   155,    54,   185,    87,    86,    84,   224,   235,\n",
       "         200,   178,   265,    77,   110,   144,   120,   116,   184,\n",
       "         126,   204,    88,   194,    64,   305,   197,   179,   250,\n",
       "         313,    41,    45,   165,    98,   130,   114,   211,    56,\n",
       "         118,   201,   213,    58,   107,   174,   100,   220,    73,\n",
       "         192,    68,    66,   299,    74,    52,   147,    71,    97,\n",
       "          65,   239,   203,     5,   300,   103,    85,   258,   320,\n",
       "          63,    81,   148,    83,    70,   145,    55,   180,   230,\n",
       "         280,   260,   104,   188,   333,   186,   117,   141,   234,\n",
       "         158,    39,    92,    51,   135,    53,   209,    43,   146,\n",
       "          67,   106,   166,   276,   344,   249,   237,   245,   111,\n",
       "         326,   279,   138,   175,   226,   301,   334,   128,   124,\n",
       "          33,   219,   241,   167,   182,   196,   238,  1398,   228,\n",
       "          48,   133,    96,   272,   139,  1799,   240,    79,   256,\n",
       "         243,   375,   252,   396,    72,   340,   121,   345,    44,\n",
       "         187,   132,   289,   198,   284,    37,   450,   233,   112,\n",
       "         387,   152,   347,   172,    57,   137,    94,   212,   476,\n",
       "         314,     7,   173,   290,   207,   205,    78,    91,    89,\n",
       "         349,    40,   325,    76,   350,   953,   171,    93,   142,\n",
       "         500,   343,   199,   119,   164,   310,    16,   264,    47,\n",
       "          59,   367,   108,   208,   210,    46,   435,  1001,   225,\n",
       "         127,   176,   161,   603,   307,   354,    35,   206,   771,\n",
       "         355,   273,   223,   255,   151,    30,   123,   154,   149,\n",
       "        7515,  1400,   268,   620,   400,   275,     2,   242,   285,\n",
       "         162,   328,  1753,   329,   134,   420,   247,   222,   168,\n",
       "       10317,   215,   360,   330,   283,    62,   214,   183,   254,\n",
       "          15,   321,   315,   952,   169,    18,   600,   181,   426,\n",
       "         379,   999,    22,   157,    42,   195,   553,     4,   309,\n",
       "         507,   381,   271,   440,   189,   401,  2729,    26,   236,\n",
       "        1240,  1704,   521,     1,  1900,   270,   292,   515,  1200,\n",
       "         303,    38,  1993,    14,   216,   610,   504,   267,   331,\n",
       "         261,  1011,   253, 10520,   376,   227,   311,   217,   322,\n",
       "        1999,    11,  1056,   394,    12,   298,   296,    20,    49,\n",
       "         294,   551,  6920,   246,    17,  1625,   368,   363,   390,\n",
       "         221,  1367,   259,    24,  1597,   266,   374,   392,     9,\n",
       "          25,   405,    34,   601,   430,   295,     8,   411,   900,\n",
       "         159,   541,  7512,   382, 10218,  7544,  1102,   287,    19,\n",
       "         751,   297,  1090,   457,   282,   602,   388,   385,     6,\n",
       "        5411,   335,  1360,  3750,   805,  1062,    10,  2017,   750,\n",
       "        1024, 11530,  1796,   269,   460,  1002,   288,  1780, 12012,\n",
       "       17932,   316,  2005,  1800,  1399,   191,   278,   380,   257,\n",
       "         449,  1256,   153,  1653,   520,   560,   202,   281, 12510,\n",
       "           3,  1500,   386,    32,  1202,  2016,  1436,    23,  1405,\n",
       "         671,   274,  1288,  1055, 10912,  6226,  1115,   277,  1105,\n",
       "         341,  1223,  2340,  8404,  1968,   338,   445,  1920,   517,\n",
       "        4400, 10710, 10522,   431,  1164, 11509,   371,  1501,   428,\n",
       "       11635,   304,   348,  1703,   370,  1910,  1995,   579,   580,\n",
       "         408,    31,   358,  1403,   489,  5575,   262, 19211,   585,\n",
       "         960,   353,   490,   352,  1801,  1000,   346,   550,  3199,\n",
       "         800,  7508,  1312,  1937,   950,  4700,  1600,  3454, 19208,\n",
       "         251,   850,   365,    29,   700,  8011,  2331,   487,    36,\n",
       "         519,  2461,  6006,  3500,  5815,  1781,  1503,   612,  1596,\n",
       "         229,  1506,  5809, 15020,  5867,  2172,  1598, 17410,  1363,\n",
       "         584,  1054,   851,  1339,   318,   510,   525,  1700,  1151,\n",
       "         685,   317,   703,  1771, 15001,   514,   362,   332,  6045,\n",
       "         530,   308,  6010,   475,   903,   640,  2000,   248,   651,\n",
       "        2799, 17011,   505,   606,  1103,  1521,   398,   599,  1998,\n",
       "         409,  1230, 12684,  8259,  1895,  1317,   871,   324,   776,\n",
       "       17700, 11011,   351,  1199,   357,  1162,  1120,   327, 15033,\n",
       "        1896,   339,   361,   574,  6512,   454,   650,   604, 16312,\n",
       "        1082,   336, 20000,   416,  1401,  1021,  1870,   909, 13636,\n",
       "        9710,  6012,  2009,  6062,  1275,   572,   399,  1016,   244,\n",
       "         743,  1221,  2402,  1362,  1595,   907,   702,  1003,  1432,\n",
       "        9013,   442,  1017, 15017, 10910,  1992,   540,  2018, 11025,\n",
       "        1433,  1701,  2792,  1502,  1239,  1390, 14009,  1160, 11111,\n",
       "        1783,  9007,  1149,   754,  1988,  2004,  5420,  1793,   356,\n",
       "         364, 12512,  7511,  1299,   293, 19312,  1079,  1689,   998,\n",
       "          13,  1100,  1933,   508, 16311,   682,  1922,  7529,   732,\n",
       "        2389,  1005,  2200,  1707,  1416,  8500,  1012,   485, 10110,\n",
       "         421,  1631,  7518,  1250,   377,  1004,  9012,  2007,  2598,\n",
       "        1548,  1241])"
      ]
     },
     "execution_count": 23,
     "metadata": {},
     "output_type": "execute_result"
    }
   ],
   "source": [
    "data['power'].unique()"
   ]
  },
  {
   "cell_type": "code",
   "execution_count": 24,
   "metadata": {
    "colab": {
     "base_uri": "https://localhost:8080/",
     "height": 287
    },
    "id": "17nvpU3ADpcL",
    "outputId": "45ceb712-b42f-4d15-d97e-5eb9fd87a1f4"
   },
   "outputs": [
    {
     "data": {
      "text/plain": [
       "(0.0, 300.0)"
      ]
     },
     "execution_count": 24,
     "metadata": {},
     "output_type": "execute_result"
    },
    {
     "data": {
      "image/png": "[encoded data removed]",
      "text/plain": [
       "<Figure size 432x288 with 1 Axes>"
      ]
     },
     "metadata": {
      "needs_background": "light"
     },
     "output_type": "display_data"
    }
   ],
   "source": [
    "sns.boxplot(y='power', data=data).set(title='Мощность');\n",
    "plt.ylim([0,300])"
   ]
  },
  {
   "cell_type": "markdown",
   "metadata": {
    "id": "v3REDayHDpcL"
   },
   "source": [
    "Основываясь на поиске в интернете, самая максимальная мощность автомобиля на сегодняшний день ~ 2000 л.с. Нижняя граница мощности современных автомобилей ~ 20 л.с. Поэтому установим релевантный диапазон мощности авто."
   ]
  },
  {
   "cell_type": "code",
   "execution_count": 25,
   "metadata": {
    "colab": {
     "base_uri": "https://localhost:8080/"
    },
    "id": "J02JWH2xDpcP",
    "outputId": "e5674235-8769-453c-d46d-5f4855df1894"
   },
   "outputs": [
    {
     "data": {
      "text/plain": [
       "(286869, 16)"
      ]
     },
     "execution_count": 25,
     "metadata": {},
     "output_type": "execute_result"
    }
   ],
   "source": [
    "data = data.query('20 < power < 2000')\n",
    "data.shape"
   ]
  },
  {
   "cell_type": "code",
   "execution_count": 26,
   "metadata": {
    "colab": {
     "base_uri": "https://localhost:8080/"
    },
    "id": "PNbfFAABDpcQ",
    "outputId": "4f1b3245-ba33-4c90-f822-26e5f8677243"
   },
   "outputs": [
    {
     "data": {
      "text/plain": [
       "(286869, 11)"
      ]
     },
     "execution_count": 26,
     "metadata": {},
     "output_type": "execute_result"
    }
   ],
   "source": [
    "#удалим неинформативные колонки\n",
    "data = data.drop(['datecrawled','datecreated', 'number_of_pictures', 'postalcode',\n",
    "       'lastseen'], axis=1)\n",
    "data.shape"
   ]
  },
  {
   "cell_type": "markdown",
   "metadata": {
    "id": "ICUshEzPDpcQ"
   },
   "source": [
    "### Исследовательский анализ данных"
   ]
  },
  {
   "cell_type": "code",
   "execution_count": 27,
   "metadata": {
    "colab": {
     "base_uri": "https://localhost:8080/",
     "height": 404
    },
    "id": "c7PU56WODpcR",
    "outputId": "5aa4c84a-d1c7-4484-d2fa-d31a81c4a658"
   },
   "outputs": [
    {
     "data": {
      "image/png": "[encoded data removed]",
      "text/plain": [
       "<Figure size 1080x360 with 1 Axes>"
      ]
     },
     "metadata": {
      "needs_background": "light"
     },
     "output_type": "display_data"
    }
   ],
   "source": [
    "(\n",
    "    data['brand'].value_counts()\n",
    "    .plot(kind='bar', figsize=(15,5), title='Распределение автомобилей по брендам')\n",
    ");"
   ]
  },
  {
   "cell_type": "code",
   "execution_count": 28,
   "metadata": {
    "colab": {
     "base_uri": "https://localhost:8080/",
     "height": 351
    },
    "id": "Ulet6W1zDpcR",
    "outputId": "26bd5414-6861-4c58-8bcb-583662648b07",
    "scrolled": false
   },
   "outputs": [
    {
     "data": {
      "image/png": "[encoded data removed]",
      "text/plain": [
       "<Figure size 1080x360 with 1 Axes>"
      ]
     },
     "metadata": {
      "needs_background": "light"
     },
     "output_type": "display_data"
    }
   ],
   "source": [
    "(\n",
    "    data['registration_year'].value_counts()\n",
    "    .plot(kind='bar', figsize=(15,5), title='Распределение автомобилей по году выпуска')\n",
    ");"
   ]
  },
  {
   "cell_type": "code",
   "execution_count": 29,
   "metadata": {
    "colab": {
     "base_uri": "https://localhost:8080/",
     "height": 364
    },
    "id": "9VuPYwwFDpcR",
    "outputId": "b66308e1-c948-437b-b921-5c1bad7a1563"
   },
   "outputs": [
    {
     "data": {
      "image/png": "[encoded data removed]",
      "text/plain": [
       "<Figure size 1080x360 with 1 Axes>"
      ]
     },
     "metadata": {
      "needs_background": "light"
     },
     "output_type": "display_data"
    }
   ],
   "source": [
    "(\n",
    "    data['kilometer'].value_counts()\n",
    "    .plot(kind='bar', figsize=(15,5), title='Распределение автомобилей по пробегу')\n",
    ");"
   ]
  },
  {
   "cell_type": "code",
   "execution_count": 30,
   "metadata": {
    "colab": {
     "base_uri": "https://localhost:8080/",
     "height": 765
    },
    "id": "ONUlYh3MDpcR",
    "outputId": "c4c5f832-50bf-4973-dc53-3f94326994af"
   },
   "outputs": [
    {
     "data": {
      "image/png": "[encoded data removed]",
      "text/plain": [
       "<Figure size 1440x936 with 4 Axes>"
      ]
     },
     "metadata": {
      "needs_background": "light"
     },
     "output_type": "display_data"
    }
   ],
   "source": [
    "fig, axis = plt.subplots(2,2 , figsize=(20,13))\n",
    "\n",
    "data['vehicle_type'].value_counts().plot(kind='bar', x='vehicle_type', ax=axis[0,0]).set(title='Тип кузова');\n",
    "data['gearbox'].value_counts().plot(kind='bar', x='gearbox', ax=axis[0,1]).set(title='Тип коробки передачь');\n",
    "data['fuel_type'].value_counts().plot(kind='bar', x='fuel_type', ax=axis[1,0]).set(title='Тип топлива');\n",
    "data['repaired'].value_counts().plot(kind='bar', x='repaired', ax=axis[1,1]).set(title='Факт ремонта авто');"
   ]
  },
  {
   "cell_type": "code",
   "execution_count": 31,
   "metadata": {
    "colab": {
     "base_uri": "https://localhost:8080/",
     "height": 488
    },
    "id": "mPt8cTvSDpcS",
    "outputId": "6e03c227-3ae8-4d02-9241-bdff47e8236a"
   },
   "outputs": [
    {
     "data": {
      "image/png": "[encoded data removed]",
      "text/plain": [
       "<Figure size 720x576 with 2 Axes>"
      ]
     },
     "metadata": {
      "needs_background": "light"
     },
     "output_type": "display_data"
    }
   ],
   "source": [
    "plt.figure(figsize=(10, 8))\n",
    "sns.heatmap(data.corr(), annot=True);"
   ]
  },
  {
   "cell_type": "markdown",
   "metadata": {
    "id": "wXLXAfkrDpcS"
   },
   "source": [
    "**ВЫВОД**  \n",
    "\n",
    "- данные успешно загружены\n",
    "- названия столбцов приведены к стандартному виду\n",
    "- типы данных в норме\n",
    "- выявлены пропуски в 5 столбцах, пропуски заменены на \"unknown\"\n",
    "- удалены неинформативные столбцы\n",
    "- выявлены и удалены явные дубликаты\n",
    "- неявных дубликатов не выявлено  \n",
    "\n",
    "- выявлены и устранены аномалии в столбцах 'registration_year' и 'power'\n",
    "- выбран актуальный перод выпуска автомобилей: *с 1990 по 2023 г.г.*\n",
    "- выбран барьер для мощности автомобиля: не более 200 л.с.  \n",
    "\n",
    "- основные представленые бренды:\n",
    "    - volkswagen\n",
    "    - opel\n",
    "    - bmw\n",
    "    - mercedes_benz\n",
    "    - ford\n",
    "    - audi\n",
    "- основные типы кузова:\n",
    "    - small\n",
    "    - sedan\n",
    "    - wagon\n",
    "- в основном представлены автомобили, выпущенные в период *1998-2006 г.г.*\n",
    "- автомобили, выпущенные за последние 3-5 лет, в меньшинтсве\n",
    "- в основном представлены автомобили c механической коробкой передач\n",
    "- в основном представлены автомобили, функционирующие на бензине\n",
    "- у большинства автомобилей пробег составляет *150 тыс. км*\n",
    "- большинство автомобилей не ремонтировалось  \n",
    "\n",
    "- выявлена умеренная корреляциям между годом регистрации и ценой\n",
    "- выявлена средняя корреляциям между мощностью и ценой"
   ]
  },
  {
   "cell_type": "code",
   "execution_count": 32,
   "metadata": {
    "colab": {
     "base_uri": "https://localhost:8080/"
    },
    "id": "fcIDRuZIDpcT",
    "outputId": "c693e7d9-b107-4283-df3a-334d7dbe1e76"
   },
   "outputs": [
    {
     "data": {
      "text/plain": [
       "array([ 5,  8,  6,  7, 10,  0, 12, 11,  2,  3,  1,  4,  9])"
      ]
     },
     "execution_count": 32,
     "metadata": {},
     "output_type": "execute_result"
    }
   ],
   "source": [
    "data['registration_month'].unique()"
   ]
  },
  {
   "cell_type": "code",
   "execution_count": 33,
   "metadata": {
    "colab": {
     "base_uri": "https://localhost:8080/",
     "height": 423
    },
    "id": "M3ajoC0bDpcT",
    "outputId": "00fae27f-a0b9-475e-e010-37315192498c"
   },
   "outputs": [
    {
     "data": {
      "text/html": [
       "\n",
       "  <div id=\"df-7ff54225-a1c7-4d2f-892f-08f806b6916e\">\n",
       "    <div class=\"colab-df-container\">\n",
       "      <div>\n",
       "<style scoped>\n",
       "    .dataframe tbody tr th:only-of-type {\n",
       "        vertical-align: middle;\n",
       "    }\n",
       "\n",
       "    .dataframe tbody tr th {\n",
       "        vertical-align: top;\n",
       "    }\n",
       "\n",
       "    .dataframe thead th {\n",
       "        text-align: right;\n",
       "    }\n",
       "</style>\n",
       "<table border=\"1\" class=\"dataframe\">\n",
       "  <thead>\n",
       "    <tr style=\"text-align: right;\">\n",
       "      <th></th>\n",
       "      <th>price</th>\n",
       "      <th>vehicle_type</th>\n",
       "      <th>registration_year</th>\n",
       "      <th>gearbox</th>\n",
       "      <th>power</th>\n",
       "      <th>model</th>\n",
       "      <th>kilometer</th>\n",
       "      <th>registration_month</th>\n",
       "      <th>fuel_type</th>\n",
       "      <th>brand</th>\n",
       "      <th>repaired</th>\n",
       "    </tr>\n",
       "  </thead>\n",
       "  <tbody>\n",
       "    <tr>\n",
       "      <th>9</th>\n",
       "      <td>999</td>\n",
       "      <td>small</td>\n",
       "      <td>1998</td>\n",
       "      <td>manual</td>\n",
       "      <td>101</td>\n",
       "      <td>golf</td>\n",
       "      <td>150000</td>\n",
       "      <td>0</td>\n",
       "      <td>unknown</td>\n",
       "      <td>volkswagen</td>\n",
       "      <td>unknown</td>\n",
       "    </tr>\n",
       "    <tr>\n",
       "      <th>36</th>\n",
       "      <td>1600</td>\n",
       "      <td>other</td>\n",
       "      <td>1991</td>\n",
       "      <td>manual</td>\n",
       "      <td>75</td>\n",
       "      <td>kadett</td>\n",
       "      <td>70000</td>\n",
       "      <td>0</td>\n",
       "      <td>unknown</td>\n",
       "      <td>opel</td>\n",
       "      <td>unknown</td>\n",
       "    </tr>\n",
       "    <tr>\n",
       "      <th>80</th>\n",
       "      <td>250</td>\n",
       "      <td>wagon</td>\n",
       "      <td>2000</td>\n",
       "      <td>manual</td>\n",
       "      <td>155</td>\n",
       "      <td>156</td>\n",
       "      <td>150000</td>\n",
       "      <td>0</td>\n",
       "      <td>petrol</td>\n",
       "      <td>alfa_romeo</td>\n",
       "      <td>yes</td>\n",
       "    </tr>\n",
       "    <tr>\n",
       "      <th>92</th>\n",
       "      <td>250</td>\n",
       "      <td>unknown</td>\n",
       "      <td>2000</td>\n",
       "      <td>unknown</td>\n",
       "      <td>60</td>\n",
       "      <td>ka</td>\n",
       "      <td>150000</td>\n",
       "      <td>0</td>\n",
       "      <td>unknown</td>\n",
       "      <td>ford</td>\n",
       "      <td>unknown</td>\n",
       "    </tr>\n",
       "    <tr>\n",
       "      <th>104</th>\n",
       "      <td>300</td>\n",
       "      <td>convertible</td>\n",
       "      <td>1992</td>\n",
       "      <td>manual</td>\n",
       "      <td>105</td>\n",
       "      <td>escort</td>\n",
       "      <td>150000</td>\n",
       "      <td>0</td>\n",
       "      <td>unknown</td>\n",
       "      <td>ford</td>\n",
       "      <td>yes</td>\n",
       "    </tr>\n",
       "    <tr>\n",
       "      <th>...</th>\n",
       "      <td>...</td>\n",
       "      <td>...</td>\n",
       "      <td>...</td>\n",
       "      <td>...</td>\n",
       "      <td>...</td>\n",
       "      <td>...</td>\n",
       "      <td>...</td>\n",
       "      <td>...</td>\n",
       "      <td>...</td>\n",
       "      <td>...</td>\n",
       "      <td>...</td>\n",
       "    </tr>\n",
       "    <tr>\n",
       "      <th>354260</th>\n",
       "      <td>399</td>\n",
       "      <td>other</td>\n",
       "      <td>1994</td>\n",
       "      <td>unknown</td>\n",
       "      <td>1103</td>\n",
       "      <td>3er</td>\n",
       "      <td>150000</td>\n",
       "      <td>0</td>\n",
       "      <td>unknown</td>\n",
       "      <td>bmw</td>\n",
       "      <td>unknown</td>\n",
       "    </tr>\n",
       "    <tr>\n",
       "      <th>354297</th>\n",
       "      <td>400</td>\n",
       "      <td>wagon</td>\n",
       "      <td>1996</td>\n",
       "      <td>manual</td>\n",
       "      <td>150</td>\n",
       "      <td>a4</td>\n",
       "      <td>150000</td>\n",
       "      <td>0</td>\n",
       "      <td>petrol</td>\n",
       "      <td>audi</td>\n",
       "      <td>unknown</td>\n",
       "    </tr>\n",
       "    <tr>\n",
       "      <th>354326</th>\n",
       "      <td>1300</td>\n",
       "      <td>small</td>\n",
       "      <td>1999</td>\n",
       "      <td>manual</td>\n",
       "      <td>75</td>\n",
       "      <td>2_reihe</td>\n",
       "      <td>125000</td>\n",
       "      <td>0</td>\n",
       "      <td>unknown</td>\n",
       "      <td>peugeot</td>\n",
       "      <td>unknown</td>\n",
       "    </tr>\n",
       "    <tr>\n",
       "      <th>354329</th>\n",
       "      <td>350</td>\n",
       "      <td>small</td>\n",
       "      <td>1996</td>\n",
       "      <td>unknown</td>\n",
       "      <td>65</td>\n",
       "      <td>punto</td>\n",
       "      <td>150000</td>\n",
       "      <td>0</td>\n",
       "      <td>unknown</td>\n",
       "      <td>fiat</td>\n",
       "      <td>unknown</td>\n",
       "    </tr>\n",
       "    <tr>\n",
       "      <th>354337</th>\n",
       "      <td>11500</td>\n",
       "      <td>sedan</td>\n",
       "      <td>2004</td>\n",
       "      <td>auto</td>\n",
       "      <td>445</td>\n",
       "      <td>7er</td>\n",
       "      <td>125000</td>\n",
       "      <td>0</td>\n",
       "      <td>petrol</td>\n",
       "      <td>bmw</td>\n",
       "      <td>unknown</td>\n",
       "    </tr>\n",
       "  </tbody>\n",
       "</table>\n",
       "<p>16968 rows × 11 columns</p>\n",
       "</div>\n",
       "      <button class=\"colab-df-convert\" onclick=\"convertToInteractive('df-7ff54225-a1c7-4d2f-892f-08f806b6916e')\"\n",
       "              title=\"Convert this dataframe to an interactive table.\"\n",
       "              style=\"display:none;\">\n",
       "        \n",
       "  <svg xmlns=\"http://www.w3.org/2000/svg\" height=\"24px\"viewBox=\"0 0 24 24\"\n",
       "       width=\"24px\">\n",
       "    <path d=\"M0 0h24v24H0V0z\" fill=\"none\"/>\n",
       "    <path d=\"M18.56 5.44l.94 2.06.94-2.06 2.06-.94-2.06-.94-.94-2.06-.94 2.06-2.06.94zm-11 1L8.5 8.5l.94-2.06 2.06-.94-2.06-.94L8.5 2.5l-.94 2.06-2.06.94zm10 10l.94 2.06.94-2.06 2.06-.94-2.06-.94-.94-2.06-.94 2.06-2.06.94z\"/><path d=\"M17.41 7.96l-1.37-1.37c-.4-.4-.92-.59-1.43-.59-.52 0-1.04.2-1.43.59L10.3 9.45l-7.72 7.72c-.78.78-.78 2.05 0 2.83L4 21.41c.39.39.9.59 1.41.59.51 0 1.02-.2 1.41-.59l7.78-7.78 2.81-2.81c.8-.78.8-2.07 0-2.86zM5.41 20L4 18.59l7.72-7.72 1.47 1.35L5.41 20z\"/>\n",
       "  </svg>\n",
       "      </button>\n",
       "      \n",
       "  <style>\n",
       "    .colab-df-container {\n",
       "      display:flex;\n",
       "      flex-wrap:wrap;\n",
       "      gap: 12px;\n",
       "    }\n",
       "\n",
       "    .colab-df-convert {\n",
       "      background-color: #E8F0FE;\n",
       "      border: none;\n",
       "      border-radius: 50%;\n",
       "      cursor: pointer;\n",
       "      display: none;\n",
       "      fill: #1967D2;\n",
       "      height: 32px;\n",
       "      padding: 0 0 0 0;\n",
       "      width: 32px;\n",
       "    }\n",
       "\n",
       "    .colab-df-convert:hover {\n",
       "      background-color: #E2EBFA;\n",
       "      box-shadow: 0px 1px 2px rgba(60, 64, 67, 0.3), 0px 1px 3px 1px rgba(60, 64, 67, 0.15);\n",
       "      fill: #174EA6;\n",
       "    }\n",
       "\n",
       "    [theme=dark] .colab-df-convert {\n",
       "      background-color: #3B4455;\n",
       "      fill: #D2E3FC;\n",
       "    }\n",
       "\n",
       "    [theme=dark] .colab-df-convert:hover {\n",
       "      background-color: #434B5C;\n",
       "      box-shadow: 0px 1px 3px 1px rgba(0, 0, 0, 0.15);\n",
       "      filter: drop-shadow(0px 1px 2px rgba(0, 0, 0, 0.3));\n",
       "      fill: #FFFFFF;\n",
       "    }\n",
       "  </style>\n",
       "\n",
       "      <script>\n",
       "        const buttonEl =\n",
       "          document.querySelector('#df-7ff54225-a1c7-4d2f-892f-08f806b6916e button.colab-df-convert');\n",
       "        buttonEl.style.display =\n",
       "          google.colab.kernel.accessAllowed ? 'block' : 'none';\n",
       "\n",
       "        async function convertToInteractive(key) {\n",
       "          const element = document.querySelector('#df-7ff54225-a1c7-4d2f-892f-08f806b6916e');\n",
       "          const dataTable =\n",
       "            await google.colab.kernel.invokeFunction('convertToInteractive',\n",
       "                                                     [key], {});\n",
       "          if (!dataTable) return;\n",
       "\n",
       "          const docLinkHtml = 'Like what you see? Visit the ' +\n",
       "            '<a target=\"_blank\" href=https://colab.research.google.com/notebooks/data_table.ipynb>data table notebook</a>'\n",
       "            + ' to learn more about interactive tables.';\n",
       "          element.innerHTML = '';\n",
       "          dataTable['output_type'] = 'display_data';\n",
       "          await google.colab.output.renderOutput(dataTable, element);\n",
       "          const docLink = document.createElement('div');\n",
       "          docLink.innerHTML = docLinkHtml;\n",
       "          element.appendChild(docLink);\n",
       "        }\n",
       "      </script>\n",
       "    </div>\n",
       "  </div>\n",
       "  "
      ],
      "text/plain": [
       "        price vehicle_type  registration_year  gearbox  power    model  \\\n",
       "9         999        small               1998   manual    101     golf   \n",
       "36       1600        other               1991   manual     75   kadett   \n",
       "80        250        wagon               2000   manual    155      156   \n",
       "92        250      unknown               2000  unknown     60       ka   \n",
       "104       300  convertible               1992   manual    105   escort   \n",
       "...       ...          ...                ...      ...    ...      ...   \n",
       "354260    399        other               1994  unknown   1103      3er   \n",
       "354297    400        wagon               1996   manual    150       a4   \n",
       "354326   1300        small               1999   manual     75  2_reihe   \n",
       "354329    350        small               1996  unknown     65    punto   \n",
       "354337  11500        sedan               2004     auto    445      7er   \n",
       "\n",
       "        kilometer  registration_month fuel_type       brand repaired  \n",
       "9          150000                   0   unknown  volkswagen  unknown  \n",
       "36          70000                   0   unknown        opel  unknown  \n",
       "80         150000                   0    petrol  alfa_romeo      yes  \n",
       "92         150000                   0   unknown        ford  unknown  \n",
       "104        150000                   0   unknown        ford      yes  \n",
       "...           ...                 ...       ...         ...      ...  \n",
       "354260     150000                   0   unknown         bmw  unknown  \n",
       "354297     150000                   0    petrol        audi  unknown  \n",
       "354326     125000                   0   unknown     peugeot  unknown  \n",
       "354329     150000                   0   unknown        fiat  unknown  \n",
       "354337     125000                   0    petrol         bmw  unknown  \n",
       "\n",
       "[16968 rows x 11 columns]"
      ]
     },
     "execution_count": 33,
     "metadata": {},
     "output_type": "execute_result"
    }
   ],
   "source": [
    "data.query('registration_month == 0')"
   ]
  },
  {
   "cell_type": "markdown",
   "metadata": {
    "id": "D7pqZ2-BDpcT"
   },
   "source": [
    "***Вывод:*** столбец \"registration_month\" содержит аномальное значение - 0, что просто говорит о том, что месяц не был указан."
   ]
  },
  {
   "cell_type": "code",
   "execution_count": 34,
   "metadata": {
    "colab": {
     "base_uri": "https://localhost:8080/"
    },
    "id": "A9XaSqfZDpcU",
    "outputId": "b86e10d9-df69-4971-8142-4e040d1875de"
   },
   "outputs": [
    {
     "data": {
      "text/plain": [
       "count    286869.000000\n",
       "mean       4811.816062\n",
       "std        4626.523717\n",
       "min           0.000000\n",
       "25%        1299.000000\n",
       "50%        3100.000000\n",
       "75%        6990.000000\n",
       "max       20000.000000\n",
       "Name: price, dtype: float64"
      ]
     },
     "execution_count": 34,
     "metadata": {},
     "output_type": "execute_result"
    }
   ],
   "source": [
    "data['price'].describe()"
   ]
  },
  {
   "cell_type": "code",
   "execution_count": 35,
   "metadata": {
    "colab": {
     "base_uri": "https://localhost:8080/"
    },
    "id": "rORvllOJDpcU",
    "outputId": "438b43c1-791f-48ec-bfa0-5616060dad72"
   },
   "outputs": [
    {
     "data": {
      "text/plain": [
       "5569"
      ]
     },
     "execution_count": 35,
     "metadata": {},
     "output_type": "execute_result"
    }
   ],
   "source": [
    "len(data.query('price == 0'))"
   ]
  },
  {
   "cell_type": "markdown",
   "metadata": {
    "id": "UpinKTyvDpcU"
   },
   "source": [
    "***Вывод:*** обнаружена аномалия в столбце 'price' - нулевое значение цены. Строк с такими значениями немного,удалим их датасета."
   ]
  },
  {
   "cell_type": "code",
   "execution_count": 36,
   "metadata": {
    "colab": {
     "base_uri": "https://localhost:8080/"
    },
    "id": "8WRMRpLgDpcU",
    "outputId": "551adb91-4142-4b48-8770-3596ec5b629e"
   },
   "outputs": [
    {
     "data": {
      "text/plain": [
       "281300"
      ]
     },
     "execution_count": 36,
     "metadata": {},
     "output_type": "execute_result"
    }
   ],
   "source": [
    "data = data.query('price > 0')\n",
    "len(data)"
   ]
  },
  {
   "cell_type": "markdown",
   "metadata": {
    "id": "RQqBBB60DpcV"
   },
   "source": [
    "## Обучение моделей"
   ]
  },
  {
   "cell_type": "markdown",
   "metadata": {
    "id": "81ruRUVjDpcV"
   },
   "source": [
    "Итак, для обучения и дальнейшего сравнения были выбраны следующие модели:\n",
    "\n",
    "- *Ridge*\n",
    "- *Random Forest*\n",
    "- *LightGBM*  \n",
    "\n",
    "Для каждой модели будет создан пайплайн вместе с кросс-валидаций, что позволит кодировать и масштабировать отдельно обучающию и тестовую выборки внутри кросс-валидации."
   ]
  },
  {
   "cell_type": "code",
   "execution_count": 37,
   "metadata": {
    "id": "8qYpiJGtDpcV"
   },
   "outputs": [],
   "source": [
    "features = data.drop(['price'], axis=1)\n",
    "target = data['price']"
   ]
  },
  {
   "cell_type": "code",
   "execution_count": 38,
   "metadata": {
    "id": "OGw1FUs_DpcV"
   },
   "outputs": [],
   "source": [
    "features_train, features_test, target_train, target_test = train_test_split(\n",
    "    features, target, test_size=0.25, random_state=RANDOM_STATE)"
   ]
  },
  {
   "cell_type": "markdown",
   "metadata": {
    "id": "71a5PjUpDpcW"
   },
   "source": [
    "### *Ridge*"
   ]
  },
  {
   "cell_type": "code",
   "execution_count": 39,
   "metadata": {
    "id": "sTk5QyC8DpcW"
   },
   "outputs": [],
   "source": [
    "features_train_ridge = features_train.copy()\n",
    "features_test_ridge = features_test.copy()"
   ]
  },
  {
   "cell_type": "code",
   "execution_count": 40,
   "metadata": {
    "colab": {
     "base_uri": "https://localhost:8080/"
    },
    "id": "YlTtpY5yDpcW",
    "outputId": "a35bac7b-0c24-4df9-aa01-4e777831d22a"
   },
   "outputs": [
    {
     "data": {
      "text/plain": [
       "['vehicle_type', 'gearbox', 'model', 'fuel_type', 'brand', 'repaired']"
      ]
     },
     "execution_count": 40,
     "metadata": {},
     "output_type": "execute_result"
    }
   ],
   "source": [
    "#категориальные признаки для OHE\n",
    "ohe_features = features_train.select_dtypes(include='object').columns.to_list()\n",
    "ohe_features"
   ]
  },
  {
   "cell_type": "code",
   "execution_count": 41,
   "metadata": {
    "colab": {
     "base_uri": "https://localhost:8080/"
    },
    "id": "759Em8NxDpcW",
    "outputId": "0a005fef-a7c8-488f-88ff-800417735375"
   },
   "outputs": [
    {
     "data": {
      "text/plain": [
       "['registration_year', 'power', 'kilometer', 'registration_month']"
      ]
     },
     "execution_count": 41,
     "metadata": {},
     "output_type": "execute_result"
    }
   ],
   "source": [
    "# численные признаки\n",
    "num_features = features_train.select_dtypes(exclude='object').columns.to_list()\n",
    "num_features"
   ]
  },
  {
   "cell_type": "code",
   "execution_count": 42,
   "metadata": {
    "colab": {
     "base_uri": "https://localhost:8080/",
     "height": 299
    },
    "id": "8dnVJv5VDpcX",
    "outputId": "ef59846f-8caf-43c4-bd88-8a03fa8ca817"
   },
   "outputs": [
    {
     "data": {
      "text/html": [
       "\n",
       "  <div id=\"df-153f6d20-cb60-4df3-b170-0eae63471e9a\">\n",
       "    <div class=\"colab-df-container\">\n",
       "      <div>\n",
       "<style scoped>\n",
       "    .dataframe tbody tr th:only-of-type {\n",
       "        vertical-align: middle;\n",
       "    }\n",
       "\n",
       "    .dataframe tbody tr th {\n",
       "        vertical-align: top;\n",
       "    }\n",
       "\n",
       "    .dataframe thead th {\n",
       "        text-align: right;\n",
       "    }\n",
       "</style>\n",
       "<table border=\"1\" class=\"dataframe\">\n",
       "  <thead>\n",
       "    <tr style=\"text-align: right;\">\n",
       "      <th></th>\n",
       "      <th>vehicle_type_convertible</th>\n",
       "      <th>vehicle_type_coupe</th>\n",
       "      <th>vehicle_type_other</th>\n",
       "      <th>vehicle_type_sedan</th>\n",
       "      <th>vehicle_type_small</th>\n",
       "      <th>vehicle_type_suv</th>\n",
       "      <th>vehicle_type_unknown</th>\n",
       "      <th>vehicle_type_wagon</th>\n",
       "      <th>gearbox_manual</th>\n",
       "      <th>gearbox_unknown</th>\n",
       "      <th>...</th>\n",
       "      <th>brand_toyota</th>\n",
       "      <th>brand_trabant</th>\n",
       "      <th>brand_volkswagen</th>\n",
       "      <th>brand_volvo</th>\n",
       "      <th>repaired_unknown</th>\n",
       "      <th>repaired_yes</th>\n",
       "      <th>registration_year</th>\n",
       "      <th>power</th>\n",
       "      <th>kilometer</th>\n",
       "      <th>registration_month</th>\n",
       "    </tr>\n",
       "  </thead>\n",
       "  <tbody>\n",
       "    <tr>\n",
       "      <th>0</th>\n",
       "      <td>0.0</td>\n",
       "      <td>0.0</td>\n",
       "      <td>0.0</td>\n",
       "      <td>0.0</td>\n",
       "      <td>1.0</td>\n",
       "      <td>0.0</td>\n",
       "      <td>0.0</td>\n",
       "      <td>0.0</td>\n",
       "      <td>1.0</td>\n",
       "      <td>0.0</td>\n",
       "      <td>...</td>\n",
       "      <td>0.0</td>\n",
       "      <td>0.0</td>\n",
       "      <td>1.0</td>\n",
       "      <td>0.0</td>\n",
       "      <td>0.0</td>\n",
       "      <td>0.0</td>\n",
       "      <td>-0.026960</td>\n",
       "      <td>-0.756291</td>\n",
       "      <td>0.590359</td>\n",
       "      <td>-1.409972</td>\n",
       "    </tr>\n",
       "    <tr>\n",
       "      <th>1</th>\n",
       "      <td>0.0</td>\n",
       "      <td>0.0</td>\n",
       "      <td>0.0</td>\n",
       "      <td>0.0</td>\n",
       "      <td>0.0</td>\n",
       "      <td>0.0</td>\n",
       "      <td>0.0</td>\n",
       "      <td>0.0</td>\n",
       "      <td>1.0</td>\n",
       "      <td>0.0</td>\n",
       "      <td>...</td>\n",
       "      <td>0.0</td>\n",
       "      <td>0.0</td>\n",
       "      <td>0.0</td>\n",
       "      <td>0.0</td>\n",
       "      <td>0.0</td>\n",
       "      <td>0.0</td>\n",
       "      <td>0.942331</td>\n",
       "      <td>-0.549535</td>\n",
       "      <td>0.590359</td>\n",
       "      <td>-0.568960</td>\n",
       "    </tr>\n",
       "    <tr>\n",
       "      <th>2</th>\n",
       "      <td>0.0</td>\n",
       "      <td>0.0</td>\n",
       "      <td>0.0</td>\n",
       "      <td>0.0</td>\n",
       "      <td>0.0</td>\n",
       "      <td>0.0</td>\n",
       "      <td>0.0</td>\n",
       "      <td>1.0</td>\n",
       "      <td>0.0</td>\n",
       "      <td>0.0</td>\n",
       "      <td>...</td>\n",
       "      <td>0.0</td>\n",
       "      <td>0.0</td>\n",
       "      <td>0.0</td>\n",
       "      <td>0.0</td>\n",
       "      <td>0.0</td>\n",
       "      <td>0.0</td>\n",
       "      <td>-1.383966</td>\n",
       "      <td>0.038926</td>\n",
       "      <td>0.590359</td>\n",
       "      <td>-0.849298</td>\n",
       "    </tr>\n",
       "    <tr>\n",
       "      <th>3</th>\n",
       "      <td>1.0</td>\n",
       "      <td>0.0</td>\n",
       "      <td>0.0</td>\n",
       "      <td>0.0</td>\n",
       "      <td>0.0</td>\n",
       "      <td>0.0</td>\n",
       "      <td>0.0</td>\n",
       "      <td>0.0</td>\n",
       "      <td>1.0</td>\n",
       "      <td>0.0</td>\n",
       "      <td>...</td>\n",
       "      <td>0.0</td>\n",
       "      <td>0.0</td>\n",
       "      <td>0.0</td>\n",
       "      <td>0.0</td>\n",
       "      <td>0.0</td>\n",
       "      <td>0.0</td>\n",
       "      <td>0.554615</td>\n",
       "      <td>0.134352</td>\n",
       "      <td>0.590359</td>\n",
       "      <td>-0.288623</td>\n",
       "    </tr>\n",
       "    <tr>\n",
       "      <th>4</th>\n",
       "      <td>0.0</td>\n",
       "      <td>0.0</td>\n",
       "      <td>0.0</td>\n",
       "      <td>0.0</td>\n",
       "      <td>0.0</td>\n",
       "      <td>0.0</td>\n",
       "      <td>1.0</td>\n",
       "      <td>0.0</td>\n",
       "      <td>1.0</td>\n",
       "      <td>0.0</td>\n",
       "      <td>...</td>\n",
       "      <td>0.0</td>\n",
       "      <td>0.0</td>\n",
       "      <td>0.0</td>\n",
       "      <td>0.0</td>\n",
       "      <td>0.0</td>\n",
       "      <td>1.0</td>\n",
       "      <td>-0.608534</td>\n",
       "      <td>-1.074378</td>\n",
       "      <td>0.590359</td>\n",
       "      <td>-1.690309</td>\n",
       "    </tr>\n",
       "  </tbody>\n",
       "</table>\n",
       "<p>5 rows × 309 columns</p>\n",
       "</div>\n",
       "      <button class=\"colab-df-convert\" onclick=\"convertToInteractive('df-153f6d20-cb60-4df3-b170-0eae63471e9a')\"\n",
       "              title=\"Convert this dataframe to an interactive table.\"\n",
       "              style=\"display:none;\">\n",
       "        \n",
       "  <svg xmlns=\"http://www.w3.org/2000/svg\" height=\"24px\"viewBox=\"0 0 24 24\"\n",
       "       width=\"24px\">\n",
       "    <path d=\"M0 0h24v24H0V0z\" fill=\"none\"/>\n",
       "    <path d=\"M18.56 5.44l.94 2.06.94-2.06 2.06-.94-2.06-.94-.94-2.06-.94 2.06-2.06.94zm-11 1L8.5 8.5l.94-2.06 2.06-.94-2.06-.94L8.5 2.5l-.94 2.06-2.06.94zm10 10l.94 2.06.94-2.06 2.06-.94-2.06-.94-.94-2.06-.94 2.06-2.06.94z\"/><path d=\"M17.41 7.96l-1.37-1.37c-.4-.4-.92-.59-1.43-.59-.52 0-1.04.2-1.43.59L10.3 9.45l-7.72 7.72c-.78.78-.78 2.05 0 2.83L4 21.41c.39.39.9.59 1.41.59.51 0 1.02-.2 1.41-.59l7.78-7.78 2.81-2.81c.8-.78.8-2.07 0-2.86zM5.41 20L4 18.59l7.72-7.72 1.47 1.35L5.41 20z\"/>\n",
       "  </svg>\n",
       "      </button>\n",
       "      \n",
       "  <style>\n",
       "    .colab-df-container {\n",
       "      display:flex;\n",
       "      flex-wrap:wrap;\n",
       "      gap: 12px;\n",
       "    }\n",
       "\n",
       "    .colab-df-convert {\n",
       "      background-color: #E8F0FE;\n",
       "      border: none;\n",
       "      border-radius: 50%;\n",
       "      cursor: pointer;\n",
       "      display: none;\n",
       "      fill: #1967D2;\n",
       "      height: 32px;\n",
       "      padding: 0 0 0 0;\n",
       "      width: 32px;\n",
       "    }\n",
       "\n",
       "    .colab-df-convert:hover {\n",
       "      background-color: #E2EBFA;\n",
       "      box-shadow: 0px 1px 2px rgba(60, 64, 67, 0.3), 0px 1px 3px 1px rgba(60, 64, 67, 0.15);\n",
       "      fill: #174EA6;\n",
       "    }\n",
       "\n",
       "    [theme=dark] .colab-df-convert {\n",
       "      background-color: #3B4455;\n",
       "      fill: #D2E3FC;\n",
       "    }\n",
       "\n",
       "    [theme=dark] .colab-df-convert:hover {\n",
       "      background-color: #434B5C;\n",
       "      box-shadow: 0px 1px 3px 1px rgba(0, 0, 0, 0.15);\n",
       "      filter: drop-shadow(0px 1px 2px rgba(0, 0, 0, 0.3));\n",
       "      fill: #FFFFFF;\n",
       "    }\n",
       "  </style>\n",
       "\n",
       "      <script>\n",
       "        const buttonEl =\n",
       "          document.querySelector('#df-153f6d20-cb60-4df3-b170-0eae63471e9a button.colab-df-convert');\n",
       "        buttonEl.style.display =\n",
       "          google.colab.kernel.accessAllowed ? 'block' : 'none';\n",
       "\n",
       "        async function convertToInteractive(key) {\n",
       "          const element = document.querySelector('#df-153f6d20-cb60-4df3-b170-0eae63471e9a');\n",
       "          const dataTable =\n",
       "            await google.colab.kernel.invokeFunction('convertToInteractive',\n",
       "                                                     [key], {});\n",
       "          if (!dataTable) return;\n",
       "\n",
       "          const docLinkHtml = 'Like what you see? Visit the ' +\n",
       "            '<a target=\"_blank\" href=https://colab.research.google.com/notebooks/data_table.ipynb>data table notebook</a>'\n",
       "            + ' to learn more about interactive tables.';\n",
       "          element.innerHTML = '';\n",
       "          dataTable['output_type'] = 'display_data';\n",
       "          await google.colab.output.renderOutput(dataTable, element);\n",
       "          const docLink = document.createElement('div');\n",
       "          docLink.innerHTML = docLinkHtml;\n",
       "          element.appendChild(docLink);\n",
       "        }\n",
       "      </script>\n",
       "    </div>\n",
       "  </div>\n",
       "  "
      ],
      "text/plain": [
       "   vehicle_type_convertible  vehicle_type_coupe  vehicle_type_other  \\\n",
       "0                       0.0                 0.0                 0.0   \n",
       "1                       0.0                 0.0                 0.0   \n",
       "2                       0.0                 0.0                 0.0   \n",
       "3                       1.0                 0.0                 0.0   \n",
       "4                       0.0                 0.0                 0.0   \n",
       "\n",
       "   vehicle_type_sedan  vehicle_type_small  vehicle_type_suv  \\\n",
       "0                 0.0                 1.0               0.0   \n",
       "1                 0.0                 0.0               0.0   \n",
       "2                 0.0                 0.0               0.0   \n",
       "3                 0.0                 0.0               0.0   \n",
       "4                 0.0                 0.0               0.0   \n",
       "\n",
       "   vehicle_type_unknown  vehicle_type_wagon  gearbox_manual  gearbox_unknown  \\\n",
       "0                   0.0                 0.0             1.0              0.0   \n",
       "1                   0.0                 0.0             1.0              0.0   \n",
       "2                   0.0                 1.0             0.0              0.0   \n",
       "3                   0.0                 0.0             1.0              0.0   \n",
       "4                   1.0                 0.0             1.0              0.0   \n",
       "\n",
       "   ...  brand_toyota  brand_trabant  brand_volkswagen  brand_volvo  \\\n",
       "0  ...           0.0            0.0               1.0          0.0   \n",
       "1  ...           0.0            0.0               0.0          0.0   \n",
       "2  ...           0.0            0.0               0.0          0.0   \n",
       "3  ...           0.0            0.0               0.0          0.0   \n",
       "4  ...           0.0            0.0               0.0          0.0   \n",
       "\n",
       "   repaired_unknown  repaired_yes  registration_year     power  kilometer  \\\n",
       "0               0.0           0.0          -0.026960 -0.756291   0.590359   \n",
       "1               0.0           0.0           0.942331 -0.549535   0.590359   \n",
       "2               0.0           0.0          -1.383966  0.038926   0.590359   \n",
       "3               0.0           0.0           0.554615  0.134352   0.590359   \n",
       "4               0.0           1.0          -0.608534 -1.074378   0.590359   \n",
       "\n",
       "   registration_month  \n",
       "0           -1.409972  \n",
       "1           -0.568960  \n",
       "2           -0.849298  \n",
       "3           -0.288623  \n",
       "4           -1.690309  \n",
       "\n",
       "[5 rows x 309 columns]"
      ]
     },
     "execution_count": 42,
     "metadata": {},
     "output_type": "execute_result"
    }
   ],
   "source": [
    "# признак repaired уже бинарный, его не будем кодировать/масштабировать\n",
    "# добавляем remainder='passthrough, чтобы он не пропал \n",
    "col_transformer_ridge = make_column_transformer(\n",
    "    (\n",
    "        OneHotEncoder(drop='first', handle_unknown='ignore'),\n",
    "        ohe_features\n",
    "    ),\n",
    "    (\n",
    "        StandardScaler(), \n",
    "        num_features\n",
    "    ),\n",
    "    remainder='passthrough',\n",
    "    verbose_feature_names_out=False\n",
    ")\n",
    "\n",
    "# всё готово в пару строк кода\n",
    "features_train_ridge = pd.DataFrame.sparse.from_spmatrix(\n",
    "    col_transformer_ridge.fit_transform(features_train_ridge),\n",
    "    columns=col_transformer_ridge.get_feature_names_out()\n",
    ")\n",
    "\n",
    "# смотрим на результат\n",
    "features_train_ridge.head()"
   ]
  },
  {
   "cell_type": "code",
   "execution_count": 43,
   "metadata": {
    "id": "MAX5Ui8aDpcX"
   },
   "outputs": [],
   "source": [
    "features_train_ridge = features_train.copy()"
   ]
  },
  {
   "cell_type": "code",
   "execution_count": 44,
   "metadata": {
    "id": "Fnar9B93DpcX"
   },
   "outputs": [],
   "source": [
    "model_ridge = Ridge(random_state=RANDOM_STATE)"
   ]
  },
  {
   "cell_type": "code",
   "execution_count": 45,
   "metadata": {
    "id": "C9AFVD5qDpcX"
   },
   "outputs": [],
   "source": [
    "pipeline_ridge = make_pipeline(col_transformer_ridge, model_ridge)\n",
    "\n",
    "param_grid_ridge = {\n",
    "    'ridge__alpha': np.arange(0, 0.21, 0.01),\n",
    "}\n",
    "\n",
    "gs_ridge_pl = GridSearchCV(\n",
    "    pipeline_ridge, \n",
    "    param_grid=param_grid_ridge, \n",
    "    scoring='neg_root_mean_squared_error', \n",
    "    n_jobs=-1\n",
    ")"
   ]
  },
  {
   "cell_type": "code",
   "execution_count": 46,
   "metadata": {
    "colab": {
     "base_uri": "https://localhost:8080/"
    },
    "id": "qbajIzhXE5Mo",
    "outputId": "6e7a256b-2ff7-4e43-ad17-c7ebb71e56eb"
   },
   "outputs": [
    {
     "name": "stdout",
     "output_type": "stream",
     "text": [
      "Лучшие гиперпараметры: {'ridge__alpha': 0.14}\n"
     ]
    }
   ],
   "source": [
    "gs_ridge_pl.fit(features_train_ridge, target_train)\n",
    "gs_ridge_best_params = gs_ridge_pl.best_params_\n",
    "print(f'Лучшие гиперпараметры: {gs_ridge_best_params}')"
   ]
  },
  {
   "cell_type": "code",
   "execution_count": 47,
   "metadata": {
    "colab": {
     "base_uri": "https://localhost:8080/"
    },
    "id": "ERHwD16GDpcX",
    "outputId": "789df484-d5ed-4115-deb0-680f08bdcbb9"
   },
   "outputs": [
    {
     "name": "stdout",
     "output_type": "stream",
     "text": [
      "Время обучения: 1.33 секунд\n",
      "RMSE на кросс-валидации: 2276.852438256857\n"
     ]
    }
   ],
   "source": [
    "start_time = time.time()\n",
    "gs_ridge_pl.best_estimator_.fit(features_train_ridge, target_train)\n",
    "end_time = time.time()\n",
    "train_time = end_time - start_time\n",
    "print(f'Время обучения: {train_time:.2f} секунд')\n",
    "gs_ridge_best_score = gs_ridge_pl.best_score_ * -1\n",
    "print(f'RMSE на кросс-валидации: {gs_ridge_best_score}')"
   ]
  },
  {
   "cell_type": "code",
   "execution_count": 48,
   "metadata": {
    "colab": {
     "base_uri": "https://localhost:8080/"
    },
    "id": "Oh_us7dsD4H0",
    "outputId": "dc3c99c0-3e0f-4b77-c850-cde7c97aca4a"
   },
   "outputs": [
    {
     "name": "stdout",
     "output_type": "stream",
     "text": [
      "Время предсказания: 0.54 секунд\n"
     ]
    }
   ],
   "source": [
    "start_time = time.time()\n",
    "gs_ridge_pl.best_estimator_.predict(features_train_ridge)\n",
    "end_time = time.time()\n",
    "param_time = end_time - start_time\n",
    "print(f'Время предсказания: {param_time:.2f} секунд')"
   ]
  },
  {
   "cell_type": "markdown",
   "metadata": {
    "id": "wWFm9V5oDpcZ"
   },
   "source": [
    "### *Random Forest*"
   ]
  },
  {
   "cell_type": "code",
   "execution_count": 51,
   "metadata": {
    "id": "dezRAVTLDpcZ"
   },
   "outputs": [],
   "source": [
    "features_train_rf = features_train.copy()\n",
    "features_test_rf = features_test.copy()"
   ]
  },
  {
   "cell_type": "code",
   "execution_count": 52,
   "metadata": {
    "colab": {
     "base_uri": "https://localhost:8080/",
     "height": 299
    },
    "id": "AKrSRxWEDpcZ",
    "outputId": "d96a089b-ed47-479d-9242-57e3dc3abef0"
   },
   "outputs": [
    {
     "data": {
      "text/html": [
       "\n",
       "  <div id=\"df-d71b1526-27bc-495e-bace-a3211334ac91\">\n",
       "    <div class=\"colab-df-container\">\n",
       "      <div>\n",
       "<style scoped>\n",
       "    .dataframe tbody tr th:only-of-type {\n",
       "        vertical-align: middle;\n",
       "    }\n",
       "\n",
       "    .dataframe tbody tr th {\n",
       "        vertical-align: top;\n",
       "    }\n",
       "\n",
       "    .dataframe thead th {\n",
       "        text-align: right;\n",
       "    }\n",
       "</style>\n",
       "<table border=\"1\" class=\"dataframe\">\n",
       "  <thead>\n",
       "    <tr style=\"text-align: right;\">\n",
       "      <th></th>\n",
       "      <th>registration_year</th>\n",
       "      <th>power</th>\n",
       "      <th>kilometer</th>\n",
       "      <th>registration_month</th>\n",
       "      <th>vehicle_type_convertible</th>\n",
       "      <th>vehicle_type_coupe</th>\n",
       "      <th>vehicle_type_other</th>\n",
       "      <th>vehicle_type_sedan</th>\n",
       "      <th>vehicle_type_small</th>\n",
       "      <th>vehicle_type_suv</th>\n",
       "      <th>...</th>\n",
       "      <th>brand_smart</th>\n",
       "      <th>brand_sonstige_autos</th>\n",
       "      <th>brand_subaru</th>\n",
       "      <th>brand_suzuki</th>\n",
       "      <th>brand_toyota</th>\n",
       "      <th>brand_trabant</th>\n",
       "      <th>brand_volkswagen</th>\n",
       "      <th>brand_volvo</th>\n",
       "      <th>repaired_unknown</th>\n",
       "      <th>repaired_yes</th>\n",
       "    </tr>\n",
       "  </thead>\n",
       "  <tbody>\n",
       "    <tr>\n",
       "      <th>272964</th>\n",
       "      <td>2003</td>\n",
       "      <td>75</td>\n",
       "      <td>150000</td>\n",
       "      <td>1</td>\n",
       "      <td>0.0</td>\n",
       "      <td>0.0</td>\n",
       "      <td>0.0</td>\n",
       "      <td>0.0</td>\n",
       "      <td>1.0</td>\n",
       "      <td>0.0</td>\n",
       "      <td>...</td>\n",
       "      <td>0.0</td>\n",
       "      <td>0.0</td>\n",
       "      <td>0.0</td>\n",
       "      <td>0.0</td>\n",
       "      <td>0.0</td>\n",
       "      <td>0.0</td>\n",
       "      <td>1.0</td>\n",
       "      <td>0.0</td>\n",
       "      <td>0.0</td>\n",
       "      <td>0.0</td>\n",
       "    </tr>\n",
       "    <tr>\n",
       "      <th>338713</th>\n",
       "      <td>2008</td>\n",
       "      <td>88</td>\n",
       "      <td>150000</td>\n",
       "      <td>4</td>\n",
       "      <td>0.0</td>\n",
       "      <td>0.0</td>\n",
       "      <td>0.0</td>\n",
       "      <td>0.0</td>\n",
       "      <td>0.0</td>\n",
       "      <td>0.0</td>\n",
       "      <td>...</td>\n",
       "      <td>0.0</td>\n",
       "      <td>0.0</td>\n",
       "      <td>0.0</td>\n",
       "      <td>0.0</td>\n",
       "      <td>0.0</td>\n",
       "      <td>0.0</td>\n",
       "      <td>0.0</td>\n",
       "      <td>0.0</td>\n",
       "      <td>0.0</td>\n",
       "      <td>0.0</td>\n",
       "    </tr>\n",
       "    <tr>\n",
       "      <th>276472</th>\n",
       "      <td>1996</td>\n",
       "      <td>125</td>\n",
       "      <td>150000</td>\n",
       "      <td>3</td>\n",
       "      <td>0.0</td>\n",
       "      <td>0.0</td>\n",
       "      <td>0.0</td>\n",
       "      <td>0.0</td>\n",
       "      <td>0.0</td>\n",
       "      <td>0.0</td>\n",
       "      <td>...</td>\n",
       "      <td>0.0</td>\n",
       "      <td>0.0</td>\n",
       "      <td>0.0</td>\n",
       "      <td>0.0</td>\n",
       "      <td>0.0</td>\n",
       "      <td>0.0</td>\n",
       "      <td>0.0</td>\n",
       "      <td>0.0</td>\n",
       "      <td>0.0</td>\n",
       "      <td>0.0</td>\n",
       "    </tr>\n",
       "    <tr>\n",
       "      <th>227136</th>\n",
       "      <td>2006</td>\n",
       "      <td>131</td>\n",
       "      <td>150000</td>\n",
       "      <td>5</td>\n",
       "      <td>1.0</td>\n",
       "      <td>0.0</td>\n",
       "      <td>0.0</td>\n",
       "      <td>0.0</td>\n",
       "      <td>0.0</td>\n",
       "      <td>0.0</td>\n",
       "      <td>...</td>\n",
       "      <td>0.0</td>\n",
       "      <td>0.0</td>\n",
       "      <td>0.0</td>\n",
       "      <td>0.0</td>\n",
       "      <td>0.0</td>\n",
       "      <td>0.0</td>\n",
       "      <td>0.0</td>\n",
       "      <td>0.0</td>\n",
       "      <td>0.0</td>\n",
       "      <td>0.0</td>\n",
       "    </tr>\n",
       "    <tr>\n",
       "      <th>306219</th>\n",
       "      <td>2000</td>\n",
       "      <td>55</td>\n",
       "      <td>150000</td>\n",
       "      <td>0</td>\n",
       "      <td>0.0</td>\n",
       "      <td>0.0</td>\n",
       "      <td>0.0</td>\n",
       "      <td>0.0</td>\n",
       "      <td>0.0</td>\n",
       "      <td>0.0</td>\n",
       "      <td>...</td>\n",
       "      <td>0.0</td>\n",
       "      <td>0.0</td>\n",
       "      <td>0.0</td>\n",
       "      <td>0.0</td>\n",
       "      <td>0.0</td>\n",
       "      <td>0.0</td>\n",
       "      <td>0.0</td>\n",
       "      <td>0.0</td>\n",
       "      <td>0.0</td>\n",
       "      <td>1.0</td>\n",
       "    </tr>\n",
       "  </tbody>\n",
       "</table>\n",
       "<p>5 rows × 309 columns</p>\n",
       "</div>\n",
       "      <button class=\"colab-df-convert\" onclick=\"convertToInteractive('df-d71b1526-27bc-495e-bace-a3211334ac91')\"\n",
       "              title=\"Convert this dataframe to an interactive table.\"\n",
       "              style=\"display:none;\">\n",
       "        \n",
       "  <svg xmlns=\"http://www.w3.org/2000/svg\" height=\"24px\"viewBox=\"0 0 24 24\"\n",
       "       width=\"24px\">\n",
       "    <path d=\"M0 0h24v24H0V0z\" fill=\"none\"/>\n",
       "    <path d=\"M18.56 5.44l.94 2.06.94-2.06 2.06-.94-2.06-.94-.94-2.06-.94 2.06-2.06.94zm-11 1L8.5 8.5l.94-2.06 2.06-.94-2.06-.94L8.5 2.5l-.94 2.06-2.06.94zm10 10l.94 2.06.94-2.06 2.06-.94-2.06-.94-.94-2.06-.94 2.06-2.06.94z\"/><path d=\"M17.41 7.96l-1.37-1.37c-.4-.4-.92-.59-1.43-.59-.52 0-1.04.2-1.43.59L10.3 9.45l-7.72 7.72c-.78.78-.78 2.05 0 2.83L4 21.41c.39.39.9.59 1.41.59.51 0 1.02-.2 1.41-.59l7.78-7.78 2.81-2.81c.8-.78.8-2.07 0-2.86zM5.41 20L4 18.59l7.72-7.72 1.47 1.35L5.41 20z\"/>\n",
       "  </svg>\n",
       "      </button>\n",
       "      \n",
       "  <style>\n",
       "    .colab-df-container {\n",
       "      display:flex;\n",
       "      flex-wrap:wrap;\n",
       "      gap: 12px;\n",
       "    }\n",
       "\n",
       "    .colab-df-convert {\n",
       "      background-color: #E8F0FE;\n",
       "      border: none;\n",
       "      border-radius: 50%;\n",
       "      cursor: pointer;\n",
       "      display: none;\n",
       "      fill: #1967D2;\n",
       "      height: 32px;\n",
       "      padding: 0 0 0 0;\n",
       "      width: 32px;\n",
       "    }\n",
       "\n",
       "    .colab-df-convert:hover {\n",
       "      background-color: #E2EBFA;\n",
       "      box-shadow: 0px 1px 2px rgba(60, 64, 67, 0.3), 0px 1px 3px 1px rgba(60, 64, 67, 0.15);\n",
       "      fill: #174EA6;\n",
       "    }\n",
       "\n",
       "    [theme=dark] .colab-df-convert {\n",
       "      background-color: #3B4455;\n",
       "      fill: #D2E3FC;\n",
       "    }\n",
       "\n",
       "    [theme=dark] .colab-df-convert:hover {\n",
       "      background-color: #434B5C;\n",
       "      box-shadow: 0px 1px 3px 1px rgba(0, 0, 0, 0.15);\n",
       "      filter: drop-shadow(0px 1px 2px rgba(0, 0, 0, 0.3));\n",
       "      fill: #FFFFFF;\n",
       "    }\n",
       "  </style>\n",
       "\n",
       "      <script>\n",
       "        const buttonEl =\n",
       "          document.querySelector('#df-d71b1526-27bc-495e-bace-a3211334ac91 button.colab-df-convert');\n",
       "        buttonEl.style.display =\n",
       "          google.colab.kernel.accessAllowed ? 'block' : 'none';\n",
       "\n",
       "        async function convertToInteractive(key) {\n",
       "          const element = document.querySelector('#df-d71b1526-27bc-495e-bace-a3211334ac91');\n",
       "          const dataTable =\n",
       "            await google.colab.kernel.invokeFunction('convertToInteractive',\n",
       "                                                     [key], {});\n",
       "          if (!dataTable) return;\n",
       "\n",
       "          const docLinkHtml = 'Like what you see? Visit the ' +\n",
       "            '<a target=\"_blank\" href=https://colab.research.google.com/notebooks/data_table.ipynb>data table notebook</a>'\n",
       "            + ' to learn more about interactive tables.';\n",
       "          element.innerHTML = '';\n",
       "          dataTable['output_type'] = 'display_data';\n",
       "          await google.colab.output.renderOutput(dataTable, element);\n",
       "          const docLink = document.createElement('div');\n",
       "          docLink.innerHTML = docLinkHtml;\n",
       "          element.appendChild(docLink);\n",
       "        }\n",
       "      </script>\n",
       "    </div>\n",
       "  </div>\n",
       "  "
      ],
      "text/plain": [
       "        registration_year  power  kilometer  registration_month  \\\n",
       "272964               2003     75     150000                   1   \n",
       "338713               2008     88     150000                   4   \n",
       "276472               1996    125     150000                   3   \n",
       "227136               2006    131     150000                   5   \n",
       "306219               2000     55     150000                   0   \n",
       "\n",
       "        vehicle_type_convertible  vehicle_type_coupe  vehicle_type_other  \\\n",
       "272964                       0.0                 0.0                 0.0   \n",
       "338713                       0.0                 0.0                 0.0   \n",
       "276472                       0.0                 0.0                 0.0   \n",
       "227136                       1.0                 0.0                 0.0   \n",
       "306219                       0.0                 0.0                 0.0   \n",
       "\n",
       "        vehicle_type_sedan  vehicle_type_small  vehicle_type_suv  ...  \\\n",
       "272964                 0.0                 1.0               0.0  ...   \n",
       "338713                 0.0                 0.0               0.0  ...   \n",
       "276472                 0.0                 0.0               0.0  ...   \n",
       "227136                 0.0                 0.0               0.0  ...   \n",
       "306219                 0.0                 0.0               0.0  ...   \n",
       "\n",
       "        brand_smart  brand_sonstige_autos  brand_subaru  brand_suzuki  \\\n",
       "272964          0.0                   0.0           0.0           0.0   \n",
       "338713          0.0                   0.0           0.0           0.0   \n",
       "276472          0.0                   0.0           0.0           0.0   \n",
       "227136          0.0                   0.0           0.0           0.0   \n",
       "306219          0.0                   0.0           0.0           0.0   \n",
       "\n",
       "        brand_toyota  brand_trabant  brand_volkswagen  brand_volvo  \\\n",
       "272964           0.0            0.0               1.0          0.0   \n",
       "338713           0.0            0.0               0.0          0.0   \n",
       "276472           0.0            0.0               0.0          0.0   \n",
       "227136           0.0            0.0               0.0          0.0   \n",
       "306219           0.0            0.0               0.0          0.0   \n",
       "\n",
       "        repaired_unknown  repaired_yes  \n",
       "272964               0.0           0.0  \n",
       "338713               0.0           0.0  \n",
       "276472               0.0           0.0  \n",
       "227136               0.0           0.0  \n",
       "306219               0.0           1.0  \n",
       "\n",
       "[5 rows x 309 columns]"
      ]
     },
     "execution_count": 52,
     "metadata": {},
     "output_type": "execute_result"
    }
   ],
   "source": [
    "# преобразуем категориальные признаки в численные техникой прямого кодирования\n",
    "encoder = OneHotEncoder(handle_unknown='error', drop='first', sparse=False)\n",
    "\n",
    "encoder.fit(features_train[ohe_features])\n",
    "\n",
    "features_train[\n",
    "    encoder.get_feature_names_out()\n",
    "] = encoder.transform(features_train[ohe_features])\n",
    "\n",
    "# удаляем незакодированные категориальные признаки (изначальные колонки)\n",
    "features_train = features_train.drop(ohe_features, axis=1)\n",
    "features_train.head()"
   ]
  },
  {
   "cell_type": "code",
   "execution_count": 53,
   "metadata": {
    "colab": {
     "base_uri": "https://localhost:8080/",
     "height": 487
    },
    "id": "trdtbuFHDpcZ",
    "outputId": "24820bea-762a-4dd3-c15a-bfd16d01e01c"
   },
   "outputs": [
    {
     "data": {
      "text/html": [
       "\n",
       "  <div id=\"df-12ec5ea2-4511-44a0-9d4b-43443d473d11\">\n",
       "    <div class=\"colab-df-container\">\n",
       "      <div>\n",
       "<style scoped>\n",
       "    .dataframe tbody tr th:only-of-type {\n",
       "        vertical-align: middle;\n",
       "    }\n",
       "\n",
       "    .dataframe tbody tr th {\n",
       "        vertical-align: top;\n",
       "    }\n",
       "\n",
       "    .dataframe thead th {\n",
       "        text-align: right;\n",
       "    }\n",
       "</style>\n",
       "<table border=\"1\" class=\"dataframe\">\n",
       "  <thead>\n",
       "    <tr style=\"text-align: right;\">\n",
       "      <th></th>\n",
       "      <th>registration_year</th>\n",
       "      <th>power</th>\n",
       "      <th>kilometer</th>\n",
       "      <th>registration_month</th>\n",
       "      <th>vehicle_type_convertible</th>\n",
       "      <th>vehicle_type_coupe</th>\n",
       "      <th>vehicle_type_other</th>\n",
       "      <th>vehicle_type_sedan</th>\n",
       "      <th>vehicle_type_small</th>\n",
       "      <th>vehicle_type_suv</th>\n",
       "      <th>...</th>\n",
       "      <th>brand_smart</th>\n",
       "      <th>brand_sonstige_autos</th>\n",
       "      <th>brand_subaru</th>\n",
       "      <th>brand_suzuki</th>\n",
       "      <th>brand_toyota</th>\n",
       "      <th>brand_trabant</th>\n",
       "      <th>brand_volkswagen</th>\n",
       "      <th>brand_volvo</th>\n",
       "      <th>repaired_unknown</th>\n",
       "      <th>repaired_yes</th>\n",
       "    </tr>\n",
       "  </thead>\n",
       "  <tbody>\n",
       "    <tr>\n",
       "      <th>281320</th>\n",
       "      <td>2002</td>\n",
       "      <td>131</td>\n",
       "      <td>150000</td>\n",
       "      <td>7</td>\n",
       "      <td>0.0</td>\n",
       "      <td>0.0</td>\n",
       "      <td>0.0</td>\n",
       "      <td>0.0</td>\n",
       "      <td>0.0</td>\n",
       "      <td>0.0</td>\n",
       "      <td>...</td>\n",
       "      <td>0.0</td>\n",
       "      <td>0.0</td>\n",
       "      <td>0.0</td>\n",
       "      <td>0.0</td>\n",
       "      <td>0.0</td>\n",
       "      <td>0.0</td>\n",
       "      <td>0.0</td>\n",
       "      <td>0.0</td>\n",
       "      <td>0.0</td>\n",
       "      <td>0.0</td>\n",
       "    </tr>\n",
       "    <tr>\n",
       "      <th>86214</th>\n",
       "      <td>2005</td>\n",
       "      <td>155</td>\n",
       "      <td>150000</td>\n",
       "      <td>9</td>\n",
       "      <td>0.0</td>\n",
       "      <td>0.0</td>\n",
       "      <td>0.0</td>\n",
       "      <td>0.0</td>\n",
       "      <td>0.0</td>\n",
       "      <td>0.0</td>\n",
       "      <td>...</td>\n",
       "      <td>0.0</td>\n",
       "      <td>0.0</td>\n",
       "      <td>0.0</td>\n",
       "      <td>0.0</td>\n",
       "      <td>0.0</td>\n",
       "      <td>0.0</td>\n",
       "      <td>0.0</td>\n",
       "      <td>0.0</td>\n",
       "      <td>0.0</td>\n",
       "      <td>1.0</td>\n",
       "    </tr>\n",
       "    <tr>\n",
       "      <th>311493</th>\n",
       "      <td>1999</td>\n",
       "      <td>101</td>\n",
       "      <td>150000</td>\n",
       "      <td>9</td>\n",
       "      <td>0.0</td>\n",
       "      <td>0.0</td>\n",
       "      <td>0.0</td>\n",
       "      <td>0.0</td>\n",
       "      <td>0.0</td>\n",
       "      <td>0.0</td>\n",
       "      <td>...</td>\n",
       "      <td>0.0</td>\n",
       "      <td>0.0</td>\n",
       "      <td>0.0</td>\n",
       "      <td>0.0</td>\n",
       "      <td>0.0</td>\n",
       "      <td>0.0</td>\n",
       "      <td>0.0</td>\n",
       "      <td>0.0</td>\n",
       "      <td>0.0</td>\n",
       "      <td>0.0</td>\n",
       "    </tr>\n",
       "    <tr>\n",
       "      <th>302352</th>\n",
       "      <td>2010</td>\n",
       "      <td>204</td>\n",
       "      <td>125000</td>\n",
       "      <td>7</td>\n",
       "      <td>0.0</td>\n",
       "      <td>0.0</td>\n",
       "      <td>0.0</td>\n",
       "      <td>1.0</td>\n",
       "      <td>0.0</td>\n",
       "      <td>0.0</td>\n",
       "      <td>...</td>\n",
       "      <td>0.0</td>\n",
       "      <td>0.0</td>\n",
       "      <td>0.0</td>\n",
       "      <td>0.0</td>\n",
       "      <td>0.0</td>\n",
       "      <td>0.0</td>\n",
       "      <td>0.0</td>\n",
       "      <td>0.0</td>\n",
       "      <td>0.0</td>\n",
       "      <td>0.0</td>\n",
       "    </tr>\n",
       "    <tr>\n",
       "      <th>62785</th>\n",
       "      <td>2001</td>\n",
       "      <td>60</td>\n",
       "      <td>80000</td>\n",
       "      <td>1</td>\n",
       "      <td>0.0</td>\n",
       "      <td>0.0</td>\n",
       "      <td>0.0</td>\n",
       "      <td>0.0</td>\n",
       "      <td>1.0</td>\n",
       "      <td>0.0</td>\n",
       "      <td>...</td>\n",
       "      <td>0.0</td>\n",
       "      <td>0.0</td>\n",
       "      <td>0.0</td>\n",
       "      <td>0.0</td>\n",
       "      <td>0.0</td>\n",
       "      <td>0.0</td>\n",
       "      <td>0.0</td>\n",
       "      <td>0.0</td>\n",
       "      <td>1.0</td>\n",
       "      <td>0.0</td>\n",
       "    </tr>\n",
       "    <tr>\n",
       "      <th>...</th>\n",
       "      <td>...</td>\n",
       "      <td>...</td>\n",
       "      <td>...</td>\n",
       "      <td>...</td>\n",
       "      <td>...</td>\n",
       "      <td>...</td>\n",
       "      <td>...</td>\n",
       "      <td>...</td>\n",
       "      <td>...</td>\n",
       "      <td>...</td>\n",
       "      <td>...</td>\n",
       "      <td>...</td>\n",
       "      <td>...</td>\n",
       "      <td>...</td>\n",
       "      <td>...</td>\n",
       "      <td>...</td>\n",
       "      <td>...</td>\n",
       "      <td>...</td>\n",
       "      <td>...</td>\n",
       "      <td>...</td>\n",
       "      <td>...</td>\n",
       "    </tr>\n",
       "    <tr>\n",
       "      <th>188480</th>\n",
       "      <td>1994</td>\n",
       "      <td>101</td>\n",
       "      <td>150000</td>\n",
       "      <td>6</td>\n",
       "      <td>0.0</td>\n",
       "      <td>1.0</td>\n",
       "      <td>0.0</td>\n",
       "      <td>0.0</td>\n",
       "      <td>0.0</td>\n",
       "      <td>0.0</td>\n",
       "      <td>...</td>\n",
       "      <td>0.0</td>\n",
       "      <td>0.0</td>\n",
       "      <td>0.0</td>\n",
       "      <td>0.0</td>\n",
       "      <td>0.0</td>\n",
       "      <td>0.0</td>\n",
       "      <td>0.0</td>\n",
       "      <td>0.0</td>\n",
       "      <td>0.0</td>\n",
       "      <td>0.0</td>\n",
       "    </tr>\n",
       "    <tr>\n",
       "      <th>126659</th>\n",
       "      <td>2002</td>\n",
       "      <td>75</td>\n",
       "      <td>150000</td>\n",
       "      <td>1</td>\n",
       "      <td>0.0</td>\n",
       "      <td>0.0</td>\n",
       "      <td>0.0</td>\n",
       "      <td>1.0</td>\n",
       "      <td>0.0</td>\n",
       "      <td>0.0</td>\n",
       "      <td>...</td>\n",
       "      <td>0.0</td>\n",
       "      <td>0.0</td>\n",
       "      <td>0.0</td>\n",
       "      <td>0.0</td>\n",
       "      <td>0.0</td>\n",
       "      <td>0.0</td>\n",
       "      <td>1.0</td>\n",
       "      <td>0.0</td>\n",
       "      <td>0.0</td>\n",
       "      <td>0.0</td>\n",
       "    </tr>\n",
       "    <tr>\n",
       "      <th>336485</th>\n",
       "      <td>1999</td>\n",
       "      <td>115</td>\n",
       "      <td>150000</td>\n",
       "      <td>3</td>\n",
       "      <td>0.0</td>\n",
       "      <td>0.0</td>\n",
       "      <td>0.0</td>\n",
       "      <td>0.0</td>\n",
       "      <td>0.0</td>\n",
       "      <td>0.0</td>\n",
       "      <td>...</td>\n",
       "      <td>0.0</td>\n",
       "      <td>0.0</td>\n",
       "      <td>0.0</td>\n",
       "      <td>0.0</td>\n",
       "      <td>0.0</td>\n",
       "      <td>0.0</td>\n",
       "      <td>0.0</td>\n",
       "      <td>0.0</td>\n",
       "      <td>0.0</td>\n",
       "      <td>0.0</td>\n",
       "    </tr>\n",
       "    <tr>\n",
       "      <th>51852</th>\n",
       "      <td>1998</td>\n",
       "      <td>133</td>\n",
       "      <td>150000</td>\n",
       "      <td>8</td>\n",
       "      <td>1.0</td>\n",
       "      <td>0.0</td>\n",
       "      <td>0.0</td>\n",
       "      <td>0.0</td>\n",
       "      <td>0.0</td>\n",
       "      <td>0.0</td>\n",
       "      <td>...</td>\n",
       "      <td>0.0</td>\n",
       "      <td>0.0</td>\n",
       "      <td>0.0</td>\n",
       "      <td>0.0</td>\n",
       "      <td>0.0</td>\n",
       "      <td>0.0</td>\n",
       "      <td>0.0</td>\n",
       "      <td>0.0</td>\n",
       "      <td>0.0</td>\n",
       "      <td>0.0</td>\n",
       "    </tr>\n",
       "    <tr>\n",
       "      <th>235102</th>\n",
       "      <td>1998</td>\n",
       "      <td>125</td>\n",
       "      <td>150000</td>\n",
       "      <td>4</td>\n",
       "      <td>0.0</td>\n",
       "      <td>0.0</td>\n",
       "      <td>0.0</td>\n",
       "      <td>0.0</td>\n",
       "      <td>0.0</td>\n",
       "      <td>0.0</td>\n",
       "      <td>...</td>\n",
       "      <td>0.0</td>\n",
       "      <td>0.0</td>\n",
       "      <td>0.0</td>\n",
       "      <td>0.0</td>\n",
       "      <td>0.0</td>\n",
       "      <td>0.0</td>\n",
       "      <td>1.0</td>\n",
       "      <td>0.0</td>\n",
       "      <td>0.0</td>\n",
       "      <td>0.0</td>\n",
       "    </tr>\n",
       "  </tbody>\n",
       "</table>\n",
       "<p>70325 rows × 309 columns</p>\n",
       "</div>\n",
       "      <button class=\"colab-df-convert\" onclick=\"convertToInteractive('df-12ec5ea2-4511-44a0-9d4b-43443d473d11')\"\n",
       "              title=\"Convert this dataframe to an interactive table.\"\n",
       "              style=\"display:none;\">\n",
       "        \n",
       "  <svg xmlns=\"http://www.w3.org/2000/svg\" height=\"24px\"viewBox=\"0 0 24 24\"\n",
       "       width=\"24px\">\n",
       "    <path d=\"M0 0h24v24H0V0z\" fill=\"none\"/>\n",
       "    <path d=\"M18.56 5.44l.94 2.06.94-2.06 2.06-.94-2.06-.94-.94-2.06-.94 2.06-2.06.94zm-11 1L8.5 8.5l.94-2.06 2.06-.94-2.06-.94L8.5 2.5l-.94 2.06-2.06.94zm10 10l.94 2.06.94-2.06 2.06-.94-2.06-.94-.94-2.06-.94 2.06-2.06.94z\"/><path d=\"M17.41 7.96l-1.37-1.37c-.4-.4-.92-.59-1.43-.59-.52 0-1.04.2-1.43.59L10.3 9.45l-7.72 7.72c-.78.78-.78 2.05 0 2.83L4 21.41c.39.39.9.59 1.41.59.51 0 1.02-.2 1.41-.59l7.78-7.78 2.81-2.81c.8-.78.8-2.07 0-2.86zM5.41 20L4 18.59l7.72-7.72 1.47 1.35L5.41 20z\"/>\n",
       "  </svg>\n",
       "      </button>\n",
       "      \n",
       "  <style>\n",
       "    .colab-df-container {\n",
       "      display:flex;\n",
       "      flex-wrap:wrap;\n",
       "      gap: 12px;\n",
       "    }\n",
       "\n",
       "    .colab-df-convert {\n",
       "      background-color: #E8F0FE;\n",
       "      border: none;\n",
       "      border-radius: 50%;\n",
       "      cursor: pointer;\n",
       "      display: none;\n",
       "      fill: #1967D2;\n",
       "      height: 32px;\n",
       "      padding: 0 0 0 0;\n",
       "      width: 32px;\n",
       "    }\n",
       "\n",
       "    .colab-df-convert:hover {\n",
       "      background-color: #E2EBFA;\n",
       "      box-shadow: 0px 1px 2px rgba(60, 64, 67, 0.3), 0px 1px 3px 1px rgba(60, 64, 67, 0.15);\n",
       "      fill: #174EA6;\n",
       "    }\n",
       "\n",
       "    [theme=dark] .colab-df-convert {\n",
       "      background-color: #3B4455;\n",
       "      fill: #D2E3FC;\n",
       "    }\n",
       "\n",
       "    [theme=dark] .colab-df-convert:hover {\n",
       "      background-color: #434B5C;\n",
       "      box-shadow: 0px 1px 3px 1px rgba(0, 0, 0, 0.15);\n",
       "      filter: drop-shadow(0px 1px 2px rgba(0, 0, 0, 0.3));\n",
       "      fill: #FFFFFF;\n",
       "    }\n",
       "  </style>\n",
       "\n",
       "      <script>\n",
       "        const buttonEl =\n",
       "          document.querySelector('#df-12ec5ea2-4511-44a0-9d4b-43443d473d11 button.colab-df-convert');\n",
       "        buttonEl.style.display =\n",
       "          google.colab.kernel.accessAllowed ? 'block' : 'none';\n",
       "\n",
       "        async function convertToInteractive(key) {\n",
       "          const element = document.querySelector('#df-12ec5ea2-4511-44a0-9d4b-43443d473d11');\n",
       "          const dataTable =\n",
       "            await google.colab.kernel.invokeFunction('convertToInteractive',\n",
       "                                                     [key], {});\n",
       "          if (!dataTable) return;\n",
       "\n",
       "          const docLinkHtml = 'Like what you see? Visit the ' +\n",
       "            '<a target=\"_blank\" href=https://colab.research.google.com/notebooks/data_table.ipynb>data table notebook</a>'\n",
       "            + ' to learn more about interactive tables.';\n",
       "          element.innerHTML = '';\n",
       "          dataTable['output_type'] = 'display_data';\n",
       "          await google.colab.output.renderOutput(dataTable, element);\n",
       "          const docLink = document.createElement('div');\n",
       "          docLink.innerHTML = docLinkHtml;\n",
       "          element.appendChild(docLink);\n",
       "        }\n",
       "      </script>\n",
       "    </div>\n",
       "  </div>\n",
       "  "
      ],
      "text/plain": [
       "        registration_year  power  kilometer  registration_month  \\\n",
       "281320               2002    131     150000                   7   \n",
       "86214                2005    155     150000                   9   \n",
       "311493               1999    101     150000                   9   \n",
       "302352               2010    204     125000                   7   \n",
       "62785                2001     60      80000                   1   \n",
       "...                   ...    ...        ...                 ...   \n",
       "188480               1994    101     150000                   6   \n",
       "126659               2002     75     150000                   1   \n",
       "336485               1999    115     150000                   3   \n",
       "51852                1998    133     150000                   8   \n",
       "235102               1998    125     150000                   4   \n",
       "\n",
       "        vehicle_type_convertible  vehicle_type_coupe  vehicle_type_other  \\\n",
       "281320                       0.0                 0.0                 0.0   \n",
       "86214                        0.0                 0.0                 0.0   \n",
       "311493                       0.0                 0.0                 0.0   \n",
       "302352                       0.0                 0.0                 0.0   \n",
       "62785                        0.0                 0.0                 0.0   \n",
       "...                          ...                 ...                 ...   \n",
       "188480                       0.0                 1.0                 0.0   \n",
       "126659                       0.0                 0.0                 0.0   \n",
       "336485                       0.0                 0.0                 0.0   \n",
       "51852                        1.0                 0.0                 0.0   \n",
       "235102                       0.0                 0.0                 0.0   \n",
       "\n",
       "        vehicle_type_sedan  vehicle_type_small  vehicle_type_suv  ...  \\\n",
       "281320                 0.0                 0.0               0.0  ...   \n",
       "86214                  0.0                 0.0               0.0  ...   \n",
       "311493                 0.0                 0.0               0.0  ...   \n",
       "302352                 1.0                 0.0               0.0  ...   \n",
       "62785                  0.0                 1.0               0.0  ...   \n",
       "...                    ...                 ...               ...  ...   \n",
       "188480                 0.0                 0.0               0.0  ...   \n",
       "126659                 1.0                 0.0               0.0  ...   \n",
       "336485                 0.0                 0.0               0.0  ...   \n",
       "51852                  0.0                 0.0               0.0  ...   \n",
       "235102                 0.0                 0.0               0.0  ...   \n",
       "\n",
       "        brand_smart  brand_sonstige_autos  brand_subaru  brand_suzuki  \\\n",
       "281320          0.0                   0.0           0.0           0.0   \n",
       "86214           0.0                   0.0           0.0           0.0   \n",
       "311493          0.0                   0.0           0.0           0.0   \n",
       "302352          0.0                   0.0           0.0           0.0   \n",
       "62785           0.0                   0.0           0.0           0.0   \n",
       "...             ...                   ...           ...           ...   \n",
       "188480          0.0                   0.0           0.0           0.0   \n",
       "126659          0.0                   0.0           0.0           0.0   \n",
       "336485          0.0                   0.0           0.0           0.0   \n",
       "51852           0.0                   0.0           0.0           0.0   \n",
       "235102          0.0                   0.0           0.0           0.0   \n",
       "\n",
       "        brand_toyota  brand_trabant  brand_volkswagen  brand_volvo  \\\n",
       "281320           0.0            0.0               0.0          0.0   \n",
       "86214            0.0            0.0               0.0          0.0   \n",
       "311493           0.0            0.0               0.0          0.0   \n",
       "302352           0.0            0.0               0.0          0.0   \n",
       "62785            0.0            0.0               0.0          0.0   \n",
       "...              ...            ...               ...          ...   \n",
       "188480           0.0            0.0               0.0          0.0   \n",
       "126659           0.0            0.0               1.0          0.0   \n",
       "336485           0.0            0.0               0.0          0.0   \n",
       "51852            0.0            0.0               0.0          0.0   \n",
       "235102           0.0            0.0               1.0          0.0   \n",
       "\n",
       "        repaired_unknown  repaired_yes  \n",
       "281320               0.0           0.0  \n",
       "86214                0.0           1.0  \n",
       "311493               0.0           0.0  \n",
       "302352               0.0           0.0  \n",
       "62785                1.0           0.0  \n",
       "...                  ...           ...  \n",
       "188480               0.0           0.0  \n",
       "126659               0.0           0.0  \n",
       "336485               0.0           0.0  \n",
       "51852                0.0           0.0  \n",
       "235102               0.0           0.0  \n",
       "\n",
       "[70325 rows x 309 columns]"
      ]
     },
     "execution_count": 53,
     "metadata": {},
     "output_type": "execute_result"
    }
   ],
   "source": [
    "# энкодером, который обучен на ТРЕНИРОВОЧНОЙ ВЫБОРКЕ, кодируем тестовую выборку\n",
    "features_test[\n",
    "    encoder.get_feature_names_out()\n",
    "] = encoder.transform(features_test[ohe_features])\n",
    "\n",
    "features_test = features_test.drop(ohe_features, axis=1)\n",
    "features_test"
   ]
  },
  {
   "cell_type": "code",
   "execution_count": 54,
   "metadata": {
    "colab": {
     "base_uri": "https://localhost:8080/",
     "height": 299
    },
    "id": "3f_DXxl6Dpca",
    "outputId": "10a75624-c471-4a45-e4f0-b8ebb8b6c8a7"
   },
   "outputs": [
    {
     "data": {
      "text/html": [
       "\n",
       "  <div id=\"df-9b625f10-a4d9-4c6f-b74d-12aacfc3093e\">\n",
       "    <div class=\"colab-df-container\">\n",
       "      <div>\n",
       "<style scoped>\n",
       "    .dataframe tbody tr th:only-of-type {\n",
       "        vertical-align: middle;\n",
       "    }\n",
       "\n",
       "    .dataframe tbody tr th {\n",
       "        vertical-align: top;\n",
       "    }\n",
       "\n",
       "    .dataframe thead th {\n",
       "        text-align: right;\n",
       "    }\n",
       "</style>\n",
       "<table border=\"1\" class=\"dataframe\">\n",
       "  <thead>\n",
       "    <tr style=\"text-align: right;\">\n",
       "      <th></th>\n",
       "      <th>registration_year</th>\n",
       "      <th>power</th>\n",
       "      <th>kilometer</th>\n",
       "      <th>registration_month</th>\n",
       "      <th>vehicle_type_convertible</th>\n",
       "      <th>vehicle_type_coupe</th>\n",
       "      <th>vehicle_type_other</th>\n",
       "      <th>vehicle_type_sedan</th>\n",
       "      <th>vehicle_type_small</th>\n",
       "      <th>vehicle_type_suv</th>\n",
       "      <th>...</th>\n",
       "      <th>brand_smart</th>\n",
       "      <th>brand_sonstige_autos</th>\n",
       "      <th>brand_subaru</th>\n",
       "      <th>brand_suzuki</th>\n",
       "      <th>brand_toyota</th>\n",
       "      <th>brand_trabant</th>\n",
       "      <th>brand_volkswagen</th>\n",
       "      <th>brand_volvo</th>\n",
       "      <th>repaired_unknown</th>\n",
       "      <th>repaired_yes</th>\n",
       "    </tr>\n",
       "  </thead>\n",
       "  <tbody>\n",
       "    <tr>\n",
       "      <th>272964</th>\n",
       "      <td>-0.026960</td>\n",
       "      <td>-0.756291</td>\n",
       "      <td>0.590359</td>\n",
       "      <td>-1.409972</td>\n",
       "      <td>0.0</td>\n",
       "      <td>0.0</td>\n",
       "      <td>0.0</td>\n",
       "      <td>0.0</td>\n",
       "      <td>1.0</td>\n",
       "      <td>0.0</td>\n",
       "      <td>...</td>\n",
       "      <td>0.0</td>\n",
       "      <td>0.0</td>\n",
       "      <td>0.0</td>\n",
       "      <td>0.0</td>\n",
       "      <td>0.0</td>\n",
       "      <td>0.0</td>\n",
       "      <td>1.0</td>\n",
       "      <td>0.0</td>\n",
       "      <td>0.0</td>\n",
       "      <td>0.0</td>\n",
       "    </tr>\n",
       "    <tr>\n",
       "      <th>338713</th>\n",
       "      <td>0.942331</td>\n",
       "      <td>-0.549535</td>\n",
       "      <td>0.590359</td>\n",
       "      <td>-0.568960</td>\n",
       "      <td>0.0</td>\n",
       "      <td>0.0</td>\n",
       "      <td>0.0</td>\n",
       "      <td>0.0</td>\n",
       "      <td>0.0</td>\n",
       "      <td>0.0</td>\n",
       "      <td>...</td>\n",
       "      <td>0.0</td>\n",
       "      <td>0.0</td>\n",
       "      <td>0.0</td>\n",
       "      <td>0.0</td>\n",
       "      <td>0.0</td>\n",
       "      <td>0.0</td>\n",
       "      <td>0.0</td>\n",
       "      <td>0.0</td>\n",
       "      <td>0.0</td>\n",
       "      <td>0.0</td>\n",
       "    </tr>\n",
       "    <tr>\n",
       "      <th>276472</th>\n",
       "      <td>-1.383966</td>\n",
       "      <td>0.038926</td>\n",
       "      <td>0.590359</td>\n",
       "      <td>-0.849298</td>\n",
       "      <td>0.0</td>\n",
       "      <td>0.0</td>\n",
       "      <td>0.0</td>\n",
       "      <td>0.0</td>\n",
       "      <td>0.0</td>\n",
       "      <td>0.0</td>\n",
       "      <td>...</td>\n",
       "      <td>0.0</td>\n",
       "      <td>0.0</td>\n",
       "      <td>0.0</td>\n",
       "      <td>0.0</td>\n",
       "      <td>0.0</td>\n",
       "      <td>0.0</td>\n",
       "      <td>0.0</td>\n",
       "      <td>0.0</td>\n",
       "      <td>0.0</td>\n",
       "      <td>0.0</td>\n",
       "    </tr>\n",
       "    <tr>\n",
       "      <th>227136</th>\n",
       "      <td>0.554615</td>\n",
       "      <td>0.134352</td>\n",
       "      <td>0.590359</td>\n",
       "      <td>-0.288623</td>\n",
       "      <td>1.0</td>\n",
       "      <td>0.0</td>\n",
       "      <td>0.0</td>\n",
       "      <td>0.0</td>\n",
       "      <td>0.0</td>\n",
       "      <td>0.0</td>\n",
       "      <td>...</td>\n",
       "      <td>0.0</td>\n",
       "      <td>0.0</td>\n",
       "      <td>0.0</td>\n",
       "      <td>0.0</td>\n",
       "      <td>0.0</td>\n",
       "      <td>0.0</td>\n",
       "      <td>0.0</td>\n",
       "      <td>0.0</td>\n",
       "      <td>0.0</td>\n",
       "      <td>0.0</td>\n",
       "    </tr>\n",
       "    <tr>\n",
       "      <th>306219</th>\n",
       "      <td>-0.608534</td>\n",
       "      <td>-1.074378</td>\n",
       "      <td>0.590359</td>\n",
       "      <td>-1.690309</td>\n",
       "      <td>0.0</td>\n",
       "      <td>0.0</td>\n",
       "      <td>0.0</td>\n",
       "      <td>0.0</td>\n",
       "      <td>0.0</td>\n",
       "      <td>0.0</td>\n",
       "      <td>...</td>\n",
       "      <td>0.0</td>\n",
       "      <td>0.0</td>\n",
       "      <td>0.0</td>\n",
       "      <td>0.0</td>\n",
       "      <td>0.0</td>\n",
       "      <td>0.0</td>\n",
       "      <td>0.0</td>\n",
       "      <td>0.0</td>\n",
       "      <td>0.0</td>\n",
       "      <td>1.0</td>\n",
       "    </tr>\n",
       "  </tbody>\n",
       "</table>\n",
       "<p>5 rows × 309 columns</p>\n",
       "</div>\n",
       "      <button class=\"colab-df-convert\" onclick=\"convertToInteractive('df-9b625f10-a4d9-4c6f-b74d-12aacfc3093e')\"\n",
       "              title=\"Convert this dataframe to an interactive table.\"\n",
       "              style=\"display:none;\">\n",
       "        \n",
       "  <svg xmlns=\"http://www.w3.org/2000/svg\" height=\"24px\"viewBox=\"0 0 24 24\"\n",
       "       width=\"24px\">\n",
       "    <path d=\"M0 0h24v24H0V0z\" fill=\"none\"/>\n",
       "    <path d=\"M18.56 5.44l.94 2.06.94-2.06 2.06-.94-2.06-.94-.94-2.06-.94 2.06-2.06.94zm-11 1L8.5 8.5l.94-2.06 2.06-.94-2.06-.94L8.5 2.5l-.94 2.06-2.06.94zm10 10l.94 2.06.94-2.06 2.06-.94-2.06-.94-.94-2.06-.94 2.06-2.06.94z\"/><path d=\"M17.41 7.96l-1.37-1.37c-.4-.4-.92-.59-1.43-.59-.52 0-1.04.2-1.43.59L10.3 9.45l-7.72 7.72c-.78.78-.78 2.05 0 2.83L4 21.41c.39.39.9.59 1.41.59.51 0 1.02-.2 1.41-.59l7.78-7.78 2.81-2.81c.8-.78.8-2.07 0-2.86zM5.41 20L4 18.59l7.72-7.72 1.47 1.35L5.41 20z\"/>\n",
       "  </svg>\n",
       "      </button>\n",
       "      \n",
       "  <style>\n",
       "    .colab-df-container {\n",
       "      display:flex;\n",
       "      flex-wrap:wrap;\n",
       "      gap: 12px;\n",
       "    }\n",
       "\n",
       "    .colab-df-convert {\n",
       "      background-color: #E8F0FE;\n",
       "      border: none;\n",
       "      border-radius: 50%;\n",
       "      cursor: pointer;\n",
       "      display: none;\n",
       "      fill: #1967D2;\n",
       "      height: 32px;\n",
       "      padding: 0 0 0 0;\n",
       "      width: 32px;\n",
       "    }\n",
       "\n",
       "    .colab-df-convert:hover {\n",
       "      background-color: #E2EBFA;\n",
       "      box-shadow: 0px 1px 2px rgba(60, 64, 67, 0.3), 0px 1px 3px 1px rgba(60, 64, 67, 0.15);\n",
       "      fill: #174EA6;\n",
       "    }\n",
       "\n",
       "    [theme=dark] .colab-df-convert {\n",
       "      background-color: #3B4455;\n",
       "      fill: #D2E3FC;\n",
       "    }\n",
       "\n",
       "    [theme=dark] .colab-df-convert:hover {\n",
       "      background-color: #434B5C;\n",
       "      box-shadow: 0px 1px 3px 1px rgba(0, 0, 0, 0.15);\n",
       "      filter: drop-shadow(0px 1px 2px rgba(0, 0, 0, 0.3));\n",
       "      fill: #FFFFFF;\n",
       "    }\n",
       "  </style>\n",
       "\n",
       "      <script>\n",
       "        const buttonEl =\n",
       "          document.querySelector('#df-9b625f10-a4d9-4c6f-b74d-12aacfc3093e button.colab-df-convert');\n",
       "        buttonEl.style.display =\n",
       "          google.colab.kernel.accessAllowed ? 'block' : 'none';\n",
       "\n",
       "        async function convertToInteractive(key) {\n",
       "          const element = document.querySelector('#df-9b625f10-a4d9-4c6f-b74d-12aacfc3093e');\n",
       "          const dataTable =\n",
       "            await google.colab.kernel.invokeFunction('convertToInteractive',\n",
       "                                                     [key], {});\n",
       "          if (!dataTable) return;\n",
       "\n",
       "          const docLinkHtml = 'Like what you see? Visit the ' +\n",
       "            '<a target=\"_blank\" href=https://colab.research.google.com/notebooks/data_table.ipynb>data table notebook</a>'\n",
       "            + ' to learn more about interactive tables.';\n",
       "          element.innerHTML = '';\n",
       "          dataTable['output_type'] = 'display_data';\n",
       "          await google.colab.output.renderOutput(dataTable, element);\n",
       "          const docLink = document.createElement('div');\n",
       "          docLink.innerHTML = docLinkHtml;\n",
       "          element.appendChild(docLink);\n",
       "        }\n",
       "      </script>\n",
       "    </div>\n",
       "  </div>\n",
       "  "
      ],
      "text/plain": [
       "        registration_year     power  kilometer  registration_month  \\\n",
       "272964          -0.026960 -0.756291   0.590359           -1.409972   \n",
       "338713           0.942331 -0.549535   0.590359           -0.568960   \n",
       "276472          -1.383966  0.038926   0.590359           -0.849298   \n",
       "227136           0.554615  0.134352   0.590359           -0.288623   \n",
       "306219          -0.608534 -1.074378   0.590359           -1.690309   \n",
       "\n",
       "        vehicle_type_convertible  vehicle_type_coupe  vehicle_type_other  \\\n",
       "272964                       0.0                 0.0                 0.0   \n",
       "338713                       0.0                 0.0                 0.0   \n",
       "276472                       0.0                 0.0                 0.0   \n",
       "227136                       1.0                 0.0                 0.0   \n",
       "306219                       0.0                 0.0                 0.0   \n",
       "\n",
       "        vehicle_type_sedan  vehicle_type_small  vehicle_type_suv  ...  \\\n",
       "272964                 0.0                 1.0               0.0  ...   \n",
       "338713                 0.0                 0.0               0.0  ...   \n",
       "276472                 0.0                 0.0               0.0  ...   \n",
       "227136                 0.0                 0.0               0.0  ...   \n",
       "306219                 0.0                 0.0               0.0  ...   \n",
       "\n",
       "        brand_smart  brand_sonstige_autos  brand_subaru  brand_suzuki  \\\n",
       "272964          0.0                   0.0           0.0           0.0   \n",
       "338713          0.0                   0.0           0.0           0.0   \n",
       "276472          0.0                   0.0           0.0           0.0   \n",
       "227136          0.0                   0.0           0.0           0.0   \n",
       "306219          0.0                   0.0           0.0           0.0   \n",
       "\n",
       "        brand_toyota  brand_trabant  brand_volkswagen  brand_volvo  \\\n",
       "272964           0.0            0.0               1.0          0.0   \n",
       "338713           0.0            0.0               0.0          0.0   \n",
       "276472           0.0            0.0               0.0          0.0   \n",
       "227136           0.0            0.0               0.0          0.0   \n",
       "306219           0.0            0.0               0.0          0.0   \n",
       "\n",
       "        repaired_unknown  repaired_yes  \n",
       "272964               0.0           0.0  \n",
       "338713               0.0           0.0  \n",
       "276472               0.0           0.0  \n",
       "227136               0.0           0.0  \n",
       "306219               0.0           1.0  \n",
       "\n",
       "[5 rows x 309 columns]"
      ]
     },
     "execution_count": 54,
     "metadata": {},
     "output_type": "execute_result"
    }
   ],
   "source": [
    "#масштабируем численные признаки\n",
    "scaler = StandardScaler()\n",
    "\n",
    "features_train[num_features] = scaler.fit_transform(features_train[num_features])\n",
    "features_test[num_features]  = scaler.transform(features_test[num_features])\n",
    "\n",
    "features_train.head()"
   ]
  },
  {
   "cell_type": "code",
   "execution_count": 55,
   "metadata": {
    "colab": {
     "base_uri": "https://localhost:8080/"
    },
    "id": "JOIxKc31Dpca",
    "outputId": "dba21429-f321-41ab-ebc0-3401a395e63c"
   },
   "outputs": [
    {
     "name": "stdout",
     "output_type": "stream",
     "text": [
      "n_estimators = 60 max_depth = 10 RMSE = 1788.3759311598872\n",
      "n_estimators = 60 max_depth = 11 RMSE = 1735.5143755697482\n",
      "n_estimators = 61 max_depth = 10 RMSE = 1788.144584705421\n",
      "n_estimators = 61 max_depth = 11 RMSE = 1735.3106030453446\n",
      "n_estimators = 62 max_depth = 10 RMSE = 1788.0677517125484\n",
      "n_estimators = 62 max_depth = 11 RMSE = 1735.2582507622558\n"
     ]
    }
   ],
   "source": [
    "#поиск оптимальных гиперпараметров\n",
    "# start_time = time.time()\n",
    "for estim in range (60, 63):\n",
    "    for depth in range(10, 12):\n",
    "        model = RandomForestRegressor(n_estimators=estim, max_depth=depth, random_state=RANDOM_STATE)\n",
    "        model.fit(features_train, target_train)\n",
    "        mse = cross_val_score(model, features_train, target_train, cv=5, scoring='neg_mean_squared_error')\n",
    "        \n",
    "        print('n_estimators =', estim, 'max_depth =', depth, 'RMSE =', (-mse.mean()) ** 0.5)\n",
    "# end_time = time.time()\n",
    "# param_time = end_time - start_time"
   ]
  },
  {
   "cell_type": "code",
   "execution_count": 56,
   "metadata": {
    "colab": {
     "base_uri": "https://localhost:8080/"
    },
    "id": "ZpJGXoyhDpca",
    "outputId": "7c8def19-c013-4054-cf4c-615cdcfc7774"
   },
   "outputs": [
    {
     "name": "stdout",
     "output_type": "stream",
     "text": [
      "Время обучения:  216.14 секунд\n",
      "RMSE на кросс-валидации: 1735.26\n"
     ]
    }
   ],
   "source": [
    "start_time = time.time()\n",
    "model = RandomForestRegressor(n_estimators=62, max_depth=11, random_state=RANDOM_STATE)\n",
    "model.fit(features_train, target_train)\n",
    "end_time = time.time()\n",
    "train_time = end_time - start_time\n",
    "#суммарное время обучения и подбора гиперпараметров\n",
    "#total_time = param_time + train_time\n",
    "print(f'Время обучения:  {train_time:.2f} секунд')\n",
    "mse = cross_val_score(model, features_train, target_train, cv=5, scoring='neg_mean_squared_error')\n",
    "print(f'RMSE на кросс-валидации: {round((-mse.mean()) ** 0.5, 2)}')"
   ]
  },
  {
   "cell_type": "code",
   "execution_count": 57,
   "metadata": {
    "colab": {
     "base_uri": "https://localhost:8080/"
    },
    "id": "MVFYfAFPDpcb",
    "outputId": "3d11e71e-b164-4cae-d9ff-8533b81d4fb6"
   },
   "outputs": [
    {
     "name": "stdout",
     "output_type": "stream",
     "text": [
      "Время предсказания:  2.47 секунд\n"
     ]
    }
   ],
   "source": [
    "start_time = time.time()\n",
    "predictions = model.predict(features_train)\n",
    "end_time = time.time()\n",
    "pred_time = end_time - start_time\n",
    "print(f'Время предсказания:  {pred_time:.2f} секунд')"
   ]
  },
  {
   "cell_type": "markdown",
   "metadata": {
    "id": "tOw5ScllDpcb"
   },
   "source": [
    "### LightGBM"
   ]
  },
  {
   "cell_type": "code",
   "execution_count": 58,
   "metadata": {
    "colab": {
     "base_uri": "https://localhost:8080/"
    },
    "id": "BObjeFqLDpcb",
    "outputId": "f3987e5e-00de-45a9-e2e3-0408d3ce2941"
   },
   "outputs": [
    {
     "name": "stdout",
     "output_type": "stream",
     "text": [
      "max_depth = 15 RMSE = 1579.501406949028\n",
      "max_depth = 20 RMSE = 1578.1393575307447\n",
      "max_depth = 25 RMSE = 1578.5105846192616\n",
      "max_depth = 30 RMSE = 1578.3387051604118\n"
     ]
    }
   ],
   "source": [
    "#поиск оптимальных гиперпараметров\n",
    "# start_time = time.time()\n",
    "\n",
    "for depth in range(15, 35, 5):\n",
    "        model = LGBMRegressor(max_depth=depth, random_state=RANDOM_STATE)\n",
    "        model.fit(features_train, target_train)\n",
    "        mse = cross_val_score(model, features_train, target_train, cv=5, scoring='neg_mean_squared_error')\n",
    "        \n",
    "        print('max_depth =', depth, 'RMSE =', (-mse.mean()) ** 0.5)\n",
    "\n",
    "# end_time = time.time()\n",
    "# param_time = end_time - start_time"
   ]
  },
  {
   "cell_type": "code",
   "execution_count": 60,
   "metadata": {
    "colab": {
     "base_uri": "https://localhost:8080/"
    },
    "id": "nn4RhXK4Dpcb",
    "outputId": "4106bb74-cbaf-4f2a-ee9a-6434ec750a7d"
   },
   "outputs": [
    {
     "name": "stdout",
     "output_type": "stream",
     "text": [
      "Время обучения: 6.02 секунд\n",
      "RMSE на кросс-валидации: 1578.14\n"
     ]
    }
   ],
   "source": [
    "start_time = time.time()\n",
    "model = LGBMRegressor(max_depth=20, random_state=RANDOM_STATE)\n",
    "model.fit(features_train, target_train)\n",
    "end_time = time.time()\n",
    "train_time = end_time - start_time\n",
    "#суммарное время обучения и подбора гиперпараметров\n",
    "#total_time = param_time + train_time\n",
    "print(f'Время обучения: {train_time:.2f} секунд')\n",
    "mse = cross_val_score(model, features_train, target_train, cv=5, scoring='neg_mean_squared_error')\n",
    "print(f'RMSE на кросс-валидации: {round((-mse.mean()) ** 0.5, 2)}')"
   ]
  },
  {
   "cell_type": "code",
   "execution_count": 61,
   "metadata": {
    "colab": {
     "base_uri": "https://localhost:8080/"
    },
    "id": "8KqzuGSEDpcb",
    "outputId": "7865be4b-ecc4-4f2d-89a0-58dc0b03faab"
   },
   "outputs": [
    {
     "name": "stdout",
     "output_type": "stream",
     "text": [
      "Время предсказания:  2.08 секунд\n"
     ]
    }
   ],
   "source": [
    "start_time = time.time()\n",
    "predictions = model.predict(features_train)\n",
    "end_time = time.time()\n",
    "pred_time = end_time - start_time\n",
    "print(f'Время предсказания:  {pred_time:.2f} секунд')"
   ]
  },
  {
   "cell_type": "markdown",
   "metadata": {
    "id": "A_fjJfnxDpcc"
   },
   "source": [
    "**Вывод**\n",
    "\n",
    "Лушая Ridge модель: **Ridge('ridge__alpha': 0.1, random_state=RANDOM_STATE)**\n",
    "- Время обучения: 1.33 секунд\n",
    "- RMSE на кросс-валидации: 2276.85\n",
    "- Время предсказания: 0.54 секунд\n",
    "\n",
    "Лушая RandomForestRegressor модель: **RandomForestRegressor(n_estimators=62, max_depth=11, random_state=RANDOM_STATE)**\n",
    "- Время обучения: 216.14 секунд\n",
    "- RMSE на кросс-валидации: 1735.26\n",
    "- Время предсказания: 2.47 секунд\n",
    "\n",
    "Лушая LGBMRegressor модель: **LGBMRegressor(max_depth=30, random_state=RANDOM_STATE)**\n",
    "- Время обучения: 6.02 секунд\n",
    "- RMSE на кросс-валидации: 1578.14\n",
    "- Время предсказания: 2.08 секунд\n",
    "\n",
    "***Для тестирования выбираем модель LGBMRegressor т.к. имеет наилучшее качество и наименьшее время исполнения алгоритма.***"
   ]
  },
  {
   "cell_type": "markdown",
   "metadata": {
    "id": "Hp6CAk97Dpcc"
   },
   "source": [
    "## Анализ моделей"
   ]
  },
  {
   "cell_type": "markdown",
   "metadata": {
    "id": "6BiRGyN1Dpcc"
   },
   "source": [
    "Протестируем выбранную модель/"
   ]
  },
  {
   "cell_type": "code",
   "execution_count": 62,
   "metadata": {
    "colab": {
     "base_uri": "https://localhost:8080/"
    },
    "id": "IptOpK66Dpcc",
    "outputId": "35353f26-b0f5-42ea-9833-99d1f510f39c"
   },
   "outputs": [
    {
     "name": "stdout",
     "output_type": "stream",
     "text": [
      "Время предсказания:  0.90 секунд\n",
      "RMSE: 1586.25\n"
     ]
    }
   ],
   "source": [
    "start_time = time.time()\n",
    "predictions = model.predict(features_test)\n",
    "end_time = time.time()\n",
    "test_time = end_time - start_time\n",
    "print(f'Время предсказания:  {test_time:.2f} секунд')\n",
    "mse = cross_val_score(model, features_test, target_test, cv=5, scoring='neg_mean_squared_error')\n",
    "print(f'RMSE: {round((-mse.mean()) ** 0.5, 2)}')"
   ]
  },
  {
   "cell_type": "markdown",
   "metadata": {
    "id": "_ruNAjrUMe6_"
   },
   "source": [
    "**Вывод**: качество предсказания на тестовой выборке не сильно хуже, чем на обучающей, и удовлетворяет условию задания."
   ]
  }
 ],
 "metadata": {
  "ExecuteTimeLog": [
   {
    "duration": 4,
    "start_time": "2023-03-01T08:56:30.068Z"
   },
   {
    "duration": 3173,
    "start_time": "2023-03-01T08:59:54.436Z"
   },
   {
    "duration": 3,
    "start_time": "2023-03-01T09:00:00.783Z"
   },
   {
    "duration": 974,
    "start_time": "2023-03-01T09:00:02.878Z"
   },
   {
    "duration": 951,
    "start_time": "2023-03-01T09:00:14.931Z"
   },
   {
    "duration": 151,
    "start_time": "2023-03-01T09:00:44.927Z"
   },
   {
    "duration": 142,
    "start_time": "2023-03-01T09:01:39.810Z"
   },
   {
    "duration": 464,
    "start_time": "2023-03-01T09:02:40.535Z"
   },
   {
    "duration": 3,
    "start_time": "2023-03-01T09:05:36.109Z"
   },
   {
    "duration": 7,
    "start_time": "2023-03-01T09:05:52.425Z"
   },
   {
    "duration": 69,
    "start_time": "2023-03-01T09:11:17.173Z"
   },
   {
    "duration": 41,
    "start_time": "2023-03-01T09:11:23.614Z"
   },
   {
    "duration": 74,
    "start_time": "2023-03-01T09:11:46.067Z"
   },
   {
    "duration": 76,
    "start_time": "2023-03-01T09:11:57.254Z"
   },
   {
    "duration": 34,
    "start_time": "2023-03-01T09:12:07.581Z"
   },
   {
    "duration": 134,
    "start_time": "2023-03-01T09:12:15.358Z"
   },
   {
    "duration": 55,
    "start_time": "2023-03-01T09:12:19.074Z"
   },
   {
    "duration": 76,
    "start_time": "2023-03-01T09:12:28.849Z"
   },
   {
    "duration": 1423,
    "start_time": "2023-03-01T09:12:35.229Z"
   },
   {
    "duration": 431,
    "start_time": "2023-03-01T09:12:55.094Z"
   },
   {
    "duration": 930,
    "start_time": "2023-03-01T09:12:55.527Z"
   },
   {
    "duration": 168,
    "start_time": "2023-03-01T09:12:56.459Z"
   },
   {
    "duration": 157,
    "start_time": "2023-03-01T09:12:56.630Z"
   },
   {
    "duration": 565,
    "start_time": "2023-03-01T09:12:56.789Z"
   },
   {
    "duration": 1578,
    "start_time": "2023-03-01T09:12:57.356Z"
   },
   {
    "duration": 1377,
    "start_time": "2023-03-01T09:13:00.302Z"
   },
   {
    "duration": 447,
    "start_time": "2023-03-01T09:13:16.361Z"
   },
   {
    "duration": 921,
    "start_time": "2023-03-01T09:13:16.811Z"
   },
   {
    "duration": 171,
    "start_time": "2023-03-01T09:13:17.733Z"
   },
   {
    "duration": 169,
    "start_time": "2023-03-01T09:13:17.906Z"
   },
   {
    "duration": 542,
    "start_time": "2023-03-01T09:13:18.077Z"
   },
   {
    "duration": 1482,
    "start_time": "2023-03-01T09:13:18.621Z"
   },
   {
    "duration": 71,
    "start_time": "2023-03-01T09:13:28.272Z"
   },
   {
    "duration": 45,
    "start_time": "2023-03-01T09:13:37.864Z"
   },
   {
    "duration": 79,
    "start_time": "2023-03-01T09:13:45.170Z"
   },
   {
    "duration": 4,
    "start_time": "2023-03-01T09:14:14.004Z"
   },
   {
    "duration": 7,
    "start_time": "2023-03-01T09:14:24.113Z"
   },
   {
    "duration": 41,
    "start_time": "2023-03-01T09:15:41.720Z"
   },
   {
    "duration": 433,
    "start_time": "2023-03-01T09:15:53.426Z"
   },
   {
    "duration": 894,
    "start_time": "2023-03-01T09:15:53.861Z"
   },
   {
    "duration": 148,
    "start_time": "2023-03-01T09:15:54.757Z"
   },
   {
    "duration": 154,
    "start_time": "2023-03-01T09:15:54.907Z"
   },
   {
    "duration": 524,
    "start_time": "2023-03-01T09:15:55.063Z"
   },
   {
    "duration": 117,
    "start_time": "2023-03-01T09:15:55.589Z"
   },
   {
    "duration": 16,
    "start_time": "2023-03-01T09:16:05.492Z"
   },
   {
    "duration": 13,
    "start_time": "2023-03-01T09:16:21.454Z"
   },
   {
    "duration": 421,
    "start_time": "2023-03-01T09:16:39.633Z"
   },
   {
    "duration": 877,
    "start_time": "2023-03-01T09:16:40.056Z"
   },
   {
    "duration": 147,
    "start_time": "2023-03-01T09:16:40.934Z"
   },
   {
    "duration": 133,
    "start_time": "2023-03-01T09:16:41.084Z"
   },
   {
    "duration": 505,
    "start_time": "2023-03-01T09:16:41.219Z"
   },
   {
    "duration": 83,
    "start_time": "2023-03-01T09:16:41.725Z"
   },
   {
    "duration": 17,
    "start_time": "2023-03-01T09:18:00.848Z"
   },
   {
    "duration": 30,
    "start_time": "2023-03-01T09:24:45.984Z"
   },
   {
    "duration": 17,
    "start_time": "2023-03-01T09:24:55.474Z"
   },
   {
    "duration": 441,
    "start_time": "2023-03-01T09:25:05.507Z"
   },
   {
    "duration": 908,
    "start_time": "2023-03-01T09:25:05.951Z"
   },
   {
    "duration": 150,
    "start_time": "2023-03-01T09:25:06.861Z"
   },
   {
    "duration": 154,
    "start_time": "2023-03-01T09:25:07.013Z"
   },
   {
    "duration": 531,
    "start_time": "2023-03-01T09:25:07.169Z"
   },
   {
    "duration": 40,
    "start_time": "2023-03-01T09:25:07.702Z"
   },
   {
    "duration": 422,
    "start_time": "2023-03-01T09:25:45.472Z"
   },
   {
    "duration": 866,
    "start_time": "2023-03-01T09:25:45.897Z"
   },
   {
    "duration": 32,
    "start_time": "2023-03-01T09:25:46.765Z"
   },
   {
    "duration": 124,
    "start_time": "2023-03-01T09:25:46.799Z"
   },
   {
    "duration": 87,
    "start_time": "2023-03-01T09:25:46.925Z"
   },
   {
    "duration": 218,
    "start_time": "2023-03-01T09:25:47.014Z"
   },
   {
    "duration": 420,
    "start_time": "2023-03-01T09:27:00.239Z"
   },
   {
    "duration": 894,
    "start_time": "2023-03-01T09:27:00.661Z"
   },
   {
    "duration": 6,
    "start_time": "2023-03-01T09:27:01.557Z"
   },
   {
    "duration": 159,
    "start_time": "2023-03-01T09:27:01.565Z"
   },
   {
    "duration": 136,
    "start_time": "2023-03-01T09:27:01.726Z"
   },
   {
    "duration": 494,
    "start_time": "2023-03-01T09:27:01.864Z"
   },
   {
    "duration": 511,
    "start_time": "2023-03-01T09:27:32.906Z"
   },
   {
    "duration": 449,
    "start_time": "2023-03-01T09:27:39.648Z"
   },
   {
    "duration": 1049,
    "start_time": "2023-03-01T09:28:42.420Z"
   },
   {
    "duration": 99,
    "start_time": "2023-03-01T09:28:47.403Z"
   },
   {
    "duration": 4,
    "start_time": "2023-03-01T09:29:11.403Z"
   },
   {
    "duration": 668,
    "start_time": "2023-03-01T09:29:16.472Z"
   },
   {
    "duration": 1258,
    "start_time": "2023-03-01T09:30:21.504Z"
   },
   {
    "duration": 889,
    "start_time": "2023-03-01T09:30:22.764Z"
   },
   {
    "duration": 6,
    "start_time": "2023-03-01T09:30:23.655Z"
   },
   {
    "duration": 185,
    "start_time": "2023-03-01T09:30:23.664Z"
   },
   {
    "duration": 147,
    "start_time": "2023-03-01T09:30:23.850Z"
   },
   {
    "duration": 522,
    "start_time": "2023-03-01T09:30:23.999Z"
   },
   {
    "duration": 566,
    "start_time": "2023-03-01T09:30:24.523Z"
   },
   {
    "duration": 644,
    "start_time": "2023-03-01T09:30:25.091Z"
   },
   {
    "duration": 159,
    "start_time": "2023-03-01T09:32:33.593Z"
   },
   {
    "duration": 15,
    "start_time": "2023-03-01T09:32:45.512Z"
   },
   {
    "duration": 14,
    "start_time": "2023-03-01T09:33:10.303Z"
   },
   {
    "duration": 1229,
    "start_time": "2023-03-01T09:33:19.241Z"
   },
   {
    "duration": 892,
    "start_time": "2023-03-01T09:33:20.473Z"
   },
   {
    "duration": 6,
    "start_time": "2023-03-01T09:33:21.367Z"
   },
   {
    "duration": 181,
    "start_time": "2023-03-01T09:33:21.375Z"
   },
   {
    "duration": 150,
    "start_time": "2023-03-01T09:33:21.558Z"
   },
   {
    "duration": 511,
    "start_time": "2023-03-01T09:33:21.711Z"
   },
   {
    "duration": 599,
    "start_time": "2023-03-01T09:33:22.224Z"
   },
   {
    "duration": 133,
    "start_time": "2023-03-01T09:33:22.825Z"
   },
   {
    "duration": 41,
    "start_time": "2023-03-01T09:33:54.411Z"
   },
   {
    "duration": 40,
    "start_time": "2023-03-01T09:34:05.419Z"
   },
   {
    "duration": 30,
    "start_time": "2023-03-01T09:34:10.095Z"
   },
   {
    "duration": 701,
    "start_time": "2023-03-01T09:34:22.186Z"
   },
   {
    "duration": 1190,
    "start_time": "2023-03-01T09:34:38.698Z"
   },
   {
    "duration": 878,
    "start_time": "2023-03-01T09:34:39.890Z"
   },
   {
    "duration": 6,
    "start_time": "2023-03-01T09:34:40.770Z"
   },
   {
    "duration": 165,
    "start_time": "2023-03-01T09:34:40.778Z"
   },
   {
    "duration": 140,
    "start_time": "2023-03-01T09:34:40.944Z"
   },
   {
    "duration": 511,
    "start_time": "2023-03-01T09:34:41.085Z"
   },
   {
    "duration": 534,
    "start_time": "2023-03-01T09:34:41.598Z"
   },
   {
    "duration": 32,
    "start_time": "2023-03-01T09:34:42.134Z"
   },
   {
    "duration": 715,
    "start_time": "2023-03-01T09:34:42.168Z"
   },
   {
    "duration": 1264,
    "start_time": "2023-03-01T09:35:05.332Z"
   },
   {
    "duration": 890,
    "start_time": "2023-03-01T09:35:06.598Z"
   },
   {
    "duration": 8,
    "start_time": "2023-03-01T09:35:08.771Z"
   },
   {
    "duration": 180,
    "start_time": "2023-03-01T09:35:08.782Z"
   },
   {
    "duration": 179,
    "start_time": "2023-03-01T09:35:09.060Z"
   },
   {
    "duration": 511,
    "start_time": "2023-03-01T09:35:09.244Z"
   },
   {
    "duration": 557,
    "start_time": "2023-03-01T09:35:09.757Z"
   },
   {
    "duration": 48,
    "start_time": "2023-03-01T09:35:10.316Z"
   },
   {
    "duration": 455,
    "start_time": "2023-03-01T09:35:10.367Z"
   },
   {
    "duration": 205,
    "start_time": "2023-03-01T09:38:37.324Z"
   },
   {
    "duration": 1236,
    "start_time": "2023-03-01T09:44:00.479Z"
   },
   {
    "duration": 996,
    "start_time": "2023-03-01T09:44:01.717Z"
   },
   {
    "duration": 8,
    "start_time": "2023-03-01T09:44:08.591Z"
   },
   {
    "duration": 39,
    "start_time": "2023-03-01T09:44:08.601Z"
   },
   {
    "duration": 109,
    "start_time": "2023-03-01T09:44:08.642Z"
   },
   {
    "duration": 93,
    "start_time": "2023-03-01T09:44:08.753Z"
   },
   {
    "duration": 255,
    "start_time": "2023-03-01T09:44:08.848Z"
   },
   {
    "duration": 284,
    "start_time": "2023-03-01T09:44:09.105Z"
   },
   {
    "duration": 452,
    "start_time": "2023-03-01T09:44:09.392Z"
   },
   {
    "duration": 1176,
    "start_time": "2023-03-01T10:24:13.135Z"
   },
   {
    "duration": 826,
    "start_time": "2023-03-01T10:24:14.313Z"
   },
   {
    "duration": 6,
    "start_time": "2023-03-01T10:24:15.140Z"
   },
   {
    "duration": 31,
    "start_time": "2023-03-01T10:24:15.148Z"
   },
   {
    "duration": 113,
    "start_time": "2023-03-01T10:24:15.182Z"
   },
   {
    "duration": 93,
    "start_time": "2023-03-01T10:24:15.297Z"
   },
   {
    "duration": 224,
    "start_time": "2023-03-01T10:24:15.395Z"
   },
   {
    "duration": 249,
    "start_time": "2023-03-01T10:24:15.620Z"
   },
   {
    "duration": 455,
    "start_time": "2023-03-01T10:24:15.871Z"
   },
   {
    "duration": 24,
    "start_time": "2023-03-01T10:24:16.328Z"
   },
   {
    "duration": 31,
    "start_time": "2023-03-01T10:24:50.487Z"
   },
   {
    "duration": 22,
    "start_time": "2023-03-01T10:25:16.606Z"
   },
   {
    "duration": 53,
    "start_time": "2023-03-01T10:26:30.855Z"
   },
   {
    "duration": 1206,
    "start_time": "2023-03-01T10:26:34.905Z"
   },
   {
    "duration": 895,
    "start_time": "2023-03-01T10:26:36.113Z"
   },
   {
    "duration": 6,
    "start_time": "2023-03-01T10:26:37.010Z"
   },
   {
    "duration": 65,
    "start_time": "2023-03-01T10:26:37.018Z"
   },
   {
    "duration": 122,
    "start_time": "2023-03-01T10:26:37.085Z"
   },
   {
    "duration": 97,
    "start_time": "2023-03-01T10:26:37.209Z"
   },
   {
    "duration": 249,
    "start_time": "2023-03-01T10:26:37.308Z"
   },
   {
    "duration": 257,
    "start_time": "2023-03-01T10:26:37.559Z"
   },
   {
    "duration": 472,
    "start_time": "2023-03-01T10:26:37.818Z"
   },
   {
    "duration": 20,
    "start_time": "2023-03-01T10:26:38.292Z"
   },
   {
    "duration": 46,
    "start_time": "2023-03-01T10:26:38.314Z"
   },
   {
    "duration": 23,
    "start_time": "2023-03-01T10:26:38.362Z"
   },
   {
    "duration": 23,
    "start_time": "2023-03-01T10:26:38.387Z"
   },
   {
    "duration": 28,
    "start_time": "2023-03-01T10:27:32.746Z"
   },
   {
    "duration": 7468,
    "start_time": "2023-03-01T10:48:38.905Z"
   },
   {
    "duration": 2315,
    "start_time": "2023-03-01T10:56:43.522Z"
   },
   {
    "duration": 202,
    "start_time": "2023-03-01T10:57:31.153Z"
   },
   {
    "duration": 525,
    "start_time": "2023-03-01T11:00:22.031Z"
   },
   {
    "duration": 201,
    "start_time": "2023-03-01T11:17:24.101Z"
   },
   {
    "duration": 23,
    "start_time": "2023-03-01T11:17:44.684Z"
   },
   {
    "duration": 320,
    "start_time": "2023-03-01T11:17:50.035Z"
   },
   {
    "duration": 257,
    "start_time": "2023-03-01T11:18:17.172Z"
   },
   {
    "duration": 682,
    "start_time": "2023-03-01T11:20:05.320Z"
   },
   {
    "duration": 161,
    "start_time": "2023-03-01T11:27:51.270Z"
   },
   {
    "duration": 11886,
    "start_time": "2023-03-01T11:28:05.070Z"
   },
   {
    "duration": 378,
    "start_time": "2023-03-01T11:30:01.060Z"
   },
   {
    "duration": 372,
    "start_time": "2023-03-01T11:30:20.957Z"
   },
   {
    "duration": 509,
    "start_time": "2023-03-01T11:30:35.476Z"
   },
   {
    "duration": 609,
    "start_time": "2023-03-01T11:31:15.107Z"
   },
   {
    "duration": 373,
    "start_time": "2023-03-01T11:34:09.303Z"
   },
   {
    "duration": 16,
    "start_time": "2023-03-01T11:34:38.587Z"
   },
   {
    "duration": 3738,
    "start_time": "2023-03-01T11:35:08.383Z"
   },
   {
    "duration": 999,
    "start_time": "2023-03-01T11:35:12.123Z"
   },
   {
    "duration": 15,
    "start_time": "2023-03-01T11:35:13.124Z"
   },
   {
    "duration": 51,
    "start_time": "2023-03-01T11:35:13.141Z"
   },
   {
    "duration": 115,
    "start_time": "2023-03-01T11:35:13.195Z"
   },
   {
    "duration": 105,
    "start_time": "2023-03-01T11:35:13.312Z"
   },
   {
    "duration": 234,
    "start_time": "2023-03-01T11:35:13.419Z"
   },
   {
    "duration": 258,
    "start_time": "2023-03-01T11:35:13.655Z"
   },
   {
    "duration": 465,
    "start_time": "2023-03-01T11:35:13.915Z"
   },
   {
    "duration": 152,
    "start_time": "2023-03-01T11:35:21.375Z"
   },
   {
    "duration": 52,
    "start_time": "2023-03-01T11:37:09.205Z"
   },
   {
    "duration": 53,
    "start_time": "2023-03-01T11:37:19.303Z"
   },
   {
    "duration": 403,
    "start_time": "2023-03-01T11:41:02.667Z"
   },
   {
    "duration": 329,
    "start_time": "2023-03-01T11:41:22.052Z"
   },
   {
    "duration": 187,
    "start_time": "2023-03-01T11:41:47.314Z"
   },
   {
    "duration": 209,
    "start_time": "2023-03-01T11:41:57.419Z"
   },
   {
    "duration": 5,
    "start_time": "2023-03-01T11:42:50.683Z"
   },
   {
    "duration": 757,
    "start_time": "2023-03-01T11:42:53.870Z"
   },
   {
    "duration": 573,
    "start_time": "2023-03-01T11:43:43.063Z"
   },
   {
    "duration": 547,
    "start_time": "2023-03-01T11:43:54.657Z"
   },
   {
    "duration": 151,
    "start_time": "2023-03-01T11:46:33.412Z"
   },
   {
    "duration": 173,
    "start_time": "2023-03-01T11:46:40.717Z"
   },
   {
    "duration": 314,
    "start_time": "2023-03-01T11:46:47.177Z"
   },
   {
    "duration": 596,
    "start_time": "2023-03-01T11:47:13.988Z"
   },
   {
    "duration": 599,
    "start_time": "2023-03-01T11:47:21.261Z"
   },
   {
    "duration": 752,
    "start_time": "2023-03-01T11:47:27.701Z"
   },
   {
    "duration": 268,
    "start_time": "2023-03-01T11:48:05.409Z"
   },
   {
    "duration": 718,
    "start_time": "2023-03-01T11:48:16.438Z"
   },
   {
    "duration": 668,
    "start_time": "2023-03-01T11:48:26.333Z"
   },
   {
    "duration": 4136,
    "start_time": "2023-03-01T11:49:23.715Z"
   },
   {
    "duration": 665,
    "start_time": "2023-03-01T11:49:51.761Z"
   },
   {
    "duration": 372,
    "start_time": "2023-03-01T12:09:09.420Z"
   },
   {
    "duration": 3681,
    "start_time": "2023-03-01T12:09:26.134Z"
   },
   {
    "duration": 873,
    "start_time": "2023-03-01T12:09:29.818Z"
   },
   {
    "duration": 6,
    "start_time": "2023-03-01T12:09:30.693Z"
   },
   {
    "duration": 71,
    "start_time": "2023-03-01T12:09:30.701Z"
   },
   {
    "duration": 137,
    "start_time": "2023-03-01T12:09:30.774Z"
   },
   {
    "duration": 92,
    "start_time": "2023-03-01T12:09:30.912Z"
   },
   {
    "duration": 220,
    "start_time": "2023-03-01T12:09:31.005Z"
   },
   {
    "duration": 264,
    "start_time": "2023-03-01T12:09:31.226Z"
   },
   {
    "duration": 480,
    "start_time": "2023-03-01T12:09:31.492Z"
   },
   {
    "duration": 643,
    "start_time": "2023-03-01T12:09:31.974Z"
   },
   {
    "duration": 504,
    "start_time": "2023-03-01T12:09:32.619Z"
   },
   {
    "duration": 222,
    "start_time": "2023-03-01T12:09:44.932Z"
   },
   {
    "duration": 3564,
    "start_time": "2023-03-01T12:09:57.113Z"
   },
   {
    "duration": 211,
    "start_time": "2023-03-01T12:10:25.336Z"
   },
   {
    "duration": 11558,
    "start_time": "2023-03-01T12:12:12.561Z"
   },
   {
    "duration": 9756,
    "start_time": "2023-03-01T12:13:00.062Z"
   },
   {
    "duration": 7429,
    "start_time": "2023-03-01T15:43:46.070Z"
   },
   {
    "duration": 1058,
    "start_time": "2023-03-01T15:43:53.501Z"
   },
   {
    "duration": 7,
    "start_time": "2023-03-01T15:43:54.561Z"
   },
   {
    "duration": 32,
    "start_time": "2023-03-01T15:43:54.571Z"
   },
   {
    "duration": 90,
    "start_time": "2023-03-01T15:43:54.607Z"
   },
   {
    "duration": 84,
    "start_time": "2023-03-01T15:43:54.699Z"
   },
   {
    "duration": 122,
    "start_time": "2023-03-01T15:43:54.785Z"
   },
   {
    "duration": 189,
    "start_time": "2023-03-01T15:43:54.909Z"
   },
   {
    "duration": 194,
    "start_time": "2023-03-01T15:43:55.100Z"
   },
   {
    "duration": 501,
    "start_time": "2023-03-01T15:43:55.296Z"
   },
   {
    "duration": 610,
    "start_time": "2023-03-01T15:43:55.799Z"
   },
   {
    "duration": 13,
    "start_time": "2023-03-01T15:43:56.411Z"
   },
   {
    "duration": 540,
    "start_time": "2023-03-01T15:47:36.437Z"
   },
   {
    "duration": 577,
    "start_time": "2023-03-01T15:47:56.499Z"
   },
   {
    "duration": 574,
    "start_time": "2023-03-01T15:49:05.977Z"
   },
   {
    "duration": 98,
    "start_time": "2023-03-01T16:02:43.444Z"
   },
   {
    "duration": 159,
    "start_time": "2023-03-01T16:03:06.023Z"
   },
   {
    "duration": 43,
    "start_time": "2023-03-01T16:05:29.246Z"
   },
   {
    "duration": 123,
    "start_time": "2023-03-01T16:05:37.274Z"
   },
   {
    "duration": 131,
    "start_time": "2023-03-01T16:06:03.466Z"
   },
   {
    "duration": 35,
    "start_time": "2023-03-01T16:06:32.636Z"
   },
   {
    "duration": 507,
    "start_time": "2023-03-01T16:14:21.876Z"
   },
   {
    "duration": 550,
    "start_time": "2023-03-01T16:14:33.764Z"
   },
   {
    "duration": 618,
    "start_time": "2023-03-01T16:16:22.090Z"
   },
   {
    "duration": 33,
    "start_time": "2023-03-01T16:18:36.860Z"
   },
   {
    "duration": 33,
    "start_time": "2023-03-01T16:18:51.824Z"
   },
   {
    "duration": 33,
    "start_time": "2023-03-01T16:19:06.758Z"
   },
   {
    "duration": 128,
    "start_time": "2023-03-01T16:19:15.576Z"
   },
   {
    "duration": 50,
    "start_time": "2023-03-02T09:04:48.087Z"
   },
   {
    "duration": 8688,
    "start_time": "2023-03-02T09:04:56.493Z"
   },
   {
    "duration": 1061,
    "start_time": "2023-03-02T09:05:05.184Z"
   },
   {
    "duration": 6,
    "start_time": "2023-03-02T09:05:06.246Z"
   },
   {
    "duration": 30,
    "start_time": "2023-03-02T09:05:06.253Z"
   },
   {
    "duration": 103,
    "start_time": "2023-03-02T09:05:06.285Z"
   },
   {
    "duration": 91,
    "start_time": "2023-03-02T09:05:06.390Z"
   },
   {
    "duration": 131,
    "start_time": "2023-03-02T09:05:06.483Z"
   },
   {
    "duration": 207,
    "start_time": "2023-03-02T09:05:06.616Z"
   },
   {
    "duration": 214,
    "start_time": "2023-03-02T09:05:06.824Z"
   },
   {
    "duration": 473,
    "start_time": "2023-03-02T09:05:07.040Z"
   },
   {
    "duration": 1727,
    "start_time": "2023-03-02T09:05:07.515Z"
   },
   {
    "duration": 2502,
    "start_time": "2023-03-02T09:05:46.188Z"
   },
   {
    "duration": 1554,
    "start_time": "2023-03-02T09:05:54.389Z"
   },
   {
    "duration": 191,
    "start_time": "2023-03-02T09:06:48.975Z"
   },
   {
    "duration": 85,
    "start_time": "2023-03-02T09:11:41.927Z"
   },
   {
    "duration": 3,
    "start_time": "2023-03-02T09:12:50.236Z"
   },
   {
    "duration": 25,
    "start_time": "2023-03-02T09:13:39.841Z"
   },
   {
    "duration": 23,
    "start_time": "2023-03-02T09:15:29.013Z"
   },
   {
    "duration": 21,
    "start_time": "2023-03-02T09:16:00.985Z"
   },
   {
    "duration": 7,
    "start_time": "2023-03-02T09:16:32.306Z"
   },
   {
    "duration": 20,
    "start_time": "2023-03-02T09:17:27.676Z"
   },
   {
    "duration": 26,
    "start_time": "2023-03-02T09:17:50.217Z"
   },
   {
    "duration": 1979,
    "start_time": "2023-03-02T09:27:19.658Z"
   },
   {
    "duration": 1858,
    "start_time": "2023-03-02T09:27:58.257Z"
   },
   {
    "duration": 1914,
    "start_time": "2023-03-02T09:28:13.307Z"
   },
   {
    "duration": 485,
    "start_time": "2023-03-02T09:29:21.908Z"
   },
   {
    "duration": 419,
    "start_time": "2023-03-02T09:30:09.697Z"
   },
   {
    "duration": 400,
    "start_time": "2023-03-02T09:30:25.688Z"
   },
   {
    "duration": 6,
    "start_time": "2023-03-02T09:30:51.665Z"
   },
   {
    "duration": 11,
    "start_time": "2023-03-02T09:31:38.829Z"
   },
   {
    "duration": 15,
    "start_time": "2023-03-02T09:31:45.737Z"
   },
   {
    "duration": 6,
    "start_time": "2023-03-02T09:31:50.087Z"
   },
   {
    "duration": 12,
    "start_time": "2023-03-02T09:33:13.636Z"
   },
   {
    "duration": 3737,
    "start_time": "2023-03-02T09:33:22.277Z"
   },
   {
    "duration": 48,
    "start_time": "2023-03-02T09:34:28.697Z"
   },
   {
    "duration": 54,
    "start_time": "2023-03-02T09:34:45.067Z"
   },
   {
    "duration": 40,
    "start_time": "2023-03-02T09:35:24.391Z"
   },
   {
    "duration": 21,
    "start_time": "2023-03-02T09:36:34.644Z"
   },
   {
    "duration": 20,
    "start_time": "2023-03-02T09:36:40.595Z"
   },
   {
    "duration": 29,
    "start_time": "2023-03-02T09:36:47.933Z"
   },
   {
    "duration": 24,
    "start_time": "2023-03-02T09:36:54.123Z"
   },
   {
    "duration": 23,
    "start_time": "2023-03-02T09:37:01.754Z"
   },
   {
    "duration": 28,
    "start_time": "2023-03-02T09:37:30.685Z"
   },
   {
    "duration": 24,
    "start_time": "2023-03-02T09:37:39.939Z"
   },
   {
    "duration": 11,
    "start_time": "2023-03-02T09:39:30.876Z"
   },
   {
    "duration": 45,
    "start_time": "2023-03-02T09:39:39.147Z"
   },
   {
    "duration": 131,
    "start_time": "2023-03-02T09:40:37.248Z"
   },
   {
    "duration": 148,
    "start_time": "2023-03-02T09:40:51.172Z"
   },
   {
    "duration": 360,
    "start_time": "2023-03-02T09:41:03.646Z"
   },
   {
    "duration": 211,
    "start_time": "2023-03-02T09:45:33.467Z"
   },
   {
    "duration": 192,
    "start_time": "2023-03-02T09:46:01.687Z"
   },
   {
    "duration": 293,
    "start_time": "2023-03-02T09:47:35.507Z"
   },
   {
    "duration": 212,
    "start_time": "2023-03-02T09:47:56.739Z"
   },
   {
    "duration": 220,
    "start_time": "2023-03-02T09:48:40.678Z"
   },
   {
    "duration": 225,
    "start_time": "2023-03-02T09:48:59.942Z"
   },
   {
    "duration": 234,
    "start_time": "2023-03-02T09:49:21.458Z"
   },
   {
    "duration": 229,
    "start_time": "2023-03-02T09:49:38.074Z"
   },
   {
    "duration": 20,
    "start_time": "2023-03-02T09:50:39.596Z"
   },
   {
    "duration": 244,
    "start_time": "2023-03-02T09:51:10.839Z"
   },
   {
    "duration": 36,
    "start_time": "2023-03-02T09:51:48.680Z"
   },
   {
    "duration": 2470,
    "start_time": "2023-03-02T09:51:51.840Z"
   },
   {
    "duration": 410,
    "start_time": "2023-03-02T09:52:53.849Z"
   },
   {
    "duration": 3688,
    "start_time": "2023-03-02T10:01:59.320Z"
   },
   {
    "duration": 904,
    "start_time": "2023-03-02T10:02:03.014Z"
   },
   {
    "duration": 157,
    "start_time": "2023-03-02T10:02:03.921Z"
   },
   {
    "duration": 7,
    "start_time": "2023-03-02T10:02:04.080Z"
   },
   {
    "duration": 57,
    "start_time": "2023-03-02T10:02:04.090Z"
   },
   {
    "duration": 105,
    "start_time": "2023-03-02T10:02:04.149Z"
   },
   {
    "duration": 140,
    "start_time": "2023-03-02T10:02:04.255Z"
   },
   {
    "duration": 221,
    "start_time": "2023-03-02T10:02:04.397Z"
   },
   {
    "duration": 222,
    "start_time": "2023-03-02T10:02:04.623Z"
   },
   {
    "duration": 23,
    "start_time": "2023-03-02T10:02:04.847Z"
   },
   {
    "duration": 54,
    "start_time": "2023-03-02T10:02:04.872Z"
   },
   {
    "duration": 21,
    "start_time": "2023-03-02T10:02:04.929Z"
   },
   {
    "duration": 24,
    "start_time": "2023-03-02T10:02:04.952Z"
   },
   {
    "duration": 57,
    "start_time": "2023-03-02T10:02:04.979Z"
   },
   {
    "duration": 7,
    "start_time": "2023-03-02T10:02:05.038Z"
   },
   {
    "duration": 17,
    "start_time": "2023-03-02T10:02:05.047Z"
   },
   {
    "duration": 292,
    "start_time": "2023-03-02T10:02:05.066Z"
   },
   {
    "duration": 65,
    "start_time": "2023-03-02T10:02:05.360Z"
   },
   {
    "duration": 33,
    "start_time": "2023-03-02T10:05:05.337Z"
   },
   {
    "duration": 6,
    "start_time": "2023-03-02T10:05:27.023Z"
   },
   {
    "duration": 21,
    "start_time": "2023-03-02T10:05:33.480Z"
   },
   {
    "duration": 250,
    "start_time": "2023-03-02T10:05:39.488Z"
   },
   {
    "duration": 554,
    "start_time": "2023-03-02T10:05:54.641Z"
   },
   {
    "duration": 151,
    "start_time": "2023-03-02T10:07:01.979Z"
   },
   {
    "duration": 21547,
    "start_time": "2023-03-02T10:07:09.221Z"
   },
   {
    "duration": 2759,
    "start_time": "2023-03-02T10:08:23.564Z"
   },
   {
    "duration": 4182,
    "start_time": "2023-03-02T10:09:16.930Z"
   },
   {
    "duration": 2673,
    "start_time": "2023-03-02T10:09:32.749Z"
   },
   {
    "duration": 2734,
    "start_time": "2023-03-02T10:10:35.628Z"
   },
   {
    "duration": 136,
    "start_time": "2023-03-02T10:11:50.333Z"
   },
   {
    "duration": 135,
    "start_time": "2023-03-02T10:12:10.317Z"
   },
   {
    "duration": 251,
    "start_time": "2023-03-02T10:12:58.713Z"
   },
   {
    "duration": 258,
    "start_time": "2023-03-02T10:14:18.644Z"
   },
   {
    "duration": 416,
    "start_time": "2023-03-02T10:14:46.557Z"
   },
   {
    "duration": 511,
    "start_time": "2023-03-02T10:17:11.243Z"
   },
   {
    "duration": 506,
    "start_time": "2023-03-02T10:17:19.276Z"
   },
   {
    "duration": 515,
    "start_time": "2023-03-02T10:18:00.226Z"
   },
   {
    "duration": 24,
    "start_time": "2023-03-02T10:18:33.391Z"
   },
   {
    "duration": 123,
    "start_time": "2023-03-02T10:18:39.205Z"
   },
   {
    "duration": 110,
    "start_time": "2023-03-02T10:18:59.270Z"
   },
   {
    "duration": 108,
    "start_time": "2023-03-02T10:19:04.232Z"
   },
   {
    "duration": 106,
    "start_time": "2023-03-02T10:19:13.426Z"
   },
   {
    "duration": 8,
    "start_time": "2023-03-02T10:19:46.430Z"
   },
   {
    "duration": 240,
    "start_time": "2023-03-02T10:23:16.149Z"
   },
   {
    "duration": 23,
    "start_time": "2023-03-02T10:26:04.869Z"
   },
   {
    "duration": 22,
    "start_time": "2023-03-02T10:26:17.531Z"
   },
   {
    "duration": 24,
    "start_time": "2023-03-02T10:26:24.958Z"
   },
   {
    "duration": 30,
    "start_time": "2023-03-02T10:27:22.866Z"
   },
   {
    "duration": 31,
    "start_time": "2023-03-02T10:27:29.949Z"
   },
   {
    "duration": 33,
    "start_time": "2023-03-02T10:28:45.954Z"
   },
   {
    "duration": 25,
    "start_time": "2023-03-02T10:28:55.980Z"
   },
   {
    "duration": 483,
    "start_time": "2023-03-02T10:33:52.597Z"
   },
   {
    "duration": 272,
    "start_time": "2023-03-02T10:36:31.843Z"
   },
   {
    "duration": 271,
    "start_time": "2023-03-02T10:36:59.463Z"
   },
   {
    "duration": 271,
    "start_time": "2023-03-02T10:37:14.580Z"
   },
   {
    "duration": 451,
    "start_time": "2023-03-02T10:40:21.049Z"
   },
   {
    "duration": 5,
    "start_time": "2023-03-02T10:42:11.699Z"
   },
   {
    "duration": 1745,
    "start_time": "2023-03-02T10:45:07.587Z"
   },
   {
    "duration": 504,
    "start_time": "2023-03-02T10:45:24.829Z"
   },
   {
    "duration": 506,
    "start_time": "2023-03-02T10:47:26.529Z"
   },
   {
    "duration": 489,
    "start_time": "2023-03-02T10:47:45.880Z"
   },
   {
    "duration": 628,
    "start_time": "2023-03-02T10:48:10.138Z"
   },
   {
    "duration": 915,
    "start_time": "2023-03-02T10:48:16.750Z"
   },
   {
    "duration": 702,
    "start_time": "2023-03-02T10:48:28.344Z"
   },
   {
    "duration": 880,
    "start_time": "2023-03-02T10:48:36.435Z"
   },
   {
    "duration": 619,
    "start_time": "2023-03-02T10:49:26.082Z"
   },
   {
    "duration": 184,
    "start_time": "2023-03-02T10:50:48.642Z"
   },
   {
    "duration": 203,
    "start_time": "2023-03-02T10:51:05.043Z"
   },
   {
    "duration": 585,
    "start_time": "2023-03-02T10:51:38.340Z"
   },
   {
    "duration": 398,
    "start_time": "2023-03-02T10:51:38.927Z"
   },
   {
    "duration": 702,
    "start_time": "2023-03-02T10:53:54.358Z"
   },
   {
    "duration": 40,
    "start_time": "2023-03-03T11:33:43.977Z"
   },
   {
    "duration": 7951,
    "start_time": "2023-03-03T11:33:53.411Z"
   },
   {
    "duration": 2881,
    "start_time": "2023-03-03T11:34:01.364Z"
   },
   {
    "duration": 109,
    "start_time": "2023-03-03T11:34:04.246Z"
   },
   {
    "duration": 6,
    "start_time": "2023-03-03T11:34:04.357Z"
   },
   {
    "duration": 26,
    "start_time": "2023-03-03T11:34:04.365Z"
   },
   {
    "duration": 80,
    "start_time": "2023-03-03T11:34:04.393Z"
   },
   {
    "duration": 103,
    "start_time": "2023-03-03T11:34:04.474Z"
   },
   {
    "duration": 167,
    "start_time": "2023-03-03T11:34:04.578Z"
   },
   {
    "duration": 169,
    "start_time": "2023-03-03T11:34:04.747Z"
   },
   {
    "duration": 24,
    "start_time": "2023-03-03T11:34:04.917Z"
   },
   {
    "duration": 19,
    "start_time": "2023-03-03T11:34:04.942Z"
   },
   {
    "duration": 16,
    "start_time": "2023-03-03T11:34:04.962Z"
   },
   {
    "duration": 17,
    "start_time": "2023-03-03T11:34:04.979Z"
   },
   {
    "duration": 46,
    "start_time": "2023-03-03T11:34:04.998Z"
   },
   {
    "duration": 7,
    "start_time": "2023-03-03T11:34:05.046Z"
   },
   {
    "duration": 20,
    "start_time": "2023-03-03T11:34:05.054Z"
   },
   {
    "duration": 208,
    "start_time": "2023-03-03T11:34:05.076Z"
   },
   {
    "duration": 33,
    "start_time": "2023-03-03T11:34:05.286Z"
   },
   {
    "duration": 463,
    "start_time": "2023-03-03T11:34:05.320Z"
   },
   {
    "duration": 6,
    "start_time": "2023-03-03T11:34:05.784Z"
   },
   {
    "duration": 106,
    "start_time": "2023-03-03T11:34:05.792Z"
   },
   {
    "duration": 28,
    "start_time": "2023-03-03T11:34:05.899Z"
   },
   {
    "duration": 325,
    "start_time": "2023-03-03T11:34:05.929Z"
   },
   {
    "duration": 316,
    "start_time": "2023-03-03T11:34:06.256Z"
   },
   {
    "duration": 277,
    "start_time": "2023-03-03T11:34:06.574Z"
   },
   {
    "duration": 90,
    "start_time": "2023-03-03T11:36:29.872Z"
   },
   {
    "duration": 43,
    "start_time": "2023-03-03T11:50:07.275Z"
   },
   {
    "duration": 15,
    "start_time": "2023-03-03T11:53:11.038Z"
   },
   {
    "duration": 6,
    "start_time": "2023-03-03T11:53:56.995Z"
   },
   {
    "duration": 13,
    "start_time": "2023-03-03T11:54:22.821Z"
   },
   {
    "duration": 13,
    "start_time": "2023-03-03T11:55:10.663Z"
   },
   {
    "duration": 663,
    "start_time": "2023-03-03T12:01:50.818Z"
   },
   {
    "duration": 505,
    "start_time": "2023-03-03T12:03:23.887Z"
   },
   {
    "duration": 2880,
    "start_time": "2023-03-03T12:03:42.382Z"
   },
   {
    "duration": 693,
    "start_time": "2023-03-03T12:03:45.264Z"
   },
   {
    "duration": 109,
    "start_time": "2023-03-03T12:03:45.958Z"
   },
   {
    "duration": 5,
    "start_time": "2023-03-03T12:03:46.068Z"
   },
   {
    "duration": 28,
    "start_time": "2023-03-03T12:03:46.075Z"
   },
   {
    "duration": 88,
    "start_time": "2023-03-03T12:03:46.105Z"
   },
   {
    "duration": 105,
    "start_time": "2023-03-03T12:03:46.194Z"
   },
   {
    "duration": 176,
    "start_time": "2023-03-03T12:03:46.300Z"
   },
   {
    "duration": 187,
    "start_time": "2023-03-03T12:03:46.478Z"
   },
   {
    "duration": 18,
    "start_time": "2023-03-03T12:03:46.667Z"
   },
   {
    "duration": 22,
    "start_time": "2023-03-03T12:03:46.686Z"
   },
   {
    "duration": 35,
    "start_time": "2023-03-03T12:03:46.710Z"
   },
   {
    "duration": 18,
    "start_time": "2023-03-03T12:03:46.746Z"
   },
   {
    "duration": 18,
    "start_time": "2023-03-03T12:03:46.766Z"
   },
   {
    "duration": 5,
    "start_time": "2023-03-03T12:03:46.786Z"
   },
   {
    "duration": 48,
    "start_time": "2023-03-03T12:03:46.793Z"
   },
   {
    "duration": 215,
    "start_time": "2023-03-03T12:03:46.844Z"
   },
   {
    "duration": 34,
    "start_time": "2023-03-03T12:03:47.061Z"
   },
   {
    "duration": 475,
    "start_time": "2023-03-03T12:03:47.096Z"
   },
   {
    "duration": 14,
    "start_time": "2023-03-03T12:03:47.573Z"
   },
   {
    "duration": 7,
    "start_time": "2023-03-03T12:03:47.588Z"
   },
   {
    "duration": 113,
    "start_time": "2023-03-03T12:03:47.596Z"
   },
   {
    "duration": 41,
    "start_time": "2023-03-03T12:03:47.711Z"
   },
   {
    "duration": 12,
    "start_time": "2023-03-03T12:03:47.754Z"
   },
   {
    "duration": 317,
    "start_time": "2023-03-03T12:03:47.767Z"
   },
   {
    "duration": 310,
    "start_time": "2023-03-03T12:03:48.086Z"
   },
   {
    "duration": 165,
    "start_time": "2023-03-03T12:03:48.397Z"
   },
   {
    "duration": 3,
    "start_time": "2023-03-03T12:03:48.564Z"
   },
   {
    "duration": 494,
    "start_time": "2023-03-03T12:03:48.569Z"
   },
   {
    "duration": 424,
    "start_time": "2023-03-03T12:03:49.065Z"
   },
   {
    "duration": 101,
    "start_time": "2023-03-03T12:46:30.513Z"
   },
   {
    "duration": 13,
    "start_time": "2023-03-03T12:46:37.638Z"
   },
   {
    "duration": 64,
    "start_time": "2023-03-03T12:46:40.871Z"
   },
   {
    "duration": 28,
    "start_time": "2023-03-03T15:16:08.039Z"
   },
   {
    "duration": 9,
    "start_time": "2023-03-03T15:21:24.829Z"
   },
   {
    "duration": 18,
    "start_time": "2023-03-03T15:21:45.887Z"
   },
   {
    "duration": 2,
    "start_time": "2023-03-03T15:22:22.111Z"
   },
   {
    "duration": 21,
    "start_time": "2023-03-03T15:23:26.086Z"
   },
   {
    "duration": 2914,
    "start_time": "2023-03-03T15:24:12.274Z"
   },
   {
    "duration": 736,
    "start_time": "2023-03-03T15:24:15.190Z"
   },
   {
    "duration": 116,
    "start_time": "2023-03-03T15:24:15.928Z"
   },
   {
    "duration": 5,
    "start_time": "2023-03-03T15:24:16.046Z"
   },
   {
    "duration": 27,
    "start_time": "2023-03-03T15:24:16.053Z"
   },
   {
    "duration": 100,
    "start_time": "2023-03-03T15:24:16.082Z"
   },
   {
    "duration": 129,
    "start_time": "2023-03-03T15:24:16.184Z"
   },
   {
    "duration": 203,
    "start_time": "2023-03-03T15:24:16.314Z"
   },
   {
    "duration": 224,
    "start_time": "2023-03-03T15:24:16.519Z"
   },
   {
    "duration": 23,
    "start_time": "2023-03-03T15:24:16.744Z"
   },
   {
    "duration": 23,
    "start_time": "2023-03-03T15:24:16.769Z"
   },
   {
    "duration": 20,
    "start_time": "2023-03-03T15:24:16.794Z"
   },
   {
    "duration": 21,
    "start_time": "2023-03-03T15:24:16.842Z"
   },
   {
    "duration": 24,
    "start_time": "2023-03-03T15:24:16.868Z"
   },
   {
    "duration": 6,
    "start_time": "2023-03-03T15:24:16.894Z"
   },
   {
    "duration": 18,
    "start_time": "2023-03-03T15:24:16.939Z"
   },
   {
    "duration": 260,
    "start_time": "2023-03-03T15:24:16.958Z"
   },
   {
    "duration": 53,
    "start_time": "2023-03-03T15:24:17.220Z"
   },
   {
    "duration": 562,
    "start_time": "2023-03-03T15:24:17.275Z"
   },
   {
    "duration": 17,
    "start_time": "2023-03-03T15:24:17.839Z"
   },
   {
    "duration": 10,
    "start_time": "2023-03-03T15:24:17.857Z"
   },
   {
    "duration": 143,
    "start_time": "2023-03-03T15:24:17.869Z"
   },
   {
    "duration": 47,
    "start_time": "2023-03-03T15:24:18.014Z"
   },
   {
    "duration": 385,
    "start_time": "2023-03-03T15:24:18.063Z"
   },
   {
    "duration": 361,
    "start_time": "2023-03-03T15:24:18.450Z"
   },
   {
    "duration": 202,
    "start_time": "2023-03-03T15:24:18.813Z"
   },
   {
    "duration": 602,
    "start_time": "2023-03-03T15:24:19.017Z"
   },
   {
    "duration": 403,
    "start_time": "2023-03-03T15:24:19.621Z"
   },
   {
    "duration": 20,
    "start_time": "2023-03-03T15:24:20.025Z"
   },
   {
    "duration": 81,
    "start_time": "2023-03-03T15:24:20.046Z"
   },
   {
    "duration": 25,
    "start_time": "2023-03-03T15:24:20.141Z"
   },
   {
    "duration": 187,
    "start_time": "2023-03-03T15:24:20.168Z"
   },
   {
    "duration": 2882,
    "start_time": "2023-03-03T15:25:48.485Z"
   },
   {
    "duration": 754,
    "start_time": "2023-03-03T15:25:51.369Z"
   },
   {
    "duration": 119,
    "start_time": "2023-03-03T15:25:52.125Z"
   },
   {
    "duration": 7,
    "start_time": "2023-03-03T15:25:52.246Z"
   },
   {
    "duration": 28,
    "start_time": "2023-03-03T15:25:52.255Z"
   },
   {
    "duration": 88,
    "start_time": "2023-03-03T15:25:52.284Z"
   },
   {
    "duration": 130,
    "start_time": "2023-03-03T15:25:52.374Z"
   },
   {
    "duration": 204,
    "start_time": "2023-03-03T15:25:52.505Z"
   },
   {
    "duration": 188,
    "start_time": "2023-03-03T15:25:52.711Z"
   },
   {
    "duration": 19,
    "start_time": "2023-03-03T15:25:52.900Z"
   },
   {
    "duration": 32,
    "start_time": "2023-03-03T15:25:52.920Z"
   },
   {
    "duration": 17,
    "start_time": "2023-03-03T15:25:52.954Z"
   },
   {
    "duration": 20,
    "start_time": "2023-03-03T15:25:52.972Z"
   },
   {
    "duration": 46,
    "start_time": "2023-03-03T15:25:52.996Z"
   },
   {
    "duration": 7,
    "start_time": "2023-03-03T15:25:53.044Z"
   },
   {
    "duration": 16,
    "start_time": "2023-03-03T15:25:53.053Z"
   },
   {
    "duration": 246,
    "start_time": "2023-03-03T15:25:53.071Z"
   },
   {
    "duration": 47,
    "start_time": "2023-03-03T15:25:53.319Z"
   },
   {
    "duration": 490,
    "start_time": "2023-03-03T15:25:53.368Z"
   },
   {
    "duration": 16,
    "start_time": "2023-03-03T15:25:53.860Z"
   },
   {
    "duration": 7,
    "start_time": "2023-03-03T15:25:53.877Z"
   },
   {
    "duration": 121,
    "start_time": "2023-03-03T15:25:53.886Z"
   },
   {
    "duration": 40,
    "start_time": "2023-03-03T15:25:54.009Z"
   },
   {
    "duration": 334,
    "start_time": "2023-03-03T15:25:54.050Z"
   },
   {
    "duration": 328,
    "start_time": "2023-03-03T15:25:54.386Z"
   },
   {
    "duration": 173,
    "start_time": "2023-03-03T15:25:54.715Z"
   },
   {
    "duration": 522,
    "start_time": "2023-03-03T15:25:54.890Z"
   },
   {
    "duration": 410,
    "start_time": "2023-03-03T15:25:55.413Z"
   },
   {
    "duration": 19,
    "start_time": "2023-03-03T15:25:55.825Z"
   },
   {
    "duration": 63,
    "start_time": "2023-03-03T15:25:55.846Z"
   },
   {
    "duration": 39,
    "start_time": "2023-03-03T15:25:55.911Z"
   },
   {
    "duration": 130,
    "start_time": "2023-03-03T15:25:55.952Z"
   },
   {
    "duration": 0,
    "start_time": "2023-03-03T15:25:56.083Z"
   },
   {
    "duration": 3048,
    "start_time": "2023-03-03T15:26:26.212Z"
   },
   {
    "duration": 765,
    "start_time": "2023-03-03T15:26:29.263Z"
   },
   {
    "duration": 123,
    "start_time": "2023-03-03T15:26:30.030Z"
   },
   {
    "duration": 6,
    "start_time": "2023-03-03T15:26:30.155Z"
   },
   {
    "duration": 52,
    "start_time": "2023-03-03T15:26:30.163Z"
   },
   {
    "duration": 87,
    "start_time": "2023-03-03T15:26:30.216Z"
   },
   {
    "duration": 107,
    "start_time": "2023-03-03T15:26:30.304Z"
   },
   {
    "duration": 184,
    "start_time": "2023-03-03T15:26:30.412Z"
   },
   {
    "duration": 199,
    "start_time": "2023-03-03T15:26:30.598Z"
   },
   {
    "duration": 21,
    "start_time": "2023-03-03T15:26:30.800Z"
   },
   {
    "duration": 49,
    "start_time": "2023-03-03T15:26:30.823Z"
   },
   {
    "duration": 59,
    "start_time": "2023-03-03T15:26:30.874Z"
   },
   {
    "duration": 28,
    "start_time": "2023-03-03T15:26:30.935Z"
   },
   {
    "duration": 27,
    "start_time": "2023-03-03T15:26:30.966Z"
   },
   {
    "duration": 31,
    "start_time": "2023-03-03T15:26:30.995Z"
   },
   {
    "duration": 42,
    "start_time": "2023-03-03T15:26:31.028Z"
   },
   {
    "duration": 218,
    "start_time": "2023-03-03T15:26:31.072Z"
   },
   {
    "duration": 49,
    "start_time": "2023-03-03T15:26:31.292Z"
   },
   {
    "duration": 493,
    "start_time": "2023-03-03T15:26:31.343Z"
   },
   {
    "duration": 18,
    "start_time": "2023-03-03T15:26:31.838Z"
   },
   {
    "duration": 8,
    "start_time": "2023-03-03T15:26:31.858Z"
   },
   {
    "duration": 130,
    "start_time": "2023-03-03T15:26:31.867Z"
   },
   {
    "duration": 45,
    "start_time": "2023-03-03T15:26:31.998Z"
   },
   {
    "duration": 339,
    "start_time": "2023-03-03T15:26:32.045Z"
   },
   {
    "duration": 360,
    "start_time": "2023-03-03T15:26:32.386Z"
   },
   {
    "duration": 179,
    "start_time": "2023-03-03T15:26:32.748Z"
   },
   {
    "duration": 540,
    "start_time": "2023-03-03T15:26:32.929Z"
   },
   {
    "duration": 480,
    "start_time": "2023-03-03T15:26:33.471Z"
   },
   {
    "duration": 16,
    "start_time": "2023-03-03T15:26:33.953Z"
   },
   {
    "duration": 87,
    "start_time": "2023-03-03T15:26:33.970Z"
   },
   {
    "duration": 30,
    "start_time": "2023-03-03T15:26:34.059Z"
   },
   {
    "duration": 168,
    "start_time": "2023-03-03T15:26:34.091Z"
   },
   {
    "duration": 0,
    "start_time": "2023-03-03T15:26:34.262Z"
   },
   {
    "duration": 10,
    "start_time": "2023-03-03T15:28:34.496Z"
   },
   {
    "duration": 608,
    "start_time": "2023-03-03T15:28:50.102Z"
   },
   {
    "duration": 774,
    "start_time": "2023-03-03T15:29:20.730Z"
   },
   {
    "duration": 3091,
    "start_time": "2023-03-03T15:30:37.933Z"
   },
   {
    "duration": 740,
    "start_time": "2023-03-03T15:30:41.026Z"
   },
   {
    "duration": 116,
    "start_time": "2023-03-03T15:30:41.767Z"
   },
   {
    "duration": 5,
    "start_time": "2023-03-03T15:30:41.885Z"
   },
   {
    "duration": 31,
    "start_time": "2023-03-03T15:30:41.891Z"
   },
   {
    "duration": 78,
    "start_time": "2023-03-03T15:30:41.924Z"
   },
   {
    "duration": 120,
    "start_time": "2023-03-03T15:30:42.004Z"
   },
   {
    "duration": 177,
    "start_time": "2023-03-03T15:30:42.126Z"
   },
   {
    "duration": 206,
    "start_time": "2023-03-03T15:30:42.304Z"
   },
   {
    "duration": 32,
    "start_time": "2023-03-03T15:30:42.513Z"
   },
   {
    "duration": 21,
    "start_time": "2023-03-03T15:30:42.546Z"
   },
   {
    "duration": 16,
    "start_time": "2023-03-03T15:30:42.568Z"
   },
   {
    "duration": 18,
    "start_time": "2023-03-03T15:30:42.586Z"
   },
   {
    "duration": 49,
    "start_time": "2023-03-03T15:30:42.605Z"
   },
   {
    "duration": 5,
    "start_time": "2023-03-03T15:30:42.655Z"
   },
   {
    "duration": 15,
    "start_time": "2023-03-03T15:30:42.661Z"
   },
   {
    "duration": 239,
    "start_time": "2023-03-03T15:30:42.677Z"
   },
   {
    "duration": 41,
    "start_time": "2023-03-03T15:30:42.918Z"
   },
   {
    "duration": 488,
    "start_time": "2023-03-03T15:30:42.960Z"
   },
   {
    "duration": 15,
    "start_time": "2023-03-03T15:30:43.450Z"
   },
   {
    "duration": 7,
    "start_time": "2023-03-03T15:30:43.466Z"
   },
   {
    "duration": 123,
    "start_time": "2023-03-03T15:30:43.474Z"
   },
   {
    "duration": 45,
    "start_time": "2023-03-03T15:30:43.599Z"
   },
   {
    "duration": 317,
    "start_time": "2023-03-03T15:30:43.645Z"
   },
   {
    "duration": 319,
    "start_time": "2023-03-03T15:30:43.964Z"
   },
   {
    "duration": 176,
    "start_time": "2023-03-03T15:30:44.285Z"
   },
   {
    "duration": 510,
    "start_time": "2023-03-03T15:30:44.462Z"
   },
   {
    "duration": 445,
    "start_time": "2023-03-03T15:30:44.974Z"
   },
   {
    "duration": 20,
    "start_time": "2023-03-03T15:30:45.420Z"
   },
   {
    "duration": 65,
    "start_time": "2023-03-03T15:30:45.442Z"
   },
   {
    "duration": 36,
    "start_time": "2023-03-03T15:30:45.509Z"
   },
   {
    "duration": 113,
    "start_time": "2023-03-03T15:30:45.547Z"
   },
   {
    "duration": 8,
    "start_time": "2023-03-03T15:31:59.108Z"
   },
   {
    "duration": 16,
    "start_time": "2023-03-03T15:32:10.778Z"
   },
   {
    "duration": 13,
    "start_time": "2023-03-03T15:32:45.806Z"
   },
   {
    "duration": 7,
    "start_time": "2023-03-03T15:33:45.494Z"
   },
   {
    "duration": 539,
    "start_time": "2023-03-03T15:34:22.607Z"
   },
   {
    "duration": 9,
    "start_time": "2023-03-03T15:36:10.883Z"
   },
   {
    "duration": 192,
    "start_time": "2023-03-03T15:36:23.717Z"
   },
   {
    "duration": 10,
    "start_time": "2023-03-03T15:38:27.179Z"
   },
   {
    "duration": 10,
    "start_time": "2023-03-03T15:39:27.364Z"
   },
   {
    "duration": 12,
    "start_time": "2023-03-03T15:39:36.894Z"
   },
   {
    "duration": 4,
    "start_time": "2023-03-03T15:40:20.697Z"
   },
   {
    "duration": 893,
    "start_time": "2023-03-03T15:40:42.396Z"
   },
   {
    "duration": 829,
    "start_time": "2023-03-03T15:40:43.291Z"
   },
   {
    "duration": 126,
    "start_time": "2023-03-03T15:40:44.121Z"
   },
   {
    "duration": 14,
    "start_time": "2023-03-03T15:40:44.255Z"
   },
   {
    "duration": 27,
    "start_time": "2023-03-03T15:40:44.271Z"
   },
   {
    "duration": 77,
    "start_time": "2023-03-03T15:40:44.300Z"
   },
   {
    "duration": 116,
    "start_time": "2023-03-03T15:40:44.379Z"
   },
   {
    "duration": 178,
    "start_time": "2023-03-03T15:40:44.497Z"
   },
   {
    "duration": 203,
    "start_time": "2023-03-03T15:40:44.676Z"
   },
   {
    "duration": 19,
    "start_time": "2023-03-03T15:40:44.880Z"
   },
   {
    "duration": 19,
    "start_time": "2023-03-03T15:40:44.900Z"
   },
   {
    "duration": 48,
    "start_time": "2023-03-03T15:40:44.920Z"
   },
   {
    "duration": 19,
    "start_time": "2023-03-03T15:40:44.970Z"
   },
   {
    "duration": 18,
    "start_time": "2023-03-03T15:40:44.992Z"
   },
   {
    "duration": 24,
    "start_time": "2023-03-03T15:40:45.011Z"
   },
   {
    "duration": 34,
    "start_time": "2023-03-03T15:40:45.036Z"
   },
   {
    "duration": 100,
    "start_time": "2023-03-03T15:40:45.072Z"
   },
   {
    "duration": 0,
    "start_time": "2023-03-03T15:40:45.173Z"
   },
   {
    "duration": 0,
    "start_time": "2023-03-03T15:40:45.174Z"
   },
   {
    "duration": 0,
    "start_time": "2023-03-03T15:40:45.175Z"
   },
   {
    "duration": 0,
    "start_time": "2023-03-03T15:40:45.176Z"
   },
   {
    "duration": 0,
    "start_time": "2023-03-03T15:40:45.177Z"
   },
   {
    "duration": 0,
    "start_time": "2023-03-03T15:40:45.178Z"
   },
   {
    "duration": 0,
    "start_time": "2023-03-03T15:40:45.179Z"
   },
   {
    "duration": 0,
    "start_time": "2023-03-03T15:40:45.181Z"
   },
   {
    "duration": 0,
    "start_time": "2023-03-03T15:40:45.181Z"
   },
   {
    "duration": 0,
    "start_time": "2023-03-03T15:40:45.183Z"
   },
   {
    "duration": 0,
    "start_time": "2023-03-03T15:40:45.184Z"
   },
   {
    "duration": 0,
    "start_time": "2023-03-03T15:40:45.184Z"
   },
   {
    "duration": 0,
    "start_time": "2023-03-03T15:40:45.185Z"
   },
   {
    "duration": 0,
    "start_time": "2023-03-03T15:40:45.187Z"
   },
   {
    "duration": 0,
    "start_time": "2023-03-03T15:40:45.188Z"
   },
   {
    "duration": 0,
    "start_time": "2023-03-03T15:40:45.188Z"
   },
   {
    "duration": 0,
    "start_time": "2023-03-03T15:40:45.189Z"
   },
   {
    "duration": 0,
    "start_time": "2023-03-03T15:40:45.191Z"
   },
   {
    "duration": 0,
    "start_time": "2023-03-03T15:40:45.192Z"
   },
   {
    "duration": 288,
    "start_time": "2023-03-03T15:41:58.844Z"
   },
   {
    "duration": 1129,
    "start_time": "2023-03-03T15:42:10.001Z"
   },
   {
    "duration": 846,
    "start_time": "2023-03-03T15:42:11.132Z"
   },
   {
    "duration": 118,
    "start_time": "2023-03-03T15:42:11.980Z"
   },
   {
    "duration": 5,
    "start_time": "2023-03-03T15:42:12.100Z"
   },
   {
    "duration": 45,
    "start_time": "2023-03-03T15:42:12.107Z"
   },
   {
    "duration": 80,
    "start_time": "2023-03-03T15:42:12.154Z"
   },
   {
    "duration": 121,
    "start_time": "2023-03-03T15:42:12.236Z"
   },
   {
    "duration": 222,
    "start_time": "2023-03-03T15:42:12.363Z"
   },
   {
    "duration": 210,
    "start_time": "2023-03-03T15:42:12.587Z"
   },
   {
    "duration": 18,
    "start_time": "2023-03-03T15:42:12.799Z"
   },
   {
    "duration": 48,
    "start_time": "2023-03-03T15:42:12.819Z"
   },
   {
    "duration": 21,
    "start_time": "2023-03-03T15:42:12.869Z"
   },
   {
    "duration": 21,
    "start_time": "2023-03-03T15:42:12.892Z"
   },
   {
    "duration": 21,
    "start_time": "2023-03-03T15:42:12.915Z"
   },
   {
    "duration": 8,
    "start_time": "2023-03-03T15:42:12.942Z"
   },
   {
    "duration": 35,
    "start_time": "2023-03-03T15:42:12.951Z"
   },
   {
    "duration": 214,
    "start_time": "2023-03-03T15:42:12.987Z"
   },
   {
    "duration": 50,
    "start_time": "2023-03-03T15:42:13.203Z"
   },
   {
    "duration": 529,
    "start_time": "2023-03-03T15:42:13.261Z"
   },
   {
    "duration": 15,
    "start_time": "2023-03-03T15:42:13.792Z"
   },
   {
    "duration": 6,
    "start_time": "2023-03-03T15:42:13.809Z"
   },
   {
    "duration": 151,
    "start_time": "2023-03-03T15:42:13.816Z"
   },
   {
    "duration": 28,
    "start_time": "2023-03-03T15:42:13.969Z"
   },
   {
    "duration": 425,
    "start_time": "2023-03-03T15:42:13.999Z"
   },
   {
    "duration": 271,
    "start_time": "2023-03-03T15:42:14.425Z"
   },
   {
    "duration": 190,
    "start_time": "2023-03-03T15:42:14.698Z"
   },
   {
    "duration": 573,
    "start_time": "2023-03-03T15:42:14.890Z"
   },
   {
    "duration": 385,
    "start_time": "2023-03-03T15:42:15.470Z"
   },
   {
    "duration": 16,
    "start_time": "2023-03-03T15:42:15.857Z"
   },
   {
    "duration": 82,
    "start_time": "2023-03-03T15:42:15.875Z"
   },
   {
    "duration": 29,
    "start_time": "2023-03-03T15:42:15.958Z"
   },
   {
    "duration": 17,
    "start_time": "2023-03-03T15:42:15.988Z"
   },
   {
    "duration": 13,
    "start_time": "2023-03-03T15:42:16.007Z"
   },
   {
    "duration": 607,
    "start_time": "2023-03-03T15:42:16.021Z"
   },
   {
    "duration": 207,
    "start_time": "2023-03-03T15:42:16.629Z"
   },
   {
    "duration": 131,
    "start_time": "2023-03-03T15:42:16.842Z"
   },
   {
    "duration": 191126,
    "start_time": "2023-03-03T15:42:42.581Z"
   },
   {
    "duration": 36,
    "start_time": "2023-03-03T15:56:00.580Z"
   },
   {
    "duration": 1267,
    "start_time": "2023-03-03T15:56:49.398Z"
   },
   {
    "duration": 917,
    "start_time": "2023-03-03T15:56:50.668Z"
   },
   {
    "duration": 136,
    "start_time": "2023-03-03T15:56:51.588Z"
   },
   {
    "duration": 16,
    "start_time": "2023-03-03T15:56:51.726Z"
   },
   {
    "duration": 48,
    "start_time": "2023-03-03T15:56:51.745Z"
   },
   {
    "duration": 98,
    "start_time": "2023-03-03T15:56:51.795Z"
   },
   {
    "duration": 129,
    "start_time": "2023-03-03T15:56:51.895Z"
   },
   {
    "duration": 198,
    "start_time": "2023-03-03T15:56:52.026Z"
   },
   {
    "duration": 229,
    "start_time": "2023-03-03T15:56:52.226Z"
   },
   {
    "duration": 27,
    "start_time": "2023-03-03T15:56:52.465Z"
   },
   {
    "duration": 60,
    "start_time": "2023-03-03T15:56:52.495Z"
   },
   {
    "duration": 65,
    "start_time": "2023-03-03T15:56:52.557Z"
   },
   {
    "duration": 61,
    "start_time": "2023-03-03T15:56:52.624Z"
   },
   {
    "duration": 28,
    "start_time": "2023-03-03T15:56:52.688Z"
   },
   {
    "duration": 15,
    "start_time": "2023-03-03T15:56:52.718Z"
   },
   {
    "duration": 42,
    "start_time": "2023-03-03T15:56:52.734Z"
   },
   {
    "duration": 266,
    "start_time": "2023-03-03T15:56:52.778Z"
   },
   {
    "duration": 43,
    "start_time": "2023-03-03T15:56:53.046Z"
   },
   {
    "duration": 591,
    "start_time": "2023-03-03T15:56:53.091Z"
   },
   {
    "duration": 22,
    "start_time": "2023-03-03T15:56:53.684Z"
   },
   {
    "duration": 39,
    "start_time": "2023-03-03T15:56:53.708Z"
   },
   {
    "duration": 171,
    "start_time": "2023-03-03T15:56:53.749Z"
   },
   {
    "duration": 47,
    "start_time": "2023-03-03T15:56:53.923Z"
   },
   {
    "duration": 477,
    "start_time": "2023-03-03T15:56:53.972Z"
   },
   {
    "duration": 262,
    "start_time": "2023-03-03T15:56:54.451Z"
   },
   {
    "duration": 197,
    "start_time": "2023-03-03T15:56:54.715Z"
   },
   {
    "duration": 586,
    "start_time": "2023-03-03T15:56:54.914Z"
   },
   {
    "duration": 411,
    "start_time": "2023-03-03T15:56:55.503Z"
   },
   {
    "duration": 33,
    "start_time": "2023-03-03T15:56:55.916Z"
   },
   {
    "duration": 87,
    "start_time": "2023-03-03T15:56:55.958Z"
   },
   {
    "duration": 42,
    "start_time": "2023-03-03T15:56:56.049Z"
   },
   {
    "duration": 22,
    "start_time": "2023-03-03T15:56:56.093Z"
   },
   {
    "duration": 23,
    "start_time": "2023-03-03T15:56:56.117Z"
   },
   {
    "duration": 608,
    "start_time": "2023-03-03T15:56:56.147Z"
   },
   {
    "duration": 230,
    "start_time": "2023-03-03T15:56:56.756Z"
   },
   {
    "duration": 197573,
    "start_time": "2023-03-03T15:56:56.987Z"
   },
   {
    "duration": 1428,
    "start_time": "2023-03-03T16:04:31.637Z"
   },
   {
    "duration": 935,
    "start_time": "2023-03-03T16:04:33.069Z"
   },
   {
    "duration": 190,
    "start_time": "2023-03-03T16:04:34.006Z"
   },
   {
    "duration": 9,
    "start_time": "2023-03-03T16:04:34.204Z"
   },
   {
    "duration": 62,
    "start_time": "2023-03-03T16:04:34.216Z"
   },
   {
    "duration": 139,
    "start_time": "2023-03-03T16:04:34.280Z"
   },
   {
    "duration": 164,
    "start_time": "2023-03-03T16:04:34.421Z"
   },
   {
    "duration": 214,
    "start_time": "2023-03-03T16:04:34.590Z"
   },
   {
    "duration": 301,
    "start_time": "2023-03-03T16:04:34.806Z"
   },
   {
    "duration": 32,
    "start_time": "2023-03-03T16:04:35.110Z"
   },
   {
    "duration": 33,
    "start_time": "2023-03-03T16:04:35.144Z"
   },
   {
    "duration": 35,
    "start_time": "2023-03-03T16:04:35.179Z"
   },
   {
    "duration": 62,
    "start_time": "2023-03-03T16:04:35.216Z"
   },
   {
    "duration": 49,
    "start_time": "2023-03-03T16:04:35.282Z"
   },
   {
    "duration": 14,
    "start_time": "2023-03-03T16:04:35.334Z"
   },
   {
    "duration": 54,
    "start_time": "2023-03-03T16:04:35.350Z"
   },
   {
    "duration": 274,
    "start_time": "2023-03-03T16:04:35.406Z"
   },
   {
    "duration": 41,
    "start_time": "2023-03-03T16:04:35.682Z"
   },
   {
    "duration": 599,
    "start_time": "2023-03-03T16:04:35.724Z"
   },
   {
    "duration": 27,
    "start_time": "2023-03-03T16:04:36.325Z"
   },
   {
    "duration": 9,
    "start_time": "2023-03-03T16:04:36.354Z"
   },
   {
    "duration": 139,
    "start_time": "2023-03-03T16:04:36.368Z"
   },
   {
    "duration": 52,
    "start_time": "2023-03-03T16:04:36.511Z"
   },
   {
    "duration": 545,
    "start_time": "2023-03-03T16:04:36.570Z"
   },
   {
    "duration": 316,
    "start_time": "2023-03-03T16:04:37.117Z"
   },
   {
    "duration": 295,
    "start_time": "2023-03-03T16:04:37.436Z"
   },
   {
    "duration": 678,
    "start_time": "2023-03-03T16:04:37.733Z"
   },
   {
    "duration": 423,
    "start_time": "2023-03-03T16:04:38.413Z"
   },
   {
    "duration": 17,
    "start_time": "2023-03-03T16:04:38.837Z"
   },
   {
    "duration": 125,
    "start_time": "2023-03-03T16:04:38.862Z"
   },
   {
    "duration": 34,
    "start_time": "2023-03-03T16:04:38.990Z"
   },
   {
    "duration": 29,
    "start_time": "2023-03-03T16:04:39.027Z"
   },
   {
    "duration": 46,
    "start_time": "2023-03-03T16:04:39.058Z"
   },
   {
    "duration": 762,
    "start_time": "2023-03-03T16:04:39.106Z"
   },
   {
    "duration": 284,
    "start_time": "2023-03-03T16:04:39.869Z"
   },
   {
    "duration": 202421,
    "start_time": "2023-03-03T16:04:40.156Z"
   },
   {
    "duration": 1842,
    "start_time": "2023-03-04T09:39:47.798Z"
   },
   {
    "duration": 3001,
    "start_time": "2023-03-04T09:39:49.642Z"
   },
   {
    "duration": 145,
    "start_time": "2023-03-04T09:39:52.645Z"
   },
   {
    "duration": 6,
    "start_time": "2023-03-04T09:39:52.792Z"
   },
   {
    "duration": 44,
    "start_time": "2023-03-04T09:39:52.800Z"
   },
   {
    "duration": 89,
    "start_time": "2023-03-04T09:39:52.846Z"
   },
   {
    "duration": 121,
    "start_time": "2023-03-04T09:39:52.937Z"
   },
   {
    "duration": 198,
    "start_time": "2023-03-04T09:39:53.060Z"
   },
   {
    "duration": 250,
    "start_time": "2023-03-04T09:39:53.261Z"
   },
   {
    "duration": 27,
    "start_time": "2023-03-04T09:39:53.513Z"
   },
   {
    "duration": 29,
    "start_time": "2023-03-04T09:39:53.543Z"
   },
   {
    "duration": 47,
    "start_time": "2023-03-04T09:39:53.575Z"
   },
   {
    "duration": 27,
    "start_time": "2023-03-04T09:39:53.624Z"
   },
   {
    "duration": 26,
    "start_time": "2023-03-04T09:39:53.654Z"
   },
   {
    "duration": 34,
    "start_time": "2023-03-04T09:39:53.682Z"
   },
   {
    "duration": 25,
    "start_time": "2023-03-04T09:39:53.718Z"
   },
   {
    "duration": 323,
    "start_time": "2023-03-04T09:39:53.745Z"
   },
   {
    "duration": 48,
    "start_time": "2023-03-04T09:39:54.073Z"
   },
   {
    "duration": 744,
    "start_time": "2023-03-04T09:39:54.123Z"
   },
   {
    "duration": 22,
    "start_time": "2023-03-04T09:39:54.871Z"
   },
   {
    "duration": 17,
    "start_time": "2023-03-04T09:39:54.896Z"
   },
   {
    "duration": 247,
    "start_time": "2023-03-04T09:39:54.915Z"
   },
   {
    "duration": 37,
    "start_time": "2023-03-04T09:39:55.165Z"
   },
   {
    "duration": 562,
    "start_time": "2023-03-04T09:39:55.216Z"
   },
   {
    "duration": 293,
    "start_time": "2023-03-04T09:39:55.781Z"
   },
   {
    "duration": 213,
    "start_time": "2023-03-04T09:39:56.076Z"
   },
   {
    "duration": 605,
    "start_time": "2023-03-04T09:39:56.291Z"
   },
   {
    "duration": 501,
    "start_time": "2023-03-04T09:39:56.898Z"
   },
   {
    "duration": 18,
    "start_time": "2023-03-04T09:39:57.401Z"
   },
   {
    "duration": 65,
    "start_time": "2023-03-04T09:39:57.421Z"
   },
   {
    "duration": 43,
    "start_time": "2023-03-04T09:39:57.488Z"
   },
   {
    "duration": 19,
    "start_time": "2023-03-04T09:39:57.534Z"
   },
   {
    "duration": 9,
    "start_time": "2023-03-04T09:39:57.555Z"
   },
   {
    "duration": 145,
    "start_time": "2023-03-04T09:39:57.565Z"
   },
   {
    "duration": 0,
    "start_time": "2023-03-04T09:39:57.712Z"
   },
   {
    "duration": 0,
    "start_time": "2023-03-04T09:39:57.713Z"
   },
   {
    "duration": 1441,
    "start_time": "2023-03-04T09:41:42.066Z"
   },
   {
    "duration": 937,
    "start_time": "2023-03-04T09:41:43.509Z"
   },
   {
    "duration": 141,
    "start_time": "2023-03-04T09:41:44.448Z"
   },
   {
    "duration": 6,
    "start_time": "2023-03-04T09:41:44.591Z"
   },
   {
    "duration": 37,
    "start_time": "2023-03-04T09:41:44.599Z"
   },
   {
    "duration": 84,
    "start_time": "2023-03-04T09:41:44.637Z"
   },
   {
    "duration": 120,
    "start_time": "2023-03-04T09:41:44.729Z"
   },
   {
    "duration": 192,
    "start_time": "2023-03-04T09:41:44.851Z"
   },
   {
    "duration": 214,
    "start_time": "2023-03-04T09:41:45.044Z"
   },
   {
    "duration": 26,
    "start_time": "2023-03-04T09:41:45.259Z"
   },
   {
    "duration": 40,
    "start_time": "2023-03-04T09:41:45.287Z"
   },
   {
    "duration": 21,
    "start_time": "2023-03-04T09:41:45.330Z"
   },
   {
    "duration": 26,
    "start_time": "2023-03-04T09:41:45.353Z"
   },
   {
    "duration": 50,
    "start_time": "2023-03-04T09:41:45.383Z"
   },
   {
    "duration": 6,
    "start_time": "2023-03-04T09:41:45.435Z"
   },
   {
    "duration": 18,
    "start_time": "2023-03-04T09:41:45.443Z"
   },
   {
    "duration": 287,
    "start_time": "2023-03-04T09:41:45.463Z"
   },
   {
    "duration": 35,
    "start_time": "2023-03-04T09:41:45.752Z"
   },
   {
    "duration": 579,
    "start_time": "2023-03-04T09:41:45.789Z"
   },
   {
    "duration": 18,
    "start_time": "2023-03-04T09:41:46.369Z"
   },
   {
    "duration": 8,
    "start_time": "2023-03-04T09:41:46.388Z"
   },
   {
    "duration": 213,
    "start_time": "2023-03-04T09:41:46.416Z"
   },
   {
    "duration": 31,
    "start_time": "2023-03-04T09:41:46.631Z"
   },
   {
    "duration": 396,
    "start_time": "2023-03-04T09:41:46.664Z"
   },
   {
    "duration": 296,
    "start_time": "2023-03-04T09:41:47.062Z"
   },
   {
    "duration": 224,
    "start_time": "2023-03-04T09:41:47.359Z"
   },
   {
    "duration": 652,
    "start_time": "2023-03-04T09:41:47.585Z"
   },
   {
    "duration": 453,
    "start_time": "2023-03-04T09:41:48.239Z"
   },
   {
    "duration": 31,
    "start_time": "2023-03-04T09:41:48.694Z"
   },
   {
    "duration": 89,
    "start_time": "2023-03-04T09:41:48.729Z"
   },
   {
    "duration": 30,
    "start_time": "2023-03-04T09:41:48.825Z"
   },
   {
    "duration": 17,
    "start_time": "2023-03-04T09:41:48.857Z"
   },
   {
    "duration": 11,
    "start_time": "2023-03-04T09:41:48.875Z"
   },
   {
    "duration": 147,
    "start_time": "2023-03-04T09:41:48.888Z"
   },
   {
    "duration": 30,
    "start_time": "2023-03-04T09:42:21.066Z"
   },
   {
    "duration": 31,
    "start_time": "2023-03-04T09:42:44.877Z"
   },
   {
    "duration": 12,
    "start_time": "2023-03-04T09:42:53.822Z"
   },
   {
    "duration": 16,
    "start_time": "2023-03-04T09:43:41.387Z"
   },
   {
    "duration": 7,
    "start_time": "2023-03-04T09:43:50.285Z"
   },
   {
    "duration": 1432,
    "start_time": "2023-03-04T09:44:41.429Z"
   },
   {
    "duration": 826,
    "start_time": "2023-03-04T09:44:42.863Z"
   },
   {
    "duration": 139,
    "start_time": "2023-03-04T09:44:43.690Z"
   },
   {
    "duration": 6,
    "start_time": "2023-03-04T09:44:43.831Z"
   },
   {
    "duration": 27,
    "start_time": "2023-03-04T09:44:43.840Z"
   },
   {
    "duration": 94,
    "start_time": "2023-03-04T09:44:43.869Z"
   },
   {
    "duration": 158,
    "start_time": "2023-03-04T09:44:43.965Z"
   },
   {
    "duration": 212,
    "start_time": "2023-03-04T09:44:44.127Z"
   },
   {
    "duration": 220,
    "start_time": "2023-03-04T09:44:44.341Z"
   },
   {
    "duration": 22,
    "start_time": "2023-03-04T09:44:44.563Z"
   },
   {
    "duration": 38,
    "start_time": "2023-03-04T09:44:44.586Z"
   },
   {
    "duration": 21,
    "start_time": "2023-03-04T09:44:44.629Z"
   },
   {
    "duration": 20,
    "start_time": "2023-03-04T09:44:44.652Z"
   },
   {
    "duration": 45,
    "start_time": "2023-03-04T09:44:44.675Z"
   },
   {
    "duration": 9,
    "start_time": "2023-03-04T09:44:44.721Z"
   },
   {
    "duration": 34,
    "start_time": "2023-03-04T09:44:44.731Z"
   },
   {
    "duration": 239,
    "start_time": "2023-03-04T09:44:44.766Z"
   },
   {
    "duration": 42,
    "start_time": "2023-03-04T09:44:45.006Z"
   },
   {
    "duration": 585,
    "start_time": "2023-03-04T09:44:45.050Z"
   },
   {
    "duration": 17,
    "start_time": "2023-03-04T09:44:45.637Z"
   },
   {
    "duration": 6,
    "start_time": "2023-03-04T09:44:45.656Z"
   },
   {
    "duration": 215,
    "start_time": "2023-03-04T09:44:45.664Z"
   },
   {
    "duration": 49,
    "start_time": "2023-03-04T09:44:45.881Z"
   },
   {
    "duration": 393,
    "start_time": "2023-03-04T09:44:45.932Z"
   },
   {
    "duration": 300,
    "start_time": "2023-03-04T09:44:46.327Z"
   },
   {
    "duration": 202,
    "start_time": "2023-03-04T09:44:46.629Z"
   },
   {
    "duration": 621,
    "start_time": "2023-03-04T09:44:46.833Z"
   },
   {
    "duration": 433,
    "start_time": "2023-03-04T09:44:47.455Z"
   },
   {
    "duration": 23,
    "start_time": "2023-03-04T09:44:47.890Z"
   },
   {
    "duration": 72,
    "start_time": "2023-03-04T09:44:47.921Z"
   },
   {
    "duration": 33,
    "start_time": "2023-03-04T09:44:47.995Z"
   },
   {
    "duration": 17,
    "start_time": "2023-03-04T09:44:48.030Z"
   },
   {
    "duration": 9,
    "start_time": "2023-03-04T09:44:48.049Z"
   },
   {
    "duration": 149,
    "start_time": "2023-03-04T09:44:48.060Z"
   },
   {
    "duration": 11,
    "start_time": "2023-03-04T09:45:59.856Z"
   },
   {
    "duration": 11,
    "start_time": "2023-03-04T09:46:11.772Z"
   },
   {
    "duration": 14,
    "start_time": "2023-03-04T09:46:20.055Z"
   },
   {
    "duration": 30,
    "start_time": "2023-03-04T09:46:29.755Z"
   },
   {
    "duration": 10,
    "start_time": "2023-03-04T09:47:01.133Z"
   },
   {
    "duration": 12,
    "start_time": "2023-03-04T09:49:00.094Z"
   },
   {
    "duration": 12,
    "start_time": "2023-03-04T09:53:43.253Z"
   },
   {
    "duration": 11,
    "start_time": "2023-03-04T09:53:58.237Z"
   },
   {
    "duration": 14,
    "start_time": "2023-03-04T09:54:19.632Z"
   },
   {
    "duration": 15,
    "start_time": "2023-03-04T09:55:17.301Z"
   },
   {
    "duration": 19,
    "start_time": "2023-03-04T09:55:43.193Z"
   },
   {
    "duration": 33,
    "start_time": "2023-03-04T09:56:07.447Z"
   },
   {
    "duration": 19,
    "start_time": "2023-03-04T09:56:18.176Z"
   },
   {
    "duration": 13,
    "start_time": "2023-03-04T09:57:10.111Z"
   },
   {
    "duration": 31,
    "start_time": "2023-03-04T09:57:47.957Z"
   },
   {
    "duration": 481,
    "start_time": "2023-03-04T09:59:14.404Z"
   },
   {
    "duration": 7052,
    "start_time": "2023-03-04T10:08:25.292Z"
   },
   {
    "duration": 21,
    "start_time": "2023-03-04T10:09:25.716Z"
   },
   {
    "duration": 3468,
    "start_time": "2023-03-04T10:09:35.100Z"
   },
   {
    "duration": 841,
    "start_time": "2023-03-04T10:09:38.572Z"
   },
   {
    "duration": 187,
    "start_time": "2023-03-04T10:09:39.415Z"
   },
   {
    "duration": 7,
    "start_time": "2023-03-04T10:09:39.611Z"
   },
   {
    "duration": 33,
    "start_time": "2023-03-04T10:09:39.621Z"
   },
   {
    "duration": 140,
    "start_time": "2023-03-04T10:09:39.656Z"
   },
   {
    "duration": 151,
    "start_time": "2023-03-04T10:09:39.798Z"
   },
   {
    "duration": 192,
    "start_time": "2023-03-04T10:09:39.951Z"
   },
   {
    "duration": 207,
    "start_time": "2023-03-04T10:09:40.146Z"
   },
   {
    "duration": 24,
    "start_time": "2023-03-04T10:09:40.354Z"
   },
   {
    "duration": 39,
    "start_time": "2023-03-04T10:09:40.380Z"
   },
   {
    "duration": 21,
    "start_time": "2023-03-04T10:09:40.421Z"
   },
   {
    "duration": 23,
    "start_time": "2023-03-04T10:09:40.444Z"
   },
   {
    "duration": 64,
    "start_time": "2023-03-04T10:09:40.471Z"
   },
   {
    "duration": 10,
    "start_time": "2023-03-04T10:09:40.538Z"
   },
   {
    "duration": 23,
    "start_time": "2023-03-04T10:09:40.550Z"
   },
   {
    "duration": 293,
    "start_time": "2023-03-04T10:09:40.575Z"
   },
   {
    "duration": 60,
    "start_time": "2023-03-04T10:09:40.870Z"
   },
   {
    "duration": 562,
    "start_time": "2023-03-04T10:09:40.932Z"
   },
   {
    "duration": 26,
    "start_time": "2023-03-04T10:09:41.496Z"
   },
   {
    "duration": 10,
    "start_time": "2023-03-04T10:09:41.525Z"
   },
   {
    "duration": 143,
    "start_time": "2023-03-04T10:09:41.537Z"
   },
   {
    "duration": 43,
    "start_time": "2023-03-04T10:09:41.682Z"
   },
   {
    "duration": 531,
    "start_time": "2023-03-04T10:09:41.727Z"
   },
   {
    "duration": 298,
    "start_time": "2023-03-04T10:09:42.260Z"
   },
   {
    "duration": 207,
    "start_time": "2023-03-04T10:09:42.560Z"
   },
   {
    "duration": 636,
    "start_time": "2023-03-04T10:09:42.769Z"
   },
   {
    "duration": 509,
    "start_time": "2023-03-04T10:09:43.406Z"
   },
   {
    "duration": 14,
    "start_time": "2023-03-04T10:09:43.917Z"
   },
   {
    "duration": 98,
    "start_time": "2023-03-04T10:09:43.934Z"
   },
   {
    "duration": 37,
    "start_time": "2023-03-04T10:09:44.035Z"
   },
   {
    "duration": 25,
    "start_time": "2023-03-04T10:09:44.075Z"
   },
   {
    "duration": 227,
    "start_time": "2023-03-04T10:09:44.113Z"
   },
   {
    "duration": 8,
    "start_time": "2023-03-04T10:10:01.897Z"
   },
   {
    "duration": 646,
    "start_time": "2023-03-04T10:10:51.167Z"
   },
   {
    "duration": 228,
    "start_time": "2023-03-04T10:10:56.725Z"
   },
   {
    "duration": 201357,
    "start_time": "2023-03-04T10:11:14.453Z"
   },
   {
    "duration": 16,
    "start_time": "2023-03-04T10:17:00.658Z"
   },
   {
    "duration": 9928,
    "start_time": "2023-03-06T10:24:12.780Z"
   },
   {
    "duration": 3513,
    "start_time": "2023-03-06T10:24:22.710Z"
   },
   {
    "duration": 143,
    "start_time": "2023-03-06T10:24:26.224Z"
   },
   {
    "duration": 6,
    "start_time": "2023-03-06T10:24:26.369Z"
   },
   {
    "duration": 40,
    "start_time": "2023-03-06T10:24:26.378Z"
   },
   {
    "duration": 116,
    "start_time": "2023-03-06T10:24:26.420Z"
   },
   {
    "duration": 160,
    "start_time": "2023-03-06T10:24:26.538Z"
   },
   {
    "duration": 246,
    "start_time": "2023-03-06T10:24:26.700Z"
   },
   {
    "duration": 289,
    "start_time": "2023-03-06T10:24:26.948Z"
   },
   {
    "duration": 26,
    "start_time": "2023-03-06T10:24:27.239Z"
   },
   {
    "duration": 64,
    "start_time": "2023-03-06T10:24:27.266Z"
   },
   {
    "duration": 35,
    "start_time": "2023-03-06T10:24:27.333Z"
   },
   {
    "duration": 51,
    "start_time": "2023-03-06T10:24:27.371Z"
   },
   {
    "duration": 51,
    "start_time": "2023-03-06T10:24:27.426Z"
   },
   {
    "duration": 19,
    "start_time": "2023-03-06T10:24:27.479Z"
   },
   {
    "duration": 43,
    "start_time": "2023-03-06T10:24:27.499Z"
   },
   {
    "duration": 265,
    "start_time": "2023-03-06T10:24:27.544Z"
   },
   {
    "duration": 43,
    "start_time": "2023-03-06T10:24:27.810Z"
   },
   {
    "duration": 603,
    "start_time": "2023-03-06T10:24:27.854Z"
   },
   {
    "duration": 20,
    "start_time": "2023-03-06T10:24:28.458Z"
   },
   {
    "duration": 21,
    "start_time": "2023-03-06T10:24:28.479Z"
   },
   {
    "duration": 152,
    "start_time": "2023-03-06T10:24:28.501Z"
   },
   {
    "duration": 47,
    "start_time": "2023-03-06T10:24:28.655Z"
   },
   {
    "duration": 487,
    "start_time": "2023-03-06T10:24:28.704Z"
   },
   {
    "duration": 310,
    "start_time": "2023-03-06T10:24:29.194Z"
   },
   {
    "duration": 216,
    "start_time": "2023-03-06T10:24:29.505Z"
   },
   {
    "duration": 661,
    "start_time": "2023-03-06T10:24:29.723Z"
   },
   {
    "duration": 453,
    "start_time": "2023-03-06T10:24:30.392Z"
   },
   {
    "duration": 24,
    "start_time": "2023-03-06T10:24:30.847Z"
   },
   {
    "duration": 65,
    "start_time": "2023-03-06T10:24:30.872Z"
   },
   {
    "duration": 34,
    "start_time": "2023-03-06T10:24:30.939Z"
   },
   {
    "duration": 40,
    "start_time": "2023-03-06T10:24:30.980Z"
   },
   {
    "duration": 48,
    "start_time": "2023-03-06T10:24:31.022Z"
   },
   {
    "duration": 691,
    "start_time": "2023-03-06T10:24:31.072Z"
   },
   {
    "duration": 308,
    "start_time": "2023-03-06T10:24:31.766Z"
   },
   {
    "duration": 10,
    "start_time": "2023-03-06T10:24:32.075Z"
   },
   {
    "duration": 420976,
    "start_time": "2023-03-06T10:24:32.089Z"
   },
   {
    "duration": 3371,
    "start_time": "2023-03-06T10:49:12.324Z"
   },
   {
    "duration": 896,
    "start_time": "2023-03-06T10:49:15.698Z"
   },
   {
    "duration": 196,
    "start_time": "2023-03-06T10:49:16.597Z"
   },
   {
    "duration": 7,
    "start_time": "2023-03-06T10:49:16.797Z"
   },
   {
    "duration": 27,
    "start_time": "2023-03-06T10:49:16.807Z"
   },
   {
    "duration": 113,
    "start_time": "2023-03-06T10:49:16.836Z"
   },
   {
    "duration": 153,
    "start_time": "2023-03-06T10:49:16.951Z"
   },
   {
    "duration": 212,
    "start_time": "2023-03-06T10:49:17.105Z"
   },
   {
    "duration": 255,
    "start_time": "2023-03-06T10:49:17.319Z"
   },
   {
    "duration": 36,
    "start_time": "2023-03-06T10:49:17.576Z"
   },
   {
    "duration": 43,
    "start_time": "2023-03-06T10:49:17.613Z"
   },
   {
    "duration": 36,
    "start_time": "2023-03-06T10:49:17.659Z"
   },
   {
    "duration": 36,
    "start_time": "2023-03-06T10:49:17.697Z"
   },
   {
    "duration": 35,
    "start_time": "2023-03-06T10:49:17.755Z"
   },
   {
    "duration": 6,
    "start_time": "2023-03-06T10:49:17.792Z"
   },
   {
    "duration": 17,
    "start_time": "2023-03-06T10:49:17.799Z"
   },
   {
    "duration": 293,
    "start_time": "2023-03-06T10:49:17.817Z"
   },
   {
    "duration": 36,
    "start_time": "2023-03-06T10:49:18.111Z"
   },
   {
    "duration": 569,
    "start_time": "2023-03-06T10:49:18.149Z"
   },
   {
    "duration": 18,
    "start_time": "2023-03-06T10:49:18.719Z"
   },
   {
    "duration": 30,
    "start_time": "2023-03-06T10:49:18.738Z"
   },
   {
    "duration": 121,
    "start_time": "2023-03-06T10:49:18.771Z"
   },
   {
    "duration": 31,
    "start_time": "2023-03-06T10:49:18.893Z"
   },
   {
    "duration": 425,
    "start_time": "2023-03-06T10:49:18.925Z"
   },
   {
    "duration": 260,
    "start_time": "2023-03-06T10:49:19.351Z"
   },
   {
    "duration": 218,
    "start_time": "2023-03-06T10:49:19.613Z"
   },
   {
    "duration": 567,
    "start_time": "2023-03-06T10:49:19.833Z"
   },
   {
    "duration": 428,
    "start_time": "2023-03-06T10:49:20.402Z"
   },
   {
    "duration": 33,
    "start_time": "2023-03-06T10:49:20.832Z"
   },
   {
    "duration": 51,
    "start_time": "2023-03-06T10:49:20.867Z"
   },
   {
    "duration": 26,
    "start_time": "2023-03-06T10:49:20.920Z"
   },
   {
    "duration": 25,
    "start_time": "2023-03-06T10:49:20.948Z"
   },
   {
    "duration": 9,
    "start_time": "2023-03-06T10:49:20.975Z"
   },
   {
    "duration": 636,
    "start_time": "2023-03-06T10:49:20.985Z"
   },
   {
    "duration": 270,
    "start_time": "2023-03-06T10:49:21.623Z"
   },
   {
    "duration": 4,
    "start_time": "2023-03-06T10:49:21.894Z"
   },
   {
    "duration": 9,
    "start_time": "2023-03-06T10:54:18.991Z"
   },
   {
    "duration": 220817,
    "start_time": "2023-03-06T11:06:44.018Z"
   },
   {
    "duration": 3384,
    "start_time": "2023-03-06T11:13:09.170Z"
   },
   {
    "duration": 872,
    "start_time": "2023-03-06T11:13:12.562Z"
   },
   {
    "duration": 142,
    "start_time": "2023-03-06T11:13:13.435Z"
   },
   {
    "duration": 7,
    "start_time": "2023-03-06T11:13:13.579Z"
   },
   {
    "duration": 27,
    "start_time": "2023-03-06T11:13:13.588Z"
   },
   {
    "duration": 106,
    "start_time": "2023-03-06T11:13:13.617Z"
   },
   {
    "duration": 137,
    "start_time": "2023-03-06T11:13:13.725Z"
   },
   {
    "duration": 219,
    "start_time": "2023-03-06T11:13:13.863Z"
   },
   {
    "duration": 233,
    "start_time": "2023-03-06T11:13:14.084Z"
   },
   {
    "duration": 22,
    "start_time": "2023-03-06T11:13:14.318Z"
   },
   {
    "duration": 39,
    "start_time": "2023-03-06T11:13:14.341Z"
   },
   {
    "duration": 20,
    "start_time": "2023-03-06T11:13:14.381Z"
   },
   {
    "duration": 21,
    "start_time": "2023-03-06T11:13:14.403Z"
   },
   {
    "duration": 55,
    "start_time": "2023-03-06T11:13:14.427Z"
   },
   {
    "duration": 6,
    "start_time": "2023-03-06T11:13:14.485Z"
   },
   {
    "duration": 36,
    "start_time": "2023-03-06T11:13:14.493Z"
   },
   {
    "duration": 259,
    "start_time": "2023-03-06T11:13:14.530Z"
   },
   {
    "duration": 37,
    "start_time": "2023-03-06T11:13:14.791Z"
   },
   {
    "duration": 602,
    "start_time": "2023-03-06T11:13:14.830Z"
   },
   {
    "duration": 19,
    "start_time": "2023-03-06T11:13:15.434Z"
   },
   {
    "duration": 16,
    "start_time": "2023-03-06T11:13:15.454Z"
   },
   {
    "duration": 129,
    "start_time": "2023-03-06T11:13:15.473Z"
   },
   {
    "duration": 32,
    "start_time": "2023-03-06T11:13:15.603Z"
   },
   {
    "duration": 448,
    "start_time": "2023-03-06T11:13:15.636Z"
   },
   {
    "duration": 266,
    "start_time": "2023-03-06T11:13:16.086Z"
   },
   {
    "duration": 200,
    "start_time": "2023-03-06T11:13:16.353Z"
   },
   {
    "duration": 721,
    "start_time": "2023-03-06T11:13:16.555Z"
   },
   {
    "duration": 448,
    "start_time": "2023-03-06T11:13:17.279Z"
   },
   {
    "duration": 14,
    "start_time": "2023-03-06T11:13:17.728Z"
   },
   {
    "duration": 63,
    "start_time": "2023-03-06T11:13:17.743Z"
   },
   {
    "duration": 25,
    "start_time": "2023-03-06T11:13:17.807Z"
   },
   {
    "duration": 43,
    "start_time": "2023-03-06T11:13:17.834Z"
   },
   {
    "duration": 9,
    "start_time": "2023-03-06T11:13:17.881Z"
   },
   {
    "duration": 656,
    "start_time": "2023-03-06T11:13:17.891Z"
   },
   {
    "duration": 237,
    "start_time": "2023-03-06T11:13:18.548Z"
   },
   {
    "duration": 8,
    "start_time": "2023-03-06T11:13:18.787Z"
   },
   {
    "duration": 3,
    "start_time": "2023-03-06T11:13:18.797Z"
   },
   {
    "duration": 23,
    "start_time": "2023-03-06T11:13:18.801Z"
   },
   {
    "duration": 426742,
    "start_time": "2023-03-06T11:13:18.825Z"
   },
   {
    "duration": 24,
    "start_time": "2023-03-06T11:20:35.683Z"
   },
   {
    "duration": 5,
    "start_time": "2023-03-06T11:20:36.578Z"
   },
   {
    "duration": 3,
    "start_time": "2023-03-06T11:28:41.386Z"
   },
   {
    "duration": 2,
    "start_time": "2023-03-06T11:34:08.601Z"
   },
   {
    "duration": 139,
    "start_time": "2023-03-06T11:34:10.903Z"
   },
   {
    "duration": 3553,
    "start_time": "2023-03-06T11:48:59.998Z"
   },
   {
    "duration": 956,
    "start_time": "2023-03-06T11:49:03.560Z"
   },
   {
    "duration": 142,
    "start_time": "2023-03-06T11:49:04.518Z"
   },
   {
    "duration": 20,
    "start_time": "2023-03-06T11:49:04.661Z"
   },
   {
    "duration": 31,
    "start_time": "2023-03-06T11:49:04.686Z"
   },
   {
    "duration": 99,
    "start_time": "2023-03-06T11:49:04.718Z"
   },
   {
    "duration": 150,
    "start_time": "2023-03-06T11:49:04.819Z"
   },
   {
    "duration": 221,
    "start_time": "2023-03-06T11:49:04.971Z"
   },
   {
    "duration": 242,
    "start_time": "2023-03-06T11:49:05.194Z"
   },
   {
    "duration": 42,
    "start_time": "2023-03-06T11:49:05.438Z"
   },
   {
    "duration": 27,
    "start_time": "2023-03-06T11:49:05.485Z"
   },
   {
    "duration": 26,
    "start_time": "2023-03-06T11:49:05.514Z"
   },
   {
    "duration": 52,
    "start_time": "2023-03-06T11:49:05.542Z"
   },
   {
    "duration": 25,
    "start_time": "2023-03-06T11:49:05.598Z"
   },
   {
    "duration": 6,
    "start_time": "2023-03-06T11:49:05.625Z"
   },
   {
    "duration": 45,
    "start_time": "2023-03-06T11:49:05.633Z"
   },
   {
    "duration": 233,
    "start_time": "2023-03-06T11:49:05.681Z"
   },
   {
    "duration": 51,
    "start_time": "2023-03-06T11:49:05.916Z"
   },
   {
    "duration": 570,
    "start_time": "2023-03-06T11:49:05.975Z"
   },
   {
    "duration": 42,
    "start_time": "2023-03-06T11:49:06.547Z"
   },
   {
    "duration": 9,
    "start_time": "2023-03-06T11:49:06.591Z"
   },
   {
    "duration": 147,
    "start_time": "2023-03-06T11:49:06.602Z"
   },
   {
    "duration": 50,
    "start_time": "2023-03-06T11:49:06.751Z"
   },
   {
    "duration": 479,
    "start_time": "2023-03-06T11:49:06.805Z"
   },
   {
    "duration": 280,
    "start_time": "2023-03-06T11:49:07.286Z"
   },
   {
    "duration": 226,
    "start_time": "2023-03-06T11:49:07.568Z"
   },
   {
    "duration": 614,
    "start_time": "2023-03-06T11:49:07.796Z"
   },
   {
    "duration": 465,
    "start_time": "2023-03-06T11:49:08.411Z"
   },
   {
    "duration": 17,
    "start_time": "2023-03-06T11:49:08.878Z"
   },
   {
    "duration": 79,
    "start_time": "2023-03-06T11:49:08.897Z"
   },
   {
    "duration": 26,
    "start_time": "2023-03-06T11:49:08.977Z"
   },
   {
    "duration": 2,
    "start_time": "2023-03-06T11:49:09.005Z"
   },
   {
    "duration": 4,
    "start_time": "2023-03-06T11:49:09.009Z"
   },
   {
    "duration": 4,
    "start_time": "2023-03-06T11:49:09.015Z"
   },
   {
    "duration": 5,
    "start_time": "2023-03-06T11:49:09.020Z"
   },
   {
    "duration": 39,
    "start_time": "2023-03-06T11:49:09.026Z"
   },
   {
    "duration": 132,
    "start_time": "2023-03-06T11:49:09.073Z"
   },
   {
    "duration": 3533,
    "start_time": "2023-03-06T11:54:15.139Z"
   },
   {
    "duration": 848,
    "start_time": "2023-03-06T11:54:18.686Z"
   },
   {
    "duration": 137,
    "start_time": "2023-03-06T11:54:19.535Z"
   },
   {
    "duration": 9,
    "start_time": "2023-03-06T11:54:19.673Z"
   },
   {
    "duration": 32,
    "start_time": "2023-03-06T11:54:19.684Z"
   },
   {
    "duration": 97,
    "start_time": "2023-03-06T11:54:19.717Z"
   },
   {
    "duration": 132,
    "start_time": "2023-03-06T11:54:19.815Z"
   },
   {
    "duration": 204,
    "start_time": "2023-03-06T11:54:19.948Z"
   },
   {
    "duration": 221,
    "start_time": "2023-03-06T11:54:20.155Z"
   },
   {
    "duration": 26,
    "start_time": "2023-03-06T11:54:20.377Z"
   },
   {
    "duration": 23,
    "start_time": "2023-03-06T11:54:20.405Z"
   },
   {
    "duration": 56,
    "start_time": "2023-03-06T11:54:20.430Z"
   },
   {
    "duration": 22,
    "start_time": "2023-03-06T11:54:20.487Z"
   },
   {
    "duration": 23,
    "start_time": "2023-03-06T11:54:20.511Z"
   },
   {
    "duration": 33,
    "start_time": "2023-03-06T11:54:20.535Z"
   },
   {
    "duration": 24,
    "start_time": "2023-03-06T11:54:20.569Z"
   },
   {
    "duration": 251,
    "start_time": "2023-03-06T11:54:20.594Z"
   },
   {
    "duration": 36,
    "start_time": "2023-03-06T11:54:20.846Z"
   },
   {
    "duration": 552,
    "start_time": "2023-03-06T11:54:20.884Z"
   },
   {
    "duration": 30,
    "start_time": "2023-03-06T11:54:21.438Z"
   },
   {
    "duration": 15,
    "start_time": "2023-03-06T11:54:21.480Z"
   },
   {
    "duration": 129,
    "start_time": "2023-03-06T11:54:21.496Z"
   },
   {
    "duration": 47,
    "start_time": "2023-03-06T11:54:21.627Z"
   },
   {
    "duration": 424,
    "start_time": "2023-03-06T11:54:21.675Z"
   },
   {
    "duration": 289,
    "start_time": "2023-03-06T11:54:22.100Z"
   },
   {
    "duration": 200,
    "start_time": "2023-03-06T11:54:22.391Z"
   },
   {
    "duration": 617,
    "start_time": "2023-03-06T11:54:22.593Z"
   },
   {
    "duration": 431,
    "start_time": "2023-03-06T11:54:23.211Z"
   },
   {
    "duration": 24,
    "start_time": "2023-03-06T11:54:23.644Z"
   },
   {
    "duration": 59,
    "start_time": "2023-03-06T11:54:23.669Z"
   },
   {
    "duration": 36,
    "start_time": "2023-03-06T11:54:23.729Z"
   },
   {
    "duration": 27,
    "start_time": "2023-03-06T11:54:23.766Z"
   },
   {
    "duration": 8,
    "start_time": "2023-03-06T11:54:23.795Z"
   },
   {
    "duration": 146,
    "start_time": "2023-03-06T11:54:23.804Z"
   },
   {
    "duration": 0,
    "start_time": "2023-03-06T11:54:23.952Z"
   },
   {
    "duration": 0,
    "start_time": "2023-03-06T11:54:23.955Z"
   },
   {
    "duration": 0,
    "start_time": "2023-03-06T11:54:23.955Z"
   },
   {
    "duration": 0,
    "start_time": "2023-03-06T11:54:23.956Z"
   },
   {
    "duration": 0,
    "start_time": "2023-03-06T11:54:23.957Z"
   },
   {
    "duration": 0,
    "start_time": "2023-03-06T11:54:23.957Z"
   },
   {
    "duration": 0,
    "start_time": "2023-03-06T11:54:23.958Z"
   },
   {
    "duration": 648,
    "start_time": "2023-03-06T11:54:53.649Z"
   },
   {
    "duration": 12,
    "start_time": "2023-03-06T11:54:57.803Z"
   },
   {
    "duration": 3598,
    "start_time": "2023-03-06T11:56:13.691Z"
   },
   {
    "duration": 873,
    "start_time": "2023-03-06T11:56:17.291Z"
   },
   {
    "duration": 147,
    "start_time": "2023-03-06T11:56:18.165Z"
   },
   {
    "duration": 7,
    "start_time": "2023-03-06T11:56:18.314Z"
   },
   {
    "duration": 61,
    "start_time": "2023-03-06T11:56:18.324Z"
   },
   {
    "duration": 97,
    "start_time": "2023-03-06T11:56:18.389Z"
   },
   {
    "duration": 144,
    "start_time": "2023-03-06T11:56:18.493Z"
   },
   {
    "duration": 204,
    "start_time": "2023-03-06T11:56:18.639Z"
   },
   {
    "duration": 245,
    "start_time": "2023-03-06T11:56:18.845Z"
   },
   {
    "duration": 24,
    "start_time": "2023-03-06T11:56:19.092Z"
   },
   {
    "duration": 24,
    "start_time": "2023-03-06T11:56:19.117Z"
   },
   {
    "duration": 48,
    "start_time": "2023-03-06T11:56:19.143Z"
   },
   {
    "duration": 22,
    "start_time": "2023-03-06T11:56:19.193Z"
   },
   {
    "duration": 58,
    "start_time": "2023-03-06T11:56:19.218Z"
   },
   {
    "duration": 14,
    "start_time": "2023-03-06T11:56:19.277Z"
   },
   {
    "duration": 18,
    "start_time": "2023-03-06T11:56:19.292Z"
   },
   {
    "duration": 276,
    "start_time": "2023-03-06T11:56:19.311Z"
   },
   {
    "duration": 42,
    "start_time": "2023-03-06T11:56:19.588Z"
   },
   {
    "duration": 566,
    "start_time": "2023-03-06T11:56:19.631Z"
   },
   {
    "duration": 21,
    "start_time": "2023-03-06T11:56:20.200Z"
   },
   {
    "duration": 8,
    "start_time": "2023-03-06T11:56:20.223Z"
   },
   {
    "duration": 162,
    "start_time": "2023-03-06T11:56:20.233Z"
   },
   {
    "duration": 29,
    "start_time": "2023-03-06T11:56:20.398Z"
   },
   {
    "duration": 459,
    "start_time": "2023-03-06T11:56:20.429Z"
   },
   {
    "duration": 278,
    "start_time": "2023-03-06T11:56:20.889Z"
   },
   {
    "duration": 202,
    "start_time": "2023-03-06T11:56:21.174Z"
   },
   {
    "duration": 624,
    "start_time": "2023-03-06T11:56:21.378Z"
   },
   {
    "duration": 442,
    "start_time": "2023-03-06T11:56:22.004Z"
   },
   {
    "duration": 24,
    "start_time": "2023-03-06T11:56:22.448Z"
   },
   {
    "duration": 61,
    "start_time": "2023-03-06T11:56:22.473Z"
   },
   {
    "duration": 48,
    "start_time": "2023-03-06T11:56:22.535Z"
   },
   {
    "duration": 19,
    "start_time": "2023-03-06T11:56:22.585Z"
   },
   {
    "duration": 10,
    "start_time": "2023-03-06T11:56:22.606Z"
   },
   {
    "duration": 680,
    "start_time": "2023-03-06T11:56:22.617Z"
   },
   {
    "duration": 8,
    "start_time": "2023-03-06T11:56:23.299Z"
   },
   {
    "duration": 2,
    "start_time": "2023-03-06T11:56:23.309Z"
   },
   {
    "duration": 420743,
    "start_time": "2023-03-06T11:56:23.313Z"
   },
   {
    "duration": 126,
    "start_time": "2023-03-06T12:03:24.057Z"
   },
   {
    "duration": 6,
    "start_time": "2023-03-06T12:03:24.185Z"
   },
   {
    "duration": 19,
    "start_time": "2023-03-06T12:03:24.193Z"
   },
   {
    "duration": 13,
    "start_time": "2023-03-06T12:03:24.216Z"
   },
   {
    "duration": 1478693,
    "start_time": "2023-03-06T12:03:24.231Z"
   },
   {
    "duration": 0,
    "start_time": "2023-03-06T12:28:02.926Z"
   },
   {
    "duration": 48,
    "start_time": "2023-03-06T12:34:09.056Z"
   },
   {
    "duration": 3251,
    "start_time": "2023-03-06T12:38:23.054Z"
   },
   {
    "duration": 778,
    "start_time": "2023-03-06T12:38:26.308Z"
   },
   {
    "duration": 122,
    "start_time": "2023-03-06T12:38:27.088Z"
   },
   {
    "duration": 6,
    "start_time": "2023-03-06T12:38:27.212Z"
   },
   {
    "duration": 44,
    "start_time": "2023-03-06T12:38:27.220Z"
   },
   {
    "duration": 78,
    "start_time": "2023-03-06T12:38:27.266Z"
   },
   {
    "duration": 136,
    "start_time": "2023-03-06T12:38:27.355Z"
   },
   {
    "duration": 227,
    "start_time": "2023-03-06T12:38:27.493Z"
   },
   {
    "duration": 235,
    "start_time": "2023-03-06T12:38:27.723Z"
   },
   {
    "duration": 22,
    "start_time": "2023-03-06T12:38:27.960Z"
   },
   {
    "duration": 25,
    "start_time": "2023-03-06T12:38:27.984Z"
   },
   {
    "duration": 48,
    "start_time": "2023-03-06T12:38:28.010Z"
   },
   {
    "duration": 23,
    "start_time": "2023-03-06T12:38:28.060Z"
   },
   {
    "duration": 26,
    "start_time": "2023-03-06T12:38:28.087Z"
   },
   {
    "duration": 5,
    "start_time": "2023-03-06T12:38:28.114Z"
   },
   {
    "duration": 46,
    "start_time": "2023-03-06T12:38:28.121Z"
   },
   {
    "duration": 243,
    "start_time": "2023-03-06T12:38:28.169Z"
   },
   {
    "duration": 43,
    "start_time": "2023-03-06T12:38:28.413Z"
   },
   {
    "duration": 518,
    "start_time": "2023-03-06T12:38:28.457Z"
   },
   {
    "duration": 16,
    "start_time": "2023-03-06T12:38:28.977Z"
   },
   {
    "duration": 7,
    "start_time": "2023-03-06T12:38:28.995Z"
   },
   {
    "duration": 126,
    "start_time": "2023-03-06T12:38:29.003Z"
   },
   {
    "duration": 42,
    "start_time": "2023-03-06T12:38:29.131Z"
   },
   {
    "duration": 405,
    "start_time": "2023-03-06T12:38:29.175Z"
   },
   {
    "duration": 254,
    "start_time": "2023-03-06T12:38:29.581Z"
   },
   {
    "duration": 182,
    "start_time": "2023-03-06T12:38:29.837Z"
   },
   {
    "duration": 541,
    "start_time": "2023-03-06T12:38:30.020Z"
   },
   {
    "duration": 457,
    "start_time": "2023-03-06T12:38:30.563Z"
   },
   {
    "duration": 15,
    "start_time": "2023-03-06T12:38:31.022Z"
   },
   {
    "duration": 65,
    "start_time": "2023-03-06T12:38:31.039Z"
   },
   {
    "duration": 26,
    "start_time": "2023-03-06T12:38:31.106Z"
   },
   {
    "duration": 32,
    "start_time": "2023-03-06T12:38:31.133Z"
   },
   {
    "duration": 17,
    "start_time": "2023-03-06T12:38:31.167Z"
   },
   {
    "duration": 624,
    "start_time": "2023-03-06T12:38:31.186Z"
   },
   {
    "duration": 8,
    "start_time": "2023-03-06T12:38:31.812Z"
   },
   {
    "duration": 3,
    "start_time": "2023-03-06T12:38:31.821Z"
   },
   {
    "duration": 450038,
    "start_time": "2023-03-06T12:38:31.825Z"
   },
   {
    "duration": 208,
    "start_time": "2023-03-06T12:46:01.865Z"
   },
   {
    "duration": 4,
    "start_time": "2023-03-06T12:46:02.075Z"
   },
   {
    "duration": 54,
    "start_time": "2023-03-06T12:46:02.081Z"
   },
   {
    "duration": 39,
    "start_time": "2023-03-06T12:46:02.138Z"
   },
   {
    "duration": 20,
    "start_time": "2023-03-06T12:46:02.178Z"
   },
   {
    "duration": 1673443,
    "start_time": "2023-03-06T12:46:02.199Z"
   },
   {
    "duration": 0,
    "start_time": "2023-03-06T13:13:55.644Z"
   },
   {
    "duration": 0,
    "start_time": "2023-03-06T13:13:55.645Z"
   },
   {
    "duration": 0,
    "start_time": "2023-03-06T13:13:55.655Z"
   },
   {
    "duration": 0,
    "start_time": "2023-03-06T13:13:55.656Z"
   },
   {
    "duration": 0,
    "start_time": "2023-03-06T13:13:55.657Z"
   },
   {
    "duration": 10521,
    "start_time": "2023-03-09T07:26:29.171Z"
   },
   {
    "duration": 3077,
    "start_time": "2023-03-09T07:26:39.695Z"
   },
   {
    "duration": 108,
    "start_time": "2023-03-09T07:26:42.774Z"
   },
   {
    "duration": 6,
    "start_time": "2023-03-09T07:26:42.884Z"
   },
   {
    "duration": 28,
    "start_time": "2023-03-09T07:26:42.892Z"
   },
   {
    "duration": 87,
    "start_time": "2023-03-09T07:26:42.922Z"
   },
   {
    "duration": 115,
    "start_time": "2023-03-09T07:26:43.011Z"
   },
   {
    "duration": 185,
    "start_time": "2023-03-09T07:26:43.128Z"
   },
   {
    "duration": 222,
    "start_time": "2023-03-09T07:26:43.316Z"
   },
   {
    "duration": 27,
    "start_time": "2023-03-09T07:26:43.541Z"
   },
   {
    "duration": 23,
    "start_time": "2023-03-09T07:26:43.570Z"
   },
   {
    "duration": 20,
    "start_time": "2023-03-09T07:26:43.595Z"
   },
   {
    "duration": 46,
    "start_time": "2023-03-09T07:26:43.617Z"
   },
   {
    "duration": 23,
    "start_time": "2023-03-09T07:26:43.664Z"
   },
   {
    "duration": 26,
    "start_time": "2023-03-09T07:26:43.689Z"
   },
   {
    "duration": 18,
    "start_time": "2023-03-09T07:26:43.717Z"
   },
   {
    "duration": 271,
    "start_time": "2023-03-09T07:26:43.737Z"
   },
   {
    "duration": 51,
    "start_time": "2023-03-09T07:26:44.009Z"
   },
   {
    "duration": 575,
    "start_time": "2023-03-09T07:26:44.063Z"
   },
   {
    "duration": 33,
    "start_time": "2023-03-09T07:26:44.641Z"
   },
   {
    "duration": 9,
    "start_time": "2023-03-09T07:26:44.676Z"
   },
   {
    "duration": 138,
    "start_time": "2023-03-09T07:26:44.687Z"
   },
   {
    "duration": 47,
    "start_time": "2023-03-09T07:26:44.827Z"
   },
   {
    "duration": 508,
    "start_time": "2023-03-09T07:26:44.879Z"
   },
   {
    "duration": 331,
    "start_time": "2023-03-09T07:26:45.390Z"
   },
   {
    "duration": 205,
    "start_time": "2023-03-09T07:26:45.723Z"
   },
   {
    "duration": 601,
    "start_time": "2023-03-09T07:26:45.929Z"
   },
   {
    "duration": 523,
    "start_time": "2023-03-09T07:26:46.533Z"
   },
   {
    "duration": 13,
    "start_time": "2023-03-09T07:26:47.058Z"
   },
   {
    "duration": 84,
    "start_time": "2023-03-09T07:26:47.073Z"
   },
   {
    "duration": 28,
    "start_time": "2023-03-09T07:26:47.159Z"
   },
   {
    "duration": 18,
    "start_time": "2023-03-09T07:26:47.188Z"
   },
   {
    "duration": 9,
    "start_time": "2023-03-09T07:26:47.208Z"
   },
   {
    "duration": 664,
    "start_time": "2023-03-09T07:26:47.219Z"
   },
   {
    "duration": 11,
    "start_time": "2023-03-09T07:26:47.884Z"
   },
   {
    "duration": 2,
    "start_time": "2023-03-09T07:26:47.897Z"
   },
   {
    "duration": 460958,
    "start_time": "2023-03-09T07:26:47.901Z"
   },
   {
    "duration": 99,
    "start_time": "2023-03-09T07:34:28.860Z"
   },
   {
    "duration": 87,
    "start_time": "2023-03-09T07:34:28.965Z"
   },
   {
    "duration": 4,
    "start_time": "2023-03-09T07:34:29.055Z"
   },
   {
    "duration": 25,
    "start_time": "2023-03-09T07:34:29.060Z"
   },
   {
    "duration": 4,
    "start_time": "2023-03-09T07:34:29.087Z"
   },
   {
    "duration": 4446971,
    "start_time": "2023-03-09T07:34:29.093Z"
   },
   {
    "duration": 0,
    "start_time": "2023-03-09T08:48:36.067Z"
   },
   {
    "duration": 0,
    "start_time": "2023-03-09T08:48:36.069Z"
   },
   {
    "duration": 0,
    "start_time": "2023-03-09T08:48:36.071Z"
   },
   {
    "duration": 0,
    "start_time": "2023-03-09T08:48:36.073Z"
   },
   {
    "duration": 0,
    "start_time": "2023-03-09T08:48:36.074Z"
   },
   {
    "duration": 0,
    "start_time": "2023-03-09T08:48:36.075Z"
   },
   {
    "duration": 3404,
    "start_time": "2023-03-09T10:22:07.881Z"
   },
   {
    "duration": 832,
    "start_time": "2023-03-09T10:22:11.287Z"
   },
   {
    "duration": 133,
    "start_time": "2023-03-09T10:22:12.120Z"
   },
   {
    "duration": 9,
    "start_time": "2023-03-09T10:22:12.256Z"
   },
   {
    "duration": 32,
    "start_time": "2023-03-09T10:22:12.267Z"
   },
   {
    "duration": 102,
    "start_time": "2023-03-09T10:22:12.300Z"
   },
   {
    "duration": 128,
    "start_time": "2023-03-09T10:22:12.404Z"
   },
   {
    "duration": 195,
    "start_time": "2023-03-09T10:22:12.535Z"
   },
   {
    "duration": 200,
    "start_time": "2023-03-09T10:22:12.731Z"
   },
   {
    "duration": 27,
    "start_time": "2023-03-09T10:22:12.932Z"
   },
   {
    "duration": 22,
    "start_time": "2023-03-09T10:22:12.961Z"
   },
   {
    "duration": 19,
    "start_time": "2023-03-09T10:22:12.985Z"
   },
   {
    "duration": 52,
    "start_time": "2023-03-09T10:22:13.005Z"
   },
   {
    "duration": 22,
    "start_time": "2023-03-09T10:22:13.061Z"
   },
   {
    "duration": 16,
    "start_time": "2023-03-09T10:22:13.085Z"
   },
   {
    "duration": 56,
    "start_time": "2023-03-09T10:22:13.103Z"
   },
   {
    "duration": 276,
    "start_time": "2023-03-09T10:22:13.161Z"
   },
   {
    "duration": 43,
    "start_time": "2023-03-09T10:22:13.439Z"
   },
   {
    "duration": 595,
    "start_time": "2023-03-09T10:22:13.483Z"
   },
   {
    "duration": 20,
    "start_time": "2023-03-09T10:22:14.080Z"
   },
   {
    "duration": 10,
    "start_time": "2023-03-09T10:22:14.102Z"
   },
   {
    "duration": 187,
    "start_time": "2023-03-09T10:22:14.114Z"
   },
   {
    "duration": 31,
    "start_time": "2023-03-09T10:22:14.302Z"
   },
   {
    "duration": 465,
    "start_time": "2023-03-09T10:22:14.335Z"
   },
   {
    "duration": 300,
    "start_time": "2023-03-09T10:22:14.802Z"
   },
   {
    "duration": 199,
    "start_time": "2023-03-09T10:22:15.104Z"
   },
   {
    "duration": 603,
    "start_time": "2023-03-09T10:22:15.305Z"
   },
   {
    "duration": 455,
    "start_time": "2023-03-09T10:22:15.910Z"
   },
   {
    "duration": 19,
    "start_time": "2023-03-09T10:22:16.368Z"
   },
   {
    "duration": 98,
    "start_time": "2023-03-09T10:22:16.389Z"
   },
   {
    "duration": 27,
    "start_time": "2023-03-09T10:22:16.489Z"
   },
   {
    "duration": 18,
    "start_time": "2023-03-09T10:22:16.518Z"
   },
   {
    "duration": 9,
    "start_time": "2023-03-09T10:22:16.554Z"
   },
   {
    "duration": 615,
    "start_time": "2023-03-09T10:22:16.565Z"
   },
   {
    "duration": 12,
    "start_time": "2023-03-09T10:22:17.183Z"
   },
   {
    "duration": 3,
    "start_time": "2023-03-09T10:22:17.196Z"
   },
   {
    "duration": 422553,
    "start_time": "2023-03-09T10:22:17.201Z"
   },
   {
    "duration": 11,
    "start_time": "2023-03-09T10:32:34.975Z"
   },
   {
    "duration": 4,
    "start_time": "2023-03-09T10:32:35.551Z"
   },
   {
    "duration": 4,
    "start_time": "2023-03-09T10:32:36.604Z"
   },
   {
    "duration": 26,
    "start_time": "2023-03-09T10:32:38.460Z"
   },
   {
    "duration": 3,
    "start_time": "2023-03-09T10:32:38.943Z"
   },
   {
    "duration": 3938,
    "start_time": "2023-03-09T10:42:45.396Z"
   },
   {
    "duration": 1005,
    "start_time": "2023-03-09T10:42:49.336Z"
   },
   {
    "duration": 141,
    "start_time": "2023-03-09T10:42:50.343Z"
   },
   {
    "duration": 6,
    "start_time": "2023-03-09T10:42:50.486Z"
   },
   {
    "duration": 56,
    "start_time": "2023-03-09T10:42:50.494Z"
   },
   {
    "duration": 80,
    "start_time": "2023-03-09T10:42:50.552Z"
   },
   {
    "duration": 131,
    "start_time": "2023-03-09T10:42:50.634Z"
   },
   {
    "duration": 182,
    "start_time": "2023-03-09T10:42:50.767Z"
   },
   {
    "duration": 216,
    "start_time": "2023-03-09T10:42:50.953Z"
   },
   {
    "duration": 20,
    "start_time": "2023-03-09T10:42:51.171Z"
   },
   {
    "duration": 21,
    "start_time": "2023-03-09T10:42:51.193Z"
   },
   {
    "duration": 38,
    "start_time": "2023-03-09T10:42:51.216Z"
   },
   {
    "duration": 22,
    "start_time": "2023-03-09T10:42:51.265Z"
   },
   {
    "duration": 22,
    "start_time": "2023-03-09T10:42:51.290Z"
   },
   {
    "duration": 6,
    "start_time": "2023-03-09T10:42:51.314Z"
   },
   {
    "duration": 41,
    "start_time": "2023-03-09T10:42:51.321Z"
   },
   {
    "duration": 254,
    "start_time": "2023-03-09T10:42:51.366Z"
   },
   {
    "duration": 47,
    "start_time": "2023-03-09T10:42:51.622Z"
   },
   {
    "duration": 537,
    "start_time": "2023-03-09T10:42:51.671Z"
   },
   {
    "duration": 17,
    "start_time": "2023-03-09T10:42:52.209Z"
   },
   {
    "duration": 6,
    "start_time": "2023-03-09T10:42:52.228Z"
   },
   {
    "duration": 135,
    "start_time": "2023-03-09T10:42:52.254Z"
   },
   {
    "duration": 34,
    "start_time": "2023-03-09T10:42:52.391Z"
   },
   {
    "duration": 507,
    "start_time": "2023-03-09T10:42:52.427Z"
   },
   {
    "duration": 292,
    "start_time": "2023-03-09T10:42:52.936Z"
   },
   {
    "duration": 198,
    "start_time": "2023-03-09T10:42:53.230Z"
   },
   {
    "duration": 629,
    "start_time": "2023-03-09T10:42:53.430Z"
   },
   {
    "duration": 499,
    "start_time": "2023-03-09T10:42:54.062Z"
   },
   {
    "duration": 15,
    "start_time": "2023-03-09T10:42:54.563Z"
   },
   {
    "duration": 87,
    "start_time": "2023-03-09T10:42:54.579Z"
   },
   {
    "duration": 27,
    "start_time": "2023-03-09T10:42:54.668Z"
   },
   {
    "duration": 17,
    "start_time": "2023-03-09T10:42:54.697Z"
   },
   {
    "duration": 10,
    "start_time": "2023-03-09T10:42:54.716Z"
   },
   {
    "duration": 604,
    "start_time": "2023-03-09T10:42:54.727Z"
   },
   {
    "duration": 23,
    "start_time": "2023-03-09T10:42:55.332Z"
   },
   {
    "duration": 11,
    "start_time": "2023-03-09T10:42:55.358Z"
   },
   {
    "duration": 445104,
    "start_time": "2023-03-09T10:42:55.370Z"
   },
   {
    "duration": 87,
    "start_time": "2023-03-09T10:50:20.476Z"
   },
   {
    "duration": 87,
    "start_time": "2023-03-09T10:50:20.568Z"
   },
   {
    "duration": 8,
    "start_time": "2023-03-09T10:50:20.656Z"
   },
   {
    "duration": 28,
    "start_time": "2023-03-09T10:50:20.669Z"
   },
   {
    "duration": 3,
    "start_time": "2023-03-09T10:50:20.699Z"
   },
   {
    "duration": 8968,
    "start_time": "2023-03-09T12:34:31.719Z"
   },
   {
    "duration": 1169,
    "start_time": "2023-03-09T12:34:40.689Z"
   },
   {
    "duration": 152,
    "start_time": "2023-03-09T12:34:41.860Z"
   },
   {
    "duration": 6,
    "start_time": "2023-03-09T12:34:42.015Z"
   },
   {
    "duration": 53,
    "start_time": "2023-03-09T12:34:42.024Z"
   },
   {
    "duration": 113,
    "start_time": "2023-03-09T12:34:42.079Z"
   },
   {
    "duration": 150,
    "start_time": "2023-03-09T12:34:42.194Z"
   },
   {
    "duration": 205,
    "start_time": "2023-03-09T12:34:42.346Z"
   },
   {
    "duration": 248,
    "start_time": "2023-03-09T12:34:42.553Z"
   },
   {
    "duration": 35,
    "start_time": "2023-03-09T12:34:42.802Z"
   },
   {
    "duration": 25,
    "start_time": "2023-03-09T12:34:42.838Z"
   },
   {
    "duration": 18,
    "start_time": "2023-03-09T12:34:42.864Z"
   },
   {
    "duration": 21,
    "start_time": "2023-03-09T12:34:42.884Z"
   },
   {
    "duration": 46,
    "start_time": "2023-03-09T12:34:42.909Z"
   },
   {
    "duration": 6,
    "start_time": "2023-03-09T12:34:42.957Z"
   },
   {
    "duration": 22,
    "start_time": "2023-03-09T12:34:42.964Z"
   },
   {
    "duration": 264,
    "start_time": "2023-03-09T12:34:42.987Z"
   },
   {
    "duration": 38,
    "start_time": "2023-03-09T12:34:43.253Z"
   },
   {
    "duration": 578,
    "start_time": "2023-03-09T12:34:43.293Z"
   },
   {
    "duration": 16,
    "start_time": "2023-03-09T12:34:43.873Z"
   },
   {
    "duration": 6,
    "start_time": "2023-03-09T12:34:43.891Z"
   },
   {
    "duration": 143,
    "start_time": "2023-03-09T12:34:43.899Z"
   },
   {
    "duration": 34,
    "start_time": "2023-03-09T12:34:44.044Z"
   },
   {
    "duration": 468,
    "start_time": "2023-03-09T12:34:44.080Z"
   },
   {
    "duration": 304,
    "start_time": "2023-03-09T12:34:44.550Z"
   },
   {
    "duration": 203,
    "start_time": "2023-03-09T12:34:44.856Z"
   },
   {
    "duration": 635,
    "start_time": "2023-03-09T12:34:45.061Z"
   },
   {
    "duration": 449,
    "start_time": "2023-03-09T12:34:45.698Z"
   },
   {
    "duration": 14,
    "start_time": "2023-03-09T12:34:46.148Z"
   },
   {
    "duration": 81,
    "start_time": "2023-03-09T12:34:46.164Z"
   },
   {
    "duration": 27,
    "start_time": "2023-03-09T12:34:46.247Z"
   },
   {
    "duration": 17,
    "start_time": "2023-03-09T12:34:46.275Z"
   },
   {
    "duration": 8,
    "start_time": "2023-03-09T12:34:46.294Z"
   },
   {
    "duration": 694,
    "start_time": "2023-03-09T12:34:46.303Z"
   },
   {
    "duration": 12,
    "start_time": "2023-03-09T12:34:46.999Z"
   },
   {
    "duration": 38,
    "start_time": "2023-03-09T12:34:47.014Z"
   },
   {
    "duration": 488891,
    "start_time": "2023-03-09T12:34:47.056Z"
   },
   {
    "duration": 199,
    "start_time": "2023-03-09T12:42:55.952Z"
   },
   {
    "duration": 8,
    "start_time": "2023-03-09T12:42:56.154Z"
   },
   {
    "duration": 6,
    "start_time": "2023-03-09T12:42:56.163Z"
   },
   {
    "duration": 25,
    "start_time": "2023-03-09T12:42:56.172Z"
   },
   {
    "duration": 3,
    "start_time": "2023-03-09T12:42:56.199Z"
   },
   {
    "duration": 135265,
    "start_time": "2023-03-09T12:42:56.203Z"
   },
   {
    "duration": 4007,
    "start_time": "2023-03-09T12:49:04.445Z"
   },
   {
    "duration": 858,
    "start_time": "2023-03-09T12:49:08.454Z"
   },
   {
    "duration": 133,
    "start_time": "2023-03-09T12:49:09.314Z"
   },
   {
    "duration": 6,
    "start_time": "2023-03-09T12:49:09.449Z"
   },
   {
    "duration": 65,
    "start_time": "2023-03-09T12:49:09.457Z"
   },
   {
    "duration": 115,
    "start_time": "2023-03-09T12:49:09.525Z"
   },
   {
    "duration": 129,
    "start_time": "2023-03-09T12:49:09.642Z"
   },
   {
    "duration": 189,
    "start_time": "2023-03-09T12:49:09.772Z"
   },
   {
    "duration": 207,
    "start_time": "2023-03-09T12:49:09.963Z"
   },
   {
    "duration": 21,
    "start_time": "2023-03-09T12:49:10.173Z"
   },
   {
    "duration": 39,
    "start_time": "2023-03-09T12:49:10.196Z"
   },
   {
    "duration": 19,
    "start_time": "2023-03-09T12:49:10.237Z"
   },
   {
    "duration": 22,
    "start_time": "2023-03-09T12:49:10.258Z"
   },
   {
    "duration": 50,
    "start_time": "2023-03-09T12:49:10.282Z"
   },
   {
    "duration": 6,
    "start_time": "2023-03-09T12:49:10.333Z"
   },
   {
    "duration": 37,
    "start_time": "2023-03-09T12:49:10.341Z"
   },
   {
    "duration": 239,
    "start_time": "2023-03-09T12:49:10.380Z"
   },
   {
    "duration": 42,
    "start_time": "2023-03-09T12:49:10.621Z"
   },
   {
    "duration": 596,
    "start_time": "2023-03-09T12:49:10.665Z"
   },
   {
    "duration": 0,
    "start_time": "2023-03-09T12:49:11.263Z"
   },
   {
    "duration": 0,
    "start_time": "2023-03-09T12:49:11.264Z"
   },
   {
    "duration": 0,
    "start_time": "2023-03-09T12:49:11.265Z"
   },
   {
    "duration": 1,
    "start_time": "2023-03-09T12:49:11.266Z"
   },
   {
    "duration": 0,
    "start_time": "2023-03-09T12:49:11.268Z"
   },
   {
    "duration": 0,
    "start_time": "2023-03-09T12:49:11.269Z"
   },
   {
    "duration": 0,
    "start_time": "2023-03-09T12:49:11.270Z"
   },
   {
    "duration": 0,
    "start_time": "2023-03-09T12:49:11.271Z"
   },
   {
    "duration": 0,
    "start_time": "2023-03-09T12:49:11.272Z"
   },
   {
    "duration": 0,
    "start_time": "2023-03-09T12:49:11.274Z"
   },
   {
    "duration": 0,
    "start_time": "2023-03-09T12:49:11.274Z"
   },
   {
    "duration": 0,
    "start_time": "2023-03-09T12:49:11.275Z"
   },
   {
    "duration": 0,
    "start_time": "2023-03-09T12:49:11.277Z"
   },
   {
    "duration": 0,
    "start_time": "2023-03-09T12:49:11.278Z"
   },
   {
    "duration": 0,
    "start_time": "2023-03-09T12:49:11.279Z"
   },
   {
    "duration": 0,
    "start_time": "2023-03-09T12:49:11.280Z"
   },
   {
    "duration": 0,
    "start_time": "2023-03-09T12:49:11.281Z"
   },
   {
    "duration": 0,
    "start_time": "2023-03-09T12:49:11.282Z"
   },
   {
    "duration": 0,
    "start_time": "2023-03-09T12:49:11.283Z"
   },
   {
    "duration": 0,
    "start_time": "2023-03-09T12:49:11.285Z"
   },
   {
    "duration": 3661,
    "start_time": "2023-03-09T12:49:43.396Z"
   },
   {
    "duration": 888,
    "start_time": "2023-03-09T12:49:47.060Z"
   },
   {
    "duration": 157,
    "start_time": "2023-03-09T12:49:47.950Z"
   },
   {
    "duration": 6,
    "start_time": "2023-03-09T12:49:48.109Z"
   },
   {
    "duration": 31,
    "start_time": "2023-03-09T12:49:48.131Z"
   },
   {
    "duration": 114,
    "start_time": "2023-03-09T12:49:48.164Z"
   },
   {
    "duration": 142,
    "start_time": "2023-03-09T12:49:48.280Z"
   },
   {
    "duration": 219,
    "start_time": "2023-03-09T12:49:48.425Z"
   },
   {
    "duration": 215,
    "start_time": "2023-03-09T12:49:48.647Z"
   },
   {
    "duration": 23,
    "start_time": "2023-03-09T12:49:48.864Z"
   },
   {
    "duration": 24,
    "start_time": "2023-03-09T12:49:48.888Z"
   },
   {
    "duration": 26,
    "start_time": "2023-03-09T12:49:48.930Z"
   },
   {
    "duration": 21,
    "start_time": "2023-03-09T12:49:48.958Z"
   },
   {
    "duration": 23,
    "start_time": "2023-03-09T12:49:48.981Z"
   },
   {
    "duration": 35,
    "start_time": "2023-03-09T12:49:49.006Z"
   },
   {
    "duration": 21,
    "start_time": "2023-03-09T12:49:49.045Z"
   },
   {
    "duration": 276,
    "start_time": "2023-03-09T12:49:49.068Z"
   },
   {
    "duration": 35,
    "start_time": "2023-03-09T12:49:49.346Z"
   },
   {
    "duration": 574,
    "start_time": "2023-03-09T12:49:49.382Z"
   },
   {
    "duration": 15,
    "start_time": "2023-03-09T12:49:49.958Z"
   },
   {
    "duration": 6,
    "start_time": "2023-03-09T12:49:49.975Z"
   },
   {
    "duration": 136,
    "start_time": "2023-03-09T12:49:49.983Z"
   },
   {
    "duration": 40,
    "start_time": "2023-03-09T12:49:50.121Z"
   },
   {
    "duration": 489,
    "start_time": "2023-03-09T12:49:50.164Z"
   },
   {
    "duration": 316,
    "start_time": "2023-03-09T12:49:50.655Z"
   },
   {
    "duration": 226,
    "start_time": "2023-03-09T12:49:50.973Z"
   },
   {
    "duration": 667,
    "start_time": "2023-03-09T12:49:51.201Z"
   },
   {
    "duration": 505,
    "start_time": "2023-03-09T12:49:51.870Z"
   },
   {
    "duration": 15,
    "start_time": "2023-03-09T12:49:52.377Z"
   },
   {
    "duration": 93,
    "start_time": "2023-03-09T12:49:52.393Z"
   },
   {
    "duration": 29,
    "start_time": "2023-03-09T12:49:52.488Z"
   },
   {
    "duration": 35,
    "start_time": "2023-03-09T12:49:52.518Z"
   },
   {
    "duration": 11,
    "start_time": "2023-03-09T12:49:52.555Z"
   },
   {
    "duration": 700,
    "start_time": "2023-03-09T12:49:52.568Z"
   },
   {
    "duration": 9,
    "start_time": "2023-03-09T12:49:53.270Z"
   },
   {
    "duration": 7,
    "start_time": "2023-03-09T12:49:53.281Z"
   },
   {
    "duration": 7,
    "start_time": "2023-03-09T12:49:53.290Z"
   },
   {
    "duration": 495533,
    "start_time": "2023-03-09T12:49:53.298Z"
   },
   {
    "duration": 8,
    "start_time": "2023-03-09T12:58:08.833Z"
   },
   {
    "duration": 4,
    "start_time": "2023-03-09T13:00:49.057Z"
   },
   {
    "duration": 4473,
    "start_time": "2023-03-09T13:05:30.131Z"
   },
   {
    "duration": 994,
    "start_time": "2023-03-09T13:05:34.606Z"
   },
   {
    "duration": 174,
    "start_time": "2023-03-09T13:05:35.601Z"
   },
   {
    "duration": 6,
    "start_time": "2023-03-09T13:05:35.777Z"
   },
   {
    "duration": 57,
    "start_time": "2023-03-09T13:05:35.786Z"
   },
   {
    "duration": 124,
    "start_time": "2023-03-09T13:05:35.845Z"
   },
   {
    "duration": 179,
    "start_time": "2023-03-09T13:05:35.971Z"
   },
   {
    "duration": 233,
    "start_time": "2023-03-09T13:05:36.152Z"
   },
   {
    "duration": 240,
    "start_time": "2023-03-09T13:05:36.387Z"
   },
   {
    "duration": 42,
    "start_time": "2023-03-09T13:05:36.629Z"
   },
   {
    "duration": 27,
    "start_time": "2023-03-09T13:05:36.673Z"
   },
   {
    "duration": 40,
    "start_time": "2023-03-09T13:05:36.702Z"
   },
   {
    "duration": 30,
    "start_time": "2023-03-09T13:05:36.745Z"
   },
   {
    "duration": 24,
    "start_time": "2023-03-09T13:05:36.778Z"
   },
   {
    "duration": 28,
    "start_time": "2023-03-09T13:05:36.804Z"
   },
   {
    "duration": 30,
    "start_time": "2023-03-09T13:05:36.835Z"
   },
   {
    "duration": 360,
    "start_time": "2023-03-09T13:05:36.867Z"
   },
   {
    "duration": 47,
    "start_time": "2023-03-09T13:05:37.229Z"
   },
   {
    "duration": 629,
    "start_time": "2023-03-09T13:05:37.278Z"
   },
   {
    "duration": 16,
    "start_time": "2023-03-09T13:05:37.909Z"
   },
   {
    "duration": 12,
    "start_time": "2023-03-09T13:05:37.935Z"
   },
   {
    "duration": 154,
    "start_time": "2023-03-09T13:05:37.953Z"
   },
   {
    "duration": 57,
    "start_time": "2023-03-09T13:05:38.109Z"
   },
   {
    "duration": 533,
    "start_time": "2023-03-09T13:05:38.167Z"
   },
   {
    "duration": 320,
    "start_time": "2023-03-09T13:05:38.702Z"
   },
   {
    "duration": 246,
    "start_time": "2023-03-09T13:05:39.023Z"
   },
   {
    "duration": 703,
    "start_time": "2023-03-09T13:05:39.270Z"
   },
   {
    "duration": 507,
    "start_time": "2023-03-09T13:05:39.975Z"
   },
   {
    "duration": 14,
    "start_time": "2023-03-09T13:05:40.484Z"
   },
   {
    "duration": 93,
    "start_time": "2023-03-09T13:05:40.500Z"
   },
   {
    "duration": 36,
    "start_time": "2023-03-09T13:05:40.595Z"
   },
   {
    "duration": 27,
    "start_time": "2023-03-09T13:05:40.634Z"
   },
   {
    "duration": 10,
    "start_time": "2023-03-09T13:05:40.663Z"
   },
   {
    "duration": 743,
    "start_time": "2023-03-09T13:05:40.675Z"
   },
   {
    "duration": 11,
    "start_time": "2023-03-09T13:05:41.420Z"
   },
   {
    "duration": 25,
    "start_time": "2023-03-09T13:05:41.434Z"
   },
   {
    "duration": 7,
    "start_time": "2023-03-09T13:05:41.462Z"
   },
   {
    "duration": 475894,
    "start_time": "2023-03-09T13:05:41.471Z"
   },
   {
    "duration": 15,
    "start_time": "2023-03-09T13:13:37.431Z"
   },
   {
    "duration": 90,
    "start_time": "2023-03-09T13:13:37.452Z"
   },
   {
    "duration": 8,
    "start_time": "2023-03-09T13:13:37.550Z"
   },
   {
    "duration": 11,
    "start_time": "2023-03-09T13:13:37.561Z"
   },
   {
    "duration": 31,
    "start_time": "2023-03-09T13:13:37.574Z"
   },
   {
    "duration": 3,
    "start_time": "2023-03-09T13:13:37.607Z"
   },
   {
    "duration": 7,
    "start_time": "2023-03-09T13:13:37.612Z"
   },
   {
    "duration": 8111,
    "start_time": "2023-03-09T17:18:21.389Z"
   },
   {
    "duration": 2818,
    "start_time": "2023-03-09T17:18:29.503Z"
   },
   {
    "duration": 144,
    "start_time": "2023-03-09T17:18:32.323Z"
   },
   {
    "duration": 6,
    "start_time": "2023-03-09T17:18:32.469Z"
   },
   {
    "duration": 36,
    "start_time": "2023-03-09T17:18:32.477Z"
   },
   {
    "duration": 89,
    "start_time": "2023-03-09T17:18:32.514Z"
   },
   {
    "duration": 122,
    "start_time": "2023-03-09T17:18:32.605Z"
   },
   {
    "duration": 176,
    "start_time": "2023-03-09T17:18:32.729Z"
   },
   {
    "duration": 190,
    "start_time": "2023-03-09T17:18:32.906Z"
   },
   {
    "duration": 29,
    "start_time": "2023-03-09T17:18:33.098Z"
   },
   {
    "duration": 23,
    "start_time": "2023-03-09T17:18:33.129Z"
   },
   {
    "duration": 21,
    "start_time": "2023-03-09T17:18:33.153Z"
   },
   {
    "duration": 49,
    "start_time": "2023-03-09T17:18:33.175Z"
   },
   {
    "duration": 47,
    "start_time": "2023-03-09T17:18:33.227Z"
   },
   {
    "duration": 51,
    "start_time": "2023-03-09T17:18:33.276Z"
   },
   {
    "duration": 46,
    "start_time": "2023-03-09T17:18:33.329Z"
   },
   {
    "duration": 251,
    "start_time": "2023-03-09T17:18:33.377Z"
   },
   {
    "duration": 35,
    "start_time": "2023-03-09T17:18:33.630Z"
   },
   {
    "duration": 565,
    "start_time": "2023-03-09T17:18:33.666Z"
   },
   {
    "duration": 16,
    "start_time": "2023-03-09T17:18:34.234Z"
   },
   {
    "duration": 7,
    "start_time": "2023-03-09T17:18:34.252Z"
   },
   {
    "duration": 213,
    "start_time": "2023-03-09T17:18:34.260Z"
   },
   {
    "duration": 31,
    "start_time": "2023-03-09T17:18:34.475Z"
   },
   {
    "duration": 364,
    "start_time": "2023-03-09T17:18:34.508Z"
   },
   {
    "duration": 270,
    "start_time": "2023-03-09T17:18:34.874Z"
   },
   {
    "duration": 194,
    "start_time": "2023-03-09T17:18:35.145Z"
   },
   {
    "duration": 615,
    "start_time": "2023-03-09T17:18:35.341Z"
   },
   {
    "duration": 496,
    "start_time": "2023-03-09T17:18:35.958Z"
   },
   {
    "duration": 14,
    "start_time": "2023-03-09T17:18:36.455Z"
   },
   {
    "duration": 89,
    "start_time": "2023-03-09T17:18:36.471Z"
   },
   {
    "duration": 29,
    "start_time": "2023-03-09T17:18:36.561Z"
   },
   {
    "duration": 34,
    "start_time": "2023-03-09T17:18:36.592Z"
   },
   {
    "duration": 9,
    "start_time": "2023-03-09T17:18:36.628Z"
   },
   {
    "duration": 640,
    "start_time": "2023-03-09T17:18:36.638Z"
   },
   {
    "duration": 11,
    "start_time": "2023-03-09T17:18:37.280Z"
   },
   {
    "duration": 3,
    "start_time": "2023-03-09T17:18:37.293Z"
   },
   {
    "duration": 6,
    "start_time": "2023-03-09T17:18:37.298Z"
   },
   {
    "duration": 567407,
    "start_time": "2023-03-09T17:18:37.324Z"
   },
   {
    "duration": 91,
    "start_time": "2023-03-09T17:28:04.734Z"
   },
   {
    "duration": 48,
    "start_time": "2023-03-09T17:28:04.826Z"
   },
   {
    "duration": 4,
    "start_time": "2023-03-09T17:28:04.878Z"
   },
   {
    "duration": 16,
    "start_time": "2023-03-09T17:28:04.884Z"
   },
   {
    "duration": 28,
    "start_time": "2023-03-09T17:28:04.924Z"
   },
   {
    "duration": 2,
    "start_time": "2023-03-09T17:28:04.954Z"
   },
   {
    "duration": 10,
    "start_time": "2023-03-09T17:28:04.958Z"
   },
   {
    "duration": 3619,
    "start_time": "2023-03-09T18:34:49.719Z"
   },
   {
    "duration": 876,
    "start_time": "2023-03-09T18:34:53.341Z"
   },
   {
    "duration": 158,
    "start_time": "2023-03-09T18:34:54.218Z"
   },
   {
    "duration": 7,
    "start_time": "2023-03-09T18:34:54.377Z"
   },
   {
    "duration": 43,
    "start_time": "2023-03-09T18:34:54.386Z"
   },
   {
    "duration": 103,
    "start_time": "2023-03-09T18:34:54.431Z"
   },
   {
    "duration": 133,
    "start_time": "2023-03-09T18:34:54.537Z"
   },
   {
    "duration": 210,
    "start_time": "2023-03-09T18:34:54.673Z"
   },
   {
    "duration": 226,
    "start_time": "2023-03-09T18:34:54.884Z"
   },
   {
    "duration": 34,
    "start_time": "2023-03-09T18:34:55.119Z"
   },
   {
    "duration": 23,
    "start_time": "2023-03-09T18:34:55.155Z"
   },
   {
    "duration": 20,
    "start_time": "2023-03-09T18:34:55.180Z"
   },
   {
    "duration": 49,
    "start_time": "2023-03-09T18:34:55.202Z"
   },
   {
    "duration": 22,
    "start_time": "2023-03-09T18:34:55.254Z"
   },
   {
    "duration": 5,
    "start_time": "2023-03-09T18:34:55.278Z"
   },
   {
    "duration": 44,
    "start_time": "2023-03-09T18:34:55.285Z"
   },
   {
    "duration": 257,
    "start_time": "2023-03-09T18:34:55.331Z"
   },
   {
    "duration": 55,
    "start_time": "2023-03-09T18:34:55.590Z"
   },
   {
    "duration": 598,
    "start_time": "2023-03-09T18:34:55.646Z"
   },
   {
    "duration": 17,
    "start_time": "2023-03-09T18:34:56.246Z"
   },
   {
    "duration": 8,
    "start_time": "2023-03-09T18:34:56.265Z"
   },
   {
    "duration": 163,
    "start_time": "2023-03-09T18:34:56.275Z"
   },
   {
    "duration": 32,
    "start_time": "2023-03-09T18:34:56.440Z"
   },
   {
    "duration": 500,
    "start_time": "2023-03-09T18:34:56.475Z"
   },
   {
    "duration": 304,
    "start_time": "2023-03-09T18:34:56.976Z"
   },
   {
    "duration": 209,
    "start_time": "2023-03-09T18:34:57.282Z"
   },
   {
    "duration": 619,
    "start_time": "2023-03-09T18:34:57.493Z"
   },
   {
    "duration": 440,
    "start_time": "2023-03-09T18:34:58.114Z"
   },
   {
    "duration": 14,
    "start_time": "2023-03-09T18:34:58.556Z"
   },
   {
    "duration": 90,
    "start_time": "2023-03-09T18:34:58.572Z"
   },
   {
    "duration": 30,
    "start_time": "2023-03-09T18:34:58.663Z"
   },
   {
    "duration": 31,
    "start_time": "2023-03-09T18:34:58.694Z"
   },
   {
    "duration": 14,
    "start_time": "2023-03-09T18:34:58.729Z"
   },
   {
    "duration": 709,
    "start_time": "2023-03-09T18:34:58.744Z"
   },
   {
    "duration": 12,
    "start_time": "2023-03-09T18:34:59.455Z"
   },
   {
    "duration": 3,
    "start_time": "2023-03-09T18:34:59.469Z"
   },
   {
    "duration": 5,
    "start_time": "2023-03-09T18:34:59.473Z"
   },
   {
    "duration": 2221,
    "start_time": "2023-03-09T18:34:59.480Z"
   },
   {
    "duration": 0,
    "start_time": "2023-03-09T18:35:01.704Z"
   },
   {
    "duration": 0,
    "start_time": "2023-03-09T18:35:01.706Z"
   },
   {
    "duration": 0,
    "start_time": "2023-03-09T18:35:01.708Z"
   },
   {
    "duration": 0,
    "start_time": "2023-03-09T18:35:01.709Z"
   },
   {
    "duration": 0,
    "start_time": "2023-03-09T18:35:01.710Z"
   },
   {
    "duration": 0,
    "start_time": "2023-03-09T18:35:01.712Z"
   },
   {
    "duration": 0,
    "start_time": "2023-03-09T18:35:01.714Z"
   },
   {
    "duration": 0,
    "start_time": "2023-03-09T18:35:01.716Z"
   },
   {
    "duration": 0,
    "start_time": "2023-03-09T18:35:01.717Z"
   },
   {
    "duration": 3,
    "start_time": "2023-03-09T18:35:13.037Z"
   },
   {
    "duration": 3415,
    "start_time": "2023-03-09T18:35:44.567Z"
   },
   {
    "duration": 855,
    "start_time": "2023-03-09T18:35:47.984Z"
   },
   {
    "duration": 141,
    "start_time": "2023-03-09T18:35:48.841Z"
   },
   {
    "duration": 5,
    "start_time": "2023-03-09T18:35:48.984Z"
   },
   {
    "duration": 44,
    "start_time": "2023-03-09T18:35:48.991Z"
   },
   {
    "duration": 107,
    "start_time": "2023-03-09T18:35:49.039Z"
   },
   {
    "duration": 163,
    "start_time": "2023-03-09T18:35:49.148Z"
   },
   {
    "duration": 191,
    "start_time": "2023-03-09T18:35:49.312Z"
   },
   {
    "duration": 219,
    "start_time": "2023-03-09T18:35:49.505Z"
   },
   {
    "duration": 21,
    "start_time": "2023-03-09T18:35:49.726Z"
   },
   {
    "duration": 22,
    "start_time": "2023-03-09T18:35:49.748Z"
   },
   {
    "duration": 18,
    "start_time": "2023-03-09T18:35:49.772Z"
   },
   {
    "duration": 44,
    "start_time": "2023-03-09T18:35:49.792Z"
   },
   {
    "duration": 23,
    "start_time": "2023-03-09T18:35:49.839Z"
   },
   {
    "duration": 8,
    "start_time": "2023-03-09T18:35:49.864Z"
   },
   {
    "duration": 19,
    "start_time": "2023-03-09T18:35:49.873Z"
   },
   {
    "duration": 275,
    "start_time": "2023-03-09T18:35:49.893Z"
   },
   {
    "duration": 38,
    "start_time": "2023-03-09T18:35:50.170Z"
   },
   {
    "duration": 570,
    "start_time": "2023-03-09T18:35:50.209Z"
   },
   {
    "duration": 17,
    "start_time": "2023-03-09T18:35:50.780Z"
   },
   {
    "duration": 26,
    "start_time": "2023-03-09T18:35:50.799Z"
   },
   {
    "duration": 134,
    "start_time": "2023-03-09T18:35:50.827Z"
   },
   {
    "duration": 35,
    "start_time": "2023-03-09T18:35:50.964Z"
   },
   {
    "duration": 481,
    "start_time": "2023-03-09T18:35:51.001Z"
   },
   {
    "duration": 279,
    "start_time": "2023-03-09T18:35:51.484Z"
   },
   {
    "duration": 188,
    "start_time": "2023-03-09T18:35:51.765Z"
   },
   {
    "duration": 588,
    "start_time": "2023-03-09T18:35:51.955Z"
   },
   {
    "duration": 462,
    "start_time": "2023-03-09T18:35:52.545Z"
   },
   {
    "duration": 19,
    "start_time": "2023-03-09T18:35:53.009Z"
   },
   {
    "duration": 72,
    "start_time": "2023-03-09T18:35:53.030Z"
   },
   {
    "duration": 45,
    "start_time": "2023-03-09T18:35:53.105Z"
   },
   {
    "duration": 21,
    "start_time": "2023-03-09T18:35:53.152Z"
   },
   {
    "duration": 10,
    "start_time": "2023-03-09T18:35:53.176Z"
   },
   {
    "duration": 682,
    "start_time": "2023-03-09T18:35:53.187Z"
   },
   {
    "duration": 53,
    "start_time": "2023-03-09T18:35:53.871Z"
   },
   {
    "duration": 3,
    "start_time": "2023-03-09T18:35:53.925Z"
   },
   {
    "duration": 13,
    "start_time": "2023-03-09T18:35:53.930Z"
   },
   {
    "duration": 12,
    "start_time": "2023-03-09T18:35:53.945Z"
   },
   {
    "duration": 6,
    "start_time": "2023-03-09T18:35:53.959Z"
   },
   {
    "duration": 31,
    "start_time": "2023-03-09T18:35:53.966Z"
   },
   {
    "duration": 4,
    "start_time": "2023-03-09T18:35:54.001Z"
   },
   {
    "duration": 8,
    "start_time": "2023-03-09T18:35:54.007Z"
   },
   {
    "duration": 29,
    "start_time": "2023-03-09T18:35:54.017Z"
   },
   {
    "duration": 2,
    "start_time": "2023-03-09T18:35:54.049Z"
   },
   {
    "duration": 11,
    "start_time": "2023-03-09T18:35:54.053Z"
   },
   {
    "duration": 10559,
    "start_time": "2023-03-10T07:25:13.316Z"
   },
   {
    "duration": 1307,
    "start_time": "2023-03-10T07:25:23.878Z"
   },
   {
    "duration": 119,
    "start_time": "2023-03-10T07:25:25.187Z"
   },
   {
    "duration": 7,
    "start_time": "2023-03-10T07:25:25.308Z"
   },
   {
    "duration": 30,
    "start_time": "2023-03-10T07:25:25.330Z"
   },
   {
    "duration": 89,
    "start_time": "2023-03-10T07:25:25.362Z"
   },
   {
    "duration": 131,
    "start_time": "2023-03-10T07:25:25.454Z"
   },
   {
    "duration": 208,
    "start_time": "2023-03-10T07:25:25.587Z"
   },
   {
    "duration": 261,
    "start_time": "2023-03-10T07:25:25.797Z"
   },
   {
    "duration": 21,
    "start_time": "2023-03-10T07:25:26.061Z"
   },
   {
    "duration": 48,
    "start_time": "2023-03-10T07:25:26.084Z"
   },
   {
    "duration": 29,
    "start_time": "2023-03-10T07:25:26.134Z"
   },
   {
    "duration": 34,
    "start_time": "2023-03-10T07:25:26.165Z"
   },
   {
    "duration": 36,
    "start_time": "2023-03-10T07:25:26.201Z"
   },
   {
    "duration": 9,
    "start_time": "2023-03-10T07:25:26.239Z"
   },
   {
    "duration": 29,
    "start_time": "2023-03-10T07:25:26.249Z"
   },
   {
    "duration": 281,
    "start_time": "2023-03-10T07:25:26.279Z"
   },
   {
    "duration": 44,
    "start_time": "2023-03-10T07:25:26.562Z"
   },
   {
    "duration": 618,
    "start_time": "2023-03-10T07:25:26.608Z"
   },
   {
    "duration": 21,
    "start_time": "2023-03-10T07:25:27.228Z"
   },
   {
    "duration": 7,
    "start_time": "2023-03-10T07:25:27.251Z"
   },
   {
    "duration": 249,
    "start_time": "2023-03-10T07:25:27.259Z"
   },
   {
    "duration": 40,
    "start_time": "2023-03-10T07:25:27.510Z"
   },
   {
    "duration": 394,
    "start_time": "2023-03-10T07:25:27.552Z"
   },
   {
    "duration": 297,
    "start_time": "2023-03-10T07:25:27.949Z"
   },
   {
    "duration": 215,
    "start_time": "2023-03-10T07:25:28.248Z"
   },
   {
    "duration": 630,
    "start_time": "2023-03-10T07:25:28.465Z"
   },
   {
    "duration": 452,
    "start_time": "2023-03-10T07:25:29.098Z"
   },
   {
    "duration": 20,
    "start_time": "2023-03-10T07:25:29.552Z"
   },
   {
    "duration": 93,
    "start_time": "2023-03-10T07:25:29.574Z"
   },
   {
    "duration": 27,
    "start_time": "2023-03-10T07:25:29.669Z"
   },
   {
    "duration": 19,
    "start_time": "2023-03-10T07:25:29.698Z"
   },
   {
    "duration": 24,
    "start_time": "2023-03-10T07:25:29.718Z"
   },
   {
    "duration": 644,
    "start_time": "2023-03-10T07:25:29.744Z"
   },
   {
    "duration": 11,
    "start_time": "2023-03-10T07:25:30.389Z"
   },
   {
    "duration": 103,
    "start_time": "2023-03-10T07:25:30.402Z"
   },
   {
    "duration": 50,
    "start_time": "2023-03-10T07:25:30.508Z"
   },
   {
    "duration": 46,
    "start_time": "2023-03-10T07:25:30.560Z"
   },
   {
    "duration": 78,
    "start_time": "2023-03-10T07:25:30.608Z"
   },
   {
    "duration": 89,
    "start_time": "2023-03-10T07:25:30.688Z"
   },
   {
    "duration": 20,
    "start_time": "2023-03-10T07:25:30.779Z"
   },
   {
    "duration": 39,
    "start_time": "2023-03-10T07:25:30.801Z"
   },
   {
    "duration": 67,
    "start_time": "2023-03-10T07:25:30.842Z"
   },
   {
    "duration": 55,
    "start_time": "2023-03-10T07:25:30.912Z"
   },
   {
    "duration": 30,
    "start_time": "2023-03-10T07:25:30.969Z"
   },
   {
    "duration": 525295,
    "start_time": "2023-03-10T07:25:31.001Z"
   },
   {
    "duration": 0,
    "start_time": "2023-03-10T07:34:16.298Z"
   },
   {
    "duration": 16663,
    "start_time": "2023-03-10T15:34:19.704Z"
   },
   {
    "duration": 3813,
    "start_time": "2023-03-10T15:34:36.369Z"
   },
   {
    "duration": 142,
    "start_time": "2023-03-10T15:34:40.184Z"
   },
   {
    "duration": 14,
    "start_time": "2023-03-10T15:34:40.330Z"
   },
   {
    "duration": 42,
    "start_time": "2023-03-10T15:34:40.346Z"
   },
   {
    "duration": 105,
    "start_time": "2023-03-10T15:34:40.389Z"
   },
   {
    "duration": 252,
    "start_time": "2023-03-10T15:34:40.496Z"
   },
   {
    "duration": 229,
    "start_time": "2023-03-10T15:34:40.750Z"
   },
   {
    "duration": 273,
    "start_time": "2023-03-10T15:34:40.980Z"
   },
   {
    "duration": 22,
    "start_time": "2023-03-10T15:34:41.255Z"
   },
   {
    "duration": 23,
    "start_time": "2023-03-10T15:34:41.279Z"
   },
   {
    "duration": 43,
    "start_time": "2023-03-10T15:34:41.304Z"
   },
   {
    "duration": 21,
    "start_time": "2023-03-10T15:34:41.348Z"
   },
   {
    "duration": 22,
    "start_time": "2023-03-10T15:34:41.371Z"
   },
   {
    "duration": 37,
    "start_time": "2023-03-10T15:34:41.394Z"
   },
   {
    "duration": 23,
    "start_time": "2023-03-10T15:34:41.434Z"
   },
   {
    "duration": 281,
    "start_time": "2023-03-10T15:34:41.458Z"
   },
   {
    "duration": 107,
    "start_time": "2023-03-10T15:34:41.742Z"
   },
   {
    "duration": 577,
    "start_time": "2023-03-10T15:34:41.852Z"
   },
   {
    "duration": 18,
    "start_time": "2023-03-10T15:34:42.432Z"
   },
   {
    "duration": 7,
    "start_time": "2023-03-10T15:34:42.452Z"
   },
   {
    "duration": 224,
    "start_time": "2023-03-10T15:34:42.461Z"
   },
   {
    "duration": 44,
    "start_time": "2023-03-10T15:34:42.686Z"
   },
   {
    "duration": 410,
    "start_time": "2023-03-10T15:34:42.733Z"
   },
   {
    "duration": 300,
    "start_time": "2023-03-10T15:34:43.145Z"
   },
   {
    "duration": 215,
    "start_time": "2023-03-10T15:34:43.447Z"
   },
   {
    "duration": 713,
    "start_time": "2023-03-10T15:34:43.663Z"
   },
   {
    "duration": 484,
    "start_time": "2023-03-10T15:34:44.380Z"
   },
   {
    "duration": 14,
    "start_time": "2023-03-10T15:34:44.865Z"
   },
   {
    "duration": 184,
    "start_time": "2023-03-10T15:34:44.881Z"
   },
   {
    "duration": 172,
    "start_time": "2023-03-10T15:34:45.067Z"
   },
   {
    "duration": 73,
    "start_time": "2023-03-10T15:34:45.241Z"
   },
   {
    "duration": 12,
    "start_time": "2023-03-10T15:34:45.329Z"
   },
   {
    "duration": 1274,
    "start_time": "2023-03-10T15:34:45.343Z"
   },
   {
    "duration": 19,
    "start_time": "2023-03-10T15:34:46.623Z"
   },
   {
    "duration": 14,
    "start_time": "2023-03-10T15:34:46.644Z"
   },
   {
    "duration": 28,
    "start_time": "2023-03-10T15:34:46.660Z"
   },
   {
    "duration": 9,
    "start_time": "2023-03-10T15:34:46.690Z"
   },
   {
    "duration": 14,
    "start_time": "2023-03-10T15:34:46.701Z"
   },
   {
    "duration": 48,
    "start_time": "2023-03-10T15:34:46.717Z"
   },
   {
    "duration": 3,
    "start_time": "2023-03-10T15:34:46.768Z"
   },
   {
    "duration": 20,
    "start_time": "2023-03-10T15:34:46.773Z"
   },
   {
    "duration": 54,
    "start_time": "2023-03-10T15:34:46.795Z"
   },
   {
    "duration": 3,
    "start_time": "2023-03-10T15:34:46.851Z"
   },
   {
    "duration": 15,
    "start_time": "2023-03-10T15:34:46.855Z"
   },
   {
    "duration": 8806,
    "start_time": "2023-03-11T14:30:38.493Z"
   },
   {
    "duration": 1205,
    "start_time": "2023-03-11T14:30:47.301Z"
   },
   {
    "duration": 155,
    "start_time": "2023-03-11T14:30:48.508Z"
   },
   {
    "duration": 7,
    "start_time": "2023-03-11T14:30:48.664Z"
   },
   {
    "duration": 31,
    "start_time": "2023-03-11T14:30:48.673Z"
   },
   {
    "duration": 108,
    "start_time": "2023-03-11T14:30:48.706Z"
   },
   {
    "duration": 146,
    "start_time": "2023-03-11T14:30:48.816Z"
   },
   {
    "duration": 204,
    "start_time": "2023-03-11T14:30:48.964Z"
   },
   {
    "duration": 221,
    "start_time": "2023-03-11T14:30:49.170Z"
   },
   {
    "duration": 37,
    "start_time": "2023-03-11T14:30:49.393Z"
   },
   {
    "duration": 29,
    "start_time": "2023-03-11T14:30:49.432Z"
   },
   {
    "duration": 51,
    "start_time": "2023-03-11T14:30:49.463Z"
   },
   {
    "duration": 26,
    "start_time": "2023-03-11T14:30:49.516Z"
   },
   {
    "duration": 44,
    "start_time": "2023-03-11T14:30:49.547Z"
   },
   {
    "duration": 22,
    "start_time": "2023-03-11T14:30:49.593Z"
   },
   {
    "duration": 25,
    "start_time": "2023-03-11T14:30:49.618Z"
   },
   {
    "duration": 296,
    "start_time": "2023-03-11T14:30:49.645Z"
   },
   {
    "duration": 43,
    "start_time": "2023-03-11T14:30:49.949Z"
   },
   {
    "duration": 573,
    "start_time": "2023-03-11T14:30:49.995Z"
   },
   {
    "duration": 18,
    "start_time": "2023-03-11T14:30:50.570Z"
   },
   {
    "duration": 8,
    "start_time": "2023-03-11T14:30:50.590Z"
   },
   {
    "duration": 144,
    "start_time": "2023-03-11T14:30:50.599Z"
   },
   {
    "duration": 33,
    "start_time": "2023-03-11T14:30:50.745Z"
   },
   {
    "duration": 508,
    "start_time": "2023-03-11T14:30:50.780Z"
   },
   {
    "duration": 283,
    "start_time": "2023-03-11T14:30:51.291Z"
   },
   {
    "duration": 213,
    "start_time": "2023-03-11T14:30:51.576Z"
   },
   {
    "duration": 661,
    "start_time": "2023-03-11T14:30:51.791Z"
   },
   {
    "duration": 484,
    "start_time": "2023-03-11T14:30:52.455Z"
   },
   {
    "duration": 13,
    "start_time": "2023-03-11T14:30:52.941Z"
   },
   {
    "duration": 89,
    "start_time": "2023-03-11T14:30:52.957Z"
   },
   {
    "duration": 29,
    "start_time": "2023-03-11T14:30:53.048Z"
   },
   {
    "duration": 19,
    "start_time": "2023-03-11T14:30:53.079Z"
   },
   {
    "duration": 11,
    "start_time": "2023-03-11T14:30:53.100Z"
   },
   {
    "duration": 667,
    "start_time": "2023-03-11T14:30:53.130Z"
   },
   {
    "duration": 10,
    "start_time": "2023-03-11T14:30:53.799Z"
   },
   {
    "duration": 2,
    "start_time": "2023-03-11T14:30:53.811Z"
   },
   {
    "duration": 15,
    "start_time": "2023-03-11T14:30:53.815Z"
   },
   {
    "duration": 123815,
    "start_time": "2023-03-11T14:30:53.832Z"
   },
   {
    "duration": 0,
    "start_time": "2023-03-11T14:32:57.649Z"
   },
   {
    "duration": 0,
    "start_time": "2023-03-11T14:32:57.651Z"
   },
   {
    "duration": 1,
    "start_time": "2023-03-11T14:32:57.651Z"
   },
   {
    "duration": 0,
    "start_time": "2023-03-11T14:32:57.653Z"
   },
   {
    "duration": 0,
    "start_time": "2023-03-11T14:32:57.654Z"
   },
   {
    "duration": 0,
    "start_time": "2023-03-11T14:32:57.655Z"
   },
   {
    "duration": 0,
    "start_time": "2023-03-11T14:32:57.657Z"
   },
   {
    "duration": 0,
    "start_time": "2023-03-11T14:32:57.658Z"
   },
   {
    "duration": 0,
    "start_time": "2023-03-11T14:32:57.660Z"
   },
   {
    "duration": 3861,
    "start_time": "2023-03-11T14:33:28.320Z"
   },
   {
    "duration": 950,
    "start_time": "2023-03-11T14:33:32.183Z"
   },
   {
    "duration": 162,
    "start_time": "2023-03-11T14:33:33.135Z"
   },
   {
    "duration": 7,
    "start_time": "2023-03-11T14:33:33.299Z"
   },
   {
    "duration": 50,
    "start_time": "2023-03-11T14:33:33.309Z"
   },
   {
    "duration": 100,
    "start_time": "2023-03-11T14:33:33.361Z"
   },
   {
    "duration": 152,
    "start_time": "2023-03-11T14:33:33.463Z"
   },
   {
    "duration": 194,
    "start_time": "2023-03-11T14:33:33.617Z"
   },
   {
    "duration": 270,
    "start_time": "2023-03-11T14:33:33.812Z"
   },
   {
    "duration": 49,
    "start_time": "2023-03-11T14:33:34.085Z"
   },
   {
    "duration": 29,
    "start_time": "2023-03-11T14:33:34.136Z"
   },
   {
    "duration": 23,
    "start_time": "2023-03-11T14:33:34.166Z"
   },
   {
    "duration": 49,
    "start_time": "2023-03-11T14:33:34.191Z"
   },
   {
    "duration": 42,
    "start_time": "2023-03-11T14:33:34.244Z"
   },
   {
    "duration": 14,
    "start_time": "2023-03-11T14:33:34.288Z"
   },
   {
    "duration": 29,
    "start_time": "2023-03-11T14:33:34.303Z"
   },
   {
    "duration": 253,
    "start_time": "2023-03-11T14:33:34.334Z"
   },
   {
    "duration": 47,
    "start_time": "2023-03-11T14:33:34.589Z"
   },
   {
    "duration": 569,
    "start_time": "2023-03-11T14:33:34.638Z"
   },
   {
    "duration": 27,
    "start_time": "2023-03-11T14:33:35.208Z"
   },
   {
    "duration": 7,
    "start_time": "2023-03-11T14:33:35.237Z"
   },
   {
    "duration": 133,
    "start_time": "2023-03-11T14:33:35.246Z"
   },
   {
    "duration": 33,
    "start_time": "2023-03-11T14:33:35.381Z"
   },
   {
    "duration": 487,
    "start_time": "2023-03-11T14:33:35.416Z"
   },
   {
    "duration": 316,
    "start_time": "2023-03-11T14:33:35.904Z"
   },
   {
    "duration": 210,
    "start_time": "2023-03-11T14:33:36.230Z"
   },
   {
    "duration": 713,
    "start_time": "2023-03-11T14:33:36.442Z"
   },
   {
    "duration": 497,
    "start_time": "2023-03-11T14:33:37.156Z"
   },
   {
    "duration": 14,
    "start_time": "2023-03-11T14:33:37.655Z"
   },
   {
    "duration": 81,
    "start_time": "2023-03-11T14:33:37.671Z"
   },
   {
    "duration": 28,
    "start_time": "2023-03-11T14:33:37.754Z"
   },
   {
    "duration": 17,
    "start_time": "2023-03-11T14:33:37.784Z"
   },
   {
    "duration": 30,
    "start_time": "2023-03-11T14:33:37.803Z"
   },
   {
    "duration": 640,
    "start_time": "2023-03-11T14:33:37.835Z"
   },
   {
    "duration": 10,
    "start_time": "2023-03-11T14:33:38.476Z"
   },
   {
    "duration": 2,
    "start_time": "2023-03-11T14:33:38.488Z"
   },
   {
    "duration": 5,
    "start_time": "2023-03-11T14:33:38.492Z"
   },
   {
    "duration": 551343,
    "start_time": "2023-03-11T14:33:38.499Z"
   },
   {
    "duration": 82,
    "start_time": "2023-03-11T14:42:49.849Z"
   },
   {
    "duration": 46,
    "start_time": "2023-03-11T14:42:49.934Z"
   },
   {
    "duration": 46,
    "start_time": "2023-03-11T14:42:49.985Z"
   },
   {
    "duration": 7,
    "start_time": "2023-03-11T14:42:50.034Z"
   },
   {
    "duration": 37,
    "start_time": "2023-03-11T14:42:50.043Z"
   },
   {
    "duration": 16,
    "start_time": "2023-03-11T14:42:50.083Z"
   },
   {
    "duration": 17,
    "start_time": "2023-03-11T14:42:50.102Z"
   },
   {
    "duration": 263,
    "start_time": "2023-03-11T14:42:50.123Z"
   },
   {
    "duration": 0,
    "start_time": "2023-03-11T14:42:50.389Z"
   },
   {
    "duration": 3,
    "start_time": "2023-03-11T15:12:16.801Z"
   },
   {
    "duration": 2017318,
    "start_time": "2023-03-11T15:12:18.748Z"
   },
   {
    "duration": 0,
    "start_time": "2023-03-11T15:45:56.070Z"
   },
   {
    "duration": 3,
    "start_time": "2023-03-11T15:45:59.597Z"
   },
   {
    "duration": 4,
    "start_time": "2023-03-11T15:46:00.529Z"
   },
   {
    "duration": 90,
    "start_time": "2023-03-11T15:54:56.265Z"
   },
   {
    "duration": 8676,
    "start_time": "2023-03-13T06:51:16.391Z"
   },
   {
    "duration": 1048,
    "start_time": "2023-03-13T06:51:25.069Z"
   },
   {
    "duration": 150,
    "start_time": "2023-03-13T06:51:26.118Z"
   },
   {
    "duration": 11,
    "start_time": "2023-03-13T06:51:26.270Z"
   },
   {
    "duration": 34,
    "start_time": "2023-03-13T06:51:26.284Z"
   },
   {
    "duration": 124,
    "start_time": "2023-03-13T06:51:26.320Z"
   },
   {
    "duration": 144,
    "start_time": "2023-03-13T06:51:26.447Z"
   },
   {
    "duration": 181,
    "start_time": "2023-03-13T06:51:26.593Z"
   },
   {
    "duration": 209,
    "start_time": "2023-03-13T06:51:26.776Z"
   },
   {
    "duration": 21,
    "start_time": "2023-03-13T06:51:26.986Z"
   },
   {
    "duration": 23,
    "start_time": "2023-03-13T06:51:27.008Z"
   },
   {
    "duration": 20,
    "start_time": "2023-03-13T06:51:27.033Z"
   },
   {
    "duration": 44,
    "start_time": "2023-03-13T06:51:27.054Z"
   },
   {
    "duration": 23,
    "start_time": "2023-03-13T06:51:27.100Z"
   },
   {
    "duration": 5,
    "start_time": "2023-03-13T06:51:27.125Z"
   },
   {
    "duration": 19,
    "start_time": "2023-03-13T06:51:27.131Z"
   },
   {
    "duration": 254,
    "start_time": "2023-03-13T06:51:27.151Z"
   },
   {
    "duration": 32,
    "start_time": "2023-03-13T06:51:27.407Z"
   },
   {
    "duration": 548,
    "start_time": "2023-03-13T06:51:27.441Z"
   },
   {
    "duration": 16,
    "start_time": "2023-03-13T06:51:27.990Z"
   },
   {
    "duration": 7,
    "start_time": "2023-03-13T06:51:28.008Z"
   },
   {
    "duration": 130,
    "start_time": "2023-03-13T06:51:28.016Z"
   },
   {
    "duration": 43,
    "start_time": "2023-03-13T06:51:28.148Z"
   },
   {
    "duration": 451,
    "start_time": "2023-03-13T06:51:28.192Z"
   },
   {
    "duration": 354,
    "start_time": "2023-03-13T06:51:28.645Z"
   },
   {
    "duration": 201,
    "start_time": "2023-03-13T06:51:29.001Z"
   },
   {
    "duration": 599,
    "start_time": "2023-03-13T06:51:29.204Z"
   },
   {
    "duration": 501,
    "start_time": "2023-03-13T06:51:29.805Z"
   },
   {
    "duration": 14,
    "start_time": "2023-03-13T06:51:30.309Z"
   },
   {
    "duration": 75,
    "start_time": "2023-03-13T06:51:30.325Z"
   },
   {
    "duration": 28,
    "start_time": "2023-03-13T06:51:30.402Z"
   },
   {
    "duration": 29,
    "start_time": "2023-03-13T06:51:30.432Z"
   },
   {
    "duration": 30,
    "start_time": "2023-03-13T06:51:30.462Z"
   },
   {
    "duration": 34,
    "start_time": "2023-03-13T06:51:30.494Z"
   },
   {
    "duration": 29,
    "start_time": "2023-03-13T06:51:30.529Z"
   },
   {
    "duration": 29,
    "start_time": "2023-03-13T06:51:30.559Z"
   },
   {
    "duration": 26,
    "start_time": "2023-03-13T06:51:30.590Z"
   },
   {
    "duration": 15,
    "start_time": "2023-03-13T06:51:30.617Z"
   },
   {
    "duration": 25,
    "start_time": "2023-03-13T06:51:30.634Z"
   },
   {
    "duration": 34,
    "start_time": "2023-03-13T06:51:30.660Z"
   },
   {
    "duration": 126,
    "start_time": "2023-03-13T06:51:30.698Z"
   },
   {
    "duration": 17,
    "start_time": "2023-03-13T06:52:32.449Z"
   },
   {
    "duration": 69505,
    "start_time": "2023-03-13T06:52:37.011Z"
   },
   {
    "duration": 4270,
    "start_time": "2023-03-13T06:54:19.169Z"
   },
   {
    "duration": 1223,
    "start_time": "2023-03-13T06:54:23.441Z"
   },
   {
    "duration": 158,
    "start_time": "2023-03-13T06:54:24.667Z"
   },
   {
    "duration": 6,
    "start_time": "2023-03-13T06:54:24.826Z"
   },
   {
    "duration": 26,
    "start_time": "2023-03-13T06:54:24.834Z"
   },
   {
    "duration": 116,
    "start_time": "2023-03-13T06:54:24.862Z"
   },
   {
    "duration": 141,
    "start_time": "2023-03-13T06:54:24.980Z"
   },
   {
    "duration": 201,
    "start_time": "2023-03-13T06:54:25.123Z"
   },
   {
    "duration": 218,
    "start_time": "2023-03-13T06:54:25.326Z"
   },
   {
    "duration": 20,
    "start_time": "2023-03-13T06:54:25.546Z"
   },
   {
    "duration": 38,
    "start_time": "2023-03-13T06:54:25.567Z"
   },
   {
    "duration": 23,
    "start_time": "2023-03-13T06:54:25.607Z"
   },
   {
    "duration": 24,
    "start_time": "2023-03-13T06:54:25.632Z"
   },
   {
    "duration": 46,
    "start_time": "2023-03-13T06:54:25.660Z"
   },
   {
    "duration": 6,
    "start_time": "2023-03-13T06:54:25.708Z"
   },
   {
    "duration": 25,
    "start_time": "2023-03-13T06:54:25.715Z"
   },
   {
    "duration": 237,
    "start_time": "2023-03-13T06:54:25.741Z"
   },
   {
    "duration": 45,
    "start_time": "2023-03-13T06:54:25.980Z"
   },
   {
    "duration": 674,
    "start_time": "2023-03-13T06:54:26.027Z"
   },
   {
    "duration": 20,
    "start_time": "2023-03-13T06:54:26.703Z"
   },
   {
    "duration": 16,
    "start_time": "2023-03-13T06:54:26.726Z"
   },
   {
    "duration": 133,
    "start_time": "2023-03-13T06:54:26.744Z"
   },
   {
    "duration": 34,
    "start_time": "2023-03-13T06:54:26.879Z"
   },
   {
    "duration": 466,
    "start_time": "2023-03-13T06:54:26.915Z"
   },
   {
    "duration": 292,
    "start_time": "2023-03-13T06:54:27.383Z"
   },
   {
    "duration": 198,
    "start_time": "2023-03-13T06:54:27.677Z"
   },
   {
    "duration": 639,
    "start_time": "2023-03-13T06:54:27.877Z"
   },
   {
    "duration": 488,
    "start_time": "2023-03-13T06:54:28.518Z"
   },
   {
    "duration": 14,
    "start_time": "2023-03-13T06:54:29.008Z"
   },
   {
    "duration": 84,
    "start_time": "2023-03-13T06:54:29.024Z"
   },
   {
    "duration": 29,
    "start_time": "2023-03-13T06:54:29.110Z"
   },
   {
    "duration": 17,
    "start_time": "2023-03-13T06:54:29.141Z"
   },
   {
    "duration": 36,
    "start_time": "2023-03-13T06:54:29.160Z"
   },
   {
    "duration": 3,
    "start_time": "2023-03-13T06:54:29.202Z"
   },
   {
    "duration": 7,
    "start_time": "2023-03-13T06:54:29.207Z"
   },
   {
    "duration": 4,
    "start_time": "2023-03-13T06:54:29.216Z"
   },
   {
    "duration": 6,
    "start_time": "2023-03-13T06:54:29.222Z"
   },
   {
    "duration": 5,
    "start_time": "2023-03-13T06:54:29.230Z"
   },
   {
    "duration": 8,
    "start_time": "2023-03-13T06:54:29.237Z"
   },
   {
    "duration": 19,
    "start_time": "2023-03-13T06:54:29.247Z"
   },
   {
    "duration": 69463,
    "start_time": "2023-03-13T06:54:29.269Z"
   },
   {
    "duration": 18285,
    "start_time": "2023-03-13T06:58:11.661Z"
   },
   {
    "duration": 134,
    "start_time": "2023-03-13T06:58:59.802Z"
   },
   {
    "duration": 4017,
    "start_time": "2023-03-13T06:59:10.019Z"
   },
   {
    "duration": 1102,
    "start_time": "2023-03-13T06:59:14.039Z"
   },
   {
    "duration": 144,
    "start_time": "2023-03-13T06:59:15.142Z"
   },
   {
    "duration": 15,
    "start_time": "2023-03-13T06:59:15.288Z"
   },
   {
    "duration": 32,
    "start_time": "2023-03-13T06:59:15.305Z"
   },
   {
    "duration": 106,
    "start_time": "2023-03-13T06:59:15.339Z"
   },
   {
    "duration": 158,
    "start_time": "2023-03-13T06:59:15.447Z"
   },
   {
    "duration": 197,
    "start_time": "2023-03-13T06:59:15.607Z"
   },
   {
    "duration": 222,
    "start_time": "2023-03-13T06:59:15.805Z"
   },
   {
    "duration": 25,
    "start_time": "2023-03-13T06:59:16.028Z"
   },
   {
    "duration": 53,
    "start_time": "2023-03-13T06:59:16.055Z"
   },
   {
    "duration": 26,
    "start_time": "2023-03-13T06:59:16.110Z"
   },
   {
    "duration": 22,
    "start_time": "2023-03-13T06:59:16.137Z"
   },
   {
    "duration": 44,
    "start_time": "2023-03-13T06:59:16.162Z"
   },
   {
    "duration": 7,
    "start_time": "2023-03-13T06:59:16.208Z"
   },
   {
    "duration": 20,
    "start_time": "2023-03-13T06:59:16.217Z"
   },
   {
    "duration": 309,
    "start_time": "2023-03-13T06:59:16.239Z"
   },
   {
    "duration": 61,
    "start_time": "2023-03-13T06:59:16.550Z"
   },
   {
    "duration": 612,
    "start_time": "2023-03-13T06:59:16.617Z"
   },
   {
    "duration": 17,
    "start_time": "2023-03-13T06:59:17.230Z"
   },
   {
    "duration": 7,
    "start_time": "2023-03-13T06:59:17.248Z"
   },
   {
    "duration": 147,
    "start_time": "2023-03-13T06:59:17.257Z"
   },
   {
    "duration": 31,
    "start_time": "2023-03-13T06:59:17.406Z"
   },
   {
    "duration": 476,
    "start_time": "2023-03-13T06:59:17.439Z"
   },
   {
    "duration": 309,
    "start_time": "2023-03-13T06:59:17.917Z"
   },
   {
    "duration": 213,
    "start_time": "2023-03-13T06:59:18.228Z"
   },
   {
    "duration": 640,
    "start_time": "2023-03-13T06:59:18.443Z"
   },
   {
    "duration": 458,
    "start_time": "2023-03-13T06:59:19.085Z"
   },
   {
    "duration": 15,
    "start_time": "2023-03-13T06:59:19.545Z"
   },
   {
    "duration": 81,
    "start_time": "2023-03-13T06:59:19.562Z"
   },
   {
    "duration": 27,
    "start_time": "2023-03-13T06:59:19.645Z"
   },
   {
    "duration": 29,
    "start_time": "2023-03-13T06:59:19.674Z"
   },
   {
    "duration": 10,
    "start_time": "2023-03-13T06:59:19.706Z"
   },
   {
    "duration": 5,
    "start_time": "2023-03-13T06:59:19.718Z"
   },
   {
    "duration": 4,
    "start_time": "2023-03-13T06:59:19.725Z"
   },
   {
    "duration": 5,
    "start_time": "2023-03-13T06:59:19.731Z"
   },
   {
    "duration": 5,
    "start_time": "2023-03-13T06:59:19.738Z"
   },
   {
    "duration": 4,
    "start_time": "2023-03-13T06:59:19.745Z"
   },
   {
    "duration": 6,
    "start_time": "2023-03-13T06:59:19.751Z"
   },
   {
    "duration": 44,
    "start_time": "2023-03-13T06:59:19.758Z"
   },
   {
    "duration": 69734,
    "start_time": "2023-03-13T06:59:19.806Z"
   },
   {
    "duration": 20966,
    "start_time": "2023-03-13T07:00:29.542Z"
   },
   {
    "duration": 199,
    "start_time": "2023-03-13T07:18:53.472Z"
   },
   {
    "duration": 4,
    "start_time": "2023-03-13T07:32:28.880Z"
   },
   {
    "duration": 178183,
    "start_time": "2023-03-13T07:32:37.135Z"
   },
   {
    "duration": 2185,
    "start_time": "2023-03-13T07:36:48.137Z"
   },
   {
    "duration": 349282,
    "start_time": "2023-03-13T07:37:03.876Z"
   },
   {
    "duration": 4350,
    "start_time": "2023-03-13T07:43:04.060Z"
   },
   {
    "duration": 1123,
    "start_time": "2023-03-13T07:43:08.412Z"
   },
   {
    "duration": 145,
    "start_time": "2023-03-13T07:43:09.537Z"
   },
   {
    "duration": 6,
    "start_time": "2023-03-13T07:43:09.684Z"
   },
   {
    "duration": 35,
    "start_time": "2023-03-13T07:43:09.692Z"
   },
   {
    "duration": 118,
    "start_time": "2023-03-13T07:43:09.729Z"
   },
   {
    "duration": 149,
    "start_time": "2023-03-13T07:43:09.849Z"
   },
   {
    "duration": 221,
    "start_time": "2023-03-13T07:43:10.000Z"
   },
   {
    "duration": 252,
    "start_time": "2023-03-13T07:43:10.224Z"
   },
   {
    "duration": 30,
    "start_time": "2023-03-13T07:43:10.478Z"
   },
   {
    "duration": 34,
    "start_time": "2023-03-13T07:43:10.510Z"
   },
   {
    "duration": 39,
    "start_time": "2023-03-13T07:43:10.546Z"
   },
   {
    "duration": 36,
    "start_time": "2023-03-13T07:43:10.587Z"
   },
   {
    "duration": 33,
    "start_time": "2023-03-13T07:43:10.627Z"
   },
   {
    "duration": 8,
    "start_time": "2023-03-13T07:43:10.662Z"
   },
   {
    "duration": 41,
    "start_time": "2023-03-13T07:43:10.672Z"
   },
   {
    "duration": 309,
    "start_time": "2023-03-13T07:43:10.715Z"
   },
   {
    "duration": 44,
    "start_time": "2023-03-13T07:43:11.027Z"
   },
   {
    "duration": 615,
    "start_time": "2023-03-13T07:43:11.073Z"
   },
   {
    "duration": 17,
    "start_time": "2023-03-13T07:43:11.691Z"
   },
   {
    "duration": 7,
    "start_time": "2023-03-13T07:43:11.710Z"
   },
   {
    "duration": 137,
    "start_time": "2023-03-13T07:43:11.718Z"
   },
   {
    "duration": 42,
    "start_time": "2023-03-13T07:43:11.858Z"
   },
   {
    "duration": 485,
    "start_time": "2023-03-13T07:43:11.902Z"
   },
   {
    "duration": 314,
    "start_time": "2023-03-13T07:43:12.389Z"
   },
   {
    "duration": 201,
    "start_time": "2023-03-13T07:43:12.705Z"
   },
   {
    "duration": 650,
    "start_time": "2023-03-13T07:43:12.908Z"
   },
   {
    "duration": 457,
    "start_time": "2023-03-13T07:43:13.560Z"
   },
   {
    "duration": 14,
    "start_time": "2023-03-13T07:43:14.019Z"
   },
   {
    "duration": 81,
    "start_time": "2023-03-13T07:43:14.035Z"
   },
   {
    "duration": 29,
    "start_time": "2023-03-13T07:43:14.118Z"
   },
   {
    "duration": 18,
    "start_time": "2023-03-13T07:43:14.149Z"
   },
   {
    "duration": 25,
    "start_time": "2023-03-13T07:43:14.168Z"
   },
   {
    "duration": 8,
    "start_time": "2023-03-13T07:43:14.195Z"
   },
   {
    "duration": 14,
    "start_time": "2023-03-13T07:43:14.204Z"
   },
   {
    "duration": 9,
    "start_time": "2023-03-13T07:43:14.219Z"
   },
   {
    "duration": 15,
    "start_time": "2023-03-13T07:43:14.229Z"
   },
   {
    "duration": 5,
    "start_time": "2023-03-13T07:43:14.246Z"
   },
   {
    "duration": 5,
    "start_time": "2023-03-13T07:43:14.253Z"
   },
   {
    "duration": 21,
    "start_time": "2023-03-13T07:43:14.260Z"
   },
   {
    "duration": 61771,
    "start_time": "2023-03-13T07:43:14.290Z"
   },
   {
    "duration": 16729,
    "start_time": "2023-03-13T07:44:16.063Z"
   },
   {
    "duration": 211,
    "start_time": "2023-03-13T07:44:32.794Z"
   },
   {
    "duration": 1797499,
    "start_time": "2023-03-13T07:44:33.007Z"
   },
   {
    "duration": 592410,
    "start_time": "2023-03-13T08:15:15.555Z"
   },
   {
    "duration": 871082,
    "start_time": "2023-03-13T08:28:28.547Z"
   },
   {
    "duration": 873906,
    "start_time": "2023-03-13T08:44:32.611Z"
   },
   {
    "duration": 870372,
    "start_time": "2023-03-13T09:08:25.673Z"
   },
   {
    "duration": 1293244,
    "start_time": "2023-03-13T09:24:36.208Z"
   },
   {
    "duration": 4015,
    "start_time": "2023-03-13T10:04:03.614Z"
   },
   {
    "duration": 1055,
    "start_time": "2023-03-13T10:04:07.632Z"
   },
   {
    "duration": 135,
    "start_time": "2023-03-13T10:04:08.689Z"
   },
   {
    "duration": 6,
    "start_time": "2023-03-13T10:04:08.826Z"
   },
   {
    "duration": 27,
    "start_time": "2023-03-13T10:04:08.835Z"
   },
   {
    "duration": 118,
    "start_time": "2023-03-13T10:04:08.864Z"
   },
   {
    "duration": 143,
    "start_time": "2023-03-13T10:04:08.989Z"
   },
   {
    "duration": 195,
    "start_time": "2023-03-13T10:04:09.134Z"
   },
   {
    "duration": 225,
    "start_time": "2023-03-13T10:04:09.330Z"
   },
   {
    "duration": 22,
    "start_time": "2023-03-13T10:04:09.557Z"
   },
   {
    "duration": 23,
    "start_time": "2023-03-13T10:04:09.590Z"
   },
   {
    "duration": 20,
    "start_time": "2023-03-13T10:04:09.615Z"
   },
   {
    "duration": 22,
    "start_time": "2023-03-13T10:04:09.637Z"
   },
   {
    "duration": 46,
    "start_time": "2023-03-13T10:04:09.661Z"
   },
   {
    "duration": 5,
    "start_time": "2023-03-13T10:04:09.709Z"
   },
   {
    "duration": 19,
    "start_time": "2023-03-13T10:04:09.716Z"
   },
   {
    "duration": 258,
    "start_time": "2023-03-13T10:04:09.737Z"
   },
   {
    "duration": 35,
    "start_time": "2023-03-13T10:04:09.997Z"
   },
   {
    "duration": 556,
    "start_time": "2023-03-13T10:04:10.034Z"
   },
   {
    "duration": 16,
    "start_time": "2023-03-13T10:04:10.592Z"
   },
   {
    "duration": 9,
    "start_time": "2023-03-13T10:04:10.610Z"
   },
   {
    "duration": 137,
    "start_time": "2023-03-13T10:04:10.621Z"
   },
   {
    "duration": 45,
    "start_time": "2023-03-13T10:04:10.760Z"
   },
   {
    "duration": 464,
    "start_time": "2023-03-13T10:04:10.807Z"
   },
   {
    "duration": 280,
    "start_time": "2023-03-13T10:04:11.273Z"
   },
   {
    "duration": 201,
    "start_time": "2023-03-13T10:04:11.555Z"
   },
   {
    "duration": 632,
    "start_time": "2023-03-13T10:04:11.758Z"
   },
   {
    "duration": 431,
    "start_time": "2023-03-13T10:04:12.392Z"
   },
   {
    "duration": 14,
    "start_time": "2023-03-13T10:04:12.825Z"
   },
   {
    "duration": 78,
    "start_time": "2023-03-13T10:04:12.841Z"
   },
   {
    "duration": 28,
    "start_time": "2023-03-13T10:04:12.921Z"
   },
   {
    "duration": 17,
    "start_time": "2023-03-13T10:04:12.951Z"
   },
   {
    "duration": 23,
    "start_time": "2023-03-13T10:04:12.969Z"
   },
   {
    "duration": 7,
    "start_time": "2023-03-13T10:04:12.993Z"
   },
   {
    "duration": 5,
    "start_time": "2023-03-13T10:04:13.002Z"
   },
   {
    "duration": 7,
    "start_time": "2023-03-13T10:04:13.009Z"
   },
   {
    "duration": 8,
    "start_time": "2023-03-13T10:04:13.017Z"
   },
   {
    "duration": 6,
    "start_time": "2023-03-13T10:04:13.026Z"
   },
   {
    "duration": 10,
    "start_time": "2023-03-13T10:04:13.033Z"
   },
   {
    "duration": 23,
    "start_time": "2023-03-13T10:04:13.045Z"
   },
   {
    "duration": 59041,
    "start_time": "2023-03-13T10:04:13.071Z"
   },
   {
    "duration": 14367,
    "start_time": "2023-03-13T10:05:12.114Z"
   },
   {
    "duration": 213,
    "start_time": "2023-03-13T10:05:26.483Z"
   },
   {
    "duration": 5564444,
    "start_time": "2023-03-13T10:05:26.697Z"
   },
   {
    "duration": 9572,
    "start_time": "2023-03-13T17:36:10.998Z"
   },
   {
    "duration": 1379,
    "start_time": "2023-03-13T17:36:20.573Z"
   },
   {
    "duration": 158,
    "start_time": "2023-03-13T17:36:21.954Z"
   },
   {
    "duration": 8,
    "start_time": "2023-03-13T17:36:22.114Z"
   },
   {
    "duration": 52,
    "start_time": "2023-03-13T17:36:22.126Z"
   },
   {
    "duration": 102,
    "start_time": "2023-03-13T17:36:22.181Z"
   },
   {
    "duration": 145,
    "start_time": "2023-03-13T17:36:22.285Z"
   },
   {
    "duration": 204,
    "start_time": "2023-03-13T17:36:22.432Z"
   },
   {
    "duration": 234,
    "start_time": "2023-03-13T17:36:22.638Z"
   },
   {
    "duration": 23,
    "start_time": "2023-03-13T17:36:22.874Z"
   },
   {
    "duration": 33,
    "start_time": "2023-03-13T17:36:22.899Z"
   },
   {
    "duration": 47,
    "start_time": "2023-03-13T17:36:22.934Z"
   },
   {
    "duration": 48,
    "start_time": "2023-03-13T17:36:22.983Z"
   },
   {
    "duration": 32,
    "start_time": "2023-03-13T17:36:23.035Z"
   },
   {
    "duration": 16,
    "start_time": "2023-03-13T17:36:23.069Z"
   },
   {
    "duration": 23,
    "start_time": "2023-03-13T17:36:23.087Z"
   },
   {
    "duration": 272,
    "start_time": "2023-03-13T17:36:23.112Z"
   },
   {
    "duration": 41,
    "start_time": "2023-03-13T17:36:23.386Z"
   },
   {
    "duration": 629,
    "start_time": "2023-03-13T17:36:23.428Z"
   },
   {
    "duration": 20,
    "start_time": "2023-03-13T17:36:24.064Z"
   },
   {
    "duration": 11,
    "start_time": "2023-03-13T17:36:24.086Z"
   },
   {
    "duration": 241,
    "start_time": "2023-03-13T17:36:24.099Z"
   },
   {
    "duration": 49,
    "start_time": "2023-03-13T17:36:24.342Z"
   },
   {
    "duration": 485,
    "start_time": "2023-03-13T17:36:24.393Z"
   },
   {
    "duration": 331,
    "start_time": "2023-03-13T17:36:24.881Z"
   },
   {
    "duration": 223,
    "start_time": "2023-03-13T17:36:25.215Z"
   },
   {
    "duration": 683,
    "start_time": "2023-03-13T17:36:25.440Z"
   },
   {
    "duration": 487,
    "start_time": "2023-03-13T17:36:26.125Z"
   },
   {
    "duration": 15,
    "start_time": "2023-03-13T17:36:26.613Z"
   },
   {
    "duration": 743,
    "start_time": "2023-03-13T17:36:26.631Z"
   },
   {
    "duration": 950,
    "start_time": "2023-03-13T17:36:27.375Z"
   },
   {
    "duration": 117,
    "start_time": "2023-03-13T17:36:28.327Z"
   },
   {
    "duration": 30,
    "start_time": "2023-03-13T17:36:28.446Z"
   },
   {
    "duration": 173,
    "start_time": "2023-03-13T17:36:28.479Z"
   },
   {
    "duration": 0,
    "start_time": "2023-03-13T17:36:28.654Z"
   },
   {
    "duration": 0,
    "start_time": "2023-03-13T17:36:28.665Z"
   },
   {
    "duration": 0,
    "start_time": "2023-03-13T17:36:28.666Z"
   },
   {
    "duration": 0,
    "start_time": "2023-03-13T17:36:28.668Z"
   },
   {
    "duration": 0,
    "start_time": "2023-03-13T17:36:28.669Z"
   },
   {
    "duration": 0,
    "start_time": "2023-03-13T17:36:28.671Z"
   },
   {
    "duration": 3926,
    "start_time": "2023-03-13T17:36:56.211Z"
   },
   {
    "duration": 1077,
    "start_time": "2023-03-13T17:37:00.140Z"
   },
   {
    "duration": 170,
    "start_time": "2023-03-13T17:37:01.219Z"
   },
   {
    "duration": 51,
    "start_time": "2023-03-13T17:37:01.391Z"
   },
   {
    "duration": 86,
    "start_time": "2023-03-13T17:37:01.445Z"
   },
   {
    "duration": 105,
    "start_time": "2023-03-13T17:37:01.532Z"
   },
   {
    "duration": 161,
    "start_time": "2023-03-13T17:37:01.639Z"
   },
   {
    "duration": 221,
    "start_time": "2023-03-13T17:37:01.802Z"
   },
   {
    "duration": 234,
    "start_time": "2023-03-13T17:37:02.025Z"
   },
   {
    "duration": 27,
    "start_time": "2023-03-13T17:37:02.260Z"
   },
   {
    "duration": 44,
    "start_time": "2023-03-13T17:37:02.289Z"
   },
   {
    "duration": 40,
    "start_time": "2023-03-13T17:37:02.335Z"
   },
   {
    "duration": 44,
    "start_time": "2023-03-13T17:37:02.377Z"
   },
   {
    "duration": 70,
    "start_time": "2023-03-13T17:37:02.425Z"
   },
   {
    "duration": 26,
    "start_time": "2023-03-13T17:37:02.497Z"
   },
   {
    "duration": 70,
    "start_time": "2023-03-13T17:37:02.525Z"
   },
   {
    "duration": 277,
    "start_time": "2023-03-13T17:37:02.597Z"
   },
   {
    "duration": 40,
    "start_time": "2023-03-13T17:37:02.876Z"
   },
   {
    "duration": 607,
    "start_time": "2023-03-13T17:37:02.918Z"
   },
   {
    "duration": 18,
    "start_time": "2023-03-13T17:37:03.527Z"
   },
   {
    "duration": 9,
    "start_time": "2023-03-13T17:37:03.563Z"
   },
   {
    "duration": 144,
    "start_time": "2023-03-13T17:37:03.574Z"
   },
   {
    "duration": 48,
    "start_time": "2023-03-13T17:37:03.720Z"
   },
   {
    "duration": 500,
    "start_time": "2023-03-13T17:37:03.770Z"
   },
   {
    "duration": 364,
    "start_time": "2023-03-13T17:37:04.272Z"
   },
   {
    "duration": 261,
    "start_time": "2023-03-13T17:37:04.640Z"
   },
   {
    "duration": 688,
    "start_time": "2023-03-13T17:37:04.903Z"
   },
   {
    "duration": 508,
    "start_time": "2023-03-13T17:37:05.594Z"
   },
   {
    "duration": 16,
    "start_time": "2023-03-13T17:37:06.104Z"
   },
   {
    "duration": 111,
    "start_time": "2023-03-13T17:37:06.122Z"
   },
   {
    "duration": 36,
    "start_time": "2023-03-13T17:37:06.235Z"
   },
   {
    "duration": 20,
    "start_time": "2023-03-13T17:37:06.273Z"
   },
   {
    "duration": 9,
    "start_time": "2023-03-13T17:37:06.296Z"
   },
   {
    "duration": 745,
    "start_time": "2023-03-13T17:37:06.308Z"
   },
   {
    "duration": 16,
    "start_time": "2023-03-13T17:37:07.055Z"
   },
   {
    "duration": 7,
    "start_time": "2023-03-13T17:37:07.073Z"
   },
   {
    "duration": 19,
    "start_time": "2023-03-13T17:37:07.082Z"
   },
   {
    "duration": 668563,
    "start_time": "2023-03-13T17:37:07.103Z"
   },
   {
    "duration": 96,
    "start_time": "2023-03-13T17:48:15.668Z"
   },
   {
    "duration": 198,
    "start_time": "2023-03-13T17:48:15.767Z"
   },
   {
    "duration": 11,
    "start_time": "2023-03-13T17:50:51.196Z"
   },
   {
    "duration": 63661,
    "start_time": "2023-03-13T17:50:52.524Z"
   },
   {
    "duration": 21574,
    "start_time": "2023-03-13T17:51:58.695Z"
   },
   {
    "duration": 222,
    "start_time": "2023-03-13T17:52:25.494Z"
   },
   {
    "duration": 12504,
    "start_time": "2023-03-14T09:39:10.096Z"
   },
   {
    "duration": 3030,
    "start_time": "2023-03-14T09:39:22.603Z"
   },
   {
    "duration": 144,
    "start_time": "2023-03-14T09:39:25.635Z"
   },
   {
    "duration": 6,
    "start_time": "2023-03-14T09:39:25.781Z"
   },
   {
    "duration": 43,
    "start_time": "2023-03-14T09:39:25.791Z"
   },
   {
    "duration": 100,
    "start_time": "2023-03-14T09:39:25.836Z"
   },
   {
    "duration": 137,
    "start_time": "2023-03-14T09:39:25.938Z"
   },
   {
    "duration": 184,
    "start_time": "2023-03-14T09:39:26.076Z"
   },
   {
    "duration": 215,
    "start_time": "2023-03-14T09:39:26.262Z"
   },
   {
    "duration": 26,
    "start_time": "2023-03-14T09:39:26.479Z"
   },
   {
    "duration": 32,
    "start_time": "2023-03-14T09:39:26.507Z"
   },
   {
    "duration": 37,
    "start_time": "2023-03-14T09:39:26.540Z"
   },
   {
    "duration": 27,
    "start_time": "2023-03-14T09:39:26.579Z"
   },
   {
    "duration": 22,
    "start_time": "2023-03-14T09:39:26.609Z"
   },
   {
    "duration": 10,
    "start_time": "2023-03-14T09:39:26.633Z"
   },
   {
    "duration": 19,
    "start_time": "2023-03-14T09:39:26.670Z"
   },
   {
    "duration": 255,
    "start_time": "2023-03-14T09:39:26.690Z"
   },
   {
    "duration": 50,
    "start_time": "2023-03-14T09:39:26.947Z"
   },
   {
    "duration": 566,
    "start_time": "2023-03-14T09:39:26.998Z"
   },
   {
    "duration": 19,
    "start_time": "2023-03-14T09:39:27.565Z"
   },
   {
    "duration": 9,
    "start_time": "2023-03-14T09:39:27.586Z"
   },
   {
    "duration": 204,
    "start_time": "2023-03-14T09:39:27.597Z"
   },
   {
    "duration": 33,
    "start_time": "2023-03-14T09:39:27.802Z"
   },
   {
    "duration": 388,
    "start_time": "2023-03-14T09:39:27.837Z"
   },
   {
    "duration": 285,
    "start_time": "2023-03-14T09:39:28.226Z"
   },
   {
    "duration": 198,
    "start_time": "2023-03-14T09:39:28.513Z"
   },
   {
    "duration": 611,
    "start_time": "2023-03-14T09:39:28.713Z"
   },
   {
    "duration": 472,
    "start_time": "2023-03-14T09:39:29.326Z"
   },
   {
    "duration": 13,
    "start_time": "2023-03-14T09:39:29.800Z"
   },
   {
    "duration": 85,
    "start_time": "2023-03-14T09:39:29.815Z"
   },
   {
    "duration": 26,
    "start_time": "2023-03-14T09:39:29.902Z"
   },
   {
    "duration": 16,
    "start_time": "2023-03-14T09:39:29.930Z"
   },
   {
    "duration": 27,
    "start_time": "2023-03-14T09:39:29.947Z"
   },
   {
    "duration": 609,
    "start_time": "2023-03-14T09:39:29.976Z"
   },
   {
    "duration": 10,
    "start_time": "2023-03-14T09:39:30.587Z"
   },
   {
    "duration": 47,
    "start_time": "2023-03-14T09:39:30.598Z"
   },
   {
    "duration": 65,
    "start_time": "2023-03-14T09:39:30.646Z"
   },
   {
    "duration": 488786,
    "start_time": "2023-03-14T09:39:30.713Z"
   },
   {
    "duration": 72,
    "start_time": "2023-03-14T09:47:39.501Z"
   },
   {
    "duration": 258,
    "start_time": "2023-03-14T09:47:39.581Z"
   },
   {
    "duration": 11,
    "start_time": "2023-03-14T09:47:39.843Z"
   },
   {
    "duration": 65358,
    "start_time": "2023-03-14T09:47:39.856Z"
   },
   {
    "duration": 25420,
    "start_time": "2023-03-14T09:48:45.216Z"
   },
   {
    "duration": 253,
    "start_time": "2023-03-14T09:49:10.637Z"
   },
   {
    "duration": 6490045,
    "start_time": "2023-03-14T09:49:10.893Z"
   },
   {
    "duration": 80,
    "start_time": "2023-03-14T11:38:08.717Z"
   },
   {
    "duration": 214668,
    "start_time": "2023-03-14T11:38:37.549Z"
   },
   {
    "duration": 744,
    "start_time": "2023-03-14T11:43:29.844Z"
   },
   {
    "duration": 3,
    "start_time": "2023-03-14T11:43:36.232Z"
   },
   {
    "duration": 3,
    "start_time": "2023-03-14T11:43:36.756Z"
   },
   {
    "duration": 3,
    "start_time": "2023-03-14T11:43:37.332Z"
   },
   {
    "duration": 3,
    "start_time": "2023-03-14T11:43:37.881Z"
   },
   {
    "duration": 3,
    "start_time": "2023-03-14T11:43:40.413Z"
   },
   {
    "duration": 129,
    "start_time": "2023-03-14T11:43:42.256Z"
   },
   {
    "duration": 1789002,
    "start_time": "2023-03-14T11:46:55.981Z"
   },
   {
    "duration": 45,
    "start_time": "2023-03-14T12:19:46.098Z"
   },
   {
    "duration": 63460,
    "start_time": "2023-03-14T12:20:38.814Z"
   },
   {
    "duration": 875,
    "start_time": "2023-03-14T12:22:38.615Z"
   },
   {
    "duration": 69,
    "start_time": "2023-03-14T12:37:17.813Z"
   },
   {
    "duration": 9648,
    "start_time": "2023-03-16T03:47:33.130Z"
   },
   {
    "duration": 1020,
    "start_time": "2023-03-16T03:47:42.783Z"
   },
   {
    "duration": 165,
    "start_time": "2023-03-16T03:47:43.805Z"
   },
   {
    "duration": 7,
    "start_time": "2023-03-16T03:47:48.150Z"
   },
   {
    "duration": 31,
    "start_time": "2023-03-16T03:47:56.505Z"
   },
   {
    "duration": 109,
    "start_time": "2023-03-16T03:49:09.117Z"
   },
   {
    "duration": 165,
    "start_time": "2023-03-16T03:49:17.343Z"
   },
   {
    "duration": 240,
    "start_time": "2023-03-16T03:49:41.116Z"
   },
   {
    "duration": 252,
    "start_time": "2023-03-16T03:49:43.285Z"
   },
   {
    "duration": 28,
    "start_time": "2023-03-16T03:49:59.724Z"
   },
   {
    "duration": 25,
    "start_time": "2023-03-16T03:50:00.003Z"
   },
   {
    "duration": 21,
    "start_time": "2023-03-16T03:50:02.497Z"
   },
   {
    "duration": 23,
    "start_time": "2023-03-16T03:50:02.896Z"
   },
   {
    "duration": 25,
    "start_time": "2023-03-16T03:50:03.202Z"
   },
   {
    "duration": 8,
    "start_time": "2023-03-16T03:50:07.263Z"
   },
   {
    "duration": 19,
    "start_time": "2023-03-16T03:50:07.745Z"
   },
   {
    "duration": 337,
    "start_time": "2023-03-16T03:50:16.391Z"
   },
   {
    "duration": 174,
    "start_time": "2023-03-16T03:51:42.429Z"
   },
   {
    "duration": 33,
    "start_time": "2023-03-16T03:51:44.899Z"
   },
   {
    "duration": 49,
    "start_time": "2023-03-16T03:52:33.167Z"
   },
   {
    "duration": 660,
    "start_time": "2023-03-16T03:53:24.042Z"
   },
   {
    "duration": 20,
    "start_time": "2023-03-16T03:53:35.822Z"
   },
   {
    "duration": 8,
    "start_time": "2023-03-16T03:53:36.121Z"
   },
   {
    "duration": 134,
    "start_time": "2023-03-16T03:53:42.154Z"
   },
   {
    "duration": 47,
    "start_time": "2023-03-16T03:53:56.067Z"
   },
   {
    "duration": 78,
    "start_time": "2023-03-16T03:54:41.544Z"
   },
   {
    "duration": 539,
    "start_time": "2023-03-16T03:56:50.279Z"
   },
   {
    "duration": 76,
    "start_time": "2023-03-16T03:57:33.433Z"
   },
   {
    "duration": 16,
    "start_time": "2023-03-16T03:58:12.104Z"
   },
   {
    "duration": 81,
    "start_time": "2023-03-16T03:58:16.824Z"
   },
   {
    "duration": 19,
    "start_time": "2023-03-16T03:58:22.799Z"
   },
   {
    "duration": 29,
    "start_time": "2023-03-16T03:59:00.304Z"
   },
   {
    "duration": 19,
    "start_time": "2023-03-16T03:59:04.112Z"
   },
   {
    "duration": 8,
    "start_time": "2023-03-16T03:59:08.043Z"
   },
   {
    "duration": 819,
    "start_time": "2023-03-16T04:00:00.117Z"
   },
   {
    "duration": 11,
    "start_time": "2023-03-16T04:00:24.667Z"
   },
   {
    "duration": 19,
    "start_time": "2023-03-16T04:00:39.267Z"
   },
   {
    "duration": 31,
    "start_time": "2023-03-16T04:05:45.986Z"
   },
   {
    "duration": 27,
    "start_time": "2023-03-16T04:05:50.665Z"
   },
   {
    "duration": 53,
    "start_time": "2023-03-16T04:06:06.706Z"
   },
   {
    "duration": 11297,
    "start_time": "2023-03-21T14:35:27.252Z"
   },
   {
    "duration": 3486,
    "start_time": "2023-03-21T14:35:38.551Z"
   },
   {
    "duration": 177,
    "start_time": "2023-03-21T14:35:42.039Z"
   },
   {
    "duration": 8,
    "start_time": "2023-03-21T14:35:42.218Z"
   },
   {
    "duration": 400,
    "start_time": "2023-03-21T14:35:42.228Z"
   },
   {
    "duration": 110,
    "start_time": "2023-03-21T14:36:03.306Z"
   },
   {
    "duration": 236,
    "start_time": "2023-03-21T14:37:26.989Z"
   },
   {
    "duration": 105,
    "start_time": "2023-03-21T14:37:37.531Z"
   },
   {
    "duration": 7,
    "start_time": "2023-03-21T14:38:06.320Z"
   },
   {
    "duration": 431,
    "start_time": "2023-03-21T14:38:31.547Z"
   },
   {
    "duration": 1025,
    "start_time": "2023-03-21T14:38:58.386Z"
   },
   {
    "duration": 48,
    "start_time": "2023-03-21T14:40:03.583Z"
   },
   {
    "duration": 139,
    "start_time": "2023-03-21T14:40:04.543Z"
   },
   {
    "duration": 2507,
    "start_time": "2023-03-21T14:40:19.660Z"
   },
   {
    "duration": 922,
    "start_time": "2023-03-21T14:40:22.170Z"
   },
   {
    "duration": 160,
    "start_time": "2023-03-21T14:40:23.095Z"
   },
   {
    "duration": 7,
    "start_time": "2023-03-21T14:40:23.258Z"
   },
   {
    "duration": 35,
    "start_time": "2023-03-21T14:40:23.288Z"
   },
   {
    "duration": 123,
    "start_time": "2023-03-21T14:40:23.324Z"
   },
   {
    "duration": 176,
    "start_time": "2023-03-21T14:40:23.449Z"
   },
   {
    "duration": 349,
    "start_time": "2023-03-21T14:40:23.627Z"
   },
   {
    "duration": 375,
    "start_time": "2023-03-21T14:40:23.978Z"
   },
   {
    "duration": 40,
    "start_time": "2023-03-21T14:40:24.356Z"
   },
   {
    "duration": 37,
    "start_time": "2023-03-21T14:40:24.399Z"
   },
   {
    "duration": 22,
    "start_time": "2023-03-21T14:40:24.438Z"
   },
   {
    "duration": 39,
    "start_time": "2023-03-21T14:40:24.488Z"
   },
   {
    "duration": 26,
    "start_time": "2023-03-21T14:40:24.529Z"
   },
   {
    "duration": 8,
    "start_time": "2023-03-21T14:40:24.556Z"
   },
   {
    "duration": 28,
    "start_time": "2023-03-21T14:40:24.589Z"
   },
   {
    "duration": 306,
    "start_time": "2023-03-21T14:40:24.619Z"
   },
   {
    "duration": 40,
    "start_time": "2023-03-21T14:40:24.926Z"
   },
   {
    "duration": 617,
    "start_time": "2023-03-21T14:40:32.458Z"
   },
   {
    "duration": 63,
    "start_time": "2023-03-21T14:44:06.381Z"
   },
   {
    "duration": 606,
    "start_time": "2023-03-21T14:44:26.559Z"
   },
   {
    "duration": 20,
    "start_time": "2023-03-21T14:44:34.763Z"
   },
   {
    "duration": 23,
    "start_time": "2023-03-21T14:44:35.580Z"
   },
   {
    "duration": 190,
    "start_time": "2023-03-21T14:44:40.214Z"
   },
   {
    "duration": 39,
    "start_time": "2023-03-21T14:48:33.214Z"
   },
   {
    "duration": 43,
    "start_time": "2023-03-21T14:52:08.124Z"
   },
   {
    "duration": 279,
    "start_time": "2023-03-21T14:52:17.627Z"
   },
   {
    "duration": 51,
    "start_time": "2023-03-21T14:54:08.345Z"
   },
   {
    "duration": 9,
    "start_time": "2023-03-21T14:56:22.761Z"
   },
   {
    "duration": 183,
    "start_time": "2023-03-21T14:56:28.138Z"
   },
   {
    "duration": 38,
    "start_time": "2023-03-21T14:56:31.815Z"
   },
   {
    "duration": 556,
    "start_time": "2023-03-21T14:57:03.615Z"
   },
   {
    "duration": 6,
    "start_time": "2023-03-21T16:19:47.634Z"
   },
   {
    "duration": 9,
    "start_time": "2023-03-21T16:19:55.806Z"
   },
   {
    "duration": 42,
    "start_time": "2023-03-21T16:20:30.821Z"
   },
   {
    "duration": 2385,
    "start_time": "2023-03-21T16:20:55.632Z"
   },
   {
    "duration": 914,
    "start_time": "2023-03-21T16:20:58.019Z"
   },
   {
    "duration": 211,
    "start_time": "2023-03-21T16:20:58.936Z"
   },
   {
    "duration": 6,
    "start_time": "2023-03-21T16:20:59.150Z"
   },
   {
    "duration": 3,
    "start_time": "2023-03-21T16:20:59.158Z"
   },
   {
    "duration": 179,
    "start_time": "2023-03-21T16:20:59.163Z"
   },
   {
    "duration": 128,
    "start_time": "2023-03-21T16:20:59.344Z"
   },
   {
    "duration": 504,
    "start_time": "2023-03-21T16:20:59.474Z"
   },
   {
    "duration": 534,
    "start_time": "2023-03-21T16:20:59.987Z"
   },
   {
    "duration": 24,
    "start_time": "2023-03-21T16:21:00.526Z"
   },
   {
    "duration": 66,
    "start_time": "2023-03-21T16:21:00.552Z"
   },
   {
    "duration": 21,
    "start_time": "2023-03-21T16:21:00.623Z"
   },
   {
    "duration": 40,
    "start_time": "2023-03-21T16:21:00.646Z"
   },
   {
    "duration": 62,
    "start_time": "2023-03-21T16:21:00.687Z"
   },
   {
    "duration": 23,
    "start_time": "2023-03-21T16:21:00.751Z"
   },
   {
    "duration": 44,
    "start_time": "2023-03-21T16:21:00.776Z"
   },
   {
    "duration": 255,
    "start_time": "2023-03-21T16:21:00.822Z"
   },
   {
    "duration": 75,
    "start_time": "2023-03-21T16:21:01.078Z"
   },
   {
    "duration": 669,
    "start_time": "2023-03-21T16:21:01.155Z"
   },
   {
    "duration": 91,
    "start_time": "2023-03-21T16:21:01.826Z"
   },
   {
    "duration": 601,
    "start_time": "2023-03-21T16:21:01.920Z"
   },
   {
    "duration": 21,
    "start_time": "2023-03-21T16:21:02.524Z"
   },
   {
    "duration": 17,
    "start_time": "2023-03-21T16:21:02.547Z"
   },
   {
    "duration": 291,
    "start_time": "2023-03-21T16:21:02.567Z"
   },
   {
    "duration": 80,
    "start_time": "2023-03-21T16:21:02.860Z"
   },
   {
    "duration": 22,
    "start_time": "2023-03-21T16:21:02.942Z"
   },
   {
    "duration": 435,
    "start_time": "2023-03-21T16:21:02.966Z"
   },
   {
    "duration": 273,
    "start_time": "2023-03-21T16:21:03.405Z"
   },
   {
    "duration": 247,
    "start_time": "2023-03-21T16:21:03.680Z"
   },
   {
    "duration": 672,
    "start_time": "2023-03-21T16:21:03.929Z"
   },
   {
    "duration": 453,
    "start_time": "2023-03-21T16:21:04.604Z"
   },
   {
    "duration": 18,
    "start_time": "2023-03-21T16:21:05.058Z"
   },
   {
    "duration": 0,
    "start_time": "2023-03-21T16:21:05.078Z"
   },
   {
    "duration": 9,
    "start_time": "2023-03-21T16:21:09.730Z"
   },
   {
    "duration": 28,
    "start_time": "2023-03-21T16:21:11.317Z"
   },
   {
    "duration": 27,
    "start_time": "2023-03-21T16:21:46.537Z"
   },
   {
    "duration": 18,
    "start_time": "2023-03-21T16:21:52.648Z"
   },
   {
    "duration": 37,
    "start_time": "2023-03-21T16:22:03.515Z"
   },
   {
    "duration": 27,
    "start_time": "2023-03-21T16:22:11.516Z"
   },
   {
    "duration": 9,
    "start_time": "2023-03-21T16:24:56.568Z"
   },
   {
    "duration": 15,
    "start_time": "2023-03-21T16:25:30.181Z"
   },
   {
    "duration": 40,
    "start_time": "2023-03-21T16:26:53.488Z"
   },
   {
    "duration": 8,
    "start_time": "2023-03-21T16:27:27.392Z"
   },
   {
    "duration": 39,
    "start_time": "2023-03-21T16:27:38.053Z"
   },
   {
    "duration": 10,
    "start_time": "2023-03-21T16:27:49.568Z"
   },
   {
    "duration": 16,
    "start_time": "2023-03-21T16:31:16.049Z"
   },
   {
    "duration": 22,
    "start_time": "2023-03-21T16:31:34.328Z"
   },
   {
    "duration": 35,
    "start_time": "2023-03-21T16:32:14.126Z"
   },
   {
    "duration": 13,
    "start_time": "2023-03-21T16:32:20.957Z"
   },
   {
    "duration": 10,
    "start_time": "2023-03-21T16:32:36.143Z"
   },
   {
    "duration": 30,
    "start_time": "2023-03-21T16:37:20.138Z"
   },
   {
    "duration": 22,
    "start_time": "2023-03-21T16:38:32.928Z"
   },
   {
    "duration": 13,
    "start_time": "2023-03-21T16:41:16.413Z"
   },
   {
    "duration": 3614,
    "start_time": "2023-03-21T16:42:25.341Z"
   },
   {
    "duration": 912,
    "start_time": "2023-03-21T16:42:28.958Z"
   },
   {
    "duration": 214,
    "start_time": "2023-03-21T16:42:29.872Z"
   },
   {
    "duration": 14,
    "start_time": "2023-03-21T16:42:30.093Z"
   },
   {
    "duration": 10,
    "start_time": "2023-03-21T16:42:30.112Z"
   },
   {
    "duration": 198,
    "start_time": "2023-03-21T16:42:30.127Z"
   },
   {
    "duration": 155,
    "start_time": "2023-03-21T16:42:30.328Z"
   },
   {
    "duration": 554,
    "start_time": "2023-03-21T16:42:30.485Z"
   },
   {
    "duration": 560,
    "start_time": "2023-03-21T16:42:31.040Z"
   },
   {
    "duration": 31,
    "start_time": "2023-03-21T16:42:31.606Z"
   },
   {
    "duration": 271,
    "start_time": "2023-03-21T16:42:31.639Z"
   },
   {
    "duration": 26,
    "start_time": "2023-03-21T16:42:31.916Z"
   },
   {
    "duration": 90,
    "start_time": "2023-03-21T16:42:31.944Z"
   },
   {
    "duration": 24,
    "start_time": "2023-03-21T16:42:32.038Z"
   },
   {
    "duration": 43,
    "start_time": "2023-03-21T16:42:32.064Z"
   },
   {
    "duration": 36,
    "start_time": "2023-03-21T16:42:32.108Z"
   },
   {
    "duration": 234,
    "start_time": "2023-03-21T16:42:32.146Z"
   },
   {
    "duration": 74,
    "start_time": "2023-03-21T16:42:32.382Z"
   },
   {
    "duration": 667,
    "start_time": "2023-03-21T16:42:32.458Z"
   },
   {
    "duration": 66,
    "start_time": "2023-03-21T16:42:33.127Z"
   },
   {
    "duration": 569,
    "start_time": "2023-03-21T16:42:33.195Z"
   },
   {
    "duration": 43,
    "start_time": "2023-03-21T16:42:33.766Z"
   },
   {
    "duration": 16,
    "start_time": "2023-03-21T16:42:33.810Z"
   },
   {
    "duration": 126,
    "start_time": "2023-03-21T16:42:33.827Z"
   },
   {
    "duration": 68,
    "start_time": "2023-03-21T16:42:33.955Z"
   },
   {
    "duration": 23,
    "start_time": "2023-03-21T16:42:34.025Z"
   },
   {
    "duration": 500,
    "start_time": "2023-03-21T16:42:34.049Z"
   },
   {
    "duration": 290,
    "start_time": "2023-03-21T16:42:34.551Z"
   },
   {
    "duration": 221,
    "start_time": "2023-03-21T16:42:34.843Z"
   },
   {
    "duration": 720,
    "start_time": "2023-03-21T16:42:35.066Z"
   },
   {
    "duration": 504,
    "start_time": "2023-03-21T16:42:35.790Z"
   },
   {
    "duration": 9,
    "start_time": "2023-03-21T16:42:36.301Z"
   },
   {
    "duration": 30,
    "start_time": "2023-03-21T16:42:36.311Z"
   },
   {
    "duration": 15,
    "start_time": "2023-03-21T16:42:36.342Z"
   },
   {
    "duration": 9,
    "start_time": "2023-03-21T16:42:36.359Z"
   },
   {
    "duration": 55,
    "start_time": "2023-03-21T16:42:36.370Z"
   },
   {
    "duration": 17,
    "start_time": "2023-03-21T16:43:29.142Z"
   },
   {
    "duration": 85,
    "start_time": "2023-03-21T16:43:29.718Z"
   },
   {
    "duration": 36,
    "start_time": "2023-03-21T16:43:36.088Z"
   },
   {
    "duration": 17,
    "start_time": "2023-03-21T16:43:58.634Z"
   },
   {
    "duration": 8,
    "start_time": "2023-03-21T16:43:59.416Z"
   },
   {
    "duration": 657,
    "start_time": "2023-03-21T16:44:05.704Z"
   },
   {
    "duration": 8,
    "start_time": "2023-03-21T16:44:10.325Z"
   },
   {
    "duration": 3,
    "start_time": "2023-03-21T16:44:13.036Z"
   },
   {
    "duration": 4,
    "start_time": "2023-03-21T16:45:51.316Z"
   },
   {
    "duration": 126,
    "start_time": "2023-03-21T16:46:07.132Z"
   },
   {
    "duration": 13,
    "start_time": "2023-03-21T16:47:18.047Z"
   },
   {
    "duration": 11,
    "start_time": "2023-03-21T16:47:51.123Z"
   },
   {
    "duration": 10,
    "start_time": "2023-03-21T16:47:52.265Z"
   },
   {
    "duration": 8757,
    "start_time": "2023-03-21T18:31:14.588Z"
   },
   {
    "duration": 3095,
    "start_time": "2023-03-21T18:31:23.347Z"
   },
   {
    "duration": 117,
    "start_time": "2023-03-21T18:31:26.443Z"
   },
   {
    "duration": 6,
    "start_time": "2023-03-21T18:31:26.563Z"
   },
   {
    "duration": 3,
    "start_time": "2023-03-21T18:31:26.571Z"
   },
   {
    "duration": 130,
    "start_time": "2023-03-21T18:31:26.576Z"
   },
   {
    "duration": 137,
    "start_time": "2023-03-21T18:31:26.707Z"
   },
   {
    "duration": 474,
    "start_time": "2023-03-21T18:31:26.846Z"
   },
   {
    "duration": 512,
    "start_time": "2023-03-21T18:31:27.323Z"
   },
   {
    "duration": 26,
    "start_time": "2023-03-21T18:31:27.845Z"
   },
   {
    "duration": 23,
    "start_time": "2023-03-21T18:31:27.873Z"
   },
   {
    "duration": 32,
    "start_time": "2023-03-21T18:31:27.898Z"
   },
   {
    "duration": 34,
    "start_time": "2023-03-21T18:31:27.932Z"
   },
   {
    "duration": 23,
    "start_time": "2023-03-21T18:31:27.967Z"
   },
   {
    "duration": 7,
    "start_time": "2023-03-21T18:31:27.991Z"
   },
   {
    "duration": 34,
    "start_time": "2023-03-21T18:31:27.999Z"
   },
   {
    "duration": 259,
    "start_time": "2023-03-21T18:31:28.035Z"
   },
   {
    "duration": 74,
    "start_time": "2023-03-21T18:31:28.296Z"
   },
   {
    "duration": 571,
    "start_time": "2023-03-21T18:31:28.372Z"
   },
   {
    "duration": 56,
    "start_time": "2023-03-21T18:31:28.944Z"
   },
   {
    "duration": 556,
    "start_time": "2023-03-21T18:31:29.002Z"
   },
   {
    "duration": 18,
    "start_time": "2023-03-21T18:31:29.560Z"
   },
   {
    "duration": 8,
    "start_time": "2023-03-21T18:31:29.580Z"
   },
   {
    "duration": 172,
    "start_time": "2023-03-21T18:31:29.590Z"
   },
   {
    "duration": 67,
    "start_time": "2023-03-21T18:31:29.764Z"
   },
   {
    "duration": 24,
    "start_time": "2023-03-21T18:31:29.832Z"
   },
   {
    "duration": 471,
    "start_time": "2023-03-21T18:31:29.857Z"
   },
   {
    "duration": 303,
    "start_time": "2023-03-21T18:31:30.332Z"
   },
   {
    "duration": 286,
    "start_time": "2023-03-21T18:31:30.637Z"
   },
   {
    "duration": 600,
    "start_time": "2023-03-21T18:31:30.925Z"
   },
   {
    "duration": 478,
    "start_time": "2023-03-21T18:31:31.527Z"
   },
   {
    "duration": 20,
    "start_time": "2023-03-21T18:31:32.007Z"
   },
   {
    "duration": 55,
    "start_time": "2023-03-21T18:31:32.030Z"
   },
   {
    "duration": 18,
    "start_time": "2023-03-21T18:31:32.087Z"
   },
   {
    "duration": 23,
    "start_time": "2023-03-21T18:31:32.107Z"
   },
   {
    "duration": 38,
    "start_time": "2023-03-21T18:31:32.132Z"
   },
   {
    "duration": 14,
    "start_time": "2023-03-21T18:31:32.172Z"
   },
   {
    "duration": 77,
    "start_time": "2023-03-21T18:31:32.188Z"
   },
   {
    "duration": 25,
    "start_time": "2023-03-21T18:31:32.268Z"
   },
   {
    "duration": 28,
    "start_time": "2023-03-21T18:31:32.296Z"
   },
   {
    "duration": 21,
    "start_time": "2023-03-21T18:31:32.326Z"
   },
   {
    "duration": 587,
    "start_time": "2023-03-21T18:31:32.349Z"
   },
   {
    "duration": 9,
    "start_time": "2023-03-21T18:31:32.938Z"
   },
   {
    "duration": 6,
    "start_time": "2023-03-21T18:31:32.949Z"
   },
   {
    "duration": 6,
    "start_time": "2023-03-21T18:31:32.958Z"
   },
   {
    "duration": 128,
    "start_time": "2023-03-21T18:31:32.965Z"
   },
   {
    "duration": 12,
    "start_time": "2023-03-21T18:34:08.427Z"
   },
   {
    "duration": 10,
    "start_time": "2023-03-21T18:39:10.946Z"
   },
   {
    "duration": 4,
    "start_time": "2023-03-21T18:40:47.391Z"
   },
   {
    "duration": 11,
    "start_time": "2023-03-21T18:40:48.507Z"
   },
   {
    "duration": 3282,
    "start_time": "2023-03-21T18:40:59.247Z"
   },
   {
    "duration": 826,
    "start_time": "2023-03-21T18:41:02.531Z"
   },
   {
    "duration": 112,
    "start_time": "2023-03-21T18:41:03.358Z"
   },
   {
    "duration": 6,
    "start_time": "2023-03-21T18:41:03.472Z"
   },
   {
    "duration": 4,
    "start_time": "2023-03-21T18:41:03.480Z"
   },
   {
    "duration": 118,
    "start_time": "2023-03-21T18:41:03.485Z"
   },
   {
    "duration": 119,
    "start_time": "2023-03-21T18:41:03.605Z"
   },
   {
    "duration": 453,
    "start_time": "2023-03-21T18:41:03.726Z"
   },
   {
    "duration": 494,
    "start_time": "2023-03-21T18:41:04.181Z"
   },
   {
    "duration": 21,
    "start_time": "2023-03-21T18:41:04.677Z"
   },
   {
    "duration": 47,
    "start_time": "2023-03-21T18:41:04.700Z"
   },
   {
    "duration": 30,
    "start_time": "2023-03-21T18:41:04.749Z"
   },
   {
    "duration": 46,
    "start_time": "2023-03-21T18:41:04.782Z"
   },
   {
    "duration": 23,
    "start_time": "2023-03-21T18:41:04.830Z"
   },
   {
    "duration": 6,
    "start_time": "2023-03-21T18:41:04.854Z"
   },
   {
    "duration": 18,
    "start_time": "2023-03-21T18:41:04.861Z"
   },
   {
    "duration": 264,
    "start_time": "2023-03-21T18:41:04.881Z"
   },
   {
    "duration": 63,
    "start_time": "2023-03-21T18:41:05.147Z"
   },
   {
    "duration": 545,
    "start_time": "2023-03-21T18:41:05.224Z"
   },
   {
    "duration": 62,
    "start_time": "2023-03-21T18:41:05.770Z"
   },
   {
    "duration": 539,
    "start_time": "2023-03-21T18:41:05.834Z"
   },
   {
    "duration": 17,
    "start_time": "2023-03-21T18:41:06.375Z"
   },
   {
    "duration": 8,
    "start_time": "2023-03-21T18:41:06.394Z"
   },
   {
    "duration": 121,
    "start_time": "2023-03-21T18:41:06.422Z"
   },
   {
    "duration": 53,
    "start_time": "2023-03-21T18:41:06.545Z"
   },
   {
    "duration": 35,
    "start_time": "2023-03-21T18:41:06.600Z"
   },
   {
    "duration": 473,
    "start_time": "2023-03-21T18:41:06.637Z"
   },
   {
    "duration": 254,
    "start_time": "2023-03-21T18:41:07.112Z"
   },
   {
    "duration": 196,
    "start_time": "2023-03-21T18:41:07.367Z"
   },
   {
    "duration": 583,
    "start_time": "2023-03-21T18:41:07.565Z"
   },
   {
    "duration": 492,
    "start_time": "2023-03-21T18:41:08.149Z"
   },
   {
    "duration": 6,
    "start_time": "2023-03-21T18:41:08.642Z"
   },
   {
    "duration": 22,
    "start_time": "2023-03-21T18:41:08.650Z"
   },
   {
    "duration": 15,
    "start_time": "2023-03-21T18:41:08.674Z"
   },
   {
    "duration": 49,
    "start_time": "2023-03-21T18:41:08.691Z"
   },
   {
    "duration": 29,
    "start_time": "2023-03-21T18:41:08.743Z"
   },
   {
    "duration": 15,
    "start_time": "2023-03-21T18:41:08.773Z"
   },
   {
    "duration": 78,
    "start_time": "2023-03-21T18:41:08.790Z"
   },
   {
    "duration": 27,
    "start_time": "2023-03-21T18:41:08.870Z"
   },
   {
    "duration": 29,
    "start_time": "2023-03-21T18:41:08.899Z"
   },
   {
    "duration": 8,
    "start_time": "2023-03-21T18:41:08.932Z"
   },
   {
    "duration": 547,
    "start_time": "2023-03-21T18:41:08.942Z"
   },
   {
    "duration": 8,
    "start_time": "2023-03-21T18:41:09.490Z"
   },
   {
    "duration": 3,
    "start_time": "2023-03-21T18:41:09.500Z"
   },
   {
    "duration": 19,
    "start_time": "2023-03-21T18:41:09.504Z"
   },
   {
    "duration": 121,
    "start_time": "2023-03-21T18:41:09.525Z"
   },
   {
    "duration": 8814,
    "start_time": "2023-03-22T09:18:45.921Z"
   },
   {
    "duration": 3023,
    "start_time": "2023-03-22T09:18:54.737Z"
   },
   {
    "duration": 121,
    "start_time": "2023-03-22T09:18:57.762Z"
   },
   {
    "duration": 18,
    "start_time": "2023-03-22T09:18:57.885Z"
   },
   {
    "duration": 2,
    "start_time": "2023-03-22T09:18:57.906Z"
   },
   {
    "duration": 198,
    "start_time": "2023-03-22T09:18:57.910Z"
   },
   {
    "duration": 145,
    "start_time": "2023-03-22T09:18:58.110Z"
   },
   {
    "duration": 574,
    "start_time": "2023-03-22T09:18:58.258Z"
   },
   {
    "duration": 542,
    "start_time": "2023-03-22T09:18:58.835Z"
   },
   {
    "duration": 29,
    "start_time": "2023-03-22T09:18:59.379Z"
   },
   {
    "duration": 53,
    "start_time": "2023-03-22T09:18:59.410Z"
   },
   {
    "duration": 23,
    "start_time": "2023-03-22T09:18:59.464Z"
   },
   {
    "duration": 30,
    "start_time": "2023-03-22T09:18:59.490Z"
   },
   {
    "duration": 34,
    "start_time": "2023-03-22T09:18:59.524Z"
   },
   {
    "duration": 9,
    "start_time": "2023-03-22T09:18:59.560Z"
   },
   {
    "duration": 50,
    "start_time": "2023-03-22T09:18:59.571Z"
   },
   {
    "duration": 258,
    "start_time": "2023-03-22T09:18:59.623Z"
   },
   {
    "duration": 69,
    "start_time": "2023-03-22T09:18:59.883Z"
   },
   {
    "duration": 572,
    "start_time": "2023-03-22T09:18:59.953Z"
   },
   {
    "duration": 55,
    "start_time": "2023-03-22T09:19:00.526Z"
   },
   {
    "duration": 607,
    "start_time": "2023-03-22T09:19:00.582Z"
   },
   {
    "duration": 22,
    "start_time": "2023-03-22T09:19:01.191Z"
   },
   {
    "duration": 8,
    "start_time": "2023-03-22T09:19:01.215Z"
   },
   {
    "duration": 156,
    "start_time": "2023-03-22T09:19:01.226Z"
   },
   {
    "duration": 66,
    "start_time": "2023-03-22T09:19:01.385Z"
   },
   {
    "duration": 23,
    "start_time": "2023-03-22T09:19:01.453Z"
   },
   {
    "duration": 534,
    "start_time": "2023-03-22T09:19:01.478Z"
   },
   {
    "duration": 294,
    "start_time": "2023-03-22T09:19:02.014Z"
   },
   {
    "duration": 212,
    "start_time": "2023-03-22T09:19:02.310Z"
   },
   {
    "duration": 612,
    "start_time": "2023-03-22T09:19:02.524Z"
   },
   {
    "duration": 480,
    "start_time": "2023-03-22T09:19:03.138Z"
   },
   {
    "duration": 8,
    "start_time": "2023-03-22T09:19:03.620Z"
   },
   {
    "duration": 34,
    "start_time": "2023-03-22T09:19:03.630Z"
   },
   {
    "duration": 38,
    "start_time": "2023-03-22T09:19:03.666Z"
   },
   {
    "duration": 10,
    "start_time": "2023-03-22T09:19:03.706Z"
   },
   {
    "duration": 23,
    "start_time": "2023-03-22T09:19:03.718Z"
   },
   {
    "duration": 14,
    "start_time": "2023-03-22T09:19:03.743Z"
   },
   {
    "duration": 100,
    "start_time": "2023-03-22T09:19:03.759Z"
   },
   {
    "duration": 26,
    "start_time": "2023-03-22T09:19:03.861Z"
   },
   {
    "duration": 27,
    "start_time": "2023-03-22T09:19:03.888Z"
   },
   {
    "duration": 18,
    "start_time": "2023-03-22T09:19:03.920Z"
   },
   {
    "duration": 608,
    "start_time": "2023-03-22T09:19:03.940Z"
   },
   {
    "duration": 9,
    "start_time": "2023-03-22T09:19:04.550Z"
   },
   {
    "duration": 4,
    "start_time": "2023-03-22T09:19:04.560Z"
   },
   {
    "duration": 7,
    "start_time": "2023-03-22T09:19:04.566Z"
   },
   {
    "duration": 145587,
    "start_time": "2023-03-22T09:20:43.263Z"
   },
   {
    "duration": 10,
    "start_time": "2023-03-22T09:25:42.472Z"
   },
   {
    "duration": 388152,
    "start_time": "2023-03-22T09:28:09.266Z"
   },
   {
    "duration": 79,
    "start_time": "2023-03-22T09:38:53.939Z"
   },
   {
    "duration": 3756,
    "start_time": "2023-03-22T09:39:59.887Z"
   },
   {
    "duration": 843,
    "start_time": "2023-03-22T09:40:03.645Z"
   },
   {
    "duration": 128,
    "start_time": "2023-03-22T09:40:04.490Z"
   },
   {
    "duration": 6,
    "start_time": "2023-03-22T09:40:04.620Z"
   },
   {
    "duration": 4,
    "start_time": "2023-03-22T09:40:04.629Z"
   },
   {
    "duration": 143,
    "start_time": "2023-03-22T09:40:04.635Z"
   },
   {
    "duration": 126,
    "start_time": "2023-03-22T09:40:04.779Z"
   },
   {
    "duration": 505,
    "start_time": "2023-03-22T09:40:04.907Z"
   },
   {
    "duration": 517,
    "start_time": "2023-03-22T09:40:05.414Z"
   },
   {
    "duration": 27,
    "start_time": "2023-03-22T09:40:05.933Z"
   },
   {
    "duration": 41,
    "start_time": "2023-03-22T09:40:05.963Z"
   },
   {
    "duration": 30,
    "start_time": "2023-03-22T09:40:06.007Z"
   },
   {
    "duration": 31,
    "start_time": "2023-03-22T09:40:06.038Z"
   },
   {
    "duration": 58,
    "start_time": "2023-03-22T09:40:06.073Z"
   },
   {
    "duration": 8,
    "start_time": "2023-03-22T09:40:06.133Z"
   },
   {
    "duration": 25,
    "start_time": "2023-03-22T09:40:06.142Z"
   },
   {
    "duration": 295,
    "start_time": "2023-03-22T09:40:06.169Z"
   },
   {
    "duration": 71,
    "start_time": "2023-03-22T09:40:06.466Z"
   },
   {
    "duration": 588,
    "start_time": "2023-03-22T09:40:06.539Z"
   },
   {
    "duration": 55,
    "start_time": "2023-03-22T09:40:07.129Z"
   },
   {
    "duration": 601,
    "start_time": "2023-03-22T09:40:07.186Z"
   },
   {
    "duration": 32,
    "start_time": "2023-03-22T09:40:07.789Z"
   },
   {
    "duration": 10,
    "start_time": "2023-03-22T09:40:07.823Z"
   },
   {
    "duration": 142,
    "start_time": "2023-03-22T09:40:07.835Z"
   },
   {
    "duration": 67,
    "start_time": "2023-03-22T09:40:07.979Z"
   },
   {
    "duration": 28,
    "start_time": "2023-03-22T09:40:08.048Z"
   },
   {
    "duration": 500,
    "start_time": "2023-03-22T09:40:08.078Z"
   },
   {
    "duration": 274,
    "start_time": "2023-03-22T09:40:08.579Z"
   },
   {
    "duration": 214,
    "start_time": "2023-03-22T09:40:08.854Z"
   },
   {
    "duration": 621,
    "start_time": "2023-03-22T09:40:09.070Z"
   },
   {
    "duration": 510,
    "start_time": "2023-03-22T09:40:09.693Z"
   },
   {
    "duration": 6,
    "start_time": "2023-03-22T09:40:10.205Z"
   },
   {
    "duration": 25,
    "start_time": "2023-03-22T09:40:10.212Z"
   },
   {
    "duration": 21,
    "start_time": "2023-03-22T09:40:10.239Z"
   },
   {
    "duration": 11,
    "start_time": "2023-03-22T09:40:10.262Z"
   },
   {
    "duration": 25,
    "start_time": "2023-03-22T09:40:10.307Z"
   },
   {
    "duration": 15,
    "start_time": "2023-03-22T09:40:10.334Z"
   },
   {
    "duration": 83,
    "start_time": "2023-03-22T09:40:10.351Z"
   },
   {
    "duration": 26,
    "start_time": "2023-03-22T09:40:10.436Z"
   },
   {
    "duration": 20,
    "start_time": "2023-03-22T09:40:10.464Z"
   },
   {
    "duration": 9,
    "start_time": "2023-03-22T09:40:10.502Z"
   },
   {
    "duration": 605,
    "start_time": "2023-03-22T09:40:10.512Z"
   },
   {
    "duration": 8,
    "start_time": "2023-03-22T09:40:11.120Z"
   },
   {
    "duration": 4,
    "start_time": "2023-03-22T09:40:11.130Z"
   },
   {
    "duration": 8,
    "start_time": "2023-03-22T09:40:11.135Z"
   },
   {
    "duration": 8,
    "start_time": "2023-03-22T09:40:11.145Z"
   },
   {
    "duration": 4,
    "start_time": "2023-03-22T09:40:17.839Z"
   },
   {
    "duration": 123,
    "start_time": "2023-03-22T09:40:44.174Z"
   },
   {
    "duration": 397237,
    "start_time": "2023-03-22T09:42:18.980Z"
   },
   {
    "duration": 4,
    "start_time": "2023-03-22T09:49:09.777Z"
   },
   {
    "duration": 20,
    "start_time": "2023-03-22T09:50:05.023Z"
   },
   {
    "duration": 11,
    "start_time": "2023-03-22T09:50:21.540Z"
   },
   {
    "duration": 17,
    "start_time": "2023-03-22T09:50:26.234Z"
   },
   {
    "duration": 3,
    "start_time": "2023-03-22T09:51:08.831Z"
   },
   {
    "duration": 9,
    "start_time": "2023-03-22T09:59:12.656Z"
   },
   {
    "duration": 59440,
    "start_time": "2023-03-22T09:59:13.820Z"
   },
   {
    "duration": 19440,
    "start_time": "2023-03-22T10:00:22.457Z"
   },
   {
    "duration": 225,
    "start_time": "2023-03-22T10:00:55.176Z"
   },
   {
    "duration": 1286805,
    "start_time": "2023-03-22T10:10:02.878Z"
   },
   {
    "duration": 3611,
    "start_time": "2023-03-22T10:37:02.508Z"
   },
   {
    "duration": 819,
    "start_time": "2023-03-22T10:37:06.121Z"
   },
   {
    "duration": 127,
    "start_time": "2023-03-22T10:37:06.942Z"
   },
   {
    "duration": 7,
    "start_time": "2023-03-22T10:37:07.070Z"
   },
   {
    "duration": 3,
    "start_time": "2023-03-22T10:37:07.102Z"
   },
   {
    "duration": 148,
    "start_time": "2023-03-22T10:37:07.107Z"
   },
   {
    "duration": 114,
    "start_time": "2023-03-22T10:37:07.257Z"
   },
   {
    "duration": 496,
    "start_time": "2023-03-22T10:37:07.373Z"
   },
   {
    "duration": 502,
    "start_time": "2023-03-22T10:37:07.871Z"
   },
   {
    "duration": 33,
    "start_time": "2023-03-22T10:37:08.375Z"
   },
   {
    "duration": 26,
    "start_time": "2023-03-22T10:37:08.410Z"
   },
   {
    "duration": 23,
    "start_time": "2023-03-22T10:37:08.438Z"
   },
   {
    "duration": 44,
    "start_time": "2023-03-22T10:37:08.463Z"
   },
   {
    "duration": 24,
    "start_time": "2023-03-22T10:37:08.511Z"
   },
   {
    "duration": 7,
    "start_time": "2023-03-22T10:37:08.536Z"
   },
   {
    "duration": 21,
    "start_time": "2023-03-22T10:37:08.545Z"
   },
   {
    "duration": 315,
    "start_time": "2023-03-22T10:37:08.568Z"
   },
   {
    "duration": 68,
    "start_time": "2023-03-22T10:37:08.885Z"
   },
   {
    "duration": 558,
    "start_time": "2023-03-22T10:37:08.955Z"
   },
   {
    "duration": 55,
    "start_time": "2023-03-22T10:37:09.515Z"
   },
   {
    "duration": 592,
    "start_time": "2023-03-22T10:37:09.572Z"
   },
   {
    "duration": 18,
    "start_time": "2023-03-22T10:37:10.166Z"
   },
   {
    "duration": 22,
    "start_time": "2023-03-22T10:37:10.185Z"
   },
   {
    "duration": 131,
    "start_time": "2023-03-22T10:37:10.209Z"
   },
   {
    "duration": 62,
    "start_time": "2023-03-22T10:37:10.342Z"
   },
   {
    "duration": 23,
    "start_time": "2023-03-22T10:37:10.406Z"
   },
   {
    "duration": 478,
    "start_time": "2023-03-22T10:37:10.431Z"
   },
   {
    "duration": 282,
    "start_time": "2023-03-22T10:37:10.912Z"
   },
   {
    "duration": 212,
    "start_time": "2023-03-22T10:37:11.197Z"
   },
   {
    "duration": 665,
    "start_time": "2023-03-22T10:37:11.411Z"
   },
   {
    "duration": 480,
    "start_time": "2023-03-22T10:37:12.079Z"
   },
   {
    "duration": 8,
    "start_time": "2023-03-22T10:37:12.561Z"
   },
   {
    "duration": 50,
    "start_time": "2023-03-22T10:37:12.571Z"
   },
   {
    "duration": 16,
    "start_time": "2023-03-22T10:37:12.623Z"
   },
   {
    "duration": 10,
    "start_time": "2023-03-22T10:37:12.641Z"
   },
   {
    "duration": 52,
    "start_time": "2023-03-22T10:37:12.653Z"
   },
   {
    "duration": 14,
    "start_time": "2023-03-22T10:37:12.707Z"
   },
   {
    "duration": 80,
    "start_time": "2023-03-22T10:37:12.723Z"
   },
   {
    "duration": 25,
    "start_time": "2023-03-22T10:37:12.805Z"
   },
   {
    "duration": 17,
    "start_time": "2023-03-22T10:37:12.832Z"
   },
   {
    "duration": 7,
    "start_time": "2023-03-22T10:37:12.853Z"
   },
   {
    "duration": 610,
    "start_time": "2023-03-22T10:37:12.862Z"
   },
   {
    "duration": 8,
    "start_time": "2023-03-22T10:37:13.474Z"
   },
   {
    "duration": 19,
    "start_time": "2023-03-22T10:37:13.484Z"
   },
   {
    "duration": 5,
    "start_time": "2023-03-22T10:37:13.505Z"
   },
   {
    "duration": 377997,
    "start_time": "2023-03-22T10:37:13.511Z"
   },
   {
    "duration": 5,
    "start_time": "2023-03-22T10:43:31.510Z"
   },
   {
    "duration": 187,
    "start_time": "2023-03-22T10:43:31.517Z"
   },
   {
    "duration": 62,
    "start_time": "2023-03-22T10:43:31.706Z"
   },
   {
    "duration": 59395,
    "start_time": "2023-03-22T10:43:31.770Z"
   },
   {
    "duration": 20183,
    "start_time": "2023-03-22T10:44:31.167Z"
   },
   {
    "duration": 203,
    "start_time": "2023-03-22T10:44:51.352Z"
   },
   {
    "duration": 5045530,
    "start_time": "2023-03-22T10:44:51.557Z"
   },
   {
    "duration": 188156,
    "start_time": "2023-03-22T12:08:57.089Z"
   },
   {
    "duration": 1934,
    "start_time": "2023-03-22T12:14:25.251Z"
   },
   {
    "duration": 10537698,
    "start_time": "2023-03-22T12:16:58.511Z"
   },
   {
    "duration": 486782,
    "start_time": "2023-03-22T15:19:33.229Z"
   },
   {
    "duration": 2628,
    "start_time": "2023-03-22T15:36:08.220Z"
   },
   {
    "duration": 1044,
    "start_time": "2023-03-22T16:05:10.161Z"
   }
  ],
  "colab": {
   "provenance": []
  },
  "kernelspec": {
   "display_name": "Python 3 (ipykernel)",
   "language": "python",
   "name": "python3"
  },
  "language_info": {
   "codemirror_mode": {
    "name": "ipython",
    "version": 3
   },
   "file_extension": ".py",
   "mimetype": "text/x-python",
   "name": "python",
   "nbconvert_exporter": "python",
   "pygments_lexer": "ipython3",
   "version": "3.9.5"
  },
  "toc": {
   "base_numbering": 1,
   "nav_menu": {},
   "number_sections": true,
   "sideBar": true,
   "skip_h1_title": true,
   "title_cell": "Table of Contents",
   "title_sidebar": "Contents",
   "toc_cell": false,
   "toc_position": {},
   "toc_section_display": true,
   "toc_window_display": true
  }
 },
 "nbformat": 4,
 "nbformat_minor": 1
}
